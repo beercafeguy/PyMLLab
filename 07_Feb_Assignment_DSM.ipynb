{
  "nbformat": 4,
  "nbformat_minor": 0,
  "metadata": {
    "colab": {
      "provenance": [],
      "authorship_tag": "ABX9TyNa+TF7B8jSmxDKpn2qVxwW",
      "include_colab_link": true
    },
    "kernelspec": {
      "name": "python3",
      "display_name": "Python 3"
    },
    "language_info": {
      "name": "python"
    }
  },
  "cells": [
    {
      "cell_type": "markdown",
      "metadata": {
        "id": "view-in-github",
        "colab_type": "text"
      },
      "source": [
        "<a href=\"https://colab.research.google.com/github/beercafeguy/PyMLLab/blob/master/07_Feb_Assignment_DSM.ipynb\" target=\"_parent\"><img src=\"https://colab.research.google.com/assets/colab-badge.svg\" alt=\"Open In Colab\"/></a>"
      ]
    },
    {
      "cell_type": "markdown",
      "source": [
        "Q1. You are writing code for a company. The requirement of the company is that you create a python\n",
        "function that will check whether the password entered by the user is correct or not. The function should\n",
        "take the password as input and return the string “Valid Password” if the entered password follows the\n",
        "below-given password guidelines else it should return “Invalid Password”.\n",
        "<br>\n",
        "Note: <br>\n",
        "1. The Password should contain at least two uppercase letters and at least two lowercase letters.\n",
        "2. The Password should contain at least a number and three special characters.\n",
        "3. The length of the password should be 10 characters long."
      ],
      "metadata": {
        "id": "1hexSCz6NdwH"
      }
    },
    {
      "cell_type": "code",
      "execution_count": 18,
      "metadata": {
        "colab": {
          "base_uri": "https://localhost:8080/"
        },
        "id": "Rceq30oBNYle",
        "outputId": "14624932-3dba-4084-ef06-6879e10b41d1"
      },
      "outputs": [
        {
          "output_type": "stream",
          "name": "stdout",
          "text": [
            "True\n",
            "False\n",
            "False\n",
            "False\n",
            "True\n"
          ]
        }
      ],
      "source": [
        "import re\n",
        "\n",
        "def is_password_valid(ip_password):\n",
        "\n",
        "  pass_length = False\n",
        "  pass_case = False\n",
        "  pass_num = False\n",
        "  pass_special_char = False\n",
        "\n",
        "  regex_sp_chars = re.compile('[@_!#$%^&*()<>?/\\|}{~:]') # assuming this as final set of special chars\n",
        "\n",
        "  if len(ip_password) == 10:\n",
        "    pass_length =True\n",
        "  \n",
        "  if len(re.findall('[A-Z]', ip_password)) >= 2 and len(re.findall('[a-z]', ip_password)) >=2:\n",
        "    pass_case = True\n",
        "  \n",
        "  if len(re.findall('[0-9]', ip_password)) >= 1:\n",
        "    pass_num = True\n",
        "\n",
        "  if len(re.findall(regex_sp_chars, ip_password)) >= 3:\n",
        "    pass_special_char = True\n",
        "  \n",
        "  return pass_length and pass_case and pass_num and pass_special_char\n",
        "\n",
        "print(is_password_valid(\"HemC@@@123\"))\n",
        "print(is_password_valid(\"HemC@?123\"))\n",
        "print(is_password_valid(\"HemC@?#$\"))\n",
        "print(is_password_valid(\"Hem@?#$34\"))\n",
        "print(is_password_valid(\"HemP@?#$34\"))"
      ]
    },
    {
      "cell_type": "markdown",
      "source": [
        "Q2. Solve the below-given questions using at least one of the following:\n",
        "1. Lambda function\n",
        "2. Filter function\n",
        "3. Map function\n",
        "4. List Comprehension\n",
        "\n",
        "\n",
        "<br>Check if the string starts with a particular letterY\n",
        "<br>Check if the string is numericY\n",
        "<br>Sort a list of tuples having fruit names and their quantity. <br>\n",
        "[(\"mango\",99),(\"orange\",80), (\"grapes\", 1000)]\n",
        "<br>Find the squares of numbers from 1 to 10Y\n",
        "<br>Find the cube root of numbers from 1 to 10Y\n",
        "<br>Check if a given number is evenY\n",
        "<br>Filter odd numbers from the given list.\n",
        "<br>[1,2,3,4,5,6,7,8,9,10]\n",
        "<br>Sort a list of integers into positive and negative integers lists.\n",
        "<br>[1,2,3,4,5,6,-1,-2,-3,-4,-5,0]"
      ],
      "metadata": {
        "id": "mtkmlO1gQjyB"
      }
    },
    {
      "cell_type": "code",
      "source": [
        "#Check if the string starts with a particular letterY\n",
        "\n",
        "check_starts_with = lambda x,c: x.startswith(c)\n",
        "print(check_starts_with(\"Hem\",\"H\"))\n",
        "print(check_starts_with(\"Hem\",\"h\"))\n",
        "print(check_starts_with(\"@Hem\",\"@\"))"
      ],
      "metadata": {
        "colab": {
          "base_uri": "https://localhost:8080/"
        },
        "id": "8w6zoMRzOi0y",
        "outputId": "f555857d-5c38-4643-a39b-0a734ebc7a75"
      },
      "execution_count": 22,
      "outputs": [
        {
          "output_type": "stream",
          "name": "stdout",
          "text": [
            "True\n",
            "False\n",
            "True\n"
          ]
        }
      ]
    },
    {
      "cell_type": "code",
      "source": [
        "# Check if the string is numeric\n",
        "is_ip_numeric = lambda x:x.isnumeric()\n",
        "print(is_ip_numeric(\"123\"))\n",
        "print(is_ip_numeric(\"0123\"))\n",
        "print(is_ip_numeric(\"123@\"))"
      ],
      "metadata": {
        "colab": {
          "base_uri": "https://localhost:8080/"
        },
        "id": "wSWnUS_2OmKB",
        "outputId": "2412f716-eae9-4b3b-b04a-0fc0b0a73351"
      },
      "execution_count": 28,
      "outputs": [
        {
          "output_type": "stream",
          "name": "stdout",
          "text": [
            "True\n",
            "True\n",
            "False\n"
          ]
        }
      ]
    },
    {
      "cell_type": "code",
      "source": [
        "# Sort a list of tuples having fruit names and their quantity.\n",
        "# [(\"mango\",99),(\"orange\",80), (\"grapes\", 1000)]\n",
        "# Assuming we need to sort using quantity\n",
        "\n",
        "fruits = [(\"mango\",99),(\"orange\",80), (\"grapes\", 1000)]\n",
        "print(fruits)\n",
        "fruits.sort(key = lambda x:x[1])\n",
        "print(fruits)"
      ],
      "metadata": {
        "colab": {
          "base_uri": "https://localhost:8080/"
        },
        "id": "nj7MCFGLR5qO",
        "outputId": "45578eb2-05d9-4ccd-b132-538dd3f6f519"
      },
      "execution_count": 31,
      "outputs": [
        {
          "output_type": "stream",
          "name": "stdout",
          "text": [
            "[('mango', 99), ('orange', 80), ('grapes', 1000)]\n",
            "[('orange', 80), ('mango', 99), ('grapes', 1000)]\n"
          ]
        }
      ]
    },
    {
      "cell_type": "code",
      "source": [
        "# Find the squares of numbers from 1 to 10\n",
        "\n",
        "squares = [ x ** 2 for x in range(1,11)]\n",
        "print(squares)"
      ],
      "metadata": {
        "colab": {
          "base_uri": "https://localhost:8080/"
        },
        "id": "9b2h6-9hSKNl",
        "outputId": "65a511ff-3fa0-40bb-95de-c6ec6965d819"
      },
      "execution_count": 33,
      "outputs": [
        {
          "output_type": "stream",
          "name": "stdout",
          "text": [
            "[1, 4, 9, 16, 25, 36, 49, 64, 81, 100]\n"
          ]
        }
      ]
    },
    {
      "cell_type": "code",
      "source": [
        "# Find the cube root of numbers from 1 to 10\n",
        "cube_roots = [ x ** (1/3) for x in range(1,11)]\n",
        "print(cube_roots)"
      ],
      "metadata": {
        "colab": {
          "base_uri": "https://localhost:8080/"
        },
        "id": "3LDUINWSSvtQ",
        "outputId": "4f14c4fb-78f3-49a0-b2c8-04e0f183cec2"
      },
      "execution_count": 34,
      "outputs": [
        {
          "output_type": "stream",
          "name": "stdout",
          "text": [
            "[1.0, 1.2599210498948732, 1.4422495703074083, 1.5874010519681994, 1.7099759466766968, 1.8171205928321397, 1.912931182772389, 2.0, 2.080083823051904, 2.154434690031884]\n"
          ]
        }
      ]
    },
    {
      "cell_type": "code",
      "source": [
        "#Check if a given number is evenY\n",
        "is_even = lambda x: True if x%2==0 else False\n",
        "print(is_even(4))\n",
        "print(is_even(55))"
      ],
      "metadata": {
        "colab": {
          "base_uri": "https://localhost:8080/"
        },
        "id": "jve88Q4kcOWZ",
        "outputId": "76ebb9be-4d90-4e56-c8b2-8a05f15bd437"
      },
      "execution_count": 35,
      "outputs": [
        {
          "output_type": "stream",
          "name": "stdout",
          "text": [
            "True\n",
            "False\n"
          ]
        }
      ]
    },
    {
      "cell_type": "code",
      "source": [
        "# Filter odd numbers from the given list.\n",
        "# [1,2,3,4,5,6,7,8,9,10]\n",
        "l = [1,2,3,4,5,6,7,8,9,10]\n",
        "list(filter(lambda x:x%2!=0,l))"
      ],
      "metadata": {
        "colab": {
          "base_uri": "https://localhost:8080/"
        },
        "id": "DfodopEqck_J",
        "outputId": "f260d940-fbc0-4a30-a196-75d83ea26f6f"
      },
      "execution_count": 37,
      "outputs": [
        {
          "output_type": "execute_result",
          "data": {
            "text/plain": [
              "[1, 3, 5, 7, 9]"
            ]
          },
          "metadata": {},
          "execution_count": 37
        }
      ]
    },
    {
      "cell_type": "code",
      "source": [
        "#Sort a list of integers into positive and negative integers lists.\n",
        "#[1,2,3,4,5,6,-1,-2,-3,-4,-5,0]\n",
        "l = [1,2,3,4,5,6,-1,-2,-3,-4,-5,0]\n",
        "l1 = list(filter(lambda x:x<0,l))\n",
        "l1.sort()\n",
        "l2 = list(filter(lambda x:x>=0,l))\n",
        "l2.sort()\n",
        "print(l1)\n",
        "print(l2)"
      ],
      "metadata": {
        "colab": {
          "base_uri": "https://localhost:8080/"
        },
        "id": "CS8-RZxAcz90",
        "outputId": "69f86875-294e-44d4-b7a5-b90eb6f1b742"
      },
      "execution_count": 40,
      "outputs": [
        {
          "output_type": "stream",
          "name": "stdout",
          "text": [
            "[-5, -4, -3, -2, -1]\n",
            "[0, 1, 2, 3, 4, 5, 6]\n"
          ]
        }
      ]
    },
    {
      "cell_type": "code",
      "source": [],
      "metadata": {
        "id": "a9x-1hgbdQ4K"
      },
      "execution_count": null,
      "outputs": []
    }
  ]
}