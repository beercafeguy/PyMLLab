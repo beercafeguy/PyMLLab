{
  "nbformat": 4,
  "nbformat_minor": 0,
  "metadata": {
    "colab": {
      "provenance": [],
      "authorship_tag": "ABX9TyM33IZCfEAzdSnEU3iasVPG",
      "include_colab_link": true
    },
    "kernelspec": {
      "name": "python3",
      "display_name": "Python 3"
    },
    "language_info": {
      "name": "python"
    }
  },
  "cells": [
    {
      "cell_type": "markdown",
      "metadata": {
        "id": "view-in-github",
        "colab_type": "text"
      },
      "source": [
        "<a href=\"https://colab.research.google.com/github/beercafeguy/PyMLLab/blob/master/assignments/02_Mar_AssQ.ipynb\" target=\"_parent\"><img src=\"https://colab.research.google.com/assets/colab-badge.svg\" alt=\"Open In Colab\"/></a>"
      ]
    },
    {
      "cell_type": "markdown",
      "source": [
        "**Q1:** What is Matplotlib? Why is it used? Name five plots that can be plotted using the Pyplot module of\n",
        "Matplotlib."
      ],
      "metadata": {
        "id": "yRSoeq-gwOD-"
      }
    },
    {
      "cell_type": "markdown",
      "source": [
        "**Ans**\n",
        "\n",
        "**Matplotlib**\n",
        "\n",
        "Matplotlib is a python library used for data visualization. Below 5 plots mainly used in matplot lib.\n",
        "1. Line Chart\n",
        "2. scatter plot\n",
        "3. bar chart\n",
        "4. histogram\n",
        "5. pie chart"
      ],
      "metadata": {
        "id": "dd1eZIoEwRQM"
      }
    },
    {
      "cell_type": "markdown",
      "source": [
        "**Q2:** What is a scatter plot? Use the following code to generate data for x and y. Using this generated data\n",
        "plot a scatter plot.\n",
        "<br>\n",
        "import numpy as np <br>\n",
        "np.random.seed(3) <br>\n",
        "x = 3 + np.random.normal(0, 2, 50) <br>\n",
        "y = 3 + np.random.normal(0, 2, len(x)) <br>\n",
        "Note: Also add title, xlabel, and ylabel to the plot. <br>"
      ],
      "metadata": {
        "id": "3uazh4Pmw6z5"
      }
    },
    {
      "cell_type": "markdown",
      "source": [
        "**Ans**\n",
        "\n",
        "Scatter plot is a way to see the relationship between two vectors."
      ],
      "metadata": {
        "id": "bQzBhL6LxYxD"
      }
    },
    {
      "cell_type": "code",
      "execution_count": 4,
      "metadata": {
        "colab": {
          "base_uri": "https://localhost:8080/",
          "height": 295
        },
        "id": "wGW-pHO8v6Ks",
        "outputId": "845768a5-bf14-48bb-a9f3-b3eb3f5382f7"
      },
      "outputs": [
        {
          "output_type": "display_data",
          "data": {
            "text/plain": [
              "<Figure size 432x288 with 1 Axes>"
            ],
            "image/png": "[encoded data removed]"
          },
          "metadata": {
            "needs_background": "light"
          }
        }
      ],
      "source": [
        "import numpy as np\n",
        "import matplotlib.pyplot as plt\n",
        "\n",
        "np.random.seed(3)\n",
        "x = 3 + np.random.normal(0, 2, 50)\n",
        "y = 3 + np.random.normal(0, 2, len(x))\n",
        "\n",
        "plt.scatter(x,y)\n",
        "plt.xlabel('X')\n",
        "plt.ylabel('Y')\n",
        "plt.title('Simple Scatter Plot')\n",
        "plt.show()"
      ]
    },
    {
      "cell_type": "markdown",
      "source": [
        "**Q3:** Why is the subplot() function used? Draw four line plots using the subplot() function. <br>\n",
        "Use the following data: <br>\n",
        "import numpy as np <br>\n",
        "For line 1: x = np.array([0, 1, 2, 3, 4, 5]) and y = np.array([0, 100, 200, 300, 400, 500]) <br>\n",
        "For line 2: x = np.array([0, 1, 2, 3, 4, 5]) and y = np.array([50, 20, 40, 20, 60, 70])<br>\n",
        "For line 3: x = np.array([0, 1, 2, 3, 4, 5]) and y = np.array([10, 20, 30, 40, 50, 60])<br>\n",
        "For line 4: x = np.array([0, 1, 2, 3, 4, 5]) and y = np.array([200, 350, 250, 550, 450, 150])<br>"
      ],
      "metadata": {
        "id": "bcW8Y3oQyAJN"
      }
    },
    {
      "cell_type": "markdown",
      "source": [
        "**Ans**\n",
        "\n",
        "Subplot is a tool to represent multiple graphs together under one umbrella."
      ],
      "metadata": {
        "id": "qivG4hMgyIml"
      }
    },
    {
      "cell_type": "code",
      "source": [
        "import numpy as np\n",
        "import matplotlib.pyplot as plt\n",
        "\n",
        "x = np.array([0, 1, 2, 3, 4, 5]) \n",
        "y = np.array([0, 100, 200, 300, 400, 500])\n",
        "plt.subplot(2, 2, 1)\n",
        "plt.plot(x,y)\n",
        "\n",
        "x = np.array([0, 1, 2, 3, 4, 5]) \n",
        "y = np.array([50, 20, 40, 20, 60, 70])\n",
        "plt.subplot(2, 2, 2)\n",
        "plt.plot(x,y)\n",
        "\n",
        "x = np.array([0, 1, 2, 3, 4, 5])\n",
        "y = np.array([10, 20, 30, 40, 50, 60])\n",
        "plt.subplot(2, 2, 3)\n",
        "plt.plot(x,y)\n",
        "\n",
        "x = np.array([0, 1, 2, 3, 4, 5])\n",
        "y = np.array([200, 350, 250, 550, 450, 150])\n",
        "plt.subplot(2, 2, 4)\n",
        "plt.plot(x,y)"
      ],
      "metadata": {
        "colab": {
          "base_uri": "https://localhost:8080/",
          "height": 282
        },
        "id": "b4PpJDmExQFS",
        "outputId": "565ec1ae-2c82-4c9a-ad52-548db66cb927"
      },
      "execution_count": 8,
      "outputs": [
        {
          "output_type": "execute_result",
          "data": {
            "text/plain": [
              "[<matplotlib.lines.Line2D at 0x7f92dd8a4040>]"
            ]
          },
          "metadata": {},
          "execution_count": 8
        },
        {
          "output_type": "display_data",
          "data": {
            "text/plain": [
              "<Figure size 432x288 with 4 Axes>"
            ],
            "image/png": "[encoded data removed]"
          },
          "metadata": {
            "needs_background": "light"
          }
        }
      ]
    },
    {
      "cell_type": "markdown",
      "source": [
        "**Q4:** What is a bar plot? Why is it used? Using the following data plot a bar plot and a horizontal bar plot. <br>\n",
        "import numpy as np<br>\n",
        "company = np.array([\"Apple\", \"Microsoft\", \"Google\", \"AMD\"])<br>\n",
        "profit = np.array([3000, 8000, 1000, 10000])<br>"
      ],
      "metadata": {
        "id": "8JpNy8v9y5Oz"
      }
    },
    {
      "cell_type": "markdown",
      "source": [
        "**Ans**\n",
        "\n",
        "bar plot is a way to show the value of data for different category using bars."
      ],
      "metadata": {
        "id": "gF7m3gJzy_ER"
      }
    },
    {
      "cell_type": "code",
      "source": [
        "company = np.array([\"Apple\", \"Microsoft\", \"Google\", \"AMD\"])\n",
        "profit = np.array([3000, 8000, 1000, 10000])\n",
        "plt.bar(company,profit,color ='g')\n",
        "plt.xlabel(\"Company Name\")\n",
        "plt.xlabel(\"Profit (USD)\")\n",
        "plt.title(\"Profit Chart\")\n",
        "plt.show()"
      ],
      "metadata": {
        "colab": {
          "base_uri": "https://localhost:8080/",
          "height": 295
        },
        "id": "tV5nOpdGyfAU",
        "outputId": "718db52e-ccc9-495b-a241-16a7c197ac71"
      },
      "execution_count": 16,
      "outputs": [
        {
          "output_type": "display_data",
          "data": {
            "text/plain": [
              "<Figure size 432x288 with 1 Axes>"
            ],
            "image/png": "[encoded data removed]"
          },
          "metadata": {
            "needs_background": "light"
          }
        }
      ]
    },
    {
      "cell_type": "code",
      "source": [
        "company = np.array([\"Apple\", \"Microsoft\", \"Google\", \"AMD\"])\n",
        "profit = np.array([3000, 8000, 1000, 10000])\n",
        "plt.barh(company,profit,color ='#D43AD4')\n",
        "plt.xlabel(\"Company Name\")\n",
        "plt.xlabel(\"Profit (USD)\")\n",
        "plt.title(\"Profit Chart\")\n",
        "plt.show()"
      ],
      "metadata": {
        "colab": {
          "base_uri": "https://localhost:8080/",
          "height": 295
        },
        "id": "SH9auJe4zUFg",
        "outputId": "698713d4-02e0-4b34-9c95-399257fb905d"
      },
      "execution_count": 18,
      "outputs": [
        {
          "output_type": "display_data",
          "data": {
            "text/plain": [
              "<Figure size 432x288 with 1 Axes>"
            ],
            "image/png": "[encoded data removed]"
          },
          "metadata": {
            "needs_background": "light"
          }
        }
      ]
    },
    {
      "cell_type": "markdown",
      "source": [
        "**Q5:** What is a box plot? Why is it used? Using the following data plot a box plot. <br>\n",
        "box1 = np.random.normal(100, 10, 200)<br>\n",
        "box2 = np.random.normal(90, 20, 200)<br>"
      ],
      "metadata": {
        "id": "pV0SdD1G0O1c"
      }
    },
    {
      "cell_type": "markdown",
      "source": [
        "**Ans**\n",
        "\n",
        "Box plot is a visulization tool which is used to see the distribution of data."
      ],
      "metadata": {
        "id": "0mQcvEXb1Kn0"
      }
    },
    {
      "cell_type": "code",
      "source": [
        "box1 = np.random.normal(100, 10, 200)\n",
        "box2 = np.random.normal(90, 20, 200)\n",
        "\n",
        "plt.figure(figsize =(10, 7))\n",
        "plt.subplot(1, 2, 1)\n",
        "plt.boxplot(box1)\n",
        "\n",
        "plt.subplot(1, 2, 2)\n",
        "plt.boxplot(box2)"
      ],
      "metadata": {
        "colab": {
          "base_uri": "https://localhost:8080/",
          "height": 567
        },
        "id": "qcvB3P1L0BTG",
        "outputId": "08fdad35-92d7-4cd3-b1e2-3aa2e44879b6"
      },
      "execution_count": 21,
      "outputs": [
        {
          "output_type": "execute_result",
          "data": {
            "text/plain": [
              "{'whiskers': [<matplotlib.lines.Line2D at 0x7f92dd38da00>,\n",
              "  <matplotlib.lines.Line2D at 0x7f92dd38dcd0>],\n",
              " 'caps': [<matplotlib.lines.Line2D at 0x7f92dd38de80>,\n",
              "  <matplotlib.lines.Line2D at 0x7f92dd39e190>],\n",
              " 'boxes': [<matplotlib.lines.Line2D at 0x7f92dd38d730>],\n",
              " 'medians': [<matplotlib.lines.Line2D at 0x7f92dd39e460>],\n",
              " 'fliers': [<matplotlib.lines.Line2D at 0x7f92dd39e730>],\n",
              " 'means': []}"
            ]
          },
          "metadata": {},
          "execution_count": 21
        },
        {
          "output_type": "display_data",
          "data": {
            "text/plain": [
              "<Figure size 720x504 with 2 Axes>"
            ],
            "image/png": "[encoded data removed]"
          },
          "metadata": {
            "needs_background": "light"
          }
        }
      ]
    },
    {
      "cell_type": "code",
      "source": [],
      "metadata": {
        "id": "mRjcZhJw09nh"
      },
      "execution_count": null,
      "outputs": []
    }
  ]
}