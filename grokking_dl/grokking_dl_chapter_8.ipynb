{
  "nbformat": 4,
  "nbformat_minor": 0,
  "metadata": {
    "colab": {
      "provenance": [],
      "authorship_tag": "ABX9TyNdcRnu5guWgM3efbfB9vPL",
      "include_colab_link": true
    },
    "kernelspec": {
      "name": "python3",
      "display_name": "Python 3"
    },
    "language_info": {
      "name": "python"
    }
  },
  "cells": [
    {
      "cell_type": "markdown",
      "metadata": {
        "id": "view-in-github",
        "colab_type": "text"
      },
      "source": [
        "<a href=\"https://colab.research.google.com/github/beercafeguy/PyMLLab/blob/master/grokking_dl/grokking_dl_chapter_8.ipynb\" target=\"_parent\"><img src=\"https://colab.research.google.com/assets/colab-badge.svg\" alt=\"Open In Colab\"/></a>"
      ]
    },
    {
      "cell_type": "code",
      "execution_count": 1,
      "metadata": {
        "id": "zv6eptVfi3q4"
      },
      "outputs": [],
      "source": [
        "import numpy as np\n",
        "\n",
        "from keras.datasets import mnist"
      ]
    },
    {
      "cell_type": "code",
      "source": [
        "(X_train, y_train) , (X_test, y_test) = mnist.load_data()"
      ],
      "metadata": {
        "colab": {
          "base_uri": "https://localhost:8080/"
        },
        "id": "9_iNC-r9jAt-",
        "outputId": "685cf45c-debb-4fc6-cdd3-aa9a98ee5d78"
      },
      "execution_count": 2,
      "outputs": [
        {
          "output_type": "stream",
          "name": "stdout",
          "text": [
            "Downloading data from https://storage.googleapis.com/tensorflow/tf-keras-datasets/mnist.npz\n",
            "11490434/11490434 [==============================] - 1s 0us/step\n"
          ]
        }
      ]
    },
    {
      "cell_type": "code",
      "source": [
        "!ls -ltr"
      ],
      "metadata": {
        "colab": {
          "base_uri": "https://localhost:8080/"
        },
        "id": "OmNyw-vejJuY",
        "outputId": "a13b755c-6f4c-41a0-9696-51a66e2ceb0d"
      },
      "execution_count": 3,
      "outputs": [
        {
          "output_type": "stream",
          "name": "stdout",
          "text": [
            "total 4\n",
            "drwxr-xr-x 1 root root 4096 Feb 13 14:23 sample_data\n"
          ]
        }
      ]
    },
    {
      "cell_type": "code",
      "source": [
        "images, labels = (X_train[0:1000].reshape(1000,28*28) / 255, y_train[0:1000])"
      ],
      "metadata": {
        "id": "Sg5NBcyXjL9l"
      },
      "execution_count": 6,
      "outputs": []
    },
    {
      "cell_type": "code",
      "source": [
        "one_hot_labels = np.zeros((len(labels),10))"
      ],
      "metadata": {
        "id": "0RAPln5Gjdze"
      },
      "execution_count": 7,
      "outputs": []
    },
    {
      "cell_type": "code",
      "source": [
        "for i,l in enumerate(labels): one_hot_labels[i][l] = 1\n",
        "labels = one_hot_labels"
      ],
      "metadata": {
        "id": "ZIc4FYSljpy9"
      },
      "execution_count": 8,
      "outputs": []
    },
    {
      "cell_type": "code",
      "source": [
        "labels"
      ],
      "metadata": {
        "colab": {
          "base_uri": "https://localhost:8080/"
        },
        "id": "1kdNUyTqjsms",
        "outputId": "7ee22a9b-d29a-4a56-95f9-02efb6809b3e"
      },
      "execution_count": 9,
      "outputs": [
        {
          "output_type": "execute_result",
          "data": {
            "text/plain": [
              "array([[0., 0., 0., ..., 0., 0., 0.],\n",
              "       [1., 0., 0., ..., 0., 0., 0.],\n",
              "       [0., 0., 0., ..., 0., 0., 0.],\n",
              "       ...,\n",
              "       [1., 0., 0., ..., 0., 0., 0.],\n",
              "       [0., 0., 0., ..., 0., 0., 0.],\n",
              "       [0., 0., 0., ..., 0., 0., 0.]])"
            ]
          },
          "metadata": {},
          "execution_count": 9
        }
      ]
    },
    {
      "cell_type": "code",
      "source": [
        "images"
      ],
      "metadata": {
        "colab": {
          "base_uri": "https://localhost:8080/"
        },
        "id": "SB6AiKHAjtex",
        "outputId": "bd5e825f-a388-4650-bc38-baa8ac867569"
      },
      "execution_count": 10,
      "outputs": [
        {
          "output_type": "execute_result",
          "data": {
            "text/plain": [
              "array([[0., 0., 0., ..., 0., 0., 0.],\n",
              "       [0., 0., 0., ..., 0., 0., 0.],\n",
              "       [0., 0., 0., ..., 0., 0., 0.],\n",
              "       ...,\n",
              "       [0., 0., 0., ..., 0., 0., 0.],\n",
              "       [0., 0., 0., ..., 0., 0., 0.],\n",
              "       [0., 0., 0., ..., 0., 0., 0.]])"
            ]
          },
          "metadata": {},
          "execution_count": 10
        }
      ]
    },
    {
      "cell_type": "code",
      "source": [
        "test_images = X_test.reshape(len(X_test),28*28) / 255\n",
        "test_labels = np.zeros((len(y_test),10))\n",
        "for i,l in enumerate(y_test):\n",
        "  test_labels[i][l] = 1\n",
        "\n",
        "np.random.seed(2024)"
      ],
      "metadata": {
        "id": "vMry2ZYfjwqo"
      },
      "execution_count": 11,
      "outputs": []
    },
    {
      "cell_type": "code",
      "source": [
        "relu = lambda x : (x > 0) * x\n",
        "relu2deriv = lambda x: x>=0"
      ],
      "metadata": {
        "id": "uGsdxT8Cj9Wj"
      },
      "execution_count": 17,
      "outputs": []
    },
    {
      "cell_type": "code",
      "source": [
        "alpha, iterations, hidden_size, pixels_per_image, num_labels = (0.005, 350, 40, 784, 10)"
      ],
      "metadata": {
        "id": "3hxpo4likChZ"
      },
      "execution_count": 13,
      "outputs": []
    },
    {
      "cell_type": "code",
      "source": [
        "weights_0_1 = 0.2*np.random.random((pixels_per_image,hidden_size)) - 0.1\n",
        "weights_1_2 = 0.2*np.random.random((hidden_size,num_labels)) - 0.1"
      ],
      "metadata": {
        "id": "3hbtddzvkL6H"
      },
      "execution_count": 14,
      "outputs": []
    },
    {
      "cell_type": "code",
      "source": [
        "import sys\n",
        "for j in range(iterations):\n",
        "  error, correct_cnt = (0.0, 0)\n",
        "  for i in range(len(images)):\n",
        "    layer_0 = images[i:i+1]\n",
        "\n",
        "    dropout_mask = np.random.randint(2,size=layer_1.shape)\n",
        "    layer_1 = relu(np.dot(layer_0,weights_0_1))\n",
        "    layer_1 *= dropout_mask * 2\n",
        "\n",
        "    layer_2 = np.dot(layer_1,weights_1_2)\n",
        "    error += np.sum((labels[i:i+1] - layer_2) ** 2)\n",
        "    correct_cnt += int(np.argmax(layer_2) == np.argmax(labels[i:i+1]))\n",
        "    layer_2_delta = (labels[i:i+1] - layer_2)\n",
        "    layer_1_delta = layer_2_delta.dot(weights_1_2.T) * relu2deriv(layer_1)\n",
        "    layer_1_delta *= dropout_mask\n",
        "    weights_1_2 += alpha * layer_1.T.dot(layer_2_delta)\n",
        "    weights_0_1 += alpha * layer_0.T.dot(layer_1_delta)\n",
        "    sys.stdout.write(\"\\r\"+\n",
        "    \" I:\"+str(j)+ \\\n",
        "    \" Error:\" + str(error/float(len(images)))[0:5] + \" Correct:\" + str(correct_cnt/float(len(images))))"
      ],
      "metadata": {
        "colab": {
          "base_uri": "https://localhost:8080/"
        },
        "id": "i9BBR4WlkOz4",
        "outputId": "b0f5f46b-041e-4748-ba67-d3370bfde872"
      },
      "execution_count": 20,
      "outputs": [
        {
          "output_type": "stream",
          "name": "stdout",
          "text": [
            " I:349 Error:0.346 Correct:0.87"
          ]
        }
      ]
    },
    {
      "cell_type": "code",
      "source": [
        "#testing on actual data\n",
        "\n",
        "if(j % 10 == 0 or j == iterations-1):\n",
        "  error, correct_cnt = (0.0, 0)\n",
        "  for i in range(len(test_images)):\n",
        "    layer_0 = test_images[i:i+1]\n",
        "    layer_1 = relu(np.dot(layer_0,weights_0_1))\n",
        "    layer_2 = np.dot(layer_1,weights_1_2)\n",
        "    error += np.sum((test_labels[i:i+1] - layer_2) ** 2)\n",
        "    correct_cnt += int(np.argmax(layer_2) == np.argmax(test_labels[i:i+1]))\n",
        "  sys.stdout.write(\" Test-Err:\" + str(error/float(len(test_images)))[0:5] + \" Test-Acc:\" + str(correct_cnt/float(len(test_images))))\n",
        "  print()"
      ],
      "metadata": {
        "colab": {
          "base_uri": "https://localhost:8080/"
        },
        "id": "CaJc4pwYksGS",
        "outputId": "4462cc55-a922-403d-84cb-42c5a240daa0"
      },
      "execution_count": 21,
      "outputs": [
        {
          "output_type": "stream",
          "name": "stdout",
          "text": [
            " Test-Err:0.432 Test-Acc:0.7948\n"
          ]
        }
      ]
    },
    {
      "cell_type": "code",
      "source": [
        "# train the same network with mini batch gradient descent\n",
        "\n",
        "relu = lambda x : (x > 0) * x\n",
        "relu2deriv = lambda x: x>=0\n",
        "\n",
        "\n",
        "batch_size = 100\n",
        "alpha, iterations = (0.001, 300)\n",
        "pixels_per_image, num_labels, hidden_size = (784, 10, 100)\n",
        "\n",
        "weights_0_1 = 0.2*np.random.random((pixels_per_image,hidden_size)) - 0.1\n",
        "weights_1_2 = 0.2*np.random.random((hidden_size,num_labels)) - 0.1\n",
        "\n",
        "\n",
        "for j in range(iterations):\n",
        "  error, correct_cnt = (0.0, 0)\n",
        "  for i in range(int(len(images) / batch_size)):\n",
        "    batch_start, batch_end = ((i * batch_size),((i+1)*batch_size))\n",
        "    layer_0 = images[batch_start:batch_end]\n",
        "    layer_1 = relu(np.dot(layer_0,weights_0_1))\n",
        "\n",
        "    dropout_mask = np.random.randint(2,size=layer_1.shape)\n",
        "    layer_1 *= dropout_mask * 2\n",
        "    layer_2 = np.dot(layer_1,weights_1_2)\n",
        "\n",
        "    error += np.sum((labels[batch_start:batch_end] - layer_2) ** 2)\n",
        "    for k in range(batch_size):\n",
        "      correct_cnt += int(np.argmax(layer_2[k:k+1]) == np.argmax(labels[batch_start+k:batch_start+k+1]))\n",
        "      layer_2_delta = (labels[batch_start:batch_end]-layer_2) /batch_size\n",
        "      layer_1_delta = layer_2_delta.dot(weights_1_2.T)* relu2deriv(layer_1)\n",
        "      layer_1_delta *= dropout_mask\n",
        "      weights_1_2 += alpha * layer_1.T.dot(layer_2_delta)\n",
        "      weights_0_1 += alpha * layer_0.T.dot(layer_1_delta)\n",
        "    sys.stdout.write(\"\\r\"+\n",
        "    \" I:\"+str(j)+ \\\n",
        "    \" Error:\" + str(error/float(len(images)))[0:5] + \" Correct:\" + str(correct_cnt/float(len(images))))\n",
        "  if(j%10 == 0):\n",
        "    test_error = 0.0\n",
        "    test_correct_cnt = 0\n",
        "    for i in range(len(test_images)):\n",
        "      layer_0 = test_images[i:i+1]\n",
        "      layer_1 = relu(np.dot(layer_0,weights_0_1))\n",
        "      layer_2 = np.dot(layer_1, weights_1_2)\n"
      ],
      "metadata": {
        "colab": {
          "base_uri": "https://localhost:8080/"
        },
        "id": "ro99i1ibmCqF",
        "outputId": "9af530f2-82d1-4500-9256-28f4ec42682b"
      },
      "execution_count": null,
      "outputs": [
        {
          "output_type": "stream",
          "name": "stdout",
          "text": [
            " I:158 Error:0.154 Correct:0.343"
          ]
        }
      ]
    },
    {
      "cell_type": "code",
      "source": [],
      "metadata": {
        "id": "10M2bKT-rm2K"
      },
      "execution_count": null,
      "outputs": []
    }
  ]
}