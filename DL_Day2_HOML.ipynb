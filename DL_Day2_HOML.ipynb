{
  "nbformat": 4,
  "nbformat_minor": 0,
  "metadata": {
    "colab": {
      "provenance": [],
      "authorship_tag": "ABX9TyP4eRY+InPsEVsKjy7YN08+",
      "include_colab_link": true
    },
    "kernelspec": {
      "name": "python3",
      "display_name": "Python 3"
    },
    "language_info": {
      "name": "python"
    }
  },
  "cells": [
    {
      "cell_type": "markdown",
      "metadata": {
        "id": "view-in-github",
        "colab_type": "text"
      },
      "source": [
        "<a href=\"https://colab.research.google.com/github/beercafeguy/PyMLLab/blob/master/DL_Day2_HOML.ipynb\" target=\"_parent\"><img src=\"https://colab.research.google.com/assets/colab-badge.svg\" alt=\"Open In Colab\"/></a>"
      ]
    },
    {
      "cell_type": "markdown",
      "source": [
        "# Wide and deep network"
      ],
      "metadata": {
        "id": "_pH3gaSXl05y"
      }
    },
    {
      "cell_type": "code",
      "execution_count": 2,
      "metadata": {
        "id": "AthM7WaGlWPS"
      },
      "outputs": [],
      "source": [
        "import tensorflow as tf\n",
        "from tensorflow import keras\n",
        "\n",
        "\n",
        "import pandas as pd\n",
        "import matplotlib.pyplot as plt\n",
        "\n",
        "import numpy as np\n",
        "\n",
        "\n",
        "from sklearn.datasets import fetch_california_housing\n",
        "from sklearn.model_selection import train_test_split\n",
        "from sklearn.preprocessing import StandardScaler"
      ]
    },
    {
      "cell_type": "code",
      "source": [
        "housing = fetch_california_housing()"
      ],
      "metadata": {
        "id": "LKTohLQAmHck"
      },
      "execution_count": 3,
      "outputs": []
    },
    {
      "cell_type": "code",
      "source": [
        "X_train_full, X_test, y_train_full, y_test = train_test_split(housing.data, housing.target)\n",
        "X_train, X_valid, y_train, y_valid = train_test_split(X_train_full, y_train_full)"
      ],
      "metadata": {
        "id": "QvRfxWITmRAC"
      },
      "execution_count": 4,
      "outputs": []
    },
    {
      "cell_type": "code",
      "source": [
        "scaler = StandardScaler()\n",
        "X_train = scaler.fit_transform(X_train)\n",
        "X_valid = scaler.transform(X_valid)\n",
        "X_test = scaler.transform(X_test)"
      ],
      "metadata": {
        "id": "BB7dQqN9mT0p"
      },
      "execution_count": 5,
      "outputs": []
    },
    {
      "cell_type": "code",
      "source": [
        "X_train.shape[1:]"
      ],
      "metadata": {
        "colab": {
          "base_uri": "https://localhost:8080/"
        },
        "id": "9LSMOPqFmXNJ",
        "outputId": "e9fb5407-8ffc-4ee9-9440-d365488c3f78"
      },
      "execution_count": 8,
      "outputs": [
        {
          "output_type": "execute_result",
          "data": {
            "text/plain": [
              "(8,)"
            ]
          },
          "metadata": {},
          "execution_count": 8
        }
      ]
    },
    {
      "cell_type": "code",
      "source": [
        "# stack layers"
      ],
      "metadata": {
        "id": "T1h0bMSsnKD3"
      },
      "execution_count": 11,
      "outputs": []
    },
    {
      "cell_type": "code",
      "source": [
        "input_layer = keras.layers.Input(shape=X_train.shape[1:])\n",
        "hidden_layer_1 = keras.layers.Dense(30, activation='relu')(input_layer)\n",
        "hidden_layer_2 = keras.layers.Dense(30, activation='relu')(hidden_layer_1)\n",
        "concat_layer = keras.layers.Concatenate()([input_layer,hidden_layer_2])\n",
        "output_layer = keras.layers.Dense(1)(concat_layer)\n",
        "model = keras.Model(inputs = [input_layer], outputs = [output_layer])"
      ],
      "metadata": {
        "id": "IGoCI6yQmBMr"
      },
      "execution_count": 20,
      "outputs": []
    },
    {
      "cell_type": "code",
      "source": [
        "#compile the model\n",
        "model.compile(optimizer=keras.optimizers.SGD(learning_rate=0.001), loss=\"mean_squared_error\")\n"
      ],
      "metadata": {
        "id": "D1PWt51YnFtp"
      },
      "execution_count": 23,
      "outputs": []
    },
    {
      "cell_type": "code",
      "source": [
        "# print the summary\n",
        "model.summary()"
      ],
      "metadata": {
        "colab": {
          "base_uri": "https://localhost:8080/"
        },
        "id": "SscEcjI6nudB",
        "outputId": "328c29ec-a99d-4517-9a47-adcefbab7f27"
      },
      "execution_count": 24,
      "outputs": [
        {
          "output_type": "stream",
          "name": "stdout",
          "text": [
            "Model: \"model_2\"\n",
            "__________________________________________________________________________________________________\n",
            " Layer (type)                Output Shape                 Param #   Connected to                  \n",
            "==================================================================================================\n",
            " input_4 (InputLayer)        [(None, 8)]                  0         []                            \n",
            "                                                                                                  \n",
            " dense_8 (Dense)             (None, 30)                   270       ['input_4[0][0]']             \n",
            "                                                                                                  \n",
            " dense_9 (Dense)             (None, 30)                   930       ['dense_8[0][0]']             \n",
            "                                                                                                  \n",
            " concatenate_3 (Concatenate  (None, 38)                   0         ['input_4[0][0]',             \n",
            " )                                                                   'dense_9[0][0]']             \n",
            "                                                                                                  \n",
            " dense_10 (Dense)            (None, 1)                    39        ['concatenate_3[0][0]']       \n",
            "                                                                                                  \n",
            "==================================================================================================\n",
            "Total params: 1239 (4.84 KB)\n",
            "Trainable params: 1239 (4.84 KB)\n",
            "Non-trainable params: 0 (0.00 Byte)\n",
            "__________________________________________________________________________________________________\n"
          ]
        }
      ]
    },
    {
      "cell_type": "code",
      "source": [
        "# train the model\n",
        "\n",
        "history = model.fit(X_train, y_train,epochs=30, batch_size=32,validation_data=(X_valid,y_valid))"
      ],
      "metadata": {
        "colab": {
          "base_uri": "https://localhost:8080/"
        },
        "id": "PISh213Bn9Rd",
        "outputId": "6bc490ae-41b5-415f-b5ab-5d3fb2b3c90a"
      },
      "execution_count": 27,
      "outputs": [
        {
          "output_type": "stream",
          "name": "stdout",
          "text": [
            "Epoch 1/30\n",
            "363/363 [==============================] - 2s 5ms/step - loss: 0.4155 - val_loss: 0.4481\n",
            "Epoch 2/30\n",
            "363/363 [==============================] - 2s 5ms/step - loss: 0.4134 - val_loss: 0.4463\n",
            "Epoch 3/30\n",
            "363/363 [==============================] - 1s 2ms/step - loss: 0.4114 - val_loss: 0.4440\n",
            "Epoch 4/30\n",
            "363/363 [==============================] - 1s 3ms/step - loss: 0.4093 - val_loss: 0.4420\n",
            "Epoch 5/30\n",
            "363/363 [==============================] - 1s 4ms/step - loss: 0.4071 - val_loss: 0.4420\n",
            "Epoch 6/30\n",
            "363/363 [==============================] - 2s 4ms/step - loss: 0.4054 - val_loss: 0.4416\n",
            "Epoch 7/30\n",
            "363/363 [==============================] - 1s 3ms/step - loss: 0.4035 - val_loss: 0.4386\n",
            "Epoch 8/30\n",
            "363/363 [==============================] - 1s 3ms/step - loss: 0.4017 - val_loss: 0.4377\n",
            "Epoch 9/30\n",
            "363/363 [==============================] - 1s 2ms/step - loss: 0.3999 - val_loss: 0.4340\n",
            "Epoch 10/30\n",
            "363/363 [==============================] - 1s 2ms/step - loss: 0.3983 - val_loss: 0.4333\n",
            "Epoch 11/30\n",
            "363/363 [==============================] - 1s 2ms/step - loss: 0.3964 - val_loss: 0.4313\n",
            "Epoch 12/30\n",
            "363/363 [==============================] - 1s 3ms/step - loss: 0.3948 - val_loss: 0.4312\n",
            "Epoch 13/30\n",
            "363/363 [==============================] - 1s 3ms/step - loss: 0.3933 - val_loss: 0.4293\n",
            "Epoch 14/30\n",
            "363/363 [==============================] - 1s 3ms/step - loss: 0.3918 - val_loss: 0.4271\n",
            "Epoch 15/30\n",
            "363/363 [==============================] - 1s 4ms/step - loss: 0.3902 - val_loss: 0.4265\n",
            "Epoch 16/30\n",
            "363/363 [==============================] - 1s 3ms/step - loss: 0.3890 - val_loss: 0.4250\n",
            "Epoch 17/30\n",
            "363/363 [==============================] - 1s 4ms/step - loss: 0.3874 - val_loss: 0.4242\n",
            "Epoch 18/30\n",
            "363/363 [==============================] - 1s 2ms/step - loss: 0.3862 - val_loss: 0.4230\n",
            "Epoch 19/30\n",
            "363/363 [==============================] - 1s 2ms/step - loss: 0.3850 - val_loss: 0.4218\n",
            "Epoch 20/30\n",
            "363/363 [==============================] - 1s 2ms/step - loss: 0.3838 - val_loss: 0.4203\n",
            "Epoch 21/30\n",
            "363/363 [==============================] - 1s 2ms/step - loss: 0.3824 - val_loss: 0.4223\n",
            "Epoch 22/30\n",
            "363/363 [==============================] - 1s 2ms/step - loss: 0.3812 - val_loss: 0.4178\n",
            "Epoch 23/30\n",
            "363/363 [==============================] - 1s 3ms/step - loss: 0.3804 - val_loss: 0.4169\n",
            "Epoch 24/30\n",
            "363/363 [==============================] - 1s 3ms/step - loss: 0.3793 - val_loss: 0.4176\n",
            "Epoch 25/30\n",
            "363/363 [==============================] - 1s 3ms/step - loss: 0.3782 - val_loss: 0.4163\n",
            "Epoch 26/30\n",
            "363/363 [==============================] - 1s 3ms/step - loss: 0.3773 - val_loss: 0.4167\n",
            "Epoch 27/30\n",
            "363/363 [==============================] - 1s 2ms/step - loss: 0.3761 - val_loss: 0.4143\n",
            "Epoch 28/30\n",
            "363/363 [==============================] - 1s 2ms/step - loss: 0.3754 - val_loss: 0.4138\n",
            "Epoch 29/30\n",
            "363/363 [==============================] - 1s 3ms/step - loss: 0.3744 - val_loss: 0.4123\n",
            "Epoch 30/30\n",
            "363/363 [==============================] - 2s 5ms/step - loss: 0.3734 - val_loss: 0.4123\n"
          ]
        }
      ]
    },
    {
      "cell_type": "code",
      "source": [
        "history_pd = pd.DataFrame(history.history)\n",
        "\n",
        "history_pd.plot(kind='line',figsize=(8,5))\n",
        "plt.grid=True\n",
        "plt.gca().set_ylim(0,1)\n",
        "plt.show()"
      ],
      "metadata": {
        "colab": {
          "base_uri": "https://localhost:8080/",
          "height": 451
        },
        "id": "Ahg9J8nqoNfQ",
        "outputId": "ce16ee40-4434-43ed-cbbb-34db2fcd8303"
      },
      "execution_count": 31,
      "outputs": [
        {
          "output_type": "display_data",
          "data": {
            "text/plain": [
              "<Figure size 800x500 with 1 Axes>"
            ],
            "image/png": "[encoded data removed]"
          },
          "metadata": {}
        }
      ]
    },
    {
      "cell_type": "markdown",
      "source": [
        "What if we want to sent just a set of features in deep path and rest in wide path (direct)"
      ],
      "metadata": {
        "id": "e-jCDyb6pzaf"
      }
    },
    {
      "cell_type": "code",
      "source": [
        "wide_input_layer = keras.layers.Input(shape=[5], name=\"wide_input\") # 5 features in wide path (0-4)\n",
        "deep_input_layer = keras.layers.Input(shape=[6], name=\"deep_input\") # 6 features in deep path (2-7)\n",
        "hidden_layer_1 = keras.layers.Dense(30, activation='relu')(deep_input_layer)\n",
        "hidden_layer_2 = keras.layers.Dense(30, activation='relu')(hidden_layer_1)\n",
        "concat_layer = keras.layers.Concatenate()([wide_input_layer,hidden_layer_2])\n",
        "output_layer = keras.layers.Dense(1,name=\"output\")(concat_layer)\n",
        "model = keras.Model(inputs = [wide_input_layer,deep_input_layer], outputs = [output_layer])"
      ],
      "metadata": {
        "id": "LLPWD6okpStF"
      },
      "execution_count": 32,
      "outputs": []
    },
    {
      "cell_type": "code",
      "source": [
        "model.summary()"
      ],
      "metadata": {
        "colab": {
          "base_uri": "https://localhost:8080/"
        },
        "id": "p0vcj9kQqcgX",
        "outputId": "56392752-7854-4aee-b137-4a195d8b5381"
      },
      "execution_count": 33,
      "outputs": [
        {
          "output_type": "stream",
          "name": "stdout",
          "text": [
            "Model: \"model_3\"\n",
            "__________________________________________________________________________________________________\n",
            " Layer (type)                Output Shape                 Param #   Connected to                  \n",
            "==================================================================================================\n",
            " deep_input (InputLayer)     [(None, 6)]                  0         []                            \n",
            "                                                                                                  \n",
            " dense_11 (Dense)            (None, 30)                   210       ['deep_input[0][0]']          \n",
            "                                                                                                  \n",
            " wide_input (InputLayer)     [(None, 5)]                  0         []                            \n",
            "                                                                                                  \n",
            " dense_12 (Dense)            (None, 30)                   930       ['dense_11[0][0]']            \n",
            "                                                                                                  \n",
            " concatenate_4 (Concatenate  (None, 35)                   0         ['wide_input[0][0]',          \n",
            " )                                                                   'dense_12[0][0]']            \n",
            "                                                                                                  \n",
            " output (Dense)              (None, 1)                    36        ['concatenate_4[0][0]']       \n",
            "                                                                                                  \n",
            "==================================================================================================\n",
            "Total params: 1176 (4.59 KB)\n",
            "Trainable params: 1176 (4.59 KB)\n",
            "Non-trainable params: 0 (0.00 Byte)\n",
            "__________________________________________________________________________________________________\n"
          ]
        }
      ]
    },
    {
      "cell_type": "code",
      "source": [
        "model.compile(optimizer=keras.optimizers.SGD(learning_rate=0.001), loss=\"mean_squared_error\")"
      ],
      "metadata": {
        "id": "6CNw16FCqe9O"
      },
      "execution_count": 34,
      "outputs": []
    },
    {
      "cell_type": "code",
      "source": [
        "X_train_wide,X_train_deep = X_train[:,:5],X_train[:,2:]\n",
        "X_valid_wide,X_valid_deep = X_valid[:,:5],X_valid[:,2:]\n",
        "X_test_wide,X_test_deep = X_test[:,:5],X_test[:,2:]\n",
        "\n",
        "X_new_wide,X_new_deep = X_test[:3,:5],X_test[:3,2:]"
      ],
      "metadata": {
        "id": "GJJpURq-q8mK"
      },
      "execution_count": 35,
      "outputs": []
    },
    {
      "cell_type": "code",
      "source": [
        "history = model.fit(\n",
        "    (X_train_wide,X_train_deep),\n",
        "    y_train,\n",
        "    epochs=30,\n",
        "    batch_size=32,\n",
        "    validation_data=((X_valid_wide,X_valid_deep),y_valid)\n",
        ")"
      ],
      "metadata": {
        "colab": {
          "base_uri": "https://localhost:8080/"
        },
        "id": "NsH1LAHuq4ji",
        "outputId": "935375cc-cb13-4ef6-e4bd-7c513c4de293"
      },
      "execution_count": 36,
      "outputs": [
        {
          "output_type": "stream",
          "name": "stdout",
          "text": [
            "Epoch 1/30\n",
            "363/363 [==============================] - 3s 6ms/step - loss: 1.8999 - val_loss: 0.9285\n",
            "Epoch 2/30\n",
            "363/363 [==============================] - 2s 6ms/step - loss: 0.7789 - val_loss: 0.7446\n",
            "Epoch 3/30\n",
            "363/363 [==============================] - 2s 5ms/step - loss: 0.6698 - val_loss: 0.6747\n",
            "Epoch 4/30\n",
            "363/363 [==============================] - 1s 3ms/step - loss: 0.6162 - val_loss: 0.6285\n",
            "Epoch 5/30\n",
            "363/363 [==============================] - 1s 3ms/step - loss: 0.5789 - val_loss: 0.5931\n",
            "Epoch 6/30\n",
            "363/363 [==============================] - 1s 2ms/step - loss: 0.5497 - val_loss: 0.5656\n",
            "Epoch 7/30\n",
            "363/363 [==============================] - 1s 3ms/step - loss: 0.5255 - val_loss: 0.5422\n",
            "Epoch 8/30\n",
            "363/363 [==============================] - 1s 4ms/step - loss: 0.5061 - val_loss: 0.5243\n",
            "Epoch 9/30\n",
            "363/363 [==============================] - 1s 4ms/step - loss: 0.4899 - val_loss: 0.5102\n",
            "Epoch 10/30\n",
            "363/363 [==============================] - 1s 4ms/step - loss: 0.4775 - val_loss: 0.4975\n",
            "Epoch 11/30\n",
            "363/363 [==============================] - 2s 5ms/step - loss: 0.4673 - val_loss: 0.4891\n",
            "Epoch 12/30\n",
            "363/363 [==============================] - 2s 6ms/step - loss: 0.4590 - val_loss: 0.4821\n",
            "Epoch 13/30\n",
            "363/363 [==============================] - 1s 4ms/step - loss: 0.4522 - val_loss: 0.4760\n",
            "Epoch 14/30\n",
            "363/363 [==============================] - 1s 4ms/step - loss: 0.4465 - val_loss: 0.4707\n",
            "Epoch 15/30\n",
            "363/363 [==============================] - 1s 3ms/step - loss: 0.4412 - val_loss: 0.4649\n",
            "Epoch 16/30\n",
            "363/363 [==============================] - 1s 3ms/step - loss: 0.4369 - val_loss: 0.4627\n",
            "Epoch 17/30\n",
            "363/363 [==============================] - 1s 3ms/step - loss: 0.4333 - val_loss: 0.4579\n",
            "Epoch 18/30\n",
            "363/363 [==============================] - 2s 5ms/step - loss: 0.4297 - val_loss: 0.4557\n",
            "Epoch 19/30\n",
            "363/363 [==============================] - 1s 4ms/step - loss: 0.4272 - val_loss: 0.4526\n",
            "Epoch 20/30\n",
            "363/363 [==============================] - 1s 4ms/step - loss: 0.4239 - val_loss: 0.4504\n",
            "Epoch 21/30\n",
            "363/363 [==============================] - 2s 5ms/step - loss: 0.4219 - val_loss: 0.4492\n",
            "Epoch 22/30\n",
            "363/363 [==============================] - 2s 5ms/step - loss: 0.4194 - val_loss: 0.4474\n",
            "Epoch 23/30\n",
            "363/363 [==============================] - 2s 4ms/step - loss: 0.4175 - val_loss: 0.4444\n",
            "Epoch 24/30\n",
            "363/363 [==============================] - 1s 3ms/step - loss: 0.4154 - val_loss: 0.4445\n",
            "Epoch 25/30\n",
            "363/363 [==============================] - 1s 2ms/step - loss: 0.4140 - val_loss: 0.4421\n",
            "Epoch 26/30\n",
            "363/363 [==============================] - 1s 3ms/step - loss: 0.4122 - val_loss: 0.4402\n",
            "Epoch 27/30\n",
            "363/363 [==============================] - 1s 3ms/step - loss: 0.4106 - val_loss: 0.4402\n",
            "Epoch 28/30\n",
            "363/363 [==============================] - 1s 4ms/step - loss: 0.4094 - val_loss: 0.4378\n",
            "Epoch 29/30\n",
            "363/363 [==============================] - 1s 4ms/step - loss: 0.4078 - val_loss: 0.4379\n",
            "Epoch 30/30\n",
            "363/363 [==============================] - 2s 6ms/step - loss: 0.4064 - val_loss: 0.4359\n"
          ]
        }
      ]
    },
    {
      "cell_type": "markdown",
      "source": [
        "Note: Here we passed overlapping feature in wide and deep path. Its also possible to just pass separate set of features in both NN branches"
      ],
      "metadata": {
        "id": "ERNvlwMWrsLd"
      }
    },
    {
      "cell_type": "code",
      "source": [
        "mse_test = model.evaluate((X_test_wide,X_test_deep),y_test)\n",
        "mse_test"
      ],
      "metadata": {
        "colab": {
          "base_uri": "https://localhost:8080/"
        },
        "id": "UH9VB7z-roEX",
        "outputId": "bd3823ff-7a5d-4be8-deb0-2033c90608e9"
      },
      "execution_count": 37,
      "outputs": [
        {
          "output_type": "stream",
          "name": "stdout",
          "text": [
            "162/162 [==============================] - 1s 5ms/step - loss: 0.4180\n"
          ]
        },
        {
          "output_type": "execute_result",
          "data": {
            "text/plain": [
              "0.41804710030555725"
            ]
          },
          "metadata": {},
          "execution_count": 37
        }
      ]
    },
    {
      "cell_type": "code",
      "source": [
        "y_pred = model.predict((X_new_wide,X_new_deep))"
      ],
      "metadata": {
        "colab": {
          "base_uri": "https://localhost:8080/"
        },
        "id": "3XVQYmf6r_H4",
        "outputId": "e5b25fe8-ab51-423d-c9f6-2af63fea0b86"
      },
      "execution_count": 40,
      "outputs": [
        {
          "output_type": "stream",
          "name": "stdout",
          "text": [
            "1/1 [==============================] - 0s 56ms/step\n"
          ]
        }
      ]
    },
    {
      "cell_type": "code",
      "source": [
        "y_pred"
      ],
      "metadata": {
        "colab": {
          "base_uri": "https://localhost:8080/"
        },
        "id": "Gvts0LJksG0a",
        "outputId": "06273d36-3bef-4dd2-ee51-a7912e03fdfa"
      },
      "execution_count": 41,
      "outputs": [
        {
          "output_type": "execute_result",
          "data": {
            "text/plain": [
              "array([[2.5200186],\n",
              "       [1.5255933],\n",
              "       [0.6360183]], dtype=float32)"
            ]
          },
          "metadata": {},
          "execution_count": 41
        }
      ]
    },
    {
      "cell_type": "code",
      "source": [],
      "metadata": {
        "id": "zMKbMu17sIP3"
      },
      "execution_count": null,
      "outputs": []
    }
  ]
}