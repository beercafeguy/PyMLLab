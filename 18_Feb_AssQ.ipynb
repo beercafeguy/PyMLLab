{
  "nbformat": 4,
  "nbformat_minor": 0,
  "metadata": {
    "colab": {
      "provenance": [],
      "authorship_tag": "ABX9TyPdjrOuzblfQsOE8PnCP/nT",
      "include_colab_link": true
    },
    "kernelspec": {
      "name": "python3",
      "display_name": "Python 3"
    },
    "language_info": {
      "name": "python"
    }
  },
  "cells": [
    {
      "cell_type": "markdown",
      "metadata": {
        "id": "view-in-github",
        "colab_type": "text"
      },
      "source": [
        "<a href=\"https://colab.research.google.com/github/beercafeguy/PyMLLab/blob/master/18_Feb_AssQ.ipynb\" target=\"_parent\"><img src=\"https://colab.research.google.com/assets/colab-badge.svg\" alt=\"Open In Colab\"/></a>"
      ]
    },
    {
      "cell_type": "markdown",
      "source": [
        "**Q1.** What is an API? Give an example, where an API is used in real life."
      ],
      "metadata": {
        "id": "g5MZ8p9Y-7AY"
      }
    },
    {
      "cell_type": "markdown",
      "source": [
        "**API:** API stands for application programming interface. This is a way to establish a connection between two different application and executing code on other side of the connection. \n",
        "\n",
        "**Example**\n",
        "\n",
        "For example, if we are trying to see the weather details of a location on One Weather App, The actual data of the weather is not available with One Weather. This data is colected and managed by meteorological department of the country. So to get the data for the user, One Weather makes a API call to MD system and MD system internally creates a response based on the location. This response is sent back to one weather system and One Weather system will render the data for user on its App. Here we are able to establish connection between two different applications wo having access to codebase."
      ],
      "metadata": {
        "id": "ljLa-nnR-9Hm"
      }
    },
    {
      "cell_type": "markdown",
      "source": [
        "**Q2.** Give advantages and disadvantages of using API."
      ],
      "metadata": {
        "id": "wrVJYnc3AqK1"
      }
    },
    {
      "cell_type": "markdown",
      "source": [
        "**Ans:**\n",
        "\n",
        "**Advantages**\n",
        "1. Separation of codebase responsibilities\n",
        "2. Easy to add new functionality on either side of the API.\n",
        "3. Easy to start development \n",
        "4. Better documentation\n",
        "\n",
        "**Disadvantages**\n",
        "1. Cost : Generally maintainance cost of APIs is high\n",
        "2. Security : Remote code execution comes with its own security risks\n",
        "3. Client have no control over server side business logic."
      ],
      "metadata": {
        "id": "F0D5qvETB1_3"
      }
    },
    {
      "cell_type": "markdown",
      "source": [
        "**Q3.** What is a Web API? Differentiate between API and Web API."
      ],
      "metadata": {
        "id": "FAqxIAYoC6KH"
      }
    },
    {
      "cell_type": "markdown",
      "source": [
        "**Ans**\n",
        "\n",
        "Web API is a subset of API which are implemented web technologies like HTTP. Web APIs are used to communicate over web between different systems. API is broad catagory of execution other persons code and it also includes offline APIs.\n",
        "\n",
        "**Example:**\n",
        "\n",
        "**Web API**\n",
        "When we try to get the stock price from yahoo finance, we are hitting a web API.\n",
        "\n",
        "**Offline APIs**\n",
        "If we work on an application where we need to read the handwritten data using program, most likely there will be a different OCR (Optical character recognition) team which will build and manager a software for OCR. So as a developer, I need to pass this handwritten data file to OCR and OCR will give me  the text from the file. This might be a offline call within same system without going to Web but we are still executing someone else's code so this is an offline API."
      ],
      "metadata": {
        "id": "E5dG-o92C-qP"
      }
    },
    {
      "cell_type": "markdown",
      "source": [
        "**Q4.** Explain REST and SOAP Architecture. Mention shortcomings of SOAP.\n",
        "\n",
        "**REST**\n",
        "REST (Representational State Transfer) is a API protocal based on HTTP which does not follow strict standards like SOAP but has some basic  constraints definded in HTTP standards. It makes the API development simple and more scalable. There is not strict aggrement between server and client for REST communication.\n",
        "\n",
        "**SOAP**\n",
        "SOAP (Simple Object Access Protocol) is a protocol with supports for different data transfer protocols like TCPIP, SMTP etc. This follows a strict standard setup (based on WSDL) between client and server and mainly uses XML for communication. It has a little slow learning curv but makes sense for high security applications.\n",
        "\n",
        "**Shortcomings of SOAP**\n",
        "\n",
        "1.   API calls can't be cached.\n",
        "2.   Slow learning curve so takes time for developers to master.\n",
        "3.   Required more bandwidth and computing power.\n",
        "4.   Strict standards between client and server so slow change cycles.\n",
        "5.   No support for any format other then XML where as JSON is more popular now.\n",
        "6.   Its makes systems more complex and less flexible.\n",
        "\n"
      ],
      "metadata": {
        "id": "u9fuIYiuC8F-"
      }
    },
    {
      "cell_type": "markdown",
      "source": [
        "**Q5.** Differentiate between REST and SOAP."
      ],
      "metadata": {
        "id": "wEaGeEbpGQmf"
      }
    },
    {
      "cell_type": "markdown",
      "source": [
        "![REST_vs_SOAP.png](data:image/png;base64,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)"
      ],
      "metadata": {
        "id": "YHK18yjjGS1P"
      }
    },
    {
      "cell_type": "code",
      "execution_count": null,
      "metadata": {
        "id": "5N6V4KdJ-4At"
      },
      "outputs": [],
      "source": []
    }
  ]
}