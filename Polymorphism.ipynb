{
  "nbformat": 4,
  "nbformat_minor": 0,
  "metadata": {
    "colab": {
      "provenance": [],
      "authorship_tag": "ABX9TyMC61Ob62lqJ7DH17G6xTcA",
      "include_colab_link": true
    },
    "kernelspec": {
      "name": "python3",
      "display_name": "Python 3"
    },
    "language_info": {
      "name": "python"
    }
  },
  "cells": [
    {
      "cell_type": "markdown",
      "metadata": {
        "id": "view-in-github",
        "colab_type": "text"
      },
      "source": [
        "<a href=\"https://colab.research.google.com/github/beercafeguy/PyMLLab/blob/master/Polymorphism.ipynb\" target=\"_parent\"><img src=\"https://colab.research.google.com/assets/colab-badge.svg\" alt=\"Open In Colab\"/></a>"
      ]
    },
    {
      "cell_type": "code",
      "execution_count": 1,
      "metadata": {
        "id": "WR6FAn61td3z"
      },
      "outputs": [],
      "source": [
        "def test(a,b):\n",
        "  return a+b"
      ]
    },
    {
      "cell_type": "code",
      "source": [
        "test(2,3)"
      ],
      "metadata": {
        "colab": {
          "base_uri": "https://localhost:8080/"
        },
        "id": "Gru5CMKkttHN",
        "outputId": "0cdbf33b-1c24-4364-87c3-946d0bb29d1b"
      },
      "execution_count": 2,
      "outputs": [
        {
          "output_type": "execute_result",
          "data": {
            "text/plain": [
              "5"
            ]
          },
          "metadata": {},
          "execution_count": 2
        }
      ]
    },
    {
      "cell_type": "code",
      "source": [
        "test(\"Hem\",\"Chandra\")"
      ],
      "metadata": {
        "colab": {
          "base_uri": "https://localhost:8080/",
          "height": 35
        },
        "id": "cBDBA1iLturJ",
        "outputId": "9ab6d147-cd9b-4795-d403-1f75234b3140"
      },
      "execution_count": 3,
      "outputs": [
        {
          "output_type": "execute_result",
          "data": {
            "text/plain": [
              "'HemChandra'"
            ],
            "application/vnd.google.colaboratory.intrinsic+json": {
              "type": "string"
            }
          },
          "metadata": {},
          "execution_count": 3
        }
      ]
    },
    {
      "cell_type": "code",
      "source": [
        "test([1,2,3],[4,5,6])"
      ],
      "metadata": {
        "colab": {
          "base_uri": "https://localhost:8080/"
        },
        "id": "ka6EafD_t1oD",
        "outputId": "7bfe51bc-96d7-4ac5-97cf-15f13532be1c"
      },
      "execution_count": 4,
      "outputs": [
        {
          "output_type": "execute_result",
          "data": {
            "text/plain": [
              "[1, 2, 3, 4, 5, 6]"
            ]
          },
          "metadata": {},
          "execution_count": 4
        }
      ]
    },
    {
      "cell_type": "code",
      "source": [
        "class DataScience:\n",
        "\n",
        "  def syllabus(self):\n",
        "    print(\"This is my syllabus for data science\")"
      ],
      "metadata": {
        "id": "_oEu_9R7t7C-"
      },
      "execution_count": 5,
      "outputs": []
    },
    {
      "cell_type": "code",
      "source": [
        "class WebDev:\n",
        "\n",
        "  def syllabus(self):\n",
        "    print(\"This is my syllabus for Web Development\")"
      ],
      "metadata": {
        "id": "O4eD4gX8uE6L"
      },
      "execution_count": 6,
      "outputs": []
    },
    {
      "cell_type": "code",
      "source": [
        "def course_parser(class_objs):\n",
        "\n",
        "  for i in class_objs:\n",
        "    i.syllabus()\n"
      ],
      "metadata": {
        "id": "7IGz8VmWuJmd"
      },
      "execution_count": 7,
      "outputs": []
    },
    {
      "cell_type": "code",
      "source": [
        "ds = DataScience()\n",
        "wd = WebDev()\n",
        "course_parser([ds,wd])"
      ],
      "metadata": {
        "colab": {
          "base_uri": "https://localhost:8080/"
        },
        "id": "BkG3aUlluZwt",
        "outputId": "7cbd618f-9aee-4dca-c91b-1c03a699b0ab"
      },
      "execution_count": 8,
      "outputs": [
        {
          "output_type": "stream",
          "name": "stdout",
          "text": [
            "This is my syllabus for data science\n",
            "This is my syllabus for Web Development\n"
          ]
        }
      ]
    },
    {
      "cell_type": "code",
      "source": [
        "class Car:\n",
        "\n",
        "  def __init__(self,make,model,manufacturer):\n",
        "    self._make = make\n",
        "    self._model = model\n",
        "    self._manufacturer = manufacturer"
      ],
      "metadata": {
        "id": "O6OxITjAujCa"
      },
      "execution_count": 9,
      "outputs": []
    },
    {
      "cell_type": "code",
      "source": [
        "c = Car(2022,\"Tiago\",\"Tata\")"
      ],
      "metadata": {
        "id": "_k1z3CKYwe8l"
      },
      "execution_count": 10,
      "outputs": []
    },
    {
      "cell_type": "code",
      "source": [
        "c._make"
      ],
      "metadata": {
        "colab": {
          "base_uri": "https://localhost:8080/"
        },
        "id": "K2P4RDUZwi7Y",
        "outputId": "98685c1e-cfe0-4fbd-e660-48cc39553200"
      },
      "execution_count": 11,
      "outputs": [
        {
          "output_type": "execute_result",
          "data": {
            "text/plain": [
              "2022"
            ]
          },
          "metadata": {},
          "execution_count": 11
        }
      ]
    },
    {
      "cell_type": "code",
      "source": [
        "class Student:\n",
        "\n",
        "  def __init__(self,name,age,section):\n",
        "    self.__name = name\n",
        "    self.__age = age\n",
        "    self.__section = section\n",
        "\n",
        "  def display(self):\n",
        "\n",
        "    print(self.__name,self.__age,self.__section)\n",
        "\n",
        "s = Student(\"Hem\",23,\"A\")\n",
        "\n",
        "s._Student__name = \"Aman\" # break the \n",
        "\n",
        "s.display()"
      ],
      "metadata": {
        "colab": {
          "base_uri": "https://localhost:8080/"
        },
        "id": "IPvQR91gwk6b",
        "outputId": "7f72b449-d490-4dd0-e066-5f6559907bb3"
      },
      "execution_count": 18,
      "outputs": [
        {
          "output_type": "stream",
          "name": "stdout",
          "text": [
            "Aman 23 A\n"
          ]
        }
      ]
    },
    {
      "cell_type": "code",
      "source": [],
      "metadata": {
        "id": "TLqGZMU-xAY1"
      },
      "execution_count": null,
      "outputs": []
    }
  ]
}