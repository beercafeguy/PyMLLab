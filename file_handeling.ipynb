{
  "nbformat": 4,
  "nbformat_minor": 0,
  "metadata": {
    "colab": {
      "provenance": [],
      "authorship_tag": "ABX9TyNUffTOyVQwO/bTHIRib34k",
      "include_colab_link": true
    },
    "kernelspec": {
      "name": "python3",
      "display_name": "Python 3"
    },
    "language_info": {
      "name": "python"
    }
  },
  "cells": [
    {
      "cell_type": "markdown",
      "metadata": {
        "id": "view-in-github",
        "colab_type": "text"
      },
      "source": [
        "<a href=\"https://colab.research.google.com/github/beercafeguy/PyMLLab/blob/master/file_handeling.ipynb\" target=\"_parent\"><img src=\"https://colab.research.google.com/assets/colab-badge.svg\" alt=\"Open In Colab\"/></a>"
      ]
    },
    {
      "cell_type": "code",
      "execution_count": 1,
      "metadata": {
        "id": "WMFsYMPNWZ8P"
      },
      "outputs": [],
      "source": [
        "f = open(\"test.txt\",\"w\")"
      ]
    },
    {
      "cell_type": "code",
      "source": [
        "!pwd"
      ],
      "metadata": {
        "colab": {
          "base_uri": "https://localhost:8080/"
        },
        "id": "80MvZfMtWf5V",
        "outputId": "e2f2eb4d-3026-4adf-d215-ee80252d3da0"
      },
      "execution_count": 3,
      "outputs": [
        {
          "output_type": "stream",
          "name": "stdout",
          "text": [
            "/content\n"
          ]
        }
      ]
    },
    {
      "cell_type": "code",
      "source": [
        "!ls -ltr"
      ],
      "metadata": {
        "colab": {
          "base_uri": "https://localhost:8080/"
        },
        "id": "jA5nCboxWgVD",
        "outputId": "6efe4842-3b7e-4a93-96a6-b3ad91fe6c52"
      },
      "execution_count": 4,
      "outputs": [
        {
          "output_type": "stream",
          "name": "stdout",
          "text": [
            "total 4\n",
            "drwxr-xr-x 1 root root 4096 Feb 13 14:35 sample_data\n",
            "-rw-r--r-- 1 root root    0 Feb 15 04:34 test.txt\n"
          ]
        }
      ]
    },
    {
      "cell_type": "code",
      "source": [
        "f.write(\"This is my file\")"
      ],
      "metadata": {
        "colab": {
          "base_uri": "https://localhost:8080/"
        },
        "id": "PNrPQg8IWvGh",
        "outputId": "04873d41-5f9e-46f8-fe51-5de7fca9c082"
      },
      "execution_count": 6,
      "outputs": [
        {
          "output_type": "execute_result",
          "data": {
            "text/plain": [
              "15"
            ]
          },
          "metadata": {},
          "execution_count": 6
        }
      ]
    },
    {
      "cell_type": "code",
      "source": [
        "f.close()"
      ],
      "metadata": {
        "id": "YzTda7-mW29G"
      },
      "execution_count": 7,
      "outputs": []
    },
    {
      "cell_type": "code",
      "source": [
        "!cat test.txt"
      ],
      "metadata": {
        "colab": {
          "base_uri": "https://localhost:8080/"
        },
        "id": "qNs7_DAvXN84",
        "outputId": "e0e2bcec-add7-469a-ebfa-e95a5e955569"
      },
      "execution_count": 8,
      "outputs": [
        {
          "output_type": "stream",
          "name": "stdout",
          "text": [
            "This is my file"
          ]
        }
      ]
    },
    {
      "cell_type": "code",
      "source": [
        "!wc -l test.txt"
      ],
      "metadata": {
        "colab": {
          "base_uri": "https://localhost:8080/"
        },
        "id": "9qYgzRYGXPEz",
        "outputId": "78dc42a4-30ae-40ba-da7a-9eaa2d4291cc"
      },
      "execution_count": 9,
      "outputs": [
        {
          "output_type": "stream",
          "name": "stdout",
          "text": [
            "0 test.txt\n"
          ]
        }
      ]
    },
    {
      "cell_type": "code",
      "source": [
        "f = open(\"test.txt\",\"w\")\n",
        "f.write(\"This is my file in secind run\")\n",
        "f.close()\n",
        "!cat test.txt"
      ],
      "metadata": {
        "colab": {
          "base_uri": "https://localhost:8080/"
        },
        "id": "8CKJrXjdXRd-",
        "outputId": "5188415a-5b7b-491b-bead-a51f0a19a79d"
      },
      "execution_count": 10,
      "outputs": [
        {
          "output_type": "stream",
          "name": "stdout",
          "text": [
            "This is my file in secind run"
          ]
        }
      ]
    },
    {
      "cell_type": "code",
      "source": [
        "f = open(\"test.txt\",\"a\")\n",
        "f.write(\"The simplest way to produce output is using the print statement where you can pass zero or more expressions separated by commas. This function converts the expressions you pass into a string and writes the result to standard output as follows\")\n",
        "f.close()"
      ],
      "metadata": {
        "id": "e1fWbg_uXZ-S"
      },
      "execution_count": 11,
      "outputs": []
    },
    {
      "cell_type": "code",
      "source": [
        "!cat test.txt"
      ],
      "metadata": {
        "colab": {
          "base_uri": "https://localhost:8080/"
        },
        "id": "JIFWDG8KXt1o",
        "outputId": "240d4804-cebd-4ee4-d3c1-1a5832f77082"
      },
      "execution_count": 12,
      "outputs": [
        {
          "output_type": "stream",
          "name": "stdout",
          "text": [
            "This is my file in secind runThe simplest way to produce output is using the print statement where you can pass zero or more expressions separated by commas. This function converts the expressions you pass into a string and writes the result to standard output as follows"
          ]
        }
      ]
    },
    {
      "cell_type": "code",
      "source": [
        "f = open(\"test.txt\",\"r\")\n",
        "print(f.read())"
      ],
      "metadata": {
        "colab": {
          "base_uri": "https://localhost:8080/"
        },
        "id": "gEwXPdn4Xv_o",
        "outputId": "ecab748c-4806-4f0c-916a-f6dd51fc05ba"
      },
      "execution_count": 13,
      "outputs": [
        {
          "output_type": "stream",
          "name": "stdout",
          "text": [
            "This is my file in secind runThe simplest way to produce output is using the print statement where you can pass zero or more expressions separated by commas. This function converts the expressions you pass into a string and writes the result to standard output as follows\n"
          ]
        }
      ]
    },
    {
      "cell_type": "code",
      "source": [
        "f = open(\"test.txt\",\"r\")\n",
        "for line in f:\n",
        "  print(line)\n",
        "f.close()"
      ],
      "metadata": {
        "colab": {
          "base_uri": "https://localhost:8080/"
        },
        "id": "FhbwHDlwXztk",
        "outputId": "24776984-b921-4047-baf4-bbf8b8616d48"
      },
      "execution_count": 15,
      "outputs": [
        {
          "output_type": "stream",
          "name": "stdout",
          "text": [
            "This is my file in secind runThe simplest way to produce output is using the print statement where you can pass zero or more expressions separated by commas. This function converts the expressions you pass into a string and writes the result to standard output as follows\n"
          ]
        }
      ]
    },
    {
      "cell_type": "code",
      "source": [
        "import os\n",
        "\n",
        "os.path.getsize('test.txt')"
      ],
      "metadata": {
        "colab": {
          "base_uri": "https://localhost:8080/"
        },
        "id": "J70aM-bpYCy9",
        "outputId": "57e83732-077e-4eee-dd4e-6a50af6a0819"
      },
      "execution_count": 17,
      "outputs": [
        {
          "output_type": "execute_result",
          "data": {
            "text/plain": [
              "271"
            ]
          },
          "metadata": {},
          "execution_count": 17
        }
      ]
    },
    {
      "cell_type": "code",
      "source": [
        "os.remove('test.txt')"
      ],
      "metadata": {
        "id": "HqM9UHBUYo0i"
      },
      "execution_count": 18,
      "outputs": []
    },
    {
      "cell_type": "code",
      "source": [
        "!ls -ltr"
      ],
      "metadata": {
        "colab": {
          "base_uri": "https://localhost:8080/"
        },
        "id": "sM3Y2RZJY0wf",
        "outputId": "c818c8d2-f840-4887-bb55-3658225bcd33"
      },
      "execution_count": 19,
      "outputs": [
        {
          "output_type": "stream",
          "name": "stdout",
          "text": [
            "total 4\n",
            "drwxr-xr-x 1 root root 4096 Feb 13 14:35 sample_data\n"
          ]
        }
      ]
    },
    {
      "cell_type": "code",
      "source": [
        "f = open(\"test.txt\",\"w\")\n",
        "f.write(\"This is my file in secind run\")\n",
        "f.close()\n",
        "!cat test.txt"
      ],
      "metadata": {
        "colab": {
          "base_uri": "https://localhost:8080/"
        },
        "id": "gXCL3otqY2fA",
        "outputId": "1de4a4a4-2aef-4b4b-f5d8-11911d2eea89"
      },
      "execution_count": 20,
      "outputs": [
        {
          "output_type": "stream",
          "name": "stdout",
          "text": [
            "This is my file in secind run"
          ]
        }
      ]
    },
    {
      "cell_type": "code",
      "source": [
        "os.path.getsize('test.txt')"
      ],
      "metadata": {
        "colab": {
          "base_uri": "https://localhost:8080/"
        },
        "id": "PBbosvPjZFF0",
        "outputId": "f4bea834-0c0b-47bf-fcb3-de9a0bf0957d"
      },
      "execution_count": 21,
      "outputs": [
        {
          "output_type": "execute_result",
          "data": {
            "text/plain": [
              "29"
            ]
          },
          "metadata": {},
          "execution_count": 21
        }
      ]
    },
    {
      "cell_type": "code",
      "source": [
        "os.rename(\"test.txt\",\"renamed_test.txt\")\n",
        "!ls -ltr"
      ],
      "metadata": {
        "colab": {
          "base_uri": "https://localhost:8080/"
        },
        "id": "wk2ASE_nZGn7",
        "outputId": "215f42a7-7cb7-48b2-d75d-3aae10dfc0f8"
      },
      "execution_count": 22,
      "outputs": [
        {
          "output_type": "stream",
          "name": "stdout",
          "text": [
            "total 8\n",
            "drwxr-xr-x 1 root root 4096 Feb 13 14:35 sample_data\n",
            "-rw-r--r-- 1 root root   29 Feb 15 04:45 renamed_test.txt\n"
          ]
        }
      ]
    },
    {
      "cell_type": "code",
      "source": [
        "import shutil \n",
        "shutil.copy(\"renamed_test.txt\",\"test.txt\")\n",
        "!ls -ltr"
      ],
      "metadata": {
        "colab": {
          "base_uri": "https://localhost:8080/"
        },
        "id": "TIBg4udmZR6x",
        "outputId": "7edd632c-71c1-448a-e5a7-b86e355ef812"
      },
      "execution_count": 24,
      "outputs": [
        {
          "output_type": "stream",
          "name": "stdout",
          "text": [
            "total 12\n",
            "drwxr-xr-x 1 root root 4096 Feb 13 14:35 sample_data\n",
            "-rw-r--r-- 1 root root   29 Feb 15 04:45 renamed_test.txt\n",
            "-rw-r--r-- 1 root root   29 Feb 15 04:46 test.txt\n"
          ]
        }
      ]
    },
    {
      "cell_type": "code",
      "source": [
        "with open(\"test.txt\",\"r\") as f:\n",
        "  for i in f:\n",
        "    print(i)"
      ],
      "metadata": {
        "colab": {
          "base_uri": "https://localhost:8080/"
        },
        "id": "Mp7A8b_sZUeZ",
        "outputId": "9c6a3db3-566e-4416-9105-728902d73881"
      },
      "execution_count": 25,
      "outputs": [
        {
          "output_type": "stream",
          "name": "stdout",
          "text": [
            "This is my file in secind run\n"
          ]
        }
      ]
    },
    {
      "cell_type": "code",
      "source": [
        "with open(\"range_write.txt\",\"w\") as f:\n",
        "  for i in range(10):\n",
        "    f.write(str(i)+\"\\n\")\n"
      ],
      "metadata": {
        "id": "9s3HyO--ZjcC"
      },
      "execution_count": 26,
      "outputs": []
    },
    {
      "cell_type": "code",
      "source": [
        "with open(\"range_write.txt\",\"r\") as f:\n",
        "  for i in f:\n",
        "    print(i)"
      ],
      "metadata": {
        "colab": {
          "base_uri": "https://localhost:8080/"
        },
        "id": "_XmKdfmOZvsu",
        "outputId": "d0f38b7a-9471-488c-9f5f-75c685a955bd"
      },
      "execution_count": 27,
      "outputs": [
        {
          "output_type": "stream",
          "name": "stdout",
          "text": [
            "0\n",
            "\n",
            "1\n",
            "\n",
            "2\n",
            "\n",
            "3\n",
            "\n",
            "4\n",
            "\n",
            "5\n",
            "\n",
            "6\n",
            "\n",
            "7\n",
            "\n",
            "8\n",
            "\n",
            "9\n",
            "\n"
          ]
        }
      ]
    },
    {
      "cell_type": "code",
      "source": [
        "!ls -ltr"
      ],
      "metadata": {
        "colab": {
          "base_uri": "https://localhost:8080/"
        },
        "id": "_YQXi_wsZ1Em",
        "outputId": "914091da-d4b5-47c5-d273-cb6636f6bfc0"
      },
      "execution_count": 28,
      "outputs": [
        {
          "output_type": "stream",
          "name": "stdout",
          "text": [
            "total 16\n",
            "drwxr-xr-x 1 root root 4096 Feb 13 14:35 sample_data\n",
            "-rw-r--r-- 1 root root   29 Feb 15 04:45 renamed_test.txt\n",
            "-rw-r--r-- 1 root root   29 Feb 15 04:46 test.txt\n",
            "-rw-r--r-- 1 root root   20 Feb 15 04:48 range_write.txt\n"
          ]
        }
      ]
    },
    {
      "cell_type": "code",
      "source": [
        "!wc -l range_write.txt"
      ],
      "metadata": {
        "colab": {
          "base_uri": "https://localhost:8080/"
        },
        "id": "wlBzD4EwZ5He",
        "outputId": "a4097ef8-09c9-437a-9548-5f528caddaa7"
      },
      "execution_count": 30,
      "outputs": [
        {
          "output_type": "stream",
          "name": "stdout",
          "text": [
            "10 range_write.txt\n"
          ]
        }
      ]
    },
    {
      "cell_type": "code",
      "source": [
        "data = {\n",
        "    'name':'Hem',\n",
        "    'mail': 'hem@gmail.com',\n",
        "    'phone_number' : 734983749,\n",
        "    'subject':['DS','Python']\n",
        "}\n",
        "\n",
        "import json\n",
        "with open('data.json','w') as f:\n",
        "  json.dump(data,f)"
      ],
      "metadata": {
        "id": "e0Q5076VZ6lA"
      },
      "execution_count": 31,
      "outputs": []
    },
    {
      "cell_type": "code",
      "source": [
        "!cat data.json "
      ],
      "metadata": {
        "colab": {
          "base_uri": "https://localhost:8080/"
        },
        "id": "siquXxBEaS8Z",
        "outputId": "22145ee0-34da-455e-c4b8-0bce9d0799b4"
      },
      "execution_count": 32,
      "outputs": [
        {
          "output_type": "stream",
          "name": "stdout",
          "text": [
            "{\"name\": \"Hem\", \"mail\": \"hem@gmail.com\", \"phone_number\": 734983749, \"subject\": [\"DS\", \"Python\"]}"
          ]
        }
      ]
    },
    {
      "cell_type": "code",
      "source": [
        "with open('data.json','r') as f:\n",
        "  json_data = json.load(f)"
      ],
      "metadata": {
        "id": "oHZIqqegaWer"
      },
      "execution_count": 33,
      "outputs": []
    },
    {
      "cell_type": "code",
      "source": [
        "print(json_data['name'])"
      ],
      "metadata": {
        "colab": {
          "base_uri": "https://localhost:8080/"
        },
        "id": "RxQyDvVfajYw",
        "outputId": "fe4b74d4-d0e3-40c9-ed39-c74d77df5a1a"
      },
      "execution_count": 36,
      "outputs": [
        {
          "output_type": "stream",
          "name": "stdout",
          "text": [
            "Hem\n"
          ]
        }
      ]
    },
    {
      "cell_type": "code",
      "source": [
        "# create csv file\n",
        "with open('sample.csv','w') as f:\n",
        "  f.write(\"id,name,salary\\n\")\n",
        "  f.write(\"101,Aman,12000\\n\")\n",
        "  f.write(\"102,Ajay,14000\\n\")\n",
        "  f.write(\"103,Neha,22000\\n\")\n",
        "\n",
        "!cat sample.csv"
      ],
      "metadata": {
        "colab": {
          "base_uri": "https://localhost:8080/"
        },
        "id": "nse97wRQajuE",
        "outputId": "6c87843a-f953-49a3-85ee-d6285ce6cfc8"
      },
      "execution_count": 37,
      "outputs": [
        {
          "output_type": "stream",
          "name": "stdout",
          "text": [
            "id,name,salary\n",
            "101,Aman,12000\n",
            "102,Ajay,14000\n",
            "103,Neha,22000\n"
          ]
        }
      ]
    },
    {
      "cell_type": "code",
      "source": [
        "import csv\n",
        "csv_records = [\n",
        "    [\"id\",\"name\",\"salary\"],\n",
        "    [\"101\",\"Hem\",\"10000\"],\n",
        "    [\"102\",\"Ajay\",\"20000\"],\n",
        "    [\"103\",\"Anik\",\"23000\"]\n",
        "    ]\n",
        "\n",
        "with open(\"employees.csv\",\"w\") as f:\n",
        "  writer = csv.writer(f)\n",
        "  for i in csv_records:\n",
        "    writer.writerow(i)"
      ],
      "metadata": {
        "id": "C9WKiI2QbFW0"
      },
      "execution_count": 39,
      "outputs": []
    },
    {
      "cell_type": "code",
      "source": [
        "!cat employees.csv"
      ],
      "metadata": {
        "colab": {
          "base_uri": "https://localhost:8080/"
        },
        "id": "bBOdX31ybxoA",
        "outputId": "fb2f09e3-4930-4b8f-86cb-a907fc70a22f"
      },
      "execution_count": 40,
      "outputs": [
        {
          "output_type": "stream",
          "name": "stdout",
          "text": [
            "id,name,salary\r\n",
            "101,Hem,10000\r\n",
            "102,Ajay,20000\r\n",
            "103,Anik,23000\r\n"
          ]
        }
      ]
    },
    {
      "cell_type": "code",
      "source": [
        "with open(\"employees.csv\",\"r\") as f:\n",
        "  reader = csv.reader(f)\n",
        "  for i in reader:\n",
        "    print(i)"
      ],
      "metadata": {
        "colab": {
          "base_uri": "https://localhost:8080/"
        },
        "id": "Lz8551wWb3DC",
        "outputId": "0723df0d-23f3-426a-9879-aaababc290aa"
      },
      "execution_count": 41,
      "outputs": [
        {
          "output_type": "stream",
          "name": "stdout",
          "text": [
            "['id', 'name', 'salary']\n",
            "['101', 'Hem', '10000']\n",
            "['102', 'Ajay', '20000']\n",
            "['103', 'Anik', '23000']\n"
          ]
        }
      ]
    },
    {
      "cell_type": "code",
      "source": [
        "with open(\"test.bin\",\"wb\") as f:\n",
        "  f.write(b\"\\x01\\x02\\x03\")"
      ],
      "metadata": {
        "id": "0IsB4qxhb_bc"
      },
      "execution_count": 42,
      "outputs": []
    },
    {
      "cell_type": "code",
      "source": [
        "!cat test.bin"
      ],
      "metadata": {
        "colab": {
          "base_uri": "https://localhost:8080/"
        },
        "id": "3B95QbFMcmeX",
        "outputId": "a9544c70-19df-4128-c27f-764d6da500bb"
      },
      "execution_count": 43,
      "outputs": [
        {
          "output_type": "stream",
          "name": "stdout",
          "text": [
            "\u0001\u0002\u0003"
          ]
        }
      ]
    },
    {
      "cell_type": "code",
      "source": [
        "!ls -ltr"
      ],
      "metadata": {
        "colab": {
          "base_uri": "https://localhost:8080/"
        },
        "id": "dydV6EnVconZ",
        "outputId": "57138d59-5f27-47e9-8716-83a9307e6f5a"
      },
      "execution_count": 44,
      "outputs": [
        {
          "output_type": "stream",
          "name": "stdout",
          "text": [
            "total 32\n",
            "drwxr-xr-x 1 root root 4096 Feb 13 14:35 sample_data\n",
            "-rw-r--r-- 1 root root   29 Feb 15 04:45 renamed_test.txt\n",
            "-rw-r--r-- 1 root root   29 Feb 15 04:46 test.txt\n",
            "-rw-r--r-- 1 root root   20 Feb 15 04:48 range_write.txt\n",
            "-rw-r--r-- 1 root root   96 Feb 15 04:50 data.json\n",
            "-rw-r--r-- 1 root root   60 Feb 15 04:54 sample.csv\n",
            "-rw-r--r-- 1 root root   63 Feb 15 04:57 employees.csv\n",
            "-rw-r--r-- 1 root root    3 Feb 15 05:00 test.bin\n"
          ]
        }
      ]
    },
    {
      "cell_type": "code",
      "source": [
        "# buffered read and write\n",
        "import io\n",
        "\n",
        "with open(\"test_new.txt\",\"wb\") as f:\n",
        "  file = io.BufferedWriter(f)\n",
        "\n",
        "  file.write(b\"This in line 1\\n\")\n",
        "  file.write(b\"This in line 2\\n\")\n",
        "  file.flush()"
      ],
      "metadata": {
        "id": "b1XPFUhjcrUQ"
      },
      "execution_count": 46,
      "outputs": []
    },
    {
      "cell_type": "code",
      "source": [
        "!cat test_new.txt"
      ],
      "metadata": {
        "colab": {
          "base_uri": "https://localhost:8080/"
        },
        "id": "JOz4AbrZdihq",
        "outputId": "335d327e-27ec-424e-cd02-f456b90f64b2"
      },
      "execution_count": 47,
      "outputs": [
        {
          "output_type": "stream",
          "name": "stdout",
          "text": [
            "This in line 1\n",
            "This in line 2\n"
          ]
        }
      ]
    },
    {
      "cell_type": "code",
      "source": [
        "with open(\"test_new.txt\",\"rb\") as f:\n",
        "  file = io.BufferedReader(f)\n",
        "\n",
        "  for line in file:\n",
        "    print(line)"
      ],
      "metadata": {
        "colab": {
          "base_uri": "https://localhost:8080/"
        },
        "id": "vD-wKhgldny-",
        "outputId": "41f8cca7-fa01-4685-b590-f25e678f213e"
      },
      "execution_count": 49,
      "outputs": [
        {
          "output_type": "stream",
          "name": "stdout",
          "text": [
            "b'This in line 1\\n'\n",
            "b'This in line 2\\n'\n"
          ]
        }
      ]
    },
    {
      "cell_type": "code",
      "source": [],
      "metadata": {
        "id": "oLrlz74Od9Rm"
      },
      "execution_count": null,
      "outputs": []
    }
  ]
}