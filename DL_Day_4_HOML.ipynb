{
  "nbformat": 4,
  "nbformat_minor": 0,
  "metadata": {
    "colab": {
      "provenance": [],
      "authorship_tag": "ABX9TyNPLO7k//ZV/we6Ka0Eh7B7",
      "include_colab_link": true
    },
    "kernelspec": {
      "name": "python3",
      "display_name": "Python 3"
    },
    "language_info": {
      "name": "python"
    }
  },
  "cells": [
    {
      "cell_type": "markdown",
      "metadata": {
        "id": "view-in-github",
        "colab_type": "text"
      },
      "source": [
        "<a href=\"https://colab.research.google.com/github/beercafeguy/PyMLLab/blob/master/DL_Day_4_HOML.ipynb\" target=\"_parent\"><img src=\"https://colab.research.google.com/assets/colab-badge.svg\" alt=\"Open In Colab\"/></a>"
      ]
    },
    {
      "cell_type": "markdown",
      "source": [
        "# Transfer learning"
      ],
      "metadata": {
        "id": "Qly3ajtJJVLF"
      }
    },
    {
      "cell_type": "code",
      "execution_count": 1,
      "metadata": {
        "id": "oQii8tfiJOLf"
      },
      "outputs": [],
      "source": [
        "# lets create the base model first"
      ]
    },
    {
      "cell_type": "code",
      "source": [
        "import tensorflow as tf\n",
        "from tensorflow import keras\n",
        "\n",
        "\n",
        "print(tf.__version__)"
      ],
      "metadata": {
        "colab": {
          "base_uri": "https://localhost:8080/"
        },
        "id": "6bRIucEyJ-pY",
        "outputId": "d9cd6488-d536-41ae-e685-99dc063edda4"
      },
      "execution_count": 2,
      "outputs": [
        {
          "output_type": "stream",
          "name": "stdout",
          "text": [
            "2.15.0\n"
          ]
        }
      ]
    },
    {
      "cell_type": "code",
      "source": [
        "fashion_mnist = keras.datasets.fashion_mnist\n",
        "\n",
        "(X_train_full, y_train_full),(X_test,y_test) = fashion_mnist.load_data()\n"
      ],
      "metadata": {
        "colab": {
          "base_uri": "https://localhost:8080/"
        },
        "id": "-OHthoR-KDai",
        "outputId": "ea388c6a-8add-4bca-b931-0c5e945256d6"
      },
      "execution_count": 3,
      "outputs": [
        {
          "output_type": "stream",
          "name": "stdout",
          "text": [
            "Downloading data from https://storage.googleapis.com/tensorflow/tf-keras-datasets/train-labels-idx1-ubyte.gz\n",
            "29515/29515 [==============================] - 0s 0us/step\n",
            "Downloading data from https://storage.googleapis.com/tensorflow/tf-keras-datasets/train-images-idx3-ubyte.gz\n",
            "26421880/26421880 [==============================] - 0s 0us/step\n",
            "Downloading data from https://storage.googleapis.com/tensorflow/tf-keras-datasets/t10k-labels-idx1-ubyte.gz\n",
            "5148/5148 [==============================] - 0s 0us/step\n",
            "Downloading data from https://storage.googleapis.com/tensorflow/tf-keras-datasets/t10k-images-idx3-ubyte.gz\n",
            "4422102/4422102 [==============================] - 0s 0us/step\n"
          ]
        }
      ]
    },
    {
      "cell_type": "code",
      "source": [
        "X_valid, X_train = X_train_full[:5000]/255.0, X_train_full[5000:]/255.0 # dividing by 255.0 to scale the image values to 0-1\n",
        "y_valid, y_train = y_train_full[:5000],y_train_full[5000:]"
      ],
      "metadata": {
        "id": "vGcqlF0UKF8V"
      },
      "execution_count": 4,
      "outputs": []
    },
    {
      "cell_type": "code",
      "source": [
        "class_names = [\"T-shirt/top\", \"Trouser\", \"Pullover\", \"Dress\", \"Coat\", \"Sandal\", \"Shirt\", \"Sneaker\", \"Bag\", \"Ankle boot\"]"
      ],
      "metadata": {
        "id": "UOsbRPwnKHtX"
      },
      "execution_count": 5,
      "outputs": []
    },
    {
      "cell_type": "code",
      "source": [
        "model = keras.models.Sequential()\n",
        "\n",
        "model.add(keras.layers.Flatten(input_shape=[28,28]))\n",
        "model.add(keras.layers.Dense(300,activation=\"relu\"))\n",
        "model.add(keras.layers.Dense(100,activation=\"relu\"))\n",
        "model.add(keras.layers.Dense(10,activation=\"softmax\"))\n",
        "\n",
        "model.summary()"
      ],
      "metadata": {
        "colab": {
          "base_uri": "https://localhost:8080/"
        },
        "id": "ziwqJh28KKHL",
        "outputId": "e86f618b-7b8f-4536-ab98-ce665337d13d"
      },
      "execution_count": 6,
      "outputs": [
        {
          "output_type": "stream",
          "name": "stdout",
          "text": [
            "Model: \"sequential\"\n",
            "_________________________________________________________________\n",
            " Layer (type)                Output Shape              Param #   \n",
            "=================================================================\n",
            " flatten (Flatten)           (None, 784)               0         \n",
            "                                                                 \n",
            " dense (Dense)               (None, 300)               235500    \n",
            "                                                                 \n",
            " dense_1 (Dense)             (None, 100)               30100     \n",
            "                                                                 \n",
            " dense_2 (Dense)             (None, 10)                1010      \n",
            "                                                                 \n",
            "=================================================================\n",
            "Total params: 266610 (1.02 MB)\n",
            "Trainable params: 266610 (1.02 MB)\n",
            "Non-trainable params: 0 (0.00 Byte)\n",
            "_________________________________________________________________\n"
          ]
        }
      ]
    },
    {
      "cell_type": "code",
      "source": [
        "model.compile(\n",
        "    loss = \"sparse_categorical_crossentropy\",\n",
        "    optimizer=\"sgd\", # optimizer=keras.optimiz ers.SGD(lr=<learning rate value>) default learning rate = 0.01\n",
        "    metrics = ['accuracy']\n",
        ")"
      ],
      "metadata": {
        "id": "TOM3O4AJKMst"
      },
      "execution_count": 7,
      "outputs": []
    },
    {
      "cell_type": "code",
      "source": [
        "history = model.fit(X_train,y_train, epochs = 30, validation_data = (X_valid,y_valid))"
      ],
      "metadata": {
        "colab": {
          "base_uri": "https://localhost:8080/"
        },
        "id": "1gH7CDQ_KQtZ",
        "outputId": "5fb71191-1889-408b-9de0-ff0760971757"
      },
      "execution_count": 8,
      "outputs": [
        {
          "output_type": "stream",
          "name": "stdout",
          "text": [
            "Epoch 1/30\n",
            "1719/1719 [==============================] - 9s 5ms/step - loss: 0.7156 - accuracy: 0.7643 - val_loss: 0.5142 - val_accuracy: 0.8248\n",
            "Epoch 2/30\n",
            "1719/1719 [==============================] - 8s 5ms/step - loss: 0.4896 - accuracy: 0.8297 - val_loss: 0.4528 - val_accuracy: 0.8478\n",
            "Epoch 3/30\n",
            "1719/1719 [==============================] - 7s 4ms/step - loss: 0.4458 - accuracy: 0.8440 - val_loss: 0.4370 - val_accuracy: 0.8524\n",
            "Epoch 4/30\n",
            "1719/1719 [==============================] - 10s 6ms/step - loss: 0.4167 - accuracy: 0.8545 - val_loss: 0.3963 - val_accuracy: 0.8606\n",
            "Epoch 5/30\n",
            "1719/1719 [==============================] - 14s 8ms/step - loss: 0.3963 - accuracy: 0.8595 - val_loss: 0.3838 - val_accuracy: 0.8678\n",
            "Epoch 6/30\n",
            "1719/1719 [==============================] - 14s 8ms/step - loss: 0.3785 - accuracy: 0.8665 - val_loss: 0.3833 - val_accuracy: 0.8648\n",
            "Epoch 7/30\n",
            "1719/1719 [==============================] - 9s 5ms/step - loss: 0.3651 - accuracy: 0.8711 - val_loss: 0.3675 - val_accuracy: 0.8718\n",
            "Epoch 8/30\n",
            "1719/1719 [==============================] - 7s 4ms/step - loss: 0.3539 - accuracy: 0.8743 - val_loss: 0.3551 - val_accuracy: 0.8766\n",
            "Epoch 9/30\n",
            "1719/1719 [==============================] - 8s 5ms/step - loss: 0.3432 - accuracy: 0.8779 - val_loss: 0.3679 - val_accuracy: 0.8700\n",
            "Epoch 10/30\n",
            "1719/1719 [==============================] - 9s 5ms/step - loss: 0.3343 - accuracy: 0.8803 - val_loss: 0.3410 - val_accuracy: 0.8766\n",
            "Epoch 11/30\n",
            "1719/1719 [==============================] - 8s 5ms/step - loss: 0.3250 - accuracy: 0.8837 - val_loss: 0.3539 - val_accuracy: 0.8762\n",
            "Epoch 12/30\n",
            "1719/1719 [==============================] - 10s 6ms/step - loss: 0.3171 - accuracy: 0.8853 - val_loss: 0.4023 - val_accuracy: 0.8436\n",
            "Epoch 13/30\n",
            "1719/1719 [==============================] - 10s 6ms/step - loss: 0.3100 - accuracy: 0.8892 - val_loss: 0.3274 - val_accuracy: 0.8816\n",
            "Epoch 14/30\n",
            "1719/1719 [==============================] - 9s 5ms/step - loss: 0.3031 - accuracy: 0.8907 - val_loss: 0.3424 - val_accuracy: 0.8772\n",
            "Epoch 15/30\n",
            "1719/1719 [==============================] - 15s 9ms/step - loss: 0.2971 - accuracy: 0.8929 - val_loss: 0.3187 - val_accuracy: 0.8868\n",
            "Epoch 16/30\n",
            "1719/1719 [==============================] - 13s 7ms/step - loss: 0.2911 - accuracy: 0.8947 - val_loss: 0.3133 - val_accuracy: 0.8890\n",
            "Epoch 17/30\n",
            "1719/1719 [==============================] - 10s 6ms/step - loss: 0.2852 - accuracy: 0.8969 - val_loss: 0.3127 - val_accuracy: 0.8870\n",
            "Epoch 18/30\n",
            "1719/1719 [==============================] - 13s 8ms/step - loss: 0.2799 - accuracy: 0.8984 - val_loss: 0.3269 - val_accuracy: 0.8810\n",
            "Epoch 19/30\n",
            "1719/1719 [==============================] - 10s 6ms/step - loss: 0.2742 - accuracy: 0.9013 - val_loss: 0.3160 - val_accuracy: 0.8842\n",
            "Epoch 20/30\n",
            "1719/1719 [==============================] - 13s 7ms/step - loss: 0.2698 - accuracy: 0.9023 - val_loss: 0.3058 - val_accuracy: 0.8916\n",
            "Epoch 21/30\n",
            "1719/1719 [==============================] - 10s 6ms/step - loss: 0.2651 - accuracy: 0.9038 - val_loss: 0.3094 - val_accuracy: 0.8886\n",
            "Epoch 22/30\n",
            "1719/1719 [==============================] - 7s 4ms/step - loss: 0.2605 - accuracy: 0.9054 - val_loss: 0.3127 - val_accuracy: 0.8820\n",
            "Epoch 23/30\n",
            "1719/1719 [==============================] - 9s 6ms/step - loss: 0.2557 - accuracy: 0.9079 - val_loss: 0.3096 - val_accuracy: 0.8880\n",
            "Epoch 24/30\n",
            "1719/1719 [==============================] - 8s 5ms/step - loss: 0.2522 - accuracy: 0.9095 - val_loss: 0.3029 - val_accuracy: 0.8896\n",
            "Epoch 25/30\n",
            "1719/1719 [==============================] - 6s 4ms/step - loss: 0.2457 - accuracy: 0.9119 - val_loss: 0.3121 - val_accuracy: 0.8852\n",
            "Epoch 26/30\n",
            "1719/1719 [==============================] - 9s 5ms/step - loss: 0.2432 - accuracy: 0.9126 - val_loss: 0.3030 - val_accuracy: 0.8876\n",
            "Epoch 27/30\n",
            "1719/1719 [==============================] - 7s 4ms/step - loss: 0.2397 - accuracy: 0.9127 - val_loss: 0.2961 - val_accuracy: 0.8908\n",
            "Epoch 28/30\n",
            "1719/1719 [==============================] - 7s 4ms/step - loss: 0.2356 - accuracy: 0.9148 - val_loss: 0.2970 - val_accuracy: 0.8906\n",
            "Epoch 29/30\n",
            "1719/1719 [==============================] - 8s 5ms/step - loss: 0.2310 - accuracy: 0.9169 - val_loss: 0.3016 - val_accuracy: 0.8896\n",
            "Epoch 30/30\n",
            "1719/1719 [==============================] - 7s 4ms/step - loss: 0.2275 - accuracy: 0.9175 - val_loss: 0.2994 - val_accuracy: 0.8908\n"
          ]
        }
      ]
    },
    {
      "cell_type": "code",
      "source": [
        "import pandas as pd\n",
        "import matplotlib.pyplot as plt\n",
        "\n",
        "\n",
        "history_pd = pd.DataFrame(history.history)\n",
        "history_pd"
      ],
      "metadata": {
        "colab": {
          "base_uri": "https://localhost:8080/",
          "height": 990
        },
        "id": "iK8h9RagKTHS",
        "outputId": "c6d4c851-009e-41e4-d852-382a3e569f06"
      },
      "execution_count": 9,
      "outputs": [
        {
          "output_type": "execute_result",
          "data": {
            "text/plain": [
              "        loss  accuracy  val_loss  val_accuracy\n",
              "0   0.715648  0.764345  0.514175        0.8248\n",
              "1   0.489562  0.829709  0.452777        0.8478\n",
              "2   0.445776  0.844000  0.437034        0.8524\n",
              "3   0.416708  0.854509  0.396271        0.8606\n",
              "4   0.396318  0.859455  0.383850        0.8678\n",
              "5   0.378490  0.866509  0.383283        0.8648\n",
              "6   0.365112  0.871127  0.367463        0.8718\n",
              "7   0.353864  0.874273  0.355148        0.8766\n",
              "8   0.343202  0.877927  0.367925        0.8700\n",
              "9   0.334318  0.880255  0.340978        0.8766\n",
              "10  0.324969  0.883709  0.353857        0.8762\n",
              "11  0.317118  0.885309  0.402309        0.8436\n",
              "12  0.310016  0.889218  0.327360        0.8816\n",
              "13  0.303127  0.890691  0.342443        0.8772\n",
              "14  0.297130  0.892873  0.318719        0.8868\n",
              "15  0.291090  0.894745  0.313350        0.8890\n",
              "16  0.285229  0.896909  0.312704        0.8870\n",
              "17  0.279936  0.898436  0.326924        0.8810\n",
              "18  0.274151  0.901345  0.315966        0.8842\n",
              "19  0.269801  0.902291  0.305782        0.8916\n",
              "20  0.265103  0.903800  0.309425        0.8886\n",
              "21  0.260526  0.905364  0.312680        0.8820\n",
              "22  0.255675  0.907927  0.309631        0.8880\n",
              "23  0.252161  0.909473  0.302895        0.8896\n",
              "24  0.245735  0.911927  0.312079        0.8852\n",
              "25  0.243159  0.912600  0.303002        0.8876\n",
              "26  0.239698  0.912709  0.296106        0.8908\n",
              "27  0.235578  0.914764  0.297039        0.8906\n",
              "28  0.230967  0.916891  0.301587        0.8896\n",
              "29  0.227456  0.917455  0.299406        0.8908"
            ],
            "text/html": [
              "\n",
              "  <div id=\"df-de7c8798-bec3-48c4-9d1a-b5dcdbeaf67e\" class=\"colab-df-container\">\n",
              "    <div>\n",
              "<style scoped>\n",
              "    .dataframe tbody tr th:only-of-type {\n",
              "        vertical-align: middle;\n",
              "    }\n",
              "\n",
              "    .dataframe tbody tr th {\n",
              "        vertical-align: top;\n",
              "    }\n",
              "\n",
              "    .dataframe thead th {\n",
              "        text-align: right;\n",
              "    }\n",
              "</style>\n",
              "<table border=\"1\" class=\"dataframe\">\n",
              "  <thead>\n",
              "    <tr style=\"text-align: right;\">\n",
              "      <th></th>\n",
              "      <th>loss</th>\n",
              "      <th>accuracy</th>\n",
              "      <th>val_loss</th>\n",
              "      <th>val_accuracy</th>\n",
              "    </tr>\n",
              "  </thead>\n",
              "  <tbody>\n",
              "    <tr>\n",
              "      <th>0</th>\n",
              "      <td>0.715648</td>\n",
              "      <td>0.764345</td>\n",
              "      <td>0.514175</td>\n",
              "      <td>0.8248</td>\n",
              "    </tr>\n",
              "    <tr>\n",
              "      <th>1</th>\n",
              "      <td>0.489562</td>\n",
              "      <td>0.829709</td>\n",
              "      <td>0.452777</td>\n",
              "      <td>0.8478</td>\n",
              "    </tr>\n",
              "    <tr>\n",
              "      <th>2</th>\n",
              "      <td>0.445776</td>\n",
              "      <td>0.844000</td>\n",
              "      <td>0.437034</td>\n",
              "      <td>0.8524</td>\n",
              "    </tr>\n",
              "    <tr>\n",
              "      <th>3</th>\n",
              "      <td>0.416708</td>\n",
              "      <td>0.854509</td>\n",
              "      <td>0.396271</td>\n",
              "      <td>0.8606</td>\n",
              "    </tr>\n",
              "    <tr>\n",
              "      <th>4</th>\n",
              "      <td>0.396318</td>\n",
              "      <td>0.859455</td>\n",
              "      <td>0.383850</td>\n",
              "      <td>0.8678</td>\n",
              "    </tr>\n",
              "    <tr>\n",
              "      <th>5</th>\n",
              "      <td>0.378490</td>\n",
              "      <td>0.866509</td>\n",
              "      <td>0.383283</td>\n",
              "      <td>0.8648</td>\n",
              "    </tr>\n",
              "    <tr>\n",
              "      <th>6</th>\n",
              "      <td>0.365112</td>\n",
              "      <td>0.871127</td>\n",
              "      <td>0.367463</td>\n",
              "      <td>0.8718</td>\n",
              "    </tr>\n",
              "    <tr>\n",
              "      <th>7</th>\n",
              "      <td>0.353864</td>\n",
              "      <td>0.874273</td>\n",
              "      <td>0.355148</td>\n",
              "      <td>0.8766</td>\n",
              "    </tr>\n",
              "    <tr>\n",
              "      <th>8</th>\n",
              "      <td>0.343202</td>\n",
              "      <td>0.877927</td>\n",
              "      <td>0.367925</td>\n",
              "      <td>0.8700</td>\n",
              "    </tr>\n",
              "    <tr>\n",
              "      <th>9</th>\n",
              "      <td>0.334318</td>\n",
              "      <td>0.880255</td>\n",
              "      <td>0.340978</td>\n",
              "      <td>0.8766</td>\n",
              "    </tr>\n",
              "    <tr>\n",
              "      <th>10</th>\n",
              "      <td>0.324969</td>\n",
              "      <td>0.883709</td>\n",
              "      <td>0.353857</td>\n",
              "      <td>0.8762</td>\n",
              "    </tr>\n",
              "    <tr>\n",
              "      <th>11</th>\n",
              "      <td>0.317118</td>\n",
              "      <td>0.885309</td>\n",
              "      <td>0.402309</td>\n",
              "      <td>0.8436</td>\n",
              "    </tr>\n",
              "    <tr>\n",
              "      <th>12</th>\n",
              "      <td>0.310016</td>\n",
              "      <td>0.889218</td>\n",
              "      <td>0.327360</td>\n",
              "      <td>0.8816</td>\n",
              "    </tr>\n",
              "    <tr>\n",
              "      <th>13</th>\n",
              "      <td>0.303127</td>\n",
              "      <td>0.890691</td>\n",
              "      <td>0.342443</td>\n",
              "      <td>0.8772</td>\n",
              "    </tr>\n",
              "    <tr>\n",
              "      <th>14</th>\n",
              "      <td>0.297130</td>\n",
              "      <td>0.892873</td>\n",
              "      <td>0.318719</td>\n",
              "      <td>0.8868</td>\n",
              "    </tr>\n",
              "    <tr>\n",
              "      <th>15</th>\n",
              "      <td>0.291090</td>\n",
              "      <td>0.894745</td>\n",
              "      <td>0.313350</td>\n",
              "      <td>0.8890</td>\n",
              "    </tr>\n",
              "    <tr>\n",
              "      <th>16</th>\n",
              "      <td>0.285229</td>\n",
              "      <td>0.896909</td>\n",
              "      <td>0.312704</td>\n",
              "      <td>0.8870</td>\n",
              "    </tr>\n",
              "    <tr>\n",
              "      <th>17</th>\n",
              "      <td>0.279936</td>\n",
              "      <td>0.898436</td>\n",
              "      <td>0.326924</td>\n",
              "      <td>0.8810</td>\n",
              "    </tr>\n",
              "    <tr>\n",
              "      <th>18</th>\n",
              "      <td>0.274151</td>\n",
              "      <td>0.901345</td>\n",
              "      <td>0.315966</td>\n",
              "      <td>0.8842</td>\n",
              "    </tr>\n",
              "    <tr>\n",
              "      <th>19</th>\n",
              "      <td>0.269801</td>\n",
              "      <td>0.902291</td>\n",
              "      <td>0.305782</td>\n",
              "      <td>0.8916</td>\n",
              "    </tr>\n",
              "    <tr>\n",
              "      <th>20</th>\n",
              "      <td>0.265103</td>\n",
              "      <td>0.903800</td>\n",
              "      <td>0.309425</td>\n",
              "      <td>0.8886</td>\n",
              "    </tr>\n",
              "    <tr>\n",
              "      <th>21</th>\n",
              "      <td>0.260526</td>\n",
              "      <td>0.905364</td>\n",
              "      <td>0.312680</td>\n",
              "      <td>0.8820</td>\n",
              "    </tr>\n",
              "    <tr>\n",
              "      <th>22</th>\n",
              "      <td>0.255675</td>\n",
              "      <td>0.907927</td>\n",
              "      <td>0.309631</td>\n",
              "      <td>0.8880</td>\n",
              "    </tr>\n",
              "    <tr>\n",
              "      <th>23</th>\n",
              "      <td>0.252161</td>\n",
              "      <td>0.909473</td>\n",
              "      <td>0.302895</td>\n",
              "      <td>0.8896</td>\n",
              "    </tr>\n",
              "    <tr>\n",
              "      <th>24</th>\n",
              "      <td>0.245735</td>\n",
              "      <td>0.911927</td>\n",
              "      <td>0.312079</td>\n",
              "      <td>0.8852</td>\n",
              "    </tr>\n",
              "    <tr>\n",
              "      <th>25</th>\n",
              "      <td>0.243159</td>\n",
              "      <td>0.912600</td>\n",
              "      <td>0.303002</td>\n",
              "      <td>0.8876</td>\n",
              "    </tr>\n",
              "    <tr>\n",
              "      <th>26</th>\n",
              "      <td>0.239698</td>\n",
              "      <td>0.912709</td>\n",
              "      <td>0.296106</td>\n",
              "      <td>0.8908</td>\n",
              "    </tr>\n",
              "    <tr>\n",
              "      <th>27</th>\n",
              "      <td>0.235578</td>\n",
              "      <td>0.914764</td>\n",
              "      <td>0.297039</td>\n",
              "      <td>0.8906</td>\n",
              "    </tr>\n",
              "    <tr>\n",
              "      <th>28</th>\n",
              "      <td>0.230967</td>\n",
              "      <td>0.916891</td>\n",
              "      <td>0.301587</td>\n",
              "      <td>0.8896</td>\n",
              "    </tr>\n",
              "    <tr>\n",
              "      <th>29</th>\n",
              "      <td>0.227456</td>\n",
              "      <td>0.917455</td>\n",
              "      <td>0.299406</td>\n",
              "      <td>0.8908</td>\n",
              "    </tr>\n",
              "  </tbody>\n",
              "</table>\n",
              "</div>\n",
              "    <div class=\"colab-df-buttons\">\n",
              "\n",
              "  <div class=\"colab-df-container\">\n",
              "    <button class=\"colab-df-convert\" onclick=\"convertToInteractive('df-de7c8798-bec3-48c4-9d1a-b5dcdbeaf67e')\"\n",
              "            title=\"Convert this dataframe to an interactive table.\"\n",
              "            style=\"display:none;\">\n",
              "\n",
              "  <svg xmlns=\"http://www.w3.org/2000/svg\" height=\"24px\" viewBox=\"0 -960 960 960\">\n",
              "    <path d=\"M120-120v-720h720v720H120Zm60-500h600v-160H180v160Zm220 220h160v-160H400v160Zm0 220h160v-160H400v160ZM180-400h160v-160H180v160Zm440 0h160v-160H620v160ZM180-180h160v-160H180v160Zm440 0h160v-160H620v160Z\"/>\n",
              "  </svg>\n",
              "    </button>\n",
              "\n",
              "  <style>\n",
              "    .colab-df-container {\n",
              "      display:flex;\n",
              "      gap: 12px;\n",
              "    }\n",
              "\n",
              "    .colab-df-convert {\n",
              "      background-color: #E8F0FE;\n",
              "      border: none;\n",
              "      border-radius: 50%;\n",
              "      cursor: pointer;\n",
              "      display: none;\n",
              "      fill: #1967D2;\n",
              "      height: 32px;\n",
              "      padding: 0 0 0 0;\n",
              "      width: 32px;\n",
              "    }\n",
              "\n",
              "    .colab-df-convert:hover {\n",
              "      background-color: #E2EBFA;\n",
              "      box-shadow: 0px 1px 2px rgba(60, 64, 67, 0.3), 0px 1px 3px 1px rgba(60, 64, 67, 0.15);\n",
              "      fill: #174EA6;\n",
              "    }\n",
              "\n",
              "    .colab-df-buttons div {\n",
              "      margin-bottom: 4px;\n",
              "    }\n",
              "\n",
              "    [theme=dark] .colab-df-convert {\n",
              "      background-color: #3B4455;\n",
              "      fill: #D2E3FC;\n",
              "    }\n",
              "\n",
              "    [theme=dark] .colab-df-convert:hover {\n",
              "      background-color: #434B5C;\n",
              "      box-shadow: 0px 1px 3px 1px rgba(0, 0, 0, 0.15);\n",
              "      filter: drop-shadow(0px 1px 2px rgba(0, 0, 0, 0.3));\n",
              "      fill: #FFFFFF;\n",
              "    }\n",
              "  </style>\n",
              "\n",
              "    <script>\n",
              "      const buttonEl =\n",
              "        document.querySelector('#df-de7c8798-bec3-48c4-9d1a-b5dcdbeaf67e button.colab-df-convert');\n",
              "      buttonEl.style.display =\n",
              "        google.colab.kernel.accessAllowed ? 'block' : 'none';\n",
              "\n",
              "      async function convertToInteractive(key) {\n",
              "        const element = document.querySelector('#df-de7c8798-bec3-48c4-9d1a-b5dcdbeaf67e');\n",
              "        const dataTable =\n",
              "          await google.colab.kernel.invokeFunction('convertToInteractive',\n",
              "                                                    [key], {});\n",
              "        if (!dataTable) return;\n",
              "\n",
              "        const docLinkHtml = 'Like what you see? Visit the ' +\n",
              "          '<a target=\"_blank\" href=https://colab.research.google.com/notebooks/data_table.ipynb>data table notebook</a>'\n",
              "          + ' to learn more about interactive tables.';\n",
              "        element.innerHTML = '';\n",
              "        dataTable['output_type'] = 'display_data';\n",
              "        await google.colab.output.renderOutput(dataTable, element);\n",
              "        const docLink = document.createElement('div');\n",
              "        docLink.innerHTML = docLinkHtml;\n",
              "        element.appendChild(docLink);\n",
              "      }\n",
              "    </script>\n",
              "  </div>\n",
              "\n",
              "\n",
              "<div id=\"df-5947bf86-7484-4d04-8618-bd7393a3d0dc\">\n",
              "  <button class=\"colab-df-quickchart\" onclick=\"quickchart('df-5947bf86-7484-4d04-8618-bd7393a3d0dc')\"\n",
              "            title=\"Suggest charts\"\n",
              "            style=\"display:none;\">\n",
              "\n",
              "<svg xmlns=\"http://www.w3.org/2000/svg\" height=\"24px\"viewBox=\"0 0 24 24\"\n",
              "     width=\"24px\">\n",
              "    <g>\n",
              "        <path d=\"M19 3H5c-1.1 0-2 .9-2 2v14c0 1.1.9 2 2 2h14c1.1 0 2-.9 2-2V5c0-1.1-.9-2-2-2zM9 17H7v-7h2v7zm4 0h-2V7h2v10zm4 0h-2v-4h2v4z\"/>\n",
              "    </g>\n",
              "</svg>\n",
              "  </button>\n",
              "\n",
              "<style>\n",
              "  .colab-df-quickchart {\n",
              "      --bg-color: #E8F0FE;\n",
              "      --fill-color: #1967D2;\n",
              "      --hover-bg-color: #E2EBFA;\n",
              "      --hover-fill-color: #174EA6;\n",
              "      --disabled-fill-color: #AAA;\n",
              "      --disabled-bg-color: #DDD;\n",
              "  }\n",
              "\n",
              "  [theme=dark] .colab-df-quickchart {\n",
              "      --bg-color: #3B4455;\n",
              "      --fill-color: #D2E3FC;\n",
              "      --hover-bg-color: #434B5C;\n",
              "      --hover-fill-color: #FFFFFF;\n",
              "      --disabled-bg-color: #3B4455;\n",
              "      --disabled-fill-color: #666;\n",
              "  }\n",
              "\n",
              "  .colab-df-quickchart {\n",
              "    background-color: var(--bg-color);\n",
              "    border: none;\n",
              "    border-radius: 50%;\n",
              "    cursor: pointer;\n",
              "    display: none;\n",
              "    fill: var(--fill-color);\n",
              "    height: 32px;\n",
              "    padding: 0;\n",
              "    width: 32px;\n",
              "  }\n",
              "\n",
              "  .colab-df-quickchart:hover {\n",
              "    background-color: var(--hover-bg-color);\n",
              "    box-shadow: 0 1px 2px rgba(60, 64, 67, 0.3), 0 1px 3px 1px rgba(60, 64, 67, 0.15);\n",
              "    fill: var(--button-hover-fill-color);\n",
              "  }\n",
              "\n",
              "  .colab-df-quickchart-complete:disabled,\n",
              "  .colab-df-quickchart-complete:disabled:hover {\n",
              "    background-color: var(--disabled-bg-color);\n",
              "    fill: var(--disabled-fill-color);\n",
              "    box-shadow: none;\n",
              "  }\n",
              "\n",
              "  .colab-df-spinner {\n",
              "    border: 2px solid var(--fill-color);\n",
              "    border-color: transparent;\n",
              "    border-bottom-color: var(--fill-color);\n",
              "    animation:\n",
              "      spin 1s steps(1) infinite;\n",
              "  }\n",
              "\n",
              "  @keyframes spin {\n",
              "    0% {\n",
              "      border-color: transparent;\n",
              "      border-bottom-color: var(--fill-color);\n",
              "      border-left-color: var(--fill-color);\n",
              "    }\n",
              "    20% {\n",
              "      border-color: transparent;\n",
              "      border-left-color: var(--fill-color);\n",
              "      border-top-color: var(--fill-color);\n",
              "    }\n",
              "    30% {\n",
              "      border-color: transparent;\n",
              "      border-left-color: var(--fill-color);\n",
              "      border-top-color: var(--fill-color);\n",
              "      border-right-color: var(--fill-color);\n",
              "    }\n",
              "    40% {\n",
              "      border-color: transparent;\n",
              "      border-right-color: var(--fill-color);\n",
              "      border-top-color: var(--fill-color);\n",
              "    }\n",
              "    60% {\n",
              "      border-color: transparent;\n",
              "      border-right-color: var(--fill-color);\n",
              "    }\n",
              "    80% {\n",
              "      border-color: transparent;\n",
              "      border-right-color: var(--fill-color);\n",
              "      border-bottom-color: var(--fill-color);\n",
              "    }\n",
              "    90% {\n",
              "      border-color: transparent;\n",
              "      border-bottom-color: var(--fill-color);\n",
              "    }\n",
              "  }\n",
              "</style>\n",
              "\n",
              "  <script>\n",
              "    async function quickchart(key) {\n",
              "      const quickchartButtonEl =\n",
              "        document.querySelector('#' + key + ' button');\n",
              "      quickchartButtonEl.disabled = true;  // To prevent multiple clicks.\n",
              "      quickchartButtonEl.classList.add('colab-df-spinner');\n",
              "      try {\n",
              "        const charts = await google.colab.kernel.invokeFunction(\n",
              "            'suggestCharts', [key], {});\n",
              "      } catch (error) {\n",
              "        console.error('Error during call to suggestCharts:', error);\n",
              "      }\n",
              "      quickchartButtonEl.classList.remove('colab-df-spinner');\n",
              "      quickchartButtonEl.classList.add('colab-df-quickchart-complete');\n",
              "    }\n",
              "    (() => {\n",
              "      let quickchartButtonEl =\n",
              "        document.querySelector('#df-5947bf86-7484-4d04-8618-bd7393a3d0dc button');\n",
              "      quickchartButtonEl.style.display =\n",
              "        google.colab.kernel.accessAllowed ? 'block' : 'none';\n",
              "    })();\n",
              "  </script>\n",
              "</div>\n",
              "\n",
              "  <div id=\"id_79fa05dd-15a7-46a8-93f5-2bf11270a029\">\n",
              "    <style>\n",
              "      .colab-df-generate {\n",
              "        background-color: #E8F0FE;\n",
              "        border: none;\n",
              "        border-radius: 50%;\n",
              "        cursor: pointer;\n",
              "        display: none;\n",
              "        fill: #1967D2;\n",
              "        height: 32px;\n",
              "        padding: 0 0 0 0;\n",
              "        width: 32px;\n",
              "      }\n",
              "\n",
              "      .colab-df-generate:hover {\n",
              "        background-color: #E2EBFA;\n",
              "        box-shadow: 0px 1px 2px rgba(60, 64, 67, 0.3), 0px 1px 3px 1px rgba(60, 64, 67, 0.15);\n",
              "        fill: #174EA6;\n",
              "      }\n",
              "\n",
              "      [theme=dark] .colab-df-generate {\n",
              "        background-color: #3B4455;\n",
              "        fill: #D2E3FC;\n",
              "      }\n",
              "\n",
              "      [theme=dark] .colab-df-generate:hover {\n",
              "        background-color: #434B5C;\n",
              "        box-shadow: 0px 1px 3px 1px rgba(0, 0, 0, 0.15);\n",
              "        filter: drop-shadow(0px 1px 2px rgba(0, 0, 0, 0.3));\n",
              "        fill: #FFFFFF;\n",
              "      }\n",
              "    </style>\n",
              "    <button class=\"colab-df-generate\" onclick=\"generateWithVariable('history_pd')\"\n",
              "            title=\"Generate code using this dataframe.\"\n",
              "            style=\"display:none;\">\n",
              "\n",
              "  <svg xmlns=\"http://www.w3.org/2000/svg\" height=\"24px\"viewBox=\"0 0 24 24\"\n",
              "       width=\"24px\">\n",
              "    <path d=\"M7,19H8.4L18.45,9,17,7.55,7,17.6ZM5,21V16.75L18.45,3.32a2,2,0,0,1,2.83,0l1.4,1.43a1.91,1.91,0,0,1,.58,1.4,1.91,1.91,0,0,1-.58,1.4L9.25,21ZM18.45,9,17,7.55Zm-12,3A5.31,5.31,0,0,0,4.9,8.1,5.31,5.31,0,0,0,1,6.5,5.31,5.31,0,0,0,4.9,4.9,5.31,5.31,0,0,0,6.5,1,5.31,5.31,0,0,0,8.1,4.9,5.31,5.31,0,0,0,12,6.5,5.46,5.46,0,0,0,6.5,12Z\"/>\n",
              "  </svg>\n",
              "    </button>\n",
              "    <script>\n",
              "      (() => {\n",
              "      const buttonEl =\n",
              "        document.querySelector('#id_79fa05dd-15a7-46a8-93f5-2bf11270a029 button.colab-df-generate');\n",
              "      buttonEl.style.display =\n",
              "        google.colab.kernel.accessAllowed ? 'block' : 'none';\n",
              "\n",
              "      buttonEl.onclick = () => {\n",
              "        google.colab.notebook.generateWithVariable('history_pd');\n",
              "      }\n",
              "      })();\n",
              "    </script>\n",
              "  </div>\n",
              "\n",
              "    </div>\n",
              "  </div>\n"
            ],
            "application/vnd.google.colaboratory.intrinsic+json": {
              "type": "dataframe",
              "variable_name": "history_pd",
              "summary": "{\n  \"name\": \"history_pd\",\n  \"rows\": 30,\n  \"fields\": [\n    {\n      \"column\": \"loss\",\n      \"properties\": {\n        \"dtype\": \"number\",\n        \"std\": 0.09992163658606745,\n        \"min\": 0.22745612263679504,\n        \"max\": 0.715648353099823,\n        \"num_unique_values\": 30,\n        \"samples\": [\n          0.23557837307453156,\n          0.2910897135734558,\n          0.25216057896614075\n        ],\n        \"semantic_type\": \"\",\n        \"description\": \"\"\n      }\n    },\n    {\n      \"column\": \"accuracy\",\n      \"properties\": {\n        \"dtype\": \"number\",\n        \"std\": 0.03204883639796286,\n        \"min\": 0.7643454670906067,\n        \"max\": 0.9174545407295227,\n        \"num_unique_values\": 30,\n        \"samples\": [\n          0.9147636294364929,\n          0.8947454690933228,\n          0.9094727039337158\n        ],\n        \"semantic_type\": \"\",\n        \"description\": \"\"\n      }\n    },\n    {\n      \"column\": \"val_loss\",\n      \"properties\": {\n        \"dtype\": \"number\",\n        \"std\": 0.05298464312964709,\n        \"min\": 0.29610568284988403,\n        \"max\": 0.5141750574111938,\n        \"num_unique_values\": 30,\n        \"samples\": [\n          0.2970394492149353,\n          0.31334978342056274,\n          0.30289486050605774\n        ],\n        \"semantic_type\": \"\",\n        \"description\": \"\"\n      }\n    },\n    {\n      \"column\": \"val_accuracy\",\n      \"properties\": {\n        \"dtype\": \"number\",\n        \"std\": 0.016457970680646358,\n        \"min\": 0.8248000144958496,\n        \"max\": 0.8916000127792358,\n        \"num_unique_values\": 27,\n        \"samples\": [\n          0.8700000047683716,\n          0.8867999911308289,\n          0.8762000203132629\n        ],\n        \"semantic_type\": \"\",\n        \"description\": \"\"\n      }\n    }\n  ]\n}"
            }
          },
          "metadata": {},
          "execution_count": 9
        }
      ]
    },
    {
      "cell_type": "code",
      "source": [
        "history_pd.plot(kind='line', figsize=(8, 5))\n",
        "plt.grid=True\n",
        "plt.gca().set_ylim(0,1)\n",
        "plt.show()"
      ],
      "metadata": {
        "colab": {
          "base_uri": "https://localhost:8080/",
          "height": 451
        },
        "id": "CaiwqI28KZ_7",
        "outputId": "11f80ead-2c1b-4392-a9ce-110ee95a423d"
      },
      "execution_count": 10,
      "outputs": [
        {
          "output_type": "display_data",
          "data": {
            "text/plain": [
              "<Figure size 800x500 with 1 Axes>"
            ],
            "image/png": "[encoded data removed]"
          },
          "metadata": {}
        }
      ]
    },
    {
      "cell_type": "code",
      "source": [
        "model.evaluate(X_test,y_test)"
      ],
      "metadata": {
        "colab": {
          "base_uri": "https://localhost:8080/"
        },
        "id": "_W87SY5pKcOH",
        "outputId": "4f7bd4f1-ca2d-49d6-ee1a-fb331f30cfc7"
      },
      "execution_count": 11,
      "outputs": [
        {
          "output_type": "stream",
          "name": "stdout",
          "text": [
            "313/313 [==============================] - 1s 2ms/step - loss: 62.6919 - accuracy: 0.8506\n"
          ]
        },
        {
          "output_type": "execute_result",
          "data": {
            "text/plain": [
              "[62.691932678222656, 0.850600004196167]"
            ]
          },
          "metadata": {},
          "execution_count": 11
        }
      ]
    },
    {
      "cell_type": "code",
      "source": [
        "model.save(\"mnist_fashion_base_model.h5\")"
      ],
      "metadata": {
        "colab": {
          "base_uri": "https://localhost:8080/"
        },
        "id": "mxLdIi8BKeYB",
        "outputId": "c732120d-1f42-4cb6-8cdc-4c8afb7484bc"
      },
      "execution_count": 12,
      "outputs": [
        {
          "output_type": "stream",
          "name": "stderr",
          "text": [
            "/usr/local/lib/python3.10/dist-packages/keras/src/engine/training.py:3103: UserWarning: You are saving your model as an HDF5 file via `model.save()`. This file format is considered legacy. We recommend using instead the native Keras format, e.g. `model.save('my_model.keras')`.\n",
            "  saving_api.save_model(\n"
          ]
        }
      ]
    },
    {
      "cell_type": "code",
      "source": [
        "!ls -ltr"
      ],
      "metadata": {
        "colab": {
          "base_uri": "https://localhost:8080/"
        },
        "id": "1IeQmj7bKuM-",
        "outputId": "be6dd552-c3af-4e52-b5df-39992e3f3d40"
      },
      "execution_count": 13,
      "outputs": [
        {
          "output_type": "stream",
          "name": "stdout",
          "text": [
            "total 2116\n",
            "drwxr-xr-x 1 root root    4096 Feb 22 14:24 sample_data\n",
            "-rw-r--r-- 1 root root 2158696 Feb 26 02:10 mnist_fashion_base_model.h5\n"
          ]
        }
      ]
    },
    {
      "cell_type": "markdown",
      "source": [
        "## Now start transfer learning"
      ],
      "metadata": {
        "id": "CKgEm-UTKwfh"
      }
    },
    {
      "cell_type": "code",
      "source": [
        "model_base = keras.models.load_model(\"mnist_fashion_base_model.h5\")\n",
        "new_model = keras.models.Sequential(model_base.layers[:-1])\n",
        "\n",
        "new_model.add(keras.layers.Dense(1,activation=\"sigmoid\"))\n",
        "\n",
        "new_model.summary()"
      ],
      "metadata": {
        "colab": {
          "base_uri": "https://localhost:8080/"
        },
        "id": "z2hS4Q11Kvls",
        "outputId": "0dcd83fa-5b35-446c-be2f-10d098cab729"
      },
      "execution_count": 14,
      "outputs": [
        {
          "output_type": "stream",
          "name": "stdout",
          "text": [
            "Model: \"sequential_1\"\n",
            "_________________________________________________________________\n",
            " Layer (type)                Output Shape              Param #   \n",
            "=================================================================\n",
            " flatten (Flatten)           (None, 784)               0         \n",
            "                                                                 \n",
            " dense (Dense)               (None, 300)               235500    \n",
            "                                                                 \n",
            " dense_1 (Dense)             (None, 100)               30100     \n",
            "                                                                 \n",
            " dense_3 (Dense)             (None, 1)                 101       \n",
            "                                                                 \n",
            "=================================================================\n",
            "Total params: 265701 (1.01 MB)\n",
            "Trainable params: 265701 (1.01 MB)\n",
            "Non-trainable params: 0 (0.00 Byte)\n",
            "_________________________________________________________________\n"
          ]
        }
      ]
    },
    {
      "cell_type": "code",
      "source": [
        "# above declaration will update model A because we have just copied by reference.\n",
        "# for deep copy lets clone the base model\n",
        "\n",
        "model_base_clone = keras.models.clone_model(model_base)\n",
        "model_base_clone.set_weights(model_base.get_weights())"
      ],
      "metadata": {
        "id": "CA5IEPTlLK99"
      },
      "execution_count": 16,
      "outputs": []
    },
    {
      "cell_type": "code",
      "source": [
        "new_model = keras.models.Sequential(model_base_clone.layers[:-1])\n",
        "\n",
        "new_model.add(keras.layers.Dense(1,activation=\"sigmoid\"))\n",
        "\n",
        "new_model.summary()"
      ],
      "metadata": {
        "colab": {
          "base_uri": "https://localhost:8080/"
        },
        "id": "4bsRv06ALudI",
        "outputId": "e2e9af63-2d1a-4fe5-fdc9-ea91b6981148"
      },
      "execution_count": 17,
      "outputs": [
        {
          "output_type": "stream",
          "name": "stdout",
          "text": [
            "Model: \"sequential_2\"\n",
            "_________________________________________________________________\n",
            " Layer (type)                Output Shape              Param #   \n",
            "=================================================================\n",
            " flatten (Flatten)           (None, 784)               0         \n",
            "                                                                 \n",
            " dense (Dense)               (None, 300)               235500    \n",
            "                                                                 \n",
            " dense_1 (Dense)             (None, 100)               30100     \n",
            "                                                                 \n",
            " dense_4 (Dense)             (None, 1)                 101       \n",
            "                                                                 \n",
            "=================================================================\n",
            "Total params: 265701 (1.01 MB)\n",
            "Trainable params: 265701 (1.01 MB)\n",
            "Non-trainable params: 0 (0.00 Byte)\n",
            "_________________________________________________________________\n"
          ]
        }
      ]
    },
    {
      "cell_type": "code",
      "source": [
        "# freeze pre trained layers\n",
        "for layer in new_model.layers[:-1]:\n",
        "  layer.trainable = False"
      ],
      "metadata": {
        "id": "9dtnV-jlL_29"
      },
      "execution_count": 18,
      "outputs": []
    },
    {
      "cell_type": "code",
      "source": [
        "new_model.compile(loss = \"binary_crossentropy\", optimizer = \"sgd\", metrics = [\"accuracy\"])"
      ],
      "metadata": {
        "id": "d7CD1LCqMMxE"
      },
      "execution_count": 19,
      "outputs": []
    },
    {
      "cell_type": "code",
      "source": [
        "# We must always compile your model after you freeze or unfreeze layers"
      ],
      "metadata": {
        "id": "X6cLmIMjMVfC"
      },
      "execution_count": 20,
      "outputs": []
    },
    {
      "cell_type": "code",
      "source": [
        "# data_prep\n",
        "import numpy as np\n",
        "def split_dataset(X, y):\n",
        "    y_5_or_6 = (y == 5) | (y == 6) # sandals or shirts\n",
        "    y_A = y[~y_5_or_6]\n",
        "    y_A[y_A > 6] -= 2 # class indices 7, 8, 9 should be moved to 5, 6, 7\n",
        "    y_B = (y[y_5_or_6] == 6).astype(np.float32) # binary classification task: is it a shirt (class 6)?\n",
        "    return ((X[~y_5_or_6], y_A),\n",
        "            (X[y_5_or_6], y_B))\n",
        "\n",
        "(X_train_A, y_train_A), (X_train_B, y_train_B) = split_dataset(X_train, y_train)\n",
        "(X_valid_A, y_valid_A), (X_valid_B, y_valid_B) = split_dataset(X_valid, y_valid)\n",
        "(X_test_A, y_test_A), (X_test_B, y_test_B) = split_dataset(X_test, y_test)\n",
        "X_train_B = X_train_B[:200]\n",
        "y_train_B = y_train_B[:200]"
      ],
      "metadata": {
        "id": "xEk9-_8kM8Wp"
      },
      "execution_count": 23,
      "outputs": []
    },
    {
      "cell_type": "code",
      "source": [
        "# now we can train the new model for few epochs and unfreeze few layers and then continue training\n",
        "\n",
        "history = new_model.fit(X_train_B, y_train_B, epochs = 4, validation_data = (X_valid_B, y_valid_B))"
      ],
      "metadata": {
        "colab": {
          "base_uri": "https://localhost:8080/"
        },
        "id": "tCaGt-9_MZVe",
        "outputId": "b8dfd646-515b-470b-cd20-407e62c867f3"
      },
      "execution_count": 24,
      "outputs": [
        {
          "output_type": "stream",
          "name": "stdout",
          "text": [
            "Epoch 1/4\n",
            "7/7 [==============================] - 2s 70ms/step - loss: 0.4247 - accuracy: 0.8800 - val_loss: 0.3454 - val_accuracy: 0.9442\n",
            "Epoch 2/4\n",
            "7/7 [==============================] - 0s 16ms/step - loss: 0.2951 - accuracy: 0.9600 - val_loss: 0.2607 - val_accuracy: 0.9807\n",
            "Epoch 3/4\n",
            "7/7 [==============================] - 0s 31ms/step - loss: 0.2265 - accuracy: 0.9800 - val_loss: 0.2116 - val_accuracy: 0.9868\n",
            "Epoch 4/4\n",
            "7/7 [==============================] - 0s 17ms/step - loss: 0.1850 - accuracy: 0.9950 - val_loss: 0.1775 - val_accuracy: 0.9929\n"
          ]
        }
      ]
    },
    {
      "cell_type": "code",
      "source": [
        "# Unfreeze layers\n",
        "for layers in new_model.layers[:-1]:\n",
        "  layer.trainable = True"
      ],
      "metadata": {
        "id": "9ZeZb_ZgNVLY"
      },
      "execution_count": 25,
      "outputs": []
    },
    {
      "cell_type": "code",
      "source": [
        "# compile model and change the learning rate\n",
        "\n",
        "optimizer = keras.optimizers.SGD(learning_rate = 0.00001) # reduced learning rate\n",
        "new_model.compile(loss = \"binary_crossentropy\", optimizer = optimizer, metrics = [\"accuracy\"])\n"
      ],
      "metadata": {
        "colab": {
          "base_uri": "https://localhost:8080/"
        },
        "id": "HXt-r3MoNdRG",
        "outputId": "986d081a-f387-4610-d00e-6bfc97509ffe"
      },
      "execution_count": 26,
      "outputs": [
        {
          "output_type": "stream",
          "name": "stderr",
          "text": [
            "WARNING:absl:`lr` is deprecated in Keras optimizer, please use `learning_rate` or use the legacy optimizer, e.g.,tf.keras.optimizers.legacy.SGD.\n"
          ]
        }
      ]
    },
    {
      "cell_type": "code",
      "source": [
        "history = new_model.fit(X_train_B, y_train_B, epochs = 16, validation_data = (X_valid_B, y_valid_B))"
      ],
      "metadata": {
        "colab": {
          "base_uri": "https://localhost:8080/"
        },
        "id": "qMQqgYUwN04w",
        "outputId": "a9f30696-4bf8-4947-eba4-9db9869e52a3"
      },
      "execution_count": 27,
      "outputs": [
        {
          "output_type": "stream",
          "name": "stdout",
          "text": [
            "Epoch 1/16\n",
            "7/7 [==============================] - 1s 45ms/step - loss: 0.1519 - accuracy: 0.9950 - val_loss: 0.1447 - val_accuracy: 0.9939\n",
            "Epoch 2/16\n",
            "7/7 [==============================] - 0s 16ms/step - loss: 0.1240 - accuracy: 0.9950 - val_loss: 0.1224 - val_accuracy: 0.9990\n",
            "Epoch 3/16\n",
            "7/7 [==============================] - 0s 31ms/step - loss: 0.1050 - accuracy: 0.9950 - val_loss: 0.1072 - val_accuracy: 0.9990\n",
            "Epoch 4/16\n",
            "7/7 [==============================] - 0s 17ms/step - loss: 0.0918 - accuracy: 0.9950 - val_loss: 0.0955 - val_accuracy: 0.9990\n",
            "Epoch 5/16\n",
            "7/7 [==============================] - 0s 17ms/step - loss: 0.0815 - accuracy: 0.9950 - val_loss: 0.0862 - val_accuracy: 0.9990\n",
            "Epoch 6/16\n",
            "7/7 [==============================] - 0s 18ms/step - loss: 0.0728 - accuracy: 0.9950 - val_loss: 0.0789 - val_accuracy: 0.9990\n",
            "Epoch 7/16\n",
            "7/7 [==============================] - 0s 31ms/step - loss: 0.0664 - accuracy: 0.9950 - val_loss: 0.0731 - val_accuracy: 0.9990\n",
            "Epoch 8/16\n",
            "7/7 [==============================] - 0s 17ms/step - loss: 0.0611 - accuracy: 0.9950 - val_loss: 0.0683 - val_accuracy: 0.9990\n",
            "Epoch 9/16\n",
            "7/7 [==============================] - 0s 17ms/step - loss: 0.0568 - accuracy: 1.0000 - val_loss: 0.0640 - val_accuracy: 0.9990\n",
            "Epoch 10/16\n",
            "7/7 [==============================] - 0s 17ms/step - loss: 0.0528 - accuracy: 1.0000 - val_loss: 0.0604 - val_accuracy: 0.9990\n",
            "Epoch 11/16\n",
            "7/7 [==============================] - 0s 30ms/step - loss: 0.0495 - accuracy: 1.0000 - val_loss: 0.0572 - val_accuracy: 0.9990\n",
            "Epoch 12/16\n",
            "7/7 [==============================] - 0s 17ms/step - loss: 0.0466 - accuracy: 1.0000 - val_loss: 0.0544 - val_accuracy: 0.9990\n",
            "Epoch 13/16\n",
            "7/7 [==============================] - 0s 17ms/step - loss: 0.0440 - accuracy: 1.0000 - val_loss: 0.0520 - val_accuracy: 0.9990\n",
            "Epoch 14/16\n",
            "7/7 [==============================] - 0s 21ms/step - loss: 0.0418 - accuracy: 1.0000 - val_loss: 0.0499 - val_accuracy: 0.9990\n",
            "Epoch 15/16\n",
            "7/7 [==============================] - 0s 30ms/step - loss: 0.0398 - accuracy: 1.0000 - val_loss: 0.0479 - val_accuracy: 0.9990\n",
            "Epoch 16/16\n",
            "7/7 [==============================] - 0s 17ms/step - loss: 0.0380 - accuracy: 1.0000 - val_loss: 0.0462 - val_accuracy: 0.9990\n"
          ]
        }
      ]
    },
    {
      "cell_type": "code",
      "source": [
        "new_model.evaluate(X_test_B, y_test_B)"
      ],
      "metadata": {
        "colab": {
          "base_uri": "https://localhost:8080/"
        },
        "id": "dLWAhOJ4N-oX",
        "outputId": "39f113db-02ca-4aa4-db86-bfa2ee4bfa8b"
      },
      "execution_count": 29,
      "outputs": [
        {
          "output_type": "stream",
          "name": "stdout",
          "text": [
            "63/63 [==============================] - 0s 2ms/step - loss: 4.1825e-04 - accuracy: 0.9995\n"
          ]
        },
        {
          "output_type": "execute_result",
          "data": {
            "text/plain": [
              "[0.0004182462580502033, 0.9994999766349792]"
            ]
          },
          "metadata": {},
          "execution_count": 29
        }
      ]
    },
    {
      "cell_type": "code",
      "source": [
        "# this significantly reduces the error"
      ],
      "metadata": {
        "id": "1FtFUP3gODYy"
      },
      "execution_count": 30,
      "outputs": []
    },
    {
      "cell_type": "markdown",
      "source": [
        "# Unsupervised Pretraining"
      ],
      "metadata": {
        "id": "bFf-_UhzOrNr"
      }
    },
    {
      "cell_type": "code",
      "source": [
        "# say auto encoders or GAN (generative adversarial network)"
      ],
      "metadata": {
        "id": "5DqYS2ucOI-U"
      },
      "execution_count": 32,
      "outputs": []
    },
    {
      "cell_type": "markdown",
      "source": [
        "#### Pretraining on an Auxiliary Task"
      ],
      "metadata": {
        "id": "FDq0gmAKPzVO"
      }
    },
    {
      "cell_type": "markdown",
      "source": [
        "# Faster Optimizers"
      ],
      "metadata": {
        "id": "No6WS2eSQDU3"
      }
    },
    {
      "cell_type": "markdown",
      "source": [
        "## momentum Optimizer"
      ],
      "metadata": {
        "id": "78LvX1zIRAhk"
      }
    },
    {
      "cell_type": "code",
      "source": [
        "momentum_optimizer = keras.optimizers.SGD(momentum = 0.9, learning_rate = 0.00001)"
      ],
      "metadata": {
        "id": "mzicCM3yO_Hq"
      },
      "execution_count": 33,
      "outputs": []
    },
    {
      "cell_type": "markdown",
      "source": [
        "## Nesterov Accelerated Gradient"
      ],
      "metadata": {
        "id": "zJHwcTk3RRME"
      }
    },
    {
      "cell_type": "code",
      "source": [
        "nag_optimizer = keras.optimizers.SGD(learning_rate = 0.00001, momentum = 0.9, nesterov = True)"
      ],
      "metadata": {
        "id": "fBFMYS9hRPFh"
      },
      "execution_count": 36,
      "outputs": []
    },
    {
      "cell_type": "markdown",
      "source": [
        "## Ada Grad"
      ],
      "metadata": {
        "id": "TfKbVZvCR5Ka"
      }
    },
    {
      "cell_type": "code",
      "source": [
        "# scaling down the gradient vector along the steepest dimensions\n",
        "\n"
      ],
      "metadata": {
        "id": "5RL-zTyeRwmu"
      },
      "execution_count": null,
      "outputs": []
    },
    {
      "cell_type": "markdown",
      "source": [
        "## RMSProp"
      ],
      "metadata": {
        "id": "Nc26x3f_S23D"
      }
    },
    {
      "cell_type": "code",
      "source": [
        "rms_prop_optimizer = keras.optimizers.RMSprop(learning_rate = 0.00001, rho = 0.9)"
      ],
      "metadata": {
        "id": "iYUKYy6fS1_C"
      },
      "execution_count": 37,
      "outputs": []
    },
    {
      "cell_type": "markdown",
      "source": [
        "## Adam"
      ],
      "metadata": {
        "id": "F7rUVmPKTOVV"
      }
    },
    {
      "cell_type": "code",
      "source": [
        "# momentum + RMSProp"
      ],
      "metadata": {
        "id": "kEOutjCtTE5J"
      },
      "execution_count": 38,
      "outputs": []
    },
    {
      "cell_type": "code",
      "source": [
        "adam_optimizer = keras.optimizers.Adam(learning_rate = 0.0001, beta_1 = 0.9, beta_2 = 0.999)"
      ],
      "metadata": {
        "id": "tzWkRy5-TT17"
      },
      "execution_count": 39,
      "outputs": []
    },
    {
      "cell_type": "markdown",
      "source": [
        "# Larning Rate scheduling"
      ],
      "metadata": {
        "id": "kg-NpO64VjEc"
      }
    },
    {
      "cell_type": "code",
      "source": [
        "lr_schedule = keras.optimizers.schedules.ExponentialDecay(\n",
        "    initial_learning_rate=0.001,\n",
        "    decay_steps=10000,\n",
        "    decay_rate=0.9)\n",
        "\n",
        "optimizer = keras.optimizers.SGD(lr_schedule)"
      ],
      "metadata": {
        "id": "6-L2vOEET6yK"
      },
      "execution_count": 41,
      "outputs": []
    },
    {
      "cell_type": "code",
      "source": [],
      "metadata": {
        "id": "e85oCQLBVsBr"
      },
      "execution_count": null,
      "outputs": []
    }
  ]
}