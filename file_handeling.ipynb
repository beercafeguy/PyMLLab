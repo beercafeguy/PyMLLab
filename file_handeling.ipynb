{
  "nbformat": 4,
  "nbformat_minor": 0,
  "metadata": {
    "colab": {
      "provenance": [],
      "authorship_tag": "ABX9TyNw4X1sziRuLM3n4q1u4fXR",
      "include_colab_link": true
    },
    "kernelspec": {
      "name": "python3",
      "display_name": "Python 3"
    },
    "language_info": {
      "name": "python"
    }
  },
  "cells": [
    {
      "cell_type": "markdown",
      "metadata": {
        "id": "view-in-github",
        "colab_type": "text"
      },
      "source": [
        "<a href=\"https://colab.research.google.com/github/beercafeguy/PyMLLab/blob/master/file_handeling.ipynb\" target=\"_parent\"><img src=\"https://colab.research.google.com/assets/colab-badge.svg\" alt=\"Open In Colab\"/></a>"
      ]
    },
    {
      "cell_type": "code",
      "execution_count": 1,
      "metadata": {
        "id": "WMFsYMPNWZ8P"
      },
      "outputs": [],
      "source": [
        "f = open(\"test.txt\",\"w\")"
      ]
    },
    {
      "cell_type": "code",
      "source": [
        "!pwd"
      ],
      "metadata": {
        "colab": {
          "base_uri": "https://localhost:8080/"
        },
        "id": "80MvZfMtWf5V",
        "outputId": "e2f2eb4d-3026-4adf-d215-ee80252d3da0"
      },
      "execution_count": 3,
      "outputs": [
        {
          "output_type": "stream",
          "name": "stdout",
          "text": [
            "/content\n"
          ]
        }
      ]
    },
    {
      "cell_type": "code",
      "source": [
        "!ls -ltr"
      ],
      "metadata": {
        "colab": {
          "base_uri": "https://localhost:8080/"
        },
        "id": "jA5nCboxWgVD",
        "outputId": "6efe4842-3b7e-4a93-96a6-b3ad91fe6c52"
      },
      "execution_count": 4,
      "outputs": [
        {
          "output_type": "stream",
          "name": "stdout",
          "text": [
            "total 4\n",
            "drwxr-xr-x 1 root root 4096 Feb 13 14:35 sample_data\n",
            "-rw-r--r-- 1 root root    0 Feb 15 04:34 test.txt\n"
          ]
        }
      ]
    },
    {
      "cell_type": "code",
      "source": [
        "f.write(\"This is my file\")"
      ],
      "metadata": {
        "colab": {
          "base_uri": "https://localhost:8080/"
        },
        "id": "PNrPQg8IWvGh",
        "outputId": "04873d41-5f9e-46f8-fe51-5de7fca9c082"
      },
      "execution_count": 6,
      "outputs": [
        {
          "output_type": "execute_result",
          "data": {
            "text/plain": [
              "15"
            ]
          },
          "metadata": {},
          "execution_count": 6
        }
      ]
    },
    {
      "cell_type": "code",
      "source": [
        "f.close()"
      ],
      "metadata": {
        "id": "YzTda7-mW29G"
      },
      "execution_count": 7,
      "outputs": []
    },
    {
      "cell_type": "code",
      "source": [
        "!cat test.txt"
      ],
      "metadata": {
        "colab": {
          "base_uri": "https://localhost:8080/"
        },
        "id": "qNs7_DAvXN84",
        "outputId": "e0e2bcec-add7-469a-ebfa-e95a5e955569"
      },
      "execution_count": 8,
      "outputs": [
        {
          "output_type": "stream",
          "name": "stdout",
          "text": [
            "This is my file"
          ]
        }
      ]
    },
    {
      "cell_type": "code",
      "source": [
        "!wc -l test.txt"
      ],
      "metadata": {
        "colab": {
          "base_uri": "https://localhost:8080/"
        },
        "id": "9qYgzRYGXPEz",
        "outputId": "78dc42a4-30ae-40ba-da7a-9eaa2d4291cc"
      },
      "execution_count": 9,
      "outputs": [
        {
          "output_type": "stream",
          "name": "stdout",
          "text": [
            "0 test.txt\n"
          ]
        }
      ]
    },
    {
      "cell_type": "code",
      "source": [
        "f = open(\"test.txt\",\"w\")\n",
        "f.write(\"This is my file in secind run\")\n",
        "f.close()\n",
        "!cat test.txt"
      ],
      "metadata": {
        "colab": {
          "base_uri": "https://localhost:8080/"
        },
        "id": "8CKJrXjdXRd-",
        "outputId": "5188415a-5b7b-491b-bead-a51f0a19a79d"
      },
      "execution_count": 10,
      "outputs": [
        {
          "output_type": "stream",
          "name": "stdout",
          "text": [
            "This is my file in secind run"
          ]
        }
      ]
    },
    {
      "cell_type": "code",
      "source": [
        "f = open(\"test.txt\",\"a\")\n",
        "f.write(\"The simplest way to produce output is using the print statement where you can pass zero or more expressions separated by commas. This function converts the expressions you pass into a string and writes the result to standard output as follows\")\n",
        "f.close()"
      ],
      "metadata": {
        "id": "e1fWbg_uXZ-S"
      },
      "execution_count": 11,
      "outputs": []
    },
    {
      "cell_type": "code",
      "source": [
        "!cat test.txt"
      ],
      "metadata": {
        "colab": {
          "base_uri": "https://localhost:8080/"
        },
        "id": "JIFWDG8KXt1o",
        "outputId": "240d4804-cebd-4ee4-d3c1-1a5832f77082"
      },
      "execution_count": 12,
      "outputs": [
        {
          "output_type": "stream",
          "name": "stdout",
          "text": [
            "This is my file in secind runThe simplest way to produce output is using the print statement where you can pass zero or more expressions separated by commas. This function converts the expressions you pass into a string and writes the result to standard output as follows"
          ]
        }
      ]
    },
    {
      "cell_type": "code",
      "source": [
        "f = open(\"test.txt\",\"r\")\n",
        "print(f.read())"
      ],
      "metadata": {
        "colab": {
          "base_uri": "https://localhost:8080/"
        },
        "id": "gEwXPdn4Xv_o",
        "outputId": "ecab748c-4806-4f0c-916a-f6dd51fc05ba"
      },
      "execution_count": 13,
      "outputs": [
        {
          "output_type": "stream",
          "name": "stdout",
          "text": [
            "This is my file in secind runThe simplest way to produce output is using the print statement where you can pass zero or more expressions separated by commas. This function converts the expressions you pass into a string and writes the result to standard output as follows\n"
          ]
        }
      ]
    },
    {
      "cell_type": "code",
      "source": [
        "f = open(\"test.txt\",\"r\")\n",
        "for line in f:\n",
        "  print(line)\n",
        "f.close()"
      ],
      "metadata": {
        "colab": {
          "base_uri": "https://localhost:8080/"
        },
        "id": "FhbwHDlwXztk",
        "outputId": "24776984-b921-4047-baf4-bbf8b8616d48"
      },
      "execution_count": 15,
      "outputs": [
        {
          "output_type": "stream",
          "name": "stdout",
          "text": [
            "This is my file in secind runThe simplest way to produce output is using the print statement where you can pass zero or more expressions separated by commas. This function converts the expressions you pass into a string and writes the result to standard output as follows\n"
          ]
        }
      ]
    },
    {
      "cell_type": "code",
      "source": [],
      "metadata": {
        "id": "J70aM-bpYCy9"
      },
      "execution_count": null,
      "outputs": []
    }
  ]
}