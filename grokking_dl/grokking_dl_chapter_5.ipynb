{
  "nbformat": 4,
  "nbformat_minor": 0,
  "metadata": {
    "colab": {
      "provenance": [],
      "authorship_tag": "ABX9TyNPdxbvAYYmVLwROZeWCZVO",
      "include_colab_link": true
    },
    "kernelspec": {
      "name": "python3",
      "display_name": "Python 3"
    },
    "language_info": {
      "name": "python"
    }
  },
  "cells": [
    {
      "cell_type": "markdown",
      "metadata": {
        "id": "view-in-github",
        "colab_type": "text"
      },
      "source": [
        "<a href=\"https://colab.research.google.com/github/beercafeguy/PyMLLab/blob/master/grokking_dl/grokking_dl_chapter_5.ipynb\" target=\"_parent\"><img src=\"https://colab.research.google.com/assets/colab-badge.svg\" alt=\"Open In Colab\"/></a>"
      ]
    },
    {
      "cell_type": "code",
      "execution_count": 14,
      "metadata": {
        "id": "dFDqPOrKJ3Hm"
      },
      "outputs": [],
      "source": [
        "def w_sum(a,b):\n",
        "  assert(len(a) == len(b))\n",
        "  output = 0\n",
        "  for i in range(len(a)):\n",
        "    output += (a[i] * b[i])\n",
        "  return output\n",
        "\n",
        "weights = [0.1, 0.2, -.1]\n",
        "\n",
        "def neural_network(input , weights):\n",
        "  pred = w_sum(input,weights)\n",
        "  return pred"
      ]
    },
    {
      "cell_type": "code",
      "source": [
        "toes = [8.5 , 9.5, 9.9, 9.0]\n",
        "wlrec = [0.65, 0.8, 0.8, 0.9]\n",
        "nfans = [1.2 , 1.3, 0.5, 1.0]"
      ],
      "metadata": {
        "id": "DfDPQs9CKI_T"
      },
      "execution_count": 15,
      "outputs": []
    },
    {
      "cell_type": "code",
      "source": [
        "win_lose_bin = [1, 1, 0, 1]\n",
        "truth = win_lose_bin[0]\n",
        "\n",
        "input = [toes[0], wlrec[0], nfans[0]]\n",
        "pred = neural_network(input,weights)"
      ],
      "metadata": {
        "id": "yRsq1E8_KWQQ"
      },
      "execution_count": 16,
      "outputs": []
    },
    {
      "cell_type": "code",
      "source": [
        "error = (pred - truth) ** 2\n",
        "\n",
        "delta = pred - truth"
      ],
      "metadata": {
        "id": "IpimdYHAKnMS"
      },
      "execution_count": 17,
      "outputs": []
    },
    {
      "cell_type": "code",
      "source": [
        "def ele_mul(number,vector):\n",
        "  output = [0,0,0]\n",
        "  assert(len(output) == len(vector))\n",
        "  for i in range(len(vector)):\n",
        "    output[i] = number * vector[i]\n",
        "  return output\n",
        "\n",
        "input = [toes[0],wlrec[0],nfans[0]]\n",
        "pred = neural_network(input,weights)\n",
        "error = (pred - truth) ** 2\n",
        "delta = pred - truth\n",
        "weight_deltas = ele_mul(delta,input)\n",
        "\n",
        "alpha = 0.01\n",
        "\n",
        "print(\"Weights:\" + str(weights))\n",
        "for i in range(len(weights)):\n",
        "  weights[i] = weights[i] - alpha * weight_deltas[i]\n",
        "\n",
        "print(\"Weight Deltas:\" + str(weight_deltas))\n",
        "print(\"New Weight:\" + str(weights))"
      ],
      "metadata": {
        "colab": {
          "base_uri": "https://localhost:8080/"
        },
        "id": "vUSAL-_oKr9v",
        "outputId": "610870d8-546f-41b1-dc65-bbe43decebab"
      },
      "execution_count": 18,
      "outputs": [
        {
          "output_type": "stream",
          "name": "stdout",
          "text": [
            "Weights:[0.1, 0.2, -0.1]\n",
            "Weight Deltas:[-1.189999999999999, -0.09099999999999994, -0.16799999999999987]\n",
            "New Weight:[0.1119, 0.20091, -0.09832]\n"
          ]
        }
      ]
    },
    {
      "cell_type": "markdown",
      "source": [
        "combined code"
      ],
      "metadata": {
        "id": "_Twr_lFgNmA9"
      }
    },
    {
      "cell_type": "code",
      "source": [
        "def neural_network(input,weights):\n",
        "  out = 0\n",
        "  for i in range(len(input)):\n",
        "    out += (input[i] * weights[i])\n",
        "  return out\n",
        "\n",
        "\n",
        "def ele_mul(scaler,vector):\n",
        "  return [scaler * i for i in vector]\n",
        "\n"
      ],
      "metadata": {
        "id": "ovA4yp8tLjRN"
      },
      "execution_count": 19,
      "outputs": []
    },
    {
      "cell_type": "code",
      "source": [
        "toes = [8.5, 9.5, 9.9, 9.0]\n",
        "wlrec = [0.65, 0.8, 0.8, 0.9]\n",
        "nfans = [1.2, 1.3, 0.5, 1.0]\n",
        "\n",
        "win_or_lose_binary = [1, 1, 0, 1]\n",
        "truth = win_or_lose_binary[0]\n",
        "alpha = 0.01\n",
        "weights = [0.1, 0.2, -.1]\n",
        "input = [toes[0],wlrec[0],nfans[0]]"
      ],
      "metadata": {
        "id": "Z2cyjSeWOEfX"
      },
      "execution_count": 20,
      "outputs": []
    },
    {
      "cell_type": "code",
      "source": [
        "for i in range(3):\n",
        "\n",
        "  pred = neural_network(input,weights)\n",
        "\n",
        "  error = (pred - truth) ** 2\n",
        "  delta = pred - truth\n",
        "\n",
        "  weight_deltas = ele_mul(delta,weights)\n",
        "  print(f'Iteration {i}| Pred {pred}| error {error}| delta {delta}| weights {weights}| weight_deltas {weight_deltas}')\n",
        "\n",
        "  for j in range(len(weights)):\n",
        "    weights[j] -= alpha *  weight_deltas[i]"
      ],
      "metadata": {
        "colab": {
          "base_uri": "https://localhost:8080/"
        },
        "id": "JO0m58_2OH59",
        "outputId": "32acc860-e4e2-4d71-ceb6-fa61d7a328ad"
      },
      "execution_count": 21,
      "outputs": [
        {
          "output_type": "stream",
          "name": "stdout",
          "text": [
            "Iteration 0| Pred 0.8600000000000001| error 0.01959999999999997| delta -0.1399999999999999| weights [0.1, 0.2, -0.1]| weight_deltas [-0.013999999999999992, -0.027999999999999983, 0.013999999999999992]\n",
            "Iteration 1| Pred 0.8614490000000001| error 0.019196379600999965| delta -0.13855099999999987| weights [0.10014, 0.20014, -0.09986]| weight_deltas [-0.013874497139999989, -0.027729597139999975, 0.013835702859999988]\n",
            "Iteration 2| Pred 0.8643190133039902| error 0.018409330150802792| delta -0.1356809866960098| weights [0.1004172959714, 0.2004172959714, -0.0995827040286]| weight_deltas [-0.013624717798744804, -0.027192816468345784, 0.01351147954045716]\n"
          ]
        }
      ]
    },
    {
      "cell_type": "code",
      "source": [
        "def neural_network(input, weights):\n",
        "  return sum([i*j for i,j in zip(input,weights)])\n",
        "\n",
        "def ele_mul(scalar, vector):\n",
        "  return [scalar * i for i in vector]\n",
        "\n",
        "toes = [8.5, 9.5, 9.9, 9.0]\n",
        "wlrec = [0.65, 0.8, 0.8, 0.9]\n",
        "nfans = [1.2, 1.3, 0.5, 1.0]\n",
        "win_or_lose_binary = [1, 1, 0, 1]\n",
        "true = win_or_lose_binary[0]\n",
        "alpha = 0.3\n",
        "weights = [0.1, 0.2, -.1]\n",
        "input = [toes[0],wlrec[0],nfans[0]]\n",
        "\n",
        "\n",
        "for iter in range(3):\n",
        "\n",
        "  pred = neural_network(input,weights)\n",
        "\n",
        "  error = (pred - true) ** 2\n",
        "  delta = pred - true\n",
        "\n",
        "  weight_deltas = ele_mul(delta,weights)\n",
        "  weight_deltas[0] = 0 ## Here we are freezing weight for first input so this weight should never change\n",
        "\n",
        "  print(f'Iteration {i}| Pred {pred}| error {error}| delta {delta}| weights {weights}| weight_deltas {weight_deltas}')\n",
        "  for j in range(len(weights)):\n",
        "    weights[j] -= alpha *  weight_deltas[i]"
      ],
      "metadata": {
        "colab": {
          "base_uri": "https://localhost:8080/"
        },
        "id": "m0vVb_0MO2sR",
        "outputId": "cd9cd0c4-bb39-4be4-9433-e1ca02fb77e1"
      },
      "execution_count": 22,
      "outputs": [
        {
          "output_type": "stream",
          "name": "stdout",
          "text": [
            "Iteration 2| Pred 0.8600000000000001| error 0.01959999999999997| delta -0.1399999999999999| weights [0.1, 0.2, -0.1]| weight_deltas [0, -0.027999999999999983, 0.013999999999999992]\n",
            "Iteration 2| Pred 0.8165300000000002| error 0.033661240899999924| delta -0.1834699999999998| weights [0.09580000000000001, 0.1958, -0.1042]| weight_deltas [0, -0.03592342599999996, 0.01911757399999998]\n",
            "Iteration 2| Pred 0.7571699327300001| error 0.058966441570352676| delta -0.2428300672699999| weights [0.09006472780000002, 0.1900647278, -0.10993527219999999]| weight_deltas [0, -0.04615343063732822, 0.026695589543671745]\n"
          ]
        }
      ]
    },
    {
      "cell_type": "code",
      "source": [],
      "metadata": {
        "id": "2U3_xf2sQNUI"
      },
      "execution_count": null,
      "outputs": []
    }
  ]
}