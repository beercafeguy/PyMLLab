{
  "nbformat": 4,
  "nbformat_minor": 0,
  "metadata": {
    "colab": {
      "provenance": [],
      "authorship_tag": "ABX9TyOtiKvcvRQzxxEhnfZbeE8V",
      "include_colab_link": true
    },
    "kernelspec": {
      "name": "python3",
      "display_name": "Python 3"
    },
    "language_info": {
      "name": "python"
    }
  },
  "cells": [
    {
      "cell_type": "markdown",
      "metadata": {
        "id": "view-in-github",
        "colab_type": "text"
      },
      "source": [
        "<a href=\"https://colab.research.google.com/github/beercafeguy/PyMLLab/blob/master/grokking_dl/grokking_dl_chapter_9.ipynb\" target=\"_parent\"><img src=\"https://colab.research.google.com/assets/colab-badge.svg\" alt=\"Open In Colab\"/></a>"
      ]
    },
    {
      "cell_type": "code",
      "execution_count": 1,
      "metadata": {
        "id": "Mzdb8W5AuBvG"
      },
      "outputs": [],
      "source": [
        "import numpy as np\n",
        "\n",
        "from keras.datasets import mnist"
      ]
    },
    {
      "cell_type": "code",
      "source": [
        "np.random.seed(2024)"
      ],
      "metadata": {
        "id": "tiEhX0GEuad-"
      },
      "execution_count": 2,
      "outputs": []
    },
    {
      "cell_type": "code",
      "source": [
        "(X_train, y_train) , (X_test, y_test) = mnist.load_data()"
      ],
      "metadata": {
        "colab": {
          "base_uri": "https://localhost:8080/"
        },
        "id": "UKLEdZt8ue0e",
        "outputId": "2d4305b3-e6c1-4421-dbf0-5f7da304bb82"
      },
      "execution_count": 3,
      "outputs": [
        {
          "output_type": "stream",
          "name": "stdout",
          "text": [
            "Downloading data from https://storage.googleapis.com/tensorflow/tf-keras-datasets/mnist.npz\n",
            "11490434/11490434 [==============================] - 0s 0us/step\n"
          ]
        }
      ]
    },
    {
      "cell_type": "code",
      "source": [
        "images, labels = (X_train[0:1000].reshape(1000,28*28) / 255, y_train[0:1000])"
      ],
      "metadata": {
        "id": "Tt02OL4suhB9"
      },
      "execution_count": 4,
      "outputs": []
    },
    {
      "cell_type": "code",
      "source": [
        "one_hot_labels = np.zeros((len(labels),10))"
      ],
      "metadata": {
        "id": "SToQj1wiujir"
      },
      "execution_count": 5,
      "outputs": []
    },
    {
      "cell_type": "code",
      "source": [
        "for i,l in enumerate(labels): one_hot_labels[i][l] = 1\n",
        "labels = one_hot_labels"
      ],
      "metadata": {
        "id": "NVH7EIQtulzl"
      },
      "execution_count": 6,
      "outputs": []
    },
    {
      "cell_type": "code",
      "source": [
        "test_images = X_test.reshape(len(X_test),28*28) / 255\n",
        "test_labels = np.zeros((len(y_test),10))\n",
        "for i,l in enumerate(y_test):\n",
        "  test_labels[i][l] = 1"
      ],
      "metadata": {
        "id": "oIcB3VjHunT3"
      },
      "execution_count": 7,
      "outputs": []
    },
    {
      "cell_type": "code",
      "source": [
        "def tanh(x):\n",
        "  return np.tanh(x)\n",
        "\n",
        "\n",
        "def tanh2deriv(output):\n",
        "  return 1 - (output ** 2)\n",
        "\n",
        "def softmax(x):\n",
        "  temp = np.exp(x)\n",
        "  return temp / np.sum(temp,axis=1,keepdims=True)"
      ],
      "metadata": {
        "id": "_9Gkcw7vuqxN"
      },
      "execution_count": 8,
      "outputs": []
    },
    {
      "cell_type": "code",
      "source": [
        "alpha, iterations, hidden_size = (2, 300, 100)\n",
        "pixels_per_image, num_labels = (784, 10)\n",
        "batch_size = 100\n",
        "\n",
        "weights_0_1 = 0.02*np.random.random((pixels_per_image,hidden_size))-0.01\n",
        "weights_1_2 = 0.2*np.random.random((hidden_size,num_labels)) - 0.1\n"
      ],
      "metadata": {
        "id": "mcpmdynPu_cz"
      },
      "execution_count": 9,
      "outputs": []
    },
    {
      "cell_type": "code",
      "source": [
        "import sys\n",
        "\n",
        "for j in range(iterations):\n",
        "  correct_cnt = 0\n",
        "  for i in range(int(len(images) / batch_size)):\n",
        "    batch_start, batch_end=((i * batch_size),((i+1)*batch_size))\n",
        "    layer_0 = images[batch_start:batch_end]\n",
        "    layer_1 = tanh(np.dot(layer_0,weights_0_1))\n",
        "    dropout_mask = np.random.randint(2,size=layer_1.shape)\n",
        "    layer_1 *= dropout_mask * 2\n",
        "    layer_2 = softmax(np.dot(layer_1,weights_1_2))\n",
        "    for k in range(batch_size):\n",
        "      correct_cnt += int(np.argmax(layer_2[k:k+1]) == np.argmax(labels[batch_start+k:batch_start+k+1]))\n",
        "\n",
        "    layer_2_delta = (labels[batch_start:batch_end]-layer_2) / (batch_size * layer_2.shape[0])\n",
        "    layer_1_delta = layer_2_delta.dot(weights_1_2.T) * tanh2deriv(layer_1)\n",
        "\n",
        "    layer_1_delta *= dropout_mask\n",
        "    weights_1_2 += alpha * layer_1.T.dot(layer_2_delta)\n",
        "    weights_0_1 += alpha * layer_0.T.dot(layer_1_delta)\n",
        "\n",
        "  test_correct_cnt = 0\n",
        "  for i in range(len(test_images)):\n",
        "    layer_0 = test_images[i:i+1]\n",
        "    layer_1 = tanh(np.dot(layer_0,weights_0_1))\n",
        "    layer_2 = np.dot(layer_1,weights_1_2)\n",
        "    test_correct_cnt += int(np.argmax(layer_2) == np.argmax(test_labels[i:i+1]))\n",
        "\n",
        "  if (j%10 == 0):\n",
        "    sys.stdout.write(f\"I {j} | Test Acc. {test_correct_cnt/float(len(test_images))} | Train Acc. {correct_cnt/float(len(images))} \\n\")"
      ],
      "metadata": {
        "colab": {
          "base_uri": "https://localhost:8080/"
        },
        "id": "OS_DnsopvFyb",
        "outputId": "29252cc3-e471-420c-8970-86a9236cf534"
      },
      "execution_count": null,
      "outputs": [
        {
          "output_type": "stream",
          "name": "stdout",
          "text": [
            "I 0 | Test Acc. 0.7802 | Train Acc. 0.806 \n",
            "I 10 | Test Acc. 0.8039 | Train Acc. 0.841 \n",
            "I 20 | Test Acc. 0.8187 | Train Acc. 0.86 \n",
            "I 30 | Test Acc. 0.826 | Train Acc. 0.867 \n",
            "I 40 | Test Acc. 0.8339 | Train Acc. 0.869 \n",
            "I 50 | Test Acc. 0.839 | Train Acc. 0.883 \n",
            "I 60 | Test Acc. 0.8439 | Train Acc. 0.891 \n",
            "I 70 | Test Acc. 0.8473 | Train Acc. 0.898 \n",
            "I 80 | Test Acc. 0.8487 | Train Acc. 0.907 \n",
            "I 90 | Test Acc. 0.8515 | Train Acc. 0.908 \n",
            "I 100 | Test Acc. 0.8541 | Train Acc. 0.916 \n",
            "I 110 | Test Acc. 0.856 | Train Acc. 0.916 \n",
            "I 120 | Test Acc. 0.8564 | Train Acc. 0.915 \n",
            "I 130 | Test Acc. 0.8579 | Train Acc. 0.925 \n",
            "I 140 | Test Acc. 0.8595 | Train Acc. 0.925 \n",
            "I 150 | Test Acc. 0.8602 | Train Acc. 0.927 \n",
            "I 160 | Test Acc. 0.8599 | Train Acc. 0.936 \n",
            "I 170 | Test Acc. 0.8609 | Train Acc. 0.932 \n",
            "I 180 | Test Acc. 0.8629 | Train Acc. 0.932 \n",
            "I 190 | Test Acc. 0.8636 | Train Acc. 0.931 \n",
            "I 200 | Test Acc. 0.8638 | Train Acc. 0.932 \n",
            "I 210 | Test Acc. 0.8644 | Train Acc. 0.943 \n",
            "I 220 | Test Acc. 0.8645 | Train Acc. 0.943 \n",
            "I 230 | Test Acc. 0.8655 | Train Acc. 0.952 \n",
            "I 240 | Test Acc. 0.8657 | Train Acc. 0.95 \n"
          ]
        }
      ]
    },
    {
      "cell_type": "code",
      "source": [],
      "metadata": {
        "id": "bdh5RH8LwQs5"
      },
      "execution_count": null,
      "outputs": []
    }
  ]
}