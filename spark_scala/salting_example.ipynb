{
 "cells": [
  {
   "cell_type": "code",
   "execution_count": 48,
   "id": "a3d29d31-d2bc-4319-9752-e9f553bc14d7",
   "metadata": {},
   "outputs": [
    {
     "data": {
      "text/plain": [
       "import org.apache.spark.sql.SparkSession\n",
       "spark: org.apache.spark.sql.SparkSession = org.apache.spark.sql.SparkSession@20dac0c0\n"
      ]
     },
     "execution_count": 48,
     "metadata": {},
     "output_type": "execute_result"
    }
   ],
   "source": [
    "import org.apache.spark.sql.SparkSession\n",
    "val spark = SparkSession.builder().appName(\"Salting Spark App\")\n",
    ".config(\"spark.sql.shuffle.partitions\",4)\n",
    ".master(\"local[*]\")\n",
    ".getOrCreate()"
   ]
  },
  {
   "cell_type": "markdown",
   "id": "15cf5174-ec2a-49cf-ab9f-155cac34d230",
   "metadata": {},
   "source": [
    "#### Source Data"
   ]
  },
  {
   "cell_type": "code",
   "execution_count": 49,
   "id": "a266b351-39b5-4599-be6c-bc843c59de9a",
   "metadata": {},
   "outputs": [
    {
     "data": {
      "text/plain": [
       "tranDF: org.apache.spark.sql.DataFrame = [tick_id: string, acct_id: int ... 4 more fields]\n",
       "dimDF: org.apache.spark.sql.DataFrame = [tick: string, tick_name: string ... 2 more fields]\n"
      ]
     },
     "execution_count": 49,
     "metadata": {},
     "output_type": "execute_result"
    }
   ],
   "source": [
    "val tranDF=spark.read.option(\"header\",\"true\").option(\"inferSchema\",\"true\").csv(\"../data/stock_transactions.csv\")\n",
    "val dimDF=spark.read.option(\"header\",\"true\").option(\"inferSchema\",\"true\").csv(\"../data/dim_org.csv\")"
   ]
  },
  {
   "cell_type": "markdown",
   "id": "95e34fdb-5bf5-4ad9-ae61-deecbce4eaba",
   "metadata": {},
   "source": [
    "#### Simple join"
   ]
  },
  {
   "cell_type": "code",
   "execution_count": 50,
   "id": "4aa343ab-e3de-4116-863c-06bd2ea49db2",
   "metadata": {},
   "outputs": [
    {
     "name": "stdout",
     "output_type": "stream",
     "text": [
      "+-------+-------+------+-----+----+----------+------------+-----------+-------+\n",
      "|tick_id|acct_id|volume| rate|type|        ts|   tick_name|        CEO|founded|\n",
      "+-------+-------+------+-----+----+----------+------------+-----------+-------+\n",
      "|    ABC|      8|    89| 8345|   B|1620490952|     ABC LTD| Ajay Batra| 2020.0|\n",
      "|    AMZ|      5|    67| 5345|   S|1620490948|      Amazon|         JB| 2013.0|\n",
      "|    AMZ|      2|     3| 2345|   S|1620490945|      Amazon|         JB| 2013.0|\n",
      "|    AMZ|      5|    89| 5345|   S|1620490949|      Amazon|         JB| 2013.0|\n",
      "|    AMZ|      6|    89| 6345|   S|1620490950|      Amazon|         JB| 2013.0|\n",
      "|    AMZ|      7|    89| 7345|   S|1620490951|      Amazon|         JB| 2013.0|\n",
      "|    AMZ|      4|    55| 4345|   S|1620490947|      Amazon|         JB| 2013.0|\n",
      "|    AMZ|      1|  1122| 1345|   B|1620490944|      Amazon|         JB| 2013.0|\n",
      "|    AMZ|      3|     4| 3345|   S|1620490946|      Amazon|         JB| 2013.0|\n",
      "|    APL|      5|    89| 5345|   B|1620490956| APl PVT LTD|  Josh Vrum| 1998.0|\n",
      "|    APL|      9|    89| 9345|   B|1620490953| APl PVT LTD|  Josh Vrum| 1998.0|\n",
      "|    APL|      4|    89| 4345|   B|1620490955| APl PVT LTD|  Josh Vrum| 1998.0|\n",
      "|    APL|      3|    89| 3345|   B|1620490954| APl PVT LTD|  Josh Vrum| 1998.0|\n",
      "|   MSFT|      6|    89| 6345|   B|1620490957|   Microsoft|         SN| 1975.0|\n",
      "|   MSFT|      2|    89| 2345|   B|1620490959|   Microsoft|         SN| 1975.0|\n",
      "|   MSFT|      7|    89| 7345|   B|1620490958|   Microsoft|         SN| 1975.0|\n",
      "|   MSFT|      4|    89| 4345|   B|1620490960|   Microsoft|         SN| 1975.0|\n",
      "|   MSFT|      2|    89| 2345|   B|1620490963|   Microsoft|         SN| 1975.0|\n",
      "|   MSFT|      6|    89| 6345|   S|1620490967|   Microsoft|         SN| 1975.0|\n",
      "|   MSFT|     10|    89|10345|   S|1620490971|   Microsoft|         SN| 1975.0|\n",
      "|   MSFT|     14|    89|14345|   B|1620490975|   Microsoft|         SN| 1975.0|\n",
      "|   MSFT|      6|    89| 6345|   B|1620490961|   Microsoft|         SN| 1975.0|\n",
      "|   MSFT|      3|    89| 3345|   B|1620490964|   Microsoft|         SN| 1975.0|\n",
      "|   MSFT|      4|    89| 4345|   S|1620490965|   Microsoft|         SN| 1975.0|\n",
      "|   MSFT|      7|    89| 7345|   S|1620490968|   Microsoft|         SN| 1975.0|\n",
      "|   MSFT|      8|    89| 8345|   S|1620490969|   Microsoft|         SN| 1975.0|\n",
      "|   MSFT|     11|    89|11345|   S|1620490972|   Microsoft|         SN| 1975.0|\n",
      "|   MSFT|     12|    89|12345|   B|1620490973|   Microsoft|         SN| 1975.0|\n",
      "|   MSFT|     15|    89|15345|   B|1620490976|   Microsoft|         SN| 1975.0|\n",
      "|   MSFT|     16|    89|16345|   B|1620490977|   Microsoft|         SN| 1975.0|\n",
      "|   MSFT|     18|    89|18345|   B|1620490979|   Microsoft|         SN| 1975.0|\n",
      "|   MSFT|      1|    89| 1345|   B|1620490962|   Microsoft|         SN| 1975.0|\n",
      "|   MSFT|     22|    89|22345|   B|1620490983|   Microsoft|         SN| 1975.0|\n",
      "|   MSFT|     24|    89|24345|   B|1620490985|   Microsoft|         SN| 1975.0|\n",
      "|   MSFT|     26|    89|26345|   B|1620490987|   Microsoft|         SN| 1975.0|\n",
      "|   MSFT|      5|    89| 5345|   S|1620490966|   Microsoft|         SN| 1975.0|\n",
      "|   MSFT|      9|    89| 9345|   S|1620490970|   Microsoft|         SN| 1975.0|\n",
      "|   MSFT|     13|    89|13345|   B|1620490974|   Microsoft|         SN| 1975.0|\n",
      "|   MSFT|     17|    89|17345|   B|1620490978|   Microsoft|         SN| 1975.0|\n",
      "|   MSFT|     19|    89|19345|   B|1620490980|   Microsoft|         SN| 1975.0|\n",
      "|   MSFT|     20|    89|20345|   B|1620490981|   Microsoft|         SN| 1975.0|\n",
      "|   MSFT|     21|    89|21345|   B|1620490982|   Microsoft|         SN| 1975.0|\n",
      "|   MSFT|     23|    89|23345|   B|1620490984|   Microsoft|         SN| 1975.0|\n",
      "|   MSFT|     25|    89|25345|   B|1620490986|   Microsoft|         SN| 1975.0|\n",
      "|   MSFT|     27|    89|27345|   B|1620490988|   Microsoft|         SN| 1975.0|\n",
      "|   MSFT|     28|    89|28345|   B|1620490989|   Microsoft|         SN| 1975.0|\n",
      "+-------+-------+------+-----+----+----------+------------+-----------+-------+\n",
      "\n"
     ]
    },
    {
     "data": {
      "text/plain": [
       "joinedDF: org.apache.spark.sql.DataFrame = [tick_id: string, acct_id: int ... 7 more fields]\n",
       "res34: Long = 46\n"
      ]
     },
     "execution_count": 50,
     "metadata": {},
     "output_type": "execute_result"
    }
   ],
   "source": [
    "val joinedDF=tranDF.join(dimDF,tranDF(\"tick_id\")===dimDF(\"tick\")).drop(\"tick\")\n",
    "//joinedDF.show(false)\n",
    "joinedDF.sort($\"tick_id\").show(500)\n",
    "joinedDF.count"
   ]
  },
  {
   "cell_type": "markdown",
   "id": "dadf3e12-ef6b-40c1-b132-46c332f79d11",
   "metadata": {},
   "source": [
    "#### Problem\n",
    "* Even though this join with small datasets is working fine, it will have problems because ticks in fact will go uneven as it is now. so to solve this, we can use salting as follows."
   ]
  },
  {
   "cell_type": "markdown",
   "id": "f7eeaf7d-7574-4528-a5d8-700a01e711a3",
   "metadata": {},
   "source": [
    "#### Salting"
   ]
  },
  {
   "cell_type": "code",
   "execution_count": 51,
   "id": "a3c0abe7-b2cd-48dc-a4b4-4b883fa0e87a",
   "metadata": {},
   "outputs": [
    {
     "name": "stdout",
     "output_type": "stream",
     "text": [
      "+-------+-------+------+----+----+----------+-----------+\n",
      "|tick_id|acct_id|volume|rate|type|        ts|salted_tick|\n",
      "+-------+-------+------+----+----+----------+-----------+\n",
      "|    AMZ|      1|  1122|1345|   B|1620490944|      AMZ_1|\n",
      "|    AMZ|      2|     3|2345|   S|1620490945|      AMZ_0|\n",
      "|    AMZ|      3|     4|3345|   S|1620490946|      AMZ_0|\n",
      "|    AMZ|      4|    55|4345|   S|1620490947|      AMZ_0|\n",
      "|    AMZ|      5|    67|5345|   S|1620490948|      AMZ_0|\n",
      "|    AMZ|      5|    89|5345|   S|1620490949|      AMZ_0|\n",
      "|    AMZ|      6|    89|6345|   S|1620490950|      AMZ_0|\n",
      "|    AMZ|      7|    89|7345|   S|1620490951|      AMZ_1|\n",
      "|    ABC|      8|    89|8345|   B|1620490952|      ABC_1|\n",
      "|    APL|      9|    89|9345|   B|1620490953|      APL_0|\n",
      "|    APL|      3|    89|3345|   B|1620490954|      APL_0|\n",
      "|    APL|      4|    89|4345|   B|1620490955|      APL_0|\n",
      "|    APL|      5|    89|5345|   B|1620490956|      APL_0|\n",
      "|   MSFT|      6|    89|6345|   B|1620490957|     MSFT_0|\n",
      "|   MSFT|      7|    89|7345|   B|1620490958|     MSFT_0|\n",
      "|   MSFT|      2|    89|2345|   B|1620490959|     MSFT_1|\n",
      "|   MSFT|      4|    89|4345|   B|1620490960|     MSFT_1|\n",
      "|   MSFT|      6|    89|6345|   B|1620490961|     MSFT_1|\n",
      "|   MSFT|      1|    89|1345|   B|1620490962|     MSFT_0|\n",
      "|   MSFT|      2|    89|2345|   B|1620490963|     MSFT_1|\n",
      "+-------+-------+------+----+----+----------+-----------+\n",
      "only showing top 20 rows\n",
      "\n"
     ]
    },
    {
     "data": {
      "text/plain": [
       "saltedTranDF: org.apache.spark.sql.DataFrame = [tick_id: string, acct_id: int ... 5 more fields]\n"
      ]
     },
     "execution_count": 51,
     "metadata": {},
     "output_type": "execute_result"
    }
   ],
   "source": [
    "val saltedTranDF=tranDF.withColumn(\"salted_tick\",concat($\"tick_id\",lit(\"_\"),floor(rand(123456)*2)))\n",
    "saltedTranDF.show()"
   ]
  },
  {
   "cell_type": "code",
   "execution_count": 52,
   "id": "45979730-9938-44c1-ba0e-802d61fa9335",
   "metadata": {},
   "outputs": [
    {
     "name": "stdout",
     "output_type": "stream",
     "text": [
      "+----+------------+-----------+-------+--------+--------------+\n",
      "|tick|tick_name   |CEO        |founded|salt_val|salted_tick_id|\n",
      "+----+------------+-----------+-------+--------+--------------+\n",
      "|AMZ |Amazon      |JB         |2013.0 |0       |AMZ_0         |\n",
      "|AMZ |Amazon      |JB         |2013.0 |1       |AMZ_1         |\n",
      "|ABC | ABC LTD    | Ajay Batra|2020.0 |0       |ABC_0         |\n",
      "|ABC | ABC LTD    | Ajay Batra|2020.0 |1       |ABC_1         |\n",
      "|APL | APl PVT LTD| Josh Vrum |1998.0 |0       |APL_0         |\n",
      "|APL | APl PVT LTD| Josh Vrum |1998.0 |1       |APL_1         |\n",
      "|MSFT| Microsoft  | SN        |1975.0 |0       |MSFT_0        |\n",
      "|MSFT| Microsoft  | SN        |1975.0 |1       |MSFT_1        |\n",
      "|GOOG| Google     | SP        |1998.0 |0       |GOOG_0        |\n",
      "|GOOG| Google     | SP        |1998.0 |1       |GOOG_1        |\n",
      "+----+------------+-----------+-------+--------+--------------+\n",
      "\n"
     ]
    },
    {
     "data": {
      "text/plain": [
       "saltedDimDF: org.apache.spark.sql.DataFrame = [tick: string, tick_name: string ... 4 more fields]\n"
      ]
     },
     "execution_count": 52,
     "metadata": {},
     "output_type": "execute_result"
    }
   ],
   "source": [
    "val saltedDimDF=dimDF.withColumn(\"salt_str\",lit(\"0,1\"))\n",
    ".withColumn(\"salt_val\",explode(split($\"salt_str\",\",\"))).drop(\"salt_str\")\n",
    ".withColumn(\"salted_tick_id\",concat($\"tick\",lit(\"_\"),$\"salt_val\"))\n",
    "//explode(split(lit(\"1,2,3,4,5\",\",\")\n",
    "saltedDimDF.show(false)"
   ]
  },
  {
   "cell_type": "code",
   "execution_count": 53,
   "id": "29f1156c-9b62-4432-aa62-6a4b0ea5bfe0",
   "metadata": {},
   "outputs": [
    {
     "name": "stdout",
     "output_type": "stream",
     "text": [
      "+-------+-------+------+-----+----+----------+------------+-----------+-------+\n",
      "|tick_id|acct_id|volume| rate|type|        ts|   tick_name|        CEO|founded|\n",
      "+-------+-------+------+-----+----+----------+------------+-----------+-------+\n",
      "|    ABC|      8|    89| 8345|   B|1620490952|     ABC LTD| Ajay Batra| 2020.0|\n",
      "|    AMZ|      5|    67| 5345|   S|1620490948|      Amazon|         JB| 2013.0|\n",
      "|    AMZ|      2|     3| 2345|   S|1620490945|      Amazon|         JB| 2013.0|\n",
      "|    AMZ|      5|    89| 5345|   S|1620490949|      Amazon|         JB| 2013.0|\n",
      "|    AMZ|      6|    89| 6345|   S|1620490950|      Amazon|         JB| 2013.0|\n",
      "|    AMZ|      7|    89| 7345|   S|1620490951|      Amazon|         JB| 2013.0|\n",
      "|    AMZ|      4|    55| 4345|   S|1620490947|      Amazon|         JB| 2013.0|\n",
      "|    AMZ|      1|  1122| 1345|   B|1620490944|      Amazon|         JB| 2013.0|\n",
      "|    AMZ|      3|     4| 3345|   S|1620490946|      Amazon|         JB| 2013.0|\n",
      "|    APL|      5|    89| 5345|   B|1620490956| APl PVT LTD|  Josh Vrum| 1998.0|\n",
      "|    APL|      9|    89| 9345|   B|1620490953| APl PVT LTD|  Josh Vrum| 1998.0|\n",
      "|    APL|      4|    89| 4345|   B|1620490955| APl PVT LTD|  Josh Vrum| 1998.0|\n",
      "|    APL|      3|    89| 3345|   B|1620490954| APl PVT LTD|  Josh Vrum| 1998.0|\n",
      "|   MSFT|      6|    89| 6345|   B|1620490957|   Microsoft|         SN| 1975.0|\n",
      "|   MSFT|      2|    89| 2345|   B|1620490959|   Microsoft|         SN| 1975.0|\n",
      "|   MSFT|      7|    89| 7345|   B|1620490958|   Microsoft|         SN| 1975.0|\n",
      "|   MSFT|      4|    89| 4345|   B|1620490960|   Microsoft|         SN| 1975.0|\n",
      "|   MSFT|      2|    89| 2345|   B|1620490963|   Microsoft|         SN| 1975.0|\n",
      "|   MSFT|      6|    89| 6345|   S|1620490967|   Microsoft|         SN| 1975.0|\n",
      "|   MSFT|     10|    89|10345|   S|1620490971|   Microsoft|         SN| 1975.0|\n",
      "|   MSFT|     14|    89|14345|   B|1620490975|   Microsoft|         SN| 1975.0|\n",
      "|   MSFT|      6|    89| 6345|   B|1620490961|   Microsoft|         SN| 1975.0|\n",
      "|   MSFT|      3|    89| 3345|   B|1620490964|   Microsoft|         SN| 1975.0|\n",
      "|   MSFT|      4|    89| 4345|   S|1620490965|   Microsoft|         SN| 1975.0|\n",
      "|   MSFT|      7|    89| 7345|   S|1620490968|   Microsoft|         SN| 1975.0|\n",
      "|   MSFT|      8|    89| 8345|   S|1620490969|   Microsoft|         SN| 1975.0|\n",
      "|   MSFT|     11|    89|11345|   S|1620490972|   Microsoft|         SN| 1975.0|\n",
      "|   MSFT|     12|    89|12345|   B|1620490973|   Microsoft|         SN| 1975.0|\n",
      "|   MSFT|     15|    89|15345|   B|1620490976|   Microsoft|         SN| 1975.0|\n",
      "|   MSFT|     16|    89|16345|   B|1620490977|   Microsoft|         SN| 1975.0|\n",
      "|   MSFT|     18|    89|18345|   B|1620490979|   Microsoft|         SN| 1975.0|\n",
      "|   MSFT|      1|    89| 1345|   B|1620490962|   Microsoft|         SN| 1975.0|\n",
      "|   MSFT|     22|    89|22345|   B|1620490983|   Microsoft|         SN| 1975.0|\n",
      "|   MSFT|     24|    89|24345|   B|1620490985|   Microsoft|         SN| 1975.0|\n",
      "|   MSFT|     26|    89|26345|   B|1620490987|   Microsoft|         SN| 1975.0|\n",
      "|   MSFT|      5|    89| 5345|   S|1620490966|   Microsoft|         SN| 1975.0|\n",
      "|   MSFT|      9|    89| 9345|   S|1620490970|   Microsoft|         SN| 1975.0|\n",
      "|   MSFT|     13|    89|13345|   B|1620490974|   Microsoft|         SN| 1975.0|\n",
      "|   MSFT|     17|    89|17345|   B|1620490978|   Microsoft|         SN| 1975.0|\n",
      "|   MSFT|     19|    89|19345|   B|1620490980|   Microsoft|         SN| 1975.0|\n",
      "|   MSFT|     20|    89|20345|   B|1620490981|   Microsoft|         SN| 1975.0|\n",
      "|   MSFT|     21|    89|21345|   B|1620490982|   Microsoft|         SN| 1975.0|\n",
      "|   MSFT|     23|    89|23345|   B|1620490984|   Microsoft|         SN| 1975.0|\n",
      "|   MSFT|     25|    89|25345|   B|1620490986|   Microsoft|         SN| 1975.0|\n",
      "|   MSFT|     27|    89|27345|   B|1620490988|   Microsoft|         SN| 1975.0|\n",
      "|   MSFT|     28|    89|28345|   B|1620490989|   Microsoft|         SN| 1975.0|\n",
      "+-------+-------+------+-----+----+----------+------------+-----------+-------+\n",
      "\n"
     ]
    },
    {
     "data": {
      "text/plain": [
       "saltedJoinedDF: org.apache.spark.sql.DataFrame = [tick_id: string, acct_id: int ... 7 more fields]\n",
       "res37: Long = 46\n"
      ]
     },
     "execution_count": 53,
     "metadata": {},
     "output_type": "execute_result"
    }
   ],
   "source": [
    "val saltedJoinedDF=saltedTranDF.join(saltedDimDF,saltedTranDF(\"salted_tick\")===saltedDimDF(\"salted_tick_id\"))\n",
    ".drop(\"salt_val\",\"salted_tick\",\"salted_tick_id\",\"tick\")\n",
    "saltedJoinedDF.sort($\"tick_id\").show(500)\n",
    "saltedJoinedDF.count"
   ]
  }
 ],
 "metadata": {
  "kernelspec": {
   "display_name": "spylon-kernel",
   "language": "scala",
   "name": "spylon-kernel"
  },
  "language_info": {
   "codemirror_mode": "text/x-scala",
   "file_extension": ".scala",
   "help_links": [
    {
     "text": "MetaKernel Magics",
     "url": "https://metakernel.readthedocs.io/en/latest/source/README.html"
    }
   ],
   "mimetype": "text/x-scala",
   "name": "scala",
   "pygments_lexer": "scala",
   "version": "0.4.1"
  }
 },
 "nbformat": 4,
 "nbformat_minor": 5
}
