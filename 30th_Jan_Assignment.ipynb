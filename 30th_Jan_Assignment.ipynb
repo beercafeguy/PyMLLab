{
  "nbformat": 4,
  "nbformat_minor": 0,
  "metadata": {
    "colab": {
      "provenance": [],
      "authorship_tag": "ABX9TyNCsKd5UZIwh7rkx4WopNqt",
      "include_colab_link": true
    },
    "kernelspec": {
      "name": "python3",
      "display_name": "Python 3"
    },
    "language_info": {
      "name": "python"
    }
  },
  "cells": [
    {
      "cell_type": "markdown",
      "metadata": {
        "id": "view-in-github",
        "colab_type": "text"
      },
      "source": [
        "<a href=\"https://colab.research.google.com/github/beercafeguy/PyMLLab/blob/master/30th_Jan_Assignment.ipynb\" target=\"_parent\"><img src=\"https://colab.research.google.com/assets/colab-badge.svg\" alt=\"Open In Colab\"/></a>"
      ]
    },
    {
      "cell_type": "markdown",
      "source": [
        "![picture](https://drive.google.com/file/d/10_PpW_1KOua1GkQhuWK8z6WhkhAq3dZu)"
      ],
      "metadata": {
        "id": "xAcXIGuKm9BS"
      }
    },
    {
      "cell_type": "code",
      "source": [
        "def get_grade(percentage):\n",
        "  if percentage > 90:\n",
        "    return 'A'\n",
        "  elif percentage > 80 and percentage <= 90:\n",
        "    return 'B'\n",
        "  elif percentage >=60 and percentage <=80:\n",
        "    return 'C'\n",
        "  else:\n",
        "    return 'D'\n",
        "\n",
        "pct = int(input('Please enter your percentage marks :'))\n",
        "print('Grade :' +get_grade(pct))"
      ],
      "metadata": {
        "colab": {
          "base_uri": "https://localhost:8080/"
        },
        "id": "sceeh_1rnBDk",
        "outputId": "baf1fb0c-c221-44bb-c09f-1951a8f0be29"
      },
      "execution_count": 5,
      "outputs": [
        {
          "output_type": "stream",
          "name": "stdout",
          "text": [
            "Please enter your percentage marks :64\n",
            "Grade :C\n"
          ]
        }
      ]
    },
    {
      "cell_type": "code",
      "source": [
        "def get_road_tax(cost_price):\n",
        "  if cost_price > 100000:\n",
        "    return cost_price * 0.15\n",
        "  elif cost_price > 50000 and cost_price <=100000:\n",
        "    return cost_price * 0.1\n",
        "  else:\n",
        "    return cost_price * 0.05\n",
        "\n",
        "cp = int(input('Enter bike\\'s Cost Price '))\n",
        "print('Road Tax : '+str(get_road_tax(cp)))"
      ],
      "metadata": {
        "colab": {
          "base_uri": "https://localhost:8080/"
        },
        "id": "v7MfIKMRoCfE",
        "outputId": "399fb6ad-a3bf-4250-eca2-95f97b61c0e0"
      },
      "execution_count": 9,
      "outputs": [
        {
          "output_type": "stream",
          "name": "stdout",
          "text": [
            "Enter bike's Cost Price 40000\n",
            "Road Tax : 2000.0\n"
          ]
        }
      ]
    },
    {
      "cell_type": "code",
      "source": [
        "monument_dict = {\n",
        "    'Delhi':'Red Fort',\n",
        "    'Agra': 'Taj Mahal',\n",
        "    'Jaipur': 'Jal Mahal'\n",
        "}\n",
        "\n",
        "def display_monument(city_name):\n",
        "  if city_name in monument_dict:\n",
        "    print(monument_dict[city_name])\n",
        "  else:\n",
        "    print(\"I am not aware of any monument in {0}\".format(city_name))\n",
        "\n",
        "city = input('Enter City Name ')\n",
        "display_monument(city)"
      ],
      "metadata": {
        "colab": {
          "base_uri": "https://localhost:8080/"
        },
        "id": "rq_ECDMBrhn0",
        "outputId": "524c15d3-2e95-4507-96be-599fcd4b4ac6"
      },
      "execution_count": 14,
      "outputs": [
        {
          "output_type": "stream",
          "name": "stdout",
          "text": [
            "Enter City Name Dehradun\n",
            "I am not aware of any monument in Dehradun\n"
          ]
        }
      ]
    },
    {
      "cell_type": "code",
      "source": [
        "def div_by_3(number):\n",
        "  counter = 0\n",
        "  while number > 10:\n",
        "    counter +=1\n",
        "    number = number/3\n",
        "  return counter\n",
        "print(div_by_3(200))"
      ],
      "metadata": {
        "colab": {
          "base_uri": "https://localhost:8080/"
        },
        "id": "PWDGgR-0tZEP",
        "outputId": "5d2cad46-dc9a-4a1d-81ca-a935f1a1fa31"
      },
      "execution_count": 19,
      "outputs": [
        {
          "output_type": "stream",
          "name": "stdout",
          "text": [
            "3\n"
          ]
        }
      ]
    },
    {
      "cell_type": "code",
      "source": [
        "# Iterate through number 1 to 10\n",
        "for i in range(1,10):\n",
        "  print(i,end=' ')"
      ],
      "metadata": {
        "colab": {
          "base_uri": "https://localhost:8080/"
        },
        "id": "XIiCcpZPuGdS",
        "outputId": "ed222758-7a3a-454e-e7f0-c9f612c94f3e"
      },
      "execution_count": 23,
      "outputs": [
        {
          "output_type": "stream",
          "name": "stdout",
          "text": [
            "1 2 3 4 5 6 7 8 9 "
          ]
        }
      ]
    },
    {
      "cell_type": "code",
      "source": [
        "def print_right_triangle(num_rows):\n",
        "\n",
        "    i =1\n",
        "    while i <= num_rows:\n",
        "        j = i\n",
        "        while j > 0:\n",
        "            print('*', end=' ')\n",
        "            j-=1\n",
        "        print()\n",
        "        i+=1\n",
        "\n",
        "print_right_triangle(4)"
      ],
      "metadata": {
        "colab": {
          "base_uri": "https://localhost:8080/"
        },
        "id": "3zAqPBWtu-55",
        "outputId": "7e1986f4-244d-40ad-cbea-c35398d37b4a"
      },
      "execution_count": 27,
      "outputs": [
        {
          "output_type": "stream",
          "name": "stdout",
          "text": [
            "* \n",
            "* * \n",
            "* * * \n",
            "* * * * \n"
          ]
        }
      ]
    },
    {
      "cell_type": "code",
      "source": [
        "def print_right_triangle(num_rows):\n",
        "\n",
        "    i =1\n",
        "    while i <= num_rows:\n",
        "        j = i\n",
        "        while j > 0:\n",
        "            print(str(i), end=' ')\n",
        "            j-=1\n",
        "        print()\n",
        "        i+=1\n",
        "\n",
        "print_right_triangle(4)"
      ],
      "metadata": {
        "colab": {
          "base_uri": "https://localhost:8080/"
        },
        "id": "Jc-32ZIxwNxP",
        "outputId": "0177f144-1d3e-4850-8c95-9ec550ed782f"
      },
      "execution_count": 28,
      "outputs": [
        {
          "output_type": "stream",
          "name": "stdout",
          "text": [
            "1 \n",
            "2 2 \n",
            "3 3 3 \n",
            "4 4 4 4 \n"
          ]
        }
      ]
    },
    {
      "cell_type": "code",
      "source": [
        "def print_right_triangle(num_rows):\n",
        "\n",
        "    i =1\n",
        "    while i <= num_rows:\n",
        "        j = 1\n",
        "        while j <= i:\n",
        "            print(str(j), end=' ')\n",
        "            j+=1\n",
        "        print()\n",
        "        i+=1\n",
        "\n",
        "print_right_triangle(4)"
      ],
      "metadata": {
        "colab": {
          "base_uri": "https://localhost:8080/"
        },
        "id": "Bm7V1d6CzK0b",
        "outputId": "52363faf-3122-4ff3-a6d1-75ef37c9c48c"
      },
      "execution_count": 31,
      "outputs": [
        {
          "output_type": "stream",
          "name": "stdout",
          "text": [
            "1 \n",
            "1 2 \n",
            "1 2 3 \n",
            "1 2 3 4 \n"
          ]
        }
      ]
    },
    {
      "cell_type": "code",
      "source": [
        "def print_left_triangle(num_rows):\n",
        "\n",
        "    i =1\n",
        "    while i <= num_rows:\n",
        "      num_space = num_rows - i\n",
        "      num_star = i\n",
        "      pattern = \" \" * num_space + \"*\"*num_star\n",
        "      print(pattern)\n",
        "      i+=1\n",
        "\n",
        "print_left_triangle(10)"
      ],
      "metadata": {
        "colab": {
          "base_uri": "https://localhost:8080/"
        },
        "id": "mtJV57sNzNxM",
        "outputId": "51edadbc-a341-42ce-9bc1-cad10b2545f1"
      },
      "execution_count": 36,
      "outputs": [
        {
          "output_type": "stream",
          "name": "stdout",
          "text": [
            "         *\n",
            "        **\n",
            "       ***\n",
            "      ****\n",
            "     *****\n",
            "    ******\n",
            "   *******\n",
            "  ********\n",
            " *********\n",
            "**********\n"
          ]
        }
      ]
    },
    {
      "cell_type": "code",
      "source": [
        "def print_num(top_num):\n",
        "  while(top_num > 0):\n",
        "    print(top_num ,end=' ')\n",
        "    top_num -=1\n",
        "print_num(10) "
      ],
      "metadata": {
        "colab": {
          "base_uri": "https://localhost:8080/"
        },
        "id": "OIlL1GE30WyL",
        "outputId": "de6d46cb-3f6d-4336-f348-1e5f25abf792"
      },
      "execution_count": 37,
      "outputs": [
        {
          "output_type": "stream",
          "name": "stdout",
          "text": [
            "10 9 8 7 6 5 4 3 2 1 "
          ]
        }
      ]
    },
    {
      "cell_type": "code",
      "source": [
        "def print_num(top_num):\n",
        "  nums = range(1,top_num)\n",
        "  i = 0\n",
        "  while(i <= len(nums)):\n",
        "    print(top_num - i ,end=' ')\n",
        "    i+=1\n",
        "print_num(10) "
      ],
      "metadata": {
        "colab": {
          "base_uri": "https://localhost:8080/"
        },
        "id": "teAnDdes1YP6",
        "outputId": "30c4756b-9e53-4841-d52b-11b86e35bff6"
      },
      "execution_count": 39,
      "outputs": [
        {
          "output_type": "stream",
          "name": "stdout",
          "text": [
            "10 9 8 7 6 5 4 3 2 1 "
          ]
        }
      ]
    },
    {
      "cell_type": "code",
      "source": [],
      "metadata": {
        "id": "1vZat_op14c1"
      },
      "execution_count": null,
      "outputs": []
    }
  ]
}