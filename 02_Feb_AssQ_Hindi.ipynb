{
  "nbformat": 4,
  "nbformat_minor": 0,
  "metadata": {
    "colab": {
      "provenance": [],
      "authorship_tag": "ABX9TyO2xV3AqvZMHrilTmIXuOYh",
      "include_colab_link": true
    },
    "kernelspec": {
      "name": "python3",
      "display_name": "Python 3"
    },
    "language_info": {
      "name": "python"
    }
  },
  "cells": [
    {
      "cell_type": "markdown",
      "metadata": {
        "id": "view-in-github",
        "colab_type": "text"
      },
      "source": [
        "<a href=\"https://colab.research.google.com/github/beercafeguy/PyMLLab/blob/master/02_Feb_AssQ_Hindi.ipynb\" target=\"_parent\"><img src=\"https://colab.research.google.com/assets/colab-badge.svg\" alt=\"Open In Colab\"/></a>"
      ]
    },
    {
      "cell_type": "markdown",
      "source": [
        "Q1.  Explain with an example each when to use a for loop and while loop"
      ],
      "metadata": {
        "id": "vh-lN1b8B53o"
      }
    },
    {
      "cell_type": "markdown",
      "source": [
        "**Ans**\n",
        "For loop is used when we no the number of iterations in advance like iterating through a list"
      ],
      "metadata": {
        "id": "_CmptpFRCFtm"
      }
    },
    {
      "cell_type": "code",
      "execution_count": 1,
      "metadata": {
        "colab": {
          "base_uri": "https://localhost:8080/"
        },
        "id": "OKtNTbjMB4pF",
        "outputId": "30142cb9-2221-4015-fab4-50cb6eb6ba6c"
      },
      "outputs": [
        {
          "output_type": "stream",
          "name": "stdout",
          "text": [
            "HEM\n",
            "CHANDRA\n",
            "DATA SCIENCE\n",
            "PWSKILLS\n"
          ]
        }
      ],
      "source": [
        "l = [\"Hem\",\"Chandra\",\"Data Science\",\"PWSkills\"]\n",
        "for entry in l:\n",
        "  print(entry.upper())"
      ]
    },
    {
      "cell_type": "markdown",
      "source": [
        "While loop is used when we need to break the look when we reach a perticular condition like reducing number till we reach a perticular value"
      ],
      "metadata": {
        "id": "e8hb1Gm6Cmv1"
      }
    },
    {
      "cell_type": "code",
      "source": [
        "num = 100\n",
        "while num > 10:\n",
        "  print(num,end = \" \")\n",
        "  num = num /2"
      ],
      "metadata": {
        "colab": {
          "base_uri": "https://localhost:8080/"
        },
        "id": "EqhPJhrwCdFT",
        "outputId": "9e09f267-e0ce-41f3-ab78-25461ddc7d8f"
      },
      "execution_count": 2,
      "outputs": [
        {
          "output_type": "stream",
          "name": "stdout",
          "text": [
            "100 50.0 25.0 12.5 "
          ]
        }
      ]
    },
    {
      "cell_type": "markdown",
      "source": [
        "Q2. Write a python program to print the sum and product of the first 10 natural numbers using for and while loop."
      ],
      "metadata": {
        "id": "_XxQrzOpDCxl"
      }
    },
    {
      "cell_type": "code",
      "source": [
        "# Using for loop\n",
        "sum = 0\n",
        "for i in range(1,11):\n",
        "  sum +=i\n",
        "print(sum)"
      ],
      "metadata": {
        "colab": {
          "base_uri": "https://localhost:8080/"
        },
        "id": "CSlE1bOuDA8V",
        "outputId": "3adcb6fc-e1d8-4cfc-f942-a7889a02af35"
      },
      "execution_count": 5,
      "outputs": [
        {
          "output_type": "stream",
          "name": "stdout",
          "text": [
            "55\n"
          ]
        }
      ]
    },
    {
      "cell_type": "code",
      "source": [
        "# Using while loop\n",
        "sum = 0\n",
        "num = 1\n",
        "while(num < 11):\n",
        "  sum +=num\n",
        "  num += 1\n",
        "print(sum)"
      ],
      "metadata": {
        "colab": {
          "base_uri": "https://localhost:8080/"
        },
        "id": "TiceQ9h9DTJ0",
        "outputId": "f94e840c-2ece-4329-a316-5c9ca0f9800a"
      },
      "execution_count": 6,
      "outputs": [
        {
          "output_type": "stream",
          "name": "stdout",
          "text": [
            "55\n"
          ]
        }
      ]
    },
    {
      "cell_type": "markdown",
      "source": [
        "Q3. Create a python program to compute the electricity bill for a household.\n",
        "\n",
        "The per-unit charges in rupees are as follows: For the first 100 units, the user will be charged Rs. 4.5 per\n",
        "unit, for the next 100 units, the user will be charged Rs. 6 per unit, and for the next 100 units, the user will\n",
        "be charged Rs. 10 per unit, After 300 units and above the user will be charged Rs. 20 per unit."
      ],
      "metadata": {
        "id": "kDiLZ5eID9TW"
      }
    },
    {
      "cell_type": "code",
      "source": [
        "def get_bill(units):\n",
        "\n",
        "  total_bill = 0\n",
        "  if units > 300:\n",
        "    total_bill = total_bill + ((units - 300) * 20)\n",
        "    units = 300\n",
        "  if units <= 300 and units > 200:\n",
        "    total_bill = total_bill + ((units - 200) * 10)\n",
        "    units = 200\n",
        "  if units <= 200 and units > 100:\n",
        "    total_bill = total_bill + ((units - 100) * 6)\n",
        "    units = 100\n",
        "  if units <= 100:\n",
        "    total_bill = total_bill + (units * 4.5)\n",
        "  return total_bill\n",
        "\n",
        "units = int(input(\"Enter number of units consumed in this month : \"))\n",
        "get_bill(units)"
      ],
      "metadata": {
        "colab": {
          "base_uri": "https://localhost:8080/"
        },
        "id": "SKMf3kLkD1pn",
        "outputId": "f47d4ba3-d2df-41b2-ff09-e1e0c59ebdc1"
      },
      "execution_count": 13,
      "outputs": [
        {
          "name": "stdout",
          "output_type": "stream",
          "text": [
            "Enter number of units consumed in this month : 310\n"
          ]
        },
        {
          "output_type": "execute_result",
          "data": {
            "text/plain": [
              "2250.0"
            ]
          },
          "metadata": {},
          "execution_count": 13
        }
      ]
    },
    {
      "cell_type": "markdown",
      "source": [
        "Q4. Create a list of numbers from 1 to 100. Use for loop and while loop to calculate the cube of each\n",
        "number and if the cube of that number is divisible by 4 or 5 then append that number in a list and print\n",
        "that list."
      ],
      "metadata": {
        "id": "Urn0Y6MlGMze"
      }
    },
    {
      "cell_type": "code",
      "source": [
        "# Assuming I need to take the list of inclusive 1,100\n",
        "numbers = list(range(1,101))\n",
        "\n",
        "# Using For loop\n",
        "\n",
        "selected_list = []\n",
        "for i in numbers:\n",
        "  cube = i ** 3\n",
        "  if cube % 4 == 0 or cube % 5 == 0:\n",
        "     selected_list.append(i)\n",
        "print(selected_list)\n"
      ],
      "metadata": {
        "colab": {
          "base_uri": "https://localhost:8080/"
        },
        "id": "UQkO6fUiF1jC",
        "outputId": "ac722625-975c-4e70-83e6-d4681a5bddca"
      },
      "execution_count": 20,
      "outputs": [
        {
          "output_type": "stream",
          "name": "stdout",
          "text": [
            "[2, 4, 5, 6, 8, 10, 12, 14, 15, 16, 18, 20, 22, 24, 25, 26, 28, 30, 32, 34, 35, 36, 38, 40, 42, 44, 45, 46, 48, 50, 52, 54, 55, 56, 58, 60, 62, 64, 65, 66, 68, 70, 72, 74, 75, 76, 78, 80, 82, 84, 85, 86, 88, 90, 92, 94, 95, 96, 98, 100]\n"
          ]
        }
      ]
    },
    {
      "cell_type": "code",
      "source": [
        "# Using While loop\n",
        "\n",
        "selected_list = []\n",
        "counter = 0\n",
        "while counter < len(numbers):\n",
        "  cube = numbers[counter] ** 3\n",
        "  if cube % 4 == 0 or cube % 5 == 0:\n",
        "     selected_list.append(numbers[counter])\n",
        "  counter +=1\n",
        "print(selected_list)"
      ],
      "metadata": {
        "colab": {
          "base_uri": "https://localhost:8080/"
        },
        "id": "4AHrqjY5Gfkp",
        "outputId": "1a1df518-9512-452b-8c4d-d85d55036ca8"
      },
      "execution_count": 23,
      "outputs": [
        {
          "output_type": "stream",
          "name": "stdout",
          "text": [
            "[2, 4, 5, 6, 8, 10, 12, 14, 15, 16, 18, 20, 22, 24, 25, 26, 28, 30, 32, 34, 35, 36, 38, 40, 42, 44, 45, 46, 48, 50, 52, 54, 55, 56, 58, 60, 62, 64, 65, 66, 68, 70, 72, 74, 75, 76, 78, 80, 82, 84, 85, 86, 88, 90, 92, 94, 95, 96, 98, 100]\n"
          ]
        }
      ]
    },
    {
      "cell_type": "markdown",
      "source": [
        "Q5. Write a program to filter count vowels in the below-given string.\n",
        "string = \"I want to become a data scientist\""
      ],
      "metadata": {
        "id": "Ods-Bqe7IN0u"
      }
    },
    {
      "cell_type": "code",
      "source": [
        "# I am not really sure what filter count means so giving an implementation where I count number of times a vowel is present in given String\n",
        "string = \"I want to become a data scientist\"\n",
        "vowels = ['a','e','i','o','u']\n",
        "vowel_count = 0\n",
        "for c in string:\n",
        "  if c in vowels:\n",
        "    vowel_count +=1\n",
        "print(vowel_count)"
      ],
      "metadata": {
        "colab": {
          "base_uri": "https://localhost:8080/"
        },
        "id": "tTs5bvetG7YI",
        "outputId": "73adf8f1-7774-438f-a73d-ca9fcc4775a3"
      },
      "execution_count": 24,
      "outputs": [
        {
          "output_type": "stream",
          "name": "stdout",
          "text": [
            "11\n"
          ]
        }
      ]
    },
    {
      "cell_type": "code",
      "source": [],
      "metadata": {
        "id": "Ps_Uit1UJJxW"
      },
      "execution_count": null,
      "outputs": []
    }
  ]
}