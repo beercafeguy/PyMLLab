{
 "cells": [
  {
   "cell_type": "markdown",
   "id": "b48eb528-c66c-4e44-bb75-bdb8d996c19a",
   "metadata": {},
   "source": [
    "Start a simple spark session in local mode\n"
   ]
  },
  {
   "cell_type": "code",
   "execution_count": null,
   "id": "bfa0ec26-5cba-4d79-9788-3ed3fc42f9a4",
   "metadata": {},
   "outputs": [],
   "source": [
    "import org.apache.spark.sql.SparkSession\n",
    "val spark = SparkSession.builder().appName(\"Analytical Spark App\")\n",
    ".config(\"spark.sql.shuffle.partitions\",4)\n",
    ".master(\"local[*]\")\n",
    ".getOrCreate()"
   ]
  },
  {
   "cell_type": "markdown",
   "id": "a2800434-e8bf-47e3-bb4c-9e71f13eafeb",
   "metadata": {},
   "source": [
    "Read the data for covid vaccine drive in india"
   ]
  },
  {
   "cell_type": "code",
   "execution_count": 24,
   "id": "ae14f05c-18e7-42fa-8888-bc78a5269ccd",
   "metadata": {},
   "outputs": [
    {
     "data": {
      "text/plain": [
       "vaccineDF: org.apache.spark.sql.DataFrame = [Updated_On: string, State: string ... 17 more fields]\n"
      ]
     },
     "execution_count": 24,
     "metadata": {},
     "output_type": "execute_result"
    }
   ],
   "source": [
    "val vaccineDF=spark.read.option(\"header\",\"true\").option(\"inferSchema\",\"true\").csv(\"../data/covid_india/covid_vaccine_statewise.csv\").\n",
    "withColumn(\"updated_on_ts\",to_timestamp($\"updated_on\",\"dd/MM/yyyy\"))"
   ]
  },
  {
   "cell_type": "markdown",
   "id": "1bc51742-0f9d-45f7-bc2e-18c66efb4103",
   "metadata": {},
   "source": [
    "See sample data using show"
   ]
  },
  {
   "cell_type": "code",
   "execution_count": 11,
   "id": "c4f5fcc3-55e8-45af-885d-2694299919cd",
   "metadata": {},
   "outputs": [
    {
     "name": "stdout",
     "output_type": "stream",
     "text": [
      "+----------+-----+----------------------------+------------------------+-----------+-----------------------+------------------------+---------------------------+-----------------------------+----------------------------------+--------------------------+-----------------------------+----+---------------+---------------+---------------+-----------------+------------------------+\n",
      "|Updated_On|State|Total_Individuals_Vaccinated|Total_Sessions_Conducted|Total_Sites|First_Dose_Administered|Second_Dose_Administered|Male_Individuals_Vaccinated|Female_Individuals_Vaccinated|Transgender_Individuals_Vaccinated|Total_Covaxin_Administered|Total_CoviShield_Administered|AEFI|Age_18_30_years|Age_30_45_years|Age_45_60_years|Age_60_plus_years|Total_Doses_Administered|\n",
      "+----------+-----+----------------------------+------------------------+-----------+-----------------------+------------------------+---------------------------+-----------------------------+----------------------------------+--------------------------+-----------------------------+----+---------------+---------------+---------------+-----------------+------------------------+\n",
      "|16/01/2021|India|48276.0                     |3455.0                  |2957.0     |48276.0                |0.0                     |23757.0                    |24517.0                      |2.0                               |579.0                     |47697.0                      |null|null           |null           |null           |null             |48276.0                 |\n",
      "|17/01/2021|India|58604.0                     |8532.0                  |4954.0     |58604.0                |0.0                     |27348.0                    |31252.0                      |4.0                               |635.0                     |57969.0                      |null|null           |null           |null           |null             |58604.0                 |\n",
      "+----------+-----+----------------------------+------------------------+-----------+-----------------------+------------------------+---------------------------+-----------------------------+----------------------------------+--------------------------+-----------------------------+----+---------------+---------------+---------------+-----------------+------------------------+\n",
      "only showing top 2 rows\n",
      "\n"
     ]
    }
   ],
   "source": [
    "vaccineDF.show(2,false)"
   ]
  },
  {
   "cell_type": "code",
   "execution_count": 25,
   "id": "477067c1-a105-4431-a910-26bf6c77c8dc",
   "metadata": {},
   "outputs": [
    {
     "name": "stdout",
     "output_type": "stream",
     "text": [
      "+-------------------+-----+\n",
      "|updated_on_ts      |state|\n",
      "+-------------------+-----+\n",
      "|2021-01-16 00:00:00|India|\n",
      "|2021-01-17 00:00:00|India|\n",
      "|2021-01-18 00:00:00|India|\n",
      "|2021-01-19 00:00:00|India|\n",
      "|2021-01-20 00:00:00|India|\n",
      "|2021-01-21 00:00:00|India|\n",
      "|2021-01-22 00:00:00|India|\n",
      "|2021-01-23 00:00:00|India|\n",
      "|2021-01-24 00:00:00|India|\n",
      "|2021-01-25 00:00:00|India|\n",
      "|2021-01-26 00:00:00|India|\n",
      "|2021-01-27 00:00:00|India|\n",
      "|2021-01-28 00:00:00|India|\n",
      "|2021-01-29 00:00:00|India|\n",
      "|2021-01-30 00:00:00|India|\n",
      "|2021-01-31 00:00:00|India|\n",
      "|2021-02-01 00:00:00|India|\n",
      "|2021-02-02 00:00:00|India|\n",
      "|2021-02-03 00:00:00|India|\n",
      "|2021-02-04 00:00:00|India|\n",
      "+-------------------+-----+\n",
      "only showing top 20 rows\n",
      "\n"
     ]
    }
   ],
   "source": [
    "vaccineDF.select($\"updated_on_ts\",$\"state\").show(false)"
   ]
  },
  {
   "cell_type": "code",
   "execution_count": 28,
   "id": "2cd1b9d5-b74c-4a26-8870-1b1eab4c6a09",
   "metadata": {},
   "outputs": [
    {
     "name": "stdout",
     "output_type": "stream",
     "text": [
      "+-----------------+-------------+---------+\n",
      "|state            |updated_on_dt|updt_rank|\n",
      "+-----------------+-------------+---------+\n",
      "|Arunachal Pradesh|2021-05-07   |1        |\n",
      "|Arunachal Pradesh|2021-05-06   |2        |\n",
      "|Arunachal Pradesh|2021-05-05   |3        |\n",
      "|Arunachal Pradesh|2021-05-04   |4        |\n",
      "|Arunachal Pradesh|2021-05-03   |5        |\n",
      "|Arunachal Pradesh|2021-05-02   |6        |\n",
      "|Arunachal Pradesh|2021-05-01   |7        |\n",
      "|Arunachal Pradesh|2021-04-30   |8        |\n",
      "|Arunachal Pradesh|2021-04-29   |9        |\n",
      "|Arunachal Pradesh|2021-04-28   |10       |\n",
      "|Arunachal Pradesh|2021-04-27   |11       |\n",
      "|Arunachal Pradesh|2021-04-26   |12       |\n",
      "|Arunachal Pradesh|2021-04-25   |13       |\n",
      "|Arunachal Pradesh|2021-04-24   |14       |\n",
      "|Arunachal Pradesh|2021-04-23   |15       |\n",
      "|Arunachal Pradesh|2021-04-22   |16       |\n",
      "|Arunachal Pradesh|2021-04-21   |17       |\n",
      "|Arunachal Pradesh|2021-04-20   |18       |\n",
      "|Arunachal Pradesh|2021-04-19   |19       |\n",
      "|Arunachal Pradesh|2021-04-18   |20       |\n",
      "+-----------------+-------------+---------+\n",
      "only showing top 20 rows\n",
      "\n"
     ]
    },
    {
     "data": {
      "text/plain": [
       "statesDF: org.apache.spark.sql.DataFrame = [state: string, updated_on_dt: date]\n",
       "import org.apache.spark.sql.functions.rank\n",
       "import org.apache.spark.sql.expressions.Window\n",
       "windowSpecs: org.apache.spark.sql.expressions.WindowSpec = org.apache.spark.sql.expressions.WindowSpec@6e52c858\n",
       "rankedDF: org.apache.spark.sql.DataFrame = [state: string, updated_on_dt: date ... 1 more field]\n"
      ]
     },
     "execution_count": 28,
     "metadata": {},
     "output_type": "execute_result"
    }
   ],
   "source": [
    "val statesDF=vaccineDF.filter($\"state\"=!=\"India\").select($\"state\",to_date($\"updated_on_ts\").as(\"updated_on_dt\"))\n",
    "\n",
    "import org.apache.spark.sql.functions.rank\n",
    "import org.apache.spark.sql.expressions.Window\n",
    "\n",
    "val windowSpecs=Window.partitionBy($\"state\").orderBy($\"updated_on_dt\".desc)\n",
    "val rankedDF=statesDF.withColumn(\"updt_rank\",rank() over (windowSpecs))\n",
    "rankedDF.show(false)"
   ]
  },
  {
   "cell_type": "markdown",
   "id": "ddb46ddf-5411-4298-b142-c8e026b5c3fa",
   "metadata": {},
   "source": [
    "Find latest vaceen update date from each state"
   ]
  },
  {
   "cell_type": "code",
   "execution_count": 30,
   "id": "bfeff7b1-d080-4454-87d4-799f6416937f",
   "metadata": {},
   "outputs": [
    {
     "name": "stdout",
     "output_type": "stream",
     "text": [
      "+----------------------------------------+-------------+---------+\n",
      "|state                                   |updated_on_dt|updt_rank|\n",
      "+----------------------------------------+-------------+---------+\n",
      "|Arunachal Pradesh                       |2021-05-07   |1        |\n",
      "|Assam                                   |2021-05-07   |1        |\n",
      "|Dadra and Nagar Haveli and Daman and Diu|2021-05-07   |1        |\n",
      "|Gujarat                                 |2021-05-07   |1        |\n",
      "|Himachal Pradesh                        |2021-05-07   |1        |\n",
      "|Ladakh                                  |2021-05-07   |1        |\n",
      "|Lakshadweep                             |2021-05-07   |1        |\n",
      "|Maharashtra                             |2021-05-07   |1        |\n",
      "|Nagaland                                |2021-05-07   |1        |\n",
      "|Telangana                               |2021-05-07   |1        |\n",
      "|Tripura                                 |2021-05-07   |1        |\n",
      "|West Bengal                             |2021-05-07   |1        |\n",
      "|Bihar                                   |2021-05-07   |1        |\n",
      "|Chandigarh                              |2021-05-07   |1        |\n",
      "|Chhattisgarh                            |2021-05-07   |1        |\n",
      "|Delhi                                   |2021-05-06   |1        |\n",
      "|Jharkhand                               |2021-05-07   |1        |\n",
      "|Karnataka                               |2021-05-07   |1        |\n",
      "|Manipur                                 |2021-05-07   |1        |\n",
      "|Haryana                                 |2021-05-07   |1        |\n",
      "|Jammu and Kashmir                       |2021-05-07   |1        |\n",
      "|Madhya Pradesh                          |2021-05-07   |1        |\n",
      "|Meghalaya                               |2021-05-07   |1        |\n",
      "|Mizoram                                 |2021-05-07   |1        |\n",
      "|Odisha                                  |2021-05-07   |1        |\n",
      "|Punjab                                  |2021-05-07   |1        |\n",
      "|Sikkim                                  |2021-05-07   |1        |\n",
      "|Tamil Nadu                              |2021-05-07   |1        |\n",
      "|Updated On                              |2021-04-16   |1        |\n",
      "|Uttar Pradesh                           |2021-05-07   |1        |\n",
      "|Uttarakhand                             |2021-05-07   |1        |\n",
      "|Andaman and Nicobar Islands             |2021-05-06   |1        |\n",
      "|Andhra Pradesh                          |2021-05-07   |1        |\n",
      "|Goa                                     |2021-05-07   |1        |\n",
      "|Kerala                                  |2021-05-07   |1        |\n",
      "|Puducherry                              |2021-05-07   |1        |\n",
      "|Rajasthan                               |2021-05-07   |1        |\n",
      "+----------------------------------------+-------------+---------+\n",
      "\n"
     ]
    }
   ],
   "source": [
    "rankedDF.filter($\"updt_rank\"===1).show(40,false)"
   ]
  },
  {
   "cell_type": "markdown",
   "id": "36482b3b-2865-40fa-9b8f-54f3d648a548",
   "metadata": {},
   "source": [
    "Date of maximum Total_Individuals_Vaccinated by state"
   ]
  },
  {
   "cell_type": "code",
   "execution_count": 33,
   "id": "83622d44-ead9-415c-bb0c-ab0916228377",
   "metadata": {},
   "outputs": [
    {
     "name": "stdout",
     "output_type": "stream",
     "text": [
      "+----------------------------------------+-------------+----------------------------+--------+\n",
      "|state                                   |updated_on_dt|Total_Individuals_Vaccinated|vcn_rank|\n",
      "+----------------------------------------+-------------+----------------------------+--------+\n",
      "|Arunachal Pradesh                       |2021-05-06   |202965.0                    |1       |\n",
      "|Assam                                   |2021-05-06   |2211808.0                   |1       |\n",
      "|Dadra and Nagar Haveli and Daman and Diu|2021-05-05   |80984.0                     |1       |\n",
      "|Gujarat                                 |2021-05-06   |1.0505574E7                 |1       |\n",
      "|Himachal Pradesh                        |2021-05-06   |1671620.0                   |1       |\n",
      "|Ladakh                                  |2021-05-06   |81061.0                     |1       |\n",
      "|Lakshadweep                             |2021-05-06   |19986.0                     |1       |\n",
      "|Maharashtra                             |2021-05-06   |1.4214775E7                 |1       |\n",
      "|Nagaland                                |2021-05-06   |170531.0                    |1       |\n",
      "|Telangana                               |2021-05-06   |4325903.0                   |1       |\n",
      "|Tripura                                 |2021-05-06   |936213.0                    |1       |\n",
      "|West Bengal                             |2021-05-06   |8777268.0                   |1       |\n",
      "|Bihar                                   |2021-05-06   |6212706.0                   |1       |\n",
      "|Chandigarh                              |2021-05-06   |179429.0                    |1       |\n",
      "|Chhattisgarh                            |2021-05-06   |4939907.0                   |1       |\n",
      "|Delhi                                   |2021-05-06   |2883317.0                   |1       |\n",
      "|Jharkhand                               |2021-05-06   |2691611.0                   |1       |\n",
      "|Karnataka                               |2021-05-06   |8468403.0                   |1       |\n",
      "|Manipur                                 |2021-05-06   |248868.0                    |1       |\n",
      "|Haryana                                 |2021-05-06   |3447474.0                   |1       |\n",
      "+----------------------------------------+-------------+----------------------------+--------+\n",
      "only showing top 20 rows\n",
      "\n"
     ]
    },
    {
     "data": {
      "text/plain": [
       "import org.apache.spark.sql.functions.dense_rank\n",
       "windowSpecs1: org.apache.spark.sql.expressions.WindowSpec = org.apache.spark.sql.expressions.WindowSpec@631b9808\n"
      ]
     },
     "execution_count": 33,
     "metadata": {},
     "output_type": "execute_result"
    }
   ],
   "source": [
    "import org.apache.spark.sql.functions.dense_rank\n",
    "val windowSpecs1=Window.partitionBy($\"state\").orderBy($\"Total_Individuals_Vaccinated\".desc)\n",
    "vaccineDF.filter($\"state\"=!=\"India\")\n",
    ".select($\"state\",to_date($\"updated_on_ts\").as(\"updated_on_dt\"),$\"Total_Individuals_Vaccinated\")\n",
    ".filter($\"Total_Individuals_Vaccinated\".isNotNull)\n",
    ".withColumn(\"vcn_rank\",dense_rank() over (windowSpecs))\n",
    ".filter($\"vcn_rank\"===1)\n",
    ".show(false)"
   ]
  },
  {
   "cell_type": "markdown",
   "id": "05d74fd8-01bf-46d6-bf01-ced1cefcacbd",
   "metadata": {},
   "source": [
    "Read employee Data"
   ]
  },
  {
   "cell_type": "code",
   "execution_count": 36,
   "id": "e7f7946b-d0fc-4c36-80a1-4f5394fd9448",
   "metadata": {},
   "outputs": [
    {
     "name": "stdout",
     "output_type": "stream",
     "text": [
      "+-------+----------+------+\n",
      "|name   |dept      |salary|\n",
      "+-------+----------+------+\n",
      "|  James|     Sales|3000  |\n",
      "|  James|     Sales|3000  |\n",
      "| Robert|     Sales|4100  |\n",
      "|   Saif|     Sales|4100  |\n",
      "|Michael|     Sales|4600  |\n",
      "|  Maria|   Finance|3000  |\n",
      "|  Scott|   Finance|3300  |\n",
      "|    Jen|   Finance|3900  |\n",
      "|  Kumar| Marketing|2000  |\n",
      "|   Jeff| Marketing|3000  |\n",
      "+-------+----------+------+\n",
      "\n"
     ]
    },
    {
     "data": {
      "text/plain": [
       "smployeeSchema: String = name string,dept string,salary int\n",
       "employees: org.apache.spark.sql.DataFrame = [name: string, dept: string ... 1 more field]\n"
      ]
     },
     "execution_count": 36,
     "metadata": {},
     "output_type": "execute_result"
    }
   ],
   "source": [
    "val smployeeSchema=\"name string,dept string,salary int\"\n",
    "val employees=spark.read.option(\"delimiter\",\"|\").schema(smployeeSchema).csv(\"../data/dummy_data/employees.csv\")\n",
    "employees.show(false)"
   ]
  },
  {
   "cell_type": "code",
   "execution_count": 58,
   "id": "5fc73615-ac4d-40ae-a53a-b7c27e5f7ff9",
   "metadata": {},
   "outputs": [
    {
     "name": "stdout",
     "output_type": "stream",
     "text": [
      "+-------+----------+------+-------+---+---------+--------+-----+------------------+----+----+\n",
      "|name   |dept      |salary|row_num|rnk|dense_rnk|pcnt_rnk|ntile|cume_dist         |lag |lead|\n",
      "+-------+----------+------+-------+---+---------+--------+-----+------------------+----+----+\n",
      "|Michael|     Sales|4600  |1      |1  |1        |1.0     |1    |1.0               |4100|null|\n",
      "|   Saif|     Sales|4100  |3      |2  |2        |0.5     |1    |0.8               |4100|4600|\n",
      "| Robert|     Sales|4100  |2      |2  |2        |0.5     |1    |0.8               |3000|4100|\n",
      "|  James|     Sales|3000  |4      |4  |3        |0.0     |2    |0.4               |null|3000|\n",
      "|  James|     Sales|3000  |5      |4  |3        |0.0     |2    |0.4               |3000|4100|\n",
      "|    Jen|   Finance|3900  |1      |1  |1        |1.0     |1    |1.0               |3300|null|\n",
      "|  Scott|   Finance|3300  |2      |2  |2        |0.5     |1    |0.6666666666666666|3000|3900|\n",
      "|  Maria|   Finance|3000  |3      |3  |3        |0.0     |2    |0.3333333333333333|null|3300|\n",
      "|   Jeff| Marketing|3000  |1      |1  |1        |1.0     |1    |1.0               |2000|null|\n",
      "|  Kumar| Marketing|2000  |2      |2  |2        |0.0     |2    |0.5               |null|3000|\n",
      "+-------+----------+------+-------+---+---------+--------+-----+------------------+----+----+\n",
      "\n"
     ]
    },
    {
     "data": {
      "text/plain": [
       "import org.apache.spark.sql.functions._\n",
       "wcByDept: org.apache.spark.sql.expressions.WindowSpec = org.apache.spark.sql.expressions.WindowSpec@bfc3add\n",
       "wcByDeptAsc: org.apache.spark.sql.expressions.WindowSpec = org.apache.spark.sql.expressions.WindowSpec@59cc58b\n"
      ]
     },
     "execution_count": 58,
     "metadata": {},
     "output_type": "execute_result"
    }
   ],
   "source": [
    "import org.apache.spark.sql.functions._\n",
    "\n",
    "val wcByDept=Window.partitionBy($\"dept\").orderBy($\"salary\".desc)\n",
    "val wcByDeptAsc=Window.partitionBy($\"dept\").orderBy($\"salary\".asc)\n",
    "employees\n",
    ".withColumn(\"row_num\",row_number() over(wcByDept))\n",
    ".withColumn(\"rnk\",rank() over(wcByDept))\n",
    ".withColumn(\"dense_rnk\",dense_rank() over(wcByDept))\n",
    ".withColumn(\"pcnt_rnk\",percent_rank() over(wcByDeptAsc))\n",
    ".withColumn(\"ntile\",ntile(2) over(wcByDept))\n",
    ".withColumn(\"cume_dist\",cume_dist() over(Window.partitionBy($\"dept\").orderBy($\"salary\".asc)))\n",
    ".withColumn(\"lag\",lag(\"salary\",1).over(wcByDeptAsc))\n",
    ".withColumn(\"lead\",lead(\"salary\",1).over(wcByDeptAsc))\n",
    ".sort($\"dept\",$\"salary\".desc)\n",
    ".show(false)"
   ]
  },
  {
   "cell_type": "code",
   "execution_count": 69,
   "id": "bcbf51cd-aabf-4cf2-84c9-a147c408308f",
   "metadata": {},
   "outputs": [
    {
     "name": "stdout",
     "output_type": "stream",
     "text": [
      "+----------+------+-----+----+----+\n",
      "|dept      |avg   |sum  |min |max |\n",
      "+----------+------+-----+----+----+\n",
      "|   Finance|3400.0|10200|3000|3900|\n",
      "|     Sales|3760.0|18800|3000|4600|\n",
      "| Marketing|2500.0|5000 |2000|3000|\n",
      "+----------+------+-----+----+----+\n",
      "\n"
     ]
    },
    {
     "data": {
      "text/plain": [
       "import org.apache.spark.sql.functions._\n",
       "wcByDept: org.apache.spark.sql.expressions.WindowSpec = org.apache.spark.sql.expressions.WindowSpec@6c279c07\n"
      ]
     },
     "execution_count": 69,
     "metadata": {},
     "output_type": "execute_result"
    }
   ],
   "source": [
    "import org.apache.spark.sql.functions._\n",
    "\n",
    "val wcByDept=Window.partitionBy($\"dept\")\n",
    "employees\n",
    ".withColumn(\"row\",row_number() over(Window.partitionBy($\"dept\").orderBy($\"salary\")))\n",
    ".withColumn(\"avg\", avg(col(\"salary\")).over(wcByDept))\n",
    ".withColumn(\"sum\", sum(col(\"salary\")).over(wcByDept))\n",
    ".withColumn(\"min\", min(col(\"salary\")).over(wcByDept))\n",
    ".withColumn(\"max\", max(col(\"salary\")).over(wcByDept))\n",
    ".filter($\"row\"===1)\n",
    ".drop(\"name\",\"salary\",\"row\")\n",
    ".show(false)"
   ]
  }
 ],
 "metadata": {
  "kernelspec": {
   "display_name": "spylon-kernel",
   "language": "scala",
   "name": "spylon-kernel"
  },
  "language_info": {
   "codemirror_mode": "text/x-scala",
   "file_extension": ".scala",
   "help_links": [
    {
     "text": "MetaKernel Magics",
     "url": "https://metakernel.readthedocs.io/en/latest/source/README.html"
    }
   ],
   "mimetype": "text/x-scala",
   "name": "scala",
   "pygments_lexer": "scala",
   "version": "0.4.1"
  }
 },
 "nbformat": 4,
 "nbformat_minor": 5
}
