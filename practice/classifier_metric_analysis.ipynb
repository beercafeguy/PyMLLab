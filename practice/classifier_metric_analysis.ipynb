{
  "nbformat": 4,
  "nbformat_minor": 0,
  "metadata": {
    "colab": {
      "provenance": [],
      "authorship_tag": "ABX9TyPYxcgjb2jXfPW1/MKLIc46",
      "include_colab_link": true
    },
    "kernelspec": {
      "name": "python3",
      "display_name": "Python 3"
    },
    "language_info": {
      "name": "python"
    }
  },
  "cells": [
    {
      "cell_type": "markdown",
      "metadata": {
        "id": "view-in-github",
        "colab_type": "text"
      },
      "source": [
        "<a href=\"https://colab.research.google.com/github/beercafeguy/PyMLLab/blob/master/practice/classifier_metric_analysis.ipynb\" target=\"_parent\"><img src=\"https://colab.research.google.com/assets/colab-badge.svg\" alt=\"Open In Colab\"/></a>"
      ]
    },
    {
      "cell_type": "code",
      "execution_count": 1,
      "metadata": {
        "id": "hLelRk8y8qQq"
      },
      "outputs": [],
      "source": [
        "import pandas as pd\n",
        "import numpy as np\n",
        "import matplotlib.pyplot as plt\n",
        "\n",
        "import matplotlib as mpl"
      ]
    },
    {
      "cell_type": "markdown",
      "source": [
        "## Read MNIST data"
      ],
      "metadata": {
        "id": "V-X2-C_pDDe9"
      }
    },
    {
      "cell_type": "code",
      "source": [
        "from sklearn.datasets import fetch_openml\n",
        "\n",
        "mnist = fetch_openml('mnist_784',version=1,as_frame=False)\n",
        "mnist.keys()"
      ],
      "metadata": {
        "colab": {
          "base_uri": "https://localhost:8080/"
        },
        "id": "2X9iuTzgC2EN",
        "outputId": "68fca712-d63a-4202-b87f-2293cb9b690c"
      },
      "execution_count": 2,
      "outputs": [
        {
          "output_type": "stream",
          "name": "stderr",
          "text": [
            "/usr/local/lib/python3.10/dist-packages/sklearn/datasets/_openml.py:968: FutureWarning: The default value of `parser` will change from `'liac-arff'` to `'auto'` in 1.4. You can set `parser='auto'` to silence this warning. Therefore, an `ImportError` will be raised from 1.4 if the dataset is dense and pandas is not installed. Note that the pandas parser may return different data types. See the Notes Section in fetch_openml's API doc for details.\n",
            "  warn(\n"
          ]
        },
        {
          "output_type": "execute_result",
          "data": {
            "text/plain": [
              "dict_keys(['data', 'target', 'frame', 'categories', 'feature_names', 'target_names', 'DESCR', 'details', 'url'])"
            ]
          },
          "metadata": {},
          "execution_count": 2
        }
      ]
    },
    {
      "cell_type": "code",
      "source": [
        "X,y = mnist['data'],mnist['target']"
      ],
      "metadata": {
        "id": "rChzUN86DWKF"
      },
      "execution_count": 3,
      "outputs": []
    },
    {
      "cell_type": "code",
      "source": [
        "X.shape # 784 =  28 * 28 pixels"
      ],
      "metadata": {
        "colab": {
          "base_uri": "https://localhost:8080/"
        },
        "id": "ST2fx0zADajz",
        "outputId": "fa53294a-de44-4dee-ace8-68e11d4121e9"
      },
      "execution_count": 4,
      "outputs": [
        {
          "output_type": "execute_result",
          "data": {
            "text/plain": [
              "(70000, 784)"
            ]
          },
          "metadata": {},
          "execution_count": 4
        }
      ]
    },
    {
      "cell_type": "code",
      "source": [
        "y.shape"
      ],
      "metadata": {
        "colab": {
          "base_uri": "https://localhost:8080/"
        },
        "id": "nuC7iwmNDlN1",
        "outputId": "fa292e78-40cb-4b16-8dbb-8a54de77ec0d"
      },
      "execution_count": 5,
      "outputs": [
        {
          "output_type": "execute_result",
          "data": {
            "text/plain": [
              "(70000,)"
            ]
          },
          "metadata": {},
          "execution_count": 5
        }
      ]
    },
    {
      "cell_type": "code",
      "source": [
        "print(y)"
      ],
      "metadata": {
        "colab": {
          "base_uri": "https://localhost:8080/"
        },
        "id": "yfKdochtDl2s",
        "outputId": "35ad4984-c2ad-4811-ccf7-c19b61359622"
      },
      "execution_count": 6,
      "outputs": [
        {
          "output_type": "stream",
          "name": "stdout",
          "text": [
            "['5' '0' '4' ... '4' '5' '6']\n"
          ]
        }
      ]
    },
    {
      "cell_type": "code",
      "source": [
        "# display one digit\n",
        "\n",
        "%matplotlib inline\n",
        "\n",
        "sample_image_data = X[0]\n",
        "sample_image = sample_image_data.reshape(28,28)\n",
        "plt.imshow(sample_image,cmap=mpl.cm.binary)\n",
        "plt.axis(\"off\")\n",
        "plt.show()"
      ],
      "metadata": {
        "colab": {
          "base_uri": "https://localhost:8080/",
          "height": 406
        },
        "id": "raD74zo6DnqJ",
        "outputId": "1c22ff2b-f954-475a-f594-00cb005ce550"
      },
      "execution_count": 7,
      "outputs": [
        {
          "output_type": "display_data",
          "data": {
            "text/plain": [
              "<Figure size 640x480 with 1 Axes>"
            ],
            "image/png": "[encoded data removed]"
          },
          "metadata": {}
        }
      ]
    },
    {
      "cell_type": "code",
      "source": [
        "print(y[0])"
      ],
      "metadata": {
        "colab": {
          "base_uri": "https://localhost:8080/"
        },
        "id": "Fd9e7J1AEM91",
        "outputId": "8fce93a5-4e97-45b5-8594-262290fd0b43"
      },
      "execution_count": 8,
      "outputs": [
        {
          "output_type": "stream",
          "name": "stdout",
          "text": [
            "5\n"
          ]
        }
      ]
    },
    {
      "cell_type": "code",
      "source": [
        "# the target is goven as string to we need to convert that to int\n",
        "y = y.astype(np.uint8)"
      ],
      "metadata": {
        "id": "b-sr__mCElWR"
      },
      "execution_count": 9,
      "outputs": []
    },
    {
      "cell_type": "code",
      "source": [
        "y"
      ],
      "metadata": {
        "colab": {
          "base_uri": "https://localhost:8080/"
        },
        "id": "fwtEarFVFDpV",
        "outputId": "fc34d040-e46f-4ea7-f545-30dff505313e"
      },
      "execution_count": 10,
      "outputs": [
        {
          "output_type": "execute_result",
          "data": {
            "text/plain": [
              "array([5, 0, 4, ..., 4, 5, 6], dtype=uint8)"
            ]
          },
          "metadata": {},
          "execution_count": 10
        }
      ]
    },
    {
      "cell_type": "code",
      "source": [
        "X_train,X_test,y_train,y_test = X[:60000],X[60000:],y[:60000],y[60000:]"
      ],
      "metadata": {
        "id": "4WBsnb53FEcB"
      },
      "execution_count": 11,
      "outputs": []
    },
    {
      "cell_type": "markdown",
      "source": [
        "### Train a binary classifier\n",
        "\n",
        "Here we have 10 targets but to make it binary, will make all the 5's as 1 and non 5's as 0. So we need to predict if the given digit is 5 or not"
      ],
      "metadata": {
        "id": "9aegGnn2FcMw"
      }
    },
    {
      "cell_type": "code",
      "source": [
        "y_train_5 = (y_train == 5)\n",
        "y_test_5 = (y_test == 5)"
      ],
      "metadata": {
        "id": "im2VuXBpFYFe"
      },
      "execution_count": 12,
      "outputs": []
    },
    {
      "cell_type": "code",
      "source": [
        "from sklearn.linear_model import SGDClassifier\n",
        "\n",
        "sgd = SGDClassifier(max_iter=1000,tol=0.001,random_state=2023)\n",
        "sgd.fit(X_train,y_train_5)"
      ],
      "metadata": {
        "colab": {
          "base_uri": "https://localhost:8080/",
          "height": 75
        },
        "id": "ehkM-4WxFzhq",
        "outputId": "9ec19928-00d9-4682-efaa-1d6c13ed5652"
      },
      "execution_count": 13,
      "outputs": [
        {
          "output_type": "execute_result",
          "data": {
            "text/plain": [
              "SGDClassifier(random_state=2023)"
            ],
            "text/html": [
              "<style>#sk-container-id-1 {color: black;background-color: white;}#sk-container-id-1 pre{padding: 0;}#sk-container-id-1 div.sk-toggleable {background-color: white;}#sk-container-id-1 label.sk-toggleable__label {cursor: pointer;display: block;width: 100%;margin-bottom: 0;padding: 0.3em;box-sizing: border-box;text-align: center;}#sk-container-id-1 label.sk-toggleable__label-arrow:before {content: \"▸\";float: left;margin-right: 0.25em;color: #696969;}#sk-container-id-1 label.sk-toggleable__label-arrow:hover:before {color: black;}#sk-container-id-1 div.sk-estimator:hover label.sk-toggleable__label-arrow:before {color: black;}#sk-container-id-1 div.sk-toggleable__content {max-height: 0;max-width: 0;overflow: hidden;text-align: left;background-color: #f0f8ff;}#sk-container-id-1 div.sk-toggleable__content pre {margin: 0.2em;color: black;border-radius: 0.25em;background-color: #f0f8ff;}#sk-container-id-1 input.sk-toggleable__control:checked~div.sk-toggleable__content {max-height: 200px;max-width: 100%;overflow: auto;}#sk-container-id-1 input.sk-toggleable__control:checked~label.sk-toggleable__label-arrow:before {content: \"▾\";}#sk-container-id-1 div.sk-estimator input.sk-toggleable__control:checked~label.sk-toggleable__label {background-color: #d4ebff;}#sk-container-id-1 div.sk-label input.sk-toggleable__control:checked~label.sk-toggleable__label {background-color: #d4ebff;}#sk-container-id-1 input.sk-hidden--visually {border: 0;clip: rect(1px 1px 1px 1px);clip: rect(1px, 1px, 1px, 1px);height: 1px;margin: -1px;overflow: hidden;padding: 0;position: absolute;width: 1px;}#sk-container-id-1 div.sk-estimator {font-family: monospace;background-color: #f0f8ff;border: 1px dotted black;border-radius: 0.25em;box-sizing: border-box;margin-bottom: 0.5em;}#sk-container-id-1 div.sk-estimator:hover {background-color: #d4ebff;}#sk-container-id-1 div.sk-parallel-item::after {content: \"\";width: 100%;border-bottom: 1px solid gray;flex-grow: 1;}#sk-container-id-1 div.sk-label:hover label.sk-toggleable__label {background-color: #d4ebff;}#sk-container-id-1 div.sk-serial::before {content: \"\";position: absolute;border-left: 1px solid gray;box-sizing: border-box;top: 0;bottom: 0;left: 50%;z-index: 0;}#sk-container-id-1 div.sk-serial {display: flex;flex-direction: column;align-items: center;background-color: white;padding-right: 0.2em;padding-left: 0.2em;position: relative;}#sk-container-id-1 div.sk-item {position: relative;z-index: 1;}#sk-container-id-1 div.sk-parallel {display: flex;align-items: stretch;justify-content: center;background-color: white;position: relative;}#sk-container-id-1 div.sk-item::before, #sk-container-id-1 div.sk-parallel-item::before {content: \"\";position: absolute;border-left: 1px solid gray;box-sizing: border-box;top: 0;bottom: 0;left: 50%;z-index: -1;}#sk-container-id-1 div.sk-parallel-item {display: flex;flex-direction: column;z-index: 1;position: relative;background-color: white;}#sk-container-id-1 div.sk-parallel-item:first-child::after {align-self: flex-end;width: 50%;}#sk-container-id-1 div.sk-parallel-item:last-child::after {align-self: flex-start;width: 50%;}#sk-container-id-1 div.sk-parallel-item:only-child::after {width: 0;}#sk-container-id-1 div.sk-dashed-wrapped {border: 1px dashed gray;margin: 0 0.4em 0.5em 0.4em;box-sizing: border-box;padding-bottom: 0.4em;background-color: white;}#sk-container-id-1 div.sk-label label {font-family: monospace;font-weight: bold;display: inline-block;line-height: 1.2em;}#sk-container-id-1 div.sk-label-container {text-align: center;}#sk-container-id-1 div.sk-container {/* jupyter's `normalize.less` sets `[hidden] { display: none; }` but bootstrap.min.css set `[hidden] { display: none !important; }` so we also need the `!important` here to be able to override the default hidden behavior on the sphinx rendered scikit-learn.org. See: https://github.com/scikit-learn/scikit-learn/issues/21755 */display: inline-block !important;position: relative;}#sk-container-id-1 div.sk-text-repr-fallback {display: none;}</style><div id=\"sk-container-id-1\" class=\"sk-top-container\"><div class=\"sk-text-repr-fallback\"><pre>SGDClassifier(random_state=2023)</pre><b>In a Jupyter environment, please rerun this cell to show the HTML representation or trust the notebook. <br />On GitHub, the HTML representation is unable to render, please try loading this page with nbviewer.org.</b></div><div class=\"sk-container\" hidden><div class=\"sk-item\"><div class=\"sk-estimator sk-toggleable\"><input class=\"sk-toggleable__control sk-hidden--visually\" id=\"sk-estimator-id-1\" type=\"checkbox\" checked><label for=\"sk-estimator-id-1\" class=\"sk-toggleable__label sk-toggleable__label-arrow\">SGDClassifier</label><div class=\"sk-toggleable__content\"><pre>SGDClassifier(random_state=2023)</pre></div></div></div></div></div>"
            ]
          },
          "metadata": {},
          "execution_count": 13
        }
      ]
    },
    {
      "cell_type": "code",
      "source": [
        "y_pred = sgd.predict([X[0].reshape(28*28)])\n",
        "y_pred # we already know this is 5"
      ],
      "metadata": {
        "colab": {
          "base_uri": "https://localhost:8080/"
        },
        "id": "-jZaEp-cGW2i",
        "outputId": "0d11f0a2-153a-4160-9e95-4fae850fdfb2"
      },
      "execution_count": 14,
      "outputs": [
        {
          "output_type": "execute_result",
          "data": {
            "text/plain": [
              "array([ True])"
            ]
          },
          "metadata": {},
          "execution_count": 14
        }
      ]
    },
    {
      "cell_type": "code",
      "source": [
        "from sklearn.model_selection import cross_val_score\n",
        "\n",
        "cross_val_score(sgd,X_train,y_train_5,cv=5,scoring='accuracy')"
      ],
      "metadata": {
        "colab": {
          "base_uri": "https://localhost:8080/"
        },
        "id": "mKFIP1shGjlV",
        "outputId": "05dde6d9-cd4b-4082-f0ef-c2d18773097d"
      },
      "execution_count": 15,
      "outputs": [
        {
          "output_type": "execute_result",
          "data": {
            "text/plain": [
              "array([0.97183333, 0.96525   , 0.94733333, 0.93533333, 0.96691667])"
            ]
          },
          "metadata": {},
          "execution_count": 15
        }
      ]
    },
    {
      "cell_type": "markdown",
      "source": [
        "## Measuring accuracy usng cross validation"
      ],
      "metadata": {
        "id": "7Z1MTXc1HU0v"
      }
    },
    {
      "cell_type": "code",
      "source": [
        "from sklearn.model_selection import StratifiedKFold\n",
        "from sklearn.base import clone\n",
        "\n",
        "skfold = StratifiedKFold(n_splits=3,shuffle=True,random_state=2023)\n",
        "\n",
        "for train_index,test_index in skfold.split(X_train,y_train_5):\n",
        "  print('train_index',train_index)\n",
        "  print('test_index',test_index)\n",
        "  clone_classifier = clone(sgd)\n",
        "\n",
        "  X_train_kfold = X_train[train_index]\n",
        "  X_test_kfold = X_train[test_index]\n",
        "  print(X_train_kfold.shape)\n",
        "  print(X_test_kfold.shape)\n",
        "  y_train_kfold = y_train_5[train_index]\n",
        "  y_test_kfold = y_train_5[test_index]\n",
        "  print(y_train_kfold.shape)\n",
        "  print(y_test_kfold.shape)\n",
        "\n",
        "  clone_classifier.fit(X_train_kfold,y_train_kfold)\n",
        "  y_pred_kfold = clone_classifier.predict(X_test_kfold)\n",
        "  n_correct = sum(y_pred_kfold==y_test_kfold)\n",
        "\n",
        "  print(\"Accuracy : \",n_correct/len(y_test_kfold))"
      ],
      "metadata": {
        "colab": {
          "base_uri": "https://localhost:8080/"
        },
        "id": "myNlYeAUHJy-",
        "outputId": "b48dfbf0-32c4-432e-b115-592be3f540cd"
      },
      "execution_count": 16,
      "outputs": [
        {
          "output_type": "stream",
          "name": "stdout",
          "text": [
            "train_index [    0     1     2 ... 59994 59997 59998]\n",
            "test_index [    4     7     8 ... 59995 59996 59999]\n",
            "(40000, 784)\n",
            "(20000, 784)\n",
            "(40000,)\n",
            "(20000,)\n",
            "Accuracy :  0.9617\n",
            "train_index [    1     2     4 ... 59997 59998 59999]\n",
            "test_index [    0     3     6 ... 59990 59993 59994]\n",
            "(40000, 784)\n",
            "(20000, 784)\n",
            "(40000,)\n",
            "(20000,)\n",
            "Accuracy :  0.9527\n",
            "train_index [    0     3     4 ... 59995 59996 59999]\n",
            "test_index [    1     2     5 ... 59989 59997 59998]\n",
            "(40000, 784)\n",
            "(20000, 784)\n",
            "(40000,)\n",
            "(20000,)\n",
            "Accuracy :  0.95075\n"
          ]
        }
      ]
    },
    {
      "cell_type": "code",
      "source": [
        "## Dummy estimator which always predicts False\n",
        "\n",
        "from sklearn.base import BaseEstimator\n",
        "\n",
        "class DummyClassifier(BaseEstimator):\n",
        "\n",
        "  def fit(self,X,y=None):\n",
        "    pass\n",
        "\n",
        "  def predict(self,X):\n",
        "    return np.zeros((len(X),1),dtype=bool)"
      ],
      "metadata": {
        "id": "czOvduj9Ie9X"
      },
      "execution_count": 17,
      "outputs": []
    },
    {
      "cell_type": "code",
      "source": [
        "dumb_clf = DummyClassifier()\n",
        "cross_val_score(dumb_clf,X_train,y_train_5,cv=3,scoring='accuracy')"
      ],
      "metadata": {
        "colab": {
          "base_uri": "https://localhost:8080/"
        },
        "id": "W3m1OrGvJ_2u",
        "outputId": "089122d1-5120-45f4-8755-e08b9ec93e1b"
      },
      "execution_count": 18,
      "outputs": [
        {
          "output_type": "execute_result",
          "data": {
            "text/plain": [
              "array([0.91125, 0.90855, 0.90915])"
            ]
          },
          "metadata": {},
          "execution_count": 18
        }
      ]
    },
    {
      "cell_type": "markdown",
      "source": [
        "# Cofusion Matrix"
      ],
      "metadata": {
        "id": "OGNXELsEKYqt"
      }
    },
    {
      "cell_type": "code",
      "source": [
        "from sklearn.model_selection import cross_val_predict\n",
        "\n",
        "y_train_pred = cross_val_predict(sgd,X_train,y_train_5,cv=3)\n",
        "y_train_pred"
      ],
      "metadata": {
        "colab": {
          "base_uri": "https://localhost:8080/"
        },
        "id": "TgqrO5JlKMbf",
        "outputId": "35c6133d-808f-4e2c-86ce-da3ad01c15e8"
      },
      "execution_count": 19,
      "outputs": [
        {
          "output_type": "execute_result",
          "data": {
            "text/plain": [
              "array([ True, False, False, ...,  True, False, False])"
            ]
          },
          "metadata": {},
          "execution_count": 19
        }
      ]
    },
    {
      "cell_type": "code",
      "source": [
        "from sklearn.metrics import confusion_matrix\n",
        "\n",
        "confusion_matrix(y_train_5,y_train_pred)"
      ],
      "metadata": {
        "colab": {
          "base_uri": "https://localhost:8080/"
        },
        "id": "30Z24mOWKsRH",
        "outputId": "f34a361d-3923-4f56-ce9e-5a314db8bfb5"
      },
      "execution_count": 20,
      "outputs": [
        {
          "output_type": "execute_result",
          "data": {
            "text/plain": [
              "array([[53205,  1374],\n",
              "       [ 1101,  4320]])"
            ]
          },
          "metadata": {},
          "execution_count": 20
        }
      ]
    },
    {
      "cell_type": "code",
      "source": [
        "# confussion metrix for perfect predictions\n",
        "\n",
        "confusion_matrix(y_train_5,y_train_5)"
      ],
      "metadata": {
        "colab": {
          "base_uri": "https://localhost:8080/"
        },
        "id": "HwrmfN7JLFgH",
        "outputId": "85650ee6-47d0-47b2-a075-f477def5212a"
      },
      "execution_count": 21,
      "outputs": [
        {
          "output_type": "execute_result",
          "data": {
            "text/plain": [
              "array([[54579,     0],\n",
              "       [    0,  5421]])"
            ]
          },
          "metadata": {},
          "execution_count": 21
        }
      ]
    },
    {
      "cell_type": "markdown",
      "source": [
        "## Precision and Recall"
      ],
      "metadata": {
        "id": "_v79eC-GTRc2"
      }
    },
    {
      "cell_type": "code",
      "source": [
        "# precision = TP / (TP+FP)\n",
        "# Recall = TP/(TP+FN)"
      ],
      "metadata": {
        "id": "jxKoEw2UTJzE"
      },
      "execution_count": 22,
      "outputs": []
    },
    {
      "cell_type": "code",
      "source": [
        "from sklearn.metrics import precision_score,recall_score\n",
        "\n",
        "cm = confusion_matrix(y_train_5,y_train_pred)\n",
        "print(cm)\n",
        "print(\"Calculated Precision : \",(4320/(4320+1374))) # TP / (TP + FP)\n",
        "print(\"Formula Precision : \",precision_score(y_train_5,y_train_pred))"
      ],
      "metadata": {
        "colab": {
          "base_uri": "https://localhost:8080/"
        },
        "id": "ciDJeprSTcwq",
        "outputId": "66cf9158-0c00-482b-b203-155f3700b7ba"
      },
      "execution_count": 23,
      "outputs": [
        {
          "output_type": "stream",
          "name": "stdout",
          "text": [
            "[[53205  1374]\n",
            " [ 1101  4320]]\n",
            "Calculated Precision :  0.7586933614330874\n",
            "Formula Precision :  0.7586933614330874\n"
          ]
        }
      ]
    },
    {
      "cell_type": "code",
      "source": [
        "cm = confusion_matrix(y_train_5,y_train_pred)\n",
        "print(cm)\n",
        "print(\"Calculated Recall : \",(4320/(4320+1101))) # TP / (TP + FN)\n",
        "print(\"Formula Recall : \",recall_score(y_train_5,y_train_pred))"
      ],
      "metadata": {
        "colab": {
          "base_uri": "https://localhost:8080/"
        },
        "id": "ZRHs6Pr0TllI",
        "outputId": "085d84c3-e8cc-41bc-96ca-efedc49feb8d"
      },
      "execution_count": 24,
      "outputs": [
        {
          "output_type": "stream",
          "name": "stdout",
          "text": [
            "[[53205  1374]\n",
            " [ 1101  4320]]\n",
            "Calculated Recall :  0.7969009407858328\n",
            "Formula Recall :  0.7969009407858328\n"
          ]
        }
      ]
    },
    {
      "cell_type": "markdown",
      "source": [
        "## F1-score"
      ],
      "metadata": {
        "id": "PW9YpmX1UYhd"
      }
    },
    {
      "cell_type": "code",
      "source": [
        "from sklearn.metrics import f1_score\n",
        "\n",
        "print(\"Calculated F1 : \",2 *  0.7586933614330874 * 0.7969009407858328 /(0.7586933614330874+0.7969009407858328) )\n",
        "print(\"Formula F1 : \",f1_score(y_train_5,y_train_pred))"
      ],
      "metadata": {
        "colab": {
          "base_uri": "https://localhost:8080/"
        },
        "id": "tJ6992duUWiS",
        "outputId": "d5ad9135-8c42-4d3b-ccf4-cc7f325f6e86"
      },
      "execution_count": 25,
      "outputs": [
        {
          "output_type": "stream",
          "name": "stdout",
          "text": [
            "Calculated F1 :  0.777327935222672\n",
            "Formula F1 :  0.777327935222672\n"
          ]
        }
      ]
    },
    {
      "cell_type": "markdown",
      "source": [
        "# Precision Recall Tradeoff"
      ],
      "metadata": {
        "id": "BDqmVbQSVNV1"
      }
    },
    {
      "cell_type": "code",
      "source": [
        "y_pred_scores = sgd.decision_function([X[0]]) # this gives you actual score which later will be coonverted into prediction using a threshold\n",
        "y_pred_scores"
      ],
      "metadata": {
        "colab": {
          "base_uri": "https://localhost:8080/"
        },
        "id": "ESC1WfoZUyk8",
        "outputId": "4b49df81-a5f8-4a30-a3b0-bea764327fa7"
      },
      "execution_count": 26,
      "outputs": [
        {
          "output_type": "execute_result",
          "data": {
            "text/plain": [
              "array([767.13846228])"
            ]
          },
          "metadata": {},
          "execution_count": 26
        }
      ]
    },
    {
      "cell_type": "code",
      "source": [
        "threshold = 0 # default value\n",
        "\n",
        "y_pred_scores > threshold"
      ],
      "metadata": {
        "colab": {
          "base_uri": "https://localhost:8080/"
        },
        "id": "Ec8B9v7yVauk",
        "outputId": "f924af49-ee87-4fd3-e07c-ee15e122b066"
      },
      "execution_count": 27,
      "outputs": [
        {
          "output_type": "execute_result",
          "data": {
            "text/plain": [
              "array([ True])"
            ]
          },
          "metadata": {},
          "execution_count": 27
        }
      ]
    },
    {
      "cell_type": "code",
      "source": [
        "threshold = 8000 # default value\n",
        "\n",
        "y_pred_scores > threshold"
      ],
      "metadata": {
        "colab": {
          "base_uri": "https://localhost:8080/"
        },
        "id": "vlGflnASVqsf",
        "outputId": "a4c7cb57-bb60-4a34-a164-1b2eba158a32"
      },
      "execution_count": 28,
      "outputs": [
        {
          "output_type": "execute_result",
          "data": {
            "text/plain": [
              "array([False])"
            ]
          },
          "metadata": {},
          "execution_count": 28
        }
      ]
    },
    {
      "cell_type": "code",
      "source": [
        "y_pred_scores = cross_val_predict(sgd,X_train,y_train_5,cv=3,method='decision_function')\n",
        "y_pred_scores"
      ],
      "metadata": {
        "colab": {
          "base_uri": "https://localhost:8080/"
        },
        "id": "VUKCeo-UVvGt",
        "outputId": "d2e7a295-6950-404e-b1b1-67f07cea7f3f"
      },
      "execution_count": 29,
      "outputs": [
        {
          "output_type": "execute_result",
          "data": {
            "text/plain": [
              "array([ 10039.29544457, -16735.6013513 , -32307.88690651, ...,\n",
              "        12201.58775094,  -6858.53784519,  -9365.72501489])"
            ]
          },
          "metadata": {},
          "execution_count": 29
        }
      ]
    },
    {
      "cell_type": "code",
      "source": [
        "from sklearn.metrics import precision_recall_curve\n",
        "\n",
        "precision,recall,thresholds = precision_recall_curve(y_train_5,y_pred_scores)"
      ],
      "metadata": {
        "id": "h_mt7csJV-YD"
      },
      "execution_count": 30,
      "outputs": []
    },
    {
      "cell_type": "code",
      "source": [
        "def plot_precision_recall_threshold(pr,re,th):\n",
        "  plt.plot(th,pr[:-1],\"b--\",label = 'Precision',linewidth=2)\n",
        "  plt.plot(th,re[:-1],\"g-\",label = 'Recall',linewidth=2)\n",
        "  plt.legend(loc=\"center right\",fontsize=16)\n",
        "  plt.xlabel(\"Threshold\",fontsize=16)\n",
        "  plt.grid(True)\n",
        "  plt.axis([-30000,30000,0,1])"
      ],
      "metadata": {
        "id": "lqGnzXXtWSEz"
      },
      "execution_count": 31,
      "outputs": []
    },
    {
      "cell_type": "code",
      "source": [
        "precision.shape,recall.shape,thresholds.shape"
      ],
      "metadata": {
        "colab": {
          "base_uri": "https://localhost:8080/"
        },
        "id": "W3dVyGWOXOjJ",
        "outputId": "ed9b6c3e-5a37-427b-e228-745545f1f0d2"
      },
      "execution_count": 32,
      "outputs": [
        {
          "output_type": "execute_result",
          "data": {
            "text/plain": [
              "((60001,), (60001,), (60000,))"
            ]
          },
          "metadata": {},
          "execution_count": 32
        }
      ]
    },
    {
      "cell_type": "code",
      "source": [
        "plt.figure(figsize=(8, 4))\n",
        "plot_precision_recall_threshold(precision,recall,thresholds)"
      ],
      "metadata": {
        "colab": {
          "base_uri": "https://localhost:8080/",
          "height": 399
        },
        "id": "3XDFVtXXXO2u",
        "outputId": "5599b820-be33-4a1b-e3cd-5f83d46f6e9c"
      },
      "execution_count": 33,
      "outputs": [
        {
          "output_type": "display_data",
          "data": {
            "text/plain": [
              "<Figure size 800x400 with 1 Axes>"
            ],
            "image/png": "[encoded data removed]"
          },
          "metadata": {}
        }
      ]
    },
    {
      "cell_type": "code",
      "source": [
        "# get recalls when precision is more then 90%\n",
        "recall_90_precision = recall[np.argmax(precision >= 0.90)]\n",
        "threshold_90_precision = thresholds[np.argmax(precision >= 0.90)]\n",
        "\n",
        "plot_precision_recall_threshold(precision,recall,thresholds)\n",
        "plt.plot([threshold_90_precision, threshold_90_precision], [0., 0.9], \"r:\")"
      ],
      "metadata": {
        "colab": {
          "base_uri": "https://localhost:8080/",
          "height": 478
        },
        "id": "5ESU3IkXXxcx",
        "outputId": "80f10ba8-6c5f-46a6-fd22-87731584dc17"
      },
      "execution_count": 34,
      "outputs": [
        {
          "output_type": "execute_result",
          "data": {
            "text/plain": [
              "[<matplotlib.lines.Line2D at 0x7d9432067610>]"
            ]
          },
          "metadata": {},
          "execution_count": 34
        },
        {
          "output_type": "display_data",
          "data": {
            "text/plain": [
              "<Figure size 640x480 with 1 Axes>"
            ],
            "image/png": "[encoded data removed]"
          },
          "metadata": {}
        }
      ]
    },
    {
      "cell_type": "code",
      "source": [
        "threshold_90_precision"
      ],
      "metadata": {
        "colab": {
          "base_uri": "https://localhost:8080/"
        },
        "id": "0mbgIUYGerEC",
        "outputId": "62512237-4f8c-4ca6-9805-94972b20e643"
      },
      "execution_count": 39,
      "outputs": [
        {
          "output_type": "execute_result",
          "data": {
            "text/plain": [
              "3693.8293723259853"
            ]
          },
          "metadata": {},
          "execution_count": 39
        }
      ]
    },
    {
      "cell_type": "code",
      "source": [
        "def plot_precision_recall_curve(prec,rec):\n",
        "  plt.plot(rec, prec, \"b-\", linewidth=2)\n",
        "  plt.xlabel(\"Recall\", fontsize=16)\n",
        "  plt.ylabel(\"Precision\", fontsize=16)\n",
        "  plt.axis([0, 1, 0, 1])\n",
        "  plt.grid(True)\n",
        "\n",
        "\n",
        "plt.figure(figsize=(8,6))\n",
        "plot_precision_recall_curve(precision,recall)"
      ],
      "metadata": {
        "colab": {
          "base_uri": "https://localhost:8080/",
          "height": 553
        },
        "id": "a-O8GJeLbIyA",
        "outputId": "a9042191-bb13-427a-88bb-59612d868f43"
      },
      "execution_count": 37,
      "outputs": [
        {
          "output_type": "display_data",
          "data": {
            "text/plain": [
              "<Figure size 800x600 with 1 Axes>"
            ],
            "image/png": "[encoded data removed]"
          },
          "metadata": {}
        }
      ]
    },
    {
      "cell_type": "markdown",
      "source": [
        "## ROC Curve"
      ],
      "metadata": {
        "id": "C63FKhDse3vi"
      }
    },
    {
      "cell_type": "code",
      "source": [
        "from sklearn.metrics import roc_curve\n",
        "\n",
        "fpr,tpr,thresholds = roc_curve(y_train_5,y_pred_scores)\n",
        "\n",
        "# FPR = FP / FP + TN (FP out of all the actual negatives)\n",
        "# TPR = TP / TP + FN (true positives out of all the actual positives) - recall\n",
        "\n",
        "fpr,tpr,thresholds"
      ],
      "metadata": {
        "colab": {
          "base_uri": "https://localhost:8080/"
        },
        "id": "Panup2Ivdg2i",
        "outputId": "b1ae4101-cc82-4106-c412-92910cfb00a6"
      },
      "execution_count": 41,
      "outputs": [
        {
          "output_type": "execute_result",
          "data": {
            "text/plain": [
              "(array([0.        , 0.        , 0.        , ..., 0.99811283, 0.99811283,\n",
              "        1.        ]),\n",
              " array([0.00000000e+00, 1.84467810e-04, 9.22339052e-04, ...,\n",
              "        9.99815532e-01, 1.00000000e+00, 1.00000000e+00]),\n",
              " array([  38484.42175818,   38483.42175818,   31217.67910317, ...,\n",
              "         -79367.52821516,  -79482.29070441, -126344.69060604]))"
            ]
          },
          "metadata": {},
          "execution_count": 41
        }
      ]
    },
    {
      "cell_type": "code",
      "source": [
        "def plot_roc_curve(_fpr,_tpr,_label=None):\n",
        "  plt.plot(_fpr,_tpr,linewidth=2,label=_label)\n",
        "  plt.plot([0,1],[0,1],'k--') # diagonal for a dumb classifier\n",
        "  plt.axis([0,1,0,1])\n",
        "  plt.xlabel('False Positive Rate', fontsize=16) # Fall-Out\n",
        "  plt.ylabel('True Positive Rate', fontsize=16)    # Recall\n",
        "  plt.grid(True)\n",
        "\n",
        "plot_roc_curve(fpr,tpr,_label='ROC Curve')"
      ],
      "metadata": {
        "colab": {
          "base_uri": "https://localhost:8080/",
          "height": 461
        },
        "id": "veU0gcelfJ_f",
        "outputId": "97346823-2b32-4fc3-f61e-30689cd2b659"
      },
      "execution_count": 46,
      "outputs": [
        {
          "output_type": "display_data",
          "data": {
            "text/plain": [
              "<Figure size 640x480 with 1 Axes>"
            ],
            "image/png": "[encoded data removed]"
          },
          "metadata": {}
        }
      ]
    },
    {
      "cell_type": "code",
      "source": [
        "\n",
        "\n",
        "from sklearn.metrics import roc_auc_score\n",
        "\n",
        "roc_auc_score(y_train_5, y_pred_scores)\n",
        "\n"
      ],
      "metadata": {
        "colab": {
          "base_uri": "https://localhost:8080/"
        },
        "id": "ssFsyu6wgRFF",
        "outputId": "021bf9e9-c25a-4fda-da7f-2c300aa2fc8f"
      },
      "execution_count": 47,
      "outputs": [
        {
          "output_type": "execute_result",
          "data": {
            "text/plain": [
              "0.9633563460298149"
            ]
          },
          "metadata": {},
          "execution_count": 47
        }
      ]
    },
    {
      "cell_type": "markdown",
      "source": [
        "# Train Random forest"
      ],
      "metadata": {
        "id": "LJH-M_pBkdWq"
      }
    },
    {
      "cell_type": "code",
      "source": [
        "from sklearn.ensemble import RandomForestClassifier\n",
        "\n",
        "rf = RandomForestClassifier(n_estimators=100, random_state=42)\n",
        "\n",
        "rf_prob_scores = cross_val_predict(rf,X_train,y_train_5,cv=3,method='predict_proba')\n",
        "rf_prob_scores"
      ],
      "metadata": {
        "colab": {
          "base_uri": "https://localhost:8080/"
        },
        "id": "c_U_ozZckKpr",
        "outputId": "bbeee996-4f06-4b0d-f9f1-fe478c35ef12"
      },
      "execution_count": 48,
      "outputs": [
        {
          "output_type": "execute_result",
          "data": {
            "text/plain": [
              "array([[0.11, 0.89],\n",
              "       [0.99, 0.01],\n",
              "       [0.96, 0.04],\n",
              "       ...,\n",
              "       [0.02, 0.98],\n",
              "       [0.92, 0.08],\n",
              "       [0.94, 0.06]])"
            ]
          },
          "metadata": {},
          "execution_count": 48
        }
      ]
    },
    {
      "cell_type": "code",
      "source": [
        "rf_scores = rf_prob_scores[:,1] # probability of positive class\n",
        "fpr_rf,tpr_rf,thresholds_rf = roc_curve(y_train_5,rf_scores)"
      ],
      "metadata": {
        "id": "PUWulSUbk56b"
      },
      "execution_count": 50,
      "outputs": []
    },
    {
      "cell_type": "code",
      "source": [
        "plt.figure(figsize=(8, 6))\n",
        "plt.plot(fpr, tpr, \"b:\", linewidth=2, label=\"SGD\")\n",
        "plot_roc_curve(fpr_rf, tpr_rf, _label=\"Random Forest\")\n",
        "plt.grid(True)\n",
        "plt.legend(loc=\"lower right\", fontsize=16)"
      ],
      "metadata": {
        "colab": {
          "base_uri": "https://localhost:8080/",
          "height": 570
        },
        "id": "GE6PPgfHlWVy",
        "outputId": "253ca3f9-71e8-4861-e5fb-560b796ef4fc"
      },
      "execution_count": 52,
      "outputs": [
        {
          "output_type": "execute_result",
          "data": {
            "text/plain": [
              "<matplotlib.legend.Legend at 0x7d9416a8fe20>"
            ]
          },
          "metadata": {},
          "execution_count": 52
        },
        {
          "output_type": "display_data",
          "data": {
            "text/plain": [
              "<Figure size 800x600 with 1 Axes>"
            ],
            "image/png": "[encoded data removed]"
          },
          "metadata": {}
        }
      ]
    },
    {
      "cell_type": "code",
      "source": [
        "roc_auc_score(y_train_5, rf_scores)"
      ],
      "metadata": {
        "colab": {
          "base_uri": "https://localhost:8080/"
        },
        "id": "_nsJWXz0ltq0",
        "outputId": "9316e77e-855a-4da5-e725-ac13d4450b98"
      },
      "execution_count": 53,
      "outputs": [
        {
          "output_type": "execute_result",
          "data": {
            "text/plain": [
              "0.9983436731328145"
            ]
          },
          "metadata": {},
          "execution_count": 53
        }
      ]
    },
    {
      "cell_type": "markdown",
      "source": [
        "## Multi class classification"
      ],
      "metadata": {
        "id": "8AL2CJo4l_Tc"
      }
    },
    {
      "cell_type": "code",
      "source": [],
      "metadata": {
        "id": "EoCr8Iydl6pL"
      },
      "execution_count": null,
      "outputs": []
    }
  ]
}