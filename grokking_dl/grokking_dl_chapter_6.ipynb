{
  "nbformat": 4,
  "nbformat_minor": 0,
  "metadata": {
    "colab": {
      "provenance": [],
      "authorship_tag": "ABX9TyMZx9NziAirhVtfbovy4yZ0",
      "include_colab_link": true
    },
    "kernelspec": {
      "name": "python3",
      "display_name": "Python 3"
    },
    "language_info": {
      "name": "python"
    }
  },
  "cells": [
    {
      "cell_type": "markdown",
      "metadata": {
        "id": "view-in-github",
        "colab_type": "text"
      },
      "source": [
        "<a href=\"https://colab.research.google.com/github/beercafeguy/PyMLLab/blob/master/grokking_dl/grokking_dl_chapter_6.ipynb\" target=\"_parent\"><img src=\"https://colab.research.google.com/assets/colab-badge.svg\" alt=\"Open In Colab\"/></a>"
      ]
    },
    {
      "cell_type": "code",
      "execution_count": 1,
      "metadata": {
        "id": "3vXnBnk8V0Gp"
      },
      "outputs": [],
      "source": [
        "import numpy as np\n",
        "\n"
      ]
    },
    {
      "cell_type": "code",
      "source": [
        "street_lights = np.array(\n",
        "    [ [ 1, 0, 1 ],\n",
        "      [ 0, 1, 1 ],\n",
        "      [ 0, 0, 1 ],\n",
        "      [ 1, 1, 1 ],\n",
        "      [ 0, 1, 1 ],\n",
        "      [ 1, 0, 1 ] ] )"
      ],
      "metadata": {
        "id": "pBZLSmkOYrA_"
      },
      "execution_count": 2,
      "outputs": []
    },
    {
      "cell_type": "code",
      "source": [
        "print(street_lights)"
      ],
      "metadata": {
        "colab": {
          "base_uri": "https://localhost:8080/"
        },
        "id": "Mjxxcu8FYzkM",
        "outputId": "cd35427e-62cf-4e96-ad34-f819ddf75c6f"
      },
      "execution_count": 3,
      "outputs": [
        {
          "output_type": "stream",
          "name": "stdout",
          "text": [
            "[[1 0 1]\n",
            " [0 1 1]\n",
            " [0 0 1]\n",
            " [1 1 1]\n",
            " [0 1 1]\n",
            " [1 0 1]]\n"
          ]
        }
      ]
    },
    {
      "cell_type": "code",
      "source": [
        "walk_vs_stop = np.array([\n",
        "    [0],\n",
        "    [1],\n",
        "    [0],\n",
        "    [1],\n",
        "    [1],\n",
        "    [0]\n",
        "\n",
        "])"
      ],
      "metadata": {
        "id": "G5zyj71tY51Y"
      },
      "execution_count": 4,
      "outputs": []
    },
    {
      "cell_type": "code",
      "source": [
        "# both below values are initialized randomly\n",
        "weights = np.array([0.5,0.48,-0.7])\n",
        "alpha = 0.1"
      ],
      "metadata": {
        "id": "Gyz5YvbHY08z"
      },
      "execution_count": 5,
      "outputs": []
    },
    {
      "cell_type": "code",
      "source": [
        "input = street_lights[0]\n",
        "true_label = walk_vs_stop[0]\n",
        "\n",
        "for iter in range(20):\n",
        "  prediction = input.dot(weights)\n",
        "  error = (prediction - true_label) ** 2\n",
        "  delta = prediction - true_label\n",
        "\n",
        "  weights = weights - (alpha * (input * delta))\n",
        "  print(f\"Error {error} | Prediction {prediction}\")"
      ],
      "metadata": {
        "colab": {
          "base_uri": "https://localhost:8080/"
        },
        "id": "AHnvqFCSZVED",
        "outputId": "352428e6-2487-4d5b-ce84-e3c1178bb70b"
      },
      "execution_count": 6,
      "outputs": [
        {
          "output_type": "stream",
          "name": "stdout",
          "text": [
            "Error [0.04] | Prediction -0.19999999999999996\n",
            "Error [0.0256] | Prediction -0.15999999999999992\n",
            "Error [0.016384] | Prediction -0.1279999999999999\n",
            "Error [0.01048576] | Prediction -0.10239999999999982\n",
            "Error [0.00671089] | Prediction -0.08191999999999977\n",
            "Error [0.00429497] | Prediction -0.06553599999999982\n",
            "Error [0.00274878] | Prediction -0.05242879999999994\n",
            "Error [0.00175922] | Prediction -0.04194304000000004\n",
            "Error [0.0011259] | Prediction -0.03355443200000008\n",
            "Error [0.00072058] | Prediction -0.02684354560000002\n",
            "Error [0.00046117] | Prediction -0.021474836479999926\n",
            "Error [0.00029515] | Prediction -0.01717986918399994\n",
            "Error [0.00018889] | Prediction -0.013743895347199997\n",
            "Error [0.00012089] | Prediction -0.010995116277759953\n",
            "Error [7.73712525e-05] | Prediction -0.008796093022207963\n",
            "Error [4.95176016e-05] | Prediction -0.007036874417766459\n",
            "Error [3.1691265e-05] | Prediction -0.0056294995342132115\n",
            "Error [2.02824096e-05] | Prediction -0.004503599627370569\n",
            "Error [1.29807421e-05] | Prediction -0.003602879701896544\n",
            "Error [8.30767497e-06] | Prediction -0.002882303761517324\n"
          ]
        }
      ]
    },
    {
      "cell_type": "code",
      "source": [
        "input = street_lights[0]\n",
        "true_label = walk_vs_stop[0]\n",
        "\n",
        "for iter in range(40):\n",
        "  error_for_all_lights = 0\n",
        "  for row_index in range(len(street_lights)):\n",
        "    input = street_lights[row_index]\n",
        "    true_label = walk_vs_stop[row_index]\n",
        "\n",
        "    prediction = input.dot(weights)\n",
        "    error = (prediction - true_label) ** 2\n",
        "\n",
        "    error_for_all_lights = error_for_all_lights + error\n",
        "    delta = prediction - true_label\n",
        "\n",
        "    weights = weights - (alpha * (input * delta))\n",
        "    print(f\"Prediction {prediction}\")\n",
        "  print(f\"Error {error_for_all_lights}\")"
      ],
      "metadata": {
        "colab": {
          "base_uri": "https://localhost:8080/"
        },
        "id": "LP2ui-kPaUCQ",
        "outputId": "da9e6cfe-90b8-4755-8a8a-9962bec882a5"
      },
      "execution_count": 7,
      "outputs": [
        {
          "output_type": "stream",
          "name": "stdout",
          "text": [
            "Prediction -0.0023058430092137705\n",
            "Prediction -0.1209223372036855\n",
            "Prediction -0.4888301034833169\n",
            "Prediction 0.7512228033816979\n",
            "Prediction 0.20190057990904375\n",
            "Prediction 0.2886959509940853\n",
            "Error [2.2776252]\n",
            "Prediction 0.23095676079526822\n",
            "Prediction 0.3095551927482997\n",
            "Prediction -0.31818022191782463\n",
            "Prediction 1.0514522876696315\n",
            "Prediction 0.46917171885649595\n",
            "Prediction 0.3284202821335913\n",
            "Error [1.02357959]\n",
            "Prediction 0.26273622570687305\n",
            "Prediction 0.5162217243011503\n",
            "Prediction -0.24916242359281637\n",
            "Prediction 1.1456228535284017\n",
            "Prediction 0.6087690510945215\n",
            "Prediction 0.2934815746795325\n",
            "Error [0.62555276]\n",
            "Prediction 0.23478525974362602\n",
            "Prediction 0.6341885574333014\n",
            "Prediction -0.21593091088147304\n",
            "Prediction 1.1692841999678323\n",
            "Prediction 0.6950870970412221\n",
            "Prediction 0.24263689344202927\n",
            "Error [0.41606997]\n",
            "Prediction 0.19410951475362342\n",
            "Prediction 0.7123950368134124\n",
            "Prediction -0.19568909399513768\n",
            "Prediction 1.1692221409669388\n",
            "Prediction 0.7556405106568559\n",
            "Prediction 0.19420853826199794\n",
            "Error [0.28475399]\n",
            "Prediction 0.15536683060959836\n",
            "Prediction 0.7695548716383251\n",
            "Prediction -0.1805194738089955\n",
            "Prediction 1.1615532958244013\n",
            "Prediction 0.8013851855266794\n",
            "Prediction 0.1529407469871975\n",
            "Error [0.19876927]\n",
            "Prediction 0.12235259758975803\n",
            "Prediction 0.813578813963648\n",
            "Prediction -0.16764859041726432\n",
            "Prediction 1.151800697305351\n",
            "Prediction 0.8372677707515747\n",
            "Prediction 0.11920213918094039\n",
            "Error [0.14156345]\n",
            "Prediction 0.0953617113447523\n",
            "Prediction 0.8483578315486905\n",
            "Prediction -0.15608274638866876\n",
            "Prediction 1.1418308721874209\n",
            "Prediction 0.8659283654403351\n",
            "Prediction 0.09210284957828199\n",
            "Error [0.10302516]\n",
            "Prediction 0.07368227966262561\n",
            "Prediction 0.8761641794281774\n",
            "Prediction -0.14544532637948598\n",
            "Prediction 1.1322506083472592\n",
            "Prediction 0.8890257545110386\n",
            "Prediction 0.07052124130467569\n",
            "Error [0.07669748]\n",
            "Prediction 0.05641699304374054\n",
            "Prediction 0.8985267801739892\n",
            "Prediction -0.1355749314796077\n",
            "Prediction 1.1232347651843533\n",
            "Prediction 0.9077319642502817\n",
            "Prediction 0.05341826010365544\n",
            "Error [0.05841396]\n",
            "Prediction 0.04273460808292437\n",
            "Prediction 0.9165702845815674\n",
            "Prediction -0.12638642655192514\n",
            "Prediction 1.1148119548805544\n",
            "Prediction 0.9229324793443356\n",
            "Prediction 0.039913661752830856\n",
            "Error [0.04547458]\n",
            "Prediction 0.03193092940226468\n",
            "Prediction 0.931161524359959\n",
            "Prediction -0.11782283887072709\n",
            "Prediction 1.106962933331583\n",
            "Prediction 0.9353189167087234\n",
            "Prediction 0.029286396635699624\n",
            "Error [0.03612295]\n",
            "Prediction 0.023429117308559705\n",
            "Prediction 0.9429835819725526\n",
            "Prediction -0.10983864957936619\n",
            "Prediction 1.0996543157649374\n",
            "Prediction 0.9454398673829914\n",
            "Prediction 0.02095395071624251\n",
            "Error [0.02921118]\n",
            "Prediction 0.016763160572994013\n",
            "Prediction 0.9525801827774695\n",
            "Prediction -0.10239393234289304\n",
            "Prediction 1.0928499819798063\n",
            "Prediction 0.9537335430603038\n",
            "Prediction 0.014448552712945928\n",
            "Error [0.02398462]\n",
            "Prediction 0.011558842170356742\n",
            "Prediction 0.9603860949599128\n",
            "Prediction -0.0954522405969363\n",
            "Prediction 1.0865148048648543\n",
            "Prediction 0.9605511390546531\n",
            "Prediction 0.009395613421551582\n",
            "Error [0.0199433]\n",
            "Prediction 0.007516490737241269\n",
            "Prediction 0.9667497008278431\n",
            "Prediction -0.08897979142785699\n",
            "Prediction 1.0806157537399257\n",
            "Prediction 0.966174589057075\n",
            "Prediction 0.005495591996101765\n",
            "Error [0.01675274]\n",
            "Prediction 0.004396473596881403\n",
            "Prediction 0.9719504646863616\n",
            "Prediction -0.08294509959270584\n",
            "Prediction 1.0751221137099347\n",
            "Prediction 0.9708304589663729\n",
            "Prediction 0.002509173729515299\n",
            "Error [0.01418649]\n",
            "Prediction 0.0020073389836122307\n",
            "Prediction 0.9762127159017855\n",
            "Prediction -0.07731876976255733\n",
            "Prediction 1.0700054190569526\n",
            "Prediction 0.9747009658862935\n",
            "Prediction 0.00024529617294709316\n",
            "Error [0.01208892]\n",
            "Prediction 0.00019623693835767175\n",
            "Prediction 0.9797166193979042\n",
            "Prediction -0.07207334653154711\n",
            "Prediction 1.065239304313921\n",
            "Prediction 0.977932769308694\n",
            "Prediction -0.0014484755296031715\n",
            "Error [0.01035125]\n",
            "Prediction -0.0011587804236825316\n",
            "Prediction 0.9826069410422836\n",
            "Prediction -0.0671831877495537\n",
            "Prediction 1.0607993409151615\n",
            "Prediction 0.98064400342575\n",
            "Prediction -0.0026936681938263263\n",
            "Error [0.00889591]\n",
            "Prediction -0.002154934555061057\n",
            "Prediction 0.9850000630154887\n",
            "Prediction -0.0626243494353496\n",
            "Prediction 1.056662880845678\n",
            "Prediction 0.9829299091867906\n",
            "Prediction -0.0035870860898773935\n",
            "Error [0.00766639]\n",
            "Prediction -0.0028696688719019106\n",
            "Prediction 0.9869896028456103\n",
            "Prediction -0.05837447828344459\n",
            "Prediction 1.0528089130061948\n",
            "Prediction 0.9848673475035937\n",
            "Prediction -0.004205764905336445\n",
            "Error [0.00662055]\n",
            "Prediction -0.003364611924269151\n",
            "Prediction 0.9886509156858355\n",
            "Prediction -0.05441271039170197\n",
            "Prediction 1.0492179328715419\n",
            "Prediction 0.9865184170135304\n",
            "Prediction -0.004610938344490077\n",
            "Error [0.00572628]\n",
            "Prediction -0.003688750675592066\n",
            "Prediction 0.9900447025128325\n",
            "Prediction -0.05071957569031403\n",
            "Prediction 1.0458718244778547\n",
            "Prediction 0.9879333546837266\n",
            "Prediction -0.004851213586669081\n",
            "Error [0.00495855]\n",
            "Prediction -0.003880970869335268\n",
            "Prediction 0.9912199021925816\n",
            "Prediction -0.04727690781109847\n",
            "Prediction 1.0427537534315474\n",
            "Prediction 0.9891528618488656\n",
            "Prediction -0.004965113004812567\n",
            "Error [0.00429745]\n",
            "Prediction -0.003972090403850055\n",
            "Prediction 0.9922160098199589\n",
            "Prediction -0.04406775919915956\n",
            "Prediction 1.0398480696699668\n",
            "Prediction 0.9902099698418897\n",
            "Prediction -0.00498310830334231\n",
            "Error [0.00372688]\n",
            "Prediction -0.003986486642673842\n",
            "Prediction 0.9930649353681134\n",
            "Prediction -0.041076321272638966\n",
            "Prediction 1.037140218843443\n",
            "Prediction 0.991131536653066\n",
            "Prediction -0.004929248157681733\n",
            "Error [0.00323359]\n",
            "Prediction -0.003943398526145385\n",
            "Prediction 0.9937924939908355\n",
            "Prediction -0.03828784942572682\n",
            "Prediction 1.034616661340968\n",
            "Prediction 0.9919394478670475\n",
            "Prediction -0.004822460332325515\n",
            "Error [0.00280658]\n",
            "Prediction -0.0038579682658604064\n",
            "Prediction 0.9944196011534567\n",
            "Prediction -0.03568859265948276\n",
            "Prediction 1.0322647981201623\n",
            "Prediction 0.9926515805646812\n",
            "Prediction -0.00467759314258628\n",
            "Error [0.0024366]\n",
            "Prediction -0.0037420745140690215\n",
            "Prediction 0.9949632312174104\n",
            "Prediction -0.03326572761809433\n",
            "Prediction 1.0300729026208357\n",
            "Prediction 0.9932825772115706\n",
            "Prediction -0.004506248216511032\n",
            "Error [0.00211579]\n",
            "Prediction -0.0036049985732088258\n",
            "Prediction 0.9954371864482284\n",
            "Prediction -0.031007296805376384\n",
            "Prediction 1.0280300581411068\n",
            "Prediction 0.9938444672108991\n",
            "Prediction -0.004317446172163543\n",
            "Error [0.00183748]\n",
            "Prediction -0.0034539569377308316\n",
            "Prediction 0.9958527140797087\n",
            "Prediction -0.028902150757020767\n",
            "Prediction 1.0261261001383342\n",
            "Prediction 0.994347166311802\n",
            "Prediction -0.004118158541300487\n",
            "Error [0.00159595]\n",
            "Prediction -0.0032945268330403926\n",
            "Prediction 0.9962190015868758\n",
            "Prediction -0.026939893947585798\n",
            "Prediction 1.024351562986725\n",
            "Prediction 0.9947988780669142\n",
            "Prediction -0.003913732634397749\n",
            "Error [0.00138628]\n",
            "Prediction -0.0031309861075182015\n",
            "Prediction 0.9965435743277229\n",
            "Prediction -0.025110834216771842\n",
            "Prediction 1.0226976307818405\n",
            "Prediction 0.9952064167274873\n",
            "Prediction -0.0037082307262265024\n",
            "Error [0.00120422]\n",
            "Prediction -0.002966584580981202\n",
            "Prediction 0.9968326149127107\n",
            "Prediction -0.02340593550657774\n",
            "Prediction 1.0211560918313483\n",
            "Prediction 0.9955754671145567\n",
            "Prediction -0.0035047006831235746\n",
            "Error [0.00104611]\n",
            "Prediction -0.002803760546498859\n",
            "Prediction 0.9970912198146076\n",
            "Prediction -0.021816773709008974\n",
            "Prediction 1.0197192965129362\n",
            "Prediction 0.9959107939199998\n",
            "Prediction -0.003305391742346179\n",
            "Error [0.00090879]\n",
            "Prediction -0.0026443133938769438\n",
            "Prediction 0.9973236056496222\n",
            "Prediction -0.02033549543274159\n",
            "Prediction 1.0183801182156498\n",
            "Prediction 0.9962164104198419\n",
            "Prediction -0.003111926421903756\n",
            "Error [0.00078952]\n",
            "Prediction -0.0024895411375230048\n",
            "Prediction 0.9975332750918161\n",
            "Prediction -0.01895477950625553\n",
            "Prediction 1.017131917111134\n",
            "Prediction 0.9964957146018517\n",
            "Prediction -0.0029254373509864165\n",
            "Error [0.00068591]\n",
            "Prediction -0.0023403498807891346\n",
            "Prediction 0.9977231504046589\n",
            "Prediction -0.01766780104421687\n",
            "Prediction 1.0159685065272686\n",
            "Prediction 0.9967515991226952\n",
            "Prediction -0.0027466760583987337\n",
            "Error [0.0005959]\n",
            "Prediction -0.0021973408467189856\n",
            "Prediction 0.9978956809886679\n",
            "Prediction -0.016468197913146573\n",
            "Prediction 1.0148841217191535\n",
            "Prediction 0.9969865402384182\n",
            "Prediction -0.0025760993525998453\n",
            "Error [0.00051771]\n"
          ]
        }
      ]
    },
    {
      "cell_type": "markdown",
      "source": [
        "## Full, batch, and stochastic gradient descent"
      ],
      "metadata": {
        "id": "QnDPV-clXsbC"
      }
    },
    {
      "cell_type": "code",
      "source": [
        "# First deep neural network\n",
        "\n",
        "import numpy as np\n",
        "\n",
        "np.random.seed(2024)\n",
        "\n",
        "\n",
        "def relu(x):\n",
        "  return ( x > 0 ) * x\n",
        "\n",
        "def relu2deriv(output): # slope of relu function\n",
        "  return output > 0\n",
        "\n",
        "\n",
        "alpha = 0.2\n",
        "\n",
        "hidden_size = 4\n",
        "\n",
        "\n",
        "street_lights = np.array([\n",
        "    [1, 0, 1],\n",
        "    [ 0, 1, 1 ],\n",
        "    [ 0, 0, 1 ],\n",
        "    [ 1, 1, 1 ]\n",
        "])\n",
        "print(street_lights)\n",
        "\n",
        "walk_vs_stop = np.array([[1, 1, 0, 0]]).T\n",
        "\n",
        "print(walk_vs_stop)"
      ],
      "metadata": {
        "id": "Ujz91p9ibas8",
        "colab": {
          "base_uri": "https://localhost:8080/"
        },
        "outputId": "aba833b9-d5e9-4096-c661-966a57e9b709"
      },
      "execution_count": 12,
      "outputs": [
        {
          "output_type": "stream",
          "name": "stdout",
          "text": [
            "[[1 0 1]\n",
            " [0 1 1]\n",
            " [0 0 1]\n",
            " [1 1 1]]\n",
            "[[1]\n",
            " [1]\n",
            " [0]\n",
            " [0]]\n"
          ]
        }
      ]
    },
    {
      "cell_type": "code",
      "source": [
        "weights_0_1 = 2 * np.random.random((3,hidden_size)) - 1\n",
        "weights_1_2 = 2 * np.random.random((hidden_size,1)) - 1\n",
        "\n",
        "print(weights_0_1)\n",
        "print(weights_1_2)"
      ],
      "metadata": {
        "colab": {
          "base_uri": "https://localhost:8080/"
        },
        "id": "fji6lYJsfCi7",
        "outputId": "a7716621-9e3a-4fd3-ae21-0641c7a50650"
      },
      "execution_count": 13,
      "outputs": [
        {
          "output_type": "stream",
          "name": "stdout",
          "text": [
            "[[ 0.17602904  0.3982175  -0.62369608 -0.91238287]\n",
            " [-0.5899621  -0.78787425  0.45448029  0.35880105]\n",
            " [-0.05230859 -0.10340835 -0.9617861   0.50519667]]\n",
            "[[0.20489708]\n",
            " [0.92355515]\n",
            " [0.32873729]\n",
            " [0.21325924]]\n"
          ]
        }
      ]
    },
    {
      "cell_type": "code",
      "source": [
        "for iteration in range(60):\n",
        "\n",
        "  layer_2_error = 0\n",
        "  for i in range(len(street_lights)):\n",
        "\n",
        "    layer_0 = street_lights[i:i+1] # one record at a time\n",
        "    layer_1 = relu(np.dot(layer_0, weights_0_1))\n",
        "    layer_2 = np.dot(layer_1, weights_1_2)\n",
        "    error = (walk_vs_stop[i:i+1] - layer_2) ** 2\n",
        "    layer_2_error = layer_2_error + (np.sum(error))\n",
        "\n",
        "    layer_2_delta = walk_vs_stop[i:i+1] - layer_2\n",
        "    layer_1_delta = layer_2_delta.dot(weights_1_2.T) * relu2deriv(layer_1) # back prop\n",
        "\n",
        "    weights_1_2 += alpha * layer_1.T.dot(layer_2_delta)\n",
        "    weights_0_1 += alpha * layer_0.T.dot(layer_1_delta)\n",
        "\n",
        "  if iteration % 10 == 9:\n",
        "    print(f\"Error: {layer_2_error}\")\n"
      ],
      "metadata": {
        "colab": {
          "base_uri": "https://localhost:8080/"
        },
        "id": "sqXIBA2DgJmr",
        "outputId": "28b705fe-970d-4313-b0a4-c9c6fccafd21"
      },
      "execution_count": 14,
      "outputs": [
        {
          "output_type": "stream",
          "name": "stdout",
          "text": [
            "Error: 0.18451790565944723\n",
            "Error: 0.040619418540762696\n",
            "Error: 0.005200984110340061\n",
            "Error: 0.00045350164863370494\n",
            "Error: 3.3813122436716266e-05\n",
            "Error: 2.4049429851076147e-06\n"
          ]
        }
      ]
    },
    {
      "cell_type": "code",
      "source": [
        "layer_0 = street_lights[0]\n",
        "\n",
        "layer_1 = relu(np.dot(layer_0, weights_0_1))\n",
        "layer_2 = np.dot(layer_1, weights_1_2)"
      ],
      "metadata": {
        "id": "YQGqRndSfVNK"
      },
      "execution_count": null,
      "outputs": []
    }
  ]
}