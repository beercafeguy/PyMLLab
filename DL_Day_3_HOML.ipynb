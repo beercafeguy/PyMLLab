{
  "nbformat": 4,
  "nbformat_minor": 0,
  "metadata": {
    "colab": {
      "provenance": [],
      "authorship_tag": "ABX9TyNMvwiUBVqQ53s9NUWRSz8e",
      "include_colab_link": true
    },
    "kernelspec": {
      "name": "python3",
      "display_name": "Python 3"
    },
    "language_info": {
      "name": "python"
    }
  },
  "cells": [
    {
      "cell_type": "markdown",
      "metadata": {
        "id": "view-in-github",
        "colab_type": "text"
      },
      "source": [
        "<a href=\"https://colab.research.google.com/github/beercafeguy/PyMLLab/blob/master/DL_Day_3_HOML.ipynb\" target=\"_parent\"><img src=\"https://colab.research.google.com/assets/colab-badge.svg\" alt=\"Open In Colab\"/></a>"
      ]
    },
    {
      "cell_type": "code",
      "execution_count": 1,
      "metadata": {
        "id": "wnmLAfzk2qs_"
      },
      "outputs": [],
      "source": [
        "import numpy as np\n",
        "import pandas as pd\n",
        "\n",
        "import tensorflow as tf\n",
        "from tensorflow import keras"
      ]
    },
    {
      "cell_type": "code",
      "source": [
        "model = keras.models.Sequential(\n",
        "    [\n",
        "        keras.layers.Flatten(input_shape=[28,28]),\n",
        "        keras.layers.BatchNormalization(),\n",
        "        keras.layers.Dense(300, activation=\"elu\", kernel_initializer=\"he_normal\"),\n",
        "        keras.layers.BatchNormalization(),\n",
        "        keras.layers.Dense(100, activation=\"elu\", kernel_initializer=\"he_normal\"),\n",
        "        keras.layers.BatchNormalization(),\n",
        "        keras.layers.Dense(10, activation=\"softmax\")\n",
        "    ]\n",
        ")"
      ],
      "metadata": {
        "id": "xO42vuIW20It"
      },
      "execution_count": 3,
      "outputs": []
    },
    {
      "cell_type": "code",
      "source": [
        "model.summary()"
      ],
      "metadata": {
        "colab": {
          "base_uri": "https://localhost:8080/"
        },
        "id": "iqcGihWh3ere",
        "outputId": "09a1baa8-a150-425b-b246-a09d3a943525"
      },
      "execution_count": 4,
      "outputs": [
        {
          "output_type": "stream",
          "name": "stdout",
          "text": [
            "Model: \"sequential\"\n",
            "_________________________________________________________________\n",
            " Layer (type)                Output Shape              Param #   \n",
            "=================================================================\n",
            " flatten_1 (Flatten)         (None, 784)               0         \n",
            "                                                                 \n",
            " batch_normalization_1 (Bat  (None, 784)               3136      \n",
            " chNormalization)                                                \n",
            "                                                                 \n",
            " dense (Dense)               (None, 300)               235500    \n",
            "                                                                 \n",
            " batch_normalization_2 (Bat  (None, 300)               1200      \n",
            " chNormalization)                                                \n",
            "                                                                 \n",
            " dense_1 (Dense)             (None, 100)               30100     \n",
            "                                                                 \n",
            " batch_normalization_3 (Bat  (None, 100)               400       \n",
            " chNormalization)                                                \n",
            "                                                                 \n",
            " dense_2 (Dense)             (None, 10)                1010      \n",
            "                                                                 \n",
            "=================================================================\n",
            "Total params: 271346 (1.04 MB)\n",
            "Trainable params: 268978 (1.03 MB)\n",
            "Non-trainable params: 2368 (9.25 KB)\n",
            "_________________________________________________________________\n"
          ]
        }
      ]
    },
    {
      "cell_type": "code",
      "source": [
        "fashion_mnist = keras.datasets.fashion_mnist\n",
        "\n",
        "(X_train_full, y_train_full),(X_test,y_test) = fashion_mnist.load_data()"
      ],
      "metadata": {
        "colab": {
          "base_uri": "https://localhost:8080/"
        },
        "id": "hkLTYyVs6n1D",
        "outputId": "62e32a7a-8431-4f6e-d016-e0fe19a49776"
      },
      "execution_count": 10,
      "outputs": [
        {
          "output_type": "stream",
          "name": "stdout",
          "text": [
            "Downloading data from https://storage.googleapis.com/tensorflow/tf-keras-datasets/train-labels-idx1-ubyte.gz\n",
            "29515/29515 [==============================] - 0s 0us/step\n",
            "Downloading data from https://storage.googleapis.com/tensorflow/tf-keras-datasets/train-images-idx3-ubyte.gz\n",
            "26421880/26421880 [==============================] - 0s 0us/step\n",
            "Downloading data from https://storage.googleapis.com/tensorflow/tf-keras-datasets/t10k-labels-idx1-ubyte.gz\n",
            "5148/5148 [==============================] - 0s 0us/step\n",
            "Downloading data from https://storage.googleapis.com/tensorflow/tf-keras-datasets/t10k-images-idx3-ubyte.gz\n",
            "4422102/4422102 [==============================] - 0s 0us/step\n"
          ]
        }
      ]
    },
    {
      "cell_type": "code",
      "source": [
        "X_valid, X_train = X_train_full[:5000]/255.0, X_train_full[5000:]/255.0 # dividing by 255.0 to scale the image values to 0-1\n",
        "y_valid, y_train = y_train_full[:5000],y_train_full[5000:]"
      ],
      "metadata": {
        "id": "_v-k7-Gh6q_Q"
      },
      "execution_count": 11,
      "outputs": []
    },
    {
      "cell_type": "code",
      "source": [
        "class_names = [\"T-shirt/top\", \"Trouser\", \"Pullover\", \"Dress\", \"Coat\", \"Sandal\", \"Shirt\", \"Sneaker\", \"Bag\", \"Ankle boot\"]"
      ],
      "metadata": {
        "id": "JdZCPrxN6tH3"
      },
      "execution_count": 12,
      "outputs": []
    },
    {
      "cell_type": "code",
      "source": [
        "model.compile(\n",
        "    loss = \"sparse_categorical_crossentropy\",\n",
        "    optimizer=\"sgd\", # optimizer=keras.optimiz ers.SGD(lr=<learning rate value>) default learning rate = 0.01\n",
        "    metrics = ['accuracy']\n",
        ")"
      ],
      "metadata": {
        "id": "Prm08DAm6yxG"
      },
      "execution_count": 13,
      "outputs": []
    },
    {
      "cell_type": "code",
      "source": [
        "history = model.fit(X_train,y_train, epochs = 30, validation_data = (X_valid,y_valid))"
      ],
      "metadata": {
        "colab": {
          "base_uri": "https://localhost:8080/"
        },
        "id": "4pHMa2mb64gT",
        "outputId": "de7491c7-c795-4533-edf7-0acda20f2c1b"
      },
      "execution_count": 14,
      "outputs": [
        {
          "output_type": "stream",
          "name": "stdout",
          "text": [
            "Epoch 1/30\n",
            "1719/1719 [==============================] - 13s 6ms/step - loss: 0.5543 - accuracy: 0.8048 - val_loss: 0.4170 - val_accuracy: 0.8540\n",
            "Epoch 2/30\n",
            "1719/1719 [==============================] - 13s 7ms/step - loss: 0.4260 - accuracy: 0.8477 - val_loss: 0.3766 - val_accuracy: 0.8650\n",
            "Epoch 3/30\n",
            "1719/1719 [==============================] - 13s 8ms/step - loss: 0.3894 - accuracy: 0.8606 - val_loss: 0.3562 - val_accuracy: 0.8700\n",
            "Epoch 4/30\n",
            "1719/1719 [==============================] - 18s 10ms/step - loss: 0.3659 - accuracy: 0.8677 - val_loss: 0.3463 - val_accuracy: 0.8770\n",
            "Epoch 5/30\n",
            "1719/1719 [==============================] - 12s 7ms/step - loss: 0.3494 - accuracy: 0.8737 - val_loss: 0.3407 - val_accuracy: 0.8794\n",
            "Epoch 6/30\n",
            "1719/1719 [==============================] - 11s 6ms/step - loss: 0.3330 - accuracy: 0.8787 - val_loss: 0.3356 - val_accuracy: 0.8770\n",
            "Epoch 7/30\n",
            "1719/1719 [==============================] - 11s 6ms/step - loss: 0.3205 - accuracy: 0.8852 - val_loss: 0.3239 - val_accuracy: 0.8832\n",
            "Epoch 8/30\n",
            "1719/1719 [==============================] - 11s 7ms/step - loss: 0.3090 - accuracy: 0.8885 - val_loss: 0.3200 - val_accuracy: 0.8834\n",
            "Epoch 9/30\n",
            "1719/1719 [==============================] - 13s 8ms/step - loss: 0.3005 - accuracy: 0.8909 - val_loss: 0.3216 - val_accuracy: 0.8818\n",
            "Epoch 10/30\n",
            "1719/1719 [==============================] - 11s 7ms/step - loss: 0.2906 - accuracy: 0.8941 - val_loss: 0.3297 - val_accuracy: 0.8808\n",
            "Epoch 11/30\n",
            "1719/1719 [==============================] - 11s 6ms/step - loss: 0.2819 - accuracy: 0.8971 - val_loss: 0.3141 - val_accuracy: 0.8860\n",
            "Epoch 12/30\n",
            "1719/1719 [==============================] - 12s 7ms/step - loss: 0.2720 - accuracy: 0.9011 - val_loss: 0.3169 - val_accuracy: 0.8814\n",
            "Epoch 13/30\n",
            "1719/1719 [==============================] - 12s 7ms/step - loss: 0.2672 - accuracy: 0.9019 - val_loss: 0.3148 - val_accuracy: 0.8852\n",
            "Epoch 14/30\n",
            "1719/1719 [==============================] - 11s 6ms/step - loss: 0.2589 - accuracy: 0.9059 - val_loss: 0.3083 - val_accuracy: 0.8890\n",
            "Epoch 15/30\n",
            "1719/1719 [==============================] - 11s 7ms/step - loss: 0.2525 - accuracy: 0.9085 - val_loss: 0.3139 - val_accuracy: 0.8878\n",
            "Epoch 16/30\n",
            "1719/1719 [==============================] - 11s 6ms/step - loss: 0.2460 - accuracy: 0.9103 - val_loss: 0.3177 - val_accuracy: 0.8842\n",
            "Epoch 17/30\n",
            "1719/1719 [==============================] - 10s 6ms/step - loss: 0.2405 - accuracy: 0.9110 - val_loss: 0.3131 - val_accuracy: 0.8860\n",
            "Epoch 18/30\n",
            "1719/1719 [==============================] - 11s 6ms/step - loss: 0.2363 - accuracy: 0.9131 - val_loss: 0.3130 - val_accuracy: 0.8874\n",
            "Epoch 19/30\n",
            "1719/1719 [==============================] - 11s 7ms/step - loss: 0.2297 - accuracy: 0.9158 - val_loss: 0.3085 - val_accuracy: 0.8894\n",
            "Epoch 20/30\n",
            "1719/1719 [==============================] - 11s 7ms/step - loss: 0.2264 - accuracy: 0.9168 - val_loss: 0.3075 - val_accuracy: 0.8934\n",
            "Epoch 21/30\n",
            "1719/1719 [==============================] - 11s 7ms/step - loss: 0.2198 - accuracy: 0.9188 - val_loss: 0.3164 - val_accuracy: 0.8888\n",
            "Epoch 22/30\n",
            "1719/1719 [==============================] - 11s 7ms/step - loss: 0.2148 - accuracy: 0.9210 - val_loss: 0.3173 - val_accuracy: 0.8918\n",
            "Epoch 23/30\n",
            "1719/1719 [==============================] - 11s 6ms/step - loss: 0.2102 - accuracy: 0.9231 - val_loss: 0.3119 - val_accuracy: 0.8892\n",
            "Epoch 24/30\n",
            "1719/1719 [==============================] - 11s 7ms/step - loss: 0.2056 - accuracy: 0.9246 - val_loss: 0.3179 - val_accuracy: 0.8902\n",
            "Epoch 25/30\n",
            "1719/1719 [==============================] - 11s 6ms/step - loss: 0.2010 - accuracy: 0.9262 - val_loss: 0.3143 - val_accuracy: 0.8890\n",
            "Epoch 26/30\n",
            "1719/1719 [==============================] - 10s 6ms/step - loss: 0.1934 - accuracy: 0.9288 - val_loss: 0.3092 - val_accuracy: 0.8926\n",
            "Epoch 27/30\n",
            "1719/1719 [==============================] - 11s 7ms/step - loss: 0.1938 - accuracy: 0.9287 - val_loss: 0.3109 - val_accuracy: 0.8904\n",
            "Epoch 28/30\n",
            "1719/1719 [==============================] - 11s 6ms/step - loss: 0.1889 - accuracy: 0.9318 - val_loss: 0.3073 - val_accuracy: 0.8916\n",
            "Epoch 29/30\n",
            "1719/1719 [==============================] - 11s 6ms/step - loss: 0.1857 - accuracy: 0.9316 - val_loss: 0.3107 - val_accuracy: 0.8942\n",
            "Epoch 30/30\n",
            "1719/1719 [==============================] - 12s 7ms/step - loss: 0.1814 - accuracy: 0.9330 - val_loss: 0.3176 - val_accuracy: 0.8920\n"
          ]
        }
      ]
    },
    {
      "cell_type": "code",
      "source": [
        "import pandas as pd\n",
        "import matplotlib.pyplot as plt\n",
        "\n",
        "\n",
        "history_pd = pd.DataFrame(history.history)\n",
        "history_pd[1:5]"
      ],
      "metadata": {
        "colab": {
          "base_uri": "https://localhost:8080/",
          "height": 175
        },
        "id": "1-qQerTO68hy",
        "outputId": "2034339c-ba02-42ea-a075-481c34899498"
      },
      "execution_count": 15,
      "outputs": [
        {
          "output_type": "execute_result",
          "data": {
            "text/plain": [
              "       loss  accuracy  val_loss  val_accuracy\n",
              "1  0.425962  0.847691  0.376552        0.8650\n",
              "2  0.389357  0.860618  0.356218        0.8700\n",
              "3  0.365913  0.867745  0.346347        0.8770\n",
              "4  0.349417  0.873673  0.340736        0.8794"
            ],
            "text/html": [
              "\n",
              "  <div id=\"df-18a8fd52-1bfc-456e-abc8-c72f66669d5b\" class=\"colab-df-container\">\n",
              "    <div>\n",
              "<style scoped>\n",
              "    .dataframe tbody tr th:only-of-type {\n",
              "        vertical-align: middle;\n",
              "    }\n",
              "\n",
              "    .dataframe tbody tr th {\n",
              "        vertical-align: top;\n",
              "    }\n",
              "\n",
              "    .dataframe thead th {\n",
              "        text-align: right;\n",
              "    }\n",
              "</style>\n",
              "<table border=\"1\" class=\"dataframe\">\n",
              "  <thead>\n",
              "    <tr style=\"text-align: right;\">\n",
              "      <th></th>\n",
              "      <th>loss</th>\n",
              "      <th>accuracy</th>\n",
              "      <th>val_loss</th>\n",
              "      <th>val_accuracy</th>\n",
              "    </tr>\n",
              "  </thead>\n",
              "  <tbody>\n",
              "    <tr>\n",
              "      <th>1</th>\n",
              "      <td>0.425962</td>\n",
              "      <td>0.847691</td>\n",
              "      <td>0.376552</td>\n",
              "      <td>0.8650</td>\n",
              "    </tr>\n",
              "    <tr>\n",
              "      <th>2</th>\n",
              "      <td>0.389357</td>\n",
              "      <td>0.860618</td>\n",
              "      <td>0.356218</td>\n",
              "      <td>0.8700</td>\n",
              "    </tr>\n",
              "    <tr>\n",
              "      <th>3</th>\n",
              "      <td>0.365913</td>\n",
              "      <td>0.867745</td>\n",
              "      <td>0.346347</td>\n",
              "      <td>0.8770</td>\n",
              "    </tr>\n",
              "    <tr>\n",
              "      <th>4</th>\n",
              "      <td>0.349417</td>\n",
              "      <td>0.873673</td>\n",
              "      <td>0.340736</td>\n",
              "      <td>0.8794</td>\n",
              "    </tr>\n",
              "  </tbody>\n",
              "</table>\n",
              "</div>\n",
              "    <div class=\"colab-df-buttons\">\n",
              "\n",
              "  <div class=\"colab-df-container\">\n",
              "    <button class=\"colab-df-convert\" onclick=\"convertToInteractive('df-18a8fd52-1bfc-456e-abc8-c72f66669d5b')\"\n",
              "            title=\"Convert this dataframe to an interactive table.\"\n",
              "            style=\"display:none;\">\n",
              "\n",
              "  <svg xmlns=\"http://www.w3.org/2000/svg\" height=\"24px\" viewBox=\"0 -960 960 960\">\n",
              "    <path d=\"M120-120v-720h720v720H120Zm60-500h600v-160H180v160Zm220 220h160v-160H400v160Zm0 220h160v-160H400v160ZM180-400h160v-160H180v160Zm440 0h160v-160H620v160ZM180-180h160v-160H180v160Zm440 0h160v-160H620v160Z\"/>\n",
              "  </svg>\n",
              "    </button>\n",
              "\n",
              "  <style>\n",
              "    .colab-df-container {\n",
              "      display:flex;\n",
              "      gap: 12px;\n",
              "    }\n",
              "\n",
              "    .colab-df-convert {\n",
              "      background-color: #E8F0FE;\n",
              "      border: none;\n",
              "      border-radius: 50%;\n",
              "      cursor: pointer;\n",
              "      display: none;\n",
              "      fill: #1967D2;\n",
              "      height: 32px;\n",
              "      padding: 0 0 0 0;\n",
              "      width: 32px;\n",
              "    }\n",
              "\n",
              "    .colab-df-convert:hover {\n",
              "      background-color: #E2EBFA;\n",
              "      box-shadow: 0px 1px 2px rgba(60, 64, 67, 0.3), 0px 1px 3px 1px rgba(60, 64, 67, 0.15);\n",
              "      fill: #174EA6;\n",
              "    }\n",
              "\n",
              "    .colab-df-buttons div {\n",
              "      margin-bottom: 4px;\n",
              "    }\n",
              "\n",
              "    [theme=dark] .colab-df-convert {\n",
              "      background-color: #3B4455;\n",
              "      fill: #D2E3FC;\n",
              "    }\n",
              "\n",
              "    [theme=dark] .colab-df-convert:hover {\n",
              "      background-color: #434B5C;\n",
              "      box-shadow: 0px 1px 3px 1px rgba(0, 0, 0, 0.15);\n",
              "      filter: drop-shadow(0px 1px 2px rgba(0, 0, 0, 0.3));\n",
              "      fill: #FFFFFF;\n",
              "    }\n",
              "  </style>\n",
              "\n",
              "    <script>\n",
              "      const buttonEl =\n",
              "        document.querySelector('#df-18a8fd52-1bfc-456e-abc8-c72f66669d5b button.colab-df-convert');\n",
              "      buttonEl.style.display =\n",
              "        google.colab.kernel.accessAllowed ? 'block' : 'none';\n",
              "\n",
              "      async function convertToInteractive(key) {\n",
              "        const element = document.querySelector('#df-18a8fd52-1bfc-456e-abc8-c72f66669d5b');\n",
              "        const dataTable =\n",
              "          await google.colab.kernel.invokeFunction('convertToInteractive',\n",
              "                                                    [key], {});\n",
              "        if (!dataTable) return;\n",
              "\n",
              "        const docLinkHtml = 'Like what you see? Visit the ' +\n",
              "          '<a target=\"_blank\" href=https://colab.research.google.com/notebooks/data_table.ipynb>data table notebook</a>'\n",
              "          + ' to learn more about interactive tables.';\n",
              "        element.innerHTML = '';\n",
              "        dataTable['output_type'] = 'display_data';\n",
              "        await google.colab.output.renderOutput(dataTable, element);\n",
              "        const docLink = document.createElement('div');\n",
              "        docLink.innerHTML = docLinkHtml;\n",
              "        element.appendChild(docLink);\n",
              "      }\n",
              "    </script>\n",
              "  </div>\n",
              "\n",
              "\n",
              "<div id=\"df-883b12de-783f-4ca2-8d2e-3daa26498196\">\n",
              "  <button class=\"colab-df-quickchart\" onclick=\"quickchart('df-883b12de-783f-4ca2-8d2e-3daa26498196')\"\n",
              "            title=\"Suggest charts\"\n",
              "            style=\"display:none;\">\n",
              "\n",
              "<svg xmlns=\"http://www.w3.org/2000/svg\" height=\"24px\"viewBox=\"0 0 24 24\"\n",
              "     width=\"24px\">\n",
              "    <g>\n",
              "        <path d=\"M19 3H5c-1.1 0-2 .9-2 2v14c0 1.1.9 2 2 2h14c1.1 0 2-.9 2-2V5c0-1.1-.9-2-2-2zM9 17H7v-7h2v7zm4 0h-2V7h2v10zm4 0h-2v-4h2v4z\"/>\n",
              "    </g>\n",
              "</svg>\n",
              "  </button>\n",
              "\n",
              "<style>\n",
              "  .colab-df-quickchart {\n",
              "      --bg-color: #E8F0FE;\n",
              "      --fill-color: #1967D2;\n",
              "      --hover-bg-color: #E2EBFA;\n",
              "      --hover-fill-color: #174EA6;\n",
              "      --disabled-fill-color: #AAA;\n",
              "      --disabled-bg-color: #DDD;\n",
              "  }\n",
              "\n",
              "  [theme=dark] .colab-df-quickchart {\n",
              "      --bg-color: #3B4455;\n",
              "      --fill-color: #D2E3FC;\n",
              "      --hover-bg-color: #434B5C;\n",
              "      --hover-fill-color: #FFFFFF;\n",
              "      --disabled-bg-color: #3B4455;\n",
              "      --disabled-fill-color: #666;\n",
              "  }\n",
              "\n",
              "  .colab-df-quickchart {\n",
              "    background-color: var(--bg-color);\n",
              "    border: none;\n",
              "    border-radius: 50%;\n",
              "    cursor: pointer;\n",
              "    display: none;\n",
              "    fill: var(--fill-color);\n",
              "    height: 32px;\n",
              "    padding: 0;\n",
              "    width: 32px;\n",
              "  }\n",
              "\n",
              "  .colab-df-quickchart:hover {\n",
              "    background-color: var(--hover-bg-color);\n",
              "    box-shadow: 0 1px 2px rgba(60, 64, 67, 0.3), 0 1px 3px 1px rgba(60, 64, 67, 0.15);\n",
              "    fill: var(--button-hover-fill-color);\n",
              "  }\n",
              "\n",
              "  .colab-df-quickchart-complete:disabled,\n",
              "  .colab-df-quickchart-complete:disabled:hover {\n",
              "    background-color: var(--disabled-bg-color);\n",
              "    fill: var(--disabled-fill-color);\n",
              "    box-shadow: none;\n",
              "  }\n",
              "\n",
              "  .colab-df-spinner {\n",
              "    border: 2px solid var(--fill-color);\n",
              "    border-color: transparent;\n",
              "    border-bottom-color: var(--fill-color);\n",
              "    animation:\n",
              "      spin 1s steps(1) infinite;\n",
              "  }\n",
              "\n",
              "  @keyframes spin {\n",
              "    0% {\n",
              "      border-color: transparent;\n",
              "      border-bottom-color: var(--fill-color);\n",
              "      border-left-color: var(--fill-color);\n",
              "    }\n",
              "    20% {\n",
              "      border-color: transparent;\n",
              "      border-left-color: var(--fill-color);\n",
              "      border-top-color: var(--fill-color);\n",
              "    }\n",
              "    30% {\n",
              "      border-color: transparent;\n",
              "      border-left-color: var(--fill-color);\n",
              "      border-top-color: var(--fill-color);\n",
              "      border-right-color: var(--fill-color);\n",
              "    }\n",
              "    40% {\n",
              "      border-color: transparent;\n",
              "      border-right-color: var(--fill-color);\n",
              "      border-top-color: var(--fill-color);\n",
              "    }\n",
              "    60% {\n",
              "      border-color: transparent;\n",
              "      border-right-color: var(--fill-color);\n",
              "    }\n",
              "    80% {\n",
              "      border-color: transparent;\n",
              "      border-right-color: var(--fill-color);\n",
              "      border-bottom-color: var(--fill-color);\n",
              "    }\n",
              "    90% {\n",
              "      border-color: transparent;\n",
              "      border-bottom-color: var(--fill-color);\n",
              "    }\n",
              "  }\n",
              "</style>\n",
              "\n",
              "  <script>\n",
              "    async function quickchart(key) {\n",
              "      const quickchartButtonEl =\n",
              "        document.querySelector('#' + key + ' button');\n",
              "      quickchartButtonEl.disabled = true;  // To prevent multiple clicks.\n",
              "      quickchartButtonEl.classList.add('colab-df-spinner');\n",
              "      try {\n",
              "        const charts = await google.colab.kernel.invokeFunction(\n",
              "            'suggestCharts', [key], {});\n",
              "      } catch (error) {\n",
              "        console.error('Error during call to suggestCharts:', error);\n",
              "      }\n",
              "      quickchartButtonEl.classList.remove('colab-df-spinner');\n",
              "      quickchartButtonEl.classList.add('colab-df-quickchart-complete');\n",
              "    }\n",
              "    (() => {\n",
              "      let quickchartButtonEl =\n",
              "        document.querySelector('#df-883b12de-783f-4ca2-8d2e-3daa26498196 button');\n",
              "      quickchartButtonEl.style.display =\n",
              "        google.colab.kernel.accessAllowed ? 'block' : 'none';\n",
              "    })();\n",
              "  </script>\n",
              "</div>\n",
              "\n",
              "    </div>\n",
              "  </div>\n"
            ],
            "application/vnd.google.colaboratory.intrinsic+json": {
              "type": "dataframe",
              "summary": "{\n  \"name\": \"history_pd[1:5]\",\n  \"rows\": 4,\n  \"fields\": [\n    {\n      \"column\": \"loss\",\n      \"properties\": {\n        \"dtype\": \"number\",\n        \"std\": 0.0331936889086216,\n        \"min\": 0.349417120218277,\n        \"max\": 0.4259621798992157,\n        \"num_unique_values\": 4,\n        \"samples\": [\n          0.3893568813800812,\n          0.349417120218277,\n          0.4259621798992157\n        ],\n        \"semantic_type\": \"\",\n        \"description\": \"\"\n      }\n    },\n    {\n      \"column\": \"accuracy\",\n      \"properties\": {\n        \"dtype\": \"number\",\n        \"std\": 0.01118298249806562,\n        \"min\": 0.8476908802986145,\n        \"max\": 0.8736727237701416,\n        \"num_unique_values\": 4,\n        \"samples\": [\n          0.8606181740760803,\n          0.8736727237701416,\n          0.8476908802986145\n        ],\n        \"semantic_type\": \"\",\n        \"description\": \"\"\n      }\n    },\n    {\n      \"column\": \"val_loss\",\n      \"properties\": {\n        \"dtype\": \"number\",\n        \"std\": 0.01575112743293261,\n        \"min\": 0.34073612093925476,\n        \"max\": 0.376552015542984,\n        \"num_unique_values\": 4,\n        \"samples\": [\n          0.35621845722198486,\n          0.34073612093925476,\n          0.376552015542984\n        ],\n        \"semantic_type\": \"\",\n        \"description\": \"\"\n      }\n    },\n    {\n      \"column\": \"val_accuracy\",\n      \"properties\": {\n        \"dtype\": \"number\",\n        \"std\": 0.0065795087017415516,\n        \"min\": 0.8650000095367432,\n        \"max\": 0.8794000148773193,\n        \"num_unique_values\": 4,\n        \"samples\": [\n          0.8700000047683716,\n          0.8794000148773193,\n          0.8650000095367432\n        ],\n        \"semantic_type\": \"\",\n        \"description\": \"\"\n      }\n    }\n  ]\n}"
            }
          },
          "metadata": {},
          "execution_count": 15
        }
      ]
    },
    {
      "cell_type": "code",
      "source": [
        "history_pd.plot(kind='line', figsize=(8, 5))\n",
        "plt.grid=True\n",
        "plt.gca().set_ylim(0,1)\n",
        "plt.show()"
      ],
      "metadata": {
        "colab": {
          "base_uri": "https://localhost:8080/",
          "height": 451
        },
        "id": "O9umPJDw7Cnq",
        "outputId": "bc1548c0-bbf7-4fca-d569-8ade23977045"
      },
      "execution_count": 16,
      "outputs": [
        {
          "output_type": "display_data",
          "data": {
            "text/plain": [
              "<Figure size 800x500 with 1 Axes>"
            ],
            "image/png": "[encoded data removed]"
          },
          "metadata": {}
        }
      ]
    },
    {
      "cell_type": "code",
      "source": [
        "[(var.name,var.trainable) for var in model.layers[1].variables]"
      ],
      "metadata": {
        "colab": {
          "base_uri": "https://localhost:8080/"
        },
        "id": "dsZgEf2e3jRz",
        "outputId": "d9dc3457-e245-43d1-abb9-458bed5db9b3"
      },
      "execution_count": 7,
      "outputs": [
        {
          "output_type": "execute_result",
          "data": {
            "text/plain": [
              "[('batch_normalization_1/gamma:0', True),\n",
              " ('batch_normalization_1/beta:0', True),\n",
              " ('batch_normalization_1/moving_mean:0', False),\n",
              " ('batch_normalization_1/moving_variance:0', False)]"
            ]
          },
          "metadata": {},
          "execution_count": 7
        }
      ]
    },
    {
      "cell_type": "code",
      "source": [
        "model.layers[1].updates"
      ],
      "metadata": {
        "colab": {
          "base_uri": "https://localhost:8080/"
        },
        "id": "3GIHxYHi33GK",
        "outputId": "cc624727-f213-45c5-caef-141ec30566c4"
      },
      "execution_count": 8,
      "outputs": [
        {
          "output_type": "stream",
          "name": "stderr",
          "text": [
            "<ipython-input-8-11fe563bf3e2>:1: UserWarning: `layer.updates` will be removed in a future version. This property should not be used in TensorFlow 2.0, as `updates` are applied automatically.\n",
            "  model.layers[1].updates\n"
          ]
        },
        {
          "output_type": "execute_result",
          "data": {
            "text/plain": [
              "[]"
            ]
          },
          "metadata": {},
          "execution_count": 8
        }
      ]
    },
    {
      "cell_type": "code",
      "source": [
        "# applying batchnorm before activation function\n",
        "# as we see hidden layers does not have any activation function inbuilt here so\n",
        "# batch norm is calculated before giving\n",
        "model_bn_before_activation = keras.models.Sequential(\n",
        "    [\n",
        "        keras.layers.Flatten(input_shape=[28,28]),\n",
        "        keras.layers.BatchNormalization(),\n",
        "        keras.layers.Dense(300, kernel_initializer=\"he_normal\", use_bias=False), # removed bias because batch norm itself has an offset param which its is learning\n",
        "        keras.layers.BatchNormalization(),\n",
        "        keras.layers.Activation(\"elu\"),\n",
        "        keras.layers.Dense(100, kernel_initializer=\"he_normal\", use_bias=False),\n",
        "        keras.layers.BatchNormalization(),\n",
        "        keras.layers.Activation(\"elu\"),\n",
        "        keras.layers.Dense(10, activation=\"softmax\")\n",
        "    ]\n",
        ")"
      ],
      "metadata": {
        "id": "C4If5Vtj4Ijw"
      },
      "execution_count": 9,
      "outputs": []
    },
    {
      "cell_type": "code",
      "source": [
        "# params to tune in mini batch\n",
        "# momentum -> for updating exponential moving averages\n",
        "# axis -> axis of calculating mean and std deviation in 2D and 3D objects\n"
      ],
      "metadata": {
        "id": "hldOK2635wof"
      },
      "execution_count": null,
      "outputs": []
    }
  ]
}