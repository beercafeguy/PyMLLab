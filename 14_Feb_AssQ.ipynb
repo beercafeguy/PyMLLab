{
  "nbformat": 4,
  "nbformat_minor": 0,
  "metadata": {
    "colab": {
      "provenance": [],
      "authorship_tag": "ABX9TyPupK7cU/9qcP01WysbS1CL",
      "include_colab_link": true
    },
    "kernelspec": {
      "name": "python3",
      "display_name": "Python 3"
    },
    "language_info": {
      "name": "python"
    }
  },
  "cells": [
    {
      "cell_type": "markdown",
      "metadata": {
        "id": "view-in-github",
        "colab_type": "text"
      },
      "source": [
        "<a href=\"https://colab.research.google.com/github/beercafeguy/PyMLLab/blob/master/14_Feb_AssQ.ipynb\" target=\"_parent\"><img src=\"https://colab.research.google.com/assets/colab-badge.svg\" alt=\"Open In Colab\"/></a>"
      ]
    },
    {
      "cell_type": "markdown",
      "source": [
        "**Q1).** What is multithreading in python? Why is it used? Name the module used to handle threads in python"
      ],
      "metadata": {
        "id": "4PWKH70hxg-X"
      }
    },
    {
      "cell_type": "markdown",
      "source": [
        "**Ans:**\n",
        "\n",
        "Multithreading in the ability of a processor to run more then one thread (independent sections of programs) in the same core of the processor. Python as language supports the implementation of multithreaded programs using python.\n",
        "\n",
        "**Why**\n",
        "\n",
        "The main airm behind using multithreading is to making most out of your processor which inturn will improve the performance of your program. Ex. a web server can supports more then one request concurrently using threads,an image processing application can process the sections of image parally in same core etc.\n",
        "\n",
        "**Module**\n",
        "Module name is threading"
      ],
      "metadata": {
        "id": "4JWIw_n-xkPN"
      }
    },
    {
      "cell_type": "code",
      "execution_count": null,
      "metadata": {
        "id": "-4P7dRtkxfMJ"
      },
      "outputs": [],
      "source": []
    }
  ]
}