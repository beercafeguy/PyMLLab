{
  "nbformat": 4,
  "nbformat_minor": 0,
  "metadata": {
    "colab": {
      "provenance": [],
      "authorship_tag": "ABX9TyPfJazSi1HPeg5MBod+my0z",
      "include_colab_link": true
    },
    "kernelspec": {
      "name": "python3",
      "display_name": "Python 3"
    },
    "language_info": {
      "name": "python"
    }
  },
  "cells": [
    {
      "cell_type": "markdown",
      "metadata": {
        "id": "view-in-github",
        "colab_type": "text"
      },
      "source": [
        "<a href=\"https://colab.research.google.com/github/beercafeguy/PyMLLab/blob/master/mongo_dem.ipynb\" target=\"_parent\"><img src=\"https://colab.research.google.com/assets/colab-badge.svg\" alt=\"Open In Colab\"/></a>"
      ]
    },
    {
      "cell_type": "code",
      "source": [
        "client = pymongo.MongoClient(\"mongodb+srv://<username>:<password>@beercafecluster.5i7z0cc.mongodb.net/?retryWrites=true&w=majority\")\n",
        "db = client.test"
      ],
      "metadata": {
        "id": "A1GzwKgZ14af"
      },
      "execution_count": 3,
      "outputs": []
    },
    {
      "cell_type": "code",
      "execution_count": 1,
      "metadata": {
        "colab": {
          "base_uri": "https://localhost:8080/"
        },
        "id": "oFukGzZJ1xra",
        "outputId": "760526e1-0dea-4f75-cd41-0c9e2519ff72"
      },
      "outputs": [
        {
          "output_type": "stream",
          "name": "stdout",
          "text": [
            "Looking in indexes: https://pypi.org/simple, https://us-python.pkg.dev/colab-wheels/public/simple/\n",
            "Requirement already satisfied: pymongo in /usr/local/lib/python3.8/dist-packages (4.3.3)\n",
            "Requirement already satisfied: dnspython<3.0.0,>=1.16.0 in /usr/local/lib/python3.8/dist-packages (from pymongo) (2.3.0)\n"
          ]
        }
      ],
      "source": [
        "!pip install pymongo"
      ]
    },
    {
      "cell_type": "code",
      "source": [
        "import pymongo"
      ],
      "metadata": {
        "id": "WcB1O3Ux16nn"
      },
      "execution_count": 4,
      "outputs": []
    },
    {
      "cell_type": "code",
      "source": [
        "db"
      ],
      "metadata": {
        "colab": {
          "base_uri": "https://localhost:8080/"
        },
        "id": "OgCEomKR2Ecz",
        "outputId": "cb5887cc-991b-477e-9424-a567f8f4bc52"
      },
      "execution_count": 5,
      "outputs": [
        {
          "output_type": "execute_result",
          "data": {
            "text/plain": [
              "Database(MongoClient(host=['ac-2vl2ga1-shard-00-00.5i7z0cc.mongodb.net:27017', 'ac-2vl2ga1-shard-00-02.5i7z0cc.mongodb.net:27017', 'ac-2vl2ga1-shard-00-01.5i7z0cc.mongodb.net:27017'], document_class=dict, tz_aware=False, connect=True, retrywrites=True, w='majority', authsource='admin', replicaset='atlas-lpumo2-shard-0', tls=True), 'test')"
            ]
          },
          "metadata": {},
          "execution_count": 5
        }
      ]
    },
    {
      "cell_type": "markdown",
      "source": [
        "Store data in mongo"
      ],
      "metadata": {
        "id": "NpFtHjp-2hhY"
      }
    },
    {
      "cell_type": "code",
      "source": [
        "# Document based Database\n",
        "# DB -> Collection (equvalent to table) -> Document (json)\n",
        "# No schema required"
      ],
      "metadata": {
        "id": "E8qRh1q_2Www"
      },
      "execution_count": 7,
      "outputs": []
    },
    {
      "cell_type": "code",
      "source": [
        "db = client['hrdb']\n",
        "\n",
        "emp1  = {\n",
        "    'id':1,\n",
        "    'name':'Hem Chandra',\n",
        "    'salary':23456\n",
        "}\n",
        "\n",
        "coll_emp= db['employee']\n",
        "\n",
        "coll_emp.insert_one(emp1)"
      ],
      "metadata": {
        "colab": {
          "base_uri": "https://localhost:8080/"
        },
        "id": "NahqVLa926Kn",
        "outputId": "30bf114f-7806-46e9-a809-c5988f0a2517"
      },
      "execution_count": 9,
      "outputs": [
        {
          "output_type": "execute_result",
          "data": {
            "text/plain": [
              "<pymongo.results.InsertOneResult at 0x7f65afd76130>"
            ]
          },
          "metadata": {},
          "execution_count": 9
        }
      ]
    },
    {
      "cell_type": "code",
      "source": [
        "emp2  = {\n",
        "    'id':2,\n",
        "    'name':'Ajay Kumar',\n",
        "    'salary':23456,\n",
        "    'email': 'ajay@gmail.com'\n",
        "}\n",
        "coll_emp.insert_one(emp2)"
      ],
      "metadata": {
        "colab": {
          "base_uri": "https://localhost:8080/"
        },
        "id": "N07Usroj3JeJ",
        "outputId": "26650c2b-79f4-4fba-85b3-fcd2ddc1d363"
      },
      "execution_count": 10,
      "outputs": [
        {
          "output_type": "execute_result",
          "data": {
            "text/plain": [
              "<pymongo.results.InsertOneResult at 0x7f65afd4e850>"
            ]
          },
          "metadata": {},
          "execution_count": 10
        }
      ]
    },
    {
      "cell_type": "code",
      "source": [
        "bulk_data = [\n",
        "    {'id':3,'name':'Ajay Panda','salary':382080},\n",
        "    {'id':4,'name':'Kushal Kumar','salary':3243},\n",
        "    {'id':5,'name':'Bhanwar Singh','salary':739283},\n",
        "    {'id':6,'name':'Nidhi Panda','email':'nidhi@gmail.com'},\n",
        "    {'id':7,'name':'Kushal Singh','skills':['Java','DS']}\n",
        "]\n",
        "coll_emp.insert_many(bulk_data)"
      ],
      "metadata": {
        "colab": {
          "base_uri": "https://localhost:8080/"
        },
        "id": "iQbhDNbE4PJw",
        "outputId": "8026ed3e-242f-44e1-98ca-1f4d320d3f12"
      },
      "execution_count": 11,
      "outputs": [
        {
          "output_type": "execute_result",
          "data": {
            "text/plain": [
              "<pymongo.results.InsertManyResult at 0x7f65afd76e80>"
            ]
          },
          "metadata": {},
          "execution_count": 11
        }
      ]
    },
    {
      "cell_type": "code",
      "source": [
        "coll_emp.find_one()"
      ],
      "metadata": {
        "colab": {
          "base_uri": "https://localhost:8080/"
        },
        "id": "uy1C_0W65klZ",
        "outputId": "183ae7e6-423c-4602-a95c-de0cbf369e6f"
      },
      "execution_count": 12,
      "outputs": [
        {
          "output_type": "execute_result",
          "data": {
            "text/plain": [
              "{'_id': ObjectId('63f059db022a2d87191765ad'),\n",
              " 'id': 1,\n",
              " 'name': 'Hem Chandra',\n",
              " 'salary': 23456}"
            ]
          },
          "metadata": {},
          "execution_count": 12
        }
      ]
    },
    {
      "cell_type": "code",
      "source": [
        "cur = coll_emp.find()\n",
        "for i in cur:\n",
        "  print(i)"
      ],
      "metadata": {
        "colab": {
          "base_uri": "https://localhost:8080/"
        },
        "id": "JsCQ2XtK56A2",
        "outputId": "a9b7a7a3-b2f9-4910-cc75-ba075f6e6cb1"
      },
      "execution_count": 22,
      "outputs": [
        {
          "output_type": "stream",
          "name": "stdout",
          "text": [
            "{'_id': ObjectId('63f059db022a2d87191765ad'), 'id': 1, 'name': 'Hem Chandra', 'salary': 23456}\n",
            "{'_id': ObjectId('63f05bb4022a2d87191765af'), 'id': 3, 'name': 'Ajay Lallu', 'salary': 382080}\n",
            "{'_id': ObjectId('63f05bb4022a2d87191765b0'), 'id': 4, 'name': 'Kushal Kumar', 'salary': 3243}\n",
            "{'_id': ObjectId('63f05bb4022a2d87191765b1'), 'id': 5, 'name': 'Bhanwar Singh', 'salary': 739283}\n",
            "{'_id': ObjectId('63f05bb4022a2d87191765b2'), 'id': 6, 'name': 'Nidhi Panda', 'email': 'nidhi@gmail.com'}\n",
            "{'_id': ObjectId('63f05bb4022a2d87191765b3'), 'id': 7, 'name': 'Kushal Singh', 'skills': ['Java', 'DS']}\n"
          ]
        }
      ]
    },
    {
      "cell_type": "code",
      "source": [
        "cur = coll_emp.find({'name':'Bhanwar Singh'})\n",
        "for i in cur:\n",
        "  print(i)"
      ],
      "metadata": {
        "colab": {
          "base_uri": "https://localhost:8080/"
        },
        "id": "Ky2euyCb6BfN",
        "outputId": "a71f8432-fe39-4ab8-baa7-925ffcabee8b"
      },
      "execution_count": 14,
      "outputs": [
        {
          "output_type": "stream",
          "name": "stdout",
          "text": [
            "{'_id': ObjectId('63f05bb4022a2d87191765b1'), 'id': 5, 'name': 'Bhanwar Singh', 'salary': 739283}\n"
          ]
        }
      ]
    },
    {
      "cell_type": "code",
      "source": [
        "cur = coll_emp.find({'id':{\"$gt\":4}})\n",
        "for i in cur:\n",
        "  print(i)"
      ],
      "metadata": {
        "colab": {
          "base_uri": "https://localhost:8080/"
        },
        "id": "2QrnBWJv6Ug3",
        "outputId": "a6253256-85de-4d86-9502-d644d8d81bc9"
      },
      "execution_count": 16,
      "outputs": [
        {
          "output_type": "stream",
          "name": "stdout",
          "text": [
            "{'_id': ObjectId('63f05bb4022a2d87191765b1'), 'id': 5, 'name': 'Bhanwar Singh', 'salary': 739283}\n",
            "{'_id': ObjectId('63f05bb4022a2d87191765b2'), 'id': 6, 'name': 'Nidhi Panda', 'email': 'nidhi@gmail.com'}\n",
            "{'_id': ObjectId('63f05bb4022a2d87191765b3'), 'id': 7, 'name': 'Kushal Singh', 'skills': ['Java', 'DS']}\n"
          ]
        }
      ]
    },
    {
      "cell_type": "code",
      "source": [
        "cur = coll_emp.find({'id':{\"$lte\":4}})\n",
        "for i in cur:\n",
        "  print(i)"
      ],
      "metadata": {
        "colab": {
          "base_uri": "https://localhost:8080/"
        },
        "id": "QHldKtK16279",
        "outputId": "6a9d4ee6-63f3-4cb1-b804-02fa810f9249"
      },
      "execution_count": 17,
      "outputs": [
        {
          "output_type": "stream",
          "name": "stdout",
          "text": [
            "{'_id': ObjectId('63f059db022a2d87191765ad'), 'id': 1, 'name': 'Hem Chandra', 'salary': 23456}\n",
            "{'_id': ObjectId('63f05a56022a2d87191765ae'), 'id': 2, 'name': 'Ajay Kumar', 'salary': 23456, 'email': 'ajay@gmail.com'}\n",
            "{'_id': ObjectId('63f05bb4022a2d87191765af'), 'id': 3, 'name': 'Ajay Panda', 'salary': 382080}\n",
            "{'_id': ObjectId('63f05bb4022a2d87191765b0'), 'id': 4, 'name': 'Kushal Kumar', 'salary': 3243}\n"
          ]
        }
      ]
    },
    {
      "cell_type": "code",
      "source": [
        "coll_emp.update_many({'name': 'Ajay Panda'},{\"$set\":{'name': 'Ajay Lallu'}})"
      ],
      "metadata": {
        "colab": {
          "base_uri": "https://localhost:8080/"
        },
        "id": "aGzpt7KT6641",
        "outputId": "4ae4a018-a759-44a8-d8c8-90988de12ee7"
      },
      "execution_count": 18,
      "outputs": [
        {
          "output_type": "execute_result",
          "data": {
            "text/plain": [
              "<pymongo.results.UpdateResult at 0x7f65b0489370>"
            ]
          },
          "metadata": {},
          "execution_count": 18
        }
      ]
    },
    {
      "cell_type": "code",
      "source": [
        "cur = coll_emp.find({'id':{\"$lte\":4}})\n",
        "for i in cur:\n",
        "  print(i)"
      ],
      "metadata": {
        "colab": {
          "base_uri": "https://localhost:8080/"
        },
        "id": "1qLIg4sU7go9",
        "outputId": "403bb59a-fe68-45bc-ab7c-1a02f1473131"
      },
      "execution_count": 19,
      "outputs": [
        {
          "output_type": "stream",
          "name": "stdout",
          "text": [
            "{'_id': ObjectId('63f059db022a2d87191765ad'), 'id': 1, 'name': 'Hem Chandra', 'salary': 23456}\n",
            "{'_id': ObjectId('63f05a56022a2d87191765ae'), 'id': 2, 'name': 'Ajay Kumar', 'salary': 23456, 'email': 'ajay@gmail.com'}\n",
            "{'_id': ObjectId('63f05bb4022a2d87191765af'), 'id': 3, 'name': 'Ajay Lallu', 'salary': 382080}\n",
            "{'_id': ObjectId('63f05bb4022a2d87191765b0'), 'id': 4, 'name': 'Kushal Kumar', 'salary': 3243}\n"
          ]
        }
      ]
    },
    {
      "cell_type": "code",
      "source": [
        "coll_emp.delete_many({'email': 'ajay@gmail.com'})"
      ],
      "metadata": {
        "colab": {
          "base_uri": "https://localhost:8080/"
        },
        "id": "7riepb4W7jrg",
        "outputId": "c49bfc3c-2c18-498c-8516-ff34d5bcafb3"
      },
      "execution_count": 21,
      "outputs": [
        {
          "output_type": "execute_result",
          "data": {
            "text/plain": [
              "<pymongo.results.DeleteResult at 0x7f65afc7e850>"
            ]
          },
          "metadata": {},
          "execution_count": 21
        }
      ]
    },
    {
      "cell_type": "code",
      "source": [],
      "metadata": {
        "id": "Bs_VQHFt79-z"
      },
      "execution_count": null,
      "outputs": []
    }
  ]
}