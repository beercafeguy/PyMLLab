{
  "nbformat": 4,
  "nbformat_minor": 0,
  "metadata": {
    "colab": {
      "provenance": [],
      "authorship_tag": "ABX9TyPy5mihxcZHajxONhpFCcjE",
      "include_colab_link": true
    },
    "kernelspec": {
      "name": "python3",
      "display_name": "Python 3"
    },
    "language_info": {
      "name": "python"
    }
  },
  "cells": [
    {
      "cell_type": "markdown",
      "metadata": {
        "id": "view-in-github",
        "colab_type": "text"
      },
      "source": [
        "<a href=\"https://colab.research.google.com/github/beercafeguy/PyMLLab/blob/master/grokking_dl/grokking_dl_chapter_3.ipynb\" target=\"_parent\"><img src=\"https://colab.research.google.com/assets/colab-badge.svg\" alt=\"Open In Colab\"/></a>"
      ]
    },
    {
      "cell_type": "code",
      "execution_count": 1,
      "metadata": {
        "id": "c3yVe7WabWCD"
      },
      "outputs": [],
      "source": [
        "weight = 0.1\n",
        "\n",
        "def neural_network(input, weight):\n",
        "  prediction = input * weight\n",
        "  return prediction"
      ]
    },
    {
      "cell_type": "code",
      "source": [
        "number_of_toes = [8.5,9.5,10,9]\n",
        "\n",
        "input = number_of_toes[0]\n",
        "\n",
        "pred = neural_network(input,weight)\n",
        "\n",
        "print(pred)"
      ],
      "metadata": {
        "colab": {
          "base_uri": "https://localhost:8080/"
        },
        "id": "YI2b2PmkbhoA",
        "outputId": "1c9ccc55-2940-45de-85eb-7fdd40612993"
      },
      "execution_count": 2,
      "outputs": [
        {
          "output_type": "stream",
          "name": "stdout",
          "text": [
            "0.8500000000000001\n"
          ]
        }
      ]
    },
    {
      "cell_type": "code",
      "source": [
        "# multiple input neural network"
      ],
      "metadata": {
        "id": "fg5R0h4ObvvN"
      },
      "execution_count": 3,
      "outputs": []
    },
    {
      "cell_type": "code",
      "source": [
        "\n",
        "# This is a weighted sum (dot product)\n",
        "def w_sum(x,w):\n",
        "  assert(len(x) == len(w))\n",
        "  return sum([a*b for a,b in zip(x,w)]) # W_transpose * X"
      ],
      "metadata": {
        "id": "jymiVLhrdNbx"
      },
      "execution_count": 4,
      "outputs": []
    },
    {
      "cell_type": "markdown",
      "source": [
        "![picture](https://drive.google.com/file/d/1bH_pll6Y0ZRujdoeNdxug9-bfxSX8I-e/view?usp=drive_link)"
      ],
      "metadata": {
        "id": "39_cCfTSfPpX"
      }
    },
    {
      "cell_type": "code",
      "source": [
        "weights = [0.1,0.2,0]\n",
        "\n",
        "def neural_network(input,weights):\n",
        "  pred = w_sum(input,weights)\n",
        "  return pred"
      ],
      "metadata": {
        "id": "OM8-qWhAc8D0"
      },
      "execution_count": 5,
      "outputs": []
    },
    {
      "cell_type": "code",
      "source": [
        "toes = [8.5, 9.5, 9.9, 9.0]\n",
        "wlrec = [0.65, 0.8, 0.8, 0.9]\n",
        "nfans = [1.2, 1.3, 0.5, 1.0]"
      ],
      "metadata": {
        "id": "I6s3BK21dG-r"
      },
      "execution_count": 6,
      "outputs": []
    },
    {
      "cell_type": "code",
      "source": [
        "\n",
        "input_1 = [toes[0],wlrec[0],nfans[0]]\n",
        "\n",
        "pred = neural_network(input_1,weights)\n",
        "print(pred)"
      ],
      "metadata": {
        "colab": {
          "base_uri": "https://localhost:8080/"
        },
        "id": "Q_zIcMBGdXnb",
        "outputId": "28291256-74cc-453a-bf45-a1c50c2805f1"
      },
      "execution_count": 7,
      "outputs": [
        {
          "output_type": "stream",
          "name": "stdout",
          "text": [
            "0.9800000000000001\n"
          ]
        }
      ]
    },
    {
      "cell_type": "code",
      "source": [
        "from statistics import mean\n",
        "\n",
        "def elementwise_multiplication(vec_a,vec_b):\n",
        "  return [a*b for a,b in zip(vec_a,vec_b)]\n",
        "\n",
        "\n",
        "def elementwise_addition(vec_a,vec_b):\n",
        "  return [a+b for a,b in zip(vec_a,vec_b)]\n",
        "def vector_sum(vec_a):\n",
        "  return sum(vec_a)\n",
        "\n",
        "def vector_average(vec_a):\n",
        "  return mean(vec_a)"
      ],
      "metadata": {
        "id": "dfMDfYjwdipP"
      },
      "execution_count": 8,
      "outputs": []
    },
    {
      "cell_type": "code",
      "source": [
        "vector_average([1,2,3])"
      ],
      "metadata": {
        "colab": {
          "base_uri": "https://localhost:8080/"
        },
        "id": "BoooNZKugXVo",
        "outputId": "76e35a87-4f2c-4759-b3f4-ef1cd563c07f"
      },
      "execution_count": 9,
      "outputs": [
        {
          "output_type": "execute_result",
          "data": {
            "text/plain": [
              "2"
            ]
          },
          "metadata": {},
          "execution_count": 9
        }
      ]
    },
    {
      "cell_type": "code",
      "source": [
        "def w_sum(x,w):\n",
        "  assert(len(x) == len(w))\n",
        "  return vector_sum(elementwise_multiplication(x,w))"
      ],
      "metadata": {
        "id": "ZNCIhKx7gdK5"
      },
      "execution_count": 10,
      "outputs": []
    },
    {
      "cell_type": "code",
      "source": [
        "pred = neural_network(input_1,weights)\n",
        "print(pred)"
      ],
      "metadata": {
        "colab": {
          "base_uri": "https://localhost:8080/"
        },
        "id": "3WDlNAm-glLt",
        "outputId": "0a07936d-a5e1-454b-e628-1b32befef3f7"
      },
      "execution_count": 11,
      "outputs": [
        {
          "output_type": "stream",
          "name": "stdout",
          "text": [
            "0.9800000000000001\n"
          ]
        }
      ]
    },
    {
      "cell_type": "markdown",
      "source": [
        "### **implement the same logic in numpy**"
      ],
      "metadata": {
        "id": "xt6qDPymm6EE"
      }
    },
    {
      "cell_type": "code",
      "source": [
        "import numpy as np"
      ],
      "metadata": {
        "id": "tG243sdQmU0H"
      },
      "execution_count": 12,
      "outputs": []
    },
    {
      "cell_type": "code",
      "source": [
        "weights = np.array([0.1,0.2,0])\n",
        "\n",
        "def neural_network(input,weights):\n",
        "  pred = input.dot(weights)\n",
        "  return pred"
      ],
      "metadata": {
        "id": "_BVScFFOmV9k"
      },
      "execution_count": 13,
      "outputs": []
    },
    {
      "cell_type": "code",
      "source": [
        "toes = np.array([8.5, 9.5, 9.9, 9.0])\n",
        "wlrec = np.array([0.65, 0.8, 0.8, 0.9])\n",
        "nfans = np.array([1.2, 1.3, 0.5, 1.0])\n",
        "\n",
        "input = np.array([toes[0],wlrec[0],nfans[0]])\n",
        "\n",
        "pred = neural_network(input, weights)\n",
        "print(pred)"
      ],
      "metadata": {
        "colab": {
          "base_uri": "https://localhost:8080/"
        },
        "id": "P2lVl2E9mlRU",
        "outputId": "5aef4e9b-f59a-44e3-ca8f-6ad39a4b974b"
      },
      "execution_count": 14,
      "outputs": [
        {
          "output_type": "stream",
          "name": "stdout",
          "text": [
            "0.9800000000000001\n"
          ]
        }
      ]
    },
    {
      "cell_type": "code",
      "source": [
        "weights = [0.3, 0.2, 0.9]\n",
        "\n",
        "\n",
        "def scaler_mul(scaler_num,vec):\n",
        "  return [scaler_num * a for a in vec]\n",
        "\n",
        "def neural_network(input_num,weights):\n",
        "  return scaler_mul(input_num,weights)"
      ],
      "metadata": {
        "id": "vRaynhgMm0Fd"
      },
      "execution_count": 16,
      "outputs": []
    },
    {
      "cell_type": "code",
      "source": [
        "wlrec = [0.65, 0.8, 0.8, 0.9] # win loss record\n",
        "\n",
        "input_1 = wlrec[0]\n",
        "\n",
        "neural_network(input_1,weights)"
      ],
      "metadata": {
        "colab": {
          "base_uri": "https://localhost:8080/"
        },
        "id": "lJj65yp-dsFj",
        "outputId": "4b2cdee5-6bd1-40e8-c845-251db81aaa99"
      },
      "execution_count": 17,
      "outputs": [
        {
          "output_type": "execute_result",
          "data": {
            "text/plain": [
              "[0.195, 0.13, 0.5850000000000001]"
            ]
          },
          "metadata": {},
          "execution_count": 17
        }
      ]
    },
    {
      "cell_type": "markdown",
      "source": [
        "#### Multiple input multiple output network"
      ],
      "metadata": {
        "id": "_4Ds9s2neW8X"
      }
    },
    {
      "cell_type": "code",
      "source": [
        "def w_sum(a,b):\n",
        "  assert(len(a) == len(b))\n",
        "  output = 0\n",
        "  for i in range(len(a)):\n",
        "      output += (a[i] * b[i])\n",
        "  return output\n",
        "\n",
        "\n",
        "def vec_mul(input_vec,weights_mat):\n",
        "  output = [0, 0, 0]\n",
        "  for i in range(len(input_vec)):\n",
        "    output[i] = w_sum(input_vec,weights_mat[i])\n",
        "\n",
        "  return output\n"
      ],
      "metadata": {
        "id": "wNJgyLJhe319"
      },
      "execution_count": 34,
      "outputs": []
    },
    {
      "cell_type": "code",
      "source": [
        "weights = [[0.1, 0.1, -0.3],\n",
        "            [0.1, 0.2, 0.0],\n",
        "            [0.0, 1.3, 0.1]]\n",
        "\n",
        "def neural_network(input,weights):\n",
        "  return vec_mul(input,weights)"
      ],
      "metadata": {
        "id": "I2EazcRHeRIY"
      },
      "execution_count": 35,
      "outputs": []
    },
    {
      "cell_type": "code",
      "source": [
        "toes = [8.5, 9.5, 9.9, 9.0]\n",
        "wlrec = [0.65,0.8, 0.8, 0.9]\n",
        "nfans = [1.2, 1.3, 0.5, 1.0]\n",
        "\n",
        "input = [toes[0],wlrec[0],nfans[0]]\n",
        "\n",
        "pred = neural_network(input,weights)\n",
        "print(pred)"
      ],
      "metadata": {
        "colab": {
          "base_uri": "https://localhost:8080/"
        },
        "id": "5HHq0Z0Nftus",
        "outputId": "65acbeeb-d5f9-4f60-97ae-54734d822041"
      },
      "execution_count": 36,
      "outputs": [
        {
          "output_type": "stream",
          "name": "stdout",
          "text": [
            "[0.555, 0.9800000000000001, 0.9650000000000001]\n"
          ]
        }
      ]
    },
    {
      "cell_type": "markdown",
      "source": [
        "### Multi layer predictions"
      ],
      "metadata": {
        "id": "529lm4kRhoGe"
      }
    },
    {
      "cell_type": "code",
      "source": [
        "ih_wgt = [ [0.1, 0.2, -0.1],\n",
        "           [-0.1,0.1, 0.9],\n",
        "           [0.1, 0.4, 0.1] ]\n",
        "\n",
        "\n",
        "hp_wgt = [[0.3, 1.1, -0.3],\n",
        "          [0.1, 0.2, 0.0],\n",
        "          [0.0, 1.3, 0.1]]\n",
        "\n",
        "weights= [ ih_wgt, hp_wgt]\n",
        "\n",
        "\n",
        "def neural_network(input, weights):\n",
        "  hid = vec_mul(input,weights[0])\n",
        "  pred = vec_mul(hid,weights[1])\n",
        "  return pred\n"
      ],
      "metadata": {
        "id": "E-Ufygi8f445"
      },
      "execution_count": 39,
      "outputs": []
    },
    {
      "cell_type": "code",
      "source": [
        "toes = [8.5, 9.5, 9.9, 9.0]\n",
        "wlrec = [0.65,0.8, 0.8, 0.9]\n",
        "nfans = [1.2, 1.3, 0.5, 1.0]\n",
        "\n",
        "input = [toes[0],wlrec[0],nfans[0]]\n",
        "\n",
        "print(neural_network(input,weights))"
      ],
      "metadata": {
        "colab": {
          "base_uri": "https://localhost:8080/"
        },
        "id": "a7hXY6pqiXK7",
        "outputId": "2e939f53-13ac-4634-d05a-72cbdde9adbf"
      },
      "execution_count": 40,
      "outputs": [
        {
          "output_type": "stream",
          "name": "stdout",
          "text": [
            "[0.21350000000000002, 0.14500000000000002, 0.5065]\n"
          ]
        }
      ]
    },
    {
      "cell_type": "markdown",
      "source": [
        "# Numpy version"
      ],
      "metadata": {
        "id": "aE188eJWimCW"
      }
    },
    {
      "cell_type": "code",
      "source": [
        "ih_wgt = np.array([[0.1, 0.2, -0.1],\n",
        "           [-0.1,0.1, 0.9],\n",
        "           [0.1, 0.4, 0.1]])\n",
        "\n",
        "\n",
        "hp_wgt = np.array([[0.3, 1.1, -0.3],\n",
        "          [0.1, 0.2, 0.0],\n",
        "          [0.0, 1.3, 0.1]])\n",
        "\n",
        "\n",
        "weights= [ ih_wgt, hp_wgt]\n",
        "\n",
        "\n",
        "def neural_network(input, weights):\n",
        "  hid = input.dot(weights[0])\n",
        "  pred = hid.dot(weights[1])\n",
        "  return pred"
      ],
      "metadata": {
        "id": "2w_4eb3qicWL"
      },
      "execution_count": 41,
      "outputs": []
    },
    {
      "cell_type": "code",
      "source": [
        "toes = np.array([8.5, 9.5, 9.9, 9.0])\n",
        "wlrec = np.array([0.65,0.8, 0.8, 0.9])\n",
        "nfans = np.array([1.2, 1.3, 0.5, 1.0])\n",
        "\n",
        "\n",
        "input = np.array([toes[0],wlrec[0],nfans[0]])\n",
        "pred = neural_network(input,weights)\n",
        "print(pred)"
      ],
      "metadata": {
        "colab": {
          "base_uri": "https://localhost:8080/"
        },
        "id": "3x8NIBMti9TV",
        "outputId": "e4a7d8af-a094-45c4-9b67-1eb1a490e891"
      },
      "execution_count": 44,
      "outputs": [
        {
          "output_type": "stream",
          "name": "stdout",
          "text": [
            "[ 0.496  1.256 -0.286]\n"
          ]
        }
      ]
    },
    {
      "cell_type": "code",
      "source": [
        "a = np.zeros((1,4))\n",
        "b = np.zeros((4,3))\n",
        "\n",
        "print(a)\n",
        "print(b)"
      ],
      "metadata": {
        "colab": {
          "base_uri": "https://localhost:8080/"
        },
        "id": "IAu4Hev7i9jv",
        "outputId": "dfd3d3e9-277d-42a6-f4e8-7543356c2c0a"
      },
      "execution_count": 45,
      "outputs": [
        {
          "output_type": "stream",
          "name": "stdout",
          "text": [
            "[[0. 0. 0. 0.]]\n",
            "[[0. 0. 0.]\n",
            " [0. 0. 0.]\n",
            " [0. 0. 0.]\n",
            " [0. 0. 0.]]\n"
          ]
        }
      ]
    },
    {
      "cell_type": "code",
      "source": [
        "print(a.dot(b))"
      ],
      "metadata": {
        "colab": {
          "base_uri": "https://localhost:8080/"
        },
        "id": "oNOG6iOwj_Vv",
        "outputId": "bbb20a53-d0e1-47dc-f2a3-d790d0d9422b"
      },
      "execution_count": 47,
      "outputs": [
        {
          "output_type": "stream",
          "name": "stdout",
          "text": [
            "[[0. 0. 0.]]\n"
          ]
        }
      ]
    },
    {
      "cell_type": "code",
      "source": [
        "a = np.array([0,1,2,3])\n",
        "b = np.array([4,5,6,7])\n",
        "c = np.array([[0,1,2,3],\n",
        "              [4,,56,7]])\n",
        "d = np.zeros((2,4))\n",
        "e = np.random.rand(2,5)"
      ],
      "metadata": {
        "id": "gDsQL_I2kCwy"
      },
      "execution_count": 48,
      "outputs": []
    },
    {
      "cell_type": "code",
      "source": [
        "print(a * b)"
      ],
      "metadata": {
        "colab": {
          "base_uri": "https://localhost:8080/"
        },
        "id": "jyjNpjIPkMH7",
        "outputId": "4b782ce4-42b5-44bc-f199-0f74901ea924"
      },
      "execution_count": 49,
      "outputs": [
        {
          "output_type": "stream",
          "name": "stdout",
          "text": [
            "[ 0  5 12 21]\n"
          ]
        }
      ]
    },
    {
      "cell_type": "code",
      "source": [
        "print(a * c)"
      ],
      "metadata": {
        "colab": {
          "base_uri": "https://localhost:8080/"
        },
        "id": "TZWQHufekQu-",
        "outputId": "c4b0fda6-9065-4203-cab8-c1abb2eb198e"
      },
      "execution_count": 50,
      "outputs": [
        {
          "output_type": "stream",
          "name": "stdout",
          "text": [
            "[[ 0  1  4  9]\n",
            " [ 0  5 12 21]]\n"
          ]
        }
      ]
    },
    {
      "cell_type": "code",
      "source": [
        "a = np.zeros((2,4))\n",
        "b = np.zeros((4,3))\n",
        "\n",
        "c = a.dot(b)\n",
        "print(c.shape)"
      ],
      "metadata": {
        "colab": {
          "base_uri": "https://localhost:8080/"
        },
        "id": "w-3egqeNkUS6",
        "outputId": "00567253-b2d4-4a9d-be77-d6a337464e82"
      },
      "execution_count": 51,
      "outputs": [
        {
          "output_type": "stream",
          "name": "stdout",
          "text": [
            "(2, 3)\n"
          ]
        }
      ]
    },
    {
      "cell_type": "code",
      "source": [
        "h = np.zeros((5,4))\n",
        "h.T"
      ],
      "metadata": {
        "colab": {
          "base_uri": "https://localhost:8080/"
        },
        "id": "K0kYdSp_koIL",
        "outputId": "61a58ebb-a6f7-4355-fe39-8837a81ec464"
      },
      "execution_count": 52,
      "outputs": [
        {
          "output_type": "execute_result",
          "data": {
            "text/plain": [
              "array([[0., 0., 0., 0., 0.],\n",
              "       [0., 0., 0., 0., 0.],\n",
              "       [0., 0., 0., 0., 0.],\n",
              "       [0., 0., 0., 0., 0.]])"
            ]
          },
          "metadata": {},
          "execution_count": 52
        }
      ]
    },
    {
      "cell_type": "code",
      "source": [],
      "metadata": {
        "id": "EnK8BdWukto1"
      },
      "execution_count": null,
      "outputs": []
    }
  ]
}