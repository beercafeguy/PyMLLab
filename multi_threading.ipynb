{
  "nbformat": 4,
  "nbformat_minor": 0,
  "metadata": {
    "colab": {
      "provenance": [],
      "authorship_tag": "ABX9TyOeJuUTEMph7zM4og7DWJXf",
      "include_colab_link": true
    },
    "kernelspec": {
      "name": "python3",
      "display_name": "Python 3"
    },
    "language_info": {
      "name": "python"
    }
  },
  "cells": [
    {
      "cell_type": "markdown",
      "metadata": {
        "id": "view-in-github",
        "colab_type": "text"
      },
      "source": [
        "<a href=\"https://colab.research.google.com/github/beercafeguy/PyMLLab/blob/master/multi_threading.ipynb\" target=\"_parent\"><img src=\"https://colab.research.google.com/assets/colab-badge.svg\" alt=\"Open In Colab\"/></a>"
      ]
    },
    {
      "cell_type": "code",
      "execution_count": 1,
      "metadata": {
        "id": "WXVBPPL2V_ct"
      },
      "outputs": [],
      "source": [
        "import threading"
      ]
    },
    {
      "cell_type": "code",
      "source": [
        "import time\n",
        "def test(input):\n",
        "  print(\"Program starts %d\"%input)\n",
        "  time.sleep(1)\n",
        "test(10)"
      ],
      "metadata": {
        "colab": {
          "base_uri": "https://localhost:8080/"
        },
        "id": "X75X8fT-WCgJ",
        "outputId": "18930bc4-df3f-4d90-eaf7-c2caa200c567"
      },
      "execution_count": 19,
      "outputs": [
        {
          "output_type": "stream",
          "name": "stdout",
          "text": [
            "Program starts 10\n"
          ]
        }
      ]
    },
    {
      "cell_type": "code",
      "source": [
        "thread = [threading.Thread(target=test,args=(i,)) for i in range(10)]\n",
        "for t in thread:\n",
        "  t.start()"
      ],
      "metadata": {
        "colab": {
          "base_uri": "https://localhost:8080/"
        },
        "id": "KXKE9SshWMV1",
        "outputId": "6d8ebef8-5814-4225-e531-dff74c063c64"
      },
      "execution_count": 20,
      "outputs": [
        {
          "output_type": "stream",
          "name": "stdout",
          "text": [
            "Program starts 0\n",
            "Program starts 1\n",
            "Program starts 2\n",
            "Program starts 3\n",
            "Program starts 4\n",
            "Program starts 5\n",
            "Program starts 6\n",
            "Program starts 7\n",
            "Program starts 8\n",
            "Program starts 9\n"
          ]
        }
      ]
    },
    {
      "cell_type": "code",
      "source": [
        "thread"
      ],
      "metadata": {
        "colab": {
          "base_uri": "https://localhost:8080/"
        },
        "id": "nHAliOFeWwbS",
        "outputId": "689775c5-1e46-4a60-d06b-0e36bc65734b"
      },
      "execution_count": 6,
      "outputs": [
        {
          "output_type": "execute_result",
          "data": {
            "text/plain": [
              "[<Thread(Thread-11, stopped 139643838301952)>,\n",
              " <Thread(Thread-12, stopped 139643838301952)>,\n",
              " <Thread(Thread-13, stopped 139643838301952)>,\n",
              " <Thread(Thread-14, stopped 139643829909248)>,\n",
              " <Thread(Thread-15, stopped 139643748087552)>,\n",
              " <Thread(Thread-16, stopped 139643829909248)>,\n",
              " <Thread(Thread-17, stopped 139643748087552)>,\n",
              " <Thread(Thread-18, stopped 139643838301952)>,\n",
              " <Thread(Thread-19, stopped 139643748087552)>,\n",
              " <Thread(Thread-20, stopped 139643838301952)>]"
            ]
          },
          "metadata": {},
          "execution_count": 6
        }
      ]
    },
    {
      "cell_type": "code",
      "source": [
        "import threading\n",
        "import urllib.request as request\n",
        "\n",
        "def file_download(url,filename):\n",
        "  request.urlretrieve(url,filename)"
      ],
      "metadata": {
        "id": "i_kpRcd9W4P8"
      },
      "execution_count": 7,
      "outputs": []
    },
    {
      "cell_type": "code",
      "source": [
        "file_download('https://raw.githubusercontent.com/itsfoss/text-files/master/agatha.txt','agatha.txt')"
      ],
      "metadata": {
        "id": "sTbFjOqoXjk9"
      },
      "execution_count": 8,
      "outputs": []
    },
    {
      "cell_type": "code",
      "source": [
        "!ls -ltr"
      ],
      "metadata": {
        "colab": {
          "base_uri": "https://localhost:8080/"
        },
        "id": "LBATXogEX8AN",
        "outputId": "4f1f4968-ae48-43b2-a935-8cd97f4130bf"
      },
      "execution_count": 11,
      "outputs": [
        {
          "output_type": "stream",
          "name": "stdout",
          "text": [
            "total 8\n",
            "drwxr-xr-x 1 root root 4096 Feb 14 14:37 sample_data\n",
            "-rw-r--r-- 1 root root  456 Feb 16 03:58 agatha.txt\n"
          ]
        }
      ]
    },
    {
      "cell_type": "code",
      "source": [
        "url_list  = ['https://raw.githubusercontent.com/itsfoss/text-files/master/agatha.txt','https://raw.githubusercontent.com/itsfoss/text-files/master/sherlock.txt','https://raw.githubusercontent.com/itsfoss/text-files/master/sample_log_file.txt']"
      ],
      "metadata": {
        "id": "XKmLYzWPX8-M"
      },
      "execution_count": 10,
      "outputs": []
    },
    {
      "cell_type": "code",
      "source": [
        "!cat agatha.txt"
      ],
      "metadata": {
        "colab": {
          "base_uri": "https://localhost:8080/"
        },
        "id": "jnGS7EyrX_zz",
        "outputId": "9866ff47-2ada-486e-c3d7-da4876214777"
      },
      "execution_count": 12,
      "outputs": [
        {
          "output_type": "stream",
          "name": "stdout",
          "text": [
            "The Mysterious Affair at Styles\n",
            "The Secret Adversary\n",
            "The Murder on the Links\n",
            "The Man in the Brown Suit\n",
            "The Secret of Chimneys\n",
            "The Murder of Roger Ackroyd\n",
            "The Big Four\n",
            "The Mystery of the Blue Train\n",
            "The Seven Dials Mystery\n",
            "The Murder at the Vicarage\n",
            "Giant's Bread\n",
            "The Floating Admiral\n",
            "The Sittaford Mystery\n",
            "Peril at End House\n",
            "Lord Edgware Dies\n",
            "Murder on the Orient Express\n",
            "Unfinished Portrait\n",
            "Why Didn't They Ask Evans?\n",
            "Three Act Tragedy\n",
            "Death in the Clouds\n"
          ]
        }
      ]
    },
    {
      "cell_type": "code",
      "source": [
        "url_list"
      ],
      "metadata": {
        "colab": {
          "base_uri": "https://localhost:8080/"
        },
        "id": "QV8Eu42VYFZE",
        "outputId": "2cb3e529-d410-49b6-8b0a-5ce6d565bcde"
      },
      "execution_count": 13,
      "outputs": [
        {
          "output_type": "execute_result",
          "data": {
            "text/plain": [
              "['https://raw.githubusercontent.com/itsfoss/text-files/master/agatha.txt',\n",
              " 'https://raw.githubusercontent.com/itsfoss/text-files/master/sherlock.txt',\n",
              " 'https://raw.githubusercontent.com/itsfoss/text-files/master/sample_log_file.txt']"
            ]
          },
          "metadata": {},
          "execution_count": 13
        }
      ]
    },
    {
      "cell_type": "code",
      "source": [
        "file_name_list = ['data1.txt','data2.txt','data3.txt']"
      ],
      "metadata": {
        "id": "ps7ucDa1YJao"
      },
      "execution_count": 14,
      "outputs": []
    },
    {
      "cell_type": "code",
      "source": [
        "download_thread = [threading.Thread(target=file_download,args=(url_list[i],file_name_list[i],)) for i in range(len(file_name_list))]"
      ],
      "metadata": {
        "id": "zeObbOlkYOTE"
      },
      "execution_count": 19,
      "outputs": []
    },
    {
      "cell_type": "code",
      "source": [
        "for t in download_thread:\n",
        "  t.start()"
      ],
      "metadata": {
        "id": "KZbCNjLdYq09"
      },
      "execution_count": 20,
      "outputs": []
    },
    {
      "cell_type": "code",
      "source": [
        "download_thread"
      ],
      "metadata": {
        "colab": {
          "base_uri": "https://localhost:8080/"
        },
        "id": "Bzg3re6vYt3t",
        "outputId": "aae83893-af95-4ccc-eb9c-70269bc00894"
      },
      "execution_count": 21,
      "outputs": [
        {
          "output_type": "execute_result",
          "data": {
            "text/plain": [
              "[<Thread(Thread-24, stopped 139643829909248)>,\n",
              " <Thread(Thread-25, stopped 139643748087552)>,\n",
              " <Thread(Thread-26, stopped 139643838301952)>]"
            ]
          },
          "metadata": {},
          "execution_count": 21
        }
      ]
    },
    {
      "cell_type": "code",
      "source": [
        "!ls -ltr"
      ],
      "metadata": {
        "colab": {
          "base_uri": "https://localhost:8080/"
        },
        "id": "O_XGyrm_YuhN",
        "outputId": "f54c7abf-6d01-4c82-9db2-dc31dbcdf767"
      },
      "execution_count": 22,
      "outputs": [
        {
          "output_type": "stream",
          "name": "stdout",
          "text": [
            "total 20\n",
            "drwxr-xr-x 1 root root 4096 Feb 14 14:37 sample_data\n",
            "-rw-r--r-- 1 root root  456 Feb 16 03:58 agatha.txt\n",
            "-rw-r--r-- 1 root root  356 Feb 16 04:03 data2.txt\n",
            "-rw-r--r-- 1 root root 2599 Feb 16 04:03 data3.txt\n",
            "-rw-r--r-- 1 root root  456 Feb 16 04:03 data1.txt\n"
          ]
        }
      ]
    },
    {
      "cell_type": "code",
      "source": [
        "!date"
      ],
      "metadata": {
        "colab": {
          "base_uri": "https://localhost:8080/"
        },
        "id": "KzckEpwuYwT8",
        "outputId": "61104add-0993-4592-f2f8-65ed56b88c2a"
      },
      "execution_count": 23,
      "outputs": [
        {
          "output_type": "stream",
          "name": "stdout",
          "text": [
            "Thu 16 Feb 2023 04:03:26 AM UTC\n"
          ]
        }
      ]
    },
    {
      "cell_type": "code",
      "source": [
        "import time\n",
        "def test1(id) :\n",
        "  for i in range(10) : \n",
        "    print(\"test1 %d printing %d %s\" %(id,i,time.ctime()))\n",
        "    time.sleep(1)"
      ],
      "metadata": {
        "id": "K5EcQ7LoZC4G"
      },
      "execution_count": 11,
      "outputs": []
    },
    {
      "cell_type": "code",
      "source": [
        "test1(2)"
      ],
      "metadata": {
        "colab": {
          "base_uri": "https://localhost:8080/"
        },
        "id": "3e5_faweZv5F",
        "outputId": "4b117eff-48c0-4bf5-8af0-097de23cd211"
      },
      "execution_count": 12,
      "outputs": [
        {
          "output_type": "stream",
          "name": "stdout",
          "text": [
            "test1 2 printing 0 Thu Feb 16 06:00:40 2023\n",
            "test1 2 printing 1 Thu Feb 16 06:00:41 2023\n",
            "test1 2 printing 2 Thu Feb 16 06:00:42 2023\n",
            "test1 2 printing 3 Thu Feb 16 06:00:43 2023\n",
            "test1 2 printing 4 Thu Feb 16 06:00:44 2023\n",
            "test1 2 printing 5 Thu Feb 16 06:00:45 2023\n",
            "test1 2 printing 6 Thu Feb 16 06:00:46 2023\n",
            "test1 2 printing 7 Thu Feb 16 06:00:47 2023\n",
            "test1 2 printing 8 Thu Feb 16 06:00:48 2023\n",
            "test1 2 printing 9 Thu Feb 16 06:00:49 2023\n"
          ]
        }
      ]
    },
    {
      "cell_type": "code",
      "source": [
        "import threading\n",
        "thread1 = [threading.Thread(target=test1 , args  = (i,)) for i in range(3)]\n",
        "for t in thread1:\n",
        "  t.start()\n",
        "  t.join()\n",
        "print(\"Main Thread Done\")"
      ],
      "metadata": {
        "colab": {
          "base_uri": "https://localhost:8080/"
        },
        "id": "_2c2FoVSZx9Z",
        "outputId": "653e3638-f5ab-4b28-dd42-c89ca0150697"
      },
      "execution_count": 13,
      "outputs": [
        {
          "output_type": "stream",
          "name": "stdout",
          "text": [
            "test1 0 printing 0 Thu Feb 16 06:00:52 2023\n",
            "test1 0 printing 1 Thu Feb 16 06:00:53 2023\n",
            "test1 0 printing 2 Thu Feb 16 06:00:54 2023\n",
            "test1 0 printing 3 Thu Feb 16 06:00:55 2023\n",
            "test1 0 printing 4 Thu Feb 16 06:00:56 2023\n",
            "test1 0 printing 5 Thu Feb 16 06:00:57 2023\n",
            "test1 0 printing 6 Thu Feb 16 06:00:58 2023\n",
            "test1 0 printing 7 Thu Feb 16 06:00:59 2023\n",
            "test1 0 printing 8 Thu Feb 16 06:01:00 2023\n",
            "test1 0 printing 9 Thu Feb 16 06:01:01 2023\n",
            "test1 1 printing 0 Thu Feb 16 06:01:02 2023\n",
            "test1 1 printing 1 Thu Feb 16 06:01:03 2023\n",
            "test1 1 printing 2 Thu Feb 16 06:01:04 2023\n",
            "test1 1 printing 3 Thu Feb 16 06:01:05 2023\n",
            "test1 1 printing 4 Thu Feb 16 06:01:06 2023\n",
            "test1 1 printing 5 Thu Feb 16 06:01:07 2023\n",
            "test1 1 printing 6 Thu Feb 16 06:01:08 2023\n",
            "test1 1 printing 7 Thu Feb 16 06:01:09 2023\n",
            "test1 1 printing 8 Thu Feb 16 06:01:10 2023\n",
            "test1 1 printing 9 Thu Feb 16 06:01:11 2023\n",
            "test1 2 printing 0 Thu Feb 16 06:01:12 2023\n",
            "test1 2 printing 1 Thu Feb 16 06:01:13 2023\n",
            "test1 2 printing 2 Thu Feb 16 06:01:14 2023\n",
            "test1 2 printing 3 Thu Feb 16 06:01:15 2023\n",
            "test1 2 printing 4 Thu Feb 16 06:01:16 2023\n",
            "test1 2 printing 5 Thu Feb 16 06:01:17 2023\n",
            "test1 2 printing 6 Thu Feb 16 06:01:18 2023\n",
            "test1 2 printing 7 Thu Feb 16 06:01:19 2023\n",
            "test1 2 printing 8 Thu Feb 16 06:01:20 2023\n",
            "test1 2 printing 9 Thu Feb 16 06:01:21 2023\n",
            "Main Thread Done\n"
          ]
        }
      ]
    },
    {
      "cell_type": "code",
      "source": [
        "shared_var  = 0\n",
        "lock_var = threading.Lock()\n",
        "\n",
        "def test2(id):\n",
        "  global shared_var\n",
        "  with lock_var:\n",
        "     shared_var = shared_var + 1\n",
        "     print(\"Test 2 with ID %d has increased the shared variable(%d) by %d\" %(id,shared_var,1))\n",
        "     time.sleep(1)"
      ],
      "metadata": {
        "id": "peJZBor-aEe6"
      },
      "execution_count": 11,
      "outputs": []
    },
    {
      "cell_type": "code",
      "source": [
        "gthreads = [threading.Thread(target=test2 , args  = (i,)) for i in range(3)]"
      ],
      "metadata": {
        "id": "WQ-AhndUcfXv"
      },
      "execution_count": 12,
      "outputs": []
    },
    {
      "cell_type": "code",
      "source": [
        "gthreads"
      ],
      "metadata": {
        "colab": {
          "base_uri": "https://localhost:8080/"
        },
        "id": "GbgRbHFdctQA",
        "outputId": "c836db97-1eba-4fa6-a3f1-ddabf480ab09"
      },
      "execution_count": 13,
      "outputs": [
        {
          "output_type": "execute_result",
          "data": {
            "text/plain": [
              "[<Thread(Thread-20, initial)>,\n",
              " <Thread(Thread-21, initial)>,\n",
              " <Thread(Thread-22, initial)>]"
            ]
          },
          "metadata": {},
          "execution_count": 13
        }
      ]
    },
    {
      "cell_type": "code",
      "source": [
        "for ts in gthreads:\n",
        "  ts.start()"
      ],
      "metadata": {
        "colab": {
          "base_uri": "https://localhost:8080/"
        },
        "id": "_78g6ajQcuUL",
        "outputId": "68fc8615-ee6a-40db-ab41-ce2680cef092"
      },
      "execution_count": 14,
      "outputs": [
        {
          "output_type": "stream",
          "name": "stdout",
          "text": [
            "Test 2 with ID 0 has increased the shared variable(1) by 1\n"
          ]
        }
      ]
    },
    {
      "cell_type": "code",
      "source": [
        "import threading"
      ],
      "metadata": {
        "id": "KW_371DRdDVH"
      },
      "execution_count": 1,
      "outputs": []
    },
    {
      "cell_type": "code",
      "source": [
        "import time\n",
        "def print_cube(num):\n",
        "  time.sleep(2)\n",
        "  print(\"Cube : {}\".format(num ** 3))\n",
        "\n",
        "\n",
        "def print_square(num):\n",
        "  time.sleep(2)\n",
        "  print(\"Square : {}\".format(num ** 2))\n",
        "\n",
        "\n",
        "if __name__ == \"__main__\":\n",
        "  t1 = threading.Thread(target = print_square,args = (10,))\n",
        "  t2 = threading.Thread(target = print_cube,args = (10,))\n",
        "\n",
        "  t1.start()\n",
        "  t2.start()\n",
        "\n",
        "  #t1.join()\n",
        "  #t2.join()\n",
        "\n",
        "  print('Done!')"
      ],
      "metadata": {
        "colab": {
          "base_uri": "https://localhost:8080/"
        },
        "id": "CgSjkcuhd6pM",
        "outputId": "feff9c52-c863-499a-d6f4-9009fcf21e1a"
      },
      "execution_count": 10,
      "outputs": [
        {
          "output_type": "stream",
          "name": "stdout",
          "text": [
            "Done!\n"
          ]
        }
      ]
    },
    {
      "cell_type": "code",
      "source": [
        "|"
      ],
      "metadata": {
        "id": "wJS8WdsUefb8"
      },
      "execution_count": null,
      "outputs": []
    }
  ]
}