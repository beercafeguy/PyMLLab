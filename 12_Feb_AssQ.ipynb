{
  "nbformat": 4,
  "nbformat_minor": 0,
  "metadata": {
    "colab": {
      "provenance": [],
      "authorship_tag": "ABX9TyOiAJ1gmF348eLOE5lf2CWL",
      "include_colab_link": true
    },
    "kernelspec": {
      "name": "python3",
      "display_name": "Python 3"
    },
    "language_info": {
      "name": "python"
    }
  },
  "cells": [
    {
      "cell_type": "markdown",
      "metadata": {
        "id": "view-in-github",
        "colab_type": "text"
      },
      "source": [
        "<a href=\"https://colab.research.google.com/github/beercafeguy/PyMLLab/blob/master/12_Feb_AssQ.ipynb\" target=\"_parent\"><img src=\"https://colab.research.google.com/assets/colab-badge.svg\" alt=\"Open In Colab\"/></a>"
      ]
    },
    {
      "cell_type": "markdown",
      "source": [
        "**Q1.** What is an Exception in python? Write the differen between Exceptions\n",
        "and Syntax errors."
      ],
      "metadata": {
        "id": "K725SlUe1pt5"
      }
    },
    {
      "cell_type": "markdown",
      "source": [
        "**Ans:**\n",
        "\n",
        "Exception are basically a kind of run time errors which can be handeled by program like DivideByZero error. In case we receive an input which devides the integer value by 0, it should throw an exception and proceed to next step. There are other kind of errors like OutOfMemoryError which can't be handeled by program itself. Those are not exceptions. Syntex error are erros which are introduced by programmer by violeting any rule of writing python program. The only way to handle those errors is that we fix those before running the program"
      ],
      "metadata": {
        "id": "UH_ndhKz19EM"
      }
    },
    {
      "cell_type": "markdown",
      "source": [
        "**Q2.** What happens when an exception is not handled? Explain with an example."
      ],
      "metadata": {
        "id": "vHWHXVlt3K5T"
      }
    },
    {
      "cell_type": "markdown",
      "source": [
        "**Ans:**\n",
        "\n",
        "When an exception is not handeled, it will stop the execution of that program at that point."
      ],
      "metadata": {
        "id": "yFnyMRB33NHT"
      }
    },
    {
      "cell_type": "code",
      "execution_count": 2,
      "metadata": {
        "colab": {
          "base_uri": "https://localhost:8080/",
          "height": 253
        },
        "id": "6MJ5x41k1mvL",
        "outputId": "c73ddf41-70a7-47dc-e896-a9a2ad07deff"
      },
      "outputs": [
        {
          "name": "stdout",
          "output_type": "stream",
          "text": [
            "Enter Num :10\n",
            "Enter Den :0\n"
          ]
        },
        {
          "output_type": "error",
          "ename": "ZeroDivisionError",
          "evalue": "ignored",
          "traceback": [
            "\u001b[0;31m---------------------------------------------------------------------------\u001b[0m",
            "\u001b[0;31mZeroDivisionError\u001b[0m                         Traceback (most recent call last)",
            "\u001b[0;32m<ipython-input-2-c766e3016c89>\u001b[0m in \u001b[0;36m<module>\u001b[0;34m\u001b[0m\n\u001b[1;32m      4\u001b[0m \u001b[0mnum\u001b[0m \u001b[0;34m=\u001b[0m \u001b[0mint\u001b[0m\u001b[0;34m(\u001b[0m\u001b[0minput\u001b[0m\u001b[0;34m(\u001b[0m\u001b[0;34m\"Enter Num :\"\u001b[0m\u001b[0;34m)\u001b[0m\u001b[0;34m)\u001b[0m\u001b[0;34m\u001b[0m\u001b[0;34m\u001b[0m\u001b[0m\n\u001b[1;32m      5\u001b[0m \u001b[0mden\u001b[0m \u001b[0;34m=\u001b[0m \u001b[0mint\u001b[0m\u001b[0;34m(\u001b[0m\u001b[0minput\u001b[0m\u001b[0;34m(\u001b[0m\u001b[0;34m\"Enter Den :\"\u001b[0m\u001b[0;34m)\u001b[0m\u001b[0;34m)\u001b[0m\u001b[0;34m\u001b[0m\u001b[0;34m\u001b[0m\u001b[0m\n\u001b[0;32m----> 6\u001b[0;31m \u001b[0mprint\u001b[0m\u001b[0;34m(\u001b[0m\u001b[0mdivide\u001b[0m\u001b[0;34m(\u001b[0m\u001b[0mnum\u001b[0m\u001b[0;34m/\u001b[0m\u001b[0mden\u001b[0m\u001b[0;34m)\u001b[0m\u001b[0;34m)\u001b[0m\u001b[0;34m\u001b[0m\u001b[0;34m\u001b[0m\u001b[0m\n\u001b[0m\u001b[1;32m      7\u001b[0m \u001b[0mprint\u001b[0m\u001b[0;34m(\u001b[0m\u001b[0;34m\"Devision Done.\"\u001b[0m\u001b[0;34m)\u001b[0m\u001b[0;34m\u001b[0m\u001b[0;34m\u001b[0m\u001b[0m\n",
            "\u001b[0;31mZeroDivisionError\u001b[0m: division by zero"
          ]
        }
      ],
      "source": [
        "def divide(num,den):\n",
        "  return num/den\n",
        "\n",
        "num = int(input(\"Enter Num :\"))\n",
        "den = int(input(\"Enter Den :\"))\n",
        "print(divide(num/den))\n",
        "print(\"Devision Done.\")"
      ]
    },
    {
      "cell_type": "markdown",
      "source": [
        "Here we see that the program execution is stopped at the line where we got the exception and next line is not executed."
      ],
      "metadata": {
        "id": "APl-bHJC3qA4"
      }
    },
    {
      "cell_type": "markdown",
      "source": [
        "**Q3.** Which Python statements are used to catch and handle exceptions. Explain with an example."
      ],
      "metadata": {
        "id": "SBL-Zxo530Vn"
      }
    },
    {
      "cell_type": "markdown",
      "source": [
        "**Ans**\n",
        "\n",
        "We have 4 main statements in an exception handeling scenerio.\n",
        "1. try : this is to accomodate the code which might throw an exception\n",
        "2. except: this is to handle the exception if it arises.\n",
        "3. else: execute of no exception arises.\n",
        "4. finally: always execute irrespective of exception or no exception. \n",
        "\n",
        "Example:"
      ],
      "metadata": {
        "id": "7V6_cZFs39oS"
      }
    },
    {
      "cell_type": "code",
      "source": [
        "# Casting year of birth to int\n",
        "\n",
        "try:\n",
        "  yob = int(input(\"Enter your year of birth :\"))\n",
        "except Exception as e:\n",
        "  print(\"Something wrong with Year of Birth \",e)\n",
        "else:\n",
        "  print(\"Year of birth  = \",yob)\n",
        "finally:\n",
        "  print(\"Program Finished\")\n"
      ],
      "metadata": {
        "colab": {
          "base_uri": "https://localhost:8080/"
        },
        "id": "Pet3lvX83aQl",
        "outputId": "55656a72-9ea9-4287-9f9a-07f1fa937b6d"
      },
      "execution_count": 3,
      "outputs": [
        {
          "output_type": "stream",
          "name": "stdout",
          "text": [
            "Enter your year of birth :1991\n",
            "Year of birth  =  1991\n",
            "Program Finished\n"
          ]
        }
      ]
    },
    {
      "cell_type": "code",
      "source": [
        "# Casting year of birth to int\n",
        "\n",
        "try: # main code block\n",
        "  yob = int(input(\"Enter your year of birth :\"))\n",
        "except Exception as e: # this will execute when we have an exception\n",
        "  print(\"Something wrong with Year of Birth \",e) \n",
        "else: # this will only execute if we don't have any exception\n",
        "  print(\"Year of birth  = \",yob) \n",
        "finally: # this block will always execute (either exception or no exception)\n",
        "  print(\"Program Finished\") "
      ],
      "metadata": {
        "colab": {
          "base_uri": "https://localhost:8080/"
        },
        "id": "xQsrI1lP5Erk",
        "outputId": "aa789b07-3893-49f0-a0d0-badb70009040"
      },
      "execution_count": 5,
      "outputs": [
        {
          "output_type": "stream",
          "name": "stdout",
          "text": [
            "Enter your year of birth :djsljd\n",
            "Something wrong with Year of Birth  invalid literal for int() with base 10: 'djsljd'\n",
            "Program Finished\n"
          ]
        }
      ]
    },
    {
      "cell_type": "markdown",
      "source": [
        "**Q4:**\n",
        "Explain with an example. <br>\n",
        "a. try and else <br>\n",
        "b. finally <br>\n",
        "c. raise <br>\n"
      ],
      "metadata": {
        "id": "UgWWAuo55hse"
      }
    },
    {
      "cell_type": "code",
      "source": [
        "# here we will ask for an input as years of experience for an interview candidate\n",
        "# if year of experience is less then 0 or more then 50 years\n",
        "# will raise an ValueError\n",
        "# else will release the interview email\n",
        "\n",
        "try:\n",
        "  yoe = int(input(\"Enter your experience (Number of years ) : \"))\n",
        "  if yoe < 0 or yoe > 50:\n",
        "    raise ValueError(\" Invalid years of experience as \",yoe)\n",
        "except Exception as e:\n",
        "  print(\"Invalid value in years of experience \",e)\n",
        "else:\n",
        "  print(\"Years of experience : \",yoe)\n",
        "  print(\"Sending Interview email\")\n",
        "finally:\n",
        "  print(\"Request Processed\")"
      ],
      "metadata": {
        "colab": {
          "base_uri": "https://localhost:8080/"
        },
        "id": "OknZH8bJ5IUJ",
        "outputId": "19763c9a-67db-4f89-92eb-341712fb0029"
      },
      "execution_count": 7,
      "outputs": [
        {
          "output_type": "stream",
          "name": "stdout",
          "text": [
            "Enter your experience (Number of years ) : 10\n",
            "Years of experience :  10\n",
            "Sending Interview email\n",
            "Request Processed\n"
          ]
        }
      ]
    },
    {
      "cell_type": "code",
      "source": [
        "try:\n",
        "  yoe = int(input(\"Enter your experience (Number of years ) : \"))\n",
        "  if yoe < 0 or yoe > 50:\n",
        "    raise ValueError(\" Invalid years of experience as \",yoe)\n",
        "except Exception as e:\n",
        "  print(\"Invalid value in years of experience \",e)\n",
        "else:\n",
        "  print(\"Years of experience : \",yoe)\n",
        "  print(\"Sending Interview email\")\n",
        "finally:\n",
        "  print(\"Request Processed\")"
      ],
      "metadata": {
        "colab": {
          "base_uri": "https://localhost:8080/"
        },
        "id": "U3PEPHPQ6JKG",
        "outputId": "508736bc-09b5-4383-f6d7-61f36f685ddf"
      },
      "execution_count": 8,
      "outputs": [
        {
          "output_type": "stream",
          "name": "stdout",
          "text": [
            "Enter your experience (Number of years ) : 66\n",
            "Invalid value in years of experience  (' Invalid years of experience as ', 66)\n",
            "Request Processed\n"
          ]
        }
      ]
    },
    {
      "cell_type": "markdown",
      "source": [
        "**Q5** What are custom exceptions in python ? Why do we need Custom Exceptions ? Explain with an Example."
      ],
      "metadata": {
        "id": "Rbzf9OGX7HYp"
      }
    },
    {
      "cell_type": "markdown",
      "source": [
        "**Ans:**\n",
        "\n",
        "Custom exception are the child classes of Exception in python which are created to raise some project specific Errors (exceptions to be precise). We use custom exceptions to make the error more specific to project. \n",
        "\n",
        "\n",
        "**Example**\n",
        "\n",
        "We need to create a function which takes email as an input and validates before passing the same to database. If the email format is not valid, we will throw a custom exception called InvalidEmailException"
      ],
      "metadata": {
        "id": "xOX9XQza7YIQ"
      }
    },
    {
      "cell_type": "code",
      "source": [
        "class InvalidEmailException(Exception):\n",
        "\n",
        "  def __init__(self,msz):\n",
        "    self.msz=msz\n",
        "\n",
        "email_regex = r'\\b[A-Za-z0-9._%+-]+@[A-Za-z0-9.-]+\\.[A-Z|a-z]{2,7}\\b'\n",
        "import re\n",
        "def validate_email(email):\n",
        "  if re.fullmatch(email_regex,email):\n",
        "    print(\"Valid Email\")\n",
        "    return True\n",
        "  else:\n",
        "    raise InvalidEmailException(\"Entered email is not valid\")\n",
        "\n",
        "try:\n",
        "  email_id = input(\"Enter your email ID \")\n",
        "  is_email_valid = validate_email(email_id)\n",
        "  if is_email_valid:\n",
        "    print(\"Writing to database\")\n",
        "except InvalidEmailException as e:\n",
        "  print(\"Invalid email\",e)"
      ],
      "metadata": {
        "colab": {
          "base_uri": "https://localhost:8080/"
        },
        "id": "qdBMOKYl6-vJ",
        "outputId": "3b8f3780-b708-4cc3-88fc-d69d18f2750a"
      },
      "execution_count": 10,
      "outputs": [
        {
          "output_type": "stream",
          "name": "stdout",
          "text": [
            "Enter your email ID hem@gmail.com\n",
            "Valid Email\n",
            "Writing to database\n"
          ]
        }
      ]
    },
    {
      "cell_type": "code",
      "source": [
        "class InvalidEmailException(Exception):\n",
        "\n",
        "  def __init__(self,msz):\n",
        "    self.msz=msz\n",
        "\n",
        "email_regex = r'\\b[A-Za-z0-9._%+-]+@[A-Za-z0-9.-]+\\.[A-Z|a-z]{2,7}\\b'\n",
        "import re\n",
        "def validate_email(email):\n",
        "  if re.fullmatch(email_regex,email):\n",
        "    print(\"Valid Email\")\n",
        "    return True\n",
        "  else:\n",
        "    raise InvalidEmailException(\"Entered email is not valid\")\n",
        "\n",
        "try:\n",
        "  email_id = input(\"Enter your email ID \")\n",
        "  is_email_valid = validate_email(email_id)\n",
        "  if is_email_valid:\n",
        "    print(\"Writing to database\")\n",
        "except InvalidEmailException as e:\n",
        "  print(\"Invalid email\",e)"
      ],
      "metadata": {
        "colab": {
          "base_uri": "https://localhost:8080/"
        },
        "id": "mxTt8TPGEEoY",
        "outputId": "0934671f-910f-4a7b-d5f9-9819c91ed2e0"
      },
      "execution_count": 11,
      "outputs": [
        {
          "output_type": "stream",
          "name": "stdout",
          "text": [
            "Enter your email ID hem.com\n",
            "Invalid email Entered email is not valid\n"
          ]
        }
      ]
    },
    {
      "cell_type": "markdown",
      "source": [
        "**Q6**\n",
        "\n",
        "Create a custom exception class and use this class to handle an exception."
      ],
      "metadata": {
        "id": "EboTQMGGEru9"
      }
    },
    {
      "cell_type": "code",
      "source": [
        "class InvalidGeoException(Exception):\n",
        "\n",
        "  def __init__(self,msz):\n",
        "    self.msz=msz\n",
        "\n",
        "valid_geos = ['IN','USA']\n",
        "for i in range(2):\n",
        "  try:\n",
        "    geo = input(\"Enter source country name :\")\n",
        "    if geo in valid_geos:\n",
        "      print(\"Valid Geo.. proceed\")\n",
        "    else:\n",
        "      raise InvalidGeoException(\"As of now geo {} is not supported.\".format(geo))\n",
        "  except Exception as e:\n",
        "    print(\"Exception \",e)"
      ],
      "metadata": {
        "colab": {
          "base_uri": "https://localhost:8080/"
        },
        "id": "6-X8YXE-EbeE",
        "outputId": "a5380528-9baa-488d-9503-c4a921f2ff42"
      },
      "execution_count": 15,
      "outputs": [
        {
          "output_type": "stream",
          "name": "stdout",
          "text": [
            "Enter source country name :PAK\n",
            "Exception  As of now geo PAK is not supported.\n",
            "Enter source country name :IN\n",
            "Valid Geo.. proceed\n"
          ]
        }
      ]
    },
    {
      "cell_type": "code",
      "source": [],
      "metadata": {
        "id": "btJCkixQFo9u"
      },
      "execution_count": null,
      "outputs": []
    }
  ]
}