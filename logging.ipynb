{
  "nbformat": 4,
  "nbformat_minor": 0,
  "metadata": {
    "colab": {
      "provenance": [],
      "authorship_tag": "ABX9TyMEu+yNSygq40FpyNGaIqfa",
      "include_colab_link": true
    },
    "kernelspec": {
      "name": "python3",
      "display_name": "Python 3"
    },
    "language_info": {
      "name": "python"
    }
  },
  "cells": [
    {
      "cell_type": "markdown",
      "metadata": {
        "id": "view-in-github",
        "colab_type": "text"
      },
      "source": [
        "<a href=\"https://colab.research.google.com/github/beercafeguy/PyMLLab/blob/master/logging.ipynb\" target=\"_parent\"><img src=\"https://colab.research.google.com/assets/colab-badge.svg\" alt=\"Open In Colab\"/></a>"
      ]
    },
    {
      "cell_type": "code",
      "execution_count": 1,
      "metadata": {
        "colab": {
          "base_uri": "https://localhost:8080/"
        },
        "id": "A1t3P3ToejZA",
        "outputId": "6b35e0ba-82d2-4ffa-c9c3-6e6374c61e34"
      },
      "outputs": [
        {
          "output_type": "stream",
          "name": "stdout",
          "text": [
            "This is my print\n"
          ]
        }
      ],
      "source": [
        "print(\"This is my print\")"
      ]
    },
    {
      "cell_type": "code",
      "source": [
        "import logging"
      ],
      "metadata": {
        "id": "GMkMGOkkjGgo"
      },
      "execution_count": 2,
      "outputs": []
    },
    {
      "cell_type": "code",
      "source": [
        "logging.basicConfig(filename=\"./sample.log\",level=logging.INFO,force=True)"
      ],
      "metadata": {
        "id": "uoMy9ffzjgLo"
      },
      "execution_count": 7,
      "outputs": []
    },
    {
      "cell_type": "code",
      "source": [
        "logging.info(\"Log this execution line\")"
      ],
      "metadata": {
        "id": "dVl6agk7jxo7"
      },
      "execution_count": 8,
      "outputs": []
    },
    {
      "cell_type": "code",
      "source": [
        "!ls -ltr"
      ],
      "metadata": {
        "colab": {
          "base_uri": "https://localhost:8080/"
        },
        "id": "ynmr7K06j1q8",
        "outputId": "373f1da3-c4d6-4ea6-c96b-ddebb8cff03d"
      },
      "execution_count": 9,
      "outputs": [
        {
          "output_type": "stream",
          "name": "stdout",
          "text": [
            "total 8\n",
            "drwxr-xr-x 1 root root 4096 Feb 13 14:35 sample_data\n",
            "-rw-r--r-- 1 root root   34 Feb 15 05:39 sample.log\n"
          ]
        }
      ]
    },
    {
      "cell_type": "code",
      "source": [
        "# 1 NOTSET\n",
        "# 2 DEBUG\n",
        "# 3 INFO\n",
        "# 4 WARNING\n",
        "# 5 ERROR\n",
        "# 6 CRITICAL"
      ],
      "metadata": {
        "id": "x-TjBTt5j7Tu"
      },
      "execution_count": 6,
      "outputs": []
    },
    {
      "cell_type": "code",
      "source": [
        "logging.debug('This is my debug message')"
      ],
      "metadata": {
        "id": "4QduLYAwkX8X"
      },
      "execution_count": 11,
      "outputs": []
    },
    {
      "cell_type": "code",
      "source": [
        "!cat sample.log"
      ],
      "metadata": {
        "colab": {
          "base_uri": "https://localhost:8080/"
        },
        "id": "fRBfoZcdljyK",
        "outputId": "d827bfad-295c-46bc-a9fd-939f3b3808f3"
      },
      "execution_count": 12,
      "outputs": [
        {
          "output_type": "stream",
          "name": "stdout",
          "text": [
            "INFO:root:Log this execution line\n"
          ]
        }
      ]
    },
    {
      "cell_type": "code",
      "source": [
        "logging.error('This is my ERROR message')"
      ],
      "metadata": {
        "id": "iJE5Jv3Klpjk"
      },
      "execution_count": 13,
      "outputs": []
    },
    {
      "cell_type": "code",
      "source": [
        "!cat sample.log"
      ],
      "metadata": {
        "colab": {
          "base_uri": "https://localhost:8080/"
        },
        "id": "6x3xf59Flt0J",
        "outputId": "fb477e43-326d-451b-b78d-f0e61f497b04"
      },
      "execution_count": 14,
      "outputs": [
        {
          "output_type": "stream",
          "name": "stdout",
          "text": [
            "INFO:root:Log this execution line\n",
            "ERROR:root:This is my ERROR message\n"
          ]
        }
      ]
    },
    {
      "cell_type": "code",
      "source": [
        "import logging\n",
        "logging.basicConfig(filename=\"./sample_1.log\",level=logging.INFO,format='%(levelname)s:%(asctime)s %(message)s',force=True)"
      ],
      "metadata": {
        "id": "84NV83bDlu0t"
      },
      "execution_count": 10,
      "outputs": []
    },
    {
      "cell_type": "code",
      "source": [],
      "metadata": {
        "id": "Heyd5tyhmxsu"
      },
      "execution_count": 10,
      "outputs": []
    },
    {
      "cell_type": "code",
      "source": [
        "logging.info(\"Log this execution line\")"
      ],
      "metadata": {
        "id": "TLjJz6iXmIZy"
      },
      "execution_count": 11,
      "outputs": []
    },
    {
      "cell_type": "code",
      "source": [
        "logging.shutdown()"
      ],
      "metadata": {
        "id": "93KnY-DpnJBH"
      },
      "execution_count": 12,
      "outputs": []
    },
    {
      "cell_type": "code",
      "source": [
        "import logging\n",
        "logging.basicConfig(filename=\"./sample_1.log\",level=logging.INFO,format='%(levelname)s:%(asctime)s %(message)s',force=True)\n",
        "logging.info(\"Log this execution line\")"
      ],
      "metadata": {
        "id": "c8BIXejNmJuW"
      },
      "execution_count": 13,
      "outputs": []
    },
    {
      "cell_type": "code",
      "source": [
        "!cat sample_1.log"
      ],
      "metadata": {
        "colab": {
          "base_uri": "https://localhost:8080/"
        },
        "id": "-uXMIsiPnMZ3",
        "outputId": "8630744e-7244-4ac2-a77f-4a8e0e5dc132"
      },
      "execution_count": 14,
      "outputs": [
        {
          "output_type": "stream",
          "name": "stdout",
          "text": [
            "2023-02-15 05:45:29,301 Log this execution line\n",
            "INFO:2023-02-15 05:47:09,635 Log this execution line\n"
          ]
        }
      ]
    },
    {
      "cell_type": "code",
      "source": [
        "logging.shutdown()"
      ],
      "metadata": {
        "id": "3_hQb6a6nPVt"
      },
      "execution_count": 15,
      "outputs": []
    },
    {
      "cell_type": "code",
      "source": [
        "import logging\n",
        "logging.basicConfig(filename=\"./sample_2.log\",level=logging.INFO,format='%(levelname)s:%(asctime)s : %(name)s : %(message)s',force=True)\n",
        "logging.info(\"Log this execution line\")"
      ],
      "metadata": {
        "id": "6V3NLi9TnXct"
      },
      "execution_count": 16,
      "outputs": []
    },
    {
      "cell_type": "code",
      "source": [
        "!cat sample_2.log"
      ],
      "metadata": {
        "colab": {
          "base_uri": "https://localhost:8080/"
        },
        "id": "BG6gt7wnnjWa",
        "outputId": "9319c4e1-fc12-41b1-ec71-513cbd7aa7f3"
      },
      "execution_count": 17,
      "outputs": [
        {
          "output_type": "stream",
          "name": "stdout",
          "text": [
            "INFO:2023-02-15 05:48:44,026 : root : Log this execution line\n"
          ]
        }
      ]
    },
    {
      "cell_type": "code",
      "source": [
        "logging.shutdown()"
      ],
      "metadata": {
        "id": "loSReURxou8j"
      },
      "execution_count": 20,
      "outputs": []
    },
    {
      "cell_type": "code",
      "source": [
        "import logging\n",
        "logging.basicConfig(filename=\"./sample_3.log\",level=logging.INFO,format='%(levelname)s:%(asctime)s : %(name)s : %(message)s',force=True)\n",
        "logging.info(\"Log this execution line\")"
      ],
      "metadata": {
        "id": "553KffQzovxO"
      },
      "execution_count": 21,
      "outputs": []
    },
    {
      "cell_type": "code",
      "source": [
        "l = [1,2,3,4,5,[1,2,3],\"Hem\",\"Aman\",10]\n",
        "\n",
        "l_int = []\n",
        "l_str = []\n",
        "for i in l:\n",
        "  logging.info(\"Iterating through list\")\n",
        "  if type(i) == list:\n",
        "    logging.info(\"List found, Iterating through inner list\")\n",
        "    for j in i:\n",
        "      if type(j) == int:\n",
        "        logging.info(\"Int found, Adding to int list\")\n",
        "        l_int.append(j)\n",
        "      elif type(j) == str:\n",
        "        logging.info(\"str found, Adding to str list\")\n",
        "        l_str.append(j)\n",
        "  elif type(i) == int:\n",
        "    logging.info(\"Int found, Adding to int list\")\n",
        "    l_int.append(i)\n",
        "  elif type(i) == str:\n",
        "    logging.info(\"str found, Adding to str list\")\n",
        "    l_str.append(i)\n",
        "\n",
        "print(l_int)\n",
        "print(l_str)"
      ],
      "metadata": {
        "colab": {
          "base_uri": "https://localhost:8080/"
        },
        "id": "iI9Bmtb2nlLe",
        "outputId": "43cacef5-81c3-4968-b6c2-932b389c889b"
      },
      "execution_count": 22,
      "outputs": [
        {
          "output_type": "stream",
          "name": "stdout",
          "text": [
            "[1, 2, 3, 4, 5, 1, 2, 3, 10]\n",
            "['Hem', 'Aman']\n"
          ]
        }
      ]
    },
    {
      "cell_type": "code",
      "source": [
        "!cat sample_3.log"
      ],
      "metadata": {
        "colab": {
          "base_uri": "https://localhost:8080/"
        },
        "id": "ZGm4IH4ion0d",
        "outputId": "1b0b41d1-9d7a-4162-89bd-54518f5aea91"
      },
      "execution_count": 23,
      "outputs": [
        {
          "output_type": "stream",
          "name": "stdout",
          "text": [
            "INFO:2023-02-15 05:55:29,518 : root : Log this execution line\n",
            "INFO:2023-02-15 05:55:32,190 : root : Iterating through list\n",
            "INFO:2023-02-15 05:55:32,191 : root : Int found, Adding to int list\n",
            "INFO:2023-02-15 05:55:32,192 : root : Iterating through list\n",
            "INFO:2023-02-15 05:55:32,192 : root : Int found, Adding to int list\n",
            "INFO:2023-02-15 05:55:32,192 : root : Iterating through list\n",
            "INFO:2023-02-15 05:55:32,192 : root : Int found, Adding to int list\n",
            "INFO:2023-02-15 05:55:32,192 : root : Iterating through list\n",
            "INFO:2023-02-15 05:55:32,192 : root : Int found, Adding to int list\n",
            "INFO:2023-02-15 05:55:32,193 : root : Iterating through list\n",
            "INFO:2023-02-15 05:55:32,193 : root : Int found, Adding to int list\n",
            "INFO:2023-02-15 05:55:32,193 : root : Iterating through list\n",
            "INFO:2023-02-15 05:55:32,193 : root : List found, Iterating through inner list\n",
            "INFO:2023-02-15 05:55:32,193 : root : Int found, Adding to int list\n",
            "INFO:2023-02-15 05:55:32,193 : root : Int found, Adding to int list\n",
            "INFO:2023-02-15 05:55:32,193 : root : Int found, Adding to int list\n",
            "INFO:2023-02-15 05:55:32,193 : root : Iterating through list\n",
            "INFO:2023-02-15 05:55:32,193 : root : str found, Adding to str list\n",
            "INFO:2023-02-15 05:55:32,193 : root : Iterating through list\n",
            "INFO:2023-02-15 05:55:32,193 : root : str found, Adding to str list\n",
            "INFO:2023-02-15 05:55:32,193 : root : Iterating through list\n",
            "INFO:2023-02-15 05:55:32,193 : root : Int found, Adding to int list\n"
          ]
        }
      ]
    },
    {
      "cell_type": "code",
      "source": [],
      "metadata": {
        "id": "u5JeIUoVpJyc"
      },
      "execution_count": null,
      "outputs": []
    }
  ]
}