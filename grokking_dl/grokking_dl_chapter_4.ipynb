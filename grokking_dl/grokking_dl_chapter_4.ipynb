{
  "nbformat": 4,
  "nbformat_minor": 0,
  "metadata": {
    "colab": {
      "provenance": [],
      "authorship_tag": "ABX9TyPY5mIaYy20gsUxcsu51oP9",
      "include_colab_link": true
    },
    "kernelspec": {
      "name": "python3",
      "display_name": "Python 3"
    },
    "language_info": {
      "name": "python"
    }
  },
  "cells": [
    {
      "cell_type": "markdown",
      "metadata": {
        "id": "view-in-github",
        "colab_type": "text"
      },
      "source": [
        "<a href=\"https://colab.research.google.com/github/beercafeguy/PyMLLab/blob/master/grokking_dl/grokking_dl_chapter_4.ipynb\" target=\"_parent\"><img src=\"https://colab.research.google.com/assets/colab-badge.svg\" alt=\"Open In Colab\"/></a>"
      ]
    },
    {
      "cell_type": "code",
      "execution_count": 1,
      "metadata": {
        "id": "KcQuPleilG_v"
      },
      "outputs": [],
      "source": [
        "import numpy as np"
      ]
    },
    {
      "cell_type": "code",
      "source": [
        "knob_weight = 0.5\n",
        "\n",
        "input = 0.5\n",
        "\n",
        "actual_op = 0.8\n",
        "\n",
        "pred = input * knob_weight\n",
        "error = (pred - actual_op) ** 2 # Mean Squared Error\n",
        "print(error)"
      ],
      "metadata": {
        "colab": {
          "base_uri": "https://localhost:8080/"
        },
        "id": "XlFedI_DmIzy",
        "outputId": "d95e4068-15b8-4961-83da-357ba3fc8db5"
      },
      "execution_count": 2,
      "outputs": [
        {
          "output_type": "stream",
          "name": "stdout",
          "text": [
            "0.30250000000000005\n"
          ]
        }
      ]
    },
    {
      "cell_type": "code",
      "source": [
        "weight = 0.1\n",
        "\n",
        "lr = 0.01\n",
        "\n",
        "def neural_network(input,weight):\n",
        "  return input * weight"
      ],
      "metadata": {
        "id": "JDXUwwotoH9A"
      },
      "execution_count": 3,
      "outputs": []
    },
    {
      "cell_type": "code",
      "source": [
        "#input\n",
        "number_of_toes = [8.5]\n",
        "\n",
        "# Actual output\n",
        "win_or_lose_binary = [1] # (won!!!)\n",
        "\n",
        "input = number_of_toes[0]\n",
        "actual_op = win_or_lose_binary[0]\n",
        "\n",
        "pred = neural_network(input,weight)\n",
        "print(pred)"
      ],
      "metadata": {
        "colab": {
          "base_uri": "https://localhost:8080/"
        },
        "id": "4LERfZZPmXcE",
        "outputId": "5023cd93-bcd0-4d2a-dd37-2adc73db2984"
      },
      "execution_count": 4,
      "outputs": [
        {
          "output_type": "stream",
          "name": "stdout",
          "text": [
            "0.8500000000000001\n"
          ]
        }
      ]
    },
    {
      "cell_type": "code",
      "source": [
        "raw_error = actual_op - pred\n",
        "mse_error = (raw_error) ** 2\n",
        "\n",
        "print('raw_error',raw_error)\n",
        "print('mse_error', mse_error)"
      ],
      "metadata": {
        "colab": {
          "base_uri": "https://localhost:8080/"
        },
        "id": "-5eiaMQaoWzE",
        "outputId": "365b8dea-7dc8-4f95-b937-afeef5d79ac9"
      },
      "execution_count": 5,
      "outputs": [
        {
          "output_type": "stream",
          "name": "stdout",
          "text": [
            "raw_error 0.1499999999999999\n",
            "mse_error 0.022499999999999975\n"
          ]
        }
      ]
    },
    {
      "cell_type": "code",
      "source": [
        "# lets increase and decrease the weight and see the error changing\n",
        "\n",
        "pred_up_weight = neural_network(input,weight+lr) # lr is learning rate\n",
        "raw_error = actual_op - pred_up_weight\n",
        "mse_error = (raw_error) ** 2\n",
        "\n",
        "print('mse_error when weight is increased' , mse_error)\n",
        "\n",
        "pred_up_weight = neural_network(input,weight - lr)\n",
        "raw_error = actual_op - pred_up_weight\n",
        "mse_error = (raw_error) ** 2\n",
        "\n",
        "print('mse_error when weight is decreased' , mse_error)"
      ],
      "metadata": {
        "colab": {
          "base_uri": "https://localhost:8080/"
        },
        "id": "fuAkHTgqokXZ",
        "outputId": "f43c5757-688a-4886-a440-f13dae480620"
      },
      "execution_count": 6,
      "outputs": [
        {
          "output_type": "stream",
          "name": "stdout",
          "text": [
            "mse_error when weight is increased 0.004224999999999993\n",
            "mse_error when weight is decreased 0.05522499999999994\n"
          ]
        }
      ]
    },
    {
      "cell_type": "code",
      "source": [
        "weight = 0.5\n",
        "\n",
        "input = 0.5\n",
        "\n",
        "actual_op = 0.8\n",
        "\n",
        "learning_rate = 0.1\n",
        "\n",
        "for epoch in range(1001):\n",
        "\n",
        "  pred = input * weight\n",
        "  error = (actual_op - pred) ** 2\n",
        "  print(f\"Error {error} | Prediction {pred} | Weight {weight}\")\n",
        "\n",
        "  if error <=0.00000001:\n",
        "    break\n",
        "\n",
        "  up_pred = input * (weight + learning_rate)\n",
        "  up_error = (actual_op - up_pred) ** 2\n",
        "\n",
        "  down_pred = input * (weight - learning_rate)\n",
        "  down_error = (actual_op - down_pred) ** 2\n",
        "\n",
        "  if down_error < up_error:\n",
        "    weight = weight - learning_rate\n",
        "  else:\n",
        "    weight = weight + learning_rate"
      ],
      "metadata": {
        "colab": {
          "base_uri": "https://localhost:8080/"
        },
        "id": "QoWoAhrJpFAQ",
        "outputId": "ebf93ab3-a97a-4284-db6a-d04427dddd5e"
      },
      "execution_count": 7,
      "outputs": [
        {
          "output_type": "stream",
          "name": "stdout",
          "text": [
            "Error 0.30250000000000005 | Prediction 0.25 | Weight 0.5\n",
            "Error 0.25 | Prediction 0.3 | Weight 0.6\n",
            "Error 0.20250000000000007 | Prediction 0.35 | Weight 0.7\n",
            "Error 0.16000000000000006 | Prediction 0.39999999999999997 | Weight 0.7999999999999999\n",
            "Error 0.12250000000000007 | Prediction 0.44999999999999996 | Weight 0.8999999999999999\n",
            "Error 0.09000000000000007 | Prediction 0.49999999999999994 | Weight 0.9999999999999999\n",
            "Error 0.06250000000000006 | Prediction 0.5499999999999999 | Weight 1.0999999999999999\n",
            "Error 0.04000000000000003 | Prediction 0.6 | Weight 1.2\n",
            "Error 0.022500000000000006 | Prediction 0.65 | Weight 1.3\n",
            "Error 0.009999999999999995 | Prediction 0.7000000000000001 | Weight 1.4000000000000001\n",
            "Error 0.0024999999999999935 | Prediction 0.7500000000000001 | Weight 1.5000000000000002\n",
            "Error 1.232595164407831e-32 | Prediction 0.8000000000000002 | Weight 1.6000000000000003\n"
          ]
        }
      ]
    },
    {
      "cell_type": "markdown",
      "source": [
        "### Calculating both direction and amount from error"
      ],
      "metadata": {
        "id": "GilJZhxHrZoI"
      }
    },
    {
      "cell_type": "code",
      "source": [
        "weight = 0.5\n",
        "goal_pred = 0.8\n",
        "input = 0.5\n",
        "\n",
        "\n",
        "for iteration in range(20):\n",
        "  pred = input * weight\n",
        "  error = (pred - goal_pred) ** 2\n",
        "  direction_and_amount = (pred - goal_pred) * input\n",
        "  weight = weight - direction_and_amount\n",
        "\n",
        "  print(f\"Error {error} | Prediction {pred}| direction_and_step_size {direction_and_amount}\")"
      ],
      "metadata": {
        "id": "ADSLeUHnqahe",
        "colab": {
          "base_uri": "https://localhost:8080/"
        },
        "outputId": "12813897-3f55-4925-b0d5-ff4706a2bc4d"
      },
      "execution_count": 8,
      "outputs": [
        {
          "output_type": "stream",
          "name": "stdout",
          "text": [
            "Error 0.30250000000000005 | Prediction 0.25| direction_and_step_size -0.275\n",
            "Error 0.17015625000000004 | Prediction 0.3875| direction_and_step_size -0.20625000000000002\n",
            "Error 0.095712890625 | Prediction 0.49062500000000003| direction_and_step_size -0.1546875\n",
            "Error 0.05383850097656251 | Prediction 0.56796875| direction_and_step_size -0.11601562500000001\n",
            "Error 0.03028415679931642 | Prediction 0.6259765625| direction_and_step_size -0.08701171875000002\n",
            "Error 0.0170348381996155 | Prediction 0.669482421875| direction_and_step_size -0.06525878906250004\n",
            "Error 0.00958209648728372 | Prediction 0.70211181640625| direction_and_step_size -0.04894409179687503\n",
            "Error 0.005389929274097089 | Prediction 0.7265838623046875| direction_and_step_size -0.03670806884765626\n",
            "Error 0.0030318352166796153 | Prediction 0.7449378967285156| direction_and_step_size -0.02753105163574221\n",
            "Error 0.0017054073093822882 | Prediction 0.7587034225463867| direction_and_step_size -0.020648288726806685\n",
            "Error 0.0009592916115275371 | Prediction 0.76902756690979| direction_and_step_size -0.015486216545105014\n",
            "Error 0.0005396015314842384 | Prediction 0.7767706751823426| direction_and_step_size -0.011614662408828746\n",
            "Error 0.000303525861459885 | Prediction 0.7825780063867569| direction_and_step_size -0.008710996806621574\n",
            "Error 0.00017073329707118678 | Prediction 0.7869335047900676| direction_and_step_size -0.006533247604966208\n",
            "Error 9.603747960254256e-05 | Prediction 0.7902001285925507| direction_and_step_size -0.004899935703724656\n",
            "Error 5.402108227642978e-05 | Prediction 0.7926500964444131| direction_and_step_size -0.003674951777793478\n",
            "Error 3.038685878049206e-05 | Prediction 0.7944875723333098| direction_and_step_size -0.0027562138333451225\n",
            "Error 1.7092608064027242e-05 | Prediction 0.7958656792499823| direction_and_step_size -0.0020671603750088696\n",
            "Error 9.614592036015323e-06 | Prediction 0.7968992594374867| direction_and_step_size -0.0015503702812566522\n",
            "Error 5.408208020258491e-06 | Prediction 0.7976744445781151| direction_and_step_size -0.0011627777109424753\n"
          ]
        }
      ]
    },
    {
      "cell_type": "markdown",
      "source": [
        "One iteration of gradient descent"
      ],
      "metadata": {
        "id": "0ta8Be6UtlwK"
      }
    },
    {
      "cell_type": "code",
      "source": [
        "weight = 0.1\n",
        "\n",
        "alpha = 0.01\n",
        "\n",
        "def neural_network(input, weight):\n",
        "  pred = input * weight\n",
        "  return pred"
      ],
      "metadata": {
        "id": "9gKSYGe6r5UX"
      },
      "execution_count": 9,
      "outputs": []
    },
    {
      "cell_type": "code",
      "source": [
        "number_of_toes = [8.5]\n",
        "win_or_lose_binary = [1]\n",
        "\n",
        "input = number_of_toes[0]\n",
        "goal_pred = win_or_lose_binary[0]\n",
        "\n",
        "pred = neural_network(input, weight)\n",
        "error  = (pred - goal_pred) ** 2\n",
        "\n",
        "\n",
        "delta = pred - goal_pred # this is also called raw error\n",
        "weight_delta = input * delta\n",
        "\n",
        "weight -= weight_delta * alpha\n",
        "\n",
        "print(f\"input {input} goal_pred {goal_pred} pred {pred} error {error} delta {delta} weight_delta {weight_delta} weight {weight}\")"
      ],
      "metadata": {
        "colab": {
          "base_uri": "https://localhost:8080/"
        },
        "id": "BY-ZJjx-txCL",
        "outputId": "891810d2-7ffd-4163-9e0f-b9c609d19c2e"
      },
      "execution_count": 10,
      "outputs": [
        {
          "output_type": "stream",
          "name": "stdout",
          "text": [
            "input 8.5 goal_pred 1 pred 0.8500000000000001 error 0.022499999999999975 delta -0.1499999999999999 weight_delta -1.2749999999999992 weight 0.11275\n"
          ]
        }
      ]
    },
    {
      "cell_type": "code",
      "source": [
        "weight, goal_pred, input, alpha = (0.0, 0.8, 0.5, 0.2)\n",
        "\n",
        "for i in range(100):\n",
        "  pred = input * weight\n",
        "  error  = (pred - goal_pred) ** 2\n",
        "  delta = pred - goal_pred # this is also called raw error\n",
        "  weight_delta = input * delta\n",
        "  weight -= weight_delta * alpha\n",
        "  print(\"Error:\" + str(error) + \" Prediction:\" + str(pred))"
      ],
      "metadata": {
        "colab": {
          "base_uri": "https://localhost:8080/"
        },
        "id": "LUUoJGD2uV5P",
        "outputId": "b89c0dbe-4212-4767-e1c0-1120d89cab40"
      },
      "execution_count": 11,
      "outputs": [
        {
          "output_type": "stream",
          "name": "stdout",
          "text": [
            "Error:0.6400000000000001 Prediction:0.0\n",
            "Error:0.5776 Prediction:0.04000000000000001\n",
            "Error:0.521284 Prediction:0.07800000000000001\n",
            "Error:0.4704588100000001 Prediction:0.11410000000000001\n",
            "Error:0.424589076025 Prediction:0.148395\n",
            "Error:0.38319164111256254 Prediction:0.18097525\n",
            "Error:0.34583045610408775 Prediction:0.2119264875\n",
            "Error:0.3121119866339392 Prediction:0.24133016312500002\n",
            "Error:0.28168106793713005 Prediction:0.26926365496875004\n",
            "Error:0.2542171638132599 Prediction:0.2958004722203125\n",
            "Error:0.22943099034146705 Prediction:0.3210104486092969\n",
            "Error:0.20706146878317402 Prediction:0.34495992617883203\n",
            "Error:0.18687297557681457 Prediction:0.36771192986989043\n",
            "Error:0.16865286045807518 Prediction:0.3893263333763959\n",
            "Error:0.15220920656341283 Prediction:0.4098600167075761\n",
            "Error:0.1373688089234801 Prediction:0.4293670158721973\n",
            "Error:0.12397535005344076 Prediction:0.44789866507858744\n",
            "Error:0.11188775342323028 Prediction:0.4655037318246581\n",
            "Error:0.10097869746446533 Prediction:0.4822285452334252\n",
            "Error:0.09113327446167999 Prediction:0.4981171179717539\n",
            "Error:0.08224778020166615 Prediction:0.5132112620731663\n",
            "Error:0.07422862163200372 Prediction:0.5275506989695079\n",
            "Error:0.06699133102288335 Prediction:0.5411731640210325\n",
            "Error:0.06045967624815223 Prediction:0.5541145058199809\n",
            "Error:0.05456485781395741 Prediction:0.5664087805289818\n",
            "Error:0.04924478417709655 Prediction:0.5780883415025327\n",
            "Error:0.044443417719829646 Prediction:0.5891839244274061\n",
            "Error:0.040110184492146275 Prediction:0.5997247282060357\n",
            "Error:0.03619944150416203 Prediction:0.6097384917957339\n",
            "Error:0.032669995957506234 Prediction:0.6192515672059472\n",
            "Error:0.029484671351649366 Prediction:0.6282889888456499\n",
            "Error:0.026609915894863563 Prediction:0.6368745394033674\n",
            "Error:0.02401544909511435 Prediction:0.645030812433199\n",
            "Error:0.021673942808340712 Prediction:0.652779271811539\n",
            "Error:0.01956073338452748 Prediction:0.6601403082209621\n",
            "Error:0.017653561879536043 Prediction:0.6671332928099141\n",
            "Error:0.015932339596281268 Prediction:0.6737766281694184\n",
            "Error:0.01437893648564383 Prediction:0.6800877967609475\n",
            "Error:0.012976990178293563 Prediction:0.6860834069229002\n",
            "Error:0.01171173363590995 Prediction:0.6917792365767551\n",
            "Error:0.010569839606408721 Prediction:0.6971902747479174\n",
            "Error:0.009539280244783876 Prediction:0.7023307610105215\n",
            "Error:0.008609200420917439 Prediction:0.7072142229599955\n",
            "Error:0.007769803379877982 Prediction:0.7118535118119957\n",
            "Error:0.007012247550339886 Prediction:0.7162608362213959\n",
            "Error:0.006328553414181744 Prediction:0.7204477944103261\n",
            "Error:0.0057115194562990185 Prediction:0.7244254046898099\n",
            "Error:0.005154646309309862 Prediction:0.7282041344553194\n",
            "Error:0.004652068294152144 Prediction:0.7317939277325535\n",
            "Error:0.004198491635472306 Prediction:0.7352042313459258\n",
            "Error:0.0037891387010137614 Prediction:0.7384440197786295\n",
            "Error:0.0034196976776649196 Prediction:0.741521818789698\n",
            "Error:0.003086277154092591 Prediction:0.7444457278502131\n",
            "Error:0.0027853651315685626 Prediction:0.7472234414577025\n",
            "Error:0.002513792031240626 Prediction:0.7498622693848174\n",
            "Error:0.002268697308194664 Prediction:0.7523691559155765\n",
            "Error:0.002047499320645686 Prediction:0.7547506981197977\n",
            "Error:0.0018478681368827362 Prediction:0.7570131632138077\n",
            "Error:0.0016677009935366712 Prediction:0.7591625050531173\n",
            "Error:0.0015051001466668418 Prediction:0.7612043798004615\n",
            "Error:0.0013583528823668239 Prediction:0.7631441608104385\n",
            "Error:0.0012259134763360558 Prediction:0.7649869527699166\n",
            "Error:0.00110638691239329 Prediction:0.7667376051314208\n",
            "Error:0.0009985141884349472 Prediction:0.7684007248748497\n",
            "Error:0.0009011590550625431 Prediction:0.7699806886311071\n",
            "Error:0.0008132960471939483 Prediction:0.7714816541995517\n",
            "Error:0.0007339996825925395 Prediction:0.7729075714895741\n",
            "Error:0.0006624347135397646 Prediction:0.7742621929150955\n",
            "Error:0.0005978473289696375 Prediction:0.7755490832693407\n",
            "Error:0.0005395572143951003 Prediction:0.7767716291058736\n",
            "Error:0.0004869503859915787 Prediction:0.7779330476505799\n",
            "Error:0.00043947272335740023 Prediction:0.7790363952680509\n",
            "Error:0.00039662413283005304 Prediction:0.7800845755046484\n",
            "Error:0.0003579532798791233 Prediction:0.781080346729416\n",
            "Error:0.0003230528350909094 Prediction:0.7820263293929451\n",
            "Error:0.0002915551836695467 Prediction:0.7829250129232979\n",
            "Error:0.0002631285532617666 Prediction:0.783778762277133\n",
            "Error:0.0002374735193187452 Prediction:0.7845898241632763\n",
            "Error:0.00021431985118516852 Prediction:0.7853603329551124\n",
            "Error:0.00019342366569461583 Prediction:0.7860923163073568\n",
            "Error:0.0001745648582893893 Prediction:0.786787700491989\n",
            "Error:0.00015754478460617275 Prediction:0.7874483154673896\n",
            "Error:0.00014218416810706996 Prediction:0.7880758996940201\n",
            "Error:0.00012832121171663053 Prediction:0.7886721047093191\n",
            "Error:0.00011580989357425965 Prediction:0.7892384994738532\n",
            "Error:0.0001045184289507699 Prediction:0.7897765745001605\n",
            "Error:9.432788212806929e-05 Prediction:0.7902877457751525\n",
            "Error:8.513091362058275e-05 Prediction:0.7907733584863949\n",
            "Error:7.683064954257661e-05 Prediction:0.7912346905620751\n",
            "Error:6.933966121217465e-05 Prediction:0.7916729560339714\n",
            "Error:6.257904424398841e-05 Prediction:0.7920893082322727\n",
            "Error:5.6477587430199456e-05 Prediction:0.7924848428206591\n",
            "Error:5.097102265575509e-05 Prediction:0.7928606006796262\n",
            "Error:4.600134794681972e-05 Prediction:0.7932175706456448\n",
            "Error:4.151621652200494e-05 Prediction:0.7935566921133625\n",
            "Error:3.746838541111e-05 Prediction:0.7938788575076944\n",
            "Error:3.381521783352671e-05 Prediction:0.7941849146323097\n",
            "Error:3.051823409475761e-05 Prediction:0.7944756689006942\n",
            "Error:2.7542706270519328e-05 Prediction:0.7947518854556594\n",
            "Error:2.4857292409143695e-05 Prediction:0.7950142911828765\n"
          ]
        }
      ]
    },
    {
      "cell_type": "markdown",
      "source": [
        "```error  = (pred - goal_pred) ** 2```\n",
        "\n",
        "above line can also be written as below: <br>\n",
        "\n",
        "```error  = ((input * weight) - goal_pred) ** 2```\n",
        "\n",
        "In above statement, input and goal_pred are constants as we already know both so if we change the equation accordingly,\n",
        "\n",
        "```error  = ((0.5 * weight) - 0.8) ** 2```\n",
        "\n",
        "This is the eqution, where error only depends on wwight. This is what we use in gradient decent curve."
      ],
      "metadata": {
        "id": "hxsRsd9cwzlu"
      }
    },
    {
      "cell_type": "code",
      "source": [
        "weight, goal_pred, input = (0.0, 0.8, 1.1)\n",
        "\n",
        "\n",
        "for iteration in range(8):\n",
        "  print(\"-----\\nWeight:\" + str(weight))\n",
        "  pred = input * weight\n",
        "  error = (pred - goal_pred) ** 2\n",
        "  delta = pred - goal_pred\n",
        "  weight_delta = delta * input\n",
        "  weight = weight - weight_delta\n",
        "  print(\"Error:\" + str(error) + \" Prediction:\" + str(pred))\n",
        "  print(\"Delta:\" + str(delta) + \" Weight Delta:\" + str(weight_delta))"
      ],
      "metadata": {
        "colab": {
          "base_uri": "https://localhost:8080/"
        },
        "id": "vT12LtBTvugk",
        "outputId": "cec5d0d5-03d9-471b-b3c8-5b5946ea387c"
      },
      "execution_count": 12,
      "outputs": [
        {
          "output_type": "stream",
          "name": "stdout",
          "text": [
            "-----\n",
            "Weight:0.0\n",
            "Error:0.6400000000000001 Prediction:0.0\n",
            "Delta:-0.8 Weight Delta:-0.8800000000000001\n",
            "-----\n",
            "Weight:0.8800000000000001\n",
            "Error:0.02822400000000005 Prediction:0.9680000000000002\n",
            "Delta:0.16800000000000015 Weight Delta:0.1848000000000002\n",
            "-----\n",
            "Weight:0.6951999999999999\n",
            "Error:0.0012446784000000064 Prediction:0.76472\n",
            "Delta:-0.03528000000000009 Weight Delta:-0.0388080000000001\n",
            "-----\n",
            "Weight:0.734008\n",
            "Error:5.4890317439999896e-05 Prediction:0.8074088\n",
            "Delta:0.007408799999999993 Weight Delta:0.008149679999999992\n",
            "-----\n",
            "Weight:0.72585832\n",
            "Error:2.4206629991042546e-06 Prediction:0.798444152\n",
            "Delta:-0.0015558480000000818 Weight Delta:-0.0017114328000000902\n",
            "-----\n",
            "Weight:0.7275697528\n",
            "Error:1.0675123826048965e-07 Prediction:0.80032672808\n",
            "Delta:0.00032672808000000497 Weight Delta:0.0003594008880000055\n",
            "-----\n",
            "Weight:0.727210351912\n",
            "Error:4.707729607278605e-09 Prediction:0.7999313871032001\n",
            "Delta:-6.861289679993554e-05 Weight Delta:-7.54741864799291e-05\n",
            "-----\n",
            "Weight:0.7272858260984799\n",
            "Error:2.0761087567900285e-10 Prediction:0.800014408708328\n",
            "Delta:1.440870832791763e-05 Weight Delta:1.5849579160709395e-05\n"
          ]
        }
      ]
    },
    {
      "cell_type": "markdown",
      "source": [
        "### Breaking gradient descent"
      ],
      "metadata": {
        "id": "K6YXi2fdHKse"
      }
    },
    {
      "cell_type": "code",
      "source": [
        "weight = 0.5\n",
        "goa_pred = 0.8\n",
        "\n",
        "input = 2.0\n",
        "\n",
        "for iter in range(20):\n",
        "\n",
        "  pred = input * weight\n",
        "  error = (pred - goa_pred) ** 2\n",
        "  delta = pred - goa_pred\n",
        "  weight_delta = input * delta\n",
        "  weight = weight - weight_delta # weight = weight - (alpha * derivative)\n",
        "  print(\"Error:\" + str(error) + \" Prediction:\" + str(pred))\n",
        "\n"
      ],
      "metadata": {
        "id": "H8kb71D2xqD-",
        "colab": {
          "base_uri": "https://localhost:8080/"
        },
        "outputId": "63721e80-f4cf-4875-ffe1-6732a9af81aa"
      },
      "execution_count": 14,
      "outputs": [
        {
          "output_type": "stream",
          "name": "stdout",
          "text": [
            "Error:0.03999999999999998 Prediction:1.0\n",
            "Error:0.3599999999999998 Prediction:0.20000000000000018\n",
            "Error:3.2399999999999984 Prediction:2.5999999999999996\n",
            "Error:29.159999999999986 Prediction:-4.599999999999999\n",
            "Error:262.4399999999999 Prediction:16.999999999999996\n",
            "Error:2361.959999999998 Prediction:-47.79999999999998\n",
            "Error:21257.639999999978 Prediction:146.59999999999994\n",
            "Error:191318.75999999983 Prediction:-436.5999999999998\n",
            "Error:1721868.839999999 Prediction:1312.9999999999995\n",
            "Error:15496819.559999991 Prediction:-3935.799999999999\n",
            "Error:139471376.03999993 Prediction:11810.599999999997\n",
            "Error:1255242384.3599997 Prediction:-35428.59999999999\n",
            "Error:11297181459.239996 Prediction:106288.99999999999\n",
            "Error:101674633133.15994 Prediction:-318863.79999999993\n",
            "Error:915071698198.4395 Prediction:956594.5999999997\n",
            "Error:8235645283785.954 Prediction:-2869780.599999999\n",
            "Error:74120807554073.56 Prediction:8609344.999999996\n",
            "Error:667087267986662.1 Prediction:-25828031.799999986\n",
            "Error:6003785411879960.0 Prediction:77484098.59999996\n",
            "Error:5.403406870691965e+16 Prediction:-232452292.5999999\n"
          ]
        }
      ]
    },
    {
      "cell_type": "markdown",
      "source": [
        "#### Introducing learning rate (alpha)"
      ],
      "metadata": {
        "id": "EnuID9FsI-cV"
      }
    },
    {
      "cell_type": "code",
      "source": [
        "weight = 0.5\n",
        "goa_pred = 0.8\n",
        "\n",
        "input = 9.0\n",
        "\n",
        "alpha = 0.01\n",
        "\n",
        "for iter in range(20):\n",
        "\n",
        "  pred = input * weight\n",
        "  error = (pred - goa_pred) ** 2\n",
        "  delta = pred - goa_pred\n",
        "  derivative = input * delta\n",
        "  weight = weight - (alpha * derivative) # weight = weight - (alpha * derivative)\n",
        "  print(\"Error:\" + str(error) + \" Prediction:\" + str(pred))\n",
        "\n"
      ],
      "metadata": {
        "colab": {
          "base_uri": "https://localhost:8080/"
        },
        "id": "lMhrzGnaHj4V",
        "outputId": "20c9c093-58ab-45d7-fc8d-7f8d66e08e67"
      },
      "execution_count": 18,
      "outputs": [
        {
          "output_type": "stream",
          "name": "stdout",
          "text": [
            "Error:13.690000000000001 Prediction:4.5\n",
            "Error:0.49420899999999884 Prediction:1.5029999999999992\n",
            "Error:0.017840944899999992 Prediction:0.93357\n",
            "Error:0.0006440581108899982 Prediction:0.8253783\n",
            "Error:2.325049780312929e-05 Prediction:0.8048218770000001\n",
            "Error:8.393429706929531e-07 Prediction:0.80091615663\n",
            "Error:3.030028124198546e-08 Prediction:0.8001740697597\n",
            "Error:1.0938401528431656e-09 Prediction:0.8000330732543431\n",
            "Error:3.948762951695458e-11 Prediction:0.8000062839183252\n",
            "Error:1.4255034254427612e-12 Prediction:0.8000011939444818\n",
            "Error:5.1460673671580066e-14 Prediction:0.8000002268494516\n",
            "Error:1.857730318682701e-15 Prediction:0.8000000431013958\n",
            "Error:6.706406559547482e-17 Prediction:0.8000000081892653\n",
            "Error:2.421012643619302e-18 Prediction:0.8000000015559604\n",
            "Error:8.73985859742769e-20 Prediction:0.8000000002956326\n",
            "Error:3.1550890783942483e-21 Prediction:0.8000000000561702\n",
            "Error:1.138990948878223e-22 Prediction:0.8000000000106724\n",
            "Error:4.111613246632478e-24 Prediction:0.8000000000020278\n",
            "Error:1.4841555115118252e-25 Prediction:0.8000000000003853\n",
            "Error:5.3691845361605116e-27 Prediction:0.8000000000000733\n"
          ]
        }
      ]
    },
    {
      "cell_type": "code",
      "source": [],
      "metadata": {
        "id": "Gc-UEyiBJOgS"
      },
      "execution_count": null,
      "outputs": []
    }
  ]
}