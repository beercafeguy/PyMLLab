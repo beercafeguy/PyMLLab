{
  "nbformat": 4,
  "nbformat_minor": 0,
  "metadata": {
    "colab": {
      "provenance": [],
      "authorship_tag": "ABX9TyNjKnR47pMJq3ejBoNgfXeY",
      "include_colab_link": true
    },
    "kernelspec": {
      "name": "python3",
      "display_name": "Python 3"
    },
    "language_info": {
      "name": "python"
    }
  },
  "cells": [
    {
      "cell_type": "markdown",
      "metadata": {
        "id": "view-in-github",
        "colab_type": "text"
      },
      "source": [
        "<a href=\"https://colab.research.google.com/github/beercafeguy/PyMLLab/blob/master/grokking_dl/grokking_dl_chapter_12.ipynb\" target=\"_parent\"><img src=\"https://colab.research.google.com/assets/colab-badge.svg\" alt=\"Open In Colab\"/></a>"
      ]
    },
    {
      "cell_type": "code",
      "execution_count": 1,
      "metadata": {
        "id": "Q3ZHgFHLS-CM"
      },
      "outputs": [],
      "source": [
        "import numpy as np"
      ]
    },
    {
      "cell_type": "code",
      "source": [
        "a = np.array([1,2,3])\n",
        "b = np.array([0.1,0.2,0.3])\n",
        "c = np.array([-1,-0.5,0])\n",
        "d = np.array([0,0,0])\n",
        "\n",
        "\n",
        "identity = np.eye(3)\n",
        "print(identity)"
      ],
      "metadata": {
        "colab": {
          "base_uri": "https://localhost:8080/"
        },
        "id": "mnNhOCEOTBNR",
        "outputId": "7fd745ec-c943-4b9d-f8b2-ddc33f0bd9ea"
      },
      "execution_count": 2,
      "outputs": [
        {
          "output_type": "stream",
          "name": "stdout",
          "text": [
            "[[1. 0. 0.]\n",
            " [0. 1. 0.]\n",
            " [0. 0. 1.]]\n"
          ]
        }
      ]
    },
    {
      "cell_type": "code",
      "source": [
        "print(a.dot(identity))"
      ],
      "metadata": {
        "colab": {
          "base_uri": "https://localhost:8080/"
        },
        "id": "gooQLsS5TRBW",
        "outputId": "872284b5-711c-4573-91e9-6084cf296313"
      },
      "execution_count": 3,
      "outputs": [
        {
          "output_type": "stream",
          "name": "stdout",
          "text": [
            "[1. 2. 3.]\n"
          ]
        }
      ]
    },
    {
      "cell_type": "code",
      "source": [
        "print(b.dot(identity))"
      ],
      "metadata": {
        "colab": {
          "base_uri": "https://localhost:8080/"
        },
        "id": "SaOYyOgyTV_i",
        "outputId": "b0d61226-d951-40e1-e98e-affeb04974d3"
      },
      "execution_count": 5,
      "outputs": [
        {
          "output_type": "stream",
          "name": "stdout",
          "text": [
            "[0.1 0.2 0.3]\n"
          ]
        }
      ]
    },
    {
      "cell_type": "code",
      "source": [
        "print(c.dot(identity))"
      ],
      "metadata": {
        "colab": {
          "base_uri": "https://localhost:8080/"
        },
        "id": "dsUnsdu-TYQz",
        "outputId": "518d5d23-c534-46a9-9b78-7b72f50adbc6"
      },
      "execution_count": 6,
      "outputs": [
        {
          "output_type": "stream",
          "name": "stdout",
          "text": [
            "[-1.  -0.5  0. ]\n"
          ]
        }
      ]
    },
    {
      "cell_type": "code",
      "source": [
        "print(d.dot(identity))"
      ],
      "metadata": {
        "colab": {
          "base_uri": "https://localhost:8080/"
        },
        "id": "tdr-WjXDTaL7",
        "outputId": "e4f10c0c-0534-4e70-92b3-8a1ce0aacaca"
      },
      "execution_count": 7,
      "outputs": [
        {
          "output_type": "stream",
          "name": "stdout",
          "text": [
            "[0. 0. 0.]\n"
          ]
        }
      ]
    },
    {
      "cell_type": "code",
      "source": [
        "this = np.array([2,4,6])\n",
        "movie = np.array([10,10,10])\n",
        "rocks = np.array([1,1,1])"
      ],
      "metadata": {
        "id": "3ygc9G43TbV6"
      },
      "execution_count": 8,
      "outputs": []
    },
    {
      "cell_type": "code",
      "source": [
        "print(this + movie + rocks)"
      ],
      "metadata": {
        "colab": {
          "base_uri": "https://localhost:8080/"
        },
        "id": "d0Q3ev2KTnQp",
        "outputId": "f3e4b5e0-b804-4264-fa50-dff5e796a69f"
      },
      "execution_count": 9,
      "outputs": [
        {
          "output_type": "stream",
          "name": "stdout",
          "text": [
            "[13 15 17]\n"
          ]
        }
      ]
    },
    {
      "cell_type": "code",
      "source": [
        "print((this.dot(identity) + movie).dot(identity)+rocks)"
      ],
      "metadata": {
        "colab": {
          "base_uri": "https://localhost:8080/"
        },
        "id": "EhciCkGMTp6w",
        "outputId": "816da55f-4add-45ed-ec87-67fb237afb3f"
      },
      "execution_count": 10,
      "outputs": [
        {
          "output_type": "stream",
          "name": "stdout",
          "text": [
            "[13. 15. 17.]\n"
          ]
        }
      ]
    },
    {
      "cell_type": "markdown",
      "source": [
        "Now if I change the order"
      ],
      "metadata": {
        "id": "Uf5uxhsqT56A"
      }
    },
    {
      "cell_type": "code",
      "source": [
        "print((rocks.dot(identity) + movie).dot(identity)+this)"
      ],
      "metadata": {
        "colab": {
          "base_uri": "https://localhost:8080/"
        },
        "id": "4LRe7a7rT1wQ",
        "outputId": "e431777c-508f-446a-b6ec-6e0667a9730a"
      },
      "execution_count": 11,
      "outputs": [
        {
          "output_type": "stream",
          "name": "stdout",
          "text": [
            "[13. 15. 17.]\n"
          ]
        }
      ]
    },
    {
      "cell_type": "markdown",
      "source": [
        "Generate sentence embedding using RNN"
      ],
      "metadata": {
        "id": "zd5BPpUAVIql"
      }
    },
    {
      "cell_type": "code",
      "source": [
        "import numpy as np\n",
        "\n",
        "def softmax(x_):\n",
        "  x = np.atleast_2d(x_)\n",
        "  temp = np.exp(x)\n",
        "  return temp / np.sum(temp, axis=1, keepdims=True)\n",
        "\n",
        "\n",
        "word_vects = {}\n",
        "word_vects['yankees'] = np.array([[0.,0.,0.]])\n",
        "word_vects['bears'] = np.array([[0.,0.,0.]])\n",
        "word_vects['braves'] = np.array([[0.,0.,0.]])\n",
        "word_vects['red'] = np.array([[0.,0.,0.]])\n",
        "word_vects['sox'] = np.array([[0.,0.,0.]])\n",
        "word_vects['lose'] = np.array([[0.,0.,0.]])\n",
        "word_vects['defeat'] = np.array([[0.,0.,0.]])\n",
        "word_vects['beat'] = np.array([[0.,0.,0.]])\n",
        "word_vects['tie'] = np.array([[0.,0.,0.]])\n",
        "\n",
        "\n",
        "sent2output = np.random.rand(3,len(word_vects)) #\n",
        "identity = np.eye(3)\n",
        "\n",
        "# forward propogation\n",
        "layer_0 = word_vects['red']\n",
        "layer_1 = layer_0.dot(identity) + word_vects['sox']\n",
        "layer_2 = layer_1.dot(identity) + word_vects['defeat']\n",
        "\n",
        "pred = softmax(layer_2.dot(sent2output))\n",
        "print(pred)"
      ],
      "metadata": {
        "colab": {
          "base_uri": "https://localhost:8080/"
        },
        "id": "CbtqLTsFT9jQ",
        "outputId": "dc681f83-96aa-412e-942b-50297c2639e0"
      },
      "execution_count": 13,
      "outputs": [
        {
          "output_type": "stream",
          "name": "stdout",
          "text": [
            "[[0.11111111 0.11111111 0.11111111 0.11111111 0.11111111 0.11111111\n",
            "  0.11111111 0.11111111 0.11111111]]\n"
          ]
        }
      ]
    },
    {
      "cell_type": "code",
      "source": [
        "y = np.array([1,0,0,0,0,0,0,0,0]) # Targets the one-hot vector for “yankees”\n",
        "\n",
        "pred_delta = pred - y\n",
        "\n",
        "layer_2_delta = pred_delta.dot(sent2output.T)\n",
        "defeat_delta = layer_2_delta * 1\n",
        "\n",
        "layer_1_delta = layer_2_delta.dot(identity.T)\n",
        "sox_delta = layer_1_delta * 1\n",
        "\n",
        "layer_0_delta = layer_1_delta.dot(identity.T)\n",
        "\n",
        "alpha = 0.01\n",
        "word_vects['red'] = word_vects['red'] - (layer_0_delta * alpha)\n",
        "word_vects['sox'] -= sox_delta * alpha\n",
        "word_vects['defeat'] -= defeat_delta * alpha\n",
        "\n",
        "\n",
        "\n",
        "identity -= np.outer(layer_0,layer_1_delta) * alpha\n",
        "identity -= np.outer(layer_1,layer_2_delta) * alpha\n",
        "sent2output -= np.outer(layer_2,pred_delta) * alpha\n",
        "\n"
      ],
      "metadata": {
        "id": "ePH2NHifVO6Y"
      },
      "execution_count": 14,
      "outputs": []
    },
    {
      "cell_type": "code",
      "source": [
        "!wget http://www.thespermwhale.com/jaseweston/babi/tasks_1-20_v1-1.tar.gz tar tasks_1-20_v1-1.tar.gz"
      ],
      "metadata": {
        "colab": {
          "base_uri": "https://localhost:8080/"
        },
        "id": "haG5vYc2XQJt",
        "outputId": "3c9ca48e-bf07-4c1a-dcd9-3f30861eebb5"
      },
      "execution_count": 16,
      "outputs": [
        {
          "output_type": "stream",
          "name": "stdout",
          "text": [
            "--2024-02-20 02:34:22--  http://www.thespermwhale.com/jaseweston/babi/tasks_1-20_v1-1.tar.gz\n",
            "Resolving www.thespermwhale.com (www.thespermwhale.com)... 50.31.160.191\n",
            "Connecting to www.thespermwhale.com (www.thespermwhale.com)|50.31.160.191|:80... connected.\n",
            "HTTP request sent, awaiting response... 200 OK\n",
            "Length: 1282454 (1.2M) [application/x-gzip]\n",
            "Saving to: ‘tasks_1-20_v1-1.tar.gz’\n",
            "\n",
            "tasks_1-20_v1-1.tar 100%[===================>]   1.22M  6.69MB/s    in 0.2s    \n",
            "\n",
            "2024-02-20 02:34:22 (6.69 MB/s) - ‘tasks_1-20_v1-1.tar.gz’ saved [1282454/1282454]\n",
            "\n",
            "--2024-02-20 02:34:22--  http://tar/\n",
            "Resolving tar (tar)... failed: Name or service not known.\n",
            "wget: unable to resolve host address ‘tar’\n",
            "--2024-02-20 02:34:22--  http://tasks_1-20_v1-1.tar.gz/\n",
            "Resolving tasks_1-20_v1-1.tar.gz (tasks_1-20_v1-1.tar.gz)... failed: Name or service not known.\n",
            "wget: unable to resolve host address ‘tasks_1-20_v1-1.tar.gz’\n",
            "FINISHED --2024-02-20 02:34:22--\n",
            "Total wall clock time: 0.4s\n",
            "Downloaded: 1 files, 1.2M in 0.2s (6.69 MB/s)\n"
          ]
        }
      ]
    },
    {
      "cell_type": "code",
      "source": [
        "!tar -xvf tasks_1-20_v1-1.tar.gz"
      ],
      "metadata": {
        "colab": {
          "base_uri": "https://localhost:8080/"
        },
        "id": "uzXaYVrKXRQO",
        "outputId": "9dcf5151-ba30-4b27-88fa-63e419d58368"
      },
      "execution_count": 18,
      "outputs": [
        {
          "output_type": "stream",
          "name": "stdout",
          "text": [
            "tar: Ignoring unknown extended header keyword 'LIBARCHIVE.creationtime'\n",
            "tar: Ignoring unknown extended header keyword 'SCHILY.dev'\n",
            "tar: Ignoring unknown extended header keyword 'SCHILY.ino'\n",
            "tar: Ignoring unknown extended header keyword 'SCHILY.nlink'\n",
            "tasksv11/\n",
            "tar: Ignoring unknown extended header keyword 'SCHILY.dev'\n",
            "tar: Ignoring unknown extended header keyword 'SCHILY.ino'\n",
            "tar: Ignoring unknown extended header keyword 'SCHILY.nlink'\n",
            "tasksv11/en/\n",
            "tar: Ignoring unknown extended header keyword 'SCHILY.dev'\n",
            "tar: Ignoring unknown extended header keyword 'SCHILY.ino'\n",
            "tar: Ignoring unknown extended header keyword 'SCHILY.nlink'\n",
            "tasksv11/._LICENSE\n",
            "tar: Ignoring unknown extended header keyword 'LIBARCHIVE.creationtime'\n",
            "tar: Ignoring unknown extended header keyword 'SCHILY.dev'\n",
            "tar: Ignoring unknown extended header keyword 'SCHILY.ino'\n",
            "tar: Ignoring unknown extended header keyword 'SCHILY.nlink'\n",
            "tasksv11/LICENSE\n",
            "tar: Ignoring unknown extended header keyword 'SCHILY.dev'\n",
            "tar: Ignoring unknown extended header keyword 'SCHILY.ino'\n",
            "tar: Ignoring unknown extended header keyword 'SCHILY.nlink'\n",
            "tasksv11/README\n",
            "tar: Ignoring unknown extended header keyword 'SCHILY.dev'\n",
            "tar: Ignoring unknown extended header keyword 'SCHILY.ino'\n",
            "tar: Ignoring unknown extended header keyword 'SCHILY.nlink'\n",
            "tasksv11/shuffled/\n",
            "tar: Ignoring unknown extended header keyword 'SCHILY.dev'\n",
            "tar: Ignoring unknown extended header keyword 'SCHILY.ino'\n",
            "tar: Ignoring unknown extended header keyword 'SCHILY.nlink'\n",
            "tasksv11/shuffled/qa10_indefinite-knowledge_test.txt\n",
            "tar: Ignoring unknown extended header keyword 'SCHILY.dev'\n",
            "tar: Ignoring unknown extended header keyword 'SCHILY.ino'\n",
            "tar: Ignoring unknown extended header keyword 'SCHILY.nlink'\n",
            "tasksv11/shuffled/qa10_indefinite-knowledge_train.txt\n",
            "tar: Ignoring unknown extended header keyword 'SCHILY.dev'\n",
            "tar: Ignoring unknown extended header keyword 'SCHILY.ino'\n",
            "tar: Ignoring unknown extended header keyword 'SCHILY.nlink'\n",
            "tasksv11/shuffled/qa11_basic-coreference_test.txt\n",
            "tar: Ignoring unknown extended header keyword 'SCHILY.dev'\n",
            "tar: Ignoring unknown extended header keyword 'SCHILY.ino'\n",
            "tar: Ignoring unknown extended header keyword 'SCHILY.nlink'\n",
            "tasksv11/shuffled/qa11_basic-coreference_train.txt\n",
            "tar: Ignoring unknown extended header keyword 'SCHILY.dev'\n",
            "tar: Ignoring unknown extended header keyword 'SCHILY.ino'\n",
            "tar: Ignoring unknown extended header keyword 'SCHILY.nlink'\n",
            "tasksv11/shuffled/qa12_conjunction_test.txt\n",
            "tar: Ignoring unknown extended header keyword 'SCHILY.dev'\n",
            "tar: Ignoring unknown extended header keyword 'SCHILY.ino'\n",
            "tar: Ignoring unknown extended header keyword 'SCHILY.nlink'\n",
            "tasksv11/shuffled/qa12_conjunction_train.txt\n",
            "tar: Ignoring unknown extended header keyword 'SCHILY.dev'\n",
            "tar: Ignoring unknown extended header keyword 'SCHILY.ino'\n",
            "tar: Ignoring unknown extended header keyword 'SCHILY.nlink'\n",
            "tasksv11/shuffled/qa13_compound-coreference_test.txt\n",
            "tar: Ignoring unknown extended header keyword 'SCHILY.dev'\n",
            "tar: Ignoring unknown extended header keyword 'SCHILY.ino'\n",
            "tar: Ignoring unknown extended header keyword 'SCHILY.nlink'\n",
            "tasksv11/shuffled/qa13_compound-coreference_train.txt\n",
            "tar: Ignoring unknown extended header keyword 'SCHILY.dev'\n",
            "tar: Ignoring unknown extended header keyword 'SCHILY.ino'\n",
            "tar: Ignoring unknown extended header keyword 'SCHILY.nlink'\n",
            "tasksv11/shuffled/qa14_time-reasoning_test.txt\n",
            "tar: Ignoring unknown extended header keyword 'SCHILY.dev'\n",
            "tar: Ignoring unknown extended header keyword 'SCHILY.ino'\n",
            "tar: Ignoring unknown extended header keyword 'SCHILY.nlink'\n",
            "tasksv11/shuffled/qa14_time-reasoning_train.txt\n",
            "tar: Ignoring unknown extended header keyword 'SCHILY.dev'\n",
            "tar: Ignoring unknown extended header keyword 'SCHILY.ino'\n",
            "tar: Ignoring unknown extended header keyword 'SCHILY.nlink'\n",
            "tasksv11/shuffled/qa15_basic-deduction_test.txt\n",
            "tar: Ignoring unknown extended header keyword 'SCHILY.dev'\n",
            "tar: Ignoring unknown extended header keyword 'SCHILY.ino'\n",
            "tar: Ignoring unknown extended header keyword 'SCHILY.nlink'\n",
            "tasksv11/shuffled/qa15_basic-deduction_train.txt\n",
            "tar: Ignoring unknown extended header keyword 'SCHILY.dev'\n",
            "tar: Ignoring unknown extended header keyword 'SCHILY.ino'\n",
            "tar: Ignoring unknown extended header keyword 'SCHILY.nlink'\n",
            "tasksv11/shuffled/qa16_basic-induction_test.txt\n",
            "tar: Ignoring unknown extended header keyword 'SCHILY.dev'\n",
            "tar: Ignoring unknown extended header keyword 'SCHILY.ino'\n",
            "tar: Ignoring unknown extended header keyword 'SCHILY.nlink'\n",
            "tasksv11/shuffled/qa16_basic-induction_train.txt\n",
            "tar: Ignoring unknown extended header keyword 'SCHILY.dev'\n",
            "tar: Ignoring unknown extended header keyword 'SCHILY.ino'\n",
            "tar: Ignoring unknown extended header keyword 'SCHILY.nlink'\n",
            "tasksv11/shuffled/qa17_positional-reasoning_test.txt\n",
            "tar: Ignoring unknown extended header keyword 'SCHILY.dev'\n",
            "tar: Ignoring unknown extended header keyword 'SCHILY.ino'\n",
            "tar: Ignoring unknown extended header keyword 'SCHILY.nlink'\n",
            "tasksv11/shuffled/qa17_positional-reasoning_train.txt\n",
            "tar: Ignoring unknown extended header keyword 'SCHILY.dev'\n",
            "tar: Ignoring unknown extended header keyword 'SCHILY.ino'\n",
            "tar: Ignoring unknown extended header keyword 'SCHILY.nlink'\n",
            "tasksv11/shuffled/qa18_size-reasoning_test.txt\n",
            "tar: Ignoring unknown extended header keyword 'SCHILY.dev'\n",
            "tar: Ignoring unknown extended header keyword 'SCHILY.ino'\n",
            "tar: Ignoring unknown extended header keyword 'SCHILY.nlink'\n",
            "tasksv11/shuffled/qa18_size-reasoning_train.txt\n",
            "tar: Ignoring unknown extended header keyword 'SCHILY.dev'\n",
            "tar: Ignoring unknown extended header keyword 'SCHILY.ino'\n",
            "tar: Ignoring unknown extended header keyword 'SCHILY.nlink'\n",
            "tasksv11/shuffled/qa19_path-finding_test.txt\n",
            "tar: Ignoring unknown extended header keyword 'SCHILY.dev'\n",
            "tar: Ignoring unknown extended header keyword 'SCHILY.ino'\n",
            "tar: Ignoring unknown extended header keyword 'SCHILY.nlink'\n",
            "tasksv11/shuffled/qa19_path-finding_train.txt\n",
            "tar: Ignoring unknown extended header keyword 'SCHILY.dev'\n",
            "tar: Ignoring unknown extended header keyword 'SCHILY.ino'\n",
            "tar: Ignoring unknown extended header keyword 'SCHILY.nlink'\n",
            "tasksv11/shuffled/qa1_single-supporting-fact_test.txt\n",
            "tar: Ignoring unknown extended header keyword 'SCHILY.dev'\n",
            "tar: Ignoring unknown extended header keyword 'SCHILY.ino'\n",
            "tar: Ignoring unknown extended header keyword 'SCHILY.nlink'\n",
            "tasksv11/shuffled/qa1_single-supporting-fact_train.txt\n",
            "tar: Ignoring unknown extended header keyword 'SCHILY.dev'\n",
            "tar: Ignoring unknown extended header keyword 'SCHILY.ino'\n",
            "tar: Ignoring unknown extended header keyword 'SCHILY.nlink'\n",
            "tasksv11/shuffled/qa20_agents-motivations_test.txt\n",
            "tar: Ignoring unknown extended header keyword 'SCHILY.dev'\n",
            "tar: Ignoring unknown extended header keyword 'SCHILY.ino'\n",
            "tar: Ignoring unknown extended header keyword 'SCHILY.nlink'\n",
            "tasksv11/shuffled/qa20_agents-motivations_train.txt\n",
            "tar: Ignoring unknown extended header keyword 'SCHILY.dev'\n",
            "tar: Ignoring unknown extended header keyword 'SCHILY.ino'\n",
            "tar: Ignoring unknown extended header keyword 'SCHILY.nlink'\n",
            "tasksv11/shuffled/qa2_two-supporting-facts_test.txt\n",
            "tar: Ignoring unknown extended header keyword 'SCHILY.dev'\n",
            "tar: Ignoring unknown extended header keyword 'SCHILY.ino'\n",
            "tar: Ignoring unknown extended header keyword 'SCHILY.nlink'\n",
            "tasksv11/shuffled/qa2_two-supporting-facts_train.txt\n",
            "tar: Ignoring unknown extended header keyword 'SCHILY.dev'\n",
            "tar: Ignoring unknown extended header keyword 'SCHILY.ino'\n",
            "tar: Ignoring unknown extended header keyword 'SCHILY.nlink'\n",
            "tasksv11/shuffled/qa3_three-supporting-facts_test.txt\n",
            "tar: Ignoring unknown extended header keyword 'SCHILY.dev'\n",
            "tar: Ignoring unknown extended header keyword 'SCHILY.ino'\n",
            "tar: Ignoring unknown extended header keyword 'SCHILY.nlink'\n",
            "tasksv11/shuffled/qa3_three-supporting-facts_train.txt\n",
            "tar: Ignoring unknown extended header keyword 'SCHILY.dev'\n",
            "tar: Ignoring unknown extended header keyword 'SCHILY.ino'\n",
            "tar: Ignoring unknown extended header keyword 'SCHILY.nlink'\n",
            "tasksv11/shuffled/qa4_two-arg-relations_test.txt\n",
            "tar: Ignoring unknown extended header keyword 'SCHILY.dev'\n",
            "tar: Ignoring unknown extended header keyword 'SCHILY.ino'\n",
            "tar: Ignoring unknown extended header keyword 'SCHILY.nlink'\n",
            "tasksv11/shuffled/qa4_two-arg-relations_train.txt\n",
            "tar: Ignoring unknown extended header keyword 'SCHILY.dev'\n",
            "tar: Ignoring unknown extended header keyword 'SCHILY.ino'\n",
            "tar: Ignoring unknown extended header keyword 'SCHILY.nlink'\n",
            "tasksv11/shuffled/qa5_three-arg-relations_test.txt\n",
            "tar: Ignoring unknown extended header keyword 'SCHILY.dev'\n",
            "tar: Ignoring unknown extended header keyword 'SCHILY.ino'\n",
            "tar: Ignoring unknown extended header keyword 'SCHILY.nlink'\n",
            "tasksv11/shuffled/qa5_three-arg-relations_train.txt\n",
            "tar: Ignoring unknown extended header keyword 'SCHILY.dev'\n",
            "tar: Ignoring unknown extended header keyword 'SCHILY.ino'\n",
            "tar: Ignoring unknown extended header keyword 'SCHILY.nlink'\n",
            "tasksv11/shuffled/qa6_yes-no-questions_test.txt\n",
            "tar: Ignoring unknown extended header keyword 'SCHILY.dev'\n",
            "tar: Ignoring unknown extended header keyword 'SCHILY.ino'\n",
            "tar: Ignoring unknown extended header keyword 'SCHILY.nlink'\n",
            "tasksv11/shuffled/qa6_yes-no-questions_train.txt\n",
            "tar: Ignoring unknown extended header keyword 'SCHILY.dev'\n",
            "tar: Ignoring unknown extended header keyword 'SCHILY.ino'\n",
            "tar: Ignoring unknown extended header keyword 'SCHILY.nlink'\n",
            "tasksv11/shuffled/qa7_counting_test.txt\n",
            "tar: Ignoring unknown extended header keyword 'SCHILY.dev'\n",
            "tar: Ignoring unknown extended header keyword 'SCHILY.ino'\n",
            "tar: Ignoring unknown extended header keyword 'SCHILY.nlink'\n",
            "tasksv11/shuffled/qa7_counting_train.txt\n",
            "tar: Ignoring unknown extended header keyword 'SCHILY.dev'\n",
            "tar: Ignoring unknown extended header keyword 'SCHILY.ino'\n",
            "tar: Ignoring unknown extended header keyword 'SCHILY.nlink'\n",
            "tasksv11/shuffled/qa8_lists-sets_test.txt\n",
            "tar: Ignoring unknown extended header keyword 'SCHILY.dev'\n",
            "tar: Ignoring unknown extended header keyword 'SCHILY.ino'\n",
            "tar: Ignoring unknown extended header keyword 'SCHILY.nlink'\n",
            "tasksv11/shuffled/qa8_lists-sets_train.txt\n",
            "tar: Ignoring unknown extended header keyword 'SCHILY.dev'\n",
            "tar: Ignoring unknown extended header keyword 'SCHILY.ino'\n",
            "tar: Ignoring unknown extended header keyword 'SCHILY.nlink'\n",
            "tasksv11/shuffled/qa9_simple-negation_test.txt\n",
            "tar: Ignoring unknown extended header keyword 'SCHILY.dev'\n",
            "tar: Ignoring unknown extended header keyword 'SCHILY.ino'\n",
            "tar: Ignoring unknown extended header keyword 'SCHILY.nlink'\n",
            "tasksv11/shuffled/qa9_simple-negation_train.txt\n",
            "tar: Ignoring unknown extended header keyword 'SCHILY.dev'\n",
            "tar: Ignoring unknown extended header keyword 'SCHILY.ino'\n",
            "tar: Ignoring unknown extended header keyword 'SCHILY.nlink'\n",
            "tasksv11/en/qa10_indefinite-knowledge_test.txt\n",
            "tar: Ignoring unknown extended header keyword 'SCHILY.dev'\n",
            "tar: Ignoring unknown extended header keyword 'SCHILY.ino'\n",
            "tar: Ignoring unknown extended header keyword 'SCHILY.nlink'\n",
            "tasksv11/en/qa10_indefinite-knowledge_train.txt\n",
            "tar: Ignoring unknown extended header keyword 'SCHILY.dev'\n",
            "tar: Ignoring unknown extended header keyword 'SCHILY.ino'\n",
            "tar: Ignoring unknown extended header keyword 'SCHILY.nlink'\n",
            "tasksv11/en/qa11_basic-coreference_test.txt\n",
            "tar: Ignoring unknown extended header keyword 'SCHILY.dev'\n",
            "tar: Ignoring unknown extended header keyword 'SCHILY.ino'\n",
            "tar: Ignoring unknown extended header keyword 'SCHILY.nlink'\n",
            "tasksv11/en/qa11_basic-coreference_train.txt\n",
            "tar: Ignoring unknown extended header keyword 'SCHILY.dev'\n",
            "tar: Ignoring unknown extended header keyword 'SCHILY.ino'\n",
            "tar: Ignoring unknown extended header keyword 'SCHILY.nlink'\n",
            "tasksv11/en/qa12_conjunction_test.txt\n",
            "tar: Ignoring unknown extended header keyword 'SCHILY.dev'\n",
            "tar: Ignoring unknown extended header keyword 'SCHILY.ino'\n",
            "tar: Ignoring unknown extended header keyword 'SCHILY.nlink'\n",
            "tasksv11/en/qa12_conjunction_train.txt\n",
            "tar: Ignoring unknown extended header keyword 'SCHILY.dev'\n",
            "tar: Ignoring unknown extended header keyword 'SCHILY.ino'\n",
            "tar: Ignoring unknown extended header keyword 'SCHILY.nlink'\n",
            "tasksv11/en/qa13_compound-coreference_test.txt\n",
            "tar: Ignoring unknown extended header keyword 'SCHILY.dev'\n",
            "tar: Ignoring unknown extended header keyword 'SCHILY.ino'\n",
            "tar: Ignoring unknown extended header keyword 'SCHILY.nlink'\n",
            "tasksv11/en/qa13_compound-coreference_train.txt\n",
            "tar: Ignoring unknown extended header keyword 'SCHILY.dev'\n",
            "tar: Ignoring unknown extended header keyword 'SCHILY.ino'\n",
            "tar: Ignoring unknown extended header keyword 'SCHILY.nlink'\n",
            "tasksv11/en/qa14_time-reasoning_test.txt\n",
            "tar: Ignoring unknown extended header keyword 'SCHILY.dev'\n",
            "tar: Ignoring unknown extended header keyword 'SCHILY.ino'\n",
            "tar: Ignoring unknown extended header keyword 'SCHILY.nlink'\n",
            "tasksv11/en/qa14_time-reasoning_train.txt\n",
            "tar: Ignoring unknown extended header keyword 'SCHILY.dev'\n",
            "tar: Ignoring unknown extended header keyword 'SCHILY.ino'\n",
            "tar: Ignoring unknown extended header keyword 'SCHILY.nlink'\n",
            "tasksv11/en/qa15_basic-deduction_test.txt\n",
            "tar: Ignoring unknown extended header keyword 'SCHILY.dev'\n",
            "tar: Ignoring unknown extended header keyword 'SCHILY.ino'\n",
            "tar: Ignoring unknown extended header keyword 'SCHILY.nlink'\n",
            "tasksv11/en/qa15_basic-deduction_train.txt\n",
            "tar: Ignoring unknown extended header keyword 'SCHILY.dev'\n",
            "tar: Ignoring unknown extended header keyword 'SCHILY.ino'\n",
            "tar: Ignoring unknown extended header keyword 'SCHILY.nlink'\n",
            "tasksv11/en/qa16_basic-induction_test.txt\n",
            "tar: Ignoring unknown extended header keyword 'SCHILY.dev'\n",
            "tar: Ignoring unknown extended header keyword 'SCHILY.ino'\n",
            "tar: Ignoring unknown extended header keyword 'SCHILY.nlink'\n",
            "tasksv11/en/qa16_basic-induction_train.txt\n",
            "tar: Ignoring unknown extended header keyword 'SCHILY.dev'\n",
            "tar: Ignoring unknown extended header keyword 'SCHILY.ino'\n",
            "tar: Ignoring unknown extended header keyword 'SCHILY.nlink'\n",
            "tasksv11/en/qa17_positional-reasoning_test.txt\n",
            "tar: Ignoring unknown extended header keyword 'SCHILY.dev'\n",
            "tar: Ignoring unknown extended header keyword 'SCHILY.ino'\n",
            "tar: Ignoring unknown extended header keyword 'SCHILY.nlink'\n",
            "tasksv11/en/qa17_positional-reasoning_train.txt\n",
            "tar: Ignoring unknown extended header keyword 'SCHILY.dev'\n",
            "tar: Ignoring unknown extended header keyword 'SCHILY.ino'\n",
            "tar: Ignoring unknown extended header keyword 'SCHILY.nlink'\n",
            "tasksv11/en/qa18_size-reasoning_test.txt\n",
            "tar: Ignoring unknown extended header keyword 'SCHILY.dev'\n",
            "tar: Ignoring unknown extended header keyword 'SCHILY.ino'\n",
            "tar: Ignoring unknown extended header keyword 'SCHILY.nlink'\n",
            "tasksv11/en/qa18_size-reasoning_train.txt\n",
            "tar: Ignoring unknown extended header keyword 'SCHILY.dev'\n",
            "tar: Ignoring unknown extended header keyword 'SCHILY.ino'\n",
            "tar: Ignoring unknown extended header keyword 'SCHILY.nlink'\n",
            "tasksv11/en/qa19_path-finding_test.txt\n",
            "tar: Ignoring unknown extended header keyword 'SCHILY.dev'\n",
            "tar: Ignoring unknown extended header keyword 'SCHILY.ino'\n",
            "tar: Ignoring unknown extended header keyword 'SCHILY.nlink'\n",
            "tasksv11/en/qa19_path-finding_train.txt\n",
            "tar: Ignoring unknown extended header keyword 'SCHILY.dev'\n",
            "tar: Ignoring unknown extended header keyword 'SCHILY.ino'\n",
            "tar: Ignoring unknown extended header keyword 'SCHILY.nlink'\n",
            "tasksv11/en/qa1_single-supporting-fact_test.txt\n",
            "tar: Ignoring unknown extended header keyword 'SCHILY.dev'\n",
            "tar: Ignoring unknown extended header keyword 'SCHILY.ino'\n",
            "tar: Ignoring unknown extended header keyword 'SCHILY.nlink'\n",
            "tasksv11/en/qa1_single-supporting-fact_train.txt\n",
            "tar: Ignoring unknown extended header keyword 'SCHILY.dev'\n",
            "tar: Ignoring unknown extended header keyword 'SCHILY.ino'\n",
            "tar: Ignoring unknown extended header keyword 'SCHILY.nlink'\n",
            "tasksv11/en/qa20_agents-motivations_test.txt\n",
            "tar: Ignoring unknown extended header keyword 'SCHILY.dev'\n",
            "tar: Ignoring unknown extended header keyword 'SCHILY.ino'\n",
            "tar: Ignoring unknown extended header keyword 'SCHILY.nlink'\n",
            "tasksv11/en/qa20_agents-motivations_train.txt\n",
            "tar: Ignoring unknown extended header keyword 'SCHILY.dev'\n",
            "tar: Ignoring unknown extended header keyword 'SCHILY.ino'\n",
            "tar: Ignoring unknown extended header keyword 'SCHILY.nlink'\n",
            "tasksv11/en/qa2_two-supporting-facts_test.txt\n",
            "tar: Ignoring unknown extended header keyword 'SCHILY.dev'\n",
            "tar: Ignoring unknown extended header keyword 'SCHILY.ino'\n",
            "tar: Ignoring unknown extended header keyword 'SCHILY.nlink'\n",
            "tasksv11/en/qa2_two-supporting-facts_train.txt\n",
            "tar: Ignoring unknown extended header keyword 'SCHILY.dev'\n",
            "tar: Ignoring unknown extended header keyword 'SCHILY.ino'\n",
            "tar: Ignoring unknown extended header keyword 'SCHILY.nlink'\n",
            "tasksv11/en/qa3_three-supporting-facts_test.txt\n",
            "tar: Ignoring unknown extended header keyword 'SCHILY.dev'\n",
            "tar: Ignoring unknown extended header keyword 'SCHILY.ino'\n",
            "tar: Ignoring unknown extended header keyword 'SCHILY.nlink'\n",
            "tasksv11/en/qa3_three-supporting-facts_train.txt\n",
            "tar: Ignoring unknown extended header keyword 'SCHILY.dev'\n",
            "tar: Ignoring unknown extended header keyword 'SCHILY.ino'\n",
            "tar: Ignoring unknown extended header keyword 'SCHILY.nlink'\n",
            "tasksv11/en/qa4_two-arg-relations_test.txt\n",
            "tar: Ignoring unknown extended header keyword 'SCHILY.dev'\n",
            "tar: Ignoring unknown extended header keyword 'SCHILY.ino'\n",
            "tar: Ignoring unknown extended header keyword 'SCHILY.nlink'\n",
            "tasksv11/en/qa4_two-arg-relations_train.txt\n",
            "tar: Ignoring unknown extended header keyword 'SCHILY.dev'\n",
            "tar: Ignoring unknown extended header keyword 'SCHILY.ino'\n",
            "tar: Ignoring unknown extended header keyword 'SCHILY.nlink'\n",
            "tasksv11/en/qa5_three-arg-relations_test.txt\n",
            "tar: Ignoring unknown extended header keyword 'SCHILY.dev'\n",
            "tar: Ignoring unknown extended header keyword 'SCHILY.ino'\n",
            "tar: Ignoring unknown extended header keyword 'SCHILY.nlink'\n",
            "tasksv11/en/qa5_three-arg-relations_train.txt\n",
            "tar: Ignoring unknown extended header keyword 'SCHILY.dev'\n",
            "tar: Ignoring unknown extended header keyword 'SCHILY.ino'\n",
            "tar: Ignoring unknown extended header keyword 'SCHILY.nlink'\n",
            "tasksv11/en/qa6_yes-no-questions_test.txt\n",
            "tar: Ignoring unknown extended header keyword 'SCHILY.dev'\n",
            "tar: Ignoring unknown extended header keyword 'SCHILY.ino'\n",
            "tar: Ignoring unknown extended header keyword 'SCHILY.nlink'\n",
            "tasksv11/en/qa6_yes-no-questions_train.txt\n",
            "tar: Ignoring unknown extended header keyword 'SCHILY.dev'\n",
            "tar: Ignoring unknown extended header keyword 'SCHILY.ino'\n",
            "tar: Ignoring unknown extended header keyword 'SCHILY.nlink'\n",
            "tasksv11/en/qa7_counting_test.txt\n",
            "tar: Ignoring unknown extended header keyword 'SCHILY.dev'\n",
            "tar: Ignoring unknown extended header keyword 'SCHILY.ino'\n",
            "tar: Ignoring unknown extended header keyword 'SCHILY.nlink'\n",
            "tasksv11/en/qa7_counting_train.txt\n",
            "tar: Ignoring unknown extended header keyword 'SCHILY.dev'\n",
            "tar: Ignoring unknown extended header keyword 'SCHILY.ino'\n",
            "tar: Ignoring unknown extended header keyword 'SCHILY.nlink'\n",
            "tasksv11/en/qa8_lists-sets_test.txt\n",
            "tar: Ignoring unknown extended header keyword 'SCHILY.dev'\n",
            "tar: Ignoring unknown extended header keyword 'SCHILY.ino'\n",
            "tar: Ignoring unknown extended header keyword 'SCHILY.nlink'\n",
            "tasksv11/en/qa8_lists-sets_train.txt\n",
            "tar: Ignoring unknown extended header keyword 'SCHILY.dev'\n",
            "tar: Ignoring unknown extended header keyword 'SCHILY.ino'\n",
            "tar: Ignoring unknown extended header keyword 'SCHILY.nlink'\n",
            "tasksv11/en/qa9_simple-negation_test.txt\n",
            "tar: Ignoring unknown extended header keyword 'SCHILY.dev'\n",
            "tar: Ignoring unknown extended header keyword 'SCHILY.ino'\n",
            "tar: Ignoring unknown extended header keyword 'SCHILY.nlink'\n",
            "tasksv11/en/qa9_simple-negation_train.txt\n"
          ]
        }
      ]
    },
    {
      "cell_type": "code",
      "source": [
        "!ls -ltr tasksv11/"
      ],
      "metadata": {
        "colab": {
          "base_uri": "https://localhost:8080/"
        },
        "id": "PeefOQnQXXbe",
        "outputId": "3de59cd6-3d79-4399-9fbe-7e338c19ae6a"
      },
      "execution_count": 20,
      "outputs": [
        {
          "output_type": "stream",
          "name": "stdout",
          "text": [
            "total 32\n",
            "drwxr-xr-x 2 154130051 1876110778  4096 Mar 14  2015 shuffled\n",
            "-rwxr-xr-x 1 154130051 1876110778  2980 Mar 14  2015 README\n",
            "-rw-r--r-- 1 154130051 1876110778 19561 Apr 10  2015 LICENSE\n",
            "drwxr-xr-x 2 154130051 1876110778  4096 Feb 20 02:34 en\n"
          ]
        }
      ]
    },
    {
      "cell_type": "code",
      "source": [
        "import sys,random,math\n",
        "from collections import Counter\n",
        "import numpy as np\n",
        "\n",
        "f = open('tasksv11/en/qa1_single-supporting-fact_train.txt','r')\n",
        "raw = f.readlines()\n",
        "f.close()\n",
        "\n",
        "tokens = list()\n",
        "for line in raw[0:1000]:\n",
        "  tokens.append(line.lower().replace(\"\\n\",\"\").split(\" \")[1:])\n",
        "print(tokens[0:3])"
      ],
      "metadata": {
        "colab": {
          "base_uri": "https://localhost:8080/"
        },
        "id": "ZkcLBJD4XdsL",
        "outputId": "d6da4446-64b2-4f68-89eb-d3b569e94afa"
      },
      "execution_count": 21,
      "outputs": [
        {
          "output_type": "stream",
          "name": "stdout",
          "text": [
            "[['mary', 'moved', 'to', 'the', 'bathroom.'], ['john', 'went', 'to', 'the', 'hallway.'], ['where', 'is', 'mary?', '\\tbathroom\\t1']]\n"
          ]
        }
      ]
    },
    {
      "cell_type": "code",
      "source": [
        "vocab = set()\n",
        "for sent in tokens:\n",
        "    for word in sent:\n",
        "        vocab.add(word)\n",
        "\n",
        "vocab = list(vocab)\n",
        "\n",
        "\n",
        "word2index = {}\n",
        "for i,word in enumerate(vocab):\n",
        "  word2index[word]=i"
      ],
      "metadata": {
        "id": "Zd3R4r7EXpUH"
      },
      "execution_count": 22,
      "outputs": []
    },
    {
      "cell_type": "code",
      "source": [
        "def words2indices(sentence):\n",
        "  idx = list()\n",
        "  for word in sentence:\n",
        "    idx.append(word2index[word])\n",
        "  return idx\n",
        "\n",
        "\n",
        "def softmax(x):\n",
        "  e_x = np.exp(x - np.max(x))\n",
        "  return e_x / e_x.sum(axis=0)"
      ],
      "metadata": {
        "id": "SOu8sNuyYGZ7"
      },
      "execution_count": 23,
      "outputs": []
    },
    {
      "cell_type": "code",
      "source": [
        "np.random.seed(1)\n",
        "embed_size = 10\n",
        "\n",
        "embed = (np.random.rand(len(vocab),embed_size) - 0.5) * 0.1\n",
        "recurrent = np.eye(embed_size) # initial identity matrix\n",
        "\n",
        "start = np.zeros(embed_size)\n",
        "decoder = (np.random.rand(embed_size, len(vocab)) - 0.5) * 0.1\n",
        "\n",
        "one_hot = np.eye(len(vocab))\n"
      ],
      "metadata": {
        "id": "U_0c7r9lYSFQ"
      },
      "execution_count": 24,
      "outputs": []
    },
    {
      "cell_type": "code",
      "source": [
        "def predict(sent):\n",
        "  layers = list()\n",
        "  layer = {}\n",
        "  layer['hidden'] = start\n",
        "  layers.append(layer)\n",
        "\n",
        "  loss = 0\n",
        "  preds = list()\n",
        "\n",
        "  for target_i in range(len(sent)):\n",
        "    layer = {}\n",
        "    layer['pred'] = softmax(layers[-1]['hidden'].dot(decoder))\n",
        "    loss += -np.log(layer['pred'][sent[target_i]])\n",
        "    layer['hidden'] = layers[-1]['hidden'].dot(recurrent) + embed[sent[target_i]]\n",
        "    layers.append(layer)\n",
        "\n",
        "  return layers, loss"
      ],
      "metadata": {
        "id": "mZYEunmjY15V"
      },
      "execution_count": 25,
      "outputs": []
    },
    {
      "cell_type": "code",
      "source": [],
      "metadata": {
        "id": "Na59HkfcZl3o"
      },
      "execution_count": null,
      "outputs": []
    }
  ]
}