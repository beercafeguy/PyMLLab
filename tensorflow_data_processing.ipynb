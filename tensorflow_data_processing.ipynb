{
  "nbformat": 4,
  "nbformat_minor": 0,
  "metadata": {
    "colab": {
      "provenance": [],
      "authorship_tag": "ABX9TyPFTd9oMJSkiYjPCbBrlBlz",
      "include_colab_link": true
    },
    "kernelspec": {
      "name": "python3",
      "display_name": "Python 3"
    },
    "language_info": {
      "name": "python"
    }
  },
  "cells": [
    {
      "cell_type": "markdown",
      "metadata": {
        "id": "view-in-github",
        "colab_type": "text"
      },
      "source": [
        "<a href=\"https://colab.research.google.com/github/beercafeguy/PyMLLab/blob/master/tensorflow_data_processing.ipynb\" target=\"_parent\"><img src=\"https://colab.research.google.com/assets/colab-badge.svg\" alt=\"Open In Colab\"/></a>"
      ]
    },
    {
      "cell_type": "code",
      "source": [
        "import tensorflow as tf"
      ],
      "metadata": {
        "id": "_K2jJYDpl0xD"
      },
      "execution_count": 1,
      "outputs": []
    },
    {
      "cell_type": "code",
      "execution_count": null,
      "metadata": {
        "colab": {
          "base_uri": "https://localhost:8080/"
        },
        "id": "YEBKpkQGltyv",
        "outputId": "e57f7fe8-488a-4f73-9f7a-63d8ce50d6e4"
      },
      "outputs": [
        {
          "output_type": "execute_result",
          "data": {
            "text/plain": [
              "<tf.Tensor: shape=(10,), dtype=int32, numpy=array([0, 1, 2, 3, 4, 5, 6, 7, 8, 9], dtype=int32)>"
            ]
          },
          "metadata": {},
          "execution_count": 3
        }
      ],
      "source": [
        "X = tf.range(10)\n",
        "X"
      ]
    },
    {
      "cell_type": "code",
      "source": [
        "dataset = tf.data.Dataset.from_tensor_slices(X)"
      ],
      "metadata": {
        "id": "NAeAGUIul0Eh"
      },
      "execution_count": null,
      "outputs": []
    },
    {
      "cell_type": "code",
      "source": [
        "dataset"
      ],
      "metadata": {
        "colab": {
          "base_uri": "https://localhost:8080/"
        },
        "id": "sbDKIdcrmBH5",
        "outputId": "646f3f37-5f8f-4712-e202-8b2d42c3020e"
      },
      "execution_count": null,
      "outputs": [
        {
          "output_type": "execute_result",
          "data": {
            "text/plain": [
              "<_TensorSliceDataset element_spec=TensorSpec(shape=(), dtype=tf.int32, name=None)>"
            ]
          },
          "metadata": {},
          "execution_count": 6
        }
      ]
    },
    {
      "cell_type": "code",
      "source": [
        "for item in dataset:\n",
        "  print(item)"
      ],
      "metadata": {
        "colab": {
          "base_uri": "https://localhost:8080/"
        },
        "id": "xNjOri9lmGDD",
        "outputId": "9b0b415d-3bca-40b3-82d9-1c21e1ad965c"
      },
      "execution_count": null,
      "outputs": [
        {
          "output_type": "stream",
          "name": "stdout",
          "text": [
            "tf.Tensor(0, shape=(), dtype=int32)\n",
            "tf.Tensor(1, shape=(), dtype=int32)\n",
            "tf.Tensor(2, shape=(), dtype=int32)\n",
            "tf.Tensor(3, shape=(), dtype=int32)\n",
            "tf.Tensor(4, shape=(), dtype=int32)\n",
            "tf.Tensor(5, shape=(), dtype=int32)\n",
            "tf.Tensor(6, shape=(), dtype=int32)\n",
            "tf.Tensor(7, shape=(), dtype=int32)\n",
            "tf.Tensor(8, shape=(), dtype=int32)\n",
            "tf.Tensor(9, shape=(), dtype=int32)\n"
          ]
        }
      ]
    },
    {
      "cell_type": "code",
      "source": [
        "for item in dataset.repeat(3):\n",
        "  print(item)"
      ],
      "metadata": {
        "colab": {
          "base_uri": "https://localhost:8080/"
        },
        "id": "jisfCXbzmMyI",
        "outputId": "574b241e-0bcb-4c4d-c393-04033533f26c"
      },
      "execution_count": null,
      "outputs": [
        {
          "output_type": "stream",
          "name": "stdout",
          "text": [
            "tf.Tensor(0, shape=(), dtype=int32)\n",
            "tf.Tensor(1, shape=(), dtype=int32)\n",
            "tf.Tensor(2, shape=(), dtype=int32)\n",
            "tf.Tensor(3, shape=(), dtype=int32)\n",
            "tf.Tensor(4, shape=(), dtype=int32)\n",
            "tf.Tensor(5, shape=(), dtype=int32)\n",
            "tf.Tensor(6, shape=(), dtype=int32)\n",
            "tf.Tensor(7, shape=(), dtype=int32)\n",
            "tf.Tensor(8, shape=(), dtype=int32)\n",
            "tf.Tensor(9, shape=(), dtype=int32)\n",
            "tf.Tensor(0, shape=(), dtype=int32)\n",
            "tf.Tensor(1, shape=(), dtype=int32)\n",
            "tf.Tensor(2, shape=(), dtype=int32)\n",
            "tf.Tensor(3, shape=(), dtype=int32)\n",
            "tf.Tensor(4, shape=(), dtype=int32)\n",
            "tf.Tensor(5, shape=(), dtype=int32)\n",
            "tf.Tensor(6, shape=(), dtype=int32)\n",
            "tf.Tensor(7, shape=(), dtype=int32)\n",
            "tf.Tensor(8, shape=(), dtype=int32)\n",
            "tf.Tensor(9, shape=(), dtype=int32)\n",
            "tf.Tensor(0, shape=(), dtype=int32)\n",
            "tf.Tensor(1, shape=(), dtype=int32)\n",
            "tf.Tensor(2, shape=(), dtype=int32)\n",
            "tf.Tensor(3, shape=(), dtype=int32)\n",
            "tf.Tensor(4, shape=(), dtype=int32)\n",
            "tf.Tensor(5, shape=(), dtype=int32)\n",
            "tf.Tensor(6, shape=(), dtype=int32)\n",
            "tf.Tensor(7, shape=(), dtype=int32)\n",
            "tf.Tensor(8, shape=(), dtype=int32)\n",
            "tf.Tensor(9, shape=(), dtype=int32)\n"
          ]
        }
      ]
    },
    {
      "cell_type": "code",
      "source": [
        "for item in dataset.repeat(3).batch(7):\n",
        "  print(item)"
      ],
      "metadata": {
        "colab": {
          "base_uri": "https://localhost:8080/"
        },
        "id": "1lMqorrcmWc5",
        "outputId": "66172a1b-44e2-4253-e6f5-83d854b37da0"
      },
      "execution_count": null,
      "outputs": [
        {
          "output_type": "stream",
          "name": "stdout",
          "text": [
            "tf.Tensor([0 1 2 3 4 5 6], shape=(7,), dtype=int32)\n",
            "tf.Tensor([7 8 9 0 1 2 3], shape=(7,), dtype=int32)\n",
            "tf.Tensor([4 5 6 7 8 9 0], shape=(7,), dtype=int32)\n",
            "tf.Tensor([1 2 3 4 5 6 7], shape=(7,), dtype=int32)\n",
            "tf.Tensor([8 9], shape=(2,), dtype=int32)\n"
          ]
        }
      ]
    },
    {
      "cell_type": "code",
      "source": [
        "dataset = dataset.map(lambda x:x ** 2)\n",
        "for item in dataset:\n",
        "  print(item)"
      ],
      "metadata": {
        "colab": {
          "base_uri": "https://localhost:8080/"
        },
        "id": "j9ML1ltimeKA",
        "outputId": "6d766ded-5e02-4172-aa10-c45c74c197a5"
      },
      "execution_count": null,
      "outputs": [
        {
          "output_type": "stream",
          "name": "stdout",
          "text": [
            "tf.Tensor(0, shape=(), dtype=int32)\n",
            "tf.Tensor(1, shape=(), dtype=int32)\n",
            "tf.Tensor(4, shape=(), dtype=int32)\n",
            "tf.Tensor(9, shape=(), dtype=int32)\n",
            "tf.Tensor(16, shape=(), dtype=int32)\n",
            "tf.Tensor(25, shape=(), dtype=int32)\n",
            "tf.Tensor(36, shape=(), dtype=int32)\n",
            "tf.Tensor(49, shape=(), dtype=int32)\n",
            "tf.Tensor(64, shape=(), dtype=int32)\n",
            "tf.Tensor(81, shape=(), dtype=int32)\n"
          ]
        }
      ]
    },
    {
      "cell_type": "code",
      "source": [
        "dataset = dataset.filter(lambda x:x < 20)\n",
        "for item in dataset:\n",
        "  print(item)"
      ],
      "metadata": {
        "colab": {
          "base_uri": "https://localhost:8080/"
        },
        "id": "x6vxVdSAm0Qp",
        "outputId": "4ba15ce5-73b6-4ad3-a595-ed99b133506e"
      },
      "execution_count": null,
      "outputs": [
        {
          "output_type": "stream",
          "name": "stdout",
          "text": [
            "tf.Tensor(0, shape=(), dtype=int32)\n",
            "tf.Tensor(1, shape=(), dtype=int32)\n",
            "tf.Tensor(4, shape=(), dtype=int32)\n",
            "tf.Tensor(9, shape=(), dtype=int32)\n",
            "tf.Tensor(16, shape=(), dtype=int32)\n"
          ]
        }
      ]
    },
    {
      "cell_type": "code",
      "source": [
        "dataset = tf.data.Dataset.range(10).repeat(3)\n",
        "dataset = dataset.shuffle(buffer_size=5, seed=42).batch(7)\n",
        "for item in dataset:\n",
        "  print(item)"
      ],
      "metadata": {
        "colab": {
          "base_uri": "https://localhost:8080/"
        },
        "id": "oWFi1QO9nHGh",
        "outputId": "880b29bf-bb53-4a6b-d260-6fd0469614d9"
      },
      "execution_count": 2,
      "outputs": [
        {
          "output_type": "stream",
          "name": "stdout",
          "text": [
            "tf.Tensor([0 2 3 6 7 9 4], shape=(7,), dtype=int64)\n",
            "tf.Tensor([5 0 1 1 8 6 5], shape=(7,), dtype=int64)\n",
            "tf.Tensor([4 8 7 1 2 3 0], shape=(7,), dtype=int64)\n",
            "tf.Tensor([5 4 2 7 8 9 9], shape=(7,), dtype=int64)\n",
            "tf.Tensor([3 6], shape=(2,), dtype=int64)\n"
          ]
        }
      ]
    },
    {
      "cell_type": "code",
      "source": [
        "for item in tf.data.Dataset.range(3).repeat(2).shuffle(buffer_size=2, seed=42).repeat(2):\n",
        "  print(item)"
      ],
      "metadata": {
        "id": "yzqOmDElnVQc",
        "colab": {
          "base_uri": "https://localhost:8080/"
        },
        "outputId": "9912a4e8-eb63-4af2-a99c-f6a9de4971aa"
      },
      "execution_count": 9,
      "outputs": [
        {
          "output_type": "stream",
          "name": "stdout",
          "text": [
            "tf.Tensor(1, shape=(), dtype=int64)\n",
            "tf.Tensor(2, shape=(), dtype=int64)\n",
            "tf.Tensor(0, shape=(), dtype=int64)\n",
            "tf.Tensor(0, shape=(), dtype=int64)\n",
            "tf.Tensor(2, shape=(), dtype=int64)\n",
            "tf.Tensor(1, shape=(), dtype=int64)\n",
            "tf.Tensor(1, shape=(), dtype=int64)\n",
            "tf.Tensor(2, shape=(), dtype=int64)\n",
            "tf.Tensor(0, shape=(), dtype=int64)\n",
            "tf.Tensor(0, shape=(), dtype=int64)\n",
            "tf.Tensor(1, shape=(), dtype=int64)\n",
            "tf.Tensor(2, shape=(), dtype=int64)\n"
          ]
        }
      ]
    },
    {
      "cell_type": "markdown",
      "source": [
        "# Interleaving lines from multiple files"
      ],
      "metadata": {
        "id": "63GNJecCn6-8"
      }
    },
    {
      "cell_type": "code",
      "source": [
        "from sklearn.datasets import fetch_california_housing\n",
        "from sklearn.model_selection import train_test_split\n",
        "from sklearn.preprocessing import StandardScaler"
      ],
      "metadata": {
        "id": "6__21eiunCFZ"
      },
      "execution_count": 10,
      "outputs": []
    },
    {
      "cell_type": "code",
      "source": [
        "housing = fetch_california_housing()\n",
        "X_train_full, X_test, y_train_full, y_test = train_test_split(\n",
        "    housing.data, housing.target.reshape(-1, 1), random_state=2024) # test_size = 0.25\n",
        "X_train, X_valid, y_train, y_valid = train_test_split(\n",
        "    X_train_full, y_train_full, random_state=2024)"
      ],
      "metadata": {
        "id": "gU74WORvn7v2"
      },
      "execution_count": 12,
      "outputs": []
    },
    {
      "cell_type": "code",
      "source": [
        "scaler = StandardScaler()\n",
        "scaler.fit(X_train)\n",
        "X_mean = scaler.mean_\n",
        "X_std = scaler.scale_"
      ],
      "metadata": {
        "id": "4ZVI9U9HoAI3"
      },
      "execution_count": 13,
      "outputs": []
    },
    {
      "cell_type": "code",
      "source": [
        "print(X_mean,X_std)"
      ],
      "metadata": {
        "colab": {
          "base_uri": "https://localhost:8080/"
        },
        "id": "M1B7IhOnoUKe",
        "outputId": "8ce2e344-6dc0-481f-b09a-2c88f001cf55"
      },
      "execution_count": 14,
      "outputs": [
        {
          "output_type": "stream",
          "name": "stdout",
          "text": [
            "[ 3.86045802e+00  2.87264427e+01  5.40836711e+00  1.09342646e+00\n",
            "  1.41558501e+03  3.03720818e+00  3.56335917e+01 -1.19572802e+02] [1.88529609e+00 1.25360228e+01 2.13514117e+00 3.89198791e-01\n",
            " 1.14082058e+03 7.28725220e+00 2.14342921e+00 2.00364568e+00]\n"
          ]
        }
      ]
    },
    {
      "cell_type": "code",
      "source": [
        "import os\n",
        "import numpy as np\n",
        "def save_to_multiple_csv_files(data, name_prefix, header=None, n_parts=10):\n",
        "    housing_dir = os.path.join(\"datasets\", \"housing\")\n",
        "    os.makedirs(housing_dir, exist_ok=True)\n",
        "    path_format = os.path.join(housing_dir, \"my_{}_{:02d}.csv\")\n",
        "\n",
        "    filepaths = []\n",
        "    m = len(data)\n",
        "    for file_idx, row_indices in enumerate(np.array_split(np.arange(m), n_parts)):\n",
        "        part_csv = path_format.format(name_prefix, file_idx)\n",
        "        filepaths.append(part_csv)\n",
        "        with open(part_csv, \"wt\", encoding=\"utf-8\") as f:\n",
        "            if header is not None:\n",
        "                f.write(header)\n",
        "                f.write(\"\\n\")\n",
        "            for row_idx in row_indices:\n",
        "                f.write(\",\".join([repr(col) for col in data[row_idx]]))\n",
        "                f.write(\"\\n\")\n",
        "    return filepaths"
      ],
      "metadata": {
        "id": "CY6OQ4bGoW5U"
      },
      "execution_count": 15,
      "outputs": []
    },
    {
      "cell_type": "code",
      "source": [
        "train_data = np.c_[X_train, y_train]\n",
        "valid_data = np.c_[X_valid, y_valid]\n",
        "test_data = np.c_[X_test, y_test]\n",
        "header_cols = housing.feature_names + [\"MedianHouseValue\"]\n",
        "header = \",\".join(header_cols)\n",
        "\n",
        "train_filepaths = save_to_multiple_csv_files(train_data, \"train\", header, n_parts=20)\n",
        "valid_filepaths = save_to_multiple_csv_files(valid_data, \"valid\", header, n_parts=10)\n",
        "test_filepaths = save_to_multiple_csv_files(test_data, \"test\", header, n_parts=10)"
      ],
      "metadata": {
        "id": "EFEnLZl8oq7Z"
      },
      "execution_count": 16,
      "outputs": []
    },
    {
      "cell_type": "code",
      "source": [
        "!ls -ltrh datasets/housing/"
      ],
      "metadata": {
        "colab": {
          "base_uri": "https://localhost:8080/"
        },
        "id": "4AJhuhVIoxD_",
        "outputId": "b1a99961-7952-44d4-b268-4bf4e75fd13d"
      },
      "execution_count": 19,
      "outputs": [
        {
          "output_type": "stream",
          "name": "stdout",
          "text": [
            "total 2.0M\n",
            "-rw-r--r-- 1 root root 53K Feb 29 02:13 my_train_00.csv\n",
            "-rw-r--r-- 1 root root 53K Feb 29 02:13 my_train_01.csv\n",
            "-rw-r--r-- 1 root root 53K Feb 29 02:13 my_train_02.csv\n",
            "-rw-r--r-- 1 root root 53K Feb 29 02:13 my_train_03.csv\n",
            "-rw-r--r-- 1 root root 53K Feb 29 02:13 my_train_04.csv\n",
            "-rw-r--r-- 1 root root 53K Feb 29 02:13 my_train_05.csv\n",
            "-rw-r--r-- 1 root root 53K Feb 29 02:13 my_train_06.csv\n",
            "-rw-r--r-- 1 root root 53K Feb 29 02:13 my_train_07.csv\n",
            "-rw-r--r-- 1 root root 53K Feb 29 02:13 my_train_08.csv\n",
            "-rw-r--r-- 1 root root 53K Feb 29 02:13 my_train_09.csv\n",
            "-rw-r--r-- 1 root root 52K Feb 29 02:13 my_train_10.csv\n",
            "-rw-r--r-- 1 root root 53K Feb 29 02:13 my_train_11.csv\n",
            "-rw-r--r-- 1 root root 53K Feb 29 02:13 my_train_12.csv\n",
            "-rw-r--r-- 1 root root 52K Feb 29 02:13 my_train_13.csv\n",
            "-rw-r--r-- 1 root root 53K Feb 29 02:13 my_train_14.csv\n",
            "-rw-r--r-- 1 root root 53K Feb 29 02:13 my_train_15.csv\n",
            "-rw-r--r-- 1 root root 53K Feb 29 02:13 my_train_16.csv\n",
            "-rw-r--r-- 1 root root 53K Feb 29 02:13 my_train_17.csv\n",
            "-rw-r--r-- 1 root root 53K Feb 29 02:13 my_train_18.csv\n",
            "-rw-r--r-- 1 root root 52K Feb 29 02:13 my_train_19.csv\n",
            "-rw-r--r-- 1 root root 35K Feb 29 02:13 my_valid_00.csv\n",
            "-rw-r--r-- 1 root root 35K Feb 29 02:13 my_valid_01.csv\n",
            "-rw-r--r-- 1 root root 35K Feb 29 02:13 my_valid_02.csv\n",
            "-rw-r--r-- 1 root root 35K Feb 29 02:13 my_valid_03.csv\n",
            "-rw-r--r-- 1 root root 35K Feb 29 02:13 my_valid_04.csv\n",
            "-rw-r--r-- 1 root root 35K Feb 29 02:13 my_valid_05.csv\n",
            "-rw-r--r-- 1 root root 35K Feb 29 02:13 my_valid_06.csv\n",
            "-rw-r--r-- 1 root root 35K Feb 29 02:13 my_valid_07.csv\n",
            "-rw-r--r-- 1 root root 35K Feb 29 02:13 my_valid_08.csv\n",
            "-rw-r--r-- 1 root root 35K Feb 29 02:13 my_valid_09.csv\n",
            "-rw-r--r-- 1 root root 47K Feb 29 02:13 my_test_00.csv\n",
            "-rw-r--r-- 1 root root 47K Feb 29 02:13 my_test_01.csv\n",
            "-rw-r--r-- 1 root root 47K Feb 29 02:13 my_test_02.csv\n",
            "-rw-r--r-- 1 root root 47K Feb 29 02:13 my_test_03.csv\n",
            "-rw-r--r-- 1 root root 47K Feb 29 02:13 my_test_04.csv\n",
            "-rw-r--r-- 1 root root 47K Feb 29 02:13 my_test_05.csv\n",
            "-rw-r--r-- 1 root root 47K Feb 29 02:13 my_test_06.csv\n",
            "-rw-r--r-- 1 root root 47K Feb 29 02:13 my_test_07.csv\n",
            "-rw-r--r-- 1 root root 47K Feb 29 02:13 my_test_08.csv\n",
            "-rw-r--r-- 1 root root 47K Feb 29 02:13 my_test_09.csv\n"
          ]
        }
      ]
    },
    {
      "cell_type": "code",
      "source": [
        "import pandas as pd\n",
        "\n",
        "pd.read_csv(train_filepaths[0]).head()"
      ],
      "metadata": {
        "colab": {
          "base_uri": "https://localhost:8080/",
          "height": 206
        },
        "id": "K26ETPnwoyOa",
        "outputId": "a606e1fb-7f05-4ad1-bef9-28906f99b923"
      },
      "execution_count": 20,
      "outputs": [
        {
          "output_type": "execute_result",
          "data": {
            "text/plain": [
              "   MedInc  HouseAge  AveRooms  AveBedrms  Population  AveOccup  Latitude  \\\n",
              "0  4.8542      36.0  4.365979   0.953608       713.0  3.675258     33.92   \n",
              "1  5.3681      26.0  6.048421   1.010526      1915.0  4.031579     34.28   \n",
              "2  4.4107      22.0  4.125786   1.173585      1842.0  2.316981     37.39   \n",
              "3  3.2845      45.0  4.551546   1.041237       401.0  2.067010     38.44   \n",
              "4  2.8750      37.0  3.660134   1.036617      2913.0  1.502321     34.10   \n",
              "\n",
              "   Longitude  MedianHouseValue  \n",
              "0    -118.09             1.674  \n",
              "1    -118.77             1.877  \n",
              "2    -122.03             2.327  \n",
              "3    -122.70             1.783  \n",
              "4    -118.36             3.000  "
            ],
            "text/html": [
              "\n",
              "  <div id=\"df-e6589e15-702f-499f-a991-0c4c3756569f\" class=\"colab-df-container\">\n",
              "    <div>\n",
              "<style scoped>\n",
              "    .dataframe tbody tr th:only-of-type {\n",
              "        vertical-align: middle;\n",
              "    }\n",
              "\n",
              "    .dataframe tbody tr th {\n",
              "        vertical-align: top;\n",
              "    }\n",
              "\n",
              "    .dataframe thead th {\n",
              "        text-align: right;\n",
              "    }\n",
              "</style>\n",
              "<table border=\"1\" class=\"dataframe\">\n",
              "  <thead>\n",
              "    <tr style=\"text-align: right;\">\n",
              "      <th></th>\n",
              "      <th>MedInc</th>\n",
              "      <th>HouseAge</th>\n",
              "      <th>AveRooms</th>\n",
              "      <th>AveBedrms</th>\n",
              "      <th>Population</th>\n",
              "      <th>AveOccup</th>\n",
              "      <th>Latitude</th>\n",
              "      <th>Longitude</th>\n",
              "      <th>MedianHouseValue</th>\n",
              "    </tr>\n",
              "  </thead>\n",
              "  <tbody>\n",
              "    <tr>\n",
              "      <th>0</th>\n",
              "      <td>4.8542</td>\n",
              "      <td>36.0</td>\n",
              "      <td>4.365979</td>\n",
              "      <td>0.953608</td>\n",
              "      <td>713.0</td>\n",
              "      <td>3.675258</td>\n",
              "      <td>33.92</td>\n",
              "      <td>-118.09</td>\n",
              "      <td>1.674</td>\n",
              "    </tr>\n",
              "    <tr>\n",
              "      <th>1</th>\n",
              "      <td>5.3681</td>\n",
              "      <td>26.0</td>\n",
              "      <td>6.048421</td>\n",
              "      <td>1.010526</td>\n",
              "      <td>1915.0</td>\n",
              "      <td>4.031579</td>\n",
              "      <td>34.28</td>\n",
              "      <td>-118.77</td>\n",
              "      <td>1.877</td>\n",
              "    </tr>\n",
              "    <tr>\n",
              "      <th>2</th>\n",
              "      <td>4.4107</td>\n",
              "      <td>22.0</td>\n",
              "      <td>4.125786</td>\n",
              "      <td>1.173585</td>\n",
              "      <td>1842.0</td>\n",
              "      <td>2.316981</td>\n",
              "      <td>37.39</td>\n",
              "      <td>-122.03</td>\n",
              "      <td>2.327</td>\n",
              "    </tr>\n",
              "    <tr>\n",
              "      <th>3</th>\n",
              "      <td>3.2845</td>\n",
              "      <td>45.0</td>\n",
              "      <td>4.551546</td>\n",
              "      <td>1.041237</td>\n",
              "      <td>401.0</td>\n",
              "      <td>2.067010</td>\n",
              "      <td>38.44</td>\n",
              "      <td>-122.70</td>\n",
              "      <td>1.783</td>\n",
              "    </tr>\n",
              "    <tr>\n",
              "      <th>4</th>\n",
              "      <td>2.8750</td>\n",
              "      <td>37.0</td>\n",
              "      <td>3.660134</td>\n",
              "      <td>1.036617</td>\n",
              "      <td>2913.0</td>\n",
              "      <td>1.502321</td>\n",
              "      <td>34.10</td>\n",
              "      <td>-118.36</td>\n",
              "      <td>3.000</td>\n",
              "    </tr>\n",
              "  </tbody>\n",
              "</table>\n",
              "</div>\n",
              "    <div class=\"colab-df-buttons\">\n",
              "\n",
              "  <div class=\"colab-df-container\">\n",
              "    <button class=\"colab-df-convert\" onclick=\"convertToInteractive('df-e6589e15-702f-499f-a991-0c4c3756569f')\"\n",
              "            title=\"Convert this dataframe to an interactive table.\"\n",
              "            style=\"display:none;\">\n",
              "\n",
              "  <svg xmlns=\"http://www.w3.org/2000/svg\" height=\"24px\" viewBox=\"0 -960 960 960\">\n",
              "    <path d=\"M120-120v-720h720v720H120Zm60-500h600v-160H180v160Zm220 220h160v-160H400v160Zm0 220h160v-160H400v160ZM180-400h160v-160H180v160Zm440 0h160v-160H620v160ZM180-180h160v-160H180v160Zm440 0h160v-160H620v160Z\"/>\n",
              "  </svg>\n",
              "    </button>\n",
              "\n",
              "  <style>\n",
              "    .colab-df-container {\n",
              "      display:flex;\n",
              "      gap: 12px;\n",
              "    }\n",
              "\n",
              "    .colab-df-convert {\n",
              "      background-color: #E8F0FE;\n",
              "      border: none;\n",
              "      border-radius: 50%;\n",
              "      cursor: pointer;\n",
              "      display: none;\n",
              "      fill: #1967D2;\n",
              "      height: 32px;\n",
              "      padding: 0 0 0 0;\n",
              "      width: 32px;\n",
              "    }\n",
              "\n",
              "    .colab-df-convert:hover {\n",
              "      background-color: #E2EBFA;\n",
              "      box-shadow: 0px 1px 2px rgba(60, 64, 67, 0.3), 0px 1px 3px 1px rgba(60, 64, 67, 0.15);\n",
              "      fill: #174EA6;\n",
              "    }\n",
              "\n",
              "    .colab-df-buttons div {\n",
              "      margin-bottom: 4px;\n",
              "    }\n",
              "\n",
              "    [theme=dark] .colab-df-convert {\n",
              "      background-color: #3B4455;\n",
              "      fill: #D2E3FC;\n",
              "    }\n",
              "\n",
              "    [theme=dark] .colab-df-convert:hover {\n",
              "      background-color: #434B5C;\n",
              "      box-shadow: 0px 1px 3px 1px rgba(0, 0, 0, 0.15);\n",
              "      filter: drop-shadow(0px 1px 2px rgba(0, 0, 0, 0.3));\n",
              "      fill: #FFFFFF;\n",
              "    }\n",
              "  </style>\n",
              "\n",
              "    <script>\n",
              "      const buttonEl =\n",
              "        document.querySelector('#df-e6589e15-702f-499f-a991-0c4c3756569f button.colab-df-convert');\n",
              "      buttonEl.style.display =\n",
              "        google.colab.kernel.accessAllowed ? 'block' : 'none';\n",
              "\n",
              "      async function convertToInteractive(key) {\n",
              "        const element = document.querySelector('#df-e6589e15-702f-499f-a991-0c4c3756569f');\n",
              "        const dataTable =\n",
              "          await google.colab.kernel.invokeFunction('convertToInteractive',\n",
              "                                                    [key], {});\n",
              "        if (!dataTable) return;\n",
              "\n",
              "        const docLinkHtml = 'Like what you see? Visit the ' +\n",
              "          '<a target=\"_blank\" href=https://colab.research.google.com/notebooks/data_table.ipynb>data table notebook</a>'\n",
              "          + ' to learn more about interactive tables.';\n",
              "        element.innerHTML = '';\n",
              "        dataTable['output_type'] = 'display_data';\n",
              "        await google.colab.output.renderOutput(dataTable, element);\n",
              "        const docLink = document.createElement('div');\n",
              "        docLink.innerHTML = docLinkHtml;\n",
              "        element.appendChild(docLink);\n",
              "      }\n",
              "    </script>\n",
              "  </div>\n",
              "\n",
              "\n",
              "<div id=\"df-07baffc0-bd2c-4a02-99cf-8d41807dcd81\">\n",
              "  <button class=\"colab-df-quickchart\" onclick=\"quickchart('df-07baffc0-bd2c-4a02-99cf-8d41807dcd81')\"\n",
              "            title=\"Suggest charts\"\n",
              "            style=\"display:none;\">\n",
              "\n",
              "<svg xmlns=\"http://www.w3.org/2000/svg\" height=\"24px\"viewBox=\"0 0 24 24\"\n",
              "     width=\"24px\">\n",
              "    <g>\n",
              "        <path d=\"M19 3H5c-1.1 0-2 .9-2 2v14c0 1.1.9 2 2 2h14c1.1 0 2-.9 2-2V5c0-1.1-.9-2-2-2zM9 17H7v-7h2v7zm4 0h-2V7h2v10zm4 0h-2v-4h2v4z\"/>\n",
              "    </g>\n",
              "</svg>\n",
              "  </button>\n",
              "\n",
              "<style>\n",
              "  .colab-df-quickchart {\n",
              "      --bg-color: #E8F0FE;\n",
              "      --fill-color: #1967D2;\n",
              "      --hover-bg-color: #E2EBFA;\n",
              "      --hover-fill-color: #174EA6;\n",
              "      --disabled-fill-color: #AAA;\n",
              "      --disabled-bg-color: #DDD;\n",
              "  }\n",
              "\n",
              "  [theme=dark] .colab-df-quickchart {\n",
              "      --bg-color: #3B4455;\n",
              "      --fill-color: #D2E3FC;\n",
              "      --hover-bg-color: #434B5C;\n",
              "      --hover-fill-color: #FFFFFF;\n",
              "      --disabled-bg-color: #3B4455;\n",
              "      --disabled-fill-color: #666;\n",
              "  }\n",
              "\n",
              "  .colab-df-quickchart {\n",
              "    background-color: var(--bg-color);\n",
              "    border: none;\n",
              "    border-radius: 50%;\n",
              "    cursor: pointer;\n",
              "    display: none;\n",
              "    fill: var(--fill-color);\n",
              "    height: 32px;\n",
              "    padding: 0;\n",
              "    width: 32px;\n",
              "  }\n",
              "\n",
              "  .colab-df-quickchart:hover {\n",
              "    background-color: var(--hover-bg-color);\n",
              "    box-shadow: 0 1px 2px rgba(60, 64, 67, 0.3), 0 1px 3px 1px rgba(60, 64, 67, 0.15);\n",
              "    fill: var(--button-hover-fill-color);\n",
              "  }\n",
              "\n",
              "  .colab-df-quickchart-complete:disabled,\n",
              "  .colab-df-quickchart-complete:disabled:hover {\n",
              "    background-color: var(--disabled-bg-color);\n",
              "    fill: var(--disabled-fill-color);\n",
              "    box-shadow: none;\n",
              "  }\n",
              "\n",
              "  .colab-df-spinner {\n",
              "    border: 2px solid var(--fill-color);\n",
              "    border-color: transparent;\n",
              "    border-bottom-color: var(--fill-color);\n",
              "    animation:\n",
              "      spin 1s steps(1) infinite;\n",
              "  }\n",
              "\n",
              "  @keyframes spin {\n",
              "    0% {\n",
              "      border-color: transparent;\n",
              "      border-bottom-color: var(--fill-color);\n",
              "      border-left-color: var(--fill-color);\n",
              "    }\n",
              "    20% {\n",
              "      border-color: transparent;\n",
              "      border-left-color: var(--fill-color);\n",
              "      border-top-color: var(--fill-color);\n",
              "    }\n",
              "    30% {\n",
              "      border-color: transparent;\n",
              "      border-left-color: var(--fill-color);\n",
              "      border-top-color: var(--fill-color);\n",
              "      border-right-color: var(--fill-color);\n",
              "    }\n",
              "    40% {\n",
              "      border-color: transparent;\n",
              "      border-right-color: var(--fill-color);\n",
              "      border-top-color: var(--fill-color);\n",
              "    }\n",
              "    60% {\n",
              "      border-color: transparent;\n",
              "      border-right-color: var(--fill-color);\n",
              "    }\n",
              "    80% {\n",
              "      border-color: transparent;\n",
              "      border-right-color: var(--fill-color);\n",
              "      border-bottom-color: var(--fill-color);\n",
              "    }\n",
              "    90% {\n",
              "      border-color: transparent;\n",
              "      border-bottom-color: var(--fill-color);\n",
              "    }\n",
              "  }\n",
              "</style>\n",
              "\n",
              "  <script>\n",
              "    async function quickchart(key) {\n",
              "      const quickchartButtonEl =\n",
              "        document.querySelector('#' + key + ' button');\n",
              "      quickchartButtonEl.disabled = true;  // To prevent multiple clicks.\n",
              "      quickchartButtonEl.classList.add('colab-df-spinner');\n",
              "      try {\n",
              "        const charts = await google.colab.kernel.invokeFunction(\n",
              "            'suggestCharts', [key], {});\n",
              "      } catch (error) {\n",
              "        console.error('Error during call to suggestCharts:', error);\n",
              "      }\n",
              "      quickchartButtonEl.classList.remove('colab-df-spinner');\n",
              "      quickchartButtonEl.classList.add('colab-df-quickchart-complete');\n",
              "    }\n",
              "    (() => {\n",
              "      let quickchartButtonEl =\n",
              "        document.querySelector('#df-07baffc0-bd2c-4a02-99cf-8d41807dcd81 button');\n",
              "      quickchartButtonEl.style.display =\n",
              "        google.colab.kernel.accessAllowed ? 'block' : 'none';\n",
              "    })();\n",
              "  </script>\n",
              "</div>\n",
              "\n",
              "    </div>\n",
              "  </div>\n"
            ],
            "application/vnd.google.colaboratory.intrinsic+json": {
              "type": "dataframe",
              "summary": "{\n  \"name\": \"pd\",\n  \"rows\": 5,\n  \"fields\": [\n    {\n      \"column\": \"MedInc\",\n      \"properties\": {\n        \"dtype\": \"number\",\n        \"std\": 1.0514256678434286,\n        \"min\": 2.875,\n        \"max\": 5.3681,\n        \"num_unique_values\": 5,\n        \"samples\": [\n          5.3681,\n          2.875,\n          4.4107\n        ],\n        \"semantic_type\": \"\",\n        \"description\": \"\"\n      }\n    },\n    {\n      \"column\": \"HouseAge\",\n      \"properties\": {\n        \"dtype\": \"number\",\n        \"std\": 9.20326029187483,\n        \"min\": 22.0,\n        \"max\": 45.0,\n        \"num_unique_values\": 5,\n        \"samples\": [\n          26.0,\n          37.0,\n          22.0\n        ],\n        \"semantic_type\": \"\",\n        \"description\": \"\"\n      }\n    },\n    {\n      \"column\": \"AveRooms\",\n      \"properties\": {\n        \"dtype\": \"number\",\n        \"std\": 0.9015195020716026,\n        \"min\": 3.6601340897369776,\n        \"max\": 6.048421052631579,\n        \"num_unique_values\": 5,\n        \"samples\": [\n          6.048421052631579,\n          3.6601340897369776,\n          4.1257861635220126\n        ],\n        \"semantic_type\": \"\",\n        \"description\": \"\"\n      }\n    },\n    {\n      \"column\": \"AveBedrms\",\n      \"properties\": {\n        \"dtype\": \"number\",\n        \"std\": 0.08084186766940928,\n        \"min\": 0.9536082474226804,\n        \"max\": 1.173584905660377,\n        \"num_unique_values\": 5,\n        \"samples\": [\n          1.0105263157894735,\n          1.036616812790098,\n          1.173584905660377\n        ],\n        \"semantic_type\": \"\",\n        \"description\": \"\"\n      }\n    },\n    {\n      \"column\": \"Population\",\n      \"properties\": {\n        \"dtype\": \"number\",\n        \"std\": 1012.0272723597917,\n        \"min\": 401.0,\n        \"max\": 2913.0,\n        \"num_unique_values\": 5,\n        \"samples\": [\n          1915.0,\n          2913.0,\n          1842.0\n        ],\n        \"semantic_type\": \"\",\n        \"description\": \"\"\n      }\n    },\n    {\n      \"column\": \"AveOccup\",\n      \"properties\": {\n        \"dtype\": \"number\",\n        \"std\": 1.0844710345989816,\n        \"min\": 1.5023207839092316,\n        \"max\": 4.031578947368421,\n        \"num_unique_values\": 5,\n        \"samples\": [\n          4.031578947368421,\n          1.5023207839092316,\n          2.316981132075472\n        ],\n        \"semantic_type\": \"\",\n        \"description\": \"\"\n      }\n    },\n    {\n      \"column\": \"Latitude\",\n      \"properties\": {\n        \"dtype\": \"number\",\n        \"std\": 2.126095011987939,\n        \"min\": 33.92,\n        \"max\": 38.44,\n        \"num_unique_values\": 5,\n        \"samples\": [\n          34.28,\n          34.1,\n          37.39\n        ],\n        \"semantic_type\": \"\",\n        \"description\": \"\"\n      }\n    },\n    {\n      \"column\": \"Longitude\",\n      \"properties\": {\n        \"dtype\": \"number\",\n        \"std\": 2.1943677905036805,\n        \"min\": -122.7,\n        \"max\": -118.09,\n        \"num_unique_values\": 5,\n        \"samples\": [\n          -118.77,\n          -118.36,\n          -122.03\n        ],\n        \"semantic_type\": \"\",\n        \"description\": \"\"\n      }\n    },\n    {\n      \"column\": \"MedianHouseValue\",\n      \"properties\": {\n        \"dtype\": \"number\",\n        \"std\": 0.5449859631219872,\n        \"min\": 1.674,\n        \"max\": 3.0,\n        \"num_unique_values\": 5,\n        \"samples\": [\n          1.877,\n          3.0,\n          2.327\n        ],\n        \"semantic_type\": \"\",\n        \"description\": \"\"\n      }\n    }\n  ]\n}"
            }
          },
          "metadata": {},
          "execution_count": 20
        }
      ]
    },
    {
      "cell_type": "code",
      "source": [
        "filapath_dataset = tf.data.Dataset.list_files(train_filepaths, seed = 2024)"
      ],
      "metadata": {
        "id": "2fEONmeMpgGm"
      },
      "execution_count": 21,
      "outputs": []
    },
    {
      "cell_type": "code",
      "source": [
        "for item in filapath_dataset:\n",
        "  print(item)"
      ],
      "metadata": {
        "colab": {
          "base_uri": "https://localhost:8080/"
        },
        "id": "XAFpXp4bpo4z",
        "outputId": "e7cd2a44-5152-45ae-e9e4-bd7eb8c6626d"
      },
      "execution_count": 22,
      "outputs": [
        {
          "output_type": "stream",
          "name": "stdout",
          "text": [
            "tf.Tensor(b'datasets/housing/my_train_14.csv', shape=(), dtype=string)\n",
            "tf.Tensor(b'datasets/housing/my_train_02.csv', shape=(), dtype=string)\n",
            "tf.Tensor(b'datasets/housing/my_train_04.csv', shape=(), dtype=string)\n",
            "tf.Tensor(b'datasets/housing/my_train_18.csv', shape=(), dtype=string)\n",
            "tf.Tensor(b'datasets/housing/my_train_07.csv', shape=(), dtype=string)\n",
            "tf.Tensor(b'datasets/housing/my_train_12.csv', shape=(), dtype=string)\n",
            "tf.Tensor(b'datasets/housing/my_train_00.csv', shape=(), dtype=string)\n",
            "tf.Tensor(b'datasets/housing/my_train_06.csv', shape=(), dtype=string)\n",
            "tf.Tensor(b'datasets/housing/my_train_08.csv', shape=(), dtype=string)\n",
            "tf.Tensor(b'datasets/housing/my_train_05.csv', shape=(), dtype=string)\n",
            "tf.Tensor(b'datasets/housing/my_train_13.csv', shape=(), dtype=string)\n",
            "tf.Tensor(b'datasets/housing/my_train_09.csv', shape=(), dtype=string)\n",
            "tf.Tensor(b'datasets/housing/my_train_03.csv', shape=(), dtype=string)\n",
            "tf.Tensor(b'datasets/housing/my_train_15.csv', shape=(), dtype=string)\n",
            "tf.Tensor(b'datasets/housing/my_train_17.csv', shape=(), dtype=string)\n",
            "tf.Tensor(b'datasets/housing/my_train_01.csv', shape=(), dtype=string)\n",
            "tf.Tensor(b'datasets/housing/my_train_11.csv', shape=(), dtype=string)\n",
            "tf.Tensor(b'datasets/housing/my_train_10.csv', shape=(), dtype=string)\n",
            "tf.Tensor(b'datasets/housing/my_train_19.csv', shape=(), dtype=string)\n",
            "tf.Tensor(b'datasets/housing/my_train_16.csv', shape=(), dtype=string)\n"
          ]
        }
      ]
    },
    {
      "cell_type": "code",
      "source": [
        "num_readers = 5\n",
        "\n",
        "dataset = filapath_dataset.interleave(\n",
        "    lambda filepath:tf.data.TextLineDataset(filepath).skip(1), cycle_length = num_readers, num_parallel_calls = tf.data.experimental.AUTOTUNE\n",
        ")"
      ],
      "metadata": {
        "id": "92bX3XB8psFD"
      },
      "execution_count": 26,
      "outputs": []
    },
    {
      "cell_type": "code",
      "source": [
        "for item in dataset.take(10):\n",
        "  print(item.numpy())"
      ],
      "metadata": {
        "colab": {
          "base_uri": "https://localhost:8080/"
        },
        "id": "C5oFj3ekqKss",
        "outputId": "41b98f50-9c92-4d12-d121-359c692471e0"
      },
      "execution_count": 27,
      "outputs": [
        {
          "output_type": "stream",
          "name": "stdout",
          "text": [
            "b'3.9864,12.0,5.2558575445173386,0.9831302717900656,2595.0,2.4320524835988753,37.71,-121.73,2.002'\n",
            "b'3.5294,12.0,14.113821138211382,2.861788617886179,330.0,2.682926829268293,37.8,-119.07,1.607'\n",
            "b'5.7819,19.0,6.178885630498534,0.9736070381231672,874.0,2.563049853372434,38.5,-122.63,2.656'\n",
            "b'3.3125,9.0,16.541284403669724,3.1162079510703364,594.0,1.81651376146789,38.7,-123.49,2.954'\n",
            "b'3.3021,20.0,5.0,1.0271317829457365,2088.0,2.697674418604651,38.29,-122.27,1.527'\n",
            "b'4.0313,45.0,4.426470588235294,0.9313725490196079,557.0,2.730392156862745,34.19,-118.35,2.091'\n",
            "b'2.212,19.0,4.47953216374269,0.9961013645224172,1246.0,2.4288499025341133,34.96,-120.42,1.32'\n",
            "b'2.6635,16.0,4.555555555555555,1.047953216374269,1762.0,2.0608187134502924,38.57,-121.37,1.358'\n",
            "b'2.0673,24.0,4.409313725490196,1.1519607843137254,1416.0,3.4705882352941178,34.96,-120.43,1.369'\n",
            "b'2.8889,11.0,3.881818181818182,1.2666666666666666,1584.0,4.8,34.12,-118.25,1.531'\n"
          ]
        }
      ]
    },
    {
      "cell_type": "markdown",
      "source": [
        "# Data preprocessing"
      ],
      "metadata": {
        "id": "2bPUUljAq2kk"
      }
    },
    {
      "cell_type": "code",
      "source": [
        "n_inputs = 8\n",
        "\n",
        "def preprocess(line):\n",
        "  defs = [0.0] * n_inputs + [tf.constant([], dtype = tf.float32)] # default values\n",
        "  fields = tf.io.decode_csv(line, record_defaults=defs)\n",
        "\n",
        "  x = tf.stack(fields[:-1])\n",
        "  y = tf.stack(fields[-1:])\n",
        "\n",
        "  return (x - X_mean)/ X_std , y\n"
      ],
      "metadata": {
        "id": "cQeWfNPlqwPH"
      },
      "execution_count": 29,
      "outputs": []
    },
    {
      "cell_type": "code",
      "source": [
        "preprocess(b'2.8889,11.0,3.881818181818182,1.2666666666666666,1584.0,4.8,34.12,-118.25,1.531')"
      ],
      "metadata": {
        "colab": {
          "base_uri": "https://localhost:8080/"
        },
        "id": "zZWvIWrnrWng",
        "outputId": "1ab2571f-d010-4d63-f1cb-b941571829b1"
      },
      "execution_count": 30,
      "outputs": [
        {
          "output_type": "execute_result",
          "data": {
            "text/plain": [
              "(<tf.Tensor: shape=(8,), dtype=float32, numpy=\n",
              " array([-0.5153345 , -1.4140403 , -0.7149639 ,  0.44512007,  0.14762624,\n",
              "         0.24190079, -0.7061543 ,  0.6601964 ], dtype=float32)>,\n",
              " <tf.Tensor: shape=(1,), dtype=float32, numpy=array([1.531], dtype=float32)>)"
            ]
          },
          "metadata": {},
          "execution_count": 30
        }
      ]
    },
    {
      "cell_type": "code",
      "source": [
        "def csv_reader_dataset(filepaths, repeat=1, n_readers=5,\n",
        "                       n_read_threads=None, shuffle_buffer_size=10000,\n",
        "                       n_parse_threads=5, batch_size=32):\n",
        "\n",
        "  filapath_dataset = tf.data.Dataset.list_files(train_filepaths, seed = 2024)\n",
        "  dataset = filapath_dataset.interleave(\n",
        "        lambda filepath: tf.data.TextLineDataset(filepath).skip(1),\n",
        "        cycle_length=n_readers,\n",
        "        num_parallel_calls=n_read_threads\n",
        "  )\n",
        "\n",
        "  preprocessed_dataset = dataset.map(preprocess, num_parallel_calls=n_parse_threads)\n",
        "  shuffled_dataset = preprocessed_dataset.shuffle(shuffle_buffer_size).repeat(repeat)\n",
        "\n",
        "  return shuffled_dataset.batch(batch_size).prefetch(1)"
      ],
      "metadata": {
        "id": "gkf7M2KysEmg"
      },
      "execution_count": 33,
      "outputs": []
    },
    {
      "cell_type": "code",
      "source": [
        "train_set = csv_reader_dataset(train_filepaths, batch_size=3)\n",
        "for X_batch, y_batch in train_set.take(2):\n",
        "    print(\"X =\", X_batch)\n",
        "    print(\"y =\", y_batch)\n",
        "    print()"
      ],
      "metadata": {
        "colab": {
          "base_uri": "https://localhost:8080/"
        },
        "id": "MjTt69dNs7XL",
        "outputId": "a5da4c93-c5bc-4d0f-f947-765b2b35fdb2"
      },
      "execution_count": 34,
      "outputs": [
        {
          "output_type": "stream",
          "name": "stdout",
          "text": [
            "X = tf.Tensor(\n",
            "[[-0.54482585 -1.0949599  -0.79592484  0.03606429  0.50701666 -0.00838294\n",
            "  -0.6548344   0.6052962 ]\n",
            " [-1.0966756   0.6599826  -1.080714   -0.05706565  0.21950431  0.26160917\n",
            "  -0.7714699   0.6601964 ]\n",
            " [-0.9271531  -0.21748862 -0.3360649   0.23162572 -0.7219233  -0.02433081\n",
            "  -0.72948104  1.1243505 ]], shape=(3, 8), dtype=float32)\n",
            "y = tf.Tensor(\n",
            "[[1.832]\n",
            " [0.972]\n",
            " [0.84 ]], shape=(3, 1), dtype=float32)\n",
            "\n",
            "X = tf.Tensor(\n",
            "[[-0.03737247  1.8565344  -0.35805556 -0.45214337 -0.47210315 -0.13294609\n",
            "  -1.3499811   1.224167  ]\n",
            " [-1.1194305  -1.0151898   0.22578947  0.56799024 -0.57290775 -0.04729198\n",
            "   0.7961119  -0.24814768]\n",
            " [ 2.1895988  -1.892661    3.3808062   6.739465   -1.1382903  -0.17715037\n",
            "  -0.883439    1.5635486 ]], shape=(3, 8), dtype=float32)\n",
            "y = tf.Tensor(\n",
            "[[1.634]\n",
            " [0.875]\n",
            " [4.033]], shape=(3, 1), dtype=float32)\n",
            "\n"
          ]
        }
      ]
    },
    {
      "cell_type": "code",
      "source": [
        "train_set = csv_reader_dataset(train_filepaths)\n",
        "valid_set = csv_reader_dataset(valid_filepaths)\n",
        "test_set = csv_reader_dataset(test_filepaths)"
      ],
      "metadata": {
        "id": "yqHt590Ntewu"
      },
      "execution_count": 35,
      "outputs": []
    },
    {
      "cell_type": "code",
      "source": [
        "model = tf.keras.models.Sequential(\n",
        "    [\n",
        "        tf.keras.layers.Dense(30, activation=\"relu\", input_shape=X_train.shape[1:]),\n",
        "        tf.keras.layers.Dense(1)\n",
        "\n",
        "    ]\n",
        ")"
      ],
      "metadata": {
        "id": "6ybETU7KuDxK"
      },
      "execution_count": 36,
      "outputs": []
    },
    {
      "cell_type": "code",
      "source": [
        "model.summary()"
      ],
      "metadata": {
        "colab": {
          "base_uri": "https://localhost:8080/"
        },
        "id": "A2-8CEZsuuUO",
        "outputId": "81f00b81-27eb-4433-d50f-018d4ded920b"
      },
      "execution_count": 37,
      "outputs": [
        {
          "output_type": "stream",
          "name": "stdout",
          "text": [
            "Model: \"sequential\"\n",
            "_________________________________________________________________\n",
            " Layer (type)                Output Shape              Param #   \n",
            "=================================================================\n",
            " dense (Dense)               (None, 30)                270       \n",
            "                                                                 \n",
            " dense_1 (Dense)             (None, 1)                 31        \n",
            "                                                                 \n",
            "=================================================================\n",
            "Total params: 301 (1.18 KB)\n",
            "Trainable params: 301 (1.18 KB)\n",
            "Non-trainable params: 0 (0.00 Byte)\n",
            "_________________________________________________________________\n"
          ]
        }
      ]
    },
    {
      "cell_type": "code",
      "source": [
        "model.compile(loss=\"mse\", optimizer=tf.keras.optimizers.SGD(learning_rate=1e-3))"
      ],
      "metadata": {
        "id": "RubtQJrduwYa"
      },
      "execution_count": 39,
      "outputs": []
    },
    {
      "cell_type": "code",
      "source": [
        "from tensorflow import keras"
      ],
      "metadata": {
        "id": "5kJ_uP1Wuyt4"
      },
      "execution_count": 40,
      "outputs": []
    },
    {
      "cell_type": "code",
      "source": [
        "batch_size = 32\n",
        "model.fit(train_set.repeat(), steps_per_epoch=len(X_train) // batch_size, epochs=10, validation_data=valid_set)"
      ],
      "metadata": {
        "colab": {
          "base_uri": "https://localhost:8080/"
        },
        "id": "1CVInaHBu3Am",
        "outputId": "1bbaec5f-9ab0-4ed9-c44a-20080723f44d"
      },
      "execution_count": 42,
      "outputs": [
        {
          "output_type": "stream",
          "name": "stdout",
          "text": [
            "Epoch 1/10\n",
            "362/362 [==============================] - 7s 18ms/step - loss: 0.8390 - val_loss: 0.7689\n",
            "Epoch 2/10\n",
            "362/362 [==============================] - 2s 5ms/step - loss: 0.7385 - val_loss: 0.7103\n",
            "Epoch 3/10\n",
            "362/362 [==============================] - 2s 5ms/step - loss: 0.6935 - val_loss: 0.6696\n",
            "Epoch 4/10\n",
            "362/362 [==============================] - 2s 5ms/step - loss: 0.6519 - val_loss: 0.6369\n",
            "Epoch 5/10\n",
            "362/362 [==============================] - 2s 5ms/step - loss: 0.6271 - val_loss: 0.6098\n",
            "Epoch 6/10\n",
            "362/362 [==============================] - 3s 9ms/step - loss: 0.6006 - val_loss: 0.5891\n",
            "Epoch 7/10\n",
            "362/362 [==============================] - 2s 5ms/step - loss: 0.5838 - val_loss: 0.5712\n",
            "Epoch 8/10\n",
            "362/362 [==============================] - 2s 4ms/step - loss: 0.5622 - val_loss: 0.5552\n",
            "Epoch 9/10\n",
            "362/362 [==============================] - 2s 6ms/step - loss: 0.5485 - val_loss: 0.5425\n",
            "Epoch 10/10\n",
            "362/362 [==============================] - 2s 5ms/step - loss: 0.5391 - val_loss: 0.5310\n"
          ]
        },
        {
          "output_type": "execute_result",
          "data": {
            "text/plain": [
              "<keras.src.callbacks.History at 0x7d985082f190>"
            ]
          },
          "metadata": {},
          "execution_count": 42
        }
      ]
    },
    {
      "cell_type": "markdown",
      "source": [
        "# The TFRecord Format"
      ],
      "metadata": {
        "id": "E79TDzT_v61P"
      }
    },
    {
      "cell_type": "code",
      "source": [
        "with tf.io.TFRecordWriter(\"my_data.tfrecord\") as f:\n",
        "  f.write(\"Firdt record\")\n",
        "  f.write(\"second record\")"
      ],
      "metadata": {
        "id": "4t3k5BHiu8Qy"
      },
      "execution_count": 43,
      "outputs": []
    },
    {
      "cell_type": "code",
      "source": [
        "!ls -ltr"
      ],
      "metadata": {
        "colab": {
          "base_uri": "https://localhost:8080/"
        },
        "id": "Bjf9QYiawYRz",
        "outputId": "bbf03080-e9a5-4d04-f17c-e5912a3c12a6"
      },
      "execution_count": 44,
      "outputs": [
        {
          "output_type": "stream",
          "name": "stdout",
          "text": [
            "total 12\n",
            "drwxr-xr-x 1 root root 4096 Feb 27 14:34 sample_data\n",
            "drwxr-xr-x 3 root root 4096 Feb 29 02:13 datasets\n",
            "-rw-r--r-- 1 root root   57 Feb 29 02:46 my_data.tfrecord\n"
          ]
        }
      ]
    },
    {
      "cell_type": "code",
      "source": [
        "filepaths = [\"my_data.tfrecord\"]\n",
        "\n",
        "dataset = tf.data.TFRecordDataset(filepaths)\n",
        "for item in dataset:\n",
        "  print(item.numpy())"
      ],
      "metadata": {
        "colab": {
          "base_uri": "https://localhost:8080/"
        },
        "id": "Z22EmD8xwZZE",
        "outputId": "65eec337-32a0-4a58-ef05-0db9204aec2b"
      },
      "execution_count": 46,
      "outputs": [
        {
          "output_type": "stream",
          "name": "stdout",
          "text": [
            "b'Firdt record'\n",
            "b'second record'\n"
          ]
        }
      ]
    },
    {
      "cell_type": "code",
      "source": [
        "options = tf.io.TFRecordOptions(compression_type=\"GZIP\")\n",
        "with tf.io.TFRecordWriter(\"compressed.tfrecord\", options) as f:\n",
        "  f.write(\"Firdt record\")\n",
        "  f.write(\"second record\")"
      ],
      "metadata": {
        "id": "ycXOX934wlSA"
      },
      "execution_count": 47,
      "outputs": []
    },
    {
      "cell_type": "code",
      "source": [
        "filepaths = [\"compressed.tfrecord\"]\n",
        "\n",
        "dataset = tf.data.TFRecordDataset(filepaths, compression_type = \"GZIP\")\n",
        "for item in dataset:\n",
        "  print(item.numpy())"
      ],
      "metadata": {
        "colab": {
          "base_uri": "https://localhost:8080/"
        },
        "id": "XfFhBNPQw1Jn",
        "outputId": "05d7ab5d-681a-4972-8800-679075977a98"
      },
      "execution_count": 48,
      "outputs": [
        {
          "output_type": "stream",
          "name": "stdout",
          "text": [
            "b'Firdt record'\n",
            "b'second record'\n"
          ]
        }
      ]
    },
    {
      "cell_type": "code",
      "source": [
        "from tensorflow.train import BytesList, FloatList, Int64List\n",
        "from tensorflow.train import Feature, Features, Example"
      ],
      "metadata": {
        "id": "1rQpZRivw7KJ"
      },
      "execution_count": 49,
      "outputs": []
    },
    {
      "cell_type": "code",
      "source": [
        "person_example = Example(\n",
        "    features = Features(\n",
        "        feature = {\n",
        "            \"name\":Feature(bytes_list = BytesList(value = [b\"Hem\"])),\n",
        "            \"age\": Feature(int64_list = Int64List(value = [123])),\n",
        "            \"emails\": Feature(bytes_list = BytesList(value = [b\"Hem@gmail.com\",b\"hem@yahoo.com\"]))\n",
        "        }\n",
        "    )\n",
        ")"
      ],
      "metadata": {
        "id": "9M7ZvNYux64a"
      },
      "execution_count": 51,
      "outputs": []
    },
    {
      "cell_type": "code",
      "source": [
        "with tf.io.TFRecordWriter(\"persons.tfrec\") as f:\n",
        "  f.write(person_example.SerializeToString())"
      ],
      "metadata": {
        "id": "54HUDNULybg3"
      },
      "execution_count": 52,
      "outputs": []
    },
    {
      "cell_type": "code",
      "source": [
        "!ls -ltr"
      ],
      "metadata": {
        "colab": {
          "base_uri": "https://localhost:8080/"
        },
        "id": "wzAD_youyzZE",
        "outputId": "44619ec6-3f3c-474c-c1e7-4b22ce515016"
      },
      "execution_count": 53,
      "outputs": [
        {
          "output_type": "stream",
          "name": "stdout",
          "text": [
            "total 20\n",
            "drwxr-xr-x 1 root root 4096 Feb 27 14:34 sample_data\n",
            "drwxr-xr-x 3 root root 4096 Feb 29 02:13 datasets\n",
            "-rw-r--r-- 1 root root   57 Feb 29 02:46 my_data.tfrecord\n",
            "-rw-r--r-- 1 root root   62 Feb 29 02:48 compressed.tfrecord\n",
            "-rw-r--r-- 1 root root   93 Feb 29 02:57 persons.tfrec\n"
          ]
        }
      ]
    },
    {
      "cell_type": "code",
      "source": [
        "dataset = tf.data.TFRecordDataset([\"persons.tfrec\"])\n",
        "for item in dataset:\n",
        "  parsed_person = Example()\n",
        "  parsed_person.ParseFromString(item)\n",
        "  print(parsed_person)"
      ],
      "metadata": {
        "colab": {
          "base_uri": "https://localhost:8080/"
        },
        "id": "6pyFjvWzyz8y",
        "outputId": "0e674739-2cab-4197-c1fe-b78124fdcae7"
      },
      "execution_count": 56,
      "outputs": [
        {
          "output_type": "stream",
          "name": "stdout",
          "text": [
            "\n"
          ]
        },
        {
          "output_type": "stream",
          "name": "stderr",
          "text": [
            "<ipython-input-56-a4cc742ef2ab>:4: RuntimeWarning: Unexpected end-group tag: Not all data was converted\n",
            "  parsed_person.ParseFromString(item)\n"
          ]
        }
      ]
    },
    {
      "cell_type": "code",
      "source": [],
      "metadata": {
        "id": "1mwMx8IKy5o5"
      },
      "execution_count": null,
      "outputs": []
    }
  ]
}