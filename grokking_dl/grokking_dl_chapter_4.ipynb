{
  "nbformat": 4,
  "nbformat_minor": 0,
  "metadata": {
    "colab": {
      "provenance": [],
      "authorship_tag": "ABX9TyOXdPxwYQ2cwGrhEmRhc8AA",
      "include_colab_link": true
    },
    "kernelspec": {
      "name": "python3",
      "display_name": "Python 3"
    },
    "language_info": {
      "name": "python"
    }
  },
  "cells": [
    {
      "cell_type": "markdown",
      "metadata": {
        "id": "view-in-github",
        "colab_type": "text"
      },
      "source": [
        "<a href=\"https://colab.research.google.com/github/beercafeguy/PyMLLab/blob/master/grokking_dl/grokking_dl_chapter_4.ipynb\" target=\"_parent\"><img src=\"https://colab.research.google.com/assets/colab-badge.svg\" alt=\"Open In Colab\"/></a>"
      ]
    },
    {
      "cell_type": "code",
      "execution_count": 1,
      "metadata": {
        "id": "KcQuPleilG_v"
      },
      "outputs": [],
      "source": [
        "import numpy as np"
      ]
    },
    {
      "cell_type": "code",
      "source": [
        "knob_weight = 0.5\n",
        "\n",
        "input = 0.5\n",
        "\n",
        "actual_op = 0.8\n",
        "\n",
        "pred = input * knob_weight\n",
        "error = (pred - actual_op) ** 2 # Mean Squared Error\n",
        "print(error)"
      ],
      "metadata": {
        "colab": {
          "base_uri": "https://localhost:8080/"
        },
        "id": "XlFedI_DmIzy",
        "outputId": "a635d163-14e8-47db-b687-00a01b5151c1"
      },
      "execution_count": 2,
      "outputs": [
        {
          "output_type": "stream",
          "name": "stdout",
          "text": [
            "0.30250000000000005\n"
          ]
        }
      ]
    },
    {
      "cell_type": "code",
      "source": [
        "weight = 0.1\n",
        "\n",
        "lr = 0.01\n",
        "\n",
        "def neural_network(input,weight):\n",
        "  return input * weight"
      ],
      "metadata": {
        "id": "JDXUwwotoH9A"
      },
      "execution_count": 3,
      "outputs": []
    },
    {
      "cell_type": "code",
      "source": [
        "#input\n",
        "number_of_toes = [8.5]\n",
        "\n",
        "# Actual output\n",
        "win_or_lose_binary = [1] # (won!!!)\n",
        "\n",
        "input = number_of_toes[0]\n",
        "actual_op = win_or_lose_binary[0]\n",
        "\n",
        "pred = neural_network(input,weight)\n",
        "print(pred)"
      ],
      "metadata": {
        "colab": {
          "base_uri": "https://localhost:8080/"
        },
        "id": "4LERfZZPmXcE",
        "outputId": "47f48c80-6504-4524-a271-84f118ee02b0"
      },
      "execution_count": 4,
      "outputs": [
        {
          "output_type": "stream",
          "name": "stdout",
          "text": [
            "0.8500000000000001\n"
          ]
        }
      ]
    },
    {
      "cell_type": "code",
      "source": [
        "raw_error = actual_op - pred\n",
        "mse_error = (raw_error) ** 2\n",
        "\n",
        "print('raw_error',raw_error)\n",
        "print('mse_error', mse_error)"
      ],
      "metadata": {
        "colab": {
          "base_uri": "https://localhost:8080/"
        },
        "id": "-5eiaMQaoWzE",
        "outputId": "f4655478-3268-485f-e96e-46fda6cf2a58"
      },
      "execution_count": 5,
      "outputs": [
        {
          "output_type": "stream",
          "name": "stdout",
          "text": [
            "raw_error 0.1499999999999999\n",
            "mse_error 0.022499999999999975\n"
          ]
        }
      ]
    },
    {
      "cell_type": "code",
      "source": [
        "# lets increase and decrease the weight and see the error changing\n",
        "\n",
        "pred_up_weight = neural_network(input,weight+lr) # lr is learning rate\n",
        "raw_error = actual_op - pred_up_weight\n",
        "mse_error = (raw_error) ** 2\n",
        "\n",
        "print('mse_error when weight is increased' , mse_error)\n",
        "\n",
        "pred_up_weight = neural_network(input,weight - lr)\n",
        "raw_error = actual_op - pred_up_weight\n",
        "mse_error = (raw_error) ** 2\n",
        "\n",
        "print('mse_error when weight is decreased' , mse_error)"
      ],
      "metadata": {
        "colab": {
          "base_uri": "https://localhost:8080/"
        },
        "id": "fuAkHTgqokXZ",
        "outputId": "bf965df7-afb8-44a2-a665-064c0f51fe3d"
      },
      "execution_count": 7,
      "outputs": [
        {
          "output_type": "stream",
          "name": "stdout",
          "text": [
            "mse_error when weight is increased 0.004224999999999993\n",
            "mse_error when weight is decreased 0.05522499999999994\n"
          ]
        }
      ]
    },
    {
      "cell_type": "code",
      "source": [
        "weight = 0.5\n",
        "\n",
        "input = 0.5\n",
        "\n",
        "actual_op = 0.8\n",
        "\n",
        "learning_rate = 0.1\n",
        "\n",
        "for epoch in range(1001):\n",
        "\n",
        "  pred = input * weight\n",
        "  error = (actual_op - pred) ** 2\n",
        "  print(f\"Error {error} | Prediction {pred} | Weight {weight}\")\n",
        "\n",
        "  if error <=0.00000001:\n",
        "    break\n",
        "\n",
        "  up_pred = input * (weight + learning_rate)\n",
        "  up_error = (actual_op - up_pred) ** 2\n",
        "\n",
        "  down_pred = input * (weight - learning_rate)\n",
        "  down_error = (actual_op - down_pred) ** 2\n",
        "\n",
        "  if down_error < up_error:\n",
        "    weight = weight - learning_rate\n",
        "  else:\n",
        "    weight = weight + learning_rate"
      ],
      "metadata": {
        "colab": {
          "base_uri": "https://localhost:8080/"
        },
        "id": "QoWoAhrJpFAQ",
        "outputId": "2d32ff31-63e1-491d-b3af-92fd8f7b9cf5"
      },
      "execution_count": 10,
      "outputs": [
        {
          "output_type": "stream",
          "name": "stdout",
          "text": [
            "Error 0.30250000000000005 | Prediction 0.25 | Weight 0.5\n",
            "Error 0.25 | Prediction 0.3 | Weight 0.6\n",
            "Error 0.20250000000000007 | Prediction 0.35 | Weight 0.7\n",
            "Error 0.16000000000000006 | Prediction 0.39999999999999997 | Weight 0.7999999999999999\n",
            "Error 0.12250000000000007 | Prediction 0.44999999999999996 | Weight 0.8999999999999999\n",
            "Error 0.09000000000000007 | Prediction 0.49999999999999994 | Weight 0.9999999999999999\n",
            "Error 0.06250000000000006 | Prediction 0.5499999999999999 | Weight 1.0999999999999999\n",
            "Error 0.04000000000000003 | Prediction 0.6 | Weight 1.2\n",
            "Error 0.022500000000000006 | Prediction 0.65 | Weight 1.3\n",
            "Error 0.009999999999999995 | Prediction 0.7000000000000001 | Weight 1.4000000000000001\n",
            "Error 0.0024999999999999935 | Prediction 0.7500000000000001 | Weight 1.5000000000000002\n",
            "Error 1.232595164407831e-32 | Prediction 0.8000000000000002 | Weight 1.6000000000000003\n"
          ]
        }
      ]
    },
    {
      "cell_type": "code",
      "source": [],
      "metadata": {
        "id": "ADSLeUHnqahe"
      },
      "execution_count": null,
      "outputs": []
    }
  ]
}