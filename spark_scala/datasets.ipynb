{
 "cells": [
  {
   "cell_type": "code",
   "execution_count": 8,
   "id": "2d3a6933-b1ee-4347-8282-a46d5b8af45b",
   "metadata": {},
   "outputs": [
    {
     "data": {
      "text/plain": [
       "import org.apache.spark.sql.SparkSession\n",
       "spark: org.apache.spark.sql.SparkSession = org.apache.spark.sql.SparkSession@5e21f05c\n",
       "import spark.implicits._\n"
      ]
     },
     "execution_count": 8,
     "metadata": {},
     "output_type": "execute_result"
    }
   ],
   "source": [
    "import org.apache.spark.sql.SparkSession\n",
    "val spark = SparkSession.builder().appName(\"Datasets Spark App\")\n",
    ".config(\"spark.sql.shuffle.partitions\",4)\n",
    ".master(\"local[*]\")\n",
    ".getOrCreate()\n",
    "import spark.implicits._"
   ]
  },
  {
   "cell_type": "code",
   "execution_count": 19,
   "id": "9424a081-04f4-44e1-b2a5-de95031170f6",
   "metadata": {},
   "outputs": [
    {
     "data": {
      "text/plain": [
       "blogsDF: org.apache.spark.sql.DataFrame = [Campaigns: array<string>, First: string ... 5 more fields]\n"
      ]
     },
     "execution_count": 19,
     "metadata": {},
     "output_type": "execute_result"
    }
   ],
   "source": [
    "val blogsDF=spark.read.json(\"../data/blogs.json\")"
   ]
  },
  {
   "cell_type": "markdown",
   "id": "187ffd27-379d-4b1d-9aa2-dafccd6c34c1",
   "metadata": {},
   "source": [
    "##### Dataframe to dataset conversion\n",
    "\n",
    "```dataset = dataframe.as[CaseClassName]```"
   ]
  },
  {
   "cell_type": "code",
   "execution_count": 12,
   "id": "4d1aff89-84c1-41b2-b067-aea7b0166555",
   "metadata": {},
   "outputs": [
    {
     "data": {
      "text/plain": [
       "import scala.util.Random._\n"
      ]
     },
     "execution_count": 12,
     "metadata": {},
     "output_type": "execute_result"
    }
   ],
   "source": [
    "import scala.util.Random._"
   ]
  },
  {
   "cell_type": "code",
   "execution_count": 18,
   "id": "6cb9fd0a-db1f-4d54-9725-e12b112bf34d",
   "metadata": {},
   "outputs": [
    {
     "ename": "<console>",
     "evalue": "24: error: Unable to find encoder for type Usage. An implicit Encoder[Usage] is needed to store Usage instances in a Dataset. Primitive types (Int, String, etc) and Product types (case classes) are supported by importing spark.implicits._  Support for serializing other types will be added in future releases.",
     "output_type": "error",
     "traceback": [
      "<console>:24: error: Unable to find encoder for type Usage. An implicit Encoder[Usage] is needed to store Usage instances in a Dataset. Primitive types (Int, String, etc) and Product types (case classes) are supported by importing spark.implicits._  Support for serializing other types will be added in future releases.",
      "       val dsUsage=spark.createDataset(data)",
      "                                      ^",
      ""
     ]
    }
   ],
   "source": [
    "case class Usage(uid:Int,uname:String,usage:Int)\n",
    "val random=new scala.util.Random(42)\n",
    "val data=for (i <- 0 to 1000)\n",
    "    yield (Usage(i,\"user-\"+random.alphanumeric.take(5).mkString(\"\"),random.nextInt(1000)))\n",
    "\n",
    "val dsUsage=spark.createDataset(data)"
   ]
  },
  {
   "cell_type": "code",
   "execution_count": null,
   "id": "31447110-4145-4503-8534-c81021b7e375",
   "metadata": {},
   "outputs": [],
   "source": []
  }
 ],
 "metadata": {
  "kernelspec": {
   "display_name": "spylon-kernel",
   "language": "scala",
   "name": "spylon-kernel"
  },
  "language_info": {
   "codemirror_mode": "text/x-scala",
   "file_extension": ".scala",
   "help_links": [
    {
     "text": "MetaKernel Magics",
     "url": "https://metakernel.readthedocs.io/en/latest/source/README.html"
    }
   ],
   "mimetype": "text/x-scala",
   "name": "scala",
   "pygments_lexer": "scala",
   "version": "0.4.1"
  }
 },
 "nbformat": 4,
 "nbformat_minor": 5
}
