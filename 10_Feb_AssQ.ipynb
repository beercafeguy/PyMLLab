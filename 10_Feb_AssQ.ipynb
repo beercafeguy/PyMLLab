{
  "nbformat": 4,
  "nbformat_minor": 0,
  "metadata": {
    "colab": {
      "provenance": [],
      "authorship_tag": "ABX9TyP9GB+xp7vcqA+QahcYO/7+",
      "include_colab_link": true
    },
    "kernelspec": {
      "name": "python3",
      "display_name": "Python 3"
    },
    "language_info": {
      "name": "python"
    }
  },
  "cells": [
    {
      "cell_type": "markdown",
      "metadata": {
        "id": "view-in-github",
        "colab_type": "text"
      },
      "source": [
        "<a href=\"https://colab.research.google.com/github/beercafeguy/PyMLLab/blob/master/10_Feb_AssQ.ipynb\" target=\"_parent\"><img src=\"https://colab.research.google.com/assets/colab-badge.svg\" alt=\"Open In Colab\"/></a>"
      ]
    },
    {
      "cell_type": "markdown",
      "source": [
        "**Q1.** Which function is used to open a file? What are the different modes of opening a file? Explain each mode\n",
        "of file opening."
      ],
      "metadata": {
        "id": "RKvbJkx1n1Ka"
      }
    },
    {
      "cell_type": "markdown",
      "source": [
        "**Ans:**\n",
        "\n",
        "open() function is used to open a file. Below are the modes for opening a file.\n",
        "\n",
        "\n",
        "1.   Read Only (r) : Opening the file only for reading. This is the default option with open method.\n",
        "2.   Read and Write (r+) : Open the file for both reading and writing.\n",
        "3.   Write Only (w) : Open the file only for writing. If file already has some data, that will be overwritten. This will also create a file if it does not exist.\n",
        "4.   Write and Read (w+) : You can read a s well as write the file. The difference against r+ is that r+ does not create or truncate the file.\n",
        "5.   Append Only(a) : Open file for writing but in append only mode\n",
        "6.   Append and Read(a+) : Append as well as read. here the handle of the file is positioned at the end.\n",
        "\n",
        "**Note:**\n",
        "These modes are for text files only. In case of binary, we need to ad b at the end like 'rb', 'rb+'\n",
        "\n",
        "\n",
        "\n",
        "\n",
        "\n"
      ],
      "metadata": {
        "id": "pzOWAA49n5V-"
      }
    },
    {
      "cell_type": "markdown",
      "source": [
        "**Q2.** Why close() function is used? Why is it important to close a file?"
      ],
      "metadata": {
        "id": "p2Ouk1hlpzJ-"
      }
    },
    {
      "cell_type": "markdown",
      "source": [
        "**Ans:**\n",
        "\n",
        "Every file.open() call in python (In any language for that matter) starts a communication with OS and requests for the file handle (in windows). This is an integer valye which points to file on disk. The OS has limited such pointers resources so if we don't close the files (release this integer value), we will run out of resources. That is the reason, we should close the file after use.\n",
        "\n",
        "In python we have an implicit way of doing this using contexts."
      ],
      "metadata": {
        "id": "I0RQMWM5p0_Y"
      }
    },
    {
      "cell_type": "markdown",
      "source": [
        "**Q3.** Write a python program to create a text file. Write ‘I want to become a Data Scientist’ in that file. Then\n",
        "close the file. Open this file and read the content of the file."
      ],
      "metadata": {
        "id": "O8j7ycCvrHKi"
      }
    },
    {
      "cell_type": "code",
      "execution_count": 4,
      "metadata": {
        "id": "xS3V3GNSnvL_"
      },
      "outputs": [],
      "source": [
        "f_handle = open(\"my_file.txt\",\"w\")\n",
        "f_handle.write('I want to become a Data Scientist')\n",
        "f_handle.close()"
      ]
    },
    {
      "cell_type": "code",
      "source": [
        "!ls -ltr"
      ],
      "metadata": {
        "colab": {
          "base_uri": "https://localhost:8080/"
        },
        "id": "iouRg12yrncQ",
        "outputId": "81404b0e-4239-4572-f66a-131ecdd175ba"
      },
      "execution_count": 5,
      "outputs": [
        {
          "output_type": "stream",
          "name": "stdout",
          "text": [
            "total 8\n",
            "drwxr-xr-x 1 root root 4096 Feb 10 14:33 sample_data\n",
            "-rw-r--r-- 1 root root   33 Feb 14 16:08 my_file.txt\n"
          ]
        }
      ]
    },
    {
      "cell_type": "code",
      "source": [
        "read_handle = open(\"my_file.txt\",\"r\")\n",
        "print(read_handle.read())\n",
        "read_handle.close()"
      ],
      "metadata": {
        "colab": {
          "base_uri": "https://localhost:8080/"
        },
        "id": "v0Jl5ntJrptU",
        "outputId": "c149765a-9482-496e-ae6b-cb5ddc709f24"
      },
      "execution_count": 6,
      "outputs": [
        {
          "output_type": "stream",
          "name": "stdout",
          "text": [
            "I want to become a Data Scientist\n"
          ]
        }
      ]
    },
    {
      "cell_type": "markdown",
      "source": [
        "Q4. Explain the following with python code: read(), readline() and readlines()."
      ],
      "metadata": {
        "id": "5BO7RU53r6-h"
      }
    },
    {
      "cell_type": "code",
      "source": [
        "# lets create a file with multiple lines \n",
        "\n",
        "f_handle = open(\"multi_line_file.txt\",\"a\")\n",
        "for i in range(10):\n",
        "  f_handle.write('I want to become a Data Scientist in {0} days \\n'.format(i))\n",
        "f_handle.close()"
      ],
      "metadata": {
        "id": "7pSS3cofr2K-"
      },
      "execution_count": 12,
      "outputs": []
    },
    {
      "cell_type": "code",
      "source": [
        "!cat multi_line_file.txt"
      ],
      "metadata": {
        "colab": {
          "base_uri": "https://localhost:8080/"
        },
        "id": "DowE7QGzsy_3",
        "outputId": "1e6a1f6f-5784-4541-c934-3dd300259620"
      },
      "execution_count": 13,
      "outputs": [
        {
          "output_type": "stream",
          "name": "stdout",
          "text": [
            "I want to become a Data Scientist in 0 days \n",
            "I want to become a Data Scientist in 1 days \n",
            "I want to become a Data Scientist in 2 days \n",
            "I want to become a Data Scientist in 3 days \n",
            "I want to become a Data Scientist in 4 days \n",
            "I want to become a Data Scientist in 5 days \n",
            "I want to become a Data Scientist in 6 days \n",
            "I want to become a Data Scientist in 7 days \n",
            "I want to become a Data Scientist in 8 days \n",
            "I want to become a Data Scientist in 9 days \n"
          ]
        }
      ]
    },
    {
      "cell_type": "code",
      "source": [
        "# lets try reading this using read\n",
        "hand = open(\"multi_line_file.txt\",\"r\")\n",
        "print(hand.read())\n",
        "hand.close()\n"
      ],
      "metadata": {
        "colab": {
          "base_uri": "https://localhost:8080/"
        },
        "id": "rskVn-Gxs11u",
        "outputId": "986aa22b-41d7-4e86-9c6c-b75b2b25bdd4"
      },
      "execution_count": 15,
      "outputs": [
        {
          "output_type": "stream",
          "name": "stdout",
          "text": [
            "I want to become a Data Scientist in 0 days \n",
            "I want to become a Data Scientist in 1 days \n",
            "I want to become a Data Scientist in 2 days \n",
            "I want to become a Data Scientist in 3 days \n",
            "I want to become a Data Scientist in 4 days \n",
            "I want to become a Data Scientist in 5 days \n",
            "I want to become a Data Scientist in 6 days \n",
            "I want to become a Data Scientist in 7 days \n",
            "I want to become a Data Scientist in 8 days \n",
            "I want to become a Data Scientist in 9 days \n",
            "\n"
          ]
        }
      ]
    },
    {
      "cell_type": "markdown",
      "source": [
        "Here read() method is reading the file in one go as one line. We can get a list of lines by breaking this on \\n"
      ],
      "metadata": {
        "id": "0nIX9qidtHY-"
      }
    },
    {
      "cell_type": "code",
      "source": [
        "# lets try readline() : hint -> this works on generator principal\n",
        "\n",
        "hand = open(\"multi_line_file.txt\",\"r\")\n",
        "print(hand.readline())\n",
        "print(hand.readline())\n",
        "print(hand.readline(10))\n",
        "hand.close()"
      ],
      "metadata": {
        "colab": {
          "base_uri": "https://localhost:8080/"
        },
        "id": "uPh6OFoytFJL",
        "outputId": "50035438-56c0-4858-e1cd-2567117a233d"
      },
      "execution_count": 17,
      "outputs": [
        {
          "output_type": "stream",
          "name": "stdout",
          "text": [
            "I want to become a Data Scientist in 0 days \n",
            "\n",
            "I want to become a Data Scientist in 1 days \n",
            "\n",
            "I want to \n"
          ]
        }
      ]
    },
    {
      "cell_type": "markdown",
      "source": [
        "readline return 1 line from the file in every single call. If we want to mentioned the number of chars, that can be mentioned like above"
      ],
      "metadata": {
        "id": "DjndmBDHtqCN"
      }
    },
    {
      "cell_type": "code",
      "source": [
        "# readlines() is used to return all the lines of the file inform of a list\n",
        "\n",
        "hand = open(\"multi_line_file.txt\",\"r\")\n",
        "lines = hand.readlines()\n",
        "print(lines)\n",
        "print(\"Number of lines in file {0}\".format(len(lines)))\n",
        "hand.close()"
      ],
      "metadata": {
        "colab": {
          "base_uri": "https://localhost:8080/"
        },
        "id": "zEvXzUhvtoXh",
        "outputId": "3504cc7b-0691-4886-9c58-be364e481722"
      },
      "execution_count": 20,
      "outputs": [
        {
          "output_type": "stream",
          "name": "stdout",
          "text": [
            "['I want to become a Data Scientist in 0 days \\n', 'I want to become a Data Scientist in 1 days \\n', 'I want to become a Data Scientist in 2 days \\n', 'I want to become a Data Scientist in 3 days \\n', 'I want to become a Data Scientist in 4 days \\n', 'I want to become a Data Scientist in 5 days \\n', 'I want to become a Data Scientist in 6 days \\n', 'I want to become a Data Scientist in 7 days \\n', 'I want to become a Data Scientist in 8 days \\n', 'I want to become a Data Scientist in 9 days \\n']\n",
            "Number of lines in file 10\n"
          ]
        }
      ]
    },
    {
      "cell_type": "code",
      "source": [
        "# best way to read a file\n",
        "\n",
        "with open(\"multi_line_file.txt\",\"r\") as f:\n",
        "  for line in f:\n",
        "    print(line)"
      ],
      "metadata": {
        "colab": {
          "base_uri": "https://localhost:8080/"
        },
        "id": "NQ3zr_nCt3_w",
        "outputId": "7aa431b9-5f2d-4752-877d-032a9880cfbb"
      },
      "execution_count": 21,
      "outputs": [
        {
          "output_type": "stream",
          "name": "stdout",
          "text": [
            "I want to become a Data Scientist in 0 days \n",
            "\n",
            "I want to become a Data Scientist in 1 days \n",
            "\n",
            "I want to become a Data Scientist in 2 days \n",
            "\n",
            "I want to become a Data Scientist in 3 days \n",
            "\n",
            "I want to become a Data Scientist in 4 days \n",
            "\n",
            "I want to become a Data Scientist in 5 days \n",
            "\n",
            "I want to become a Data Scientist in 6 days \n",
            "\n",
            "I want to become a Data Scientist in 7 days \n",
            "\n",
            "I want to become a Data Scientist in 8 days \n",
            "\n",
            "I want to become a Data Scientist in 9 days \n",
            "\n"
          ]
        }
      ]
    },
    {
      "cell_type": "code",
      "source": [
        "!ls -ltr"
      ],
      "metadata": {
        "colab": {
          "base_uri": "https://localhost:8080/"
        },
        "id": "HLAF8nHeuqpW",
        "outputId": "72633f45-3bc2-4979-f821-942d6dbcdcde"
      },
      "execution_count": 23,
      "outputs": [
        {
          "output_type": "stream",
          "name": "stdout",
          "text": [
            "total 12\n",
            "drwxr-xr-x 1 root root 4096 Feb 10 14:33 sample_data\n",
            "-rw-r--r-- 1 root root   33 Feb 14 16:08 my_file.txt\n",
            "-rw-r--r-- 1 root root  450 Feb 14 16:13 multi_line_file.txt\n"
          ]
        }
      ]
    },
    {
      "cell_type": "markdown",
      "source": [
        "**Q5.** Explain why with statement is used with open(). What is the advantage of using with statement and\n",
        "open() together?"
      ],
      "metadata": {
        "id": "VqE6VwEJvLMB"
      }
    },
    {
      "cell_type": "markdown",
      "source": [
        "As I have shown in above example, we neecd to close the file after use every time we open a file. Wih the use of with, we can avoid this because in case of with open(), python creates a Context Manager instance and that contaxt manager is responsible for opening and closing the file. This way, its helpful in managing OS resources."
      ],
      "metadata": {
        "id": "Wqr1LZacvMb3"
      }
    },
    {
      "cell_type": "markdown",
      "source": [
        "**Q6.** Explain the write() and writelines() functions. Give a suitable example."
      ],
      "metadata": {
        "id": "fNV7-KchvyW6"
      }
    },
    {
      "cell_type": "code",
      "source": [
        "# Write method writes the data as it it is without adding any new line in the file\n",
        "\n",
        "f = open(\"fruits.txt\",\"w\")\n",
        "for i in range(5):\n",
        "  f_name = input(\"Enter name of a Fruit :\")\n",
        "  f.write(f_name)\n",
        "\n",
        "f.close()"
      ],
      "metadata": {
        "colab": {
          "base_uri": "https://localhost:8080/"
        },
        "id": "eJKKg2Rbu-Zo",
        "outputId": "70ace462-b83f-44b8-aac3-7b8e34f545db"
      },
      "execution_count": 24,
      "outputs": [
        {
          "name": "stdout",
          "output_type": "stream",
          "text": [
            "Enter name of a Fruit :Apple\n",
            "Enter name of a Fruit :Orange\n",
            "Enter name of a Fruit :Mango\n",
            "Enter name of a Fruit :Banana\n",
            "Enter name of a Fruit :Kiwi\n"
          ]
        }
      ]
    },
    {
      "cell_type": "code",
      "source": [
        "!cat fruits.txt"
      ],
      "metadata": {
        "colab": {
          "base_uri": "https://localhost:8080/"
        },
        "id": "Qv1x9zb_wf8z",
        "outputId": "01e2cb96-8788-4f9a-f178-27a8c804858d"
      },
      "execution_count": 25,
      "outputs": [
        {
          "output_type": "stream",
          "name": "stdout",
          "text": [
            "AppleOrangeMangoBananaKiwi"
          ]
        }
      ]
    },
    {
      "cell_type": "markdown",
      "source": [
        "here if you notice, we don't have any newline in data. So all the fruit names are written in same line. If we want to write them on different lines below is the code"
      ],
      "metadata": {
        "id": "k-ie3N0Mwp-i"
      }
    },
    {
      "cell_type": "code",
      "source": [
        "f = open(\"fruits.txt\",\"w\")\n",
        "for i in range(5):\n",
        "  f_name = input(\"Enter name of a Fruit :\")\n",
        "  f.write(f_name)\n",
        "  f.write('\\n')\n",
        "\n",
        "f.close()"
      ],
      "metadata": {
        "colab": {
          "base_uri": "https://localhost:8080/"
        },
        "id": "U-ZSnxovwnoq",
        "outputId": "c6e6d449-a628-4719-ba81-dadb0be6bfeb"
      },
      "execution_count": 26,
      "outputs": [
        {
          "name": "stdout",
          "output_type": "stream",
          "text": [
            "Enter name of a Fruit :Apple\n",
            "Enter name of a Fruit :Orange\n",
            "Enter name of a Fruit :Banana\n",
            "Enter name of a Fruit :Mango\n",
            "Enter name of a Fruit :Kiwi\n"
          ]
        }
      ]
    },
    {
      "cell_type": "code",
      "source": [
        "!cat fruits.txt"
      ],
      "metadata": {
        "colab": {
          "base_uri": "https://localhost:8080/"
        },
        "id": "L_b31n13w5WB",
        "outputId": "ff65889a-683f-45c1-a845-91eda78fc56c"
      },
      "execution_count": 27,
      "outputs": [
        {
          "output_type": "stream",
          "name": "stdout",
          "text": [
            "Apple\n",
            "Orange\n",
            "Banana\n",
            "Mango\n",
            "Kiwi\n"
          ]
        }
      ]
    },
    {
      "cell_type": "code",
      "source": [
        "# instead of this, if we want to write the list of fruits in a file, I will use writelines"
      ],
      "metadata": {
        "id": "u5boLjN4xAiy"
      },
      "execution_count": 28,
      "outputs": []
    },
    {
      "cell_type": "code",
      "source": [
        "f = open(\"fruits_lines.txt\",\"w\")\n",
        "fruits = []\n",
        "for i in range(3):\n",
        "  f_name = input(\"Enter name of a Fruit :\")\n",
        "  fruits.append(f_name+'\\n')\n",
        "f.writelines(fruits)\n",
        "f.close()"
      ],
      "metadata": {
        "colab": {
          "base_uri": "https://localhost:8080/"
        },
        "id": "d9w1P0pdxH8L",
        "outputId": "102020e3-e4cd-4af8-8833-9f60d39e3f9a"
      },
      "execution_count": 31,
      "outputs": [
        {
          "name": "stdout",
          "output_type": "stream",
          "text": [
            "Enter name of a Fruit :Apple\n",
            "Enter name of a Fruit :Banana\n",
            "Enter name of a Fruit :Mango\n"
          ]
        }
      ]
    },
    {
      "cell_type": "code",
      "source": [
        "!cat fruits_lines.txt"
      ],
      "metadata": {
        "colab": {
          "base_uri": "https://localhost:8080/"
        },
        "id": "RbZXSbhtxS2w",
        "outputId": "4d43e045-ab2a-4393-df51-34a1aab69bf9"
      },
      "execution_count": 32,
      "outputs": [
        {
          "output_type": "stream",
          "name": "stdout",
          "text": [
            "Apple\n",
            "Banana\n",
            "Mango\n"
          ]
        }
      ]
    },
    {
      "cell_type": "code",
      "source": [],
      "metadata": {
        "id": "zwDHaH42xWzw"
      },
      "execution_count": null,
      "outputs": []
    }
  ]
}