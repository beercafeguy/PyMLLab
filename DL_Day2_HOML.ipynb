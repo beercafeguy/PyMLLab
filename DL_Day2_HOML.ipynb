{
  "nbformat": 4,
  "nbformat_minor": 0,
  "metadata": {
    "colab": {
      "provenance": [],
      "authorship_tag": "ABX9TyMyZcbbYHa+/nWRciyTp0xU",
      "include_colab_link": true
    },
    "kernelspec": {
      "name": "python3",
      "display_name": "Python 3"
    },
    "language_info": {
      "name": "python"
    }
  },
  "cells": [
    {
      "cell_type": "markdown",
      "metadata": {
        "id": "view-in-github",
        "colab_type": "text"
      },
      "source": [
        "<a href=\"https://colab.research.google.com/github/beercafeguy/PyMLLab/blob/master/DL_Day2_HOML.ipynb\" target=\"_parent\"><img src=\"https://colab.research.google.com/assets/colab-badge.svg\" alt=\"Open In Colab\"/></a>"
      ]
    },
    {
      "cell_type": "markdown",
      "source": [
        "# Wide and deep network"
      ],
      "metadata": {
        "id": "_pH3gaSXl05y"
      }
    },
    {
      "cell_type": "code",
      "execution_count": 2,
      "metadata": {
        "id": "AthM7WaGlWPS"
      },
      "outputs": [],
      "source": [
        "import tensorflow as tf\n",
        "from tensorflow import keras\n",
        "\n",
        "\n",
        "import pandas as pd\n",
        "import matplotlib.pyplot as plt\n",
        "\n",
        "import numpy as np\n",
        "\n",
        "\n",
        "from sklearn.datasets import fetch_california_housing\n",
        "from sklearn.model_selection import train_test_split\n",
        "from sklearn.preprocessing import StandardScaler"
      ]
    },
    {
      "cell_type": "code",
      "source": [
        "housing = fetch_california_housing()"
      ],
      "metadata": {
        "id": "LKTohLQAmHck"
      },
      "execution_count": 3,
      "outputs": []
    },
    {
      "cell_type": "code",
      "source": [
        "X_train_full, X_test, y_train_full, y_test = train_test_split(housing.data, housing.target)\n",
        "X_train, X_valid, y_train, y_valid = train_test_split(X_train_full, y_train_full)"
      ],
      "metadata": {
        "id": "QvRfxWITmRAC"
      },
      "execution_count": 4,
      "outputs": []
    },
    {
      "cell_type": "code",
      "source": [
        "scaler = StandardScaler()\n",
        "X_train = scaler.fit_transform(X_train)\n",
        "X_valid = scaler.transform(X_valid)\n",
        "X_test = scaler.transform(X_test)"
      ],
      "metadata": {
        "id": "BB7dQqN9mT0p"
      },
      "execution_count": 5,
      "outputs": []
    },
    {
      "cell_type": "code",
      "source": [
        "X_train.shape[1:]"
      ],
      "metadata": {
        "colab": {
          "base_uri": "https://localhost:8080/"
        },
        "id": "9LSMOPqFmXNJ",
        "outputId": "e9fb5407-8ffc-4ee9-9440-d365488c3f78"
      },
      "execution_count": 8,
      "outputs": [
        {
          "output_type": "execute_result",
          "data": {
            "text/plain": [
              "(8,)"
            ]
          },
          "metadata": {},
          "execution_count": 8
        }
      ]
    },
    {
      "cell_type": "code",
      "source": [
        "# stack layers"
      ],
      "metadata": {
        "id": "T1h0bMSsnKD3"
      },
      "execution_count": 11,
      "outputs": []
    },
    {
      "cell_type": "code",
      "source": [
        "input_layer = keras.layers.Input(shape=X_train.shape[1:])\n",
        "hidden_layer_1 = keras.layers.Dense(30, activation='relu')(input_layer)\n",
        "hidden_layer_2 = keras.layers.Dense(30, activation='relu')(hidden_layer_1)\n",
        "concat_layer = keras.layers.Concatenate()([input_layer,hidden_layer_2])\n",
        "output_layer = keras.layers.Dense(1)(concat_layer)\n",
        "model = keras.Model(inputs = [input_layer], outputs = [output_layer])"
      ],
      "metadata": {
        "id": "IGoCI6yQmBMr"
      },
      "execution_count": 20,
      "outputs": []
    },
    {
      "cell_type": "code",
      "source": [
        "#compile the model\n",
        "model.compile(optimizer=keras.optimizers.SGD(learning_rate=0.001), loss=\"mean_squared_error\")\n"
      ],
      "metadata": {
        "id": "D1PWt51YnFtp"
      },
      "execution_count": 23,
      "outputs": []
    },
    {
      "cell_type": "code",
      "source": [
        "# print the summary\n",
        "model.summary()"
      ],
      "metadata": {
        "colab": {
          "base_uri": "https://localhost:8080/"
        },
        "id": "SscEcjI6nudB",
        "outputId": "328c29ec-a99d-4517-9a47-adcefbab7f27"
      },
      "execution_count": 24,
      "outputs": [
        {
          "output_type": "stream",
          "name": "stdout",
          "text": [
            "Model: \"model_2\"\n",
            "__________________________________________________________________________________________________\n",
            " Layer (type)                Output Shape                 Param #   Connected to                  \n",
            "==================================================================================================\n",
            " input_4 (InputLayer)        [(None, 8)]                  0         []                            \n",
            "                                                                                                  \n",
            " dense_8 (Dense)             (None, 30)                   270       ['input_4[0][0]']             \n",
            "                                                                                                  \n",
            " dense_9 (Dense)             (None, 30)                   930       ['dense_8[0][0]']             \n",
            "                                                                                                  \n",
            " concatenate_3 (Concatenate  (None, 38)                   0         ['input_4[0][0]',             \n",
            " )                                                                   'dense_9[0][0]']             \n",
            "                                                                                                  \n",
            " dense_10 (Dense)            (None, 1)                    39        ['concatenate_3[0][0]']       \n",
            "                                                                                                  \n",
            "==================================================================================================\n",
            "Total params: 1239 (4.84 KB)\n",
            "Trainable params: 1239 (4.84 KB)\n",
            "Non-trainable params: 0 (0.00 Byte)\n",
            "__________________________________________________________________________________________________\n"
          ]
        }
      ]
    },
    {
      "cell_type": "code",
      "source": [
        "# train the model\n",
        "\n",
        "history = model.fit(X_train, y_train,epochs=30, batch_size=32,validation_data=(X_valid,y_valid))"
      ],
      "metadata": {
        "colab": {
          "base_uri": "https://localhost:8080/"
        },
        "id": "PISh213Bn9Rd",
        "outputId": "6bc490ae-41b5-415f-b5ab-5d3fb2b3c90a"
      },
      "execution_count": 27,
      "outputs": [
        {
          "output_type": "stream",
          "name": "stdout",
          "text": [
            "Epoch 1/30\n",
            "363/363 [==============================] - 2s 5ms/step - loss: 0.4155 - val_loss: 0.4481\n",
            "Epoch 2/30\n",
            "363/363 [==============================] - 2s 5ms/step - loss: 0.4134 - val_loss: 0.4463\n",
            "Epoch 3/30\n",
            "363/363 [==============================] - 1s 2ms/step - loss: 0.4114 - val_loss: 0.4440\n",
            "Epoch 4/30\n",
            "363/363 [==============================] - 1s 3ms/step - loss: 0.4093 - val_loss: 0.4420\n",
            "Epoch 5/30\n",
            "363/363 [==============================] - 1s 4ms/step - loss: 0.4071 - val_loss: 0.4420\n",
            "Epoch 6/30\n",
            "363/363 [==============================] - 2s 4ms/step - loss: 0.4054 - val_loss: 0.4416\n",
            "Epoch 7/30\n",
            "363/363 [==============================] - 1s 3ms/step - loss: 0.4035 - val_loss: 0.4386\n",
            "Epoch 8/30\n",
            "363/363 [==============================] - 1s 3ms/step - loss: 0.4017 - val_loss: 0.4377\n",
            "Epoch 9/30\n",
            "363/363 [==============================] - 1s 2ms/step - loss: 0.3999 - val_loss: 0.4340\n",
            "Epoch 10/30\n",
            "363/363 [==============================] - 1s 2ms/step - loss: 0.3983 - val_loss: 0.4333\n",
            "Epoch 11/30\n",
            "363/363 [==============================] - 1s 2ms/step - loss: 0.3964 - val_loss: 0.4313\n",
            "Epoch 12/30\n",
            "363/363 [==============================] - 1s 3ms/step - loss: 0.3948 - val_loss: 0.4312\n",
            "Epoch 13/30\n",
            "363/363 [==============================] - 1s 3ms/step - loss: 0.3933 - val_loss: 0.4293\n",
            "Epoch 14/30\n",
            "363/363 [==============================] - 1s 3ms/step - loss: 0.3918 - val_loss: 0.4271\n",
            "Epoch 15/30\n",
            "363/363 [==============================] - 1s 4ms/step - loss: 0.3902 - val_loss: 0.4265\n",
            "Epoch 16/30\n",
            "363/363 [==============================] - 1s 3ms/step - loss: 0.3890 - val_loss: 0.4250\n",
            "Epoch 17/30\n",
            "363/363 [==============================] - 1s 4ms/step - loss: 0.3874 - val_loss: 0.4242\n",
            "Epoch 18/30\n",
            "363/363 [==============================] - 1s 2ms/step - loss: 0.3862 - val_loss: 0.4230\n",
            "Epoch 19/30\n",
            "363/363 [==============================] - 1s 2ms/step - loss: 0.3850 - val_loss: 0.4218\n",
            "Epoch 20/30\n",
            "363/363 [==============================] - 1s 2ms/step - loss: 0.3838 - val_loss: 0.4203\n",
            "Epoch 21/30\n",
            "363/363 [==============================] - 1s 2ms/step - loss: 0.3824 - val_loss: 0.4223\n",
            "Epoch 22/30\n",
            "363/363 [==============================] - 1s 2ms/step - loss: 0.3812 - val_loss: 0.4178\n",
            "Epoch 23/30\n",
            "363/363 [==============================] - 1s 3ms/step - loss: 0.3804 - val_loss: 0.4169\n",
            "Epoch 24/30\n",
            "363/363 [==============================] - 1s 3ms/step - loss: 0.3793 - val_loss: 0.4176\n",
            "Epoch 25/30\n",
            "363/363 [==============================] - 1s 3ms/step - loss: 0.3782 - val_loss: 0.4163\n",
            "Epoch 26/30\n",
            "363/363 [==============================] - 1s 3ms/step - loss: 0.3773 - val_loss: 0.4167\n",
            "Epoch 27/30\n",
            "363/363 [==============================] - 1s 2ms/step - loss: 0.3761 - val_loss: 0.4143\n",
            "Epoch 28/30\n",
            "363/363 [==============================] - 1s 2ms/step - loss: 0.3754 - val_loss: 0.4138\n",
            "Epoch 29/30\n",
            "363/363 [==============================] - 1s 3ms/step - loss: 0.3744 - val_loss: 0.4123\n",
            "Epoch 30/30\n",
            "363/363 [==============================] - 2s 5ms/step - loss: 0.3734 - val_loss: 0.4123\n"
          ]
        }
      ]
    },
    {
      "cell_type": "code",
      "source": [
        "history_pd = pd.DataFrame(history.history)\n",
        "\n",
        "history_pd.plot(kind='line',figsize=(8,5))\n",
        "plt.grid=True\n",
        "plt.gca().set_ylim(0,1)\n",
        "plt.show()"
      ],
      "metadata": {
        "colab": {
          "base_uri": "https://localhost:8080/",
          "height": 451
        },
        "id": "Ahg9J8nqoNfQ",
        "outputId": "ce16ee40-4434-43ed-cbbb-34db2fcd8303"
      },
      "execution_count": 31,
      "outputs": [
        {
          "output_type": "display_data",
          "data": {
            "text/plain": [
              "<Figure size 800x500 with 1 Axes>"
            ],
            "image/png": "[encoded data removed]"
          },
          "metadata": {}
        }
      ]
    },
    {
      "cell_type": "markdown",
      "source": [
        "What if we want to sent just a set of features in deep path and rest in wide path (direct)"
      ],
      "metadata": {
        "id": "e-jCDyb6pzaf"
      }
    },
    {
      "cell_type": "code",
      "source": [
        "wide_input_layer = keras.layers.Input(shape=[5], name=\"wide_input\") # 5 features in wide path (0-4)\n",
        "deep_input_layer = keras.layers.Input(shape=[6], name=\"deep_input\") # 6 features in deep path (2-7)\n",
        "hidden_layer_1 = keras.layers.Dense(30, activation='relu')(deep_input_layer)\n",
        "hidden_layer_2 = keras.layers.Dense(30, activation='relu')(hidden_layer_1)\n",
        "concat_layer = keras.layers.Concatenate()([wide_input_layer,hidden_layer_2])\n",
        "output_layer = keras.layers.Dense(1,name=\"output\")(concat_layer)\n",
        "model = keras.Model(inputs = [wide_input_layer,deep_input_layer], outputs = [output_layer])"
      ],
      "metadata": {
        "id": "LLPWD6okpStF"
      },
      "execution_count": 57,
      "outputs": []
    },
    {
      "cell_type": "code",
      "source": [
        "model.summary()"
      ],
      "metadata": {
        "colab": {
          "base_uri": "https://localhost:8080/"
        },
        "id": "p0vcj9kQqcgX",
        "outputId": "d80464f3-c899-41bb-ea86-e49bd168117a"
      },
      "execution_count": 58,
      "outputs": [
        {
          "output_type": "stream",
          "name": "stdout",
          "text": [
            "Model: \"model_5\"\n",
            "__________________________________________________________________________________________________\n",
            " Layer (type)                Output Shape                 Param #   Connected to                  \n",
            "==================================================================================================\n",
            " deep_input (InputLayer)     [(None, 6)]                  0         []                            \n",
            "                                                                                                  \n",
            " dense_15 (Dense)            (None, 30)                   210       ['deep_input[0][0]']          \n",
            "                                                                                                  \n",
            " wide_input (InputLayer)     [(None, 5)]                  0         []                            \n",
            "                                                                                                  \n",
            " dense_16 (Dense)            (None, 30)                   930       ['dense_15[0][0]']            \n",
            "                                                                                                  \n",
            " concatenate_6 (Concatenate  (None, 35)                   0         ['wide_input[0][0]',          \n",
            " )                                                                   'dense_16[0][0]']            \n",
            "                                                                                                  \n",
            " output (Dense)              (None, 1)                    36        ['concatenate_6[0][0]']       \n",
            "                                                                                                  \n",
            "==================================================================================================\n",
            "Total params: 1176 (4.59 KB)\n",
            "Trainable params: 1176 (4.59 KB)\n",
            "Non-trainable params: 0 (0.00 Byte)\n",
            "__________________________________________________________________________________________________\n"
          ]
        }
      ]
    },
    {
      "cell_type": "code",
      "source": [
        "model.compile(optimizer=keras.optimizers.SGD(learning_rate=0.001), loss=\"mean_squared_error\")"
      ],
      "metadata": {
        "id": "6CNw16FCqe9O"
      },
      "execution_count": 59,
      "outputs": []
    },
    {
      "cell_type": "code",
      "source": [
        "X_train_wide,X_train_deep = X_train[:,:5],X_train[:,2:]\n",
        "X_valid_wide,X_valid_deep = X_valid[:,:5],X_valid[:,2:]\n",
        "X_test_wide,X_test_deep = X_test[:,:5],X_test[:,2:]\n",
        "\n",
        "X_new_wide,X_new_deep = X_test[:3,:5],X_test[:3,2:]"
      ],
      "metadata": {
        "id": "GJJpURq-q8mK"
      },
      "execution_count": 60,
      "outputs": []
    },
    {
      "cell_type": "code",
      "source": [
        "history = model.fit(\n",
        "    (X_train_wide,X_train_deep),\n",
        "    y_train,\n",
        "    epochs=30,\n",
        "    batch_size=32,\n",
        "    validation_data=((X_valid_wide,X_valid_deep),y_valid)\n",
        ")"
      ],
      "metadata": {
        "colab": {
          "base_uri": "https://localhost:8080/"
        },
        "id": "NsH1LAHuq4ji",
        "outputId": "40091b33-4677-4abe-f4fa-ac2e0228fbb9"
      },
      "execution_count": 61,
      "outputs": [
        {
          "output_type": "stream",
          "name": "stdout",
          "text": [
            "Epoch 1/30\n",
            "363/363 [==============================] - 1s 3ms/step - loss: 1.6268 - val_loss: 0.8549\n",
            "Epoch 2/30\n",
            "363/363 [==============================] - 1s 3ms/step - loss: 0.7471 - val_loss: 0.7033\n",
            "Epoch 3/30\n",
            "363/363 [==============================] - 2s 6ms/step - loss: 0.6506 - val_loss: 0.6510\n",
            "Epoch 4/30\n",
            "363/363 [==============================] - 1s 3ms/step - loss: 0.6088 - val_loss: 0.6168\n",
            "Epoch 5/30\n",
            "363/363 [==============================] - 1s 3ms/step - loss: 0.5778 - val_loss: 0.5867\n",
            "Epoch 6/30\n",
            "363/363 [==============================] - 1s 2ms/step - loss: 0.5516 - val_loss: 0.5608\n",
            "Epoch 7/30\n",
            "363/363 [==============================] - 1s 2ms/step - loss: 0.5297 - val_loss: 0.5413\n",
            "Epoch 8/30\n",
            "363/363 [==============================] - 1s 3ms/step - loss: 0.5115 - val_loss: 0.5225\n",
            "Epoch 9/30\n",
            "363/363 [==============================] - 1s 3ms/step - loss: 0.4960 - val_loss: 0.5095\n",
            "Epoch 10/30\n",
            "363/363 [==============================] - 1s 3ms/step - loss: 0.4834 - val_loss: 0.4973\n",
            "Epoch 11/30\n",
            "363/363 [==============================] - 1s 2ms/step - loss: 0.4735 - val_loss: 0.4889\n",
            "Epoch 12/30\n",
            "363/363 [==============================] - 1s 3ms/step - loss: 0.4654 - val_loss: 0.4808\n",
            "Epoch 13/30\n",
            "363/363 [==============================] - 1s 3ms/step - loss: 0.4590 - val_loss: 0.4764\n",
            "Epoch 14/30\n",
            "363/363 [==============================] - 1s 3ms/step - loss: 0.4538 - val_loss: 0.4720\n",
            "Epoch 15/30\n",
            "363/363 [==============================] - 1s 3ms/step - loss: 0.4495 - val_loss: 0.4688\n",
            "Epoch 16/30\n",
            "363/363 [==============================] - 2s 7ms/step - loss: 0.4457 - val_loss: 0.4681\n",
            "Epoch 17/30\n",
            "363/363 [==============================] - 1s 4ms/step - loss: 0.4426 - val_loss: 0.4637\n",
            "Epoch 18/30\n",
            "363/363 [==============================] - 2s 5ms/step - loss: 0.4397 - val_loss: 0.4619\n",
            "Epoch 19/30\n",
            "363/363 [==============================] - 2s 5ms/step - loss: 0.4369 - val_loss: 0.4602\n",
            "Epoch 20/30\n",
            "363/363 [==============================] - 2s 6ms/step - loss: 0.4344 - val_loss: 0.4588\n",
            "Epoch 21/30\n",
            "363/363 [==============================] - 2s 4ms/step - loss: 0.4321 - val_loss: 0.4567\n",
            "Epoch 22/30\n",
            "363/363 [==============================] - 1s 3ms/step - loss: 0.4301 - val_loss: 0.4575\n",
            "Epoch 23/30\n",
            "363/363 [==============================] - 3s 9ms/step - loss: 0.4283 - val_loss: 0.4538\n",
            "Epoch 24/30\n",
            "363/363 [==============================] - 3s 8ms/step - loss: 0.4262 - val_loss: 0.4524\n",
            "Epoch 25/30\n",
            "363/363 [==============================] - 2s 5ms/step - loss: 0.4247 - val_loss: 0.4523\n",
            "Epoch 26/30\n",
            "363/363 [==============================] - 2s 4ms/step - loss: 0.4229 - val_loss: 0.4495\n",
            "Epoch 27/30\n",
            "363/363 [==============================] - 1s 4ms/step - loss: 0.4217 - val_loss: 0.4495\n",
            "Epoch 28/30\n",
            "363/363 [==============================] - 2s 4ms/step - loss: 0.4197 - val_loss: 0.4478\n",
            "Epoch 29/30\n",
            "363/363 [==============================] - 2s 5ms/step - loss: 0.4187 - val_loss: 0.4475\n",
            "Epoch 30/30\n",
            "363/363 [==============================] - 3s 8ms/step - loss: 0.4169 - val_loss: 0.4458\n"
          ]
        }
      ]
    },
    {
      "cell_type": "markdown",
      "source": [
        "Note: Here we passed overlapping feature in wide and deep path. Its also possible to just pass separate set of features in both NN branches"
      ],
      "metadata": {
        "id": "ERNvlwMWrsLd"
      }
    },
    {
      "cell_type": "code",
      "source": [
        "mse_test = model.evaluate((X_test_wide,X_test_deep),y_test)\n",
        "mse_test"
      ],
      "metadata": {
        "colab": {
          "base_uri": "https://localhost:8080/"
        },
        "id": "UH9VB7z-roEX",
        "outputId": "bd3823ff-7a5d-4be8-deb0-2033c90608e9"
      },
      "execution_count": 37,
      "outputs": [
        {
          "output_type": "stream",
          "name": "stdout",
          "text": [
            "162/162 [==============================] - 1s 5ms/step - loss: 0.4180\n"
          ]
        },
        {
          "output_type": "execute_result",
          "data": {
            "text/plain": [
              "0.41804710030555725"
            ]
          },
          "metadata": {},
          "execution_count": 37
        }
      ]
    },
    {
      "cell_type": "code",
      "source": [
        "y_pred = model.predict((X_new_wide,X_new_deep))"
      ],
      "metadata": {
        "colab": {
          "base_uri": "https://localhost:8080/"
        },
        "id": "3XVQYmf6r_H4",
        "outputId": "e5b25fe8-ab51-423d-c9f6-2af63fea0b86"
      },
      "execution_count": 40,
      "outputs": [
        {
          "output_type": "stream",
          "name": "stdout",
          "text": [
            "1/1 [==============================] - 0s 56ms/step\n"
          ]
        }
      ]
    },
    {
      "cell_type": "code",
      "source": [
        "y_pred"
      ],
      "metadata": {
        "colab": {
          "base_uri": "https://localhost:8080/"
        },
        "id": "Gvts0LJksG0a",
        "outputId": "06273d36-3bef-4dd2-ee51-a7912e03fdfa"
      },
      "execution_count": 41,
      "outputs": [
        {
          "output_type": "execute_result",
          "data": {
            "text/plain": [
              "array([[2.5200186],\n",
              "       [1.5255933],\n",
              "       [0.6360183]], dtype=float32)"
            ]
          },
          "metadata": {},
          "execution_count": 41
        }
      ]
    },
    {
      "cell_type": "markdown",
      "source": [
        "Providing multiple outputs"
      ],
      "metadata": {
        "id": "b9UZ1ZuOtCA4"
      }
    },
    {
      "cell_type": "code",
      "source": [
        "wide_input_layer = keras.layers.Input(shape=[5], name=\"wide_input\") # 5 features in wide path (0-4)\n",
        "deep_input_layer = keras.layers.Input(shape=[6], name=\"deep_input\") # 6 features in deep path (2-7)\n",
        "hidden_layer_1 = keras.layers.Dense(30, activation='relu')(deep_input_layer)\n",
        "hidden_layer_2 = keras.layers.Dense(30, activation='relu')(hidden_layer_1)\n",
        "concat_layer = keras.layers.Concatenate()([wide_input_layer,hidden_layer_2])\n",
        "main_output_layer = keras.layers.Dense(1,name=\"main_output\")(concat_layer)\n",
        "aux_output_layer = keras.layers.Dense(1,name=\"aux_output\")(hidden_layer_2)\n",
        "model = keras.Model(inputs = [wide_input_layer,deep_input_layer], outputs = [main_output_layer,aux_output_layer])"
      ],
      "metadata": {
        "id": "zMKbMu17sIP3"
      },
      "execution_count": 42,
      "outputs": []
    },
    {
      "cell_type": "code",
      "source": [
        "# each output needs its own loss function and loss share\n",
        "\n",
        "optimizer = keras.optimizers.SGD(learning_rate=0.001)\n",
        "model.compile(loss=[\"mse\",\"mse\"],loss_weights = [0.9,0.1],optimizer=optimizer)"
      ],
      "metadata": {
        "id": "I6VJN1mvtSVg"
      },
      "execution_count": 43,
      "outputs": []
    },
    {
      "cell_type": "code",
      "source": [
        "history = model.fit(\n",
        "    (X_train_wide,X_train_deep),\n",
        "    (y_train,y_train),\n",
        "    epochs=30,\n",
        "    batch_size=32,\n",
        "    validation_data=((X_valid_wide,X_valid_deep),(y_valid,y_valid))\n",
        ")"
      ],
      "metadata": {
        "colab": {
          "base_uri": "https://localhost:8080/"
        },
        "id": "Zr0Ws2MDttwG",
        "outputId": "8fef0f88-64f5-42aa-c73d-322cf933d5d3"
      },
      "execution_count": 44,
      "outputs": [
        {
          "output_type": "stream",
          "name": "stdout",
          "text": [
            "Epoch 1/30\n",
            "363/363 [==============================] - 4s 8ms/step - loss: 3.0093 - main_output_loss: 2.7444 - aux_output_loss: 5.3938 - val_loss: 1.4048 - val_main_output_loss: 1.0861 - val_aux_output_loss: 4.2729\n",
            "Epoch 2/30\n",
            "363/363 [==============================] - 1s 4ms/step - loss: 1.1237 - main_output_loss: 0.8699 - aux_output_loss: 3.4086 - val_loss: 0.9625 - val_main_output_loss: 0.7585 - val_aux_output_loss: 2.7987\n",
            "Epoch 3/30\n",
            "363/363 [==============================] - 1s 3ms/step - loss: 0.8664 - main_output_loss: 0.6984 - aux_output_loss: 2.3778 - val_loss: 0.8256 - val_main_output_loss: 0.6889 - val_aux_output_loss: 2.0562\n",
            "Epoch 4/30\n",
            "363/363 [==============================] - 1s 2ms/step - loss: 0.7721 - main_output_loss: 0.6502 - aux_output_loss: 1.8696 - val_loss: 0.7642 - val_main_output_loss: 0.6612 - val_aux_output_loss: 1.6914\n",
            "Epoch 5/30\n",
            "363/363 [==============================] - 1s 3ms/step - loss: 0.7252 - main_output_loss: 0.6260 - aux_output_loss: 1.6173 - val_loss: 0.7275 - val_main_output_loss: 0.6417 - val_aux_output_loss: 1.4992\n",
            "Epoch 6/30\n",
            "363/363 [==============================] - 1s 3ms/step - loss: 0.6960 - main_output_loss: 0.6088 - aux_output_loss: 1.4810 - val_loss: 0.7036 - val_main_output_loss: 0.6267 - val_aux_output_loss: 1.3954\n",
            "Epoch 7/30\n",
            "363/363 [==============================] - 1s 2ms/step - loss: 0.6747 - main_output_loss: 0.5942 - aux_output_loss: 1.3989 - val_loss: 0.6838 - val_main_output_loss: 0.6120 - val_aux_output_loss: 1.3299\n",
            "Epoch 8/30\n",
            "363/363 [==============================] - 1s 2ms/step - loss: 0.6577 - main_output_loss: 0.5816 - aux_output_loss: 1.3426 - val_loss: 0.6686 - val_main_output_loss: 0.6000 - val_aux_output_loss: 1.2861\n",
            "Epoch 9/30\n",
            "363/363 [==============================] - 1s 2ms/step - loss: 0.6430 - main_output_loss: 0.5700 - aux_output_loss: 1.2995 - val_loss: 0.6551 - val_main_output_loss: 0.5889 - val_aux_output_loss: 1.2504\n",
            "Epoch 10/30\n",
            "363/363 [==============================] - 1s 2ms/step - loss: 0.6300 - main_output_loss: 0.5599 - aux_output_loss: 1.2606 - val_loss: 0.6429 - val_main_output_loss: 0.5789 - val_aux_output_loss: 1.2190\n",
            "Epoch 11/30\n",
            "363/363 [==============================] - 1s 3ms/step - loss: 0.6182 - main_output_loss: 0.5503 - aux_output_loss: 1.2287 - val_loss: 0.6314 - val_main_output_loss: 0.5694 - val_aux_output_loss: 1.1897\n",
            "Epoch 12/30\n",
            "363/363 [==============================] - 1s 2ms/step - loss: 0.6076 - main_output_loss: 0.5420 - aux_output_loss: 1.1980 - val_loss: 0.6211 - val_main_output_loss: 0.5609 - val_aux_output_loss: 1.1627\n",
            "Epoch 13/30\n",
            "363/363 [==============================] - 1s 3ms/step - loss: 0.5980 - main_output_loss: 0.5344 - aux_output_loss: 1.1702 - val_loss: 0.6121 - val_main_output_loss: 0.5537 - val_aux_output_loss: 1.1382\n",
            "Epoch 14/30\n",
            "363/363 [==============================] - 1s 4ms/step - loss: 0.5894 - main_output_loss: 0.5276 - aux_output_loss: 1.1449 - val_loss: 0.6036 - val_main_output_loss: 0.5468 - val_aux_output_loss: 1.1151\n",
            "Epoch 15/30\n",
            "363/363 [==============================] - 1s 3ms/step - loss: 0.5811 - main_output_loss: 0.5212 - aux_output_loss: 1.1200 - val_loss: 0.5966 - val_main_output_loss: 0.5413 - val_aux_output_loss: 1.0943\n",
            "Epoch 16/30\n",
            "363/363 [==============================] - 1s 2ms/step - loss: 0.5743 - main_output_loss: 0.5161 - aux_output_loss: 1.0977 - val_loss: 0.5908 - val_main_output_loss: 0.5371 - val_aux_output_loss: 1.0741\n",
            "Epoch 17/30\n",
            "363/363 [==============================] - 1s 2ms/step - loss: 0.5673 - main_output_loss: 0.5107 - aux_output_loss: 1.0763 - val_loss: 0.5835 - val_main_output_loss: 0.5313 - val_aux_output_loss: 1.0530\n",
            "Epoch 18/30\n",
            "363/363 [==============================] - 1s 3ms/step - loss: 0.5609 - main_output_loss: 0.5060 - aux_output_loss: 1.0548 - val_loss: 0.5781 - val_main_output_loss: 0.5274 - val_aux_output_loss: 1.0343\n",
            "Epoch 19/30\n",
            "363/363 [==============================] - 1s 2ms/step - loss: 0.5555 - main_output_loss: 0.5023 - aux_output_loss: 1.0346 - val_loss: 0.5717 - val_main_output_loss: 0.5224 - val_aux_output_loss: 1.0154\n",
            "Epoch 20/30\n",
            "363/363 [==============================] - 1s 3ms/step - loss: 0.5497 - main_output_loss: 0.4980 - aux_output_loss: 1.0150 - val_loss: 0.5662 - val_main_output_loss: 0.5184 - val_aux_output_loss: 0.9968\n",
            "Epoch 21/30\n",
            "363/363 [==============================] - 1s 3ms/step - loss: 0.5447 - main_output_loss: 0.4945 - aux_output_loss: 0.9963 - val_loss: 0.5624 - val_main_output_loss: 0.5159 - val_aux_output_loss: 0.9804\n",
            "Epoch 22/30\n",
            "363/363 [==============================] - 1s 2ms/step - loss: 0.5396 - main_output_loss: 0.4908 - aux_output_loss: 0.9786 - val_loss: 0.5572 - val_main_output_loss: 0.5120 - val_aux_output_loss: 0.9638\n",
            "Epoch 23/30\n",
            "363/363 [==============================] - 1s 3ms/step - loss: 0.5356 - main_output_loss: 0.4883 - aux_output_loss: 0.9619 - val_loss: 0.5538 - val_main_output_loss: 0.5099 - val_aux_output_loss: 0.9489\n",
            "Epoch 24/30\n",
            "363/363 [==============================] - 1s 3ms/step - loss: 0.5306 - main_output_loss: 0.4845 - aux_output_loss: 0.9456 - val_loss: 0.5494 - val_main_output_loss: 0.5068 - val_aux_output_loss: 0.9336\n",
            "Epoch 25/30\n",
            "363/363 [==============================] - 1s 3ms/step - loss: 0.5269 - main_output_loss: 0.4822 - aux_output_loss: 0.9296 - val_loss: 0.5460 - val_main_output_loss: 0.5045 - val_aux_output_loss: 0.9197\n",
            "Epoch 26/30\n",
            "363/363 [==============================] - 1s 4ms/step - loss: 0.5229 - main_output_loss: 0.4793 - aux_output_loss: 0.9154 - val_loss: 0.5424 - val_main_output_loss: 0.5020 - val_aux_output_loss: 0.9064\n",
            "Epoch 27/30\n",
            "363/363 [==============================] - 1s 3ms/step - loss: 0.5193 - main_output_loss: 0.4767 - aux_output_loss: 0.9024 - val_loss: 0.5402 - val_main_output_loss: 0.5009 - val_aux_output_loss: 0.8937\n",
            "Epoch 28/30\n",
            "363/363 [==============================] - 1s 2ms/step - loss: 0.5158 - main_output_loss: 0.4744 - aux_output_loss: 0.8884 - val_loss: 0.5367 - val_main_output_loss: 0.4984 - val_aux_output_loss: 0.8817\n",
            "Epoch 29/30\n",
            "363/363 [==============================] - 1s 3ms/step - loss: 0.5128 - main_output_loss: 0.4725 - aux_output_loss: 0.8761 - val_loss: 0.5334 - val_main_output_loss: 0.4960 - val_aux_output_loss: 0.8700\n",
            "Epoch 30/30\n",
            "363/363 [==============================] - 1s 4ms/step - loss: 0.5094 - main_output_loss: 0.4700 - aux_output_loss: 0.8644 - val_loss: 0.5324 - val_main_output_loss: 0.4961 - val_aux_output_loss: 0.8593\n"
          ]
        }
      ]
    },
    {
      "cell_type": "code",
      "source": [
        "history_pd = pd.DataFrame(history.history)\n",
        "\n",
        "history_pd.plot(kind='line',figsize=(8,5))\n",
        "plt.grid=True\n",
        "plt.gca().set_ylim(0,2)\n",
        "plt.show()"
      ],
      "metadata": {
        "colab": {
          "base_uri": "https://localhost:8080/",
          "height": 451
        },
        "id": "y2kc0iiyt8fF",
        "outputId": "8038be68-ff46-483e-ddf7-6371cb49dd67"
      },
      "execution_count": 46,
      "outputs": [
        {
          "output_type": "display_data",
          "data": {
            "text/plain": [
              "<Figure size 800x500 with 1 Axes>"
            ],
            "image/png": "[encoded data removed]"
          },
          "metadata": {}
        }
      ]
    },
    {
      "cell_type": "code",
      "source": [
        "total_loss, main_loss, aux_loss = model.evaluate([X_test_wide,X_test_deep],[y_test,y_test])\n",
        "\n",
        "print(total_loss, main_loss, aux_loss)"
      ],
      "metadata": {
        "colab": {
          "base_uri": "https://localhost:8080/"
        },
        "id": "mJYo3hHMuG0s",
        "outputId": "5ea8bd89-00aa-4950-bc2f-8af1f653e046"
      },
      "execution_count": 47,
      "outputs": [
        {
          "output_type": "stream",
          "name": "stdout",
          "text": [
            "162/162 [==============================] - 0s 2ms/step - loss: 0.5297 - main_output_loss: 0.4896 - aux_output_loss: 0.8912\n",
            "0.52974534034729 0.4895850419998169 0.8911865949630737\n"
          ]
        }
      ]
    },
    {
      "cell_type": "code",
      "source": [
        "y_pred_main,y_pred_aux = model.predict([X_new_wide,X_new_deep])\n",
        "\n",
        "print(y_pred_main,y_pred_aux)"
      ],
      "metadata": {
        "colab": {
          "base_uri": "https://localhost:8080/"
        },
        "id": "IGBHZzNbuc73",
        "outputId": "d73d93a5-9f41-4d81-9fd8-ce753690be8e"
      },
      "execution_count": 48,
      "outputs": [
        {
          "output_type": "stream",
          "name": "stdout",
          "text": [
            "1/1 [==============================] - 0s 116ms/step\n",
            "[[2.4250772]\n",
            " [1.5307469]\n",
            " [1.5310884]] [[2.2505352]\n",
            " [1.8201339]\n",
            " [2.1160994]]\n"
          ]
        }
      ]
    },
    {
      "cell_type": "code",
      "source": [
        "# visualize the model\n",
        "\n",
        "from tensorflow.keras.utils import plot_model\n",
        "plot_model(model, to_file='model_plot.png', show_shapes=True, show_layer_names=True)"
      ],
      "metadata": {
        "colab": {
          "base_uri": "https://localhost:8080/",
          "height": 533
        },
        "id": "Jhxk803lvHUR",
        "outputId": "46915f61-b08f-4859-a4ab-4dbdb1fd169c"
      },
      "execution_count": 50,
      "outputs": [
        {
          "output_type": "execute_result",
          "data": {
            "image/png": "[encoded data removed]",
            "text/plain": [
              "<IPython.core.display.Image object>"
            ]
          },
          "metadata": {},
          "execution_count": 50
        }
      ]
    },
    {
      "cell_type": "markdown",
      "source": [
        "# Using the Subclassing API to Build Dynamic Models"
      ],
      "metadata": {
        "id": "uE8GSFO_u1tR"
      }
    },
    {
      "cell_type": "code",
      "source": [
        "class WideAndDeepModel(keras.Model):\n",
        "\n",
        "  def __init__(self, units=30,activation=\"relu\", **kwargs):\n",
        "\n",
        "    super().__init__(**kwargs)\n",
        "    self.hidden_layer_1 = keras.layers.Dense(units, activation=activation, name=\"hidden_layer_1\")\n",
        "    self.hidden_layer_2 = keras.layers.Dense(units, activation=activation, name=\"hidden_layer_2\")\n",
        "    self.main_output_layer = keras.layers.Dense(1, name=\"main_output_layer\")\n",
        "    self.aux_output_layer = keras.layers.Dense(1, name=\"aux_output_layer\")\n",
        "\n",
        "\n",
        "  def call(self,inputs):\n",
        "\n",
        "    input_wide, input_deep = inputs\n",
        "    hidden_layer_1 = self.hidden_layer_1(input_deep)\n",
        "    hidden_layer_2 = self.hidden_layer_2(hidden_layer_1)\n",
        "\n",
        "    concat_layer = keras.layers.Concatenate([input_wide, hidden_layer_2])\n",
        "    main_output_layer = self.main_output_layer(concat_layer)\n",
        "    aux_output_layer = self.aux_output_layer(hidden_layer_2)\n",
        "\n",
        "    return main_output_layer, aux_output_layer"
      ],
      "metadata": {
        "id": "ghFQsWn-uvXK"
      },
      "execution_count": 53,
      "outputs": []
    },
    {
      "cell_type": "code",
      "source": [
        "model = WideAndDeepModel()"
      ],
      "metadata": {
        "id": "cSJ7Dq6PxOdA"
      },
      "execution_count": 54,
      "outputs": []
    },
    {
      "cell_type": "code",
      "source": [
        "optimizer = keras.optimizers.SGD(learning_rate=0.001)\n",
        "model.compile(loss=[\"mse\",\"mse\"],loss_weights = [0.9,0.1],optimizer=optimizer)"
      ],
      "metadata": {
        "id": "a1DUqQtwxYXu"
      },
      "execution_count": 55,
      "outputs": []
    },
    {
      "cell_type": "code",
      "source": [
        "model.save(\"simple_model_housing_proces.h5\")"
      ],
      "metadata": {
        "colab": {
          "base_uri": "https://localhost:8080/"
        },
        "id": "4HzL6VaqyAS0",
        "outputId": "d83368b0-d2c2-4a3f-db54-35ef25f27395"
      },
      "execution_count": 62,
      "outputs": [
        {
          "output_type": "stream",
          "name": "stderr",
          "text": [
            "/usr/local/lib/python3.10/dist-packages/keras/src/engine/training.py:3103: UserWarning: You are saving your model as an HDF5 file via `model.save()`. This file format is considered legacy. We recommend using instead the native Keras format, e.g. `model.save('my_model.keras')`.\n",
            "  saving_api.save_model(\n"
          ]
        }
      ]
    },
    {
      "cell_type": "code",
      "source": [
        "!ls -ltr"
      ],
      "metadata": {
        "colab": {
          "base_uri": "https://localhost:8080/"
        },
        "id": "MsKGkD0SySEe",
        "outputId": "dd5e09ea-3aae-4858-8270-4092ee853e3e"
      },
      "execution_count": 63,
      "outputs": [
        {
          "output_type": "stream",
          "name": "stdout",
          "text": [
            "total 80\n",
            "drwxr-xr-x 1 root root  4096 Feb 20 14:29 sample_data\n",
            "-rw-r--r-- 1 root root 39773 Feb 22 02:55 model_plot.png\n",
            "-rw-r--r-- 1 root root 36556 Feb 22 03:08 simple_model_housing_proces.h5\n"
          ]
        }
      ]
    },
    {
      "cell_type": "code",
      "source": [
        "# same model intermitantly using callbacks\n",
        "\n",
        "checkpoint_cb =keras.callbacks.ModelCheckpoint(\"simple_model_housing_proces.h5\")\n",
        "history = model.fit(\n",
        "    (X_train_wide,X_train_deep),\n",
        "    (y_train,y_train),\n",
        "    epochs=30,\n",
        "    batch_size=32,\n",
        "    validation_data=((X_valid_wide,X_valid_deep),(y_valid,y_valid)),\n",
        "    callbacks=[checkpoint_cb]\n",
        ")"
      ],
      "metadata": {
        "colab": {
          "base_uri": "https://localhost:8080/"
        },
        "id": "fH8oILqRyZQh",
        "outputId": "91bfc02a-152a-4904-9dc6-89c82d5ae6d2"
      },
      "execution_count": 65,
      "outputs": [
        {
          "output_type": "stream",
          "name": "stdout",
          "text": [
            "Epoch 1/30\n",
            "363/363 [==============================] - 1s 3ms/step - loss: 0.3867 - val_loss: 0.4198\n",
            "Epoch 2/30\n",
            " 85/363 [======>.......................] - ETA: 0s - loss: 0.3935"
          ]
        },
        {
          "output_type": "stream",
          "name": "stderr",
          "text": [
            "/usr/local/lib/python3.10/dist-packages/keras/src/engine/training.py:3103: UserWarning: You are saving your model as an HDF5 file via `model.save()`. This file format is considered legacy. We recommend using instead the native Keras format, e.g. `model.save('my_model.keras')`.\n",
            "  saving_api.save_model(\n"
          ]
        },
        {
          "output_type": "stream",
          "name": "stdout",
          "text": [
            "363/363 [==============================] - 1s 3ms/step - loss: 0.3858 - val_loss: 0.4190\n",
            "Epoch 3/30\n",
            "363/363 [==============================] - 1s 3ms/step - loss: 0.3849 - val_loss: 0.4184\n",
            "Epoch 4/30\n",
            "363/363 [==============================] - 1s 2ms/step - loss: 0.3839 - val_loss: 0.4185\n",
            "Epoch 5/30\n",
            "363/363 [==============================] - 1s 3ms/step - loss: 0.3833 - val_loss: 0.4180\n",
            "Epoch 6/30\n",
            "363/363 [==============================] - 1s 3ms/step - loss: 0.3827 - val_loss: 0.4171\n",
            "Epoch 7/30\n",
            "363/363 [==============================] - 1s 2ms/step - loss: 0.3817 - val_loss: 0.4161\n",
            "Epoch 8/30\n",
            "363/363 [==============================] - 1s 3ms/step - loss: 0.3811 - val_loss: 0.4154\n",
            "Epoch 9/30\n",
            "363/363 [==============================] - 1s 3ms/step - loss: 0.3802 - val_loss: 0.4156\n",
            "Epoch 10/30\n",
            "363/363 [==============================] - 1s 4ms/step - loss: 0.3794 - val_loss: 0.4141\n",
            "Epoch 11/30\n",
            "363/363 [==============================] - 2s 4ms/step - loss: 0.3787 - val_loss: 0.4144\n",
            "Epoch 12/30\n",
            "363/363 [==============================] - 1s 3ms/step - loss: 0.3781 - val_loss: 0.4134\n",
            "Epoch 13/30\n",
            "363/363 [==============================] - 1s 2ms/step - loss: 0.3774 - val_loss: 0.4123\n",
            "Epoch 14/30\n",
            "363/363 [==============================] - 1s 3ms/step - loss: 0.3764 - val_loss: 0.4123\n",
            "Epoch 15/30\n",
            "363/363 [==============================] - 1s 2ms/step - loss: 0.3756 - val_loss: 0.4114\n",
            "Epoch 16/30\n",
            "363/363 [==============================] - 1s 3ms/step - loss: 0.3752 - val_loss: 0.4115\n",
            "Epoch 17/30\n",
            "363/363 [==============================] - 1s 2ms/step - loss: 0.3745 - val_loss: 0.4099\n",
            "Epoch 18/30\n",
            "363/363 [==============================] - 1s 2ms/step - loss: 0.3740 - val_loss: 0.4102\n",
            "Epoch 19/30\n",
            "363/363 [==============================] - 1s 2ms/step - loss: 0.3733 - val_loss: 0.4099\n",
            "Epoch 20/30\n",
            "363/363 [==============================] - 1s 2ms/step - loss: 0.3726 - val_loss: 0.4094\n",
            "Epoch 21/30\n",
            "363/363 [==============================] - 1s 3ms/step - loss: 0.3720 - val_loss: 0.4083\n",
            "Epoch 22/30\n",
            "363/363 [==============================] - 1s 3ms/step - loss: 0.3712 - val_loss: 0.4078\n",
            "Epoch 23/30\n",
            "363/363 [==============================] - 1s 3ms/step - loss: 0.3706 - val_loss: 0.4072\n",
            "Epoch 24/30\n",
            "363/363 [==============================] - 1s 3ms/step - loss: 0.3700 - val_loss: 0.4069\n",
            "Epoch 25/30\n",
            "363/363 [==============================] - 1s 3ms/step - loss: 0.3693 - val_loss: 0.4063\n",
            "Epoch 26/30\n",
            "363/363 [==============================] - 1s 2ms/step - loss: 0.3686 - val_loss: 0.4053\n",
            "Epoch 27/30\n",
            "363/363 [==============================] - 1s 2ms/step - loss: 0.3682 - val_loss: 0.4053\n",
            "Epoch 28/30\n",
            "363/363 [==============================] - 1s 3ms/step - loss: 0.3675 - val_loss: 0.4051\n",
            "Epoch 29/30\n",
            "363/363 [==============================] - 1s 3ms/step - loss: 0.3670 - val_loss: 0.4046\n",
            "Epoch 30/30\n",
            "363/363 [==============================] - 1s 2ms/step - loss: 0.3663 - val_loss: 0.4037\n"
          ]
        }
      ]
    },
    {
      "cell_type": "code",
      "source": [
        "# early stopping using callbacks\n",
        "\n",
        "early_stopping_cb = keras.callbacks.EarlyStopping(patience=10, restore_best_weights=True)\n",
        "history = model.fit(\n",
        "    (X_train_wide,X_train_deep),\n",
        "    (y_train,y_train),\n",
        "    epochs=30,\n",
        "    batch_size=32,\n",
        "    validation_data=((X_valid_wide,X_valid_deep),(y_valid,y_valid)),\n",
        "    callbacks=[checkpoint_cb, early_stopping_cb]\n",
        ")"
      ],
      "metadata": {
        "colab": {
          "base_uri": "https://localhost:8080/"
        },
        "id": "oRx4Tte5y9Qd",
        "outputId": "325aeb57-136e-43c5-d757-8c622e93457c"
      },
      "execution_count": 66,
      "outputs": [
        {
          "output_type": "stream",
          "name": "stdout",
          "text": [
            "Epoch 1/30\n",
            "363/363 [==============================] - 2s 5ms/step - loss: 0.3657 - val_loss: 0.4031\n",
            "Epoch 2/30\n",
            "363/363 [==============================] - 1s 4ms/step - loss: 0.3650 - val_loss: 0.4043\n",
            "Epoch 3/30\n",
            "363/363 [==============================] - 1s 4ms/step - loss: 0.3648 - val_loss: 0.4021\n",
            "Epoch 4/30\n",
            "363/363 [==============================] - 1s 3ms/step - loss: 0.3641 - val_loss: 0.4032\n",
            "Epoch 5/30\n",
            "363/363 [==============================] - 1s 4ms/step - loss: 0.3632 - val_loss: 0.4022\n",
            "Epoch 6/30\n",
            "363/363 [==============================] - 1s 4ms/step - loss: 0.3631 - val_loss: 0.4017\n",
            "Epoch 7/30\n",
            "363/363 [==============================] - 1s 2ms/step - loss: 0.3623 - val_loss: 0.4001\n",
            "Epoch 8/30\n",
            "363/363 [==============================] - 1s 3ms/step - loss: 0.3621 - val_loss: 0.4002\n",
            "Epoch 9/30\n",
            "363/363 [==============================] - 1s 4ms/step - loss: 0.3612 - val_loss: 0.3999\n",
            "Epoch 10/30\n",
            "363/363 [==============================] - 1s 3ms/step - loss: 0.3609 - val_loss: 0.3995\n",
            "Epoch 11/30\n",
            "363/363 [==============================] - 1s 2ms/step - loss: 0.3599 - val_loss: 0.4004\n",
            "Epoch 12/30\n",
            "363/363 [==============================] - 1s 3ms/step - loss: 0.3595 - val_loss: 0.3976\n",
            "Epoch 13/30\n",
            "363/363 [==============================] - 1s 2ms/step - loss: 0.3592 - val_loss: 0.3984\n",
            "Epoch 14/30\n",
            "363/363 [==============================] - 1s 2ms/step - loss: 0.3587 - val_loss: 0.3978\n",
            "Epoch 15/30\n",
            "363/363 [==============================] - 1s 3ms/step - loss: 0.3581 - val_loss: 0.3969\n",
            "Epoch 16/30\n",
            "363/363 [==============================] - 1s 3ms/step - loss: 0.3574 - val_loss: 0.3968\n",
            "Epoch 17/30\n",
            "363/363 [==============================] - 1s 3ms/step - loss: 0.3570 - val_loss: 0.3959\n",
            "Epoch 18/30\n",
            "363/363 [==============================] - 1s 3ms/step - loss: 0.3565 - val_loss: 0.3955\n",
            "Epoch 19/30\n",
            "363/363 [==============================] - 1s 3ms/step - loss: 0.3560 - val_loss: 0.3952\n",
            "Epoch 20/30\n",
            "363/363 [==============================] - 1s 3ms/step - loss: 0.3554 - val_loss: 0.3942\n",
            "Epoch 21/30\n",
            "363/363 [==============================] - 1s 4ms/step - loss: 0.3551 - val_loss: 0.3939\n",
            "Epoch 22/30\n",
            "363/363 [==============================] - 1s 3ms/step - loss: 0.3545 - val_loss: 0.3930\n",
            "Epoch 23/30\n",
            "363/363 [==============================] - 1s 3ms/step - loss: 0.3541 - val_loss: 0.3928\n",
            "Epoch 24/30\n",
            "363/363 [==============================] - 1s 3ms/step - loss: 0.3536 - val_loss: 0.3930\n",
            "Epoch 25/30\n",
            "363/363 [==============================] - 1s 3ms/step - loss: 0.3530 - val_loss: 0.3934\n",
            "Epoch 26/30\n",
            "363/363 [==============================] - 1s 2ms/step - loss: 0.3526 - val_loss: 0.3917\n",
            "Epoch 27/30\n",
            "363/363 [==============================] - 1s 3ms/step - loss: 0.3520 - val_loss: 0.3923\n",
            "Epoch 28/30\n",
            "363/363 [==============================] - 1s 2ms/step - loss: 0.3514 - val_loss: 0.3911\n",
            "Epoch 29/30\n",
            "363/363 [==============================] - 1s 3ms/step - loss: 0.3512 - val_loss: 0.3902\n",
            "Epoch 30/30\n",
            "363/363 [==============================] - 1s 3ms/step - loss: 0.3503 - val_loss: 0.3912\n"
          ]
        }
      ]
    },
    {
      "cell_type": "code",
      "source": [
        "# custom callbacks\n",
        "\n",
        "class PrintValTrainRatioCallback(keras.callbacks.Callback):\n",
        "  def on_epoch_end(self, epoch, logs):\n",
        "    print(f\"Epoch {epoch} completed\")\n",
        "    print(\"\\nval/train: {:.2f}\".format(logs[\"val_loss\"] / logs[\"loss\"]))\n",
        "\n",
        "\n",
        "print_callback = PrintValTrainRatioCallback()\n",
        "history = model.fit(\n",
        "    (X_train_wide,X_train_deep),\n",
        "    (y_train,y_train),\n",
        "    epochs=30,\n",
        "    batch_size=32,\n",
        "    validation_data=((X_valid_wide,X_valid_deep),(y_valid,y_valid)),\n",
        "    callbacks=[checkpoint_cb, early_stopping_cb, print_callback]\n",
        ")"
      ],
      "metadata": {
        "colab": {
          "base_uri": "https://localhost:8080/"
        },
        "id": "YkBQgfeYzcV4",
        "outputId": "0761e009-120d-46a3-9e18-a868f9ae6798"
      },
      "execution_count": 67,
      "outputs": [
        {
          "output_type": "stream",
          "name": "stdout",
          "text": [
            "Epoch 1/30\n",
            "344/363 [===========================>..] - ETA: 0s - loss: 0.3473Epoch 0 completed\n",
            "\n",
            "val/train: 1.11\n",
            "363/363 [==============================] - 2s 6ms/step - loss: 0.3500 - val_loss: 0.3898\n",
            "Epoch 2/30\n",
            " 22/363 [>.............................] - ETA: 1s - loss: 0.3594"
          ]
        },
        {
          "output_type": "stream",
          "name": "stderr",
          "text": [
            "/usr/local/lib/python3.10/dist-packages/keras/src/engine/training.py:3103: UserWarning: You are saving your model as an HDF5 file via `model.save()`. This file format is considered legacy. We recommend using instead the native Keras format, e.g. `model.save('my_model.keras')`.\n",
            "  saving_api.save_model(\n"
          ]
        },
        {
          "output_type": "stream",
          "name": "stdout",
          "text": [
            "355/363 [============================>.] - ETA: 0s - loss: 0.3506Epoch 1 completed\n",
            "\n",
            "val/train: 1.12\n",
            "363/363 [==============================] - 2s 6ms/step - loss: 0.3496 - val_loss: 0.3900\n",
            "Epoch 3/30\n",
            "356/363 [============================>.] - ETA: 0s - loss: 0.3502Epoch 2 completed\n",
            "\n",
            "val/train: 1.11\n",
            "363/363 [==============================] - 2s 5ms/step - loss: 0.3492 - val_loss: 0.3892\n",
            "Epoch 4/30\n",
            "359/363 [============================>.] - ETA: 0s - loss: 0.3483Epoch 3 completed\n",
            "\n",
            "val/train: 1.12\n",
            "363/363 [==============================] - 2s 6ms/step - loss: 0.3485 - val_loss: 0.3886\n",
            "Epoch 5/30\n",
            "346/363 [===========================>..] - ETA: 0s - loss: 0.3495Epoch 4 completed\n",
            "\n",
            "val/train: 1.12\n",
            "363/363 [==============================] - 2s 4ms/step - loss: 0.3480 - val_loss: 0.3885\n",
            "Epoch 6/30\n",
            "357/363 [============================>.] - ETA: 0s - loss: 0.3474Epoch 5 completed\n",
            "\n",
            "val/train: 1.12\n",
            "363/363 [==============================] - 1s 2ms/step - loss: 0.3477 - val_loss: 0.3880\n",
            "Epoch 7/30\n",
            "355/363 [============================>.] - ETA: 0s - loss: 0.3478Epoch 6 completed\n",
            "\n",
            "val/train: 1.12\n",
            "363/363 [==============================] - 1s 4ms/step - loss: 0.3473 - val_loss: 0.3890\n",
            "Epoch 8/30\n",
            "357/363 [============================>.] - ETA: 0s - loss: 0.3490Epoch 7 completed\n",
            "\n",
            "val/train: 1.12\n",
            "363/363 [==============================] - 1s 3ms/step - loss: 0.3469 - val_loss: 0.3873\n",
            "Epoch 9/30\n",
            "345/363 [===========================>..] - ETA: 0s - loss: 0.3441Epoch 8 completed\n",
            "\n",
            "val/train: 1.12\n",
            "363/363 [==============================] - 1s 3ms/step - loss: 0.3465 - val_loss: 0.3873\n",
            "Epoch 10/30\n",
            "359/363 [============================>.] - ETA: 0s - loss: 0.3450Epoch 9 completed\n",
            "\n",
            "val/train: 1.12\n",
            "363/363 [==============================] - 1s 3ms/step - loss: 0.3459 - val_loss: 0.3871\n",
            "Epoch 11/30\n",
            "357/363 [============================>.] - ETA: 0s - loss: 0.3452Epoch 10 completed\n",
            "\n",
            "val/train: 1.12\n",
            "363/363 [==============================] - 1s 3ms/step - loss: 0.3451 - val_loss: 0.3870\n",
            "Epoch 12/30\n",
            "358/363 [============================>.] - ETA: 0s - loss: 0.3441Epoch 11 completed\n",
            "\n",
            "val/train: 1.12\n",
            "363/363 [==============================] - 1s 3ms/step - loss: 0.3450 - val_loss: 0.3879\n",
            "Epoch 13/30\n",
            "353/363 [============================>.] - ETA: 0s - loss: 0.3466Epoch 12 completed\n",
            "\n",
            "val/train: 1.12\n",
            "363/363 [==============================] - 1s 3ms/step - loss: 0.3447 - val_loss: 0.3873\n",
            "Epoch 14/30\n",
            "359/363 [============================>.] - ETA: 0s - loss: 0.3446Epoch 13 completed\n",
            "\n",
            "val/train: 1.12\n",
            "363/363 [==============================] - 1s 4ms/step - loss: 0.3443 - val_loss: 0.3860\n",
            "Epoch 15/30\n",
            "345/363 [===========================>..] - ETA: 0s - loss: 0.3426Epoch 14 completed\n",
            "\n",
            "val/train: 1.12\n",
            "363/363 [==============================] - 2s 4ms/step - loss: 0.3437 - val_loss: 0.3846\n",
            "Epoch 16/30\n",
            "350/363 [===========================>..] - ETA: 0s - loss: 0.3436Epoch 15 completed\n",
            "\n",
            "val/train: 1.12\n",
            "363/363 [==============================] - 1s 2ms/step - loss: 0.3437 - val_loss: 0.3843\n",
            "Epoch 17/30\n",
            "362/363 [============================>.] - ETA: 0s - loss: 0.3428Epoch 16 completed\n",
            "\n",
            "val/train: 1.12\n",
            "363/363 [==============================] - 1s 3ms/step - loss: 0.3429 - val_loss: 0.3846\n",
            "Epoch 18/30\n",
            "348/363 [===========================>..] - ETA: 0s - loss: 0.3421Epoch 17 completed\n",
            "\n",
            "val/train: 1.12\n",
            "363/363 [==============================] - 1s 4ms/step - loss: 0.3425 - val_loss: 0.3847\n",
            "Epoch 19/30\n",
            "344/363 [===========================>..] - ETA: 0s - loss: 0.3446Epoch 18 completed\n",
            "\n",
            "val/train: 1.12\n",
            "363/363 [==============================] - 1s 3ms/step - loss: 0.3421 - val_loss: 0.3835\n",
            "Epoch 20/30\n",
            "342/363 [===========================>..] - ETA: 0s - loss: 0.3432Epoch 19 completed\n",
            "\n",
            "val/train: 1.12\n",
            "363/363 [==============================] - 1s 3ms/step - loss: 0.3418 - val_loss: 0.3830\n",
            "Epoch 21/30\n",
            "343/363 [===========================>..] - ETA: 0s - loss: 0.3393Epoch 20 completed\n",
            "\n",
            "val/train: 1.12\n",
            "363/363 [==============================] - 1s 3ms/step - loss: 0.3415 - val_loss: 0.3830\n",
            "Epoch 22/30\n",
            "340/363 [===========================>..] - ETA: 0s - loss: 0.3433Epoch 21 completed\n",
            "\n",
            "val/train: 1.12\n",
            "363/363 [==============================] - 1s 2ms/step - loss: 0.3412 - val_loss: 0.3834\n",
            "Epoch 23/30\n",
            "341/363 [===========================>..] - ETA: 0s - loss: 0.3414Epoch 22 completed\n",
            "\n",
            "val/train: 1.12\n",
            "363/363 [==============================] - 1s 2ms/step - loss: 0.3404 - val_loss: 0.3828\n",
            "Epoch 24/30\n",
            "341/363 [===========================>..] - ETA: 0s - loss: 0.3379Epoch 23 completed\n",
            "\n",
            "val/train: 1.12\n",
            "363/363 [==============================] - 1s 3ms/step - loss: 0.3404 - val_loss: 0.3812\n",
            "Epoch 25/30\n",
            "333/363 [==========================>...] - ETA: 0s - loss: 0.3391Epoch 24 completed\n",
            "\n",
            "val/train: 1.13\n",
            "363/363 [==============================] - 1s 2ms/step - loss: 0.3399 - val_loss: 0.3823\n",
            "Epoch 26/30\n",
            "353/363 [============================>.] - ETA: 0s - loss: 0.3383Epoch 25 completed\n",
            "\n",
            "val/train: 1.12\n",
            "363/363 [==============================] - 2s 4ms/step - loss: 0.3398 - val_loss: 0.3811\n",
            "Epoch 27/30\n",
            "357/363 [============================>.] - ETA: 0s - loss: 0.3380Epoch 26 completed\n",
            "\n",
            "val/train: 1.12\n",
            "363/363 [==============================] - 1s 3ms/step - loss: 0.3390 - val_loss: 0.3810\n",
            "Epoch 28/30\n",
            "354/363 [============================>.] - ETA: 0s - loss: 0.3383Epoch 27 completed\n",
            "\n",
            "val/train: 1.12\n",
            "363/363 [==============================] - 1s 3ms/step - loss: 0.3392 - val_loss: 0.3805\n",
            "Epoch 29/30\n",
            "363/363 [==============================] - ETA: 0s - loss: 0.3390Epoch 28 completed\n",
            "\n",
            "val/train: 1.12\n",
            "363/363 [==============================] - 1s 3ms/step - loss: 0.3390 - val_loss: 0.3806\n",
            "Epoch 30/30\n",
            "345/363 [===========================>..] - ETA: 0s - loss: 0.3362Epoch 29 completed\n",
            "\n",
            "val/train: 1.12\n",
            "363/363 [==============================] - 1s 3ms/step - loss: 0.3386 - val_loss: 0.3810\n"
          ]
        }
      ]
    },
    {
      "cell_type": "code",
      "source": [],
      "metadata": {
        "id": "48MsR6Ok0AqK"
      },
      "execution_count": null,
      "outputs": []
    }
  ]
}