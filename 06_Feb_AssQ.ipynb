{
  "nbformat": 4,
  "nbformat_minor": 0,
  "metadata": {
    "colab": {
      "provenance": [],
      "authorship_tag": "ABX9TyO+jInSftWZGy83UFXTgNHr",
      "include_colab_link": true
    },
    "kernelspec": {
      "name": "python3",
      "display_name": "Python 3"
    },
    "language_info": {
      "name": "python"
    }
  },
  "cells": [
    {
      "cell_type": "markdown",
      "metadata": {
        "id": "view-in-github",
        "colab_type": "text"
      },
      "source": [
        "<a href=\"https://colab.research.google.com/github/beercafeguy/PyMLLab/blob/master/06_Feb_AssQ.ipynb\" target=\"_parent\"><img src=\"https://colab.research.google.com/assets/colab-badge.svg\" alt=\"Open In Colab\"/></a>"
      ]
    },
    {
      "cell_type": "markdown",
      "source": [
        "Q1. Create a function which will take a list as an argument and return the product of all the numbers\n",
        "after creating a flat list.\n",
        "\n",
        "Use the below-given list as an argument for your function.\n",
        "\n",
        "list1 = [1,2,3,4, [44,55,66, True], False, (34,56,78,89,34), {1,2,3,3,2,1}, {1:34, \"key2\": [55, 67, 78, 89], 4: (45,\n",
        "22, 61, 34)}, [56, 'data science'], 'Machine Learning']"
      ],
      "metadata": {
        "id": "6o_MlJXaU_iU"
      }
    },
    {
      "cell_type": "code",
      "execution_count": 8,
      "metadata": {
        "colab": {
          "base_uri": "https://localhost:8080/"
        },
        "id": "kltxUJY4U5wl",
        "outputId": "407acd87-14c9-4287-9adc-52c770b71498"
      },
      "outputs": [
        {
          "output_type": "execute_result",
          "data": {
            "text/plain": [
              "4134711838987085478833841242112000"
            ]
          },
          "metadata": {},
          "execution_count": 8
        }
      ],
      "source": [
        "list1 = [1,2,3,4, [44,55,66, True], False, (34,56,78,89,34), {1,2,3,3,2,1}, {1:34, \"key2\": [55, 67, 78, 89], 4: (45, 22, 61, 34)}, [56, 'data science'], 'Machine Learning']\n",
        "\n",
        "def flatten_list(l):\n",
        "  flat_list = []\n",
        "  for item in l:\n",
        "    if type(item) == int or type(item) == float:\n",
        "      flat_list.append(item)\n",
        "    elif type(item) == list or type(item) == tuple or type(item) == set:\n",
        "      for i in item:\n",
        "        if type(i) == int or type(i) == float:\n",
        "          flat_list.append(i)\n",
        "    elif type(item) == dict:\n",
        "      keys = item.keys()\n",
        "      values = item.values()\n",
        "      for i in keys:\n",
        "        if type(i) == int or type(i) == float:\n",
        "          flat_list.append(i)\n",
        "      \n",
        "      for j in values:\n",
        "        if type(j) == int or type(j) == float:\n",
        "          flat_list.append(j)\n",
        "        elif type(j) == list or type(j) == tuple or type(j) == set:\n",
        "          for k in j:\n",
        "            if type(k) == int or type(k) == float:\n",
        "              flat_list.append(k)\n",
        "  return flat_list\n",
        "\n",
        "\n",
        "def product_of_list(l):\n",
        "  from functools import reduce\n",
        "  f_list = flatten_list(l)\n",
        "  return reduce(lambda x,y : x*y,f_list)\n",
        "\n",
        "product_of_list(list1)"
      ]
    },
    {
      "cell_type": "markdown",
      "source": [
        "Q2. Write a python program for encrypting a message sent to you by your friend. The logic of encryption\n",
        "should be such that, for a the output should be z. For b, the output should be y. For c, the output should\n",
        "be x respectively. Also, the whitespace should be replaced with a dollar sign. Keep the punctuation\n",
        "marks unchanged.\n",
        "\n",
        "Input Sentence: I want to become a Data Scientist.\n",
        "\n",
        "Encrypt the above input sentence using the program you just created.\n",
        "\n",
        "Note: Convert the given input sentence into lowercase before encrypting. The final output should be\n",
        "lowercase."
      ],
      "metadata": {
        "id": "zGaWkxayZ0Zv"
      }
    },
    {
      "cell_type": "code",
      "source": [
        "input = ' I want to become a Data Scientist.'\n",
        "\n",
        "\n",
        "def invert_char(ch):\n",
        "  return chr(ord('z') - ord(ch) + ord('a'))\n",
        "\n",
        "def encrypt(message):\n",
        "  message = message.lower()\n",
        "  enc = \"\"\n",
        "  for ch in message:\n",
        "    if ord(ch) >= ord('a') and ord(ch) <= ord('z'):\n",
        "      enc += invert_char(ch) \n",
        "    else:\n",
        "      enc += ch\n",
        "  return enc.replace(' ','$')\n",
        "\n",
        "encrypt(input)"
      ],
      "metadata": {
        "colab": {
          "base_uri": "https://localhost:8080/",
          "height": 35
        },
        "id": "gQulB3QDXIvB",
        "outputId": "fea1eae2-1235-4422-f111-4cbab2c91cd6"
      },
      "execution_count": 24,
      "outputs": [
        {
          "output_type": "execute_result",
          "data": {
            "text/plain": [
              "'$r$dzmg$gl$yvxlnv$z$wzgz$hxrvmgrhg.'"
            ],
            "application/vnd.google.colaboratory.intrinsic+json": {
              "type": "string"
            }
          },
          "metadata": {},
          "execution_count": 24
        }
      ]
    },
    {
      "cell_type": "code",
      "source": [],
      "metadata": {
        "id": "DNsjuXB7cWZ5"
      },
      "execution_count": null,
      "outputs": []
    }
  ]
}