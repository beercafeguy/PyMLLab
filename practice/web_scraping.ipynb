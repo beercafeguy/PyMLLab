{
  "nbformat": 4,
  "nbformat_minor": 0,
  "metadata": {
    "colab": {
      "provenance": [],
      "authorship_tag": "ABX9TyP5rqs5jwPQa7XCzjrghmYP",
      "include_colab_link": true
    },
    "kernelspec": {
      "name": "python3",
      "display_name": "Python 3"
    },
    "language_info": {
      "name": "python"
    }
  },
  "cells": [
    {
      "cell_type": "markdown",
      "metadata": {
        "id": "view-in-github",
        "colab_type": "text"
      },
      "source": [
        "<a href=\"https://colab.research.google.com/github/beercafeguy/PyMLLab/blob/master/practice/web_scraping.ipynb\" target=\"_parent\"><img src=\"https://colab.research.google.com/assets/colab-badge.svg\" alt=\"Open In Colab\"/></a>"
      ]
    },
    {
      "cell_type": "code",
      "execution_count": 2,
      "metadata": {
        "id": "BV9dS4pgekXd"
      },
      "outputs": [],
      "source": [
        "import requests\n",
        "from bs4 import BeautifulSoup as bs\n",
        "from urllib.request import urlopen as ureq "
      ]
    },
    {
      "cell_type": "code",
      "source": [
        "flipkart_base_url = 'https://www.flipkart.com/search?q='\n",
        "flipkart_url = flipkart_base_url+'redmi'\n",
        "flipkart_url"
      ],
      "metadata": {
        "colab": {
          "base_uri": "https://localhost:8080/",
          "height": 35
        },
        "id": "fuK4a-bSfMzu",
        "outputId": "73ee2516-7eea-42a4-c4dd-901a149e53f5"
      },
      "execution_count": 63,
      "outputs": [
        {
          "output_type": "execute_result",
          "data": {
            "text/plain": [
              "'https://www.flipkart.com/search?q=redmi'"
            ],
            "application/vnd.google.colaboratory.intrinsic+json": {
              "type": "string"
            }
          },
          "metadata": {},
          "execution_count": 63
        }
      ]
    },
    {
      "cell_type": "code",
      "source": [
        "urlclient = ureq(flipkart_url)"
      ],
      "metadata": {
        "id": "D9cFjNzTfupO"
      },
      "execution_count": 64,
      "outputs": []
    },
    {
      "cell_type": "code",
      "source": [
        "flipkart_page=urlclient.read()"
      ],
      "metadata": {
        "id": "jsosUa6igDRG"
      },
      "execution_count": 65,
      "outputs": []
    },
    {
      "cell_type": "code",
      "source": [
        "flipkart_html=bs(flipkart_page,'html.parser')"
      ],
      "metadata": {
        "id": "pr8w2PJ6gP8c"
      },
      "execution_count": 66,
      "outputs": []
    },
    {
      "cell_type": "code",
      "source": [
        "item_boxes = flipkart_html.findAll(\"div\",{\"class\":\"_2kHMtA\"})\n",
        "len(item_boxes)"
      ],
      "metadata": {
        "colab": {
          "base_uri": "https://localhost:8080/"
        },
        "id": "iOUr3o8qgkRb",
        "outputId": "9600122c-d99a-493d-e853-ce830cec9486"
      },
      "execution_count": 67,
      "outputs": [
        {
          "output_type": "execute_result",
          "data": {
            "text/plain": [
              "24"
            ]
          },
          "metadata": {},
          "execution_count": 67
        }
      ]
    },
    {
      "cell_type": "code",
      "source": [
        "product_urls = [\"https://www.flipkart.com\"+box.a['href'] for box in item_boxes]"
      ],
      "metadata": {
        "id": "YknW6xavjY0F"
      },
      "execution_count": 68,
      "outputs": []
    },
    {
      "cell_type": "code",
      "source": [
        "product_request = requests.get(product_urls[0])"
      ],
      "metadata": {
        "id": "DepqME2gjcv9"
      },
      "execution_count": 69,
      "outputs": []
    },
    {
      "cell_type": "code",
      "source": [
        "product_urls[0]"
      ],
      "metadata": {
        "colab": {
          "base_uri": "https://localhost:8080/",
          "height": 53
        },
        "id": "l680t2N0qYEB",
        "outputId": "74da5f57-37ba-48cb-a36a-35669f3cef2b"
      },
      "execution_count": 70,
      "outputs": [
        {
          "output_type": "execute_result",
          "data": {
            "text/plain": [
              "'https://www.flipkart.com/redmi-9i-sport-carbon-black-64-gb/p/itm4559197007bd1?pid=MOBG6WQWRGRRDBH6&lid=LSTMOBG6WQWRGRRDBH6GYTMM1&marketplace=FLIPKART&q=redmi&store=tyy%2F4io&spotlightTagId=BestsellerId_tyy%2F4io&srno=s_1_1&otracker=search&fm=organic&iid=fa8ecb68-41a4-4991-a672-9720cdc9e325.MOBG6WQWRGRRDBH6.SEARCH&ppt=None&ppn=None&ssid=xbsxuaefkg0000001676995535946&qH=9b6bf0057c19bd94'"
            ],
            "application/vnd.google.colaboratory.intrinsic+json": {
              "type": "string"
            }
          },
          "metadata": {},
          "execution_count": 70
        }
      ]
    },
    {
      "cell_type": "code",
      "source": [
        "product_html=bs(product_request.text,'html.parser')"
      ],
      "metadata": {
        "id": "UDNg8PBTqYmr"
      },
      "execution_count": 71,
      "outputs": []
    },
    {
      "cell_type": "code",
      "source": [
        "reviews_divs = product_html.findAll(\"div\",{\"class\":\"col _2wzgFH\"})\n",
        "for review in reviews_divs:\n",
        "  cust_name = review.findAll('p',{\"class\":\"_2sc7ZR _2V5EHH\"})[0].text\n",
        "  rating= review.findAll('div',{\"class\":\"_3LWZlK _1BLPMq\"})[0].text\n",
        "  review_text = review.findAll('div',{\"class\":\"\"})[0].text\n",
        "  print(review_text)"
      ],
      "metadata": {
        "colab": {
          "base_uri": "https://localhost:8080/",
          "height": 342
        },
        "id": "sh55nePVq1t1",
        "outputId": "6ed9d441-2941-4e4b-f6c0-dd758ed32d1d"
      },
      "execution_count": 72,
      "outputs": [
        {
          "output_type": "stream",
          "name": "stdout",
          "text": [
            "Very nice phone in budget, basic and simple phone for basic need, stylish design rich look in low price.Not fast charging but basic Charging and normal charger. No finger print sensor unlock feature. But phone is good according to it's range, most important it's brand redmi. Most trusted brand in india. Love thisREAD MORE\n",
            "It's a very good mobile at affordable price for the middle class families like us I suggest the viewers to go for it Thank youREAD MORE\n",
            "Nice phone and looking very cool battery backup is very good and phone is very smoothREAD MORE\n",
            "Best phone under this price but I gave it 4 star because camera is average and please add fast charging . I ordered with the exchange of my old redmi 5a best value given by flipkart .  but overall Thank you flipkartREAD MORE\n",
            "A very good phone at this price range. Highly recommend it for people who have very less usage of smartphones. The design looks very good considering the price range.READ MORE\n"
          ]
        },
        {
          "output_type": "error",
          "ename": "IndexError",
          "evalue": "ignored",
          "traceback": [
            "\u001b[0;31m---------------------------------------------------------------------------\u001b[0m",
            "\u001b[0;31mIndexError\u001b[0m                                Traceback (most recent call last)",
            "\u001b[0;32m<ipython-input-72-14b0fe8af2fb>\u001b[0m in \u001b[0;36m<module>\u001b[0;34m\u001b[0m\n\u001b[1;32m      2\u001b[0m \u001b[0;32mfor\u001b[0m \u001b[0mreview\u001b[0m \u001b[0;32min\u001b[0m \u001b[0mreviews_divs\u001b[0m\u001b[0;34m:\u001b[0m\u001b[0;34m\u001b[0m\u001b[0;34m\u001b[0m\u001b[0m\n\u001b[1;32m      3\u001b[0m   \u001b[0mcust_name\u001b[0m \u001b[0;34m=\u001b[0m \u001b[0mreview\u001b[0m\u001b[0;34m.\u001b[0m\u001b[0mfindAll\u001b[0m\u001b[0;34m(\u001b[0m\u001b[0;34m'p'\u001b[0m\u001b[0;34m,\u001b[0m\u001b[0;34m{\u001b[0m\u001b[0;34m\"class\"\u001b[0m\u001b[0;34m:\u001b[0m\u001b[0;34m\"_2sc7ZR _2V5EHH\"\u001b[0m\u001b[0;34m}\u001b[0m\u001b[0;34m)\u001b[0m\u001b[0;34m[\u001b[0m\u001b[0;36m0\u001b[0m\u001b[0;34m]\u001b[0m\u001b[0;34m.\u001b[0m\u001b[0mtext\u001b[0m\u001b[0;34m\u001b[0m\u001b[0;34m\u001b[0m\u001b[0m\n\u001b[0;32m----> 4\u001b[0;31m   \u001b[0mrating\u001b[0m\u001b[0;34m=\u001b[0m \u001b[0mreview\u001b[0m\u001b[0;34m.\u001b[0m\u001b[0mfindAll\u001b[0m\u001b[0;34m(\u001b[0m\u001b[0;34m'div'\u001b[0m\u001b[0;34m,\u001b[0m\u001b[0;34m{\u001b[0m\u001b[0;34m\"class\"\u001b[0m\u001b[0;34m:\u001b[0m\u001b[0;34m\"_3LWZlK _1BLPMq\"\u001b[0m\u001b[0;34m}\u001b[0m\u001b[0;34m)\u001b[0m\u001b[0;34m[\u001b[0m\u001b[0;36m0\u001b[0m\u001b[0;34m]\u001b[0m\u001b[0;34m.\u001b[0m\u001b[0mtext\u001b[0m\u001b[0;34m\u001b[0m\u001b[0;34m\u001b[0m\u001b[0m\n\u001b[0m\u001b[1;32m      5\u001b[0m   \u001b[0mreview_text\u001b[0m \u001b[0;34m=\u001b[0m \u001b[0mreview\u001b[0m\u001b[0;34m.\u001b[0m\u001b[0mfindAll\u001b[0m\u001b[0;34m(\u001b[0m\u001b[0;34m'div'\u001b[0m\u001b[0;34m,\u001b[0m\u001b[0;34m{\u001b[0m\u001b[0;34m\"class\"\u001b[0m\u001b[0;34m:\u001b[0m\u001b[0;34m\"\"\u001b[0m\u001b[0;34m}\u001b[0m\u001b[0;34m)\u001b[0m\u001b[0;34m[\u001b[0m\u001b[0;36m0\u001b[0m\u001b[0;34m]\u001b[0m\u001b[0;34m.\u001b[0m\u001b[0mtext\u001b[0m\u001b[0;34m\u001b[0m\u001b[0;34m\u001b[0m\u001b[0m\n\u001b[1;32m      6\u001b[0m   \u001b[0mprint\u001b[0m\u001b[0;34m(\u001b[0m\u001b[0mreview_text\u001b[0m\u001b[0;34m)\u001b[0m\u001b[0;34m\u001b[0m\u001b[0;34m\u001b[0m\u001b[0m\n",
            "\u001b[0;31mIndexError\u001b[0m: list index out of range"
          ]
        }
      ]
    },
    {
      "cell_type": "code",
      "source": [
        "for review in reviews_divs:\n",
        "  rating = review.findAll('div',{\"class\":\"_3LWZlK _1BLPMq\"})[0].text\n",
        "  print(rating)"
      ],
      "metadata": {
        "colab": {
          "base_uri": "https://localhost:8080/"
        },
        "id": "dmXZ3-Xhrqq8",
        "outputId": "3816fd66-a542-437f-f171-6dd574b94b98"
      },
      "execution_count": 61,
      "outputs": [
        {
          "output_type": "stream",
          "name": "stdout",
          "text": [
            "5\n",
            "5\n",
            "5\n",
            "4\n",
            "5\n",
            "5\n",
            "5\n",
            "5\n",
            "4\n",
            "5\n"
          ]
        }
      ]
    },
    {
      "cell_type": "code",
      "source": [],
      "metadata": {
        "id": "DiMxB3CPrxK7"
      },
      "execution_count": null,
      "outputs": []
    }
  ]
}