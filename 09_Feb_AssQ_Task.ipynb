{
  "nbformat": 4,
  "nbformat_minor": 0,
  "metadata": {
    "colab": {
      "provenance": [],
      "authorship_tag": "ABX9TyOZy60BeyrW5ryMZLjsTFEm",
      "include_colab_link": true
    },
    "kernelspec": {
      "name": "python3",
      "display_name": "Python 3"
    },
    "language_info": {
      "name": "python"
    }
  },
  "cells": [
    {
      "cell_type": "markdown",
      "metadata": {
        "id": "view-in-github",
        "colab_type": "text"
      },
      "source": [
        "<a href=\"https://colab.research.google.com/github/beercafeguy/PyMLLab/blob/master/09_Feb_AssQ_Task.ipynb\" target=\"_parent\"><img src=\"https://colab.research.google.com/assets/colab-badge.svg\" alt=\"Open In Colab\"/></a>"
      ]
    },
    {
      "cell_type": "markdown",
      "source": [
        "**Q1.** Create a vehicle class with an init method having instance variables as name_of_vehicle, max_speed\n",
        "and average_of_vehicle."
      ],
      "metadata": {
        "id": "Nnp0WEFH1loH"
      }
    },
    {
      "cell_type": "code",
      "execution_count": 1,
      "metadata": {
        "id": "un8ANZIY1e4R"
      },
      "outputs": [],
      "source": [
        "class Vehicle:\n",
        "\n",
        "  def __init__(self,name_of_vehicle,max_speed,average_of_vehicle):\n",
        "\n",
        "    self.name_of_vehicle=name_of_vehicle\n",
        "    self.max_speed=max_speed\n",
        "    self.average_of_vehicle=average_of_vehicle"
      ]
    },
    {
      "cell_type": "markdown",
      "source": [
        "**Q2.** Create a child class car from the vehicle class created in Que 1, which will inherit the vehicle class.\n",
        "\n",
        "Create a method named seating_capacity which takes capacity as an argument and returns the name of\n",
        "the vehicle and its seating capacity."
      ],
      "metadata": {
        "id": "A2xgkPes1-fh"
      }
    },
    {
      "cell_type": "code",
      "source": [
        "class Car(Vehicle):\n",
        "\n",
        "  def seating_capacity(self,capacity):\n",
        "    return (self.name_of_vehicle,capacity)"
      ],
      "metadata": {
        "id": "zKqZ6K38191v"
      },
      "execution_count": 2,
      "outputs": []
    },
    {
      "cell_type": "markdown",
      "source": [
        "**Q3.** What is multiple inheritance? Write a python code to demonstrate multiple inheritance."
      ],
      "metadata": {
        "id": "zPWRUFOT2tY4"
      }
    },
    {
      "cell_type": "markdown",
      "source": [
        "Multiple inheritance is a special kind of inheritance where one child class inherits its properties and methods from 2 or more then two Parent classes. \n",
        "\n",
        "**Example:**\n",
        "\n",
        "In below example, we show that a FighterPlane aircraft inherits its properties from a Plane as well as a Weapon "
      ],
      "metadata": {
        "id": "Et7RKASR3Qvg"
      }
    },
    {
      "cell_type": "code",
      "source": [
        "class Weapon:\n",
        "\n",
        "  def fire(self):\n",
        "\n",
        "    print(\"Firing\")\n",
        "\n",
        "class Plane:\n",
        "\n",
        "  def fly(self):\n",
        "\n",
        "    print(\"Flying\")\n",
        "\n",
        "class FighterPlane(Plane,Weapon):\n",
        "  pass"
      ],
      "metadata": {
        "id": "XRsPBD8c2r5n"
      },
      "execution_count": 3,
      "outputs": []
    },
    {
      "cell_type": "code",
      "source": [
        "fp = FighterPlane()\n",
        "fp.fly()\n",
        "fp.fire()"
      ],
      "metadata": {
        "colab": {
          "base_uri": "https://localhost:8080/"
        },
        "id": "WDN6Ug5h4Lzn",
        "outputId": "384feb96-0164-4ee2-ea17-26a992a82e6a"
      },
      "execution_count": 4,
      "outputs": [
        {
          "output_type": "stream",
          "name": "stdout",
          "text": [
            "Flying\n",
            "Firing\n"
          ]
        }
      ]
    },
    {
      "cell_type": "markdown",
      "source": [
        "**Q4.** What are getter and setter in python? Create a class and create a getter and a setter method in this\n",
        "class.\n"
      ],
      "metadata": {
        "id": "2u-HQ_SU4Sqy"
      }
    },
    {
      "cell_type": "markdown",
      "source": [
        "**Ans:**\n",
        "\n",
        "getter and setter mpthods are like any other python method in python but used in a speacial scenerio to implement the encapsulation principle of OOPs.\n",
        "\n",
        "as the name suggests, getter is user to get the value of any perticular data member and setter is used to set the value of data member"
      ],
      "metadata": {
        "id": "8s8eAtKA4UQG"
      }
    },
    {
      "cell_type": "code",
      "source": [
        "class Car:\n",
        "\n",
        "  max_len_model_name = 20\n",
        "  max_speed = 200\n",
        "  def __init__(self,model_name,top_speed):\n",
        "    self.__model_name = model_name\n",
        "    self.__top_speed = top_speed\n",
        "\n",
        "  def get_top_speed(self):\n",
        "    return self.__top_speed\n",
        "  \n",
        "  def set_top_speed(self,new_top_speed):\n",
        "    if(new_top_speed <=Car.max_speed):\n",
        "      self.__top_speed = new_top_speed\n",
        "    else:\n",
        "      raise Exception(\"Top speed can not be more then {0}.\".format(Car.max_speed))\n",
        "  \n",
        "  def get_model_name(self):\n",
        "    return self.__model_name\n",
        "  \n",
        "  def set_model_name(self,new_model_name):\n",
        "    if(len(new_model_name) <=Car.max_len_model_name):\n",
        "      self.__model_name = new_model_name\n",
        "    else:\n",
        "      raise Exception(\"Model name can not be more then {0} characters long.\".format(Car.max_len_model_name))\n",
        "\n"
      ],
      "metadata": {
        "id": "wZct1Wv04Pck"
      },
      "execution_count": 6,
      "outputs": []
    },
    {
      "cell_type": "code",
      "source": [
        "c1= Car(\"Tiago\",100)\n",
        "print(c1.get_model_name())\n",
        "print(c1.get_top_speed())"
      ],
      "metadata": {
        "colab": {
          "base_uri": "https://localhost:8080/"
        },
        "id": "TlsnQj4i6A6b",
        "outputId": "0b5c3a99-21e5-479c-f209-038d6d59ad5f"
      },
      "execution_count": 8,
      "outputs": [
        {
          "output_type": "stream",
          "name": "stdout",
          "text": [
            "Tiago\n",
            "100\n"
          ]
        }
      ]
    },
    {
      "cell_type": "code",
      "source": [
        "# If we set variables directly, object will not be updated\n",
        "c1.__top_speed = 250\n",
        "print(c1.get_top_speed())"
      ],
      "metadata": {
        "colab": {
          "base_uri": "https://localhost:8080/"
        },
        "id": "fx-zdbYN6lPh",
        "outputId": "a318e65f-6031-4cda-ea03-66a82044b092"
      },
      "execution_count": 9,
      "outputs": [
        {
          "output_type": "stream",
          "name": "stdout",
          "text": [
            "100\n"
          ]
        }
      ]
    },
    {
      "cell_type": "code",
      "source": [
        "# here I should get an exception because car spped can not be more then predifined values of 200\n",
        "c1.set_top_speed(250)\n",
        "print(c1.get_top_speed())"
      ],
      "metadata": {
        "colab": {
          "base_uri": "https://localhost:8080/",
          "height": 322
        },
        "id": "oZWIJtgT61oG",
        "outputId": "62f28113-cd61-4e41-d171-978467a314b7"
      },
      "execution_count": 10,
      "outputs": [
        {
          "output_type": "error",
          "ename": "Exception",
          "evalue": "ignored",
          "traceback": [
            "\u001b[0;31m---------------------------------------------------------------------------\u001b[0m",
            "\u001b[0;31mException\u001b[0m                                 Traceback (most recent call last)",
            "\u001b[0;32m<ipython-input-10-f97019650309>\u001b[0m in \u001b[0;36m<module>\u001b[0;34m\u001b[0m\n\u001b[1;32m      1\u001b[0m \u001b[0;31m# here I should get an exception\u001b[0m\u001b[0;34m\u001b[0m\u001b[0;34m\u001b[0m\u001b[0;34m\u001b[0m\u001b[0m\n\u001b[0;32m----> 2\u001b[0;31m \u001b[0mc1\u001b[0m\u001b[0;34m.\u001b[0m\u001b[0mset_top_speed\u001b[0m\u001b[0;34m(\u001b[0m\u001b[0;36m250\u001b[0m\u001b[0;34m)\u001b[0m\u001b[0;34m\u001b[0m\u001b[0;34m\u001b[0m\u001b[0m\n\u001b[0m\u001b[1;32m      3\u001b[0m \u001b[0mprint\u001b[0m\u001b[0;34m(\u001b[0m\u001b[0mc1\u001b[0m\u001b[0;34m.\u001b[0m\u001b[0mget_top_speed\u001b[0m\u001b[0;34m(\u001b[0m\u001b[0;34m)\u001b[0m\u001b[0;34m)\u001b[0m\u001b[0;34m\u001b[0m\u001b[0;34m\u001b[0m\u001b[0m\n",
            "\u001b[0;32m<ipython-input-6-817e67576a10>\u001b[0m in \u001b[0;36mset_top_speed\u001b[0;34m(self, new_top_speed)\u001b[0m\n\u001b[1;32m     14\u001b[0m       \u001b[0mself\u001b[0m\u001b[0;34m.\u001b[0m\u001b[0m__top_speed\u001b[0m \u001b[0;34m=\u001b[0m \u001b[0mnew_top_speed\u001b[0m\u001b[0;34m\u001b[0m\u001b[0;34m\u001b[0m\u001b[0m\n\u001b[1;32m     15\u001b[0m     \u001b[0;32melse\u001b[0m\u001b[0;34m:\u001b[0m\u001b[0;34m\u001b[0m\u001b[0;34m\u001b[0m\u001b[0m\n\u001b[0;32m---> 16\u001b[0;31m       \u001b[0;32mraise\u001b[0m \u001b[0mException\u001b[0m\u001b[0;34m(\u001b[0m\u001b[0;34m\"Top speed can not be more then {0}.\"\u001b[0m\u001b[0;34m.\u001b[0m\u001b[0mformat\u001b[0m\u001b[0;34m(\u001b[0m\u001b[0mCar\u001b[0m\u001b[0;34m.\u001b[0m\u001b[0mmax_speed\u001b[0m\u001b[0;34m)\u001b[0m\u001b[0;34m)\u001b[0m\u001b[0;34m\u001b[0m\u001b[0;34m\u001b[0m\u001b[0m\n\u001b[0m\u001b[1;32m     17\u001b[0m \u001b[0;34m\u001b[0m\u001b[0m\n\u001b[1;32m     18\u001b[0m   \u001b[0;32mdef\u001b[0m \u001b[0mget_model_name\u001b[0m\u001b[0;34m(\u001b[0m\u001b[0mself\u001b[0m\u001b[0;34m)\u001b[0m\u001b[0;34m:\u001b[0m\u001b[0;34m\u001b[0m\u001b[0;34m\u001b[0m\u001b[0m\n",
            "\u001b[0;31mException\u001b[0m: Top speed can not be more then 200."
          ]
        }
      ]
    },
    {
      "cell_type": "code",
      "source": [
        "c1.set_top_speed(150)\n",
        "print(c1.get_top_speed())"
      ],
      "metadata": {
        "colab": {
          "base_uri": "https://localhost:8080/"
        },
        "id": "dzlgFhKD694_",
        "outputId": "d67a515c-fa3c-48b2-9161-05d5d31abbda"
      },
      "execution_count": 11,
      "outputs": [
        {
          "output_type": "stream",
          "name": "stdout",
          "text": [
            "150\n"
          ]
        }
      ]
    },
    {
      "cell_type": "markdown",
      "source": [
        "Q5.What is method overriding in python? Write a python code to demonstrate method overriding."
      ],
      "metadata": {
        "id": "c0daggwj7Jkh"
      }
    },
    {
      "cell_type": "markdown",
      "source": [
        "**Ans:**\n",
        "Method overising is a benifit of inheritance which we can use to give a different definition of a method in child class. In case of overiding, the signature of the method remains same but implementation changes. This generaly is a more specific version of the same method as given in example below."
      ],
      "metadata": {
        "id": "nrrUFOyY7Kjh"
      }
    },
    {
      "cell_type": "code",
      "source": [
        "class Animal:\n",
        "\n",
        "  def make_sound(self):\n",
        "    print(\"Animal Making Sound\")\n",
        "\n",
        "class Dog:\n",
        "\n",
        "  def make_sound(self):\n",
        "    print(\"Dog Barking\")\n",
        "\n",
        "\n",
        "an = Animal()\n",
        "dg = Dog()\n",
        "\n",
        "for i in (an,dg):\n",
        "  i.make_sound()"
      ],
      "metadata": {
        "colab": {
          "base_uri": "https://localhost:8080/"
        },
        "id": "cAJLvDFI7FOs",
        "outputId": "b0b9e16e-b44b-4d55-ed5f-dbfec1ef1cdf"
      },
      "execution_count": 12,
      "outputs": [
        {
          "output_type": "stream",
          "name": "stdout",
          "text": [
            "Animal Making Sound\n",
            "Dog Barking\n"
          ]
        }
      ]
    },
    {
      "cell_type": "markdown",
      "source": [
        "In above example, signauture of method ma_soubd remains same but child class gives its more specific implementation of the same method"
      ],
      "metadata": {
        "id": "YgjtHdYT8ENE"
      }
    },
    {
      "cell_type": "code",
      "source": [],
      "metadata": {
        "id": "_E0Nl3k88C0E"
      },
      "execution_count": null,
      "outputs": []
    }
  ]
}