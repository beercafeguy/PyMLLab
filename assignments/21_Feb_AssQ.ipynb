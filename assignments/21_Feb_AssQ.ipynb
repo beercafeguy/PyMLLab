{
  "nbformat": 4,
  "nbformat_minor": 0,
  "metadata": {
    "colab": {
      "provenance": [],
      "authorship_tag": "ABX9TyOz440QSSk9H7oHY/MXswBf",
      "include_colab_link": true
    },
    "kernelspec": {
      "name": "python3",
      "display_name": "Python 3"
    },
    "language_info": {
      "name": "python"
    }
  },
  "cells": [
    {
      "cell_type": "markdown",
      "metadata": {
        "id": "view-in-github",
        "colab_type": "text"
      },
      "source": [
        "<a href=\"https://colab.research.google.com/github/beercafeguy/PyMLLab/blob/master/assignments/21_Feb_AssQ.ipynb\" target=\"_parent\"><img src=\"https://colab.research.google.com/assets/colab-badge.svg\" alt=\"Open In Colab\"/></a>"
      ]
    },
    {
      "cell_type": "markdown",
      "source": [
        "**Q1.** What is Web Scraping? Why is it Used? Give three areas where Web Scraping is used to get data."
      ],
      "metadata": {
        "id": "nvmIhRda5zd8"
      }
    },
    {
      "cell_type": "markdown",
      "source": [
        "**Web Scraping**\n",
        "\n",
        "Web scraping is a way to extract data from websites on internet. With the help of web scrapper, we can collect data from different websites on internet and use that for our use cases like ML model training etc.\n",
        "\n",
        "In web scraping, we search through the HTML page of the URL and extract data of our interest. At times, this might get complex so some websites like twitter, stack overflow etc provide APIs to get there data in structured way but there are other websites which do not provide this facility so web scraping is useful in such cases.\n",
        "\n",
        "\n",
        "**Areas where scraping is useful**\n",
        "1. Market research\n",
        "2. Stock price monitoring\n",
        "3. News tracking"
      ],
      "metadata": {
        "id": "TQ7jVZnh52hJ"
      }
    },
    {
      "cell_type": "markdown",
      "source": [
        "**Q2.** What are the different methods used for Web Scraping?"
      ],
      "metadata": {
        "id": "7H0crzPi7Wu2"
      }
    },
    {
      "cell_type": "markdown",
      "source": [
        "**Ans**\n",
        "\n",
        "There are mainly two ways of web scraping.\n",
        "1. We can write our own scrapper so we have much more flaxibility with its working and features. This will use the simple div structure of web page and find elements of interest through it.\n",
        "\n",
        "2. We can use pre built scrappers in form of browser plugins."
      ],
      "metadata": {
        "id": "cDdF0wy67ukQ"
      }
    },
    {
      "cell_type": "markdown",
      "source": [
        "**Q3.** What is Beautiful Soup? Why is it used?"
      ],
      "metadata": {
        "id": "3SNwTgmF8XDq"
      }
    },
    {
      "cell_type": "markdown",
      "source": [
        "**Ans**\n",
        "\n",
        "Beautiful Soup is a python library which is used for HTML tree traversal for searching and finding data in a HTML page. So we can get the data from an HTML page using a simple HTTP request.\n",
        "\n",
        "One we have HTML Page, that is really hard to make sense of, we use HTML parsers to convert it to a structured HTML page. Beautiful Soup also works as HTML parser. We can also use tools like HTML5LIB.\n",
        "\n",
        "Once we have the structured HTML page, we use Beautiful Soup for finding nodes of interest in it."
      ],
      "metadata": {
        "id": "MmtDvU1B8Y27"
      }
    },
    {
      "cell_type": "markdown",
      "source": [
        "**Q4.** Why is flask used in this Web Scraping project?"
      ],
      "metadata": {
        "id": "3gUilG429cVg"
      }
    },
    {
      "cell_type": "markdown",
      "source": [
        "**Ans**\n",
        "\n",
        "Here in our project, flask is used to expose the UI for user to enter the search keyword for which we need to extract reviews.\n",
        "\n",
        "With the help of templates and API exposed though Flask server, we have created a UI for used to enter the search key word.\n",
        "\n",
        "Flask have no direct role in scraping itself as thats done with HTTP requests and Beautiful Soup."
      ],
      "metadata": {
        "id": "jWPSIi2P9f-R"
      }
    },
    {
      "cell_type": "markdown",
      "source": [
        "**Q5.** Write the names of AWS services used in this project. Also, explain the use of each service."
      ],
      "metadata": {
        "id": "F7C9Qomp99PX"
      }
    },
    {
      "cell_type": "markdown",
      "source": [
        "**Ans**\n",
        "\n",
        "Code pipeline <br>\n",
        "Bean Stack <br>\n"
      ],
      "metadata": {
        "id": "WxYNwKG0xuGX"
      }
    },
    {
      "cell_type": "code",
      "execution_count": null,
      "metadata": {
        "id": "Gc0VvcCf5vdH"
      },
      "outputs": [],
      "source": []
    }
  ]
}