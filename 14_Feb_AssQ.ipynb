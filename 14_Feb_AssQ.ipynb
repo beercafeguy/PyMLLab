{
  "nbformat": 4,
  "nbformat_minor": 0,
  "metadata": {
    "colab": {
      "provenance": [],
      "authorship_tag": "ABX9TyNxV42yHMwPpuqfayNIZcVG",
      "include_colab_link": true
    },
    "kernelspec": {
      "name": "python3",
      "display_name": "Python 3"
    },
    "language_info": {
      "name": "python"
    }
  },
  "cells": [
    {
      "cell_type": "markdown",
      "metadata": {
        "id": "view-in-github",
        "colab_type": "text"
      },
      "source": [
        "<a href=\"https://colab.research.google.com/github/beercafeguy/PyMLLab/blob/master/14_Feb_AssQ.ipynb\" target=\"_parent\"><img src=\"https://colab.research.google.com/assets/colab-badge.svg\" alt=\"Open In Colab\"/></a>"
      ]
    },
    {
      "cell_type": "markdown",
      "source": [
        "**Q1).** What is multithreading in python? Why is it used? Name the module used to handle threads in python"
      ],
      "metadata": {
        "id": "4PWKH70hxg-X"
      }
    },
    {
      "cell_type": "markdown",
      "source": [
        "**Ans:**\n",
        "\n",
        "Multithreading in the ability of a processor to run more then one thread (independent sections of programs) in the same core of the processor. Python as language supports the implementation of multithreaded programs using python.\n",
        "\n",
        "**Why**\n",
        "\n",
        "The main airm behind using multithreading is to making most out of your processor which inturn will improve the performance of your program. Ex. a web server can supports more then one request concurrently using threads,an image processing application can process the sections of image parally in same core etc.\n",
        "\n",
        "**Module**\n",
        "Module name is threading"
      ],
      "metadata": {
        "id": "4JWIw_n-xkPN"
      }
    },
    {
      "cell_type": "markdown",
      "source": [
        "**Q2).** Why threading module used? Write the use of the following functions\n",
        "\n",
        "1. activeCount\n",
        "2. currentThread\n",
        "3. enumerate"
      ],
      "metadata": {
        "id": "MAb9m9fey6RR"
      }
    },
    {
      "cell_type": "markdown",
      "source": [
        "**Ans:**\n",
        "\n",
        "threading module in python in used to create thread and support functions related to threads like starting threads, joining threads, licking code sections etc.\n",
        "\n",
        "**activeCount**\n",
        "activeCount in threading module is used to count the number of active threads at any given point in time.\n",
        "\n",
        "**currentThread**\n",
        "Current thread is used to get the current thread details in an multi threaded application\n",
        "\n",
        "**enumerate**\n",
        "This is used to get the list of all the active thread objects including main thread. This is mainly usful in making thread operations predictable."
      ],
      "metadata": {
        "id": "Oqv6cP4czGW7"
      }
    },
    {
      "cell_type": "markdown",
      "source": [
        "**Q3).** Explain the following functions:\n",
        "1. run\n",
        "2. start\n",
        "3. join\n",
        "4. isAlive"
      ],
      "metadata": {
        "id": "pJkN9yRH0615"
      }
    },
    {
      "cell_type": "markdown",
      "source": [
        "1. run : Run is ised to just run the code available in thread target without invoking separate thread.\n",
        "2. start : start method in thread class is used to execute the code of target in a separate thread.\n",
        "3. join : is used to control the execution flow of threads. If we want to stop a perticular thread till the time other thread completes, we will use join.\n",
        "4. isAlive : Return whether the thread is alive"
      ],
      "metadata": {
        "id": "Uuimc7UY1DKN"
      }
    },
    {
      "cell_type": "markdown",
      "source": [
        "**Q4.** Write a python program to create two threads. Thread one must print the list of squares and thread two must print the list of cubes"
      ],
      "metadata": {
        "id": "R2zTCkrI7eEQ"
      }
    },
    {
      "cell_type": "code",
      "execution_count": 1,
      "metadata": {
        "colab": {
          "base_uri": "https://localhost:8080/"
        },
        "id": "-4P7dRtkxfMJ",
        "outputId": "75d33344-2324-4378-8410-696c9e320571"
      },
      "outputs": [
        {
          "output_type": "stream",
          "name": "stdout",
          "text": [
            "[0, 1, 4, 9, 16, 25, 36, 49, 64, 81]\n",
            "[0, 1, 8, 27, 64, 125, 216, 343, 512, 729]\n",
            "Done!\n"
          ]
        }
      ],
      "source": [
        "import threading\n",
        "\n",
        "import time\n",
        "def print_cubes(lock):\n",
        "    lock.acquire()\n",
        "    cubes = []\n",
        "    for i in range(10):\n",
        "      cubes.append(i**3)\n",
        "    print(cubes)\n",
        "    lock.release()\n",
        "\n",
        "\n",
        "def print_squares(lock):\n",
        "    lock.acquire()\n",
        "    squares = []\n",
        "    for i in range(10):\n",
        "        squares.append(i ** 2)\n",
        "    print(squares)\n",
        "    lock.release()\n",
        "\n",
        "\n",
        "if __name__ == \"__main__\":\n",
        "    lock = threading.Lock()\n",
        "    t1 = threading.Thread(target=print_squares, args=(lock,))\n",
        "    t2 = threading.Thread(target=print_cubes, args=(lock,))\n",
        "\n",
        "    t1.start()\n",
        "    t2.start()\n",
        "    t1.join()\n",
        "    t2.join()\n",
        "    print('Done!')"
      ]
    },
    {
      "cell_type": "markdown",
      "source": [
        "**Q5.** State advantages and disadvantages of multithreading"
      ],
      "metadata": {
        "id": "lK63-MLt9qye"
      }
    },
    {
      "cell_type": "markdown",
      "source": [
        "**Advantages:**\n",
        "\n",
        "1. Better use of resources\n",
        "2. Improved Performance\n",
        "\n",
        "**disadvantages**\n",
        "\n",
        "1. Sometimes makes programs hard to debug\n",
        "2. Unpredictable results"
      ],
      "metadata": {
        "id": "YRbQ99fB9tMN"
      }
    },
    {
      "cell_type": "markdown",
      "source": [
        "**Q6.** Explain deadlocks and race conditions."
      ],
      "metadata": {
        "id": "6RLZZFnv-R2M"
      }
    },
    {
      "cell_type": "markdown",
      "source": [
        "**Deadlock**\n",
        "\n",
        "Deadlock is situation where a threading is waiting for a lock to be released from itself which will never happen so this thread will never proceed.\n",
        "\n",
        "**race conditions**\n",
        "\n",
        "Race condition are the scenerios where two different threads are tryng to access a shared resource simultaneously. This might cause issues in the state of the shared resource."
      ],
      "metadata": {
        "id": "ZONsrQ0Q_liC"
      }
    },
    {
      "cell_type": "code",
      "source": [
        "# here we are incrementing the shared variable x twice in two different threads \n",
        "# So technically we should get the OP as 200000 in every single run.\n",
        "# But that is not happening because at times both the threads are updating same value \n",
        "# So we are losing the track.\n",
        "\n",
        "import threading\n",
        "\n",
        "x = 0\n",
        "\n",
        "def increment():\n",
        "\n",
        "    global x\n",
        "    x +=1\n",
        "\n",
        "def thread_task():\n",
        "    for i in range(100000):\n",
        "        increment()\n",
        "\n",
        "\n",
        "def main_task():\n",
        "    global x\n",
        "    # setting global variable x as 0\n",
        "    x = 0\n",
        "\n",
        "    # creating threads\n",
        "    t1 = threading.Thread(target=thread_task)\n",
        "    t2 = threading.Thread(target=thread_task)\n",
        "\n",
        "    # start threads\n",
        "    t1.start()\n",
        "    t2.start()\n",
        "\n",
        "    # wait until threads finish their job\n",
        "    t1.join()\n",
        "    t2.join()\n",
        "\n",
        "\n",
        "if __name__ == \"__main__\":\n",
        "    for i in range(10):\n",
        "        main_task()\n",
        "        print(\"Iteration {0}: x = {1}\".format(i, x))"
      ],
      "metadata": {
        "colab": {
          "base_uri": "https://localhost:8080/"
        },
        "id": "MuDQG1LRAMX1",
        "outputId": "2d239754-f07d-4fa5-e4c7-9ae97a1b6c9c"
      },
      "execution_count": 3,
      "outputs": [
        {
          "output_type": "stream",
          "name": "stdout",
          "text": [
            "Iteration 0: x = 200000\n",
            "Iteration 1: x = 179797\n",
            "Iteration 2: x = 175344\n",
            "Iteration 3: x = 158887\n",
            "Iteration 4: x = 183984\n",
            "Iteration 5: x = 181604\n",
            "Iteration 6: x = 166077\n",
            "Iteration 7: x = 200000\n",
            "Iteration 8: x = 172629\n",
            "Iteration 9: x = 200000\n"
          ]
        }
      ]
    },
    {
      "cell_type": "code",
      "source": [
        "# To solve above problem \n",
        "# We use locks in critical section \n",
        "# Of code\n",
        "import threading\n",
        "\n",
        "x = 0\n",
        "\n",
        "def increment():\n",
        "\n",
        "    global x\n",
        "    x +=1\n",
        "\n",
        "def thread_task(lock):\n",
        "    for i in range(100000):\n",
        "        lock.acquire()\n",
        "        increment()\n",
        "        lock.release()\n",
        "\n",
        "\n",
        "def main_task():\n",
        "    global x\n",
        "    # setting global variable x as 0\n",
        "    x = 0\n",
        "\n",
        "    lock = threading.Lock()\n",
        "    # creating threads\n",
        "    t1 = threading.Thread(target=thread_task,args = (lock,))\n",
        "    t2 = threading.Thread(target=thread_task, args = (lock,))\n",
        "\n",
        "    # start threads\n",
        "    t1.start()\n",
        "    t2.start()\n",
        "\n",
        "    # wait until threads finish their job\n",
        "    t1.join()\n",
        "    t2.join()\n",
        "\n",
        "\n",
        "if __name__ == \"__main__\":\n",
        "    for i in range(10):\n",
        "        main_task()\n",
        "        print(\"Iteration {0}: x = {1}\".format(i, x))"
      ],
      "metadata": {
        "colab": {
          "base_uri": "https://localhost:8080/"
        },
        "id": "U1Yjmpod9iUC",
        "outputId": "5e2f94f2-a8e5-45c6-d12b-ed2dec951df1"
      },
      "execution_count": 4,
      "outputs": [
        {
          "output_type": "stream",
          "name": "stdout",
          "text": [
            "Iteration 0: x = 200000\n",
            "Iteration 1: x = 200000\n",
            "Iteration 2: x = 200000\n",
            "Iteration 3: x = 200000\n",
            "Iteration 4: x = 200000\n",
            "Iteration 5: x = 200000\n",
            "Iteration 6: x = 200000\n",
            "Iteration 7: x = 200000\n",
            "Iteration 8: x = 200000\n",
            "Iteration 9: x = 200000\n"
          ]
        }
      ]
    },
    {
      "cell_type": "code",
      "source": [],
      "metadata": {
        "id": "pEcHl57kAIbb"
      },
      "execution_count": null,
      "outputs": []
    }
  ]
}