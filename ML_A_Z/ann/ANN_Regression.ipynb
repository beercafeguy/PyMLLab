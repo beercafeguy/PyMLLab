{
  "nbformat": 4,
  "nbformat_minor": 0,
  "metadata": {
    "colab": {
      "provenance": [],
      "toc_visible": true,
      "authorship_tag": "ABX9TyMwUyVVCBlmDCu/2Y+abrXs",
      "include_colab_link": true
    },
    "kernelspec": {
      "name": "python3",
      "display_name": "Python 3"
    },
    "language_info": {
      "name": "python"
    }
  },
  "cells": [
    {
      "cell_type": "markdown",
      "metadata": {
        "id": "view-in-github",
        "colab_type": "text"
      },
      "source": [
        "<a href=\"https://colab.research.google.com/github/beercafeguy/PyMLLab/blob/master/ML_A_Z/ann/ANN_Regression.ipynb\" target=\"_parent\"><img src=\"https://colab.research.google.com/assets/colab-badge.svg\" alt=\"Open In Colab\"/></a>"
      ]
    },
    {
      "cell_type": "code",
      "execution_count": 1,
      "metadata": {
        "colab": {
          "base_uri": "https://localhost:8080/"
        },
        "id": "C2RdXU0lFz-w",
        "outputId": "eb77491e-2b03-423a-9b2c-4dbe4d582d3f"
      },
      "outputs": [
        {
          "output_type": "stream",
          "name": "stdout",
          "text": [
            "--2023-08-12 04:53:33--  https://archive.ics.uci.edu/static/public/294/combined+cycle+power+plant.zip\n",
            "Resolving archive.ics.uci.edu (archive.ics.uci.edu)... 128.195.10.252\n",
            "Connecting to archive.ics.uci.edu (archive.ics.uci.edu)|128.195.10.252|:443... connected.\n",
            "HTTP request sent, awaiting response... 200 OK\n",
            "Length: unspecified\n",
            "Saving to: ‘combined+cycle+power+plant.zip’\n",
            "\n",
            "combined+cycle+powe     [  <=>               ]   3.50M  8.99MB/s    in 0.4s    \n",
            "\n",
            "2023-08-12 04:53:34 (8.99 MB/s) - ‘combined+cycle+power+plant.zip’ saved [3674852]\n",
            "\n"
          ]
        }
      ],
      "source": [
        "# https://archive.ics.uci.edu/datasets\n",
        "!wget https://archive.ics.uci.edu/static/public/294/combined+cycle+power+plant.zip"
      ]
    },
    {
      "cell_type": "code",
      "source": [
        "!unzip combined+cycle+power+plant.zip"
      ],
      "metadata": {
        "colab": {
          "base_uri": "https://localhost:8080/"
        },
        "id": "hf0527KUF238",
        "outputId": "dd0feb71-5230-40b5-f42f-89fa058ed29c"
      },
      "execution_count": 3,
      "outputs": [
        {
          "output_type": "stream",
          "name": "stdout",
          "text": [
            "Archive:  combined+cycle+power+plant.zip\n",
            "   creating: CCPP/\n",
            "  inflating: CCPP/Folds5x2_pp.ods    \n",
            "  inflating: CCPP/Folds5x2_pp.xlsx   \n",
            "  inflating: CCPP/Readme.txt         \n",
            "  inflating: CCPP/Readme.txt~        \n"
          ]
        }
      ]
    },
    {
      "cell_type": "code",
      "source": [
        "!ls -ltr CCPP/"
      ],
      "metadata": {
        "colab": {
          "base_uri": "https://localhost:8080/"
        },
        "id": "UEAOyCGKF5uz",
        "outputId": "22aee1bc-15f5-458c-a37a-1e204198745b"
      },
      "execution_count": 5,
      "outputs": [
        {
          "output_type": "stream",
          "name": "stdout",
          "text": [
            "total 3676\n",
            "-rw-rw-r-- 1 root root 2029440 Mar 26  2014 Folds5x2_pp.xlsx\n",
            "-rw-rw-r-- 1 root root 1723202 Mar 26  2014 Folds5x2_pp.ods\n",
            "-rw-rw-r-- 1 root root    1738 Mar 26  2014 Readme.txt~\n",
            "-rw-rw-r-- 1 root root    1793 Mar 26  2014 Readme.txt\n"
          ]
        }
      ]
    },
    {
      "cell_type": "code",
      "source": [
        "import pandas as pd\n",
        "import numpy as np\n",
        "import tensorflow as tf"
      ],
      "metadata": {
        "id": "0ipWqLfUF_M2"
      },
      "execution_count": 6,
      "outputs": []
    },
    {
      "cell_type": "code",
      "source": [
        "tf.__version__"
      ],
      "metadata": {
        "colab": {
          "base_uri": "https://localhost:8080/",
          "height": 35
        },
        "id": "JTfsmnFhGMkT",
        "outputId": "5e688665-e549-450b-de1c-9ce51b009ae1"
      },
      "execution_count": 7,
      "outputs": [
        {
          "output_type": "execute_result",
          "data": {
            "text/plain": [
              "'2.12.0'"
            ],
            "application/vnd.google.colaboratory.intrinsic+json": {
              "type": "string"
            }
          },
          "metadata": {},
          "execution_count": 7
        }
      ]
    },
    {
      "cell_type": "markdown",
      "source": [
        "### Import the dataset"
      ],
      "metadata": {
        "id": "66YY0l6fHG_d"
      }
    },
    {
      "cell_type": "code",
      "source": [
        "!ls -ltr CCPP/Folds5x2_pp.xlsx"
      ],
      "metadata": {
        "colab": {
          "base_uri": "https://localhost:8080/"
        },
        "id": "qBxTktXbG_rr",
        "outputId": "ed3ad1fd-318b-496f-91a2-6d69de9314b3"
      },
      "execution_count": 9,
      "outputs": [
        {
          "output_type": "stream",
          "name": "stdout",
          "text": [
            "-rw-rw-r-- 1 root root 2029440 Mar 26  2014 CCPP/Folds5x2_pp.xlsx\n"
          ]
        }
      ]
    },
    {
      "cell_type": "code",
      "source": [
        "path = 'CCPP/Folds5x2_pp.xlsx'\n",
        "df = pd.read_excel(path)\n",
        "df.head()"
      ],
      "metadata": {
        "colab": {
          "base_uri": "https://localhost:8080/",
          "height": 206
        },
        "id": "Ez6XM4AYHKBM",
        "outputId": "8092faba-8c65-49b0-e38f-2bb83416e6e9"
      },
      "execution_count": 10,
      "outputs": [
        {
          "output_type": "execute_result",
          "data": {
            "text/plain": [
              "      AT      V       AP     RH      PE\n",
              "0  14.96  41.76  1024.07  73.17  463.26\n",
              "1  25.18  62.96  1020.04  59.08  444.37\n",
              "2   5.11  39.40  1012.16  92.14  488.56\n",
              "3  20.86  57.32  1010.24  76.64  446.48\n",
              "4  10.82  37.50  1009.23  96.62  473.90"
            ],
            "text/html": [
              "\n",
              "\n",
              "  <div id=\"df-7f6731ae-66e7-48e2-81f4-e74ce521be3b\">\n",
              "    <div class=\"colab-df-container\">\n",
              "      <div>\n",
              "<style scoped>\n",
              "    .dataframe tbody tr th:only-of-type {\n",
              "        vertical-align: middle;\n",
              "    }\n",
              "\n",
              "    .dataframe tbody tr th {\n",
              "        vertical-align: top;\n",
              "    }\n",
              "\n",
              "    .dataframe thead th {\n",
              "        text-align: right;\n",
              "    }\n",
              "</style>\n",
              "<table border=\"1\" class=\"dataframe\">\n",
              "  <thead>\n",
              "    <tr style=\"text-align: right;\">\n",
              "      <th></th>\n",
              "      <th>AT</th>\n",
              "      <th>V</th>\n",
              "      <th>AP</th>\n",
              "      <th>RH</th>\n",
              "      <th>PE</th>\n",
              "    </tr>\n",
              "  </thead>\n",
              "  <tbody>\n",
              "    <tr>\n",
              "      <th>0</th>\n",
              "      <td>14.96</td>\n",
              "      <td>41.76</td>\n",
              "      <td>1024.07</td>\n",
              "      <td>73.17</td>\n",
              "      <td>463.26</td>\n",
              "    </tr>\n",
              "    <tr>\n",
              "      <th>1</th>\n",
              "      <td>25.18</td>\n",
              "      <td>62.96</td>\n",
              "      <td>1020.04</td>\n",
              "      <td>59.08</td>\n",
              "      <td>444.37</td>\n",
              "    </tr>\n",
              "    <tr>\n",
              "      <th>2</th>\n",
              "      <td>5.11</td>\n",
              "      <td>39.40</td>\n",
              "      <td>1012.16</td>\n",
              "      <td>92.14</td>\n",
              "      <td>488.56</td>\n",
              "    </tr>\n",
              "    <tr>\n",
              "      <th>3</th>\n",
              "      <td>20.86</td>\n",
              "      <td>57.32</td>\n",
              "      <td>1010.24</td>\n",
              "      <td>76.64</td>\n",
              "      <td>446.48</td>\n",
              "    </tr>\n",
              "    <tr>\n",
              "      <th>4</th>\n",
              "      <td>10.82</td>\n",
              "      <td>37.50</td>\n",
              "      <td>1009.23</td>\n",
              "      <td>96.62</td>\n",
              "      <td>473.90</td>\n",
              "    </tr>\n",
              "  </tbody>\n",
              "</table>\n",
              "</div>\n",
              "      <button class=\"colab-df-convert\" onclick=\"convertToInteractive('df-7f6731ae-66e7-48e2-81f4-e74ce521be3b')\"\n",
              "              title=\"Convert this dataframe to an interactive table.\"\n",
              "              style=\"display:none;\">\n",
              "\n",
              "  <svg xmlns=\"http://www.w3.org/2000/svg\" height=\"24px\"viewBox=\"0 0 24 24\"\n",
              "       width=\"24px\">\n",
              "    <path d=\"M0 0h24v24H0V0z\" fill=\"none\"/>\n",
              "    <path d=\"M18.56 5.44l.94 2.06.94-2.06 2.06-.94-2.06-.94-.94-2.06-.94 2.06-2.06.94zm-11 1L8.5 8.5l.94-2.06 2.06-.94-2.06-.94L8.5 2.5l-.94 2.06-2.06.94zm10 10l.94 2.06.94-2.06 2.06-.94-2.06-.94-.94-2.06-.94 2.06-2.06.94z\"/><path d=\"M17.41 7.96l-1.37-1.37c-.4-.4-.92-.59-1.43-.59-.52 0-1.04.2-1.43.59L10.3 9.45l-7.72 7.72c-.78.78-.78 2.05 0 2.83L4 21.41c.39.39.9.59 1.41.59.51 0 1.02-.2 1.41-.59l7.78-7.78 2.81-2.81c.8-.78.8-2.07 0-2.86zM5.41 20L4 18.59l7.72-7.72 1.47 1.35L5.41 20z\"/>\n",
              "  </svg>\n",
              "      </button>\n",
              "\n",
              "\n",
              "\n",
              "    <div id=\"df-fc13fb3b-187e-40d6-9873-e2ca0fed06fe\">\n",
              "      <button class=\"colab-df-quickchart\" onclick=\"quickchart('df-fc13fb3b-187e-40d6-9873-e2ca0fed06fe')\"\n",
              "              title=\"Suggest charts.\"\n",
              "              style=\"display:none;\">\n",
              "\n",
              "<svg xmlns=\"http://www.w3.org/2000/svg\" height=\"24px\"viewBox=\"0 0 24 24\"\n",
              "     width=\"24px\">\n",
              "    <g>\n",
              "        <path d=\"M19 3H5c-1.1 0-2 .9-2 2v14c0 1.1.9 2 2 2h14c1.1 0 2-.9 2-2V5c0-1.1-.9-2-2-2zM9 17H7v-7h2v7zm4 0h-2V7h2v10zm4 0h-2v-4h2v4z\"/>\n",
              "    </g>\n",
              "</svg>\n",
              "      </button>\n",
              "    </div>\n",
              "\n",
              "<style>\n",
              "  .colab-df-quickchart {\n",
              "    background-color: #E8F0FE;\n",
              "    border: none;\n",
              "    border-radius: 50%;\n",
              "    cursor: pointer;\n",
              "    display: none;\n",
              "    fill: #1967D2;\n",
              "    height: 32px;\n",
              "    padding: 0 0 0 0;\n",
              "    width: 32px;\n",
              "  }\n",
              "\n",
              "  .colab-df-quickchart:hover {\n",
              "    background-color: #E2EBFA;\n",
              "    box-shadow: 0px 1px 2px rgba(60, 64, 67, 0.3), 0px 1px 3px 1px rgba(60, 64, 67, 0.15);\n",
              "    fill: #174EA6;\n",
              "  }\n",
              "\n",
              "  [theme=dark] .colab-df-quickchart {\n",
              "    background-color: #3B4455;\n",
              "    fill: #D2E3FC;\n",
              "  }\n",
              "\n",
              "  [theme=dark] .colab-df-quickchart:hover {\n",
              "    background-color: #434B5C;\n",
              "    box-shadow: 0px 1px 3px 1px rgba(0, 0, 0, 0.15);\n",
              "    filter: drop-shadow(0px 1px 2px rgba(0, 0, 0, 0.3));\n",
              "    fill: #FFFFFF;\n",
              "  }\n",
              "</style>\n",
              "\n",
              "    <script>\n",
              "      async function quickchart(key) {\n",
              "        const containerElement = document.querySelector('#' + key);\n",
              "        const charts = await google.colab.kernel.invokeFunction(\n",
              "            'suggestCharts', [key], {});\n",
              "      }\n",
              "    </script>\n",
              "\n",
              "      <script>\n",
              "\n",
              "function displayQuickchartButton(domScope) {\n",
              "  let quickchartButtonEl =\n",
              "    domScope.querySelector('#df-fc13fb3b-187e-40d6-9873-e2ca0fed06fe button.colab-df-quickchart');\n",
              "  quickchartButtonEl.style.display =\n",
              "    google.colab.kernel.accessAllowed ? 'block' : 'none';\n",
              "}\n",
              "\n",
              "        displayQuickchartButton(document);\n",
              "      </script>\n",
              "      <style>\n",
              "    .colab-df-container {\n",
              "      display:flex;\n",
              "      flex-wrap:wrap;\n",
              "      gap: 12px;\n",
              "    }\n",
              "\n",
              "    .colab-df-convert {\n",
              "      background-color: #E8F0FE;\n",
              "      border: none;\n",
              "      border-radius: 50%;\n",
              "      cursor: pointer;\n",
              "      display: none;\n",
              "      fill: #1967D2;\n",
              "      height: 32px;\n",
              "      padding: 0 0 0 0;\n",
              "      width: 32px;\n",
              "    }\n",
              "\n",
              "    .colab-df-convert:hover {\n",
              "      background-color: #E2EBFA;\n",
              "      box-shadow: 0px 1px 2px rgba(60, 64, 67, 0.3), 0px 1px 3px 1px rgba(60, 64, 67, 0.15);\n",
              "      fill: #174EA6;\n",
              "    }\n",
              "\n",
              "    [theme=dark] .colab-df-convert {\n",
              "      background-color: #3B4455;\n",
              "      fill: #D2E3FC;\n",
              "    }\n",
              "\n",
              "    [theme=dark] .colab-df-convert:hover {\n",
              "      background-color: #434B5C;\n",
              "      box-shadow: 0px 1px 3px 1px rgba(0, 0, 0, 0.15);\n",
              "      filter: drop-shadow(0px 1px 2px rgba(0, 0, 0, 0.3));\n",
              "      fill: #FFFFFF;\n",
              "    }\n",
              "  </style>\n",
              "\n",
              "      <script>\n",
              "        const buttonEl =\n",
              "          document.querySelector('#df-7f6731ae-66e7-48e2-81f4-e74ce521be3b button.colab-df-convert');\n",
              "        buttonEl.style.display =\n",
              "          google.colab.kernel.accessAllowed ? 'block' : 'none';\n",
              "\n",
              "        async function convertToInteractive(key) {\n",
              "          const element = document.querySelector('#df-7f6731ae-66e7-48e2-81f4-e74ce521be3b');\n",
              "          const dataTable =\n",
              "            await google.colab.kernel.invokeFunction('convertToInteractive',\n",
              "                                                     [key], {});\n",
              "          if (!dataTable) return;\n",
              "\n",
              "          const docLinkHtml = 'Like what you see? Visit the ' +\n",
              "            '<a target=\"_blank\" href=https://colab.research.google.com/notebooks/data_table.ipynb>data table notebook</a>'\n",
              "            + ' to learn more about interactive tables.';\n",
              "          element.innerHTML = '';\n",
              "          dataTable['output_type'] = 'display_data';\n",
              "          await google.colab.output.renderOutput(dataTable, element);\n",
              "          const docLink = document.createElement('div');\n",
              "          docLink.innerHTML = docLinkHtml;\n",
              "          element.appendChild(docLink);\n",
              "        }\n",
              "      </script>\n",
              "    </div>\n",
              "  </div>\n"
            ]
          },
          "metadata": {},
          "execution_count": 10
        }
      ]
    },
    {
      "cell_type": "code",
      "source": [
        "df.shape"
      ],
      "metadata": {
        "colab": {
          "base_uri": "https://localhost:8080/"
        },
        "id": "aX5CZiIoHaCB",
        "outputId": "c11d32eb-e469-40b8-b2e0-e672ed633c4c"
      },
      "execution_count": 11,
      "outputs": [
        {
          "output_type": "execute_result",
          "data": {
            "text/plain": [
              "(9568, 5)"
            ]
          },
          "metadata": {},
          "execution_count": 11
        }
      ]
    },
    {
      "cell_type": "code",
      "source": [
        "df.isnull().sum()"
      ],
      "metadata": {
        "colab": {
          "base_uri": "https://localhost:8080/"
        },
        "id": "LDATqlpUHdB3",
        "outputId": "1bae72a4-6be3-459c-dff8-58f67fb9374d"
      },
      "execution_count": 12,
      "outputs": [
        {
          "output_type": "execute_result",
          "data": {
            "text/plain": [
              "AT    0\n",
              "V     0\n",
              "AP    0\n",
              "RH    0\n",
              "PE    0\n",
              "dtype: int64"
            ]
          },
          "metadata": {},
          "execution_count": 12
        }
      ]
    },
    {
      "cell_type": "code",
      "source": [
        "df.describe()"
      ],
      "metadata": {
        "colab": {
          "base_uri": "https://localhost:8080/",
          "height": 300
        },
        "id": "qQIyEuDmHezY",
        "outputId": "0e6cda33-8ccd-4d0b-d129-7a26f2936271"
      },
      "execution_count": 13,
      "outputs": [
        {
          "output_type": "execute_result",
          "data": {
            "text/plain": [
              "                AT            V           AP           RH           PE\n",
              "count  9568.000000  9568.000000  9568.000000  9568.000000  9568.000000\n",
              "mean     19.651231    54.305804  1013.259078    73.308978   454.365009\n",
              "std       7.452473    12.707893     5.938784    14.600269    17.066995\n",
              "min       1.810000    25.360000   992.890000    25.560000   420.260000\n",
              "25%      13.510000    41.740000  1009.100000    63.327500   439.750000\n",
              "50%      20.345000    52.080000  1012.940000    74.975000   451.550000\n",
              "75%      25.720000    66.540000  1017.260000    84.830000   468.430000\n",
              "max      37.110000    81.560000  1033.300000   100.160000   495.760000"
            ],
            "text/html": [
              "\n",
              "\n",
              "  <div id=\"df-d6f42f2b-4a31-4c0a-a6ed-6403f4b7b2d1\">\n",
              "    <div class=\"colab-df-container\">\n",
              "      <div>\n",
              "<style scoped>\n",
              "    .dataframe tbody tr th:only-of-type {\n",
              "        vertical-align: middle;\n",
              "    }\n",
              "\n",
              "    .dataframe tbody tr th {\n",
              "        vertical-align: top;\n",
              "    }\n",
              "\n",
              "    .dataframe thead th {\n",
              "        text-align: right;\n",
              "    }\n",
              "</style>\n",
              "<table border=\"1\" class=\"dataframe\">\n",
              "  <thead>\n",
              "    <tr style=\"text-align: right;\">\n",
              "      <th></th>\n",
              "      <th>AT</th>\n",
              "      <th>V</th>\n",
              "      <th>AP</th>\n",
              "      <th>RH</th>\n",
              "      <th>PE</th>\n",
              "    </tr>\n",
              "  </thead>\n",
              "  <tbody>\n",
              "    <tr>\n",
              "      <th>count</th>\n",
              "      <td>9568.000000</td>\n",
              "      <td>9568.000000</td>\n",
              "      <td>9568.000000</td>\n",
              "      <td>9568.000000</td>\n",
              "      <td>9568.000000</td>\n",
              "    </tr>\n",
              "    <tr>\n",
              "      <th>mean</th>\n",
              "      <td>19.651231</td>\n",
              "      <td>54.305804</td>\n",
              "      <td>1013.259078</td>\n",
              "      <td>73.308978</td>\n",
              "      <td>454.365009</td>\n",
              "    </tr>\n",
              "    <tr>\n",
              "      <th>std</th>\n",
              "      <td>7.452473</td>\n",
              "      <td>12.707893</td>\n",
              "      <td>5.938784</td>\n",
              "      <td>14.600269</td>\n",
              "      <td>17.066995</td>\n",
              "    </tr>\n",
              "    <tr>\n",
              "      <th>min</th>\n",
              "      <td>1.810000</td>\n",
              "      <td>25.360000</td>\n",
              "      <td>992.890000</td>\n",
              "      <td>25.560000</td>\n",
              "      <td>420.260000</td>\n",
              "    </tr>\n",
              "    <tr>\n",
              "      <th>25%</th>\n",
              "      <td>13.510000</td>\n",
              "      <td>41.740000</td>\n",
              "      <td>1009.100000</td>\n",
              "      <td>63.327500</td>\n",
              "      <td>439.750000</td>\n",
              "    </tr>\n",
              "    <tr>\n",
              "      <th>50%</th>\n",
              "      <td>20.345000</td>\n",
              "      <td>52.080000</td>\n",
              "      <td>1012.940000</td>\n",
              "      <td>74.975000</td>\n",
              "      <td>451.550000</td>\n",
              "    </tr>\n",
              "    <tr>\n",
              "      <th>75%</th>\n",
              "      <td>25.720000</td>\n",
              "      <td>66.540000</td>\n",
              "      <td>1017.260000</td>\n",
              "      <td>84.830000</td>\n",
              "      <td>468.430000</td>\n",
              "    </tr>\n",
              "    <tr>\n",
              "      <th>max</th>\n",
              "      <td>37.110000</td>\n",
              "      <td>81.560000</td>\n",
              "      <td>1033.300000</td>\n",
              "      <td>100.160000</td>\n",
              "      <td>495.760000</td>\n",
              "    </tr>\n",
              "  </tbody>\n",
              "</table>\n",
              "</div>\n",
              "      <button class=\"colab-df-convert\" onclick=\"convertToInteractive('df-d6f42f2b-4a31-4c0a-a6ed-6403f4b7b2d1')\"\n",
              "              title=\"Convert this dataframe to an interactive table.\"\n",
              "              style=\"display:none;\">\n",
              "\n",
              "  <svg xmlns=\"http://www.w3.org/2000/svg\" height=\"24px\"viewBox=\"0 0 24 24\"\n",
              "       width=\"24px\">\n",
              "    <path d=\"M0 0h24v24H0V0z\" fill=\"none\"/>\n",
              "    <path d=\"M18.56 5.44l.94 2.06.94-2.06 2.06-.94-2.06-.94-.94-2.06-.94 2.06-2.06.94zm-11 1L8.5 8.5l.94-2.06 2.06-.94-2.06-.94L8.5 2.5l-.94 2.06-2.06.94zm10 10l.94 2.06.94-2.06 2.06-.94-2.06-.94-.94-2.06-.94 2.06-2.06.94z\"/><path d=\"M17.41 7.96l-1.37-1.37c-.4-.4-.92-.59-1.43-.59-.52 0-1.04.2-1.43.59L10.3 9.45l-7.72 7.72c-.78.78-.78 2.05 0 2.83L4 21.41c.39.39.9.59 1.41.59.51 0 1.02-.2 1.41-.59l7.78-7.78 2.81-2.81c.8-.78.8-2.07 0-2.86zM5.41 20L4 18.59l7.72-7.72 1.47 1.35L5.41 20z\"/>\n",
              "  </svg>\n",
              "      </button>\n",
              "\n",
              "\n",
              "\n",
              "    <div id=\"df-3d27ebf3-eb36-4d37-9331-2a12fa79bebd\">\n",
              "      <button class=\"colab-df-quickchart\" onclick=\"quickchart('df-3d27ebf3-eb36-4d37-9331-2a12fa79bebd')\"\n",
              "              title=\"Suggest charts.\"\n",
              "              style=\"display:none;\">\n",
              "\n",
              "<svg xmlns=\"http://www.w3.org/2000/svg\" height=\"24px\"viewBox=\"0 0 24 24\"\n",
              "     width=\"24px\">\n",
              "    <g>\n",
              "        <path d=\"M19 3H5c-1.1 0-2 .9-2 2v14c0 1.1.9 2 2 2h14c1.1 0 2-.9 2-2V5c0-1.1-.9-2-2-2zM9 17H7v-7h2v7zm4 0h-2V7h2v10zm4 0h-2v-4h2v4z\"/>\n",
              "    </g>\n",
              "</svg>\n",
              "      </button>\n",
              "    </div>\n",
              "\n",
              "<style>\n",
              "  .colab-df-quickchart {\n",
              "    background-color: #E8F0FE;\n",
              "    border: none;\n",
              "    border-radius: 50%;\n",
              "    cursor: pointer;\n",
              "    display: none;\n",
              "    fill: #1967D2;\n",
              "    height: 32px;\n",
              "    padding: 0 0 0 0;\n",
              "    width: 32px;\n",
              "  }\n",
              "\n",
              "  .colab-df-quickchart:hover {\n",
              "    background-color: #E2EBFA;\n",
              "    box-shadow: 0px 1px 2px rgba(60, 64, 67, 0.3), 0px 1px 3px 1px rgba(60, 64, 67, 0.15);\n",
              "    fill: #174EA6;\n",
              "  }\n",
              "\n",
              "  [theme=dark] .colab-df-quickchart {\n",
              "    background-color: #3B4455;\n",
              "    fill: #D2E3FC;\n",
              "  }\n",
              "\n",
              "  [theme=dark] .colab-df-quickchart:hover {\n",
              "    background-color: #434B5C;\n",
              "    box-shadow: 0px 1px 3px 1px rgba(0, 0, 0, 0.15);\n",
              "    filter: drop-shadow(0px 1px 2px rgba(0, 0, 0, 0.3));\n",
              "    fill: #FFFFFF;\n",
              "  }\n",
              "</style>\n",
              "\n",
              "    <script>\n",
              "      async function quickchart(key) {\n",
              "        const containerElement = document.querySelector('#' + key);\n",
              "        const charts = await google.colab.kernel.invokeFunction(\n",
              "            'suggestCharts', [key], {});\n",
              "      }\n",
              "    </script>\n",
              "\n",
              "      <script>\n",
              "\n",
              "function displayQuickchartButton(domScope) {\n",
              "  let quickchartButtonEl =\n",
              "    domScope.querySelector('#df-3d27ebf3-eb36-4d37-9331-2a12fa79bebd button.colab-df-quickchart');\n",
              "  quickchartButtonEl.style.display =\n",
              "    google.colab.kernel.accessAllowed ? 'block' : 'none';\n",
              "}\n",
              "\n",
              "        displayQuickchartButton(document);\n",
              "      </script>\n",
              "      <style>\n",
              "    .colab-df-container {\n",
              "      display:flex;\n",
              "      flex-wrap:wrap;\n",
              "      gap: 12px;\n",
              "    }\n",
              "\n",
              "    .colab-df-convert {\n",
              "      background-color: #E8F0FE;\n",
              "      border: none;\n",
              "      border-radius: 50%;\n",
              "      cursor: pointer;\n",
              "      display: none;\n",
              "      fill: #1967D2;\n",
              "      height: 32px;\n",
              "      padding: 0 0 0 0;\n",
              "      width: 32px;\n",
              "    }\n",
              "\n",
              "    .colab-df-convert:hover {\n",
              "      background-color: #E2EBFA;\n",
              "      box-shadow: 0px 1px 2px rgba(60, 64, 67, 0.3), 0px 1px 3px 1px rgba(60, 64, 67, 0.15);\n",
              "      fill: #174EA6;\n",
              "    }\n",
              "\n",
              "    [theme=dark] .colab-df-convert {\n",
              "      background-color: #3B4455;\n",
              "      fill: #D2E3FC;\n",
              "    }\n",
              "\n",
              "    [theme=dark] .colab-df-convert:hover {\n",
              "      background-color: #434B5C;\n",
              "      box-shadow: 0px 1px 3px 1px rgba(0, 0, 0, 0.15);\n",
              "      filter: drop-shadow(0px 1px 2px rgba(0, 0, 0, 0.3));\n",
              "      fill: #FFFFFF;\n",
              "    }\n",
              "  </style>\n",
              "\n",
              "      <script>\n",
              "        const buttonEl =\n",
              "          document.querySelector('#df-d6f42f2b-4a31-4c0a-a6ed-6403f4b7b2d1 button.colab-df-convert');\n",
              "        buttonEl.style.display =\n",
              "          google.colab.kernel.accessAllowed ? 'block' : 'none';\n",
              "\n",
              "        async function convertToInteractive(key) {\n",
              "          const element = document.querySelector('#df-d6f42f2b-4a31-4c0a-a6ed-6403f4b7b2d1');\n",
              "          const dataTable =\n",
              "            await google.colab.kernel.invokeFunction('convertToInteractive',\n",
              "                                                     [key], {});\n",
              "          if (!dataTable) return;\n",
              "\n",
              "          const docLinkHtml = 'Like what you see? Visit the ' +\n",
              "            '<a target=\"_blank\" href=https://colab.research.google.com/notebooks/data_table.ipynb>data table notebook</a>'\n",
              "            + ' to learn more about interactive tables.';\n",
              "          element.innerHTML = '';\n",
              "          dataTable['output_type'] = 'display_data';\n",
              "          await google.colab.output.renderOutput(dataTable, element);\n",
              "          const docLink = document.createElement('div');\n",
              "          docLink.innerHTML = docLinkHtml;\n",
              "          element.appendChild(docLink);\n",
              "        }\n",
              "      </script>\n",
              "    </div>\n",
              "  </div>\n"
            ]
          },
          "metadata": {},
          "execution_count": 13
        }
      ]
    },
    {
      "cell_type": "code",
      "source": [
        "X = df.iloc[:,:-1].values\n",
        "y = df.iloc[:,-1].values"
      ],
      "metadata": {
        "id": "h1gtJTelHhE4"
      },
      "execution_count": 14,
      "outputs": []
    },
    {
      "cell_type": "code",
      "source": [
        "X[2]"
      ],
      "metadata": {
        "colab": {
          "base_uri": "https://localhost:8080/"
        },
        "id": "0pwCvMArIDxK",
        "outputId": "4fb56898-02d6-43b3-8da4-6bcd1246b633"
      },
      "execution_count": 15,
      "outputs": [
        {
          "output_type": "execute_result",
          "data": {
            "text/plain": [
              "array([   5.11,   39.4 , 1012.16,   92.14])"
            ]
          },
          "metadata": {},
          "execution_count": 15
        }
      ]
    },
    {
      "cell_type": "code",
      "source": [
        "y"
      ],
      "metadata": {
        "colab": {
          "base_uri": "https://localhost:8080/"
        },
        "id": "IqxQRQzWIFIj",
        "outputId": "3c648622-f4a7-4493-a445-0179c9ec84c2"
      },
      "execution_count": 16,
      "outputs": [
        {
          "output_type": "execute_result",
          "data": {
            "text/plain": [
              "array([463.26, 444.37, 488.56, ..., 429.57, 435.74, 453.28])"
            ]
          },
          "metadata": {},
          "execution_count": 16
        }
      ]
    },
    {
      "cell_type": "markdown",
      "source": [
        "### Scaling the data"
      ],
      "metadata": {
        "id": "2Tf0AkqxIIHj"
      }
    },
    {
      "cell_type": "code",
      "source": [
        "from sklearn.model_selection import train_test_split\n",
        "X_train,X_test,y_train,y_test = train_test_split(X,y,test_size=0.2,random_state=2023)"
      ],
      "metadata": {
        "id": "Lro1bHpUIFpA"
      },
      "execution_count": 17,
      "outputs": []
    },
    {
      "cell_type": "code",
      "source": [
        "#from sklearn.preprocessing import StandardScaler\n"
      ],
      "metadata": {
        "id": "FDhzgZNXIcWY"
      },
      "execution_count": null,
      "outputs": []
    },
    {
      "cell_type": "markdown",
      "source": [
        "### Building ANN"
      ],
      "metadata": {
        "id": "XL5HXBAwIq0f"
      }
    },
    {
      "cell_type": "code",
      "source": [
        "# initialize the network\n",
        "\n",
        "ann = tf.keras.models.Sequential(layers=[\n",
        "    tf.keras.layers.Dense(units=6,activation='relu'), # first hidden layer\n",
        "    tf.keras.layers.Dense(units=6,activation='relu'), # second hidden layer\n",
        "    tf.keras.layers.Dense(units=1) # output layer\n",
        "])"
      ],
      "metadata": {
        "id": "MDZyDpXLIqPy"
      },
      "execution_count": 20,
      "outputs": []
    },
    {
      "cell_type": "markdown",
      "source": [
        "### Training ANN"
      ],
      "metadata": {
        "id": "AqqryglOLGRu"
      }
    },
    {
      "cell_type": "markdown",
      "source": [
        "#### Compiling ANN with an optimizer"
      ],
      "metadata": {
        "id": "Ea65o6VwLNS3"
      }
    },
    {
      "cell_type": "code",
      "source": [
        "ann.compile(optimizer='adam',loss='mean_squared_error')"
      ],
      "metadata": {
        "id": "fdqDPtzZJU6t"
      },
      "execution_count": 21,
      "outputs": []
    },
    {
      "cell_type": "markdown",
      "source": [
        "#### Traing using fit"
      ],
      "metadata": {
        "id": "AbaxMAQNMFd6"
      }
    },
    {
      "cell_type": "code",
      "source": [
        "ann.fit(X_train,y_train,epochs=100,batch_size=32)"
      ],
      "metadata": {
        "colab": {
          "base_uri": "https://localhost:8080/"
        },
        "id": "QpVaZWToMEUQ",
        "outputId": "c830cc1a-733a-4dc6-a0ea-149c09ebcf58"
      },
      "execution_count": 22,
      "outputs": [
        {
          "output_type": "stream",
          "name": "stdout",
          "text": [
            "Epoch 1/100\n",
            "240/240 [==============================] - 1s 1ms/step - loss: 186182.3438\n",
            "Epoch 2/100\n",
            "240/240 [==============================] - 0s 981us/step - loss: 4148.8564\n",
            "Epoch 3/100\n",
            "240/240 [==============================] - 0s 991us/step - loss: 464.0865\n",
            "Epoch 4/100\n",
            "240/240 [==============================] - 0s 1ms/step - loss: 415.9192\n",
            "Epoch 5/100\n",
            "240/240 [==============================] - 0s 998us/step - loss: 372.4981\n",
            "Epoch 6/100\n",
            "240/240 [==============================] - 0s 1ms/step - loss: 325.7993\n",
            "Epoch 7/100\n",
            "240/240 [==============================] - 0s 1ms/step - loss: 280.7095\n",
            "Epoch 8/100\n",
            "240/240 [==============================] - 0s 929us/step - loss: 236.1572\n",
            "Epoch 9/100\n",
            "240/240 [==============================] - 0s 1ms/step - loss: 186.1165\n",
            "Epoch 10/100\n",
            "240/240 [==============================] - 0s 1ms/step - loss: 142.7668\n",
            "Epoch 11/100\n",
            "240/240 [==============================] - 0s 998us/step - loss: 101.3394\n",
            "Epoch 12/100\n",
            "240/240 [==============================] - 0s 982us/step - loss: 70.2095\n",
            "Epoch 13/100\n",
            "240/240 [==============================] - 0s 1ms/step - loss: 48.3879\n",
            "Epoch 14/100\n",
            "240/240 [==============================] - 0s 991us/step - loss: 36.7424\n",
            "Epoch 15/100\n",
            "240/240 [==============================] - 0s 983us/step - loss: 31.3744\n",
            "Epoch 16/100\n",
            "240/240 [==============================] - 0s 948us/step - loss: 28.7761\n",
            "Epoch 17/100\n",
            "240/240 [==============================] - 0s 1ms/step - loss: 28.3960\n",
            "Epoch 18/100\n",
            "240/240 [==============================] - 0s 1ms/step - loss: 27.4340\n",
            "Epoch 19/100\n",
            "240/240 [==============================] - 0s 1ms/step - loss: 27.4666\n",
            "Epoch 20/100\n",
            "240/240 [==============================] - 0s 1ms/step - loss: 28.3281\n",
            "Epoch 21/100\n",
            "240/240 [==============================] - 0s 1ms/step - loss: 27.2481\n",
            "Epoch 22/100\n",
            "240/240 [==============================] - 0s 1ms/step - loss: 27.3636\n",
            "Epoch 23/100\n",
            "240/240 [==============================] - 0s 1ms/step - loss: 27.3069\n",
            "Epoch 24/100\n",
            "240/240 [==============================] - 0s 1ms/step - loss: 27.8000\n",
            "Epoch 25/100\n",
            "240/240 [==============================] - 0s 969us/step - loss: 27.0625\n",
            "Epoch 26/100\n",
            "240/240 [==============================] - 0s 960us/step - loss: 27.4035\n",
            "Epoch 27/100\n",
            "240/240 [==============================] - 0s 950us/step - loss: 27.2760\n",
            "Epoch 28/100\n",
            "240/240 [==============================] - 0s 982us/step - loss: 28.0610\n",
            "Epoch 29/100\n",
            "240/240 [==============================] - 0s 970us/step - loss: 27.8559\n",
            "Epoch 30/100\n",
            "240/240 [==============================] - 0s 1ms/step - loss: 27.4518\n",
            "Epoch 31/100\n",
            "240/240 [==============================] - 0s 1ms/step - loss: 27.7691\n",
            "Epoch 32/100\n",
            "240/240 [==============================] - 0s 1ms/step - loss: 27.6226\n",
            "Epoch 33/100\n",
            "240/240 [==============================] - 0s 1ms/step - loss: 27.9007\n",
            "Epoch 34/100\n",
            "240/240 [==============================] - 0s 978us/step - loss: 27.2712\n",
            "Epoch 35/100\n",
            "240/240 [==============================] - 0s 998us/step - loss: 27.7518\n",
            "Epoch 36/100\n",
            "240/240 [==============================] - 0s 1ms/step - loss: 27.4067\n",
            "Epoch 37/100\n",
            "240/240 [==============================] - 0s 1ms/step - loss: 27.6129\n",
            "Epoch 38/100\n",
            "240/240 [==============================] - 0s 1000us/step - loss: 28.2871\n",
            "Epoch 39/100\n",
            "240/240 [==============================] - 0s 956us/step - loss: 27.5377\n",
            "Epoch 40/100\n",
            "240/240 [==============================] - 0s 1ms/step - loss: 28.4412\n",
            "Epoch 41/100\n",
            "240/240 [==============================] - 0s 946us/step - loss: 27.5359\n",
            "Epoch 42/100\n",
            "240/240 [==============================] - 0s 999us/step - loss: 26.5926\n",
            "Epoch 43/100\n",
            "240/240 [==============================] - 0s 987us/step - loss: 27.8566\n",
            "Epoch 44/100\n",
            "240/240 [==============================] - 0s 937us/step - loss: 27.7234\n",
            "Epoch 45/100\n",
            "240/240 [==============================] - 0s 990us/step - loss: 27.6705\n",
            "Epoch 46/100\n",
            "240/240 [==============================] - 0s 976us/step - loss: 27.5072\n",
            "Epoch 47/100\n",
            "240/240 [==============================] - 0s 910us/step - loss: 29.7529\n",
            "Epoch 48/100\n",
            "240/240 [==============================] - 0s 990us/step - loss: 27.4330\n",
            "Epoch 49/100\n",
            "240/240 [==============================] - 0s 1ms/step - loss: 27.5205\n",
            "Epoch 50/100\n",
            "240/240 [==============================] - 0s 942us/step - loss: 27.4420\n",
            "Epoch 51/100\n",
            "240/240 [==============================] - 0s 945us/step - loss: 27.4514\n",
            "Epoch 52/100\n",
            "240/240 [==============================] - 0s 965us/step - loss: 27.8891\n",
            "Epoch 53/100\n",
            "240/240 [==============================] - 0s 1ms/step - loss: 27.4906\n",
            "Epoch 54/100\n",
            "240/240 [==============================] - 0s 998us/step - loss: 27.6297\n",
            "Epoch 55/100\n",
            "240/240 [==============================] - 0s 997us/step - loss: 26.8314\n",
            "Epoch 56/100\n",
            "240/240 [==============================] - 0s 938us/step - loss: 27.3394\n",
            "Epoch 57/100\n",
            "240/240 [==============================] - 0s 1ms/step - loss: 27.4386\n",
            "Epoch 58/100\n",
            "240/240 [==============================] - 0s 964us/step - loss: 28.5279\n",
            "Epoch 59/100\n",
            "240/240 [==============================] - 0s 986us/step - loss: 26.5694\n",
            "Epoch 60/100\n",
            "240/240 [==============================] - 0s 956us/step - loss: 27.5669\n",
            "Epoch 61/100\n",
            "240/240 [==============================] - 0s 1ms/step - loss: 26.7113\n",
            "Epoch 62/100\n",
            "240/240 [==============================] - 0s 1ms/step - loss: 27.4132\n",
            "Epoch 63/100\n",
            "240/240 [==============================] - 0s 974us/step - loss: 27.1360\n",
            "Epoch 64/100\n",
            "240/240 [==============================] - 0s 975us/step - loss: 27.3177\n",
            "Epoch 65/100\n",
            "240/240 [==============================] - 0s 1ms/step - loss: 29.0381\n",
            "Epoch 66/100\n",
            "240/240 [==============================] - 0s 1ms/step - loss: 28.0972\n",
            "Epoch 67/100\n",
            "240/240 [==============================] - 0s 1ms/step - loss: 28.1677\n",
            "Epoch 68/100\n",
            "240/240 [==============================] - 0s 1ms/step - loss: 27.1174\n",
            "Epoch 69/100\n",
            "240/240 [==============================] - 0s 1ms/step - loss: 27.3320\n",
            "Epoch 70/100\n",
            "240/240 [==============================] - 0s 1ms/step - loss: 27.5072\n",
            "Epoch 71/100\n",
            "240/240 [==============================] - 0s 948us/step - loss: 28.3183\n",
            "Epoch 72/100\n",
            "240/240 [==============================] - 0s 1ms/step - loss: 28.0862\n",
            "Epoch 73/100\n",
            "240/240 [==============================] - 0s 980us/step - loss: 26.8532\n",
            "Epoch 74/100\n",
            "240/240 [==============================] - 0s 973us/step - loss: 26.4690\n",
            "Epoch 75/100\n",
            "240/240 [==============================] - 0s 1ms/step - loss: 26.7799\n",
            "Epoch 76/100\n",
            "240/240 [==============================] - 0s 1ms/step - loss: 27.7955\n",
            "Epoch 77/100\n",
            "240/240 [==============================] - 0s 986us/step - loss: 28.1846\n",
            "Epoch 78/100\n",
            "240/240 [==============================] - 0s 980us/step - loss: 27.2564\n",
            "Epoch 79/100\n",
            "240/240 [==============================] - 0s 1ms/step - loss: 27.4381\n",
            "Epoch 80/100\n",
            "240/240 [==============================] - 0s 1ms/step - loss: 27.8487\n",
            "Epoch 81/100\n",
            "240/240 [==============================] - 0s 1ms/step - loss: 28.1426\n",
            "Epoch 82/100\n",
            "240/240 [==============================] - 0s 974us/step - loss: 26.7406\n",
            "Epoch 83/100\n",
            "240/240 [==============================] - 0s 992us/step - loss: 27.6645\n",
            "Epoch 84/100\n",
            "240/240 [==============================] - 0s 1ms/step - loss: 27.5790\n",
            "Epoch 85/100\n",
            "240/240 [==============================] - 0s 975us/step - loss: 27.1484\n",
            "Epoch 86/100\n",
            "240/240 [==============================] - 0s 968us/step - loss: 27.4654\n",
            "Epoch 87/100\n",
            "240/240 [==============================] - 0s 956us/step - loss: 27.3887\n",
            "Epoch 88/100\n",
            "240/240 [==============================] - 0s 1ms/step - loss: 26.8362\n",
            "Epoch 89/100\n",
            "240/240 [==============================] - 0s 1ms/step - loss: 28.0331\n",
            "Epoch 90/100\n",
            "240/240 [==============================] - 0s 977us/step - loss: 27.8612\n",
            "Epoch 91/100\n",
            "240/240 [==============================] - 0s 1ms/step - loss: 28.5547\n",
            "Epoch 92/100\n",
            "240/240 [==============================] - 0s 985us/step - loss: 27.8950\n",
            "Epoch 93/100\n",
            "240/240 [==============================] - 0s 1ms/step - loss: 28.1448\n",
            "Epoch 94/100\n",
            "240/240 [==============================] - 0s 976us/step - loss: 26.5854\n",
            "Epoch 95/100\n",
            "240/240 [==============================] - 0s 969us/step - loss: 28.0124\n",
            "Epoch 96/100\n",
            "240/240 [==============================] - 0s 1ms/step - loss: 26.6199\n",
            "Epoch 97/100\n",
            "240/240 [==============================] - 0s 1ms/step - loss: 27.3319\n",
            "Epoch 98/100\n",
            "240/240 [==============================] - 0s 996us/step - loss: 28.2066\n",
            "Epoch 99/100\n",
            "240/240 [==============================] - 0s 1ms/step - loss: 27.5757\n",
            "Epoch 100/100\n",
            "240/240 [==============================] - 0s 1ms/step - loss: 28.3171\n"
          ]
        },
        {
          "output_type": "execute_result",
          "data": {
            "text/plain": [
              "<keras.callbacks.History at 0x7d287d26e9e0>"
            ]
          },
          "metadata": {},
          "execution_count": 22
        }
      ]
    },
    {
      "cell_type": "markdown",
      "source": [
        "### Predictions"
      ],
      "metadata": {
        "id": "Px9Y3mZNM8Rg"
      }
    },
    {
      "cell_type": "code",
      "source": [
        "y_pred = ann.predict(X_test)"
      ],
      "metadata": {
        "colab": {
          "base_uri": "https://localhost:8080/"
        },
        "id": "VnArNeh8My-g",
        "outputId": "456951fc-6252-4ab3-8e6c-b982583d412e"
      },
      "execution_count": 23,
      "outputs": [
        {
          "output_type": "stream",
          "name": "stdout",
          "text": [
            "60/60 [==============================] - 0s 1ms/step\n"
          ]
        }
      ]
    },
    {
      "cell_type": "code",
      "source": [
        "np.printoptions(precision=2)\n",
        "np.concatenate((y_test.reshape(len(y_test),1),y_pred.reshape(len(y_pred),1)),1)"
      ],
      "metadata": {
        "colab": {
          "base_uri": "https://localhost:8080/"
        },
        "id": "Cr7yNlR2O4RM",
        "outputId": "f5ba178e-1508-4428-dc99-1f018eca4d20"
      },
      "execution_count": 25,
      "outputs": [
        {
          "output_type": "execute_result",
          "data": {
            "text/plain": [
              "array([[456.07      , 461.17221069],\n",
              "       [483.74      , 479.50323486],\n",
              "       [443.22      , 446.49990845],\n",
              "       ...,\n",
              "       [480.74      , 479.11795044],\n",
              "       [434.26      , 436.36419678],\n",
              "       [453.5       , 449.92669678]])"
            ]
          },
          "metadata": {},
          "execution_count": 25
        }
      ]
    },
    {
      "cell_type": "code",
      "source": [
        "from sklearn.metrics import r2_score,mean_absolute_error\n",
        "print(r2_score(y_test,y_pred))\n",
        "print(mean_absolute_error(y_test,y_pred))"
      ],
      "metadata": {
        "colab": {
          "base_uri": "https://localhost:8080/"
        },
        "id": "KzdHZx5LPH1a",
        "outputId": "29068f91-7b25-41f0-ce5e-c285052e3608"
      },
      "execution_count": 28,
      "outputs": [
        {
          "output_type": "stream",
          "name": "stdout",
          "text": [
            "0.9109512919960359\n",
            "4.062404746251918\n"
          ]
        }
      ]
    },
    {
      "cell_type": "code",
      "source": [],
      "metadata": {
        "id": "oztUYqPUPhML"
      },
      "execution_count": null,
      "outputs": []
    }
  ]
}