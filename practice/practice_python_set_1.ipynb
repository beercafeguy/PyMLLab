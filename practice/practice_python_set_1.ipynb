{
  "nbformat": 4,
  "nbformat_minor": 0,
  "metadata": {
    "colab": {
      "provenance": [],
      "authorship_tag": "ABX9TyOQtOhbW5FKm57yfZTZ4U+r",
      "include_colab_link": true
    },
    "kernelspec": {
      "name": "python3",
      "display_name": "Python 3"
    },
    "language_info": {
      "name": "python"
    }
  },
  "cells": [
    {
      "cell_type": "markdown",
      "metadata": {
        "id": "view-in-github",
        "colab_type": "text"
      },
      "source": [
        "<a href=\"https://colab.research.google.com/github/beercafeguy/PyMLLab/blob/master/practice/practice_python_set_1.ipynb\" target=\"_parent\"><img src=\"https://colab.research.google.com/assets/colab-badge.svg\" alt=\"Open In Colab\"/></a>"
      ]
    },
    {
      "cell_type": "markdown",
      "source": [
        "**Q1.** Write a Python program that defines a function called \"add_numbers\" that takes two arguments (i.e.,\n",
        "numbers) and returns their sum. Within the function, add the two numbers together and return the result\n",
        "using the return statement. Call the function with the values 5 and 6, and print out the returned result.\n",
        "This will result in the addition of 5 and 6, with the output of the program being the sum of these two\n",
        "numbers."
      ],
      "metadata": {
        "id": "3yBlK58YYAux"
      }
    },
    {
      "cell_type": "code",
      "execution_count": 1,
      "metadata": {
        "colab": {
          "base_uri": "https://localhost:8080/"
        },
        "id": "KXPeARxzVbEJ",
        "outputId": "317cf3df-3421-4f48-fd1e-03e1986fc16b"
      },
      "outputs": [
        {
          "output_type": "stream",
          "name": "stdout",
          "text": [
            "11\n"
          ]
        }
      ],
      "source": [
        "def add_numbers(x,y):\n",
        "  return x+y\n",
        "\n",
        "print(add_numbers(5,6))"
      ]
    },
    {
      "cell_type": "markdown",
      "source": [
        "**Q2.** Write a Python program that calculates the square root of a given number using a built-in function.\n",
        "Specifically, the program should take an integer or float input from the user, calculate its square root\n",
        "using the 'sqrt()' function from the 'math' module, and print out the result to the user. As an example,\n",
        "calculate the square root of the number 625 using this program, which should output the value of 25."
      ],
      "metadata": {
        "id": "Wxs07bbSYNzP"
      }
    },
    {
      "cell_type": "code",
      "source": [
        "import math\n",
        "\n",
        "def get_square_root(x):\n",
        "  return math.sqrt(x)\n",
        "print(get_square_root(9))\n",
        "print(get_square_root(12.6))"
      ],
      "metadata": {
        "colab": {
          "base_uri": "https://localhost:8080/"
        },
        "id": "RISQVShSYLz7",
        "outputId": "c150a77a-5831-40d6-8cde-c6f2ef635bec"
      },
      "execution_count": 3,
      "outputs": [
        {
          "output_type": "stream",
          "name": "stdout",
          "text": [
            "3.0\n",
            "3.5496478698597698\n"
          ]
        }
      ]
    },
    {
      "cell_type": "markdown",
      "source": [
        "**Q3**.Write a program that prints all prime numbers between 0 to 50."
      ],
      "metadata": {
        "id": "vBQ-GPJsYhzW"
      }
    },
    {
      "cell_type": "code",
      "source": [
        "def print_prime(start,end):\n",
        "  nums = range(start,end)\n",
        "  for num in nums:\n",
        "    if num <=1:\n",
        "      continue\n",
        "    is_prime=True\n",
        "    for i in range(2,int(math.sqrt(num))+1):\n",
        "      if num % i == 0:\n",
        "        is_prime=False\n",
        "        break\n",
        "    if is_prime:\n",
        "      print(num) \n",
        "\n",
        "print_prime(0,50)"
      ],
      "metadata": {
        "colab": {
          "base_uri": "https://localhost:8080/"
        },
        "id": "p8QfRjG7YQlr",
        "outputId": "f6ace045-f05e-4d6f-e21c-01d2318dcf35"
      },
      "execution_count": 8,
      "outputs": [
        {
          "output_type": "stream",
          "name": "stdout",
          "text": [
            "2\n",
            "3\n",
            "5\n",
            "7\n",
            "11\n",
            "13\n",
            "17\n",
            "19\n",
            "23\n",
            "29\n",
            "31\n",
            "37\n",
            "41\n",
            "43\n",
            "47\n"
          ]
        }
      ]
    },
    {
      "cell_type": "code",
      "source": [],
      "metadata": {
        "id": "oF_YLaFUZXB2"
      },
      "execution_count": null,
      "outputs": []
    }
  ]
}