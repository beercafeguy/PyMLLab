{
  "nbformat": 4,
  "nbformat_minor": 0,
  "metadata": {
    "colab": {
      "provenance": [],
      "authorship_tag": "ABX9TyMQVyphVVQjICZ8vjehGvCd",
      "include_colab_link": true
    },
    "kernelspec": {
      "name": "python3",
      "display_name": "Python 3"
    },
    "language_info": {
      "name": "python"
    }
  },
  "cells": [
    {
      "cell_type": "markdown",
      "metadata": {
        "id": "view-in-github",
        "colab_type": "text"
      },
      "source": [
        "<a href=\"https://colab.research.google.com/github/beercafeguy/PyMLLab/blob/master/05_Feb_AssQ.ipynb\" target=\"_parent\"><img src=\"https://colab.research.google.com/assets/colab-badge.svg\" alt=\"Open In Colab\"/></a>"
      ]
    },
    {
      "cell_type": "markdown",
      "source": [
        "Q1. Explain Class and Object with respect to Object-Oriented Programming. Give a suitable example."
      ],
      "metadata": {
        "id": "8EBIjtbFCuWA"
      }
    },
    {
      "cell_type": "markdown",
      "source": [
        "**Ans:**\n",
        "\n",
        "**Class:** Class is a blueprint of any item which we a=want to create. Like if we want to create few courses for our students, we need to create a blueprint of the courses first like what all a couurse should have like course_name, number_of_students, medium etc. Course should also have a functanality to start ant stop it. "
      ],
      "metadata": {
        "id": "tacB4QsZCxFY"
      }
    },
    {
      "cell_type": "code",
      "execution_count": 1,
      "metadata": {
        "id": "xeqt7y4XCLsm"
      },
      "outputs": [],
      "source": [
        "class Course:\n",
        "\n",
        "  def __init__(self,course_name, number_of_students,medium):\n",
        "    self.course_name = course_name\n",
        "    self.number_of_students = number_of_students\n",
        "    self.medium = medium\n",
        "\n",
        "  def start(self):\n",
        "    print(\"Starting Course\")"
      ]
    },
    {
      "cell_type": "markdown",
      "source": [
        "**Object**\n",
        "\n",
        "Now from this class (blueprint), we can create as many courses as we want. These instances of classes are known as object. we can create course like Java Java Course, Python Course, Digital Marketing course etc.   "
      ],
      "metadata": {
        "id": "HP4uma8bD6Z_"
      }
    },
    {
      "cell_type": "code",
      "source": [
        "java_course = Course(\"Java Course\",30,\"English\")\n",
        "python_course = Course(\"Python Course\",30,\"Bangla\")\n",
        "dm_course = Course(\"Digital Marketing Course\",30,\"Hindi\")\n",
        "\n",
        "# here java_course, python_course and dm_course are objects of class Course"
      ],
      "metadata": {
        "id": "wm_bL7BID5Tq"
      },
      "execution_count": 2,
      "outputs": []
    },
    {
      "cell_type": "markdown",
      "source": [
        "Q2. Name the four pillars of OOPs."
      ],
      "metadata": {
        "id": "2BSw_QUdEsdW"
      }
    },
    {
      "cell_type": "markdown",
      "source": [
        "\n",
        "\n",
        "1.   Inheritance\n",
        "2.   Polymorphism\n",
        "3.   Encapsulation\n",
        "4.   Abstraction\n",
        "\n",
        "\n",
        "\n"
      ],
      "metadata": {
        "id": "JoEZ11ziEt7G"
      }
    },
    {
      "cell_type": "markdown",
      "source": [
        "Q3. Explain why the __init__() function is used. Give a suitable example."
      ],
      "metadata": {
        "id": "zLPakFTcFBnB"
      }
    },
    {
      "cell_type": "markdown",
      "source": [
        "**Ans**\n",
        "\n",
        "__init__() function is used as constructor of an object in class. As the name suggests, constructor is used to create the object from the class. Whenever we want to create an object, we call the class and class internally calls the constructor. This executes before the object is returned to user. In constructor we generally assign the values to the data members of the class, but we can give other information like logging as well. "
      ],
      "metadata": {
        "id": "FJ-YO--wFEU6"
      }
    },
    {
      "cell_type": "code",
      "source": [
        "class Employee:\n",
        "\n",
        "  def __init__(self,employee_name,age,salary):\n",
        "    print(\"Creating an employee object\")\n",
        "    self.employee_name = employee_name\n",
        "    self.age = age\n",
        "    self.salary = salary\n",
        "    print(\"Object loaded. Returning ....\")\n",
        "  \n",
        "\n",
        "  def display_employee(self):\n",
        "    print(self.employee_name,self.age,self.salary)\n",
        "\n",
        "\n",
        "emp1= Employee(\"Hem Chandra\",34,240000)\n",
        "emp1.display_employee()"
      ],
      "metadata": {
        "colab": {
          "base_uri": "https://localhost:8080/"
        },
        "id": "5cl9yPD0EpRi",
        "outputId": "68f7a34b-3e5f-428c-91ba-16753166be74"
      },
      "execution_count": 3,
      "outputs": [
        {
          "output_type": "stream",
          "name": "stdout",
          "text": [
            "Creating an employee object\n",
            "Object loaded. Returning ....\n",
            "Hem Chandra 34 240000\n"
          ]
        }
      ]
    },
    {
      "cell_type": "markdown",
      "source": [
        "Q4. Why self is used in OOPs?"
      ],
      "metadata": {
        "id": "944YobU2Gpdv"
      }
    },
    {
      "cell_type": "markdown",
      "source": [
        "self is the autogenerated reference of the class and this is used to bind the class data members and functions with the class. So whenever we create a object from the class and make any data member call or function call, self is what is used to identify that object.\n",
        "\n",
        "** Interesting Info **\n",
        "\n",
        "Its not mandatory to name the own reference as \"self\". We can name is whatever we want. Example given below."
      ],
      "metadata": {
        "id": "lC6wxDAeGqoG"
      }
    },
    {
      "cell_type": "code",
      "source": [
        "class Office:\n",
        "\n",
        "  def __init__(don,company_name,number_of_employees):\n",
        "    don.company_name = company_name\n",
        "    don.number_of_employees = number_of_employees\n",
        "  \n",
        "  def display(don):\n",
        "    print(don.company_name,don.number_of_employees)\n",
        "\n",
        "\n",
        "o1 = Office(\"Bhangarghar\",2)\n",
        "o1.display()"
      ],
      "metadata": {
        "colab": {
          "base_uri": "https://localhost:8080/"
        },
        "id": "VU2xZViLGlKo",
        "outputId": "a4549680-d66d-490e-c138-3fa6499342df"
      },
      "execution_count": 4,
      "outputs": [
        {
          "output_type": "stream",
          "name": "stdout",
          "text": [
            "Bhangarghar 2\n"
          ]
        }
      ]
    },
    {
      "cell_type": "markdown",
      "source": [
        "Q5. What is inheritance? Give an example for each type of inheritance."
      ],
      "metadata": {
        "id": "nRkI05reILRR"
      }
    },
    {
      "cell_type": "markdown",
      "source": [
        "Inheritance is one of the concepts of oops programming which is used to inherit the properties of one class into another class. This is used to represent real word relationships. It is also useful for code reuse.\n",
        "\n",
        "Python supports 4 different types of Inheritence.\n",
        "\n",
        "**Single Inheritance in Python**\n",
        "\n",
        "In case of single inheritence, one class inherits from one and only one class. Ex."
      ],
      "metadata": {
        "id": "gFvuTv_EIMnP"
      }
    },
    {
      "cell_type": "code",
      "source": [
        "class Animal:\n",
        "\n",
        "  def __init__(self,color):\n",
        "    self.color = color\n",
        "\n",
        "  def intro(self):\n",
        "    print(\"I am an animal of {0} color.\".format(self.color))\n",
        "\n",
        "class Dog(Animal):\n",
        "\n",
        "  def __init__(self,color,breed_name):\n",
        "    self.color = color\n",
        "    self.breed_name = breed_name\n",
        "\n",
        "  def intro_dog(self):\n",
        "    print(\"I am a Dog of {0} breed and I have {1} legs.\".format(self.breed_name,self.color))\n",
        "\n",
        "d1 = Dog(\"Black\",\"Labrador\")\n",
        "d1.intro() # function from parent class\n",
        "d1.intro_dog() # function from child class"
      ],
      "metadata": {
        "colab": {
          "base_uri": "https://localhost:8080/"
        },
        "id": "QbzyIjk-IBON",
        "outputId": "89b36b6e-357b-4501-d89b-3874363a186a"
      },
      "execution_count": 11,
      "outputs": [
        {
          "output_type": "stream",
          "name": "stdout",
          "text": [
            "I am an animal of Black color.\n",
            "I am a Dog of Labrador breed and I have Black legs.\n"
          ]
        }
      ]
    },
    {
      "cell_type": "markdown",
      "source": [
        "**Multiple Inheritance in Python**\n",
        "\n",
        "Multiple inheritence is when one class inherits from multiple classes"
      ],
      "metadata": {
        "id": "yemfVjRALi1W"
      }
    },
    {
      "cell_type": "code",
      "source": [
        "class Father:\n",
        "\n",
        "  def __init__(self,number_of_kids):\n",
        "    self.number_of_kids = number_of_kids\n",
        "  \n",
        "  def display(self):\n",
        "    print(\"I am a Father of {0} kids\".format(self.number_of_kids))\n",
        "  \n",
        "class Doctor:\n",
        "  def __init__(self,specialization):\n",
        "    self.specialization = specialization\n",
        "\n",
        "  def display(self):\n",
        "    print(\"I am a Dr\")\n",
        "\n",
        "\n",
        "class Human(Father,Doctor):\n",
        "\n",
        "  def __init__(self,number_of_kids, specialization):\n",
        "    super().__init__(number_of_kids)\n",
        "    super().__init__(specialization)\n",
        "\n",
        "  def display(self):\n",
        "    Father.display(self)\n",
        "    Doctor.display(self)\n",
        "\n",
        "\n",
        "h1 = Human(20,\"Ped\")\n",
        "h1.display()"
      ],
      "metadata": {
        "colab": {
          "base_uri": "https://localhost:8080/"
        },
        "id": "F2HTY3lnKrSj",
        "outputId": "7df8b9fd-268c-44d1-e94d-2e1e00e65483"
      },
      "execution_count": 17,
      "outputs": [
        {
          "output_type": "stream",
          "name": "stdout",
          "text": [
            "I am a Father of Ped kids\n",
            "I am a Dr\n"
          ]
        }
      ]
    },
    {
      "cell_type": "markdown",
      "source": [
        "**Hierarchical  Inheritance**\n",
        "\n",
        "This is exact opposite of multiple inheritance. Here multiple classes Inherit from on class"
      ],
      "metadata": {
        "id": "empAu3CNPYZu"
      }
    },
    {
      "cell_type": "code",
      "source": [
        "class Aircraft:\n",
        "\n",
        "  def func(self):\n",
        "    print(\"I am an aircraft\")\n",
        "\n",
        "class FighterJet(Aircraft):\n",
        "\n",
        "  def func(self):\n",
        "    print(\" I am a FighterJet\")\n",
        "\n",
        "class Helicopter(Aircraft):\n",
        "\n",
        "  def func(self):\n",
        "    print(\" I am a Helicopter\")\n",
        "\n",
        "# here both Helicopter and FighterJet have a \"IS A\" relation with Aircraft"
      ],
      "metadata": {
        "id": "eE6NP7gKOII2"
      },
      "execution_count": 18,
      "outputs": []
    },
    {
      "cell_type": "markdown",
      "source": [
        "**Multilevel Inheritance**\n",
        "\n",
        "In multilevel Inheritence, more then two classes form the inheritence tree. If class C inherits class B which already inherits class A then class C also automatically inherits class A"
      ],
      "metadata": {
        "id": "hUVo1IPpQWic"
      }
    },
    {
      "cell_type": "code",
      "source": [
        "class A:\n",
        "  pass\n",
        "\n",
        "class B(A):\n",
        "  pass\n",
        "\n",
        "class C(B):\n",
        "  pass \n",
        "\n",
        "\n",
        "# here class C automatically inherits from class A\n",
        "# Real life example : Animal -> Dog -> LabradorDog"
      ],
      "metadata": {
        "id": "aL7ITvq_QJF2"
      },
      "execution_count": 21,
      "outputs": []
    },
    {
      "cell_type": "markdown",
      "source": [
        "**Hybrid Inheritance**\n",
        "\n",
        "This is a mixture of multiple kinds of inheritences mentioned above."
      ],
      "metadata": {
        "id": "F-xUL33oRmxb"
      }
    },
    {
      "cell_type": "code",
      "source": [
        "class A:\n",
        "  pass\n",
        "\n",
        "class B(A):\n",
        "  pass\n",
        "\n",
        "class C:\n",
        "  pass\n",
        "\n",
        "class D(B,C):\n",
        "  pass"
      ],
      "metadata": {
        "id": "j_MN3Hx6Rlu9"
      },
      "execution_count": 20,
      "outputs": []
    },
    {
      "cell_type": "code",
      "source": [],
      "metadata": {
        "id": "y_phjtwNR__b"
      },
      "execution_count": null,
      "outputs": []
    }
  ]
}