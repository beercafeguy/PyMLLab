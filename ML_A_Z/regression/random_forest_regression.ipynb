{
  "nbformat": 4,
  "nbformat_minor": 0,
  "metadata": {
    "colab": {
      "provenance": [],
      "authorship_tag": "ABX9TyMlP/WTHV4LOAROK3Rch/b3",
      "include_colab_link": true
    },
    "kernelspec": {
      "name": "python3",
      "display_name": "Python 3"
    },
    "language_info": {
      "name": "python"
    }
  },
  "cells": [
    {
      "cell_type": "markdown",
      "metadata": {
        "id": "view-in-github",
        "colab_type": "text"
      },
      "source": [
        "<a href=\"https://colab.research.google.com/github/beercafeguy/PyMLLab/blob/master/ML_A_Z/regression/random_forest_regression.ipynb\" target=\"_parent\"><img src=\"https://colab.research.google.com/assets/colab-badge.svg\" alt=\"Open In Colab\"/></a>"
      ]
    },
    {
      "cell_type": "code",
      "execution_count": 1,
      "metadata": {
        "id": "UGnaMC0x7PeC"
      },
      "outputs": [],
      "source": [
        "import pandas as pd\n",
        "import numpy as np\n",
        "import matplotlib.pyplot as plt"
      ]
    },
    {
      "cell_type": "code",
      "source": [
        "from google.colab import drive"
      ],
      "metadata": {
        "id": "igcmATOB7Ywt"
      },
      "execution_count": 2,
      "outputs": []
    },
    {
      "cell_type": "code",
      "source": [
        "drive.mount('/content/drive')"
      ],
      "metadata": {
        "colab": {
          "base_uri": "https://localhost:8080/"
        },
        "id": "3GMeRCAU7bk7",
        "outputId": "f02970db-80b4-48c0-c3af-51da435b716f"
      },
      "execution_count": 3,
      "outputs": [
        {
          "output_type": "stream",
          "name": "stdout",
          "text": [
            "Mounted at /content/drive\n"
          ]
        }
      ]
    },
    {
      "cell_type": "code",
      "source": [
        "!ls -ltr /content/drive/MyDrive/ML_A_Z/Part_2_Regression/Section_9_Random_Forest_Regression/Python/Position_Salaries.csv"
      ],
      "metadata": {
        "colab": {
          "base_uri": "https://localhost:8080/"
        },
        "id": "IM-Ar9QW7evG",
        "outputId": "fce80c12-7297-42cc-bfd3-40f6ed85a7d0"
      },
      "execution_count": 8,
      "outputs": [
        {
          "output_type": "stream",
          "name": "stdout",
          "text": [
            "-rw------- 1 root root 246 Apr  7  2020 /content/drive/MyDrive/ML_A_Z/Part_2_Regression/Section_9_Random_Forest_Regression/Python/Position_Salaries.csv\n"
          ]
        }
      ]
    },
    {
      "cell_type": "code",
      "source": [
        "path = \"/content/drive/MyDrive/ML_A_Z/Part_2_Regression/Section_9_Random_Forest_Regression/Python/Position_Salaries.csv\"\n",
        "df = pd.read_csv(path)\n",
        "df"
      ],
      "metadata": {
        "colab": {
          "base_uri": "https://localhost:8080/",
          "height": 363
        },
        "id": "2yuR5A4F7jD4",
        "outputId": "1fdcaf3b-dc1a-4013-abf4-b938bc011d21"
      },
      "execution_count": 9,
      "outputs": [
        {
          "output_type": "execute_result",
          "data": {
            "text/plain": [
              "            Position  Level   Salary\n",
              "0   Business Analyst      1    45000\n",
              "1  Junior Consultant      2    50000\n",
              "2  Senior Consultant      3    60000\n",
              "3            Manager      4    80000\n",
              "4    Country Manager      5   110000\n",
              "5     Region Manager      6   150000\n",
              "6            Partner      7   200000\n",
              "7     Senior Partner      8   300000\n",
              "8            C-level      9   500000\n",
              "9                CEO     10  1000000"
            ],
            "text/html": [
              "\n",
              "\n",
              "  <div id=\"df-0e1538a6-e4e6-45a9-89fb-3df7ef902ef0\">\n",
              "    <div class=\"colab-df-container\">\n",
              "      <div>\n",
              "<style scoped>\n",
              "    .dataframe tbody tr th:only-of-type {\n",
              "        vertical-align: middle;\n",
              "    }\n",
              "\n",
              "    .dataframe tbody tr th {\n",
              "        vertical-align: top;\n",
              "    }\n",
              "\n",
              "    .dataframe thead th {\n",
              "        text-align: right;\n",
              "    }\n",
              "</style>\n",
              "<table border=\"1\" class=\"dataframe\">\n",
              "  <thead>\n",
              "    <tr style=\"text-align: right;\">\n",
              "      <th></th>\n",
              "      <th>Position</th>\n",
              "      <th>Level</th>\n",
              "      <th>Salary</th>\n",
              "    </tr>\n",
              "  </thead>\n",
              "  <tbody>\n",
              "    <tr>\n",
              "      <th>0</th>\n",
              "      <td>Business Analyst</td>\n",
              "      <td>1</td>\n",
              "      <td>45000</td>\n",
              "    </tr>\n",
              "    <tr>\n",
              "      <th>1</th>\n",
              "      <td>Junior Consultant</td>\n",
              "      <td>2</td>\n",
              "      <td>50000</td>\n",
              "    </tr>\n",
              "    <tr>\n",
              "      <th>2</th>\n",
              "      <td>Senior Consultant</td>\n",
              "      <td>3</td>\n",
              "      <td>60000</td>\n",
              "    </tr>\n",
              "    <tr>\n",
              "      <th>3</th>\n",
              "      <td>Manager</td>\n",
              "      <td>4</td>\n",
              "      <td>80000</td>\n",
              "    </tr>\n",
              "    <tr>\n",
              "      <th>4</th>\n",
              "      <td>Country Manager</td>\n",
              "      <td>5</td>\n",
              "      <td>110000</td>\n",
              "    </tr>\n",
              "    <tr>\n",
              "      <th>5</th>\n",
              "      <td>Region Manager</td>\n",
              "      <td>6</td>\n",
              "      <td>150000</td>\n",
              "    </tr>\n",
              "    <tr>\n",
              "      <th>6</th>\n",
              "      <td>Partner</td>\n",
              "      <td>7</td>\n",
              "      <td>200000</td>\n",
              "    </tr>\n",
              "    <tr>\n",
              "      <th>7</th>\n",
              "      <td>Senior Partner</td>\n",
              "      <td>8</td>\n",
              "      <td>300000</td>\n",
              "    </tr>\n",
              "    <tr>\n",
              "      <th>8</th>\n",
              "      <td>C-level</td>\n",
              "      <td>9</td>\n",
              "      <td>500000</td>\n",
              "    </tr>\n",
              "    <tr>\n",
              "      <th>9</th>\n",
              "      <td>CEO</td>\n",
              "      <td>10</td>\n",
              "      <td>1000000</td>\n",
              "    </tr>\n",
              "  </tbody>\n",
              "</table>\n",
              "</div>\n",
              "      <button class=\"colab-df-convert\" onclick=\"convertToInteractive('df-0e1538a6-e4e6-45a9-89fb-3df7ef902ef0')\"\n",
              "              title=\"Convert this dataframe to an interactive table.\"\n",
              "              style=\"display:none;\">\n",
              "\n",
              "  <svg xmlns=\"http://www.w3.org/2000/svg\" height=\"24px\"viewBox=\"0 0 24 24\"\n",
              "       width=\"24px\">\n",
              "    <path d=\"M0 0h24v24H0V0z\" fill=\"none\"/>\n",
              "    <path d=\"M18.56 5.44l.94 2.06.94-2.06 2.06-.94-2.06-.94-.94-2.06-.94 2.06-2.06.94zm-11 1L8.5 8.5l.94-2.06 2.06-.94-2.06-.94L8.5 2.5l-.94 2.06-2.06.94zm10 10l.94 2.06.94-2.06 2.06-.94-2.06-.94-.94-2.06-.94 2.06-2.06.94z\"/><path d=\"M17.41 7.96l-1.37-1.37c-.4-.4-.92-.59-1.43-.59-.52 0-1.04.2-1.43.59L10.3 9.45l-7.72 7.72c-.78.78-.78 2.05 0 2.83L4 21.41c.39.39.9.59 1.41.59.51 0 1.02-.2 1.41-.59l7.78-7.78 2.81-2.81c.8-.78.8-2.07 0-2.86zM5.41 20L4 18.59l7.72-7.72 1.47 1.35L5.41 20z\"/>\n",
              "  </svg>\n",
              "      </button>\n",
              "\n",
              "\n",
              "\n",
              "    <div id=\"df-87987ad0-d89c-4e11-ae49-828737c0bf46\">\n",
              "      <button class=\"colab-df-quickchart\" onclick=\"quickchart('df-87987ad0-d89c-4e11-ae49-828737c0bf46')\"\n",
              "              title=\"Suggest charts.\"\n",
              "              style=\"display:none;\">\n",
              "\n",
              "<svg xmlns=\"http://www.w3.org/2000/svg\" height=\"24px\"viewBox=\"0 0 24 24\"\n",
              "     width=\"24px\">\n",
              "    <g>\n",
              "        <path d=\"M19 3H5c-1.1 0-2 .9-2 2v14c0 1.1.9 2 2 2h14c1.1 0 2-.9 2-2V5c0-1.1-.9-2-2-2zM9 17H7v-7h2v7zm4 0h-2V7h2v10zm4 0h-2v-4h2v4z\"/>\n",
              "    </g>\n",
              "</svg>\n",
              "      </button>\n",
              "    </div>\n",
              "\n",
              "<style>\n",
              "  .colab-df-quickchart {\n",
              "    background-color: #E8F0FE;\n",
              "    border: none;\n",
              "    border-radius: 50%;\n",
              "    cursor: pointer;\n",
              "    display: none;\n",
              "    fill: #1967D2;\n",
              "    height: 32px;\n",
              "    padding: 0 0 0 0;\n",
              "    width: 32px;\n",
              "  }\n",
              "\n",
              "  .colab-df-quickchart:hover {\n",
              "    background-color: #E2EBFA;\n",
              "    box-shadow: 0px 1px 2px rgba(60, 64, 67, 0.3), 0px 1px 3px 1px rgba(60, 64, 67, 0.15);\n",
              "    fill: #174EA6;\n",
              "  }\n",
              "\n",
              "  [theme=dark] .colab-df-quickchart {\n",
              "    background-color: #3B4455;\n",
              "    fill: #D2E3FC;\n",
              "  }\n",
              "\n",
              "  [theme=dark] .colab-df-quickchart:hover {\n",
              "    background-color: #434B5C;\n",
              "    box-shadow: 0px 1px 3px 1px rgba(0, 0, 0, 0.15);\n",
              "    filter: drop-shadow(0px 1px 2px rgba(0, 0, 0, 0.3));\n",
              "    fill: #FFFFFF;\n",
              "  }\n",
              "</style>\n",
              "\n",
              "    <script>\n",
              "      async function quickchart(key) {\n",
              "        const containerElement = document.querySelector('#' + key);\n",
              "        const charts = await google.colab.kernel.invokeFunction(\n",
              "            'suggestCharts', [key], {});\n",
              "      }\n",
              "    </script>\n",
              "\n",
              "      <script>\n",
              "\n",
              "function displayQuickchartButton(domScope) {\n",
              "  let quickchartButtonEl =\n",
              "    domScope.querySelector('#df-87987ad0-d89c-4e11-ae49-828737c0bf46 button.colab-df-quickchart');\n",
              "  quickchartButtonEl.style.display =\n",
              "    google.colab.kernel.accessAllowed ? 'block' : 'none';\n",
              "}\n",
              "\n",
              "        displayQuickchartButton(document);\n",
              "      </script>\n",
              "      <style>\n",
              "    .colab-df-container {\n",
              "      display:flex;\n",
              "      flex-wrap:wrap;\n",
              "      gap: 12px;\n",
              "    }\n",
              "\n",
              "    .colab-df-convert {\n",
              "      background-color: #E8F0FE;\n",
              "      border: none;\n",
              "      border-radius: 50%;\n",
              "      cursor: pointer;\n",
              "      display: none;\n",
              "      fill: #1967D2;\n",
              "      height: 32px;\n",
              "      padding: 0 0 0 0;\n",
              "      width: 32px;\n",
              "    }\n",
              "\n",
              "    .colab-df-convert:hover {\n",
              "      background-color: #E2EBFA;\n",
              "      box-shadow: 0px 1px 2px rgba(60, 64, 67, 0.3), 0px 1px 3px 1px rgba(60, 64, 67, 0.15);\n",
              "      fill: #174EA6;\n",
              "    }\n",
              "\n",
              "    [theme=dark] .colab-df-convert {\n",
              "      background-color: #3B4455;\n",
              "      fill: #D2E3FC;\n",
              "    }\n",
              "\n",
              "    [theme=dark] .colab-df-convert:hover {\n",
              "      background-color: #434B5C;\n",
              "      box-shadow: 0px 1px 3px 1px rgba(0, 0, 0, 0.15);\n",
              "      filter: drop-shadow(0px 1px 2px rgba(0, 0, 0, 0.3));\n",
              "      fill: #FFFFFF;\n",
              "    }\n",
              "  </style>\n",
              "\n",
              "      <script>\n",
              "        const buttonEl =\n",
              "          document.querySelector('#df-0e1538a6-e4e6-45a9-89fb-3df7ef902ef0 button.colab-df-convert');\n",
              "        buttonEl.style.display =\n",
              "          google.colab.kernel.accessAllowed ? 'block' : 'none';\n",
              "\n",
              "        async function convertToInteractive(key) {\n",
              "          const element = document.querySelector('#df-0e1538a6-e4e6-45a9-89fb-3df7ef902ef0');\n",
              "          const dataTable =\n",
              "            await google.colab.kernel.invokeFunction('convertToInteractive',\n",
              "                                                     [key], {});\n",
              "          if (!dataTable) return;\n",
              "\n",
              "          const docLinkHtml = 'Like what you see? Visit the ' +\n",
              "            '<a target=\"_blank\" href=https://colab.research.google.com/notebooks/data_table.ipynb>data table notebook</a>'\n",
              "            + ' to learn more about interactive tables.';\n",
              "          element.innerHTML = '';\n",
              "          dataTable['output_type'] = 'display_data';\n",
              "          await google.colab.output.renderOutput(dataTable, element);\n",
              "          const docLink = document.createElement('div');\n",
              "          docLink.innerHTML = docLinkHtml;\n",
              "          element.appendChild(docLink);\n",
              "        }\n",
              "      </script>\n",
              "    </div>\n",
              "  </div>\n"
            ]
          },
          "metadata": {},
          "execution_count": 9
        }
      ]
    },
    {
      "cell_type": "code",
      "source": [
        "X = df.iloc[:,1:-1].values\n",
        "y = df.iloc[:,-1].values"
      ],
      "metadata": {
        "id": "qoVLmkdm7vkI"
      },
      "execution_count": 10,
      "outputs": []
    },
    {
      "cell_type": "code",
      "source": [
        "X"
      ],
      "metadata": {
        "colab": {
          "base_uri": "https://localhost:8080/"
        },
        "id": "4raPL3tj73zZ",
        "outputId": "f648e2c5-b878-45ad-da7b-69d6fcab938f"
      },
      "execution_count": 11,
      "outputs": [
        {
          "output_type": "execute_result",
          "data": {
            "text/plain": [
              "array([[ 1],\n",
              "       [ 2],\n",
              "       [ 3],\n",
              "       [ 4],\n",
              "       [ 5],\n",
              "       [ 6],\n",
              "       [ 7],\n",
              "       [ 8],\n",
              "       [ 9],\n",
              "       [10]])"
            ]
          },
          "metadata": {},
          "execution_count": 11
        }
      ]
    },
    {
      "cell_type": "code",
      "source": [
        "y"
      ],
      "metadata": {
        "colab": {
          "base_uri": "https://localhost:8080/"
        },
        "id": "upedqIpz74RL",
        "outputId": "1c45c780-c804-4ed3-bde5-82d714f3117b"
      },
      "execution_count": 12,
      "outputs": [
        {
          "output_type": "execute_result",
          "data": {
            "text/plain": [
              "array([  45000,   50000,   60000,   80000,  110000,  150000,  200000,\n",
              "        300000,  500000, 1000000])"
            ]
          },
          "metadata": {},
          "execution_count": 12
        }
      ]
    },
    {
      "cell_type": "code",
      "source": [
        "from sklearn.ensemble import RandomForestRegressor\n",
        "rfr = RandomForestRegressor(random_state=123,n_estimators=10)\n",
        "rfr.fit(X,y)"
      ],
      "metadata": {
        "colab": {
          "base_uri": "https://localhost:8080/",
          "height": 75
        },
        "id": "39oFApBn74hy",
        "outputId": "ebd64317-495c-4b1b-a76b-db9cddbd6c43"
      },
      "execution_count": 15,
      "outputs": [
        {
          "output_type": "execute_result",
          "data": {
            "text/plain": [
              "RandomForestRegressor(n_estimators=10, random_state=123)"
            ],
            "text/html": [
              "<style>#sk-container-id-2 {color: black;background-color: white;}#sk-container-id-2 pre{padding: 0;}#sk-container-id-2 div.sk-toggleable {background-color: white;}#sk-container-id-2 label.sk-toggleable__label {cursor: pointer;display: block;width: 100%;margin-bottom: 0;padding: 0.3em;box-sizing: border-box;text-align: center;}#sk-container-id-2 label.sk-toggleable__label-arrow:before {content: \"▸\";float: left;margin-right: 0.25em;color: #696969;}#sk-container-id-2 label.sk-toggleable__label-arrow:hover:before {color: black;}#sk-container-id-2 div.sk-estimator:hover label.sk-toggleable__label-arrow:before {color: black;}#sk-container-id-2 div.sk-toggleable__content {max-height: 0;max-width: 0;overflow: hidden;text-align: left;background-color: #f0f8ff;}#sk-container-id-2 div.sk-toggleable__content pre {margin: 0.2em;color: black;border-radius: 0.25em;background-color: #f0f8ff;}#sk-container-id-2 input.sk-toggleable__control:checked~div.sk-toggleable__content {max-height: 200px;max-width: 100%;overflow: auto;}#sk-container-id-2 input.sk-toggleable__control:checked~label.sk-toggleable__label-arrow:before {content: \"▾\";}#sk-container-id-2 div.sk-estimator input.sk-toggleable__control:checked~label.sk-toggleable__label {background-color: #d4ebff;}#sk-container-id-2 div.sk-label input.sk-toggleable__control:checked~label.sk-toggleable__label {background-color: #d4ebff;}#sk-container-id-2 input.sk-hidden--visually {border: 0;clip: rect(1px 1px 1px 1px);clip: rect(1px, 1px, 1px, 1px);height: 1px;margin: -1px;overflow: hidden;padding: 0;position: absolute;width: 1px;}#sk-container-id-2 div.sk-estimator {font-family: monospace;background-color: #f0f8ff;border: 1px dotted black;border-radius: 0.25em;box-sizing: border-box;margin-bottom: 0.5em;}#sk-container-id-2 div.sk-estimator:hover {background-color: #d4ebff;}#sk-container-id-2 div.sk-parallel-item::after {content: \"\";width: 100%;border-bottom: 1px solid gray;flex-grow: 1;}#sk-container-id-2 div.sk-label:hover label.sk-toggleable__label {background-color: #d4ebff;}#sk-container-id-2 div.sk-serial::before {content: \"\";position: absolute;border-left: 1px solid gray;box-sizing: border-box;top: 0;bottom: 0;left: 50%;z-index: 0;}#sk-container-id-2 div.sk-serial {display: flex;flex-direction: column;align-items: center;background-color: white;padding-right: 0.2em;padding-left: 0.2em;position: relative;}#sk-container-id-2 div.sk-item {position: relative;z-index: 1;}#sk-container-id-2 div.sk-parallel {display: flex;align-items: stretch;justify-content: center;background-color: white;position: relative;}#sk-container-id-2 div.sk-item::before, #sk-container-id-2 div.sk-parallel-item::before {content: \"\";position: absolute;border-left: 1px solid gray;box-sizing: border-box;top: 0;bottom: 0;left: 50%;z-index: -1;}#sk-container-id-2 div.sk-parallel-item {display: flex;flex-direction: column;z-index: 1;position: relative;background-color: white;}#sk-container-id-2 div.sk-parallel-item:first-child::after {align-self: flex-end;width: 50%;}#sk-container-id-2 div.sk-parallel-item:last-child::after {align-self: flex-start;width: 50%;}#sk-container-id-2 div.sk-parallel-item:only-child::after {width: 0;}#sk-container-id-2 div.sk-dashed-wrapped {border: 1px dashed gray;margin: 0 0.4em 0.5em 0.4em;box-sizing: border-box;padding-bottom: 0.4em;background-color: white;}#sk-container-id-2 div.sk-label label {font-family: monospace;font-weight: bold;display: inline-block;line-height: 1.2em;}#sk-container-id-2 div.sk-label-container {text-align: center;}#sk-container-id-2 div.sk-container {/* jupyter's `normalize.less` sets `[hidden] { display: none; }` but bootstrap.min.css set `[hidden] { display: none !important; }` so we also need the `!important` here to be able to override the default hidden behavior on the sphinx rendered scikit-learn.org. See: https://github.com/scikit-learn/scikit-learn/issues/21755 */display: inline-block !important;position: relative;}#sk-container-id-2 div.sk-text-repr-fallback {display: none;}</style><div id=\"sk-container-id-2\" class=\"sk-top-container\"><div class=\"sk-text-repr-fallback\"><pre>RandomForestRegressor(n_estimators=10, random_state=123)</pre><b>In a Jupyter environment, please rerun this cell to show the HTML representation or trust the notebook. <br />On GitHub, the HTML representation is unable to render, please try loading this page with nbviewer.org.</b></div><div class=\"sk-container\" hidden><div class=\"sk-item\"><div class=\"sk-estimator sk-toggleable\"><input class=\"sk-toggleable__control sk-hidden--visually\" id=\"sk-estimator-id-2\" type=\"checkbox\" checked><label for=\"sk-estimator-id-2\" class=\"sk-toggleable__label sk-toggleable__label-arrow\">RandomForestRegressor</label><div class=\"sk-toggleable__content\"><pre>RandomForestRegressor(n_estimators=10, random_state=123)</pre></div></div></div></div></div>"
            ]
          },
          "metadata": {},
          "execution_count": 15
        }
      ]
    },
    {
      "cell_type": "code",
      "source": [
        "X_grid = np.arange(min(X),max(X),0.01)\n",
        "X_grid = X_grid.reshape(len(X_grid),1)\n",
        "rfr.predict(X_grid)"
      ],
      "metadata": {
        "colab": {
          "base_uri": "https://localhost:8080/"
        },
        "id": "07t3oizk8Eqy",
        "outputId": "7216c029-97df-492f-fead-29da19544d64"
      },
      "execution_count": 16,
      "outputs": [
        {
          "output_type": "execute_result",
          "data": {
            "text/plain": [
              "array([ 48000.,  48000.,  48000.,  48000.,  48000.,  48000.,  48000.,\n",
              "        48000.,  48000.,  48000.,  48000.,  48000.,  48000.,  48000.,\n",
              "        48000.,  48000.,  48000.,  48000.,  48000.,  48000.,  48000.,\n",
              "        48000.,  48000.,  48000.,  48000.,  48000.,  48000.,  48000.,\n",
              "        48000.,  48000.,  48000.,  48000.,  48000.,  48000.,  48000.,\n",
              "        48000.,  48000.,  48000.,  48000.,  48000.,  48000.,  48000.,\n",
              "        48000.,  48000.,  48000.,  48000.,  48000.,  48000.,  48000.,\n",
              "        48000.,  48000.,  50500.,  50500.,  50500.,  50500.,  50500.,\n",
              "        50500.,  50500.,  50500.,  50500.,  50500.,  50500.,  50500.,\n",
              "        50500.,  50500.,  50500.,  50500.,  50500.,  50500.,  50500.,\n",
              "        50500.,  50500.,  50500.,  50500.,  50500.,  50500.,  50500.,\n",
              "        50500.,  50500.,  50500.,  50500.,  50500.,  50500.,  50500.,\n",
              "        50500.,  50500.,  50500.,  50500.,  50500.,  50500.,  50500.,\n",
              "        50500.,  50500.,  50500.,  50500.,  50500.,  50500.,  50500.,\n",
              "        50500.,  50500.,  50500.,  50500.,  50500.,  50500.,  50500.,\n",
              "        50500.,  50500.,  50500.,  50500.,  50500.,  50500.,  50500.,\n",
              "        50500.,  50500.,  50500.,  50500.,  50500.,  50500.,  50500.,\n",
              "        50500.,  50500.,  50500.,  50500.,  50500.,  50500.,  50500.,\n",
              "        50500.,  50500.,  50500.,  50500.,  50500.,  50500.,  50500.,\n",
              "        50500.,  50500.,  50500.,  50500.,  50500.,  50500.,  50500.,\n",
              "        50500.,  50500.,  50500.,  50500.,  50500.,  50500.,  50500.,\n",
              "        50500.,  50500.,  50500.,  50500.,  61000.,  61000.,  61000.,\n",
              "        61000.,  61000.,  61000.,  61000.,  61000.,  61000.,  61000.,\n",
              "        61000.,  61000.,  61000.,  61000.,  61000.,  61000.,  61000.,\n",
              "        61000.,  61000.,  61000.,  61000.,  61000.,  61000.,  61000.,\n",
              "        61000.,  61000.,  61000.,  61000.,  61000.,  61000.,  61000.,\n",
              "        61000.,  61000.,  61000.,  61000.,  61000.,  61000.,  61000.,\n",
              "        61000.,  61000.,  61000.,  61000.,  61000.,  61000.,  61000.,\n",
              "        61000.,  61000.,  61000.,  61000.,  61000.,  64000.,  64000.,\n",
              "        64000.,  64000.,  64000.,  64000.,  64000.,  64000.,  64000.,\n",
              "        64000.,  64000.,  64000.,  64000.,  64000.,  64000.,  64000.,\n",
              "        64000.,  64000.,  64000.,  64000.,  64000.,  64000.,  64000.,\n",
              "        64000.,  64000.,  64000.,  64000.,  64000.,  64000.,  64000.,\n",
              "        64000.,  64000.,  64000.,  64000.,  64000.,  64000.,  64000.,\n",
              "        64000.,  64000.,  64000.,  64000.,  64000.,  64000.,  64000.,\n",
              "        64000.,  64000.,  64000.,  64000.,  64000.,  64000.,  72000.,\n",
              "        72000.,  72000.,  72000.,  72000.,  72000.,  72000.,  72000.,\n",
              "        72000.,  72000.,  72000.,  72000.,  72000.,  72000.,  72000.,\n",
              "        72000.,  72000.,  72000.,  72000.,  72000.,  72000.,  72000.,\n",
              "        72000.,  72000.,  72000.,  72000.,  72000.,  72000.,  72000.,\n",
              "        72000.,  72000.,  72000.,  72000.,  72000.,  72000.,  72000.,\n",
              "        72000.,  72000.,  72000.,  72000.,  72000.,  72000.,  72000.,\n",
              "        72000.,  72000.,  72000.,  72000.,  72000.,  72000.,  72000.,\n",
              "        87000.,  87000.,  87000.,  87000.,  87000.,  87000.,  87000.,\n",
              "        87000.,  87000.,  87000.,  87000.,  87000.,  87000.,  87000.,\n",
              "        87000.,  87000.,  87000.,  87000.,  87000.,  87000.,  87000.,\n",
              "        87000.,  87000.,  87000.,  87000.,  87000.,  87000.,  87000.,\n",
              "        87000.,  87000.,  87000.,  87000.,  87000.,  87000.,  87000.,\n",
              "        87000.,  87000.,  87000.,  87000.,  87000.,  87000.,  87000.,\n",
              "        87000.,  87000.,  87000.,  87000.,  87000.,  87000.,  87000.,\n",
              "        87000., 108000., 108000., 108000., 108000., 108000., 108000.,\n",
              "       108000., 108000., 108000., 108000., 108000., 108000., 108000.,\n",
              "       108000., 108000., 108000., 108000., 108000., 108000., 108000.,\n",
              "       108000., 108000., 108000., 108000., 108000., 108000., 108000.,\n",
              "       108000., 108000., 108000., 108000., 108000., 108000., 108000.,\n",
              "       108000., 108000., 108000., 108000., 108000., 108000., 108000.,\n",
              "       108000., 108000., 108000., 108000., 108000., 108000., 108000.,\n",
              "       108000., 108000., 115000., 115000., 115000., 115000., 115000.,\n",
              "       115000., 115000., 115000., 115000., 115000., 115000., 115000.,\n",
              "       115000., 115000., 115000., 115000., 115000., 115000., 115000.,\n",
              "       115000., 115000., 115000., 115000., 115000., 115000., 115000.,\n",
              "       115000., 115000., 115000., 115000., 115000., 115000., 115000.,\n",
              "       115000., 115000., 115000., 115000., 115000., 115000., 115000.,\n",
              "       115000., 115000., 115000., 115000., 115000., 115000., 115000.,\n",
              "       115000., 115000., 115000., 147000., 147000., 147000., 147000.,\n",
              "       147000., 147000., 147000., 147000., 147000., 147000., 147000.,\n",
              "       147000., 147000., 147000., 147000., 147000., 147000., 147000.,\n",
              "       147000., 147000., 147000., 147000., 147000., 147000., 147000.,\n",
              "       147000., 147000., 147000., 147000., 147000., 147000., 147000.,\n",
              "       147000., 147000., 147000., 147000., 147000., 147000., 147000.,\n",
              "       147000., 147000., 147000., 147000., 147000., 147000., 147000.,\n",
              "       147000., 147000., 147000., 147000., 165000., 165000., 165000.,\n",
              "       165000., 165000., 165000., 165000., 165000., 165000., 165000.,\n",
              "       165000., 165000., 165000., 165000., 165000., 165000., 165000.,\n",
              "       165000., 165000., 165000., 165000., 165000., 165000., 165000.,\n",
              "       165000., 165000., 165000., 165000., 165000., 165000., 165000.,\n",
              "       165000., 165000., 165000., 165000., 165000., 165000., 165000.,\n",
              "       165000., 165000., 165000., 165000., 165000., 165000., 165000.,\n",
              "       165000., 165000., 165000., 165000., 165000., 185000., 185000.,\n",
              "       185000., 185000., 185000., 185000., 185000., 185000., 185000.,\n",
              "       185000., 185000., 185000., 185000., 185000., 185000., 185000.,\n",
              "       185000., 185000., 185000., 185000., 185000., 185000., 185000.,\n",
              "       185000., 185000., 185000., 185000., 185000., 185000., 185000.,\n",
              "       185000., 185000., 185000., 185000., 185000., 185000., 185000.,\n",
              "       185000., 185000., 185000., 185000., 185000., 185000., 185000.,\n",
              "       185000., 185000., 185000., 185000., 185000., 185000., 230000.,\n",
              "       230000., 230000., 230000., 230000., 230000., 230000., 230000.,\n",
              "       230000., 230000., 230000., 230000., 230000., 230000., 230000.,\n",
              "       230000., 230000., 230000., 230000., 230000., 230000., 230000.,\n",
              "       230000., 230000., 230000., 230000., 230000., 230000., 230000.,\n",
              "       230000., 230000., 230000., 230000., 230000., 230000., 230000.,\n",
              "       230000., 230000., 230000., 230000., 230000., 230000., 230000.,\n",
              "       230000., 230000., 230000., 230000., 230000., 230000., 230000.,\n",
              "       280000., 280000., 280000., 280000., 280000., 280000., 280000.,\n",
              "       280000., 280000., 280000., 280000., 280000., 280000., 280000.,\n",
              "       280000., 280000., 280000., 280000., 280000., 280000., 280000.,\n",
              "       280000., 280000., 280000., 280000., 280000., 280000., 280000.,\n",
              "       280000., 280000., 280000., 280000., 280000., 280000., 280000.,\n",
              "       280000., 280000., 280000., 280000., 280000., 280000., 280000.,\n",
              "       280000., 280000., 280000., 280000., 280000., 280000., 280000.,\n",
              "       280000., 340000., 340000., 340000., 340000., 340000., 340000.,\n",
              "       340000., 340000., 340000., 340000., 340000., 340000., 340000.,\n",
              "       340000., 340000., 340000., 340000., 340000., 340000., 340000.,\n",
              "       340000., 340000., 340000., 340000., 340000., 340000., 340000.,\n",
              "       340000., 340000., 340000., 340000., 340000., 340000., 340000.,\n",
              "       340000., 340000., 340000., 340000., 340000., 340000., 340000.,\n",
              "       340000., 340000., 340000., 340000., 340000., 340000., 340000.,\n",
              "       340000., 340000., 440000., 440000., 440000., 440000., 440000.,\n",
              "       440000., 440000., 440000., 440000., 440000., 440000., 440000.,\n",
              "       440000., 440000., 440000., 440000., 440000., 440000., 440000.,\n",
              "       440000., 440000., 440000., 440000., 440000., 440000., 440000.,\n",
              "       440000., 440000., 440000., 440000., 440000., 440000., 440000.,\n",
              "       440000., 440000., 440000., 440000., 440000., 440000., 440000.,\n",
              "       440000., 440000., 440000., 440000., 440000., 440000., 440000.,\n",
              "       440000., 440000., 440000., 510000., 510000., 510000., 510000.,\n",
              "       510000., 510000., 510000., 510000., 510000., 510000., 510000.,\n",
              "       510000., 510000., 510000., 510000., 510000., 510000., 510000.,\n",
              "       510000., 510000., 510000., 510000., 510000., 510000., 510000.,\n",
              "       510000., 510000., 510000., 510000., 510000., 510000., 510000.,\n",
              "       510000., 510000., 510000., 510000., 510000., 510000., 510000.,\n",
              "       510000., 510000., 510000., 510000., 510000., 510000., 510000.,\n",
              "       510000., 510000., 510000., 510000., 660000., 660000., 660000.,\n",
              "       660000., 660000., 660000., 660000., 660000., 660000., 660000.,\n",
              "       660000., 660000., 660000., 660000., 660000., 660000., 660000.,\n",
              "       660000., 660000., 660000., 660000., 660000., 660000., 660000.,\n",
              "       660000., 660000., 660000., 660000., 660000., 660000., 660000.,\n",
              "       660000., 660000., 660000., 660000., 660000., 660000., 660000.,\n",
              "       660000., 660000., 660000., 660000., 660000., 660000., 660000.,\n",
              "       660000., 660000., 660000., 660000.])"
            ]
          },
          "metadata": {},
          "execution_count": 16
        }
      ]
    },
    {
      "cell_type": "code",
      "source": [
        "%matplotlib inline\n",
        "\n",
        "plt.scatter(X,y,color=\"red\")\n",
        "plt.plot(X_grid,rfr.predict(X_grid),color=\"blue\")\n"
      ],
      "metadata": {
        "colab": {
          "base_uri": "https://localhost:8080/",
          "height": 462
        },
        "id": "I5wbp6wS8YIg",
        "outputId": "e0850077-5e2a-443a-a12e-58dc26d13b31"
      },
      "execution_count": 17,
      "outputs": [
        {
          "output_type": "execute_result",
          "data": {
            "text/plain": [
              "[<matplotlib.lines.Line2D at 0x7e9f1669aa10>]"
            ]
          },
          "metadata": {},
          "execution_count": 17
        },
        {
          "output_type": "display_data",
          "data": {
            "text/plain": [
              "<Figure size 640x480 with 1 Axes>"
            ],
            "image/png": "[encoded data removed]"
          },
          "metadata": {}
        }
      ]
    },
    {
      "cell_type": "code",
      "source": [],
      "metadata": {
        "id": "sBmbXDfj8qBa"
      },
      "execution_count": null,
      "outputs": []
    }
  ]
}