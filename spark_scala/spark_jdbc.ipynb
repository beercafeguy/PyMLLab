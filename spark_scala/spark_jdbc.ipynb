{
 "cells": [
  {
   "cell_type": "markdown",
   "id": "0eaf6998-961d-4f5b-824f-454161cc1e56",
   "metadata": {},
   "source": [
    "%%init_spark\n",
    "launcher.jars = [\"file:///home/jovyan/data/mariadb-java-client-2.7.2.jar\"]"
   ]
  },
  {
   "cell_type": "markdown",
   "id": "1662161c-d3ee-4dc7-9673-daa4c9dc703f",
   "metadata": {},
   "source": [
    "##### simple MD"
   ]
  },
  {
   "cell_type": "markdown",
   "id": "0daa5abb-7989-4158-a37c-98064dabdcbe",
   "metadata": {},
   "source": [
    "##### Table create statement:\n",
    "```create table dbtest.dim_users( id int, name varchar(100), salary decimal(10,2) )```\n",
    "\n",
    "##### Load data from local file\n",
    "```LOAD DATA LOCAL INFILE '/data/user.csv' INTO TABLE dbtest.dim_users FIELDS TERMINATED BY ',' LINES TERMINATED BY '\\n';```"
   ]
  },
  {
   "cell_type": "code",
   "execution_count": 3,
   "id": "cf48144c-39b9-4a92-900c-6ba21ea624a5",
   "metadata": {},
   "outputs": [
    {
     "data": {
      "text/plain": [
       "Intitializing Scala interpreter ..."
      ]
     },
     "metadata": {},
     "output_type": "display_data"
    },
    {
     "data": {
      "text/plain": [
       "Spark Web UI available at http://e0b547e3d753:4040\n",
       "SparkContext available as 'sc' (version = 3.1.1, master = local[*], app id = local-1620476742573)\n",
       "SparkSession available as 'spark'\n"
      ]
     },
     "metadata": {},
     "output_type": "display_data"
    },
    {
     "data": {
      "text/plain": [
       "import org.apache.spark.sql.SparkSession\n",
       "spark: org.apache.spark.sql.SparkSession = org.apache.spark.sql.SparkSession@2257f41f\n"
      ]
     },
     "execution_count": 3,
     "metadata": {},
     "output_type": "execute_result"
    }
   ],
   "source": [
    "import org.apache.spark.sql.SparkSession\n",
    "val spark = SparkSession.builder().appName(\"JDBC Spark App\")\n",
    ".config(\"spark.sql.shuffle.partitions\",4)\n",
    ".master(\"local[*]\")\n",
    ".getOrCreate()"
   ]
  },
  {
   "cell_type": "code",
   "execution_count": 4,
   "id": "c19e2c2f-8acd-457e-b557-74505bc421ff",
   "metadata": {},
   "outputs": [
    {
     "ename": "java.lang.ClassNotFoundException",
     "evalue": " com.mysql.jdbc.Driver",
     "output_type": "error",
     "traceback": [
      "java.lang.ClassNotFoundException: com.mysql.jdbc.Driver",
      "  at scala.reflect.internal.util.AbstractFileClassLoader.findClass(AbstractFileClassLoader.scala:72)",
      "  at java.base/java.lang.ClassLoader.loadClass(ClassLoader.java:589)",
      "  at java.base/java.lang.ClassLoader.loadClass(ClassLoader.java:522)",
      "  at org.apache.spark.sql.execution.datasources.jdbc.DriverRegistry$.register(DriverRegistry.scala:46)",
      "  at org.apache.spark.sql.execution.datasources.jdbc.JDBCOptions.$anonfun$driverClass$1(JDBCOptions.scala:102)",
      "  at org.apache.spark.sql.execution.datasources.jdbc.JDBCOptions.$anonfun$driverClass$1$adapted(JDBCOptions.scala:102)",
      "  at scala.Option.foreach(Option.scala:407)",
      "  at org.apache.spark.sql.execution.datasources.jdbc.JDBCOptions.<init>(JDBCOptions.scala:102)",
      "  at org.apache.spark.sql.execution.datasources.jdbc.JDBCOptions.<init>(JDBCOptions.scala:38)",
      "  at org.apache.spark.sql.execution.datasources.jdbc.JdbcRelationProvider.createRelation(JdbcRelationProvider.scala:32)",
      "  at org.apache.spark.sql.execution.datasources.DataSource.resolveRelation(DataSource.scala:354)",
      "  at org.apache.spark.sql.DataFrameReader.loadV1Source(DataFrameReader.scala:326)",
      "  at org.apache.spark.sql.DataFrameReader.$anonfun$load$3(DataFrameReader.scala:308)",
      "  at scala.Option.getOrElse(Option.scala:189)",
      "  at org.apache.spark.sql.DataFrameReader.load(DataFrameReader.scala:308)",
      "  at org.apache.spark.sql.DataFrameReader.load(DataFrameReader.scala:226)",
      "  ... 37 elided",
      ""
     ]
    }
   ],
   "source": [
    "spark.read\n",
    ".format(\"jdbc\")\n",
    ".option(\"url\",\"jdbc:mysql://mariadb_temp:33061/dbtest\")\n",
    ".option(\"dbtable\",\"dim_users\")\n",
    ".option(\"driver\",\"com.mysql.jdbc.Driver\")\n",
    ".option(\"user\",\"root\")\n",
    ".option(\"password\",\"password\")\n",
    ".load()\n",
    ".show(false)"
   ]
  },
  {
   "cell_type": "code",
   "execution_count": null,
   "id": "dde73ebd-0493-4efe-95c0-796b918d7e1a",
   "metadata": {},
   "outputs": [],
   "source": []
  },
  {
   "cell_type": "code",
   "execution_count": null,
   "id": "06b97337-c4f5-4edd-af0e-1918b646b30f",
   "metadata": {},
   "outputs": [],
   "source": []
  }
 ],
 "metadata": {
  "kernelspec": {
   "display_name": "spylon-kernel",
   "language": "scala",
   "name": "spylon-kernel"
  },
  "language_info": {
   "codemirror_mode": "text/x-scala",
   "file_extension": ".scala",
   "help_links": [
    {
     "text": "MetaKernel Magics",
     "url": "https://metakernel.readthedocs.io/en/latest/source/README.html"
    }
   ],
   "mimetype": "text/x-scala",
   "name": "scala",
   "pygments_lexer": "scala",
   "version": "0.4.1"
  }
 },
 "nbformat": 4,
 "nbformat_minor": 5
}
