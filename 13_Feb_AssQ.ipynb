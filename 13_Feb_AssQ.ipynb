{
  "nbformat": 4,
  "nbformat_minor": 0,
  "metadata": {
    "colab": {
      "provenance": [],
      "authorship_tag": "ABX9TyN3GsY12VP9cIDVcgx4B1rE",
      "include_colab_link": true
    },
    "kernelspec": {
      "name": "python3",
      "display_name": "Python 3"
    },
    "language_info": {
      "name": "python"
    }
  },
  "cells": [
    {
      "cell_type": "markdown",
      "metadata": {
        "id": "view-in-github",
        "colab_type": "text"
      },
      "source": [
        "<a href=\"https://colab.research.google.com/github/beercafeguy/PyMLLab/blob/master/13_Feb_AssQ.ipynb\" target=\"_parent\"><img src=\"https://colab.research.google.com/assets/colab-badge.svg\" alt=\"Open In Colab\"/></a>"
      ]
    },
    {
      "cell_type": "markdown",
      "source": [
        "**Q1.** Explain why we have to use the Exception class while creating a Custom Exception."
      ],
      "metadata": {
        "id": "W9UAYL2fpVtM"
      }
    },
    {
      "cell_type": "markdown",
      "source": [
        "**Ans:**\n",
        "\n",
        "To make any Error support the mechanism of exception handeling in python, that class should inherit from a base class called BaseException. Exception is a child class of BaseException show we use that for creating an exception.\n",
        "\n",
        "**Example of not using Exception as super class.**"
      ],
      "metadata": {
        "id": "2ILAwCHTpYeP"
      }
    },
    {
      "cell_type": "code",
      "execution_count": 8,
      "metadata": {
        "colab": {
          "base_uri": "https://localhost:8080/",
          "height": 427
        },
        "id": "dm9mg1qJpRzZ",
        "outputId": "2eb1556a-baf1-40ed-f5d8-8f52341374b6"
      },
      "outputs": [
        {
          "output_type": "stream",
          "name": "stdout",
          "text": [
            "Testing non exception class\n"
          ]
        },
        {
          "output_type": "error",
          "ename": "TypeError",
          "evalue": "ignored",
          "traceback": [
            "\u001b[0;31m---------------------------------------------------------------------------\u001b[0m",
            "\u001b[0;31mTypeError\u001b[0m                                 Traceback (most recent call last)",
            "\u001b[0;32m<ipython-input-8-c6cf8047b9b7>\u001b[0m in \u001b[0;36m<module>\u001b[0;34m\u001b[0m\n\u001b[1;32m      7\u001b[0m \u001b[0;32mtry\u001b[0m\u001b[0;34m:\u001b[0m\u001b[0;34m\u001b[0m\u001b[0;34m\u001b[0m\u001b[0m\n\u001b[0;32m----> 8\u001b[0;31m   \u001b[0;32mraise\u001b[0m \u001b[0mMyException\u001b[0m\u001b[0;34m(\u001b[0m\u001b[0;34m\"Testing non exception class\"\u001b[0m\u001b[0;34m)\u001b[0m\u001b[0;34m\u001b[0m\u001b[0;34m\u001b[0m\u001b[0m\n\u001b[0m\u001b[1;32m      9\u001b[0m \u001b[0;32mexcept\u001b[0m \u001b[0mMyException\u001b[0m \u001b[0;32mas\u001b[0m \u001b[0me\u001b[0m\u001b[0;34m:\u001b[0m\u001b[0;34m\u001b[0m\u001b[0;34m\u001b[0m\u001b[0m\n",
            "\u001b[0;31mTypeError\u001b[0m: exceptions must derive from BaseException",
            "\nDuring handling of the above exception, another exception occurred:\n",
            "\u001b[0;31mTypeError\u001b[0m                                 Traceback (most recent call last)",
            "\u001b[0;32m<ipython-input-8-c6cf8047b9b7>\u001b[0m in \u001b[0;36m<module>\u001b[0;34m\u001b[0m\n\u001b[1;32m      7\u001b[0m \u001b[0;32mtry\u001b[0m\u001b[0;34m:\u001b[0m\u001b[0;34m\u001b[0m\u001b[0;34m\u001b[0m\u001b[0m\n\u001b[1;32m      8\u001b[0m   \u001b[0;32mraise\u001b[0m \u001b[0mMyException\u001b[0m\u001b[0;34m(\u001b[0m\u001b[0;34m\"Testing non exception class\"\u001b[0m\u001b[0;34m)\u001b[0m\u001b[0;34m\u001b[0m\u001b[0;34m\u001b[0m\u001b[0m\n\u001b[0;32m----> 9\u001b[0;31m \u001b[0;32mexcept\u001b[0m \u001b[0mMyException\u001b[0m \u001b[0;32mas\u001b[0m \u001b[0me\u001b[0m\u001b[0;34m:\u001b[0m\u001b[0;34m\u001b[0m\u001b[0;34m\u001b[0m\u001b[0m\n\u001b[0m\u001b[1;32m     10\u001b[0m   \u001b[0mprint\u001b[0m\u001b[0;34m(\u001b[0m\u001b[0me\u001b[0m\u001b[0;34m)\u001b[0m\u001b[0;34m\u001b[0m\u001b[0;34m\u001b[0m\u001b[0m\n\u001b[1;32m     11\u001b[0m   \u001b[0mlogging\u001b[0m\u001b[0;34m.\u001b[0m\u001b[0merror\u001b[0m\u001b[0;34m(\u001b[0m\u001b[0me\u001b[0m\u001b[0;34m)\u001b[0m\u001b[0;34m\u001b[0m\u001b[0;34m\u001b[0m\u001b[0m\n",
            "\u001b[0;31mTypeError\u001b[0m: catching classes that do not inherit from BaseException is not allowed"
          ]
        }
      ],
      "source": [
        "import logging\n",
        "\n",
        "logging.basicConfig(filename=\"exception_logs.log\",level=logging.INFO,force=True)\n",
        "class MyException:\n",
        "  def __init__(self,msz):\n",
        "    print(msz)\n",
        "try:\n",
        "  raise MyException(\"Testing non exception class\")\n",
        "except MyException as e:\n",
        "  print(e)\n",
        "  logging.error(e)"
      ]
    },
    {
      "cell_type": "markdown",
      "source": [
        "**Q2.** Write a python program to print Python Exception Hierarchy."
      ],
      "metadata": {
        "id": "SGKVDmkuqXqb"
      }
    },
    {
      "cell_type": "code",
      "source": [
        "# inspect module is used to to any kind of in class checks in python like finding functions etc.\n",
        "import inspect\n",
        "# our treeClass function\n",
        "def print_class_tree(current_cls, ind = 0):\n",
        "    \n",
        "      # print name of the class\n",
        "    print ('-' * ind,'>', current_cls.__name__)\n",
        "      \n",
        "    # iterating through subclasses\n",
        "    for i in current_cls.__subclasses__():\n",
        "        print_class_tree(i, ind + 2)\n",
        "inspect.getclasstree(inspect.getmro(BaseException))\n",
        "print_class_tree(BaseException)"
      ],
      "metadata": {
        "colab": {
          "base_uri": "https://localhost:8080/"
        },
        "id": "Eh2S9PJWp5Ae",
        "outputId": "fb49371e-d97b-47b1-ca63-5f8585d16770"
      },
      "execution_count": 5,
      "outputs": [
        {
          "output_type": "stream",
          "name": "stdout",
          "text": [
            " > BaseException\n",
            "-- > Exception\n",
            "---- > TypeError\n",
            "------ > MultipartConversionError\n",
            "------ > FloatOperation\n",
            "------ > UFuncTypeError\n",
            "-------- > UFuncTypeError\n",
            "-------- > UFuncTypeError\n",
            "-------- > UFuncTypeError\n",
            "---------- > UFuncTypeError\n",
            "---------- > UFuncTypeError\n",
            "------ > ConversionError\n",
            "---- > StopAsyncIteration\n",
            "---- > StopIteration\n",
            "---- > ImportError\n",
            "------ > ModuleNotFoundError\n",
            "------ > ZipImportError\n",
            "---- > OSError\n",
            "------ > ConnectionError\n",
            "-------- > BrokenPipeError\n",
            "-------- > ConnectionAbortedError\n",
            "-------- > ConnectionRefusedError\n",
            "-------- > ConnectionResetError\n",
            "---------- > RemoteDisconnected\n",
            "------ > BlockingIOError\n",
            "------ > ChildProcessError\n",
            "------ > FileExistsError\n",
            "------ > FileNotFoundError\n",
            "-------- > ExecutableNotFoundError\n",
            "------ > IsADirectoryError\n",
            "------ > NotADirectoryError\n",
            "------ > InterruptedError\n",
            "-------- > InterruptedSystemCall\n",
            "------ > PermissionError\n",
            "------ > ProcessLookupError\n",
            "------ > TimeoutError\n",
            "------ > UnsupportedOperation\n",
            "------ > ItimerError\n",
            "------ > Error\n",
            "-------- > SameFileError\n",
            "------ > SpecialFileError\n",
            "------ > ExecError\n",
            "------ > ReadError\n",
            "------ > herror\n",
            "------ > gaierror\n",
            "------ > timeout\n",
            "------ > SSLError\n",
            "-------- > SSLCertVerificationError\n",
            "-------- > SSLZeroReturnError\n",
            "-------- > SSLWantReadError\n",
            "-------- > SSLWantWriteError\n",
            "-------- > SSLSyscallError\n",
            "-------- > SSLEOFError\n",
            "------ > URLError\n",
            "-------- > HTTPError\n",
            "-------- > ContentTooShortError\n",
            "------ > BadGzipFile\n",
            "------ > ProxyError\n",
            "-------- > GeneralProxyError\n",
            "-------- > ProxyConnectionError\n",
            "-------- > SOCKS5AuthError\n",
            "-------- > SOCKS5Error\n",
            "-------- > SOCKS4Error\n",
            "-------- > HTTPError\n",
            "------ > UnidentifiedImageError\n",
            "---- > EOFError\n",
            "------ > IncompleteReadError\n",
            "---- > RuntimeError\n",
            "------ > RecursionError\n",
            "------ > NotImplementedError\n",
            "-------- > StdinNotImplementedError\n",
            "-------- > ZMQVersionError\n",
            "------ > _DeadlockError\n",
            "------ > BrokenBarrierError\n",
            "------ > BrokenExecutor\n",
            "------ > SendfileNotAvailableError\n",
            "------ > TooHardError\n",
            "------ > ExtractionError\n",
            "------ > VariableError\n",
            "---- > NameError\n",
            "------ > UnboundLocalError\n",
            "---- > AttributeError\n",
            "---- > SyntaxError\n",
            "------ > IndentationError\n",
            "-------- > TabError\n",
            "---- > LookupError\n",
            "------ > IndexError\n",
            "-------- > AxisError\n",
            "-------- > OutOfBounds\n",
            "------ > KeyError\n",
            "-------- > UnknownBackend\n",
            "-------- > NoSuchKernel\n",
            "------ > CodecRegistryError\n",
            "---- > ValueError\n",
            "------ > UnicodeError\n",
            "-------- > UnicodeEncodeError\n",
            "-------- > UnicodeDecodeError\n",
            "-------- > UnicodeTranslateError\n",
            "------ > UnsupportedOperation\n",
            "------ > JSONDecodeError\n",
            "------ > Error\n",
            "------ > ClassNotFound\n",
            "------ > SSLCertVerificationError\n",
            "------ > ClipboardEmpty\n",
            "------ > MessageDefect\n",
            "-------- > NoBoundaryInMultipartDefect\n",
            "-------- > StartBoundaryNotFoundDefect\n",
            "-------- > CloseBoundaryNotFoundDefect\n",
            "-------- > FirstHeaderLineIsContinuationDefect\n",
            "-------- > MisplacedEnvelopeHeaderDefect\n",
            "-------- > MissingHeaderBodySeparatorDefect\n",
            "-------- > MultipartInvariantViolationDefect\n",
            "-------- > InvalidMultipartContentTransferEncodingDefect\n",
            "-------- > UndecodableBytesDefect\n",
            "-------- > InvalidBase64PaddingDefect\n",
            "-------- > InvalidBase64CharactersDefect\n",
            "-------- > InvalidBase64LengthDefect\n",
            "-------- > HeaderDefect\n",
            "---------- > InvalidHeaderDefect\n",
            "---------- > HeaderMissingRequiredValue\n",
            "---------- > NonPrintableDefect\n",
            "---------- > ObsoleteHeaderDefect\n",
            "---------- > NonASCIILocalPartDefect\n",
            "------ > IllegalMonthError\n",
            "------ > IllegalWeekdayError\n",
            "------ > MacroToEdit\n",
            "------ > ParserError\n",
            "------ > DisabledFunctionError\n",
            "------ > AxisError\n",
            "------ > NonIntersectingPathException\n",
            "------ > InvalidFileException\n",
            "------ > InvalidVersion\n",
            "------ > InvalidSpecifier\n",
            "------ > InvalidMarker\n",
            "------ > UndefinedComparison\n",
            "------ > UndefinedEnvironmentName\n",
            "------ > InvalidRequirement\n",
            "-------- > RequirementParseError\n",
            "---- > AssertionError\n",
            "---- > ArithmeticError\n",
            "------ > FloatingPointError\n",
            "------ > OverflowError\n",
            "------ > ZeroDivisionError\n",
            "-------- > DivisionByZero\n",
            "-------- > DivisionUndefined\n",
            "------ > DecimalException\n",
            "-------- > Clamped\n",
            "-------- > Rounded\n",
            "---------- > Underflow\n",
            "---------- > Overflow\n",
            "-------- > Inexact\n",
            "---------- > Underflow\n",
            "---------- > Overflow\n",
            "-------- > Subnormal\n",
            "---------- > Underflow\n",
            "-------- > DivisionByZero\n",
            "-------- > FloatOperation\n",
            "-------- > InvalidOperation\n",
            "---------- > ConversionSyntax\n",
            "---------- > DivisionImpossible\n",
            "---------- > DivisionUndefined\n",
            "---------- > InvalidContext\n",
            "---- > SystemError\n",
            "------ > CodecRegistryError\n",
            "---- > ReferenceError\n",
            "---- > MemoryError\n",
            "------ > MemoryError\n",
            "---- > BufferError\n",
            "---- > Warning\n",
            "------ > UserWarning\n",
            "-------- > GetPassWarning\n",
            "-------- > FormatterWarning\n",
            "-------- > VisibleDeprecationWarning\n",
            "-------- > RankWarning\n",
            "-------- > ConversionWarning\n",
            "-------- > RankWarning\n",
            "-------- > MatplotlibDeprecationWarning\n",
            "-------- > IgnoredKeywordWarning\n",
            "------ > DeprecationWarning\n",
            "-------- > ProvisionalWarning\n",
            "-------- > ModuleDeprecationWarning\n",
            "------ > PendingDeprecationWarning\n",
            "------ > SyntaxWarning\n",
            "------ > RuntimeWarning\n",
            "-------- > ProactorSelectorThreadWarning\n",
            "-------- > UnknownTimezoneWarning\n",
            "-------- > ComplexWarning\n",
            "-------- > DecompressionBombWarning\n",
            "-------- > PEP440Warning\n",
            "------ > FutureWarning\n",
            "-------- > ProvisionalCompleterWarning\n",
            "-------- > MaskedArrayFutureWarning\n",
            "------ > ImportWarning\n",
            "------ > UnicodeWarning\n",
            "------ > BytesWarning\n",
            "------ > ResourceWarning\n",
            "------ > DeprecatedTzFormatWarning\n",
            "------ > MathTextWarning\n",
            "------ > PkgResourcesDeprecationWarning\n",
            "---- > _OptionError\n",
            "---- > error\n",
            "---- > Verbose\n",
            "---- > Error\n",
            "---- > _Error\n",
            "---- > SubprocessError\n",
            "------ > CalledProcessError\n",
            "------ > TimeoutExpired\n",
            "---- > Error\n",
            "---- > TokenError\n",
            "---- > StopTokenizing\n",
            "---- > error\n",
            "---- > LZMAError\n",
            "---- > RegistryError\n",
            "---- > _GiveupOnFastCopy\n",
            "---- > EndOfBlock\n",
            "---- > TraitError\n",
            "---- > _GiveupOnSendfile\n",
            "---- > error\n",
            "---- > PickleError\n",
            "------ > PicklingError\n",
            "------ > UnpicklingError\n",
            "---- > _Stop\n",
            "---- > Empty\n",
            "---- > Full\n",
            "---- > ArgumentError\n",
            "---- > ArgumentTypeError\n",
            "---- > ConfigError\n",
            "------ > ConfigLoaderError\n",
            "-------- > ArgumentError\n",
            "------ > ConfigFileNotFound\n",
            "---- > ConfigurableError\n",
            "------ > MultipleInstanceError\n",
            "---- > ApplicationError\n",
            "---- > ErrorDuringImport\n",
            "---- > BdbQuit\n",
            "---- > Restart\n",
            "---- > ExceptionPexpect\n",
            "------ > EOF\n",
            "------ > TIMEOUT\n",
            "---- > error\n",
            "---- > PtyProcessError\n",
            "---- > FindCmdError\n",
            "---- > HomeDirError\n",
            "---- > ProfileDirError\n",
            "---- > IPythonCoreError\n",
            "------ > TryNext\n",
            "------ > UsageError\n",
            "------ > StdinNotImplementedError\n",
            "---- > InputRejected\n",
            "---- > GetoptError\n",
            "---- > Incomplete\n",
            "---- > OptionError\n",
            "---- > ErrorToken\n",
            "---- > Error\n",
            "------ > CancelledError\n",
            "------ > TimeoutError\n",
            "------ > InvalidStateError\n",
            "---- > TimeoutError\n",
            "---- > InvalidStateError\n",
            "---- > LimitOverrunError\n",
            "---- > QueueEmpty\n",
            "---- > QueueFull\n",
            "---- > PrefilterError\n",
            "---- > AliasError\n",
            "------ > InvalidAliasError\n",
            "---- > Error\n",
            "------ > InterfaceError\n",
            "------ > DatabaseError\n",
            "-------- > InternalError\n",
            "-------- > OperationalError\n",
            "-------- > ProgrammingError\n",
            "-------- > IntegrityError\n",
            "-------- > DataError\n",
            "-------- > NotSupportedError\n",
            "---- > Warning\n",
            "---- > SpaceInInput\n",
            "---- > TaskLocalNotSetError\n",
            "---- > InvalidStateError\n",
            "---- > Return\n",
            "---- > NoRunningApplicationError\n",
            "---- > ValidationError\n",
            "---- > EditReadOnlyBuffer\n",
            "---- > _Retry\n",
            "---- > DOMException\n",
            "------ > IndexSizeErr\n",
            "------ > DomstringSizeErr\n",
            "------ > HierarchyRequestErr\n",
            "------ > WrongDocumentErr\n",
            "------ > InvalidCharacterErr\n",
            "------ > NoDataAllowedErr\n",
            "------ > NoModificationAllowedErr\n",
            "------ > NotFoundErr\n",
            "------ > NotSupportedErr\n",
            "------ > InuseAttributeErr\n",
            "------ > InvalidStateErr\n",
            "------ > SyntaxErr\n",
            "------ > InvalidModificationErr\n",
            "------ > NamespaceErr\n",
            "------ > InvalidAccessErr\n",
            "------ > ValidationErr\n",
            "---- > InvalidLayoutError\n",
            "---- > HeightIsUnknownError\n",
            "---- > MessageError\n",
            "------ > MessageParseError\n",
            "-------- > HeaderParseError\n",
            "-------- > BoundaryError\n",
            "------ > MultipartConversionError\n",
            "------ > CharsetError\n",
            "---- > Error\n",
            "---- > HTTPException\n",
            "------ > NotConnected\n",
            "------ > InvalidURL\n",
            "------ > UnknownProtocol\n",
            "------ > UnknownTransferEncoding\n",
            "------ > UnimplementedFileMode\n",
            "------ > IncompleteRead\n",
            "------ > ImproperConnectionState\n",
            "-------- > CannotSendRequest\n",
            "-------- > CannotSendHeader\n",
            "-------- > ResponseNotReady\n",
            "------ > BadStatusLine\n",
            "-------- > RemoteDisconnected\n",
            "------ > LineTooLong\n",
            "---- > InteractivelyDefined\n",
            "---- > KillEmbedded\n",
            "---- > ArgumentError\n",
            "---- > ZMQBaseError\n",
            "------ > ZMQError\n",
            "-------- > ContextTerminated\n",
            "-------- > Again\n",
            "-------- > InterruptedSystemCall\n",
            "------ > ZMQBindError\n",
            "------ > NotDone\n",
            "---- > NoIPAddresses\n",
            "---- > Error\n",
            "------ > NoSectionError\n",
            "------ > DuplicateSectionError\n",
            "------ > DuplicateOptionError\n",
            "------ > NoOptionError\n",
            "------ > InterpolationError\n",
            "-------- > InterpolationMissingOptionError\n",
            "-------- > InterpolationSyntaxError\n",
            "-------- > InterpolationDepthError\n",
            "------ > ParsingError\n",
            "-------- > MissingSectionHeaderError\n",
            "---- > InvalidPortNumber\n",
            "---- > DuplicateKernelError\n",
            "---- > TimeoutError\n",
            "---- > error\n",
            "---- > ReturnValueIgnoredError\n",
            "---- > KeyReuseError\n",
            "---- > UnknownKeyError\n",
            "---- > LeakedCallbackError\n",
            "---- > BadYieldError\n",
            "---- > ReturnValueIgnoredError\n",
            "---- > Return\n",
            "---- > QueueEmpty\n",
            "---- > QueueFull\n",
            "---- > Error\n",
            "------ > AuthorizationError\n",
            "------ > RuntimeManagementError\n",
            "------ > MessageError\n",
            "---- > WidgetException\n",
            "---- > JsException\n",
            "---- > FormattedTracebackError\n",
            "---- > Error\n",
            "------ > NoSuchProcess\n",
            "-------- > ZombieProcess\n",
            "------ > AccessDenied\n",
            "------ > TimeoutExpired\n",
            "---- > _Ipv6UnsupportedError\n",
            "---- > HttpLib2Error\n",
            "------ > HttpLib2ErrorWithResponse\n",
            "-------- > RedirectMissingLocation\n",
            "-------- > RedirectLimit\n",
            "-------- > FailedToDecompressContent\n",
            "-------- > UnimplementedDigestAuthOptionError\n",
            "-------- > UnimplementedHmacDigestAuthOptionError\n",
            "------ > MalformedHeader\n",
            "------ > RelativeURIError\n",
            "------ > ServerNotFoundError\n",
            "------ > ProxiesUnavailableError\n",
            "---- > LapackError\n",
            "---- > LinAlgError\n",
            "---- > ConverterError\n",
            "------ > ConverterLockError\n",
            "---- > MAError\n",
            "------ > MaskError\n",
            "---- > ParseBaseException\n",
            "------ > ParseException\n",
            "------ > ParseFatalException\n",
            "-------- > ParseSyntaxException\n",
            "---- > RecursiveGrammarException\n",
            "---- > DuplicateConstraint\n",
            "---- > UnsatisfiableConstraint\n",
            "---- > UnknownConstraint\n",
            "---- > DuplicateEditVariable\n",
            "---- > UnknownEditVariable\n",
            "---- > BadRequiredStrength\n",
            "---- > NonGuiException\n",
            "---- > Error\n",
            "---- > InvalidIndexError\n",
            "---- > TerminateTrajectory\n",
            "---- > DecompressionBombError\n",
            "---- > FFIError\n",
            "---- > CDefError\n",
            "---- > VerificationError\n",
            "---- > VerificationMissing\n",
            "---- > PkgConfigError\n",
            "---- > NoFreePortFoundError\n",
            "---- > ExpatError\n",
            "---- > Error\n",
            "------ > ProtocolError\n",
            "------ > ResponseError\n",
            "------ > Fault\n",
            "---- > BadZipFile\n",
            "---- > LargeZipFile\n",
            "---- > ParseBaseException\n",
            "------ > ParseException\n",
            "------ > ParseFatalException\n",
            "-------- > ParseSyntaxException\n",
            "---- > RecursiveGrammarException\n",
            "---- > ResolutionError\n",
            "------ > VersionConflict\n",
            "-------- > ContextualVersionConflict\n",
            "------ > DistributionNotFound\n",
            "------ > UnknownExtra\n",
            "---- > UnableToResolveVariableException\n",
            "-- > GeneratorExit\n",
            "-- > SystemExit\n",
            "-- > KeyboardInterrupt\n",
            "-- > CancelledError\n"
          ]
        }
      ]
    },
    {
      "cell_type": "markdown",
      "source": [
        "Q3. What errors are defined in the ArithmeticError class? Explain any two with an example."
      ],
      "metadata": {
        "id": "wDp8EpGtsSuw"
      }
    },
    {
      "cell_type": "markdown",
      "source": [
        "**Ans**\n",
        "\n",
        "These 3 erros are defined under ArithmaticError\n",
        "1. OverflowError : raised when assigned values is outside the range\n",
        "2. ZeroDivisionError : when a number is divided by 0 \n",
        "3. FloatingPointError : For floating point calculation errors (not turned on by default)"
      ],
      "metadata": {
        "id": "nV7kBdQ5syiY"
      }
    },
    {
      "cell_type": "code",
      "source": [
        "# OverflowError\n",
        "\n",
        "logging.shutdown()\n",
        "logging.basicConfig(filename=\"exception_logs.log\",level=logging.INFO,force=True)\n",
        "\n",
        "try:\n",
        "  float_holder = 10.0\n",
        "\n",
        "  for i in range(1, 10000):\n",
        "    float_holder = float_holder ** 2\n",
        "except OverflowError as e:\n",
        "  logging.error(e)\n",
        "  logging.error(type(e))\n",
        "logging.shutdown()"
      ],
      "metadata": {
        "id": "QSvxhRJirtoM"
      },
      "execution_count": 22,
      "outputs": []
    },
    {
      "cell_type": "code",
      "source": [
        "!cat exception_logs.log"
      ],
      "metadata": {
        "colab": {
          "base_uri": "https://localhost:8080/"
        },
        "id": "1IrrwOPtsU__",
        "outputId": "74ab64bc-bbbf-483d-940f-363eab3add7d"
      },
      "execution_count": 23,
      "outputs": [
        {
          "output_type": "stream",
          "name": "stdout",
          "text": [
            "ERROR:root:(34, 'Numerical result out of range')\n",
            "ERROR:root:<class 'OverflowError'>\n"
          ]
        }
      ]
    },
    {
      "cell_type": "code",
      "source": [
        "# ZeroDivisionError\n",
        "logging.shutdown()\n",
        "logging.basicConfig(filename=\"exception_logs.log\",level=logging.INFO,force=True)\n",
        "try:\n",
        "  20/0\n",
        "except ZeroDivisionError as e:\n",
        "  logging.error(e)\n",
        "logging.shutdown()"
      ],
      "metadata": {
        "id": "pGWicxR5uiNE"
      },
      "execution_count": 25,
      "outputs": []
    },
    {
      "cell_type": "code",
      "source": [
        "!cat exception_logs.log"
      ],
      "metadata": {
        "colab": {
          "base_uri": "https://localhost:8080/"
        },
        "id": "fMU1jAH_u6F9",
        "outputId": "0b21ed40-4f21-44c3-b114-4721f950352f"
      },
      "execution_count": 26,
      "outputs": [
        {
          "output_type": "stream",
          "name": "stdout",
          "text": [
            "ERROR:root:(34, 'Numerical result out of range')\n",
            "ERROR:root:<class 'OverflowError'>\n",
            "ERROR:root:division by zero\n"
          ]
        }
      ]
    },
    {
      "cell_type": "markdown",
      "source": [
        "**Q4.** \n",
        "Why LookupError class is used? Explain with an example KeyError and IndexError."
      ],
      "metadata": {
        "id": "7htR3tJdvxQ1"
      }
    },
    {
      "cell_type": "markdown",
      "source": [
        "**Ans:**\n",
        "LookupError is the base class of all the exceptions which are raised when we encounter a missing key or index in dictionaries and sequences.\n",
        "It has two child classes.\n",
        "1. IndexError\n",
        "2. KeyError"
      ],
      "metadata": {
        "id": "Z15zN_cmv5d0"
      }
    },
    {
      "cell_type": "code",
      "source": [
        "# IndexError is thrown when we access an index which is not available in sequence.\n",
        "!rm -rf exception_logs.log\n",
        "logging.shutdown()\n",
        "logging.basicConfig(filename=\"exception_logs.log\",level=logging.INFO,force=True)\n",
        "try:\n",
        "  l = [1,2,3]\n",
        "  print(l[10])\n",
        "except IndexError as e:\n",
        "  logging.error(e)\n",
        "  logging.error(type(e))\n",
        "logging.shutdown()"
      ],
      "metadata": {
        "id": "kI8IJB3Kvte7"
      },
      "execution_count": 29,
      "outputs": []
    },
    {
      "cell_type": "code",
      "source": [
        "!cat exception_logs.log"
      ],
      "metadata": {
        "colab": {
          "base_uri": "https://localhost:8080/"
        },
        "id": "m8R34ZcRwefW",
        "outputId": "f1c58e1b-b41a-44b1-a968-2fec095a00f2"
      },
      "execution_count": 30,
      "outputs": [
        {
          "output_type": "stream",
          "name": "stdout",
          "text": [
            "ERROR:root:list index out of range\n",
            "ERROR:root:<class 'IndexError'>\n"
          ]
        }
      ]
    },
    {
      "cell_type": "code",
      "source": [
        "# KeyError is thrown when we access a key which is not available in dictionary.\n",
        "!rm -rf exception_logs.log\n",
        "logging.shutdown()\n",
        "logging.basicConfig(filename=\"exception_logs.log\",level=logging.INFO,force=True)\n",
        "try:\n",
        "  d = {1:\"Hem\",2:\"Ajay\"}\n",
        "  print(d[10])\n",
        "except KeyError as e:\n",
        "  logging.error(e)\n",
        "  logging.error(type(e))\n",
        "logging.shutdown()\n",
        "\n",
        "!cat exception_logs.log"
      ],
      "metadata": {
        "colab": {
          "base_uri": "https://localhost:8080/"
        },
        "id": "WiS8xhGzwf7f",
        "outputId": "1a763208-bbaf-4765-f67b-51d97650b26a"
      },
      "execution_count": 31,
      "outputs": [
        {
          "output_type": "stream",
          "name": "stdout",
          "text": [
            "ERROR:root:10\n",
            "ERROR:root:<class 'KeyError'>\n"
          ]
        }
      ]
    },
    {
      "cell_type": "markdown",
      "source": [
        "**Q5.** Explain ImportError. What is ModuleNotFoundError?"
      ],
      "metadata": {
        "id": "mUGMM8CBw8ZM"
      }
    },
    {
      "cell_type": "markdown",
      "source": [
        "**ImportError**\n",
        "This is thrown ahen we import an object which is not present in path\n",
        "\n",
        "ModuleNotFoundError is a more spefic subclass of ImportError"
      ],
      "metadata": {
        "id": "aSVjROIiw-Wz"
      }
    },
    {
      "cell_type": "code",
      "source": [
        "issubclass(ModuleNotFoundError, ImportError)"
      ],
      "metadata": {
        "colab": {
          "base_uri": "https://localhost:8080/"
        },
        "id": "Pzp7JrTOxcFo",
        "outputId": "3a5209ae-b96a-42a4-92f3-d374baacbd79"
      },
      "execution_count": 36,
      "outputs": [
        {
          "output_type": "execute_result",
          "data": {
            "text/plain": [
              "True"
            ]
          },
          "metadata": {},
          "execution_count": 36
        }
      ]
    },
    {
      "cell_type": "code",
      "source": [
        "!rm -rf exception_logs.log\n",
        "logging.shutdown()\n",
        "logging.basicConfig(filename=\"exception_logs.log\",level=logging.INFO,force=True)\n",
        "try:\n",
        "  import hem\n",
        "except ImportError as e:\n",
        "  logging.error(e)\n",
        "  logging.error(type(e))\n",
        "\n",
        "!cat exception_logs.log"
      ],
      "metadata": {
        "colab": {
          "base_uri": "https://localhost:8080/"
        },
        "id": "mpQ5jwICw4fi",
        "outputId": "9210f649-af2c-41be-b54f-9ad19655a7dd"
      },
      "execution_count": 37,
      "outputs": [
        {
          "output_type": "stream",
          "name": "stdout",
          "text": [
            "ERROR:root:No module named 'hem'\n",
            "ERROR:root:<class 'ModuleNotFoundError'>\n"
          ]
        }
      ]
    },
    {
      "cell_type": "markdown",
      "source": [
        "**Q6.** List down some best practices for exception handling in python."
      ],
      "metadata": {
        "id": "XDhc6xAxyhuP"
      }
    },
    {
      "cell_type": "markdown",
      "source": [
        "**Ans:**\n",
        "\n",
        "1. Raise specific exceptions rathern then generic exceptions\n",
        "2. don't shadow a narrow exception using wide exception\n",
        "3. Log all the exceptions\n",
        "4. Avoid multiple exceptions handeling\n",
        "5. cleanup all the resources after handeling exceptions"
      ],
      "metadata": {
        "id": "xhV9xBgYykTP"
      }
    },
    {
      "cell_type": "code",
      "source": [],
      "metadata": {
        "id": "3lJVQcQxxWNR"
      },
      "execution_count": null,
      "outputs": []
    }
  ]
}