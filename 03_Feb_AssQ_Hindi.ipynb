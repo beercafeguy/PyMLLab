{
  "nbformat": 4,
  "nbformat_minor": 0,
  "metadata": {
    "colab": {
      "provenance": [],
      "authorship_tag": "ABX9TyPqpq8VDeKybURVnUnWOkVf",
      "include_colab_link": true
    },
    "kernelspec": {
      "name": "python3",
      "display_name": "Python 3"
    },
    "language_info": {
      "name": "python"
    }
  },
  "cells": [
    {
      "cell_type": "markdown",
      "metadata": {
        "id": "view-in-github",
        "colab_type": "text"
      },
      "source": [
        "<a href=\"https://colab.research.google.com/github/beercafeguy/PyMLLab/blob/master/03_Feb_AssQ_Hindi.ipynb\" target=\"_parent\"><img src=\"https://colab.research.google.com/assets/colab-badge.svg\" alt=\"Open In Colab\"/></a>"
      ]
    },
    {
      "cell_type": "markdown",
      "source": [
        "Q1. Which keyword is used to create a function? Create a function to return a list of odd numbers in the range of 1 to 25."
      ],
      "metadata": {
        "id": "lth2UIQVPI_Y"
      }
    },
    {
      "cell_type": "code",
      "execution_count": null,
      "metadata": {
        "colab": {
          "base_uri": "https://localhost:8080/"
        },
        "id": "CxiaDmPVLARs",
        "outputId": "ba9fbe53-36cb-417d-c9ab-92ac07b45f1f"
      },
      "outputs": [
        {
          "output_type": "execute_result",
          "data": {
            "text/plain": [
              "[1, 3, 5, 7, 9, 11, 13, 15, 17, 19, 21, 23]"
            ]
          },
          "metadata": {},
          "execution_count": 31
        }
      ],
      "source": [
        "# def is used to create functions\n",
        "\n",
        "def get_odds():\n",
        "  odds = []\n",
        "  for i in range(1,25):\n",
        "    if i % 2 !=0:\n",
        "      odds.append(i)\n",
        "  return odds\n",
        "get_odds()"
      ]
    },
    {
      "cell_type": "markdown",
      "source": [
        "Q2. Why *args and **kwargs is used in some functions? Create a function each for *args and **kwargsto demonstrate their use."
      ],
      "metadata": {
        "id": "bYNAi7GTPlKk"
      }
    },
    {
      "cell_type": "markdown",
      "source": [
        "**Ans:** \n",
        "\n",
        "**args : **\n",
        "args is used where we need to pass a variable number of arguments to a function like below"
      ],
      "metadata": {
        "id": "XEP2_d8rWPVu"
      }
    },
    {
      "cell_type": "code",
      "source": [
        "# Note: in case of args, the args variable is passed as tuple so any operation possible on tuple is possible on this argument as well\n",
        "def calculate_sum(*args):\n",
        "  sum = 0\n",
        "  for i in args:\n",
        "    sum +=i\n",
        "  return sum\n",
        "print(calculate_sum(1,2,3))\n",
        "print(calculate_sum(1,2,3,4))"
      ],
      "metadata": {
        "colab": {
          "base_uri": "https://localhost:8080/"
        },
        "id": "xzbAxgCyPblq",
        "outputId": "659163e9-b012-4641-dec5-42f525d340f7"
      },
      "execution_count": 1,
      "outputs": [
        {
          "output_type": "stream",
          "name": "stdout",
          "text": [
            "6\n",
            "10\n"
          ]
        }
      ]
    },
    {
      "cell_type": "markdown",
      "source": [
        "**kwargs : **\n",
        "args is used where we need to pass a dictionery of arguments. where key will be the argument name and value will be argument value. here kw in name kwargs litraly means key word"
      ],
      "metadata": {
        "id": "rDEhtwZeXCXW"
      }
    },
    {
      "cell_type": "code",
      "source": [
        "def display_user(**kwargs):\n",
        "  for key,val in kwargs.items():\n",
        "    print(\"{0} -> {1}\".format(key,val),end=\" \")\n",
        "  print()\n",
        "\n",
        "\n",
        "display_user(name=\"John\",age=20)\n",
        "display_user(name=\"Frank\",age=45,language=\"French\")"
      ],
      "metadata": {
        "id": "kMFdV6_jP2ze",
        "colab": {
          "base_uri": "https://localhost:8080/"
        },
        "outputId": "51e04256-f834-494f-deda-79a767f66cf5"
      },
      "execution_count": 5,
      "outputs": [
        {
          "output_type": "stream",
          "name": "stdout",
          "text": [
            "name -> John age -> 20 \n",
            "name -> Frank age -> 45 language -> French \n"
          ]
        }
      ]
    },
    {
      "cell_type": "markdown",
      "source": [
        "Q3. What is an iterator in python? Name the method used to initialise the iterator object and the method\n",
        "used for iteration. Use these methods to print the first five elements of the given list [2, 4, 6, 8, 10, 12, 14,\n",
        "16, 18, 20]."
      ],
      "metadata": {
        "id": "XYeA7tpKbsNU"
      }
    },
    {
      "cell_type": "markdown",
      "source": [
        "**Ans:**\n",
        "Iterator is an object which can be used to traverse through iterable objects in python. Technically, Its an object which implements  iterator protocol. In other workds onjects which implements __iter__() and __next__().\n",
        "\n",
        "Any iterator is initialized using iter() and next() is used for iteration."
      ],
      "metadata": {
        "id": "NHn__cuFb70c"
      }
    },
    {
      "cell_type": "code",
      "source": [
        "input_list =  [2, 4, 6, 8, 10, 12, 14, 16, 18, 20]\n",
        "list_iter = iter(input_list)\n",
        "for i in range(5):\n",
        "  print(next(list_iter),end=\" \")"
      ],
      "metadata": {
        "colab": {
          "base_uri": "https://localhost:8080/"
        },
        "id": "TY8jmR-HQKPr",
        "outputId": "5f1241ba-b2e9-4515-a17f-9ca716ae6a5f"
      },
      "execution_count": 6,
      "outputs": [
        {
          "output_type": "stream",
          "name": "stdout",
          "text": [
            "2 4 6 8 10 "
          ]
        }
      ]
    },
    {
      "cell_type": "markdown",
      "source": [
        "Q4. What is a generator function in python? Why yield keyword is used? Give an example of a generator\n",
        "function."
      ],
      "metadata": {
        "id": "wQo8AKVcdZwq"
      }
    },
    {
      "cell_type": "markdown",
      "source": [
        "**Ans:**\n",
        "\n",
        "Generators are like any other functions in python but return an iterator when called upon. This iterator can later be used to produce values when iterated over. We use generators when we want to return a large list of values but we do not want to store all those values in memory at the same time.\n",
        "\n",
        "What is special about generator functions is that we use yield keyword rather then a return statement. "
      ],
      "metadata": {
        "id": "tWgxix6adpUU"
      }
    },
    {
      "cell_type": "code",
      "source": [
        "# Get squares of first n numbers\n",
        "def get_squares(n):\n",
        "  for i in range(n):\n",
        "    yield i * i\n",
        "\n",
        "print(type(get_squares(10)))\n",
        "print(get_squares(10))"
      ],
      "metadata": {
        "id": "nE69bBQ3QMHI",
        "colab": {
          "base_uri": "https://localhost:8080/"
        },
        "outputId": "98218b5e-6a91-4e2e-f737-3a32e8ce3c6d"
      },
      "execution_count": 9,
      "outputs": [
        {
          "output_type": "stream",
          "name": "stdout",
          "text": [
            "<class 'generator'>\n",
            "<generator object get_squares at 0x7fd8f5a1a900>\n"
          ]
        }
      ]
    },
    {
      "cell_type": "markdown",
      "source": [
        "As we can see above, my function actually returns a generator rather then an actual list. I can use this generator to generate my values at any point of my execution."
      ],
      "metadata": {
        "id": "IMQmj-w-fMfs"
      }
    },
    {
      "cell_type": "code",
      "source": [
        "squares = get_squares(10)\n",
        "for i in squares:\n",
        "  print(i,end=\" \")"
      ],
      "metadata": {
        "colab": {
          "base_uri": "https://localhost:8080/"
        },
        "id": "Y3bRLrJGQRl6",
        "outputId": "1f8cd25e-3fa4-4b9a-cf73-1cfe3fcb0582"
      },
      "execution_count": 8,
      "outputs": [
        {
          "output_type": "stream",
          "name": "stdout",
          "text": [
            "0 1 4 9 16 25 36 49 64 81 "
          ]
        }
      ]
    },
    {
      "cell_type": "markdown",
      "source": [
        "Q5. Create a generator function for prime numbers less than 1000. Use the next() method to print the first 20 prime numbers."
      ],
      "metadata": {
        "id": "Hm2Vou8yfsqC"
      }
    },
    {
      "cell_type": "code",
      "source": [
        "def is_prime(n):\n",
        "  if n == 1 or n == 0:\n",
        "    return False\n",
        "  else:\n",
        "    for i in range(2,n):\n",
        "      if n % i == 0:\n",
        "        return False\n",
        "    return True\n",
        "\n",
        "\n",
        "def generate_prime(top_limit):\n",
        "  for i in range(top_limit):\n",
        "    if is_prime(i):\n",
        "      yield i\n",
        "\n",
        "\n",
        "primes  = generate_prime(1000)\n",
        "for i in range(20):\n",
        "  print(next(primes),end= \" \")"
      ],
      "metadata": {
        "colab": {
          "base_uri": "https://localhost:8080/"
        },
        "id": "b38Z0uCVS-7G",
        "outputId": "1f1c5ce4-2e2a-478b-e817-41196718ecc4"
      },
      "execution_count": 15,
      "outputs": [
        {
          "output_type": "stream",
          "name": "stdout",
          "text": [
            "2 3 5 7 11 13 17 19 23 29 31 37 41 43 47 53 59 61 67 71 "
          ]
        }
      ]
    },
    {
      "cell_type": "markdown",
      "source": [
        "Q6. Write a python program to print the first 10 Fibonacci numbers using a while loop."
      ],
      "metadata": {
        "id": "cuMbYyyihoUw"
      }
    },
    {
      "cell_type": "code",
      "source": [
        "def print_fibonacci(number):\n",
        "  num1,num2=0,1\n",
        "  counter = 0\n",
        "  while counter < number:\n",
        "    print(num1,end= \" \")\n",
        "    num3 = num1 + num2\n",
        "    num1=num2\n",
        "    num2=num3\n",
        "    counter +=1\n",
        "print_fibonacci(10)"
      ],
      "metadata": {
        "colab": {
          "base_uri": "https://localhost:8080/"
        },
        "id": "AXO_hqzlUs8T",
        "outputId": "705e2753-f035-4ab2-c049-5a502566a337"
      },
      "execution_count": 18,
      "outputs": [
        {
          "output_type": "stream",
          "name": "stdout",
          "text": [
            "0 1 1 2 3 5 8 13 21 34 "
          ]
        }
      ]
    },
    {
      "cell_type": "markdown",
      "source": [
        "Q7. Write a List Comprehension to iterate through the given string: ‘pwskills’.\n",
        "Expected output: ['p', 'w', 's', 'k', 'i', 'l', 'l', 's']"
      ],
      "metadata": {
        "id": "fpuSLLl5iliC"
      }
    },
    {
      "cell_type": "code",
      "source": [
        "str1= 'pwskills'\n",
        "[ i for i in str1]"
      ],
      "metadata": {
        "id": "VmQlgQsiUyfx",
        "colab": {
          "base_uri": "https://localhost:8080/"
        },
        "outputId": "c53df77d-0bdf-4814-bf34-4e8ca56f1c43"
      },
      "execution_count": 19,
      "outputs": [
        {
          "output_type": "execute_result",
          "data": {
            "text/plain": [
              "['p', 'w', 's', 'k', 'i', 'l', 'l', 's']"
            ]
          },
          "metadata": {},
          "execution_count": 19
        }
      ]
    },
    {
      "cell_type": "markdown",
      "source": [
        "Q8. Write a python program to check whether a given number is Palindrome or not using a while loop."
      ],
      "metadata": {
        "id": "iJu1zcjYixQT"
      }
    },
    {
      "cell_type": "code",
      "source": [
        "def is_palindrome(num):\n",
        "  \n",
        "  reverse = 0\n",
        "  tmp_holder = num\n",
        "\n",
        "  while tmp_holder != 0:\n",
        "    reverse = (reverse * 10) + (tmp_holder % 10)\n",
        "    tmp_holder = tmp_holder // 10\n",
        "  return reverse == num\n",
        "\n",
        "\n",
        "print(is_palindrome(12321))\n",
        "print(is_palindrome(12320))"
      ],
      "metadata": {
        "colab": {
          "base_uri": "https://localhost:8080/"
        },
        "id": "Fk3nTplVisvm",
        "outputId": "b7ac0834-a9a1-40f6-82e5-f395d184c9e1"
      },
      "execution_count": 22,
      "outputs": [
        {
          "output_type": "stream",
          "name": "stdout",
          "text": [
            "True\n",
            "False\n"
          ]
        }
      ]
    },
    {
      "cell_type": "markdown",
      "source": [
        "Q9. Write a code to print odd numbers from 1 to 100 using list comprehension."
      ],
      "metadata": {
        "id": "WBPvqGD5kqKI"
      }
    },
    {
      "cell_type": "code",
      "source": [
        "numbers  = [i for i in range(101)]\n",
        "print(numbers)\n",
        "odd_nums = [ i for i in numbers if i%2!=0 ]\n",
        "print(odd_nums)"
      ],
      "metadata": {
        "colab": {
          "base_uri": "https://localhost:8080/"
        },
        "id": "5uYm5zwgkbNi",
        "outputId": "bb668321-2053-4999-ddd4-927f39d9431b"
      },
      "execution_count": 26,
      "outputs": [
        {
          "output_type": "stream",
          "name": "stdout",
          "text": [
            "[0, 1, 2, 3, 4, 5, 6, 7, 8, 9, 10, 11, 12, 13, 14, 15, 16, 17, 18, 19, 20, 21, 22, 23, 24, 25, 26, 27, 28, 29, 30, 31, 32, 33, 34, 35, 36, 37, 38, 39, 40, 41, 42, 43, 44, 45, 46, 47, 48, 49, 50, 51, 52, 53, 54, 55, 56, 57, 58, 59, 60, 61, 62, 63, 64, 65, 66, 67, 68, 69, 70, 71, 72, 73, 74, 75, 76, 77, 78, 79, 80, 81, 82, 83, 84, 85, 86, 87, 88, 89, 90, 91, 92, 93, 94, 95, 96, 97, 98, 99, 100]\n",
            "[1, 3, 5, 7, 9, 11, 13, 15, 17, 19, 21, 23, 25, 27, 29, 31, 33, 35, 37, 39, 41, 43, 45, 47, 49, 51, 53, 55, 57, 59, 61, 63, 65, 67, 69, 71, 73, 75, 77, 79, 81, 83, 85, 87, 89, 91, 93, 95, 97, 99]\n"
          ]
        }
      ]
    },
    {
      "cell_type": "code",
      "source": [],
      "metadata": {
        "id": "cTxfpgRzkxbJ"
      },
      "execution_count": null,
      "outputs": []
    }
  ]
}