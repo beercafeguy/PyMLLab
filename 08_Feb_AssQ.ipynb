{
  "nbformat": 4,
  "nbformat_minor": 0,
  "metadata": {
    "colab": {
      "provenance": [],
      "authorship_tag": "ABX9TyOJDMFPG3DLB9xZm4sQyj2E",
      "include_colab_link": true
    },
    "kernelspec": {
      "name": "python3",
      "display_name": "Python 3"
    },
    "language_info": {
      "name": "python"
    }
  },
  "cells": [
    {
      "cell_type": "markdown",
      "metadata": {
        "id": "view-in-github",
        "colab_type": "text"
      },
      "source": [
        "<a href=\"https://colab.research.google.com/github/beercafeguy/PyMLLab/blob/master/08_Feb_AssQ.ipynb\" target=\"_parent\"><img src=\"https://colab.research.google.com/assets/colab-badge.svg\" alt=\"Open In Colab\"/></a>"
      ]
    },
    {
      "cell_type": "markdown",
      "source": [
        "Q1. What is Abstraction in OOps? Explain with an example."
      ],
      "metadata": {
        "id": "LtH_9lYR3EPe"
      }
    },
    {
      "cell_type": "markdown",
      "source": [
        "**Ans**\n",
        "\n",
        "Abstraction is a way to hide the implementation details of a perticular function from clients of the code.\n",
        "\n",
        "For example, In our car, we know if we press break, the car will slow down and at the end it will stop but what we do not need to know is how exactly the system is stopping the wheels from rotating. That is none of our business as a user of the car. This is called abstraction where the implementation details of breaking are hidden from us (client). Different vehicles may have different ways of breaking. But as a client, we know that if we have a car, it will have a break and we can use that to stop the car.\n",
        "\n",
        "\n",
        "Below is the code for implementaion of above example."
      ],
      "metadata": {
        "id": "3L8eFyZ63ICG"
      }
    },
    {
      "cell_type": "code",
      "execution_count": 21,
      "metadata": {
        "id": "k1QFHfENxXNt"
      },
      "outputs": [],
      "source": [
        "from abc import ABC,abstractmethod\n",
        "\n",
        "#Abstract base class\n",
        "class Vehicle(ABC):\n",
        "\n",
        "  @abstractmethod\n",
        "  def apply_break(self):\n",
        "    pass\n",
        "  \n",
        "\n",
        "class Bike(Vehicle):\n",
        "\n",
        "  def apply_break(self):\n",
        "    print(\"Applying breaks in Bike\")\n",
        "  \n",
        "class Auto(Vehicle):\n",
        "\n",
        "  def apply_break(self):\n",
        "    print(\"Applying breaks in Auto\")\n",
        "\n",
        "class Car(Vehicle):\n",
        "\n",
        "  def apply_break(self):\n",
        "    print(\"Applying breaks in Car\")\n",
        "\n",
        "class Bus(Vehicle):\n",
        "\n",
        "  def display(self):\n",
        "    print(\"I am Bus\")\n",
        "  \n",
        "  def press_break(self):\n",
        "    print(\"Applying breaks in Bus\")"
      ]
    },
    {
      "cell_type": "code",
      "source": [
        "b = Bike()\n",
        "b.apply_break()\n",
        "\n",
        "c = Car()\n",
        "c.apply_break()"
      ],
      "metadata": {
        "colab": {
          "base_uri": "https://localhost:8080/"
        },
        "id": "Jkj2E9D5x-XC",
        "outputId": "575ce345-84f3-423b-9c45-049ebb4c68de"
      },
      "execution_count": 23,
      "outputs": [
        {
          "output_type": "stream",
          "name": "stdout",
          "text": [
            "Applying breaks in Bike\n",
            "Applying breaks in Car\n"
          ]
        }
      ]
    },
    {
      "cell_type": "markdown",
      "source": [
        "If we see in above example, Bike, Auto and Car are implementing apply_break method as per there own logic but contract here is that if we have a Vehicle (any subclass of Vehicle), It should have an implementation of apply_break method to consider itself as Vehicle.\n",
        "\n",
        "<br>\n",
        "\n",
        "In above example, Bus is actually breaking that contract. It is giving its own version of apply_break as press_break but this does not go well with python (or any object oriented language). So below is the example of error which we get when we try to create an object of type Bus"
      ],
      "metadata": {
        "id": "Lv9Xcwa-4ubB"
      }
    },
    {
      "cell_type": "code",
      "source": [
        "bus = Bus()\n",
        "bus.press_break()"
      ],
      "metadata": {
        "colab": {
          "base_uri": "https://localhost:8080/",
          "height": 184
        },
        "id": "kwYb5EkvyLZD",
        "outputId": "7c3ab0fc-cf97-4aad-cff9-7832a00d1ec1"
      },
      "execution_count": 25,
      "outputs": [
        {
          "output_type": "error",
          "ename": "TypeError",
          "evalue": "ignored",
          "traceback": [
            "\u001b[0;31m---------------------------------------------------------------------------\u001b[0m",
            "\u001b[0;31mTypeError\u001b[0m                                 Traceback (most recent call last)",
            "\u001b[0;32m<ipython-input-25-f72db3551793>\u001b[0m in \u001b[0;36m<module>\u001b[0;34m\u001b[0m\n\u001b[0;32m----> 1\u001b[0;31m \u001b[0mbus\u001b[0m \u001b[0;34m=\u001b[0m \u001b[0mBus\u001b[0m\u001b[0;34m(\u001b[0m\u001b[0;34m)\u001b[0m\u001b[0;34m\u001b[0m\u001b[0;34m\u001b[0m\u001b[0m\n\u001b[0m\u001b[1;32m      2\u001b[0m \u001b[0mbus\u001b[0m\u001b[0;34m.\u001b[0m\u001b[0mpress_break\u001b[0m\u001b[0;34m(\u001b[0m\u001b[0;34m)\u001b[0m\u001b[0;34m\u001b[0m\u001b[0;34m\u001b[0m\u001b[0m\n",
            "\u001b[0;31mTypeError\u001b[0m: Can't instantiate abstract class Bus with abstract methods apply_break"
          ]
        }
      ]
    },
    {
      "cell_type": "markdown",
      "source": [
        "Though I am not calling apply_break on bus (As it does not have this method implemented), Python is telling me that I have two options.\n",
        "\n",
        "Either I don't call myself a Vehicle (remove Inheritence) or give the implementation of apply_break because client (user of this class) expects every vehicle to have a concrete apply_break method."
      ],
      "metadata": {
        "id": "nykV5SHo5e1n"
      }
    },
    {
      "cell_type": "markdown",
      "source": [
        "**Q2.** Differentiate between Abstraction and Encapsulation. Explain with an example."
      ],
      "metadata": {
        "id": "pSZXIOEW576d"
      }
    },
    {
      "cell_type": "markdown",
      "source": [
        "Abstraction and Encapsulation, both are hiding different aspects of an object. \n",
        "\n",
        "Encapsulation is used for hiding the data members from outside world so that no one can directly change data without going through methods where as Abstraction is used to hide the implementation details of methods.\n",
        "\n",
        "Below is the example"
      ],
      "metadata": {
        "id": "lApN45sB59Ca"
      }
    },
    {
      "cell_type": "code",
      "source": [
        "from abc import ABC,abstractmethod\n",
        "class Employee(ABC):\n",
        "\n",
        "  def __init__(self,name):\n",
        "    self.__name = name\n",
        "  \n",
        "  def get_name(self):\n",
        "    return self.__name\n",
        "  \n",
        "  def set_name(self,name):\n",
        "    self.__name = name\n",
        "\n",
        "  @abstractmethod\n",
        "  def get_skill(self):\n",
        "    pass"
      ],
      "metadata": {
        "id": "kfiEC-EIyOGf"
      },
      "execution_count": 14,
      "outputs": []
    },
    {
      "cell_type": "code",
      "source": [
        "class Developer(Employee):\n",
        "\n",
        "  def __init__(self,name):\n",
        "    super().__init__(name)\n",
        "  \n",
        "  def start_programming(self):\n",
        "    print(\"Started Writing Code\")\n",
        "  \n",
        "  def get_skill(self):\n",
        "    return \"Data Science\"\n",
        "\n",
        "\n",
        "class Tester(Employee):\n",
        "\n",
        "  def __init__(self,name):\n",
        "    super().__init__(name)\n",
        "  \n",
        "  def start_testing(self):\n",
        "    print(\"Started Testing Code\")\n",
        "  \n",
        "  def get_skill(self):\n",
        "    return \"Selenium\""
      ],
      "metadata": {
        "id": "1lDtAxTyzoRx"
      },
      "execution_count": 28,
      "outputs": []
    },
    {
      "cell_type": "code",
      "source": [
        "t = Tester(\"Aman\")\n",
        "t.start_testing()\n",
        "print(t.get_skill())"
      ],
      "metadata": {
        "colab": {
          "base_uri": "https://localhost:8080/"
        },
        "id": "itAdPPjv0XUE",
        "outputId": "d39a19b7-8145-4f44-8d0f-1bb5ee6de4e5"
      },
      "execution_count": 29,
      "outputs": [
        {
          "output_type": "stream",
          "name": "stdout",
          "text": [
            "Started Testing Code\n",
            "Selenium\n"
          ]
        }
      ]
    },
    {
      "cell_type": "code",
      "source": [
        "d = Developer(\"Hem\") \n",
        "d.start_programming()\n",
        "d.get_skill()"
      ],
      "metadata": {
        "colab": {
          "base_uri": "https://localhost:8080/",
          "height": 53
        },
        "id": "_DSZ9iCU0bX_",
        "outputId": "96b4aab3-fdb1-4953-c70c-af91eedb317b"
      },
      "execution_count": 30,
      "outputs": [
        {
          "output_type": "stream",
          "name": "stdout",
          "text": [
            "Started Writing Code\n"
          ]
        },
        {
          "output_type": "execute_result",
          "data": {
            "text/plain": [
              "'Data Science'"
            ],
            "application/vnd.google.colaboratory.intrinsic+json": {
              "type": "string"
            }
          },
          "metadata": {},
          "execution_count": 30
        }
      ]
    },
    {
      "cell_type": "markdown",
      "source": [
        "In above code, we see that any Employee is bound to have an implementation of skill but how am I giving my skill to outside world, thats upto me.\n",
        "\n",
        "For abstraction, if we create a developer and want to set the name, we can't directly do that using data member (because we made that private)"
      ],
      "metadata": {
        "id": "UeUDx1qH64A0"
      }
    },
    {
      "cell_type": "code",
      "source": [
        "d = Developer(\"Hem\") \n",
        "d.__name = \"Aman\" # This won't be able to change the value of name \n",
        "\n",
        "print(d.get_name())\n",
        "\n",
        "d.set_name(\"Aman\")\n",
        "\n",
        "print(d.get_name())"
      ],
      "metadata": {
        "colab": {
          "base_uri": "https://localhost:8080/"
        },
        "id": "SFX8LfsO0lr3",
        "outputId": "c601937d-4754-4ff0-e5e3-e857c58fbf0b"
      },
      "execution_count": 36,
      "outputs": [
        {
          "output_type": "stream",
          "name": "stdout",
          "text": [
            "Hem\n",
            "Aman\n"
          ]
        }
      ]
    },
    {
      "cell_type": "markdown",
      "source": [
        "**Q3**. What is abc module in python? Why is it used?"
      ],
      "metadata": {
        "id": "_B8u6_X77z8y"
      }
    },
    {
      "cell_type": "markdown",
      "source": [
        "ABC (abstract base class) is a module in python given for implementation of abstract classes. This contains all the support artifacts (classes Functions etc ) for implementing abstraction. "
      ],
      "metadata": {
        "id": "hI-oNBfo71Y5"
      }
    },
    {
      "cell_type": "markdown",
      "source": [
        "**Q4.** How can we achieve data abstraction?"
      ],
      "metadata": {
        "id": "9In8WnJc8Ow-"
      }
    },
    {
      "cell_type": "markdown",
      "source": [
        "Data Abstraction can be achieved through Encapsulation"
      ],
      "metadata": {
        "id": "pdsNxLQj8QP4"
      }
    },
    {
      "cell_type": "markdown",
      "source": [
        "**Q5.** Can we create an instance of an abstract class? Explain your answer."
      ],
      "metadata": {
        "id": "bRRTNPbk8a1P"
      }
    },
    {
      "cell_type": "markdown",
      "source": [
        "**Ans**\n",
        "\n",
        "We can not create the object of an abstract class because the idea of abstract class itself is to have an incomplete class which does not know implementation for some of its member functions of fields. So If we create an object, we have no idea on how to respond to those unknown function calls"
      ],
      "metadata": {
        "id": "a1uXztPU8cfN"
      }
    },
    {
      "cell_type": "code",
      "source": [
        "from abc import ABC,abstractmethod\n",
        "class Employee(ABC):\n",
        "\n",
        "  def __init__(self,name):\n",
        "    self.__name = name\n",
        "  \n",
        "  def get_name(self):\n",
        "    return self.__name\n",
        "  \n",
        "  def set_name(self,name):\n",
        "    self.__name = name\n",
        "\n",
        "  @abstractmethod\n",
        "  def get_skill(self):\n",
        "    pass"
      ],
      "metadata": {
        "id": "PF0RNERm7TDV"
      },
      "execution_count": 37,
      "outputs": []
    },
    {
      "cell_type": "code",
      "source": [
        "emp = Employee()"
      ],
      "metadata": {
        "colab": {
          "base_uri": "https://localhost:8080/",
          "height": 166
        },
        "id": "vhrPimQY80sU",
        "outputId": "8e16b2d0-31f5-4b26-ad79-b3c55cf5a730"
      },
      "execution_count": 38,
      "outputs": [
        {
          "output_type": "error",
          "ename": "TypeError",
          "evalue": "ignored",
          "traceback": [
            "\u001b[0;31m---------------------------------------------------------------------------\u001b[0m",
            "\u001b[0;31mTypeError\u001b[0m                                 Traceback (most recent call last)",
            "\u001b[0;32m<ipython-input-38-1b9bbc958439>\u001b[0m in \u001b[0;36m<module>\u001b[0;34m\u001b[0m\n\u001b[0;32m----> 1\u001b[0;31m \u001b[0memp\u001b[0m \u001b[0;34m=\u001b[0m \u001b[0mEmployee\u001b[0m\u001b[0;34m(\u001b[0m\u001b[0;34m)\u001b[0m\u001b[0;34m\u001b[0m\u001b[0;34m\u001b[0m\u001b[0m\n\u001b[0m",
            "\u001b[0;31mTypeError\u001b[0m: Can't instantiate abstract class Employee with abstract methods get_skill"
          ]
        }
      ]
    },
    {
      "cell_type": "markdown",
      "source": [
        "In above code, I can't instantiate Employee class because if someone calls get_skill method on that object, we have no idea how to respond to that> "
      ],
      "metadata": {
        "id": "wAXt8hcA84da"
      }
    },
    {
      "cell_type": "code",
      "source": [],
      "metadata": {
        "id": "pq3rbKI6821r"
      },
      "execution_count": null,
      "outputs": []
    }
  ]
}