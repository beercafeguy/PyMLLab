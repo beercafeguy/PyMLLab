{
  "nbformat": 4,
  "nbformat_minor": 0,
  "metadata": {
    "colab": {
      "provenance": [],
      "authorship_tag": "ABX9TyOK+eTgVS2DXqhk3QV6vHUx",
      "include_colab_link": true
    },
    "kernelspec": {
      "name": "python3",
      "display_name": "Python 3"
    },
    "language_info": {
      "name": "python"
    }
  },
  "cells": [
    {
      "cell_type": "markdown",
      "metadata": {
        "id": "view-in-github",
        "colab_type": "text"
      },
      "source": [
        "<a href=\"https://colab.research.google.com/github/beercafeguy/PyMLLab/blob/master/ML_A_Z/regression/logistic_regression.ipynb\" target=\"_parent\"><img src=\"https://colab.research.google.com/assets/colab-badge.svg\" alt=\"Open In Colab\"/></a>"
      ]
    },
    {
      "cell_type": "code",
      "execution_count": 2,
      "metadata": {
        "id": "iQdwwssTA_II"
      },
      "outputs": [],
      "source": [
        "import pandas as pd\n",
        "import numpy as np\n",
        "import matplotlib.pyplot as plt"
      ]
    },
    {
      "cell_type": "code",
      "source": [
        "from google.colab import drive\n",
        "drive.mount('/content/drive')"
      ],
      "metadata": {
        "colab": {
          "base_uri": "https://localhost:8080/"
        },
        "id": "awPkqa-WBFx6",
        "outputId": "5d8afa5f-95da-4f96-fcdf-85058dc4801c"
      },
      "execution_count": 3,
      "outputs": [
        {
          "output_type": "stream",
          "name": "stdout",
          "text": [
            "Drive already mounted at /content/drive; to attempt to forcibly remount, call drive.mount(\"/content/drive\", force_remount=True).\n"
          ]
        }
      ]
    },
    {
      "cell_type": "code",
      "source": [
        "!ls -ltr /content/drive/MyDrive/ML_A_Z/Part_3_Classification/Section_14_Logistic_Regression/Python/Social_Network_Ads.csv"
      ],
      "metadata": {
        "colab": {
          "base_uri": "https://localhost:8080/"
        },
        "id": "TuLyGzSmBPI-",
        "outputId": "67047b33-c865-452f-e5b5-cb54e6d56951"
      },
      "execution_count": 4,
      "outputs": [
        {
          "output_type": "stream",
          "name": "stdout",
          "text": [
            "-rw------- 1 root root 4903 May  3  2020 /content/drive/MyDrive/ML_A_Z/Part_3_Classification/Section_14_Logistic_Regression/Python/Social_Network_Ads.csv\n"
          ]
        }
      ]
    },
    {
      "cell_type": "code",
      "source": [
        "path = '/content/drive/MyDrive/ML_A_Z/Part_3_Classification/Section_14_Logistic_Regression/Python/Social_Network_Ads.csv'"
      ],
      "metadata": {
        "id": "ii0ajkSNBHWs"
      },
      "execution_count": 5,
      "outputs": []
    },
    {
      "cell_type": "code",
      "source": [
        "df = pd.read_csv(path)\n",
        "df.head()"
      ],
      "metadata": {
        "colab": {
          "base_uri": "https://localhost:8080/",
          "height": 206
        },
        "id": "fhAgy6SrBZXn",
        "outputId": "a946e584-025c-4400-d9d0-f803180f3aad"
      },
      "execution_count": 6,
      "outputs": [
        {
          "output_type": "execute_result",
          "data": {
            "text/plain": [
              "   Age  EstimatedSalary  Purchased\n",
              "0   19            19000          0\n",
              "1   35            20000          0\n",
              "2   26            43000          0\n",
              "3   27            57000          0\n",
              "4   19            76000          0"
            ],
            "text/html": [
              "\n",
              "\n",
              "  <div id=\"df-ea9ae80a-d03b-463d-9e4f-0bd66ecd5930\">\n",
              "    <div class=\"colab-df-container\">\n",
              "      <div>\n",
              "<style scoped>\n",
              "    .dataframe tbody tr th:only-of-type {\n",
              "        vertical-align: middle;\n",
              "    }\n",
              "\n",
              "    .dataframe tbody tr th {\n",
              "        vertical-align: top;\n",
              "    }\n",
              "\n",
              "    .dataframe thead th {\n",
              "        text-align: right;\n",
              "    }\n",
              "</style>\n",
              "<table border=\"1\" class=\"dataframe\">\n",
              "  <thead>\n",
              "    <tr style=\"text-align: right;\">\n",
              "      <th></th>\n",
              "      <th>Age</th>\n",
              "      <th>EstimatedSalary</th>\n",
              "      <th>Purchased</th>\n",
              "    </tr>\n",
              "  </thead>\n",
              "  <tbody>\n",
              "    <tr>\n",
              "      <th>0</th>\n",
              "      <td>19</td>\n",
              "      <td>19000</td>\n",
              "      <td>0</td>\n",
              "    </tr>\n",
              "    <tr>\n",
              "      <th>1</th>\n",
              "      <td>35</td>\n",
              "      <td>20000</td>\n",
              "      <td>0</td>\n",
              "    </tr>\n",
              "    <tr>\n",
              "      <th>2</th>\n",
              "      <td>26</td>\n",
              "      <td>43000</td>\n",
              "      <td>0</td>\n",
              "    </tr>\n",
              "    <tr>\n",
              "      <th>3</th>\n",
              "      <td>27</td>\n",
              "      <td>57000</td>\n",
              "      <td>0</td>\n",
              "    </tr>\n",
              "    <tr>\n",
              "      <th>4</th>\n",
              "      <td>19</td>\n",
              "      <td>76000</td>\n",
              "      <td>0</td>\n",
              "    </tr>\n",
              "  </tbody>\n",
              "</table>\n",
              "</div>\n",
              "      <button class=\"colab-df-convert\" onclick=\"convertToInteractive('df-ea9ae80a-d03b-463d-9e4f-0bd66ecd5930')\"\n",
              "              title=\"Convert this dataframe to an interactive table.\"\n",
              "              style=\"display:none;\">\n",
              "\n",
              "  <svg xmlns=\"http://www.w3.org/2000/svg\" height=\"24px\"viewBox=\"0 0 24 24\"\n",
              "       width=\"24px\">\n",
              "    <path d=\"M0 0h24v24H0V0z\" fill=\"none\"/>\n",
              "    <path d=\"M18.56 5.44l.94 2.06.94-2.06 2.06-.94-2.06-.94-.94-2.06-.94 2.06-2.06.94zm-11 1L8.5 8.5l.94-2.06 2.06-.94-2.06-.94L8.5 2.5l-.94 2.06-2.06.94zm10 10l.94 2.06.94-2.06 2.06-.94-2.06-.94-.94-2.06-.94 2.06-2.06.94z\"/><path d=\"M17.41 7.96l-1.37-1.37c-.4-.4-.92-.59-1.43-.59-.52 0-1.04.2-1.43.59L10.3 9.45l-7.72 7.72c-.78.78-.78 2.05 0 2.83L4 21.41c.39.39.9.59 1.41.59.51 0 1.02-.2 1.41-.59l7.78-7.78 2.81-2.81c.8-.78.8-2.07 0-2.86zM5.41 20L4 18.59l7.72-7.72 1.47 1.35L5.41 20z\"/>\n",
              "  </svg>\n",
              "      </button>\n",
              "\n",
              "\n",
              "\n",
              "    <div id=\"df-71eda33e-0b0d-444b-94c6-9304dbc87b22\">\n",
              "      <button class=\"colab-df-quickchart\" onclick=\"quickchart('df-71eda33e-0b0d-444b-94c6-9304dbc87b22')\"\n",
              "              title=\"Suggest charts.\"\n",
              "              style=\"display:none;\">\n",
              "\n",
              "<svg xmlns=\"http://www.w3.org/2000/svg\" height=\"24px\"viewBox=\"0 0 24 24\"\n",
              "     width=\"24px\">\n",
              "    <g>\n",
              "        <path d=\"M19 3H5c-1.1 0-2 .9-2 2v14c0 1.1.9 2 2 2h14c1.1 0 2-.9 2-2V5c0-1.1-.9-2-2-2zM9 17H7v-7h2v7zm4 0h-2V7h2v10zm4 0h-2v-4h2v4z\"/>\n",
              "    </g>\n",
              "</svg>\n",
              "      </button>\n",
              "    </div>\n",
              "\n",
              "<style>\n",
              "  .colab-df-quickchart {\n",
              "    background-color: #E8F0FE;\n",
              "    border: none;\n",
              "    border-radius: 50%;\n",
              "    cursor: pointer;\n",
              "    display: none;\n",
              "    fill: #1967D2;\n",
              "    height: 32px;\n",
              "    padding: 0 0 0 0;\n",
              "    width: 32px;\n",
              "  }\n",
              "\n",
              "  .colab-df-quickchart:hover {\n",
              "    background-color: #E2EBFA;\n",
              "    box-shadow: 0px 1px 2px rgba(60, 64, 67, 0.3), 0px 1px 3px 1px rgba(60, 64, 67, 0.15);\n",
              "    fill: #174EA6;\n",
              "  }\n",
              "\n",
              "  [theme=dark] .colab-df-quickchart {\n",
              "    background-color: #3B4455;\n",
              "    fill: #D2E3FC;\n",
              "  }\n",
              "\n",
              "  [theme=dark] .colab-df-quickchart:hover {\n",
              "    background-color: #434B5C;\n",
              "    box-shadow: 0px 1px 3px 1px rgba(0, 0, 0, 0.15);\n",
              "    filter: drop-shadow(0px 1px 2px rgba(0, 0, 0, 0.3));\n",
              "    fill: #FFFFFF;\n",
              "  }\n",
              "</style>\n",
              "\n",
              "    <script>\n",
              "      async function quickchart(key) {\n",
              "        const containerElement = document.querySelector('#' + key);\n",
              "        const charts = await google.colab.kernel.invokeFunction(\n",
              "            'suggestCharts', [key], {});\n",
              "      }\n",
              "    </script>\n",
              "\n",
              "      <script>\n",
              "\n",
              "function displayQuickchartButton(domScope) {\n",
              "  let quickchartButtonEl =\n",
              "    domScope.querySelector('#df-71eda33e-0b0d-444b-94c6-9304dbc87b22 button.colab-df-quickchart');\n",
              "  quickchartButtonEl.style.display =\n",
              "    google.colab.kernel.accessAllowed ? 'block' : 'none';\n",
              "}\n",
              "\n",
              "        displayQuickchartButton(document);\n",
              "      </script>\n",
              "      <style>\n",
              "    .colab-df-container {\n",
              "      display:flex;\n",
              "      flex-wrap:wrap;\n",
              "      gap: 12px;\n",
              "    }\n",
              "\n",
              "    .colab-df-convert {\n",
              "      background-color: #E8F0FE;\n",
              "      border: none;\n",
              "      border-radius: 50%;\n",
              "      cursor: pointer;\n",
              "      display: none;\n",
              "      fill: #1967D2;\n",
              "      height: 32px;\n",
              "      padding: 0 0 0 0;\n",
              "      width: 32px;\n",
              "    }\n",
              "\n",
              "    .colab-df-convert:hover {\n",
              "      background-color: #E2EBFA;\n",
              "      box-shadow: 0px 1px 2px rgba(60, 64, 67, 0.3), 0px 1px 3px 1px rgba(60, 64, 67, 0.15);\n",
              "      fill: #174EA6;\n",
              "    }\n",
              "\n",
              "    [theme=dark] .colab-df-convert {\n",
              "      background-color: #3B4455;\n",
              "      fill: #D2E3FC;\n",
              "    }\n",
              "\n",
              "    [theme=dark] .colab-df-convert:hover {\n",
              "      background-color: #434B5C;\n",
              "      box-shadow: 0px 1px 3px 1px rgba(0, 0, 0, 0.15);\n",
              "      filter: drop-shadow(0px 1px 2px rgba(0, 0, 0, 0.3));\n",
              "      fill: #FFFFFF;\n",
              "    }\n",
              "  </style>\n",
              "\n",
              "      <script>\n",
              "        const buttonEl =\n",
              "          document.querySelector('#df-ea9ae80a-d03b-463d-9e4f-0bd66ecd5930 button.colab-df-convert');\n",
              "        buttonEl.style.display =\n",
              "          google.colab.kernel.accessAllowed ? 'block' : 'none';\n",
              "\n",
              "        async function convertToInteractive(key) {\n",
              "          const element = document.querySelector('#df-ea9ae80a-d03b-463d-9e4f-0bd66ecd5930');\n",
              "          const dataTable =\n",
              "            await google.colab.kernel.invokeFunction('convertToInteractive',\n",
              "                                                     [key], {});\n",
              "          if (!dataTable) return;\n",
              "\n",
              "          const docLinkHtml = 'Like what you see? Visit the ' +\n",
              "            '<a target=\"_blank\" href=https://colab.research.google.com/notebooks/data_table.ipynb>data table notebook</a>'\n",
              "            + ' to learn more about interactive tables.';\n",
              "          element.innerHTML = '';\n",
              "          dataTable['output_type'] = 'display_data';\n",
              "          await google.colab.output.renderOutput(dataTable, element);\n",
              "          const docLink = document.createElement('div');\n",
              "          docLink.innerHTML = docLinkHtml;\n",
              "          element.appendChild(docLink);\n",
              "        }\n",
              "      </script>\n",
              "    </div>\n",
              "  </div>\n"
            ]
          },
          "metadata": {},
          "execution_count": 6
        }
      ]
    },
    {
      "cell_type": "code",
      "source": [
        "df.shape"
      ],
      "metadata": {
        "colab": {
          "base_uri": "https://localhost:8080/"
        },
        "id": "4rsmalBEBcHo",
        "outputId": "81990ff1-bfb4-481d-d461-6244196a3f84"
      },
      "execution_count": 7,
      "outputs": [
        {
          "output_type": "execute_result",
          "data": {
            "text/plain": [
              "(400, 3)"
            ]
          },
          "metadata": {},
          "execution_count": 7
        }
      ]
    },
    {
      "cell_type": "code",
      "source": [
        "df.isnull().sum()"
      ],
      "metadata": {
        "colab": {
          "base_uri": "https://localhost:8080/"
        },
        "id": "1BY0P_CcBdLE",
        "outputId": "09558ef2-2003-4ea6-f092-ca8f2111c54c"
      },
      "execution_count": 8,
      "outputs": [
        {
          "output_type": "execute_result",
          "data": {
            "text/plain": [
              "Age                0\n",
              "EstimatedSalary    0\n",
              "Purchased          0\n",
              "dtype: int64"
            ]
          },
          "metadata": {},
          "execution_count": 8
        }
      ]
    },
    {
      "cell_type": "code",
      "source": [
        "df.Purchased.value_counts()"
      ],
      "metadata": {
        "colab": {
          "base_uri": "https://localhost:8080/"
        },
        "id": "mBhHb9ZABevw",
        "outputId": "b65f95d2-cb34-4b01-f67e-cd6f75c5da3d"
      },
      "execution_count": 9,
      "outputs": [
        {
          "output_type": "execute_result",
          "data": {
            "text/plain": [
              "0    257\n",
              "1    143\n",
              "Name: Purchased, dtype: int64"
            ]
          },
          "metadata": {},
          "execution_count": 9
        }
      ]
    },
    {
      "cell_type": "code",
      "source": [
        "%matplotlib inline\n",
        "\n",
        "df.Purchased.value_counts().plot(kind='bar')"
      ],
      "metadata": {
        "colab": {
          "base_uri": "https://localhost:8080/",
          "height": 442
        },
        "id": "qZX2mYt6BoG-",
        "outputId": "ff63b37d-6a70-4536-8fa9-9ba4a41a1536"
      },
      "execution_count": 10,
      "outputs": [
        {
          "output_type": "execute_result",
          "data": {
            "text/plain": [
              "<Axes: >"
            ]
          },
          "metadata": {},
          "execution_count": 10
        },
        {
          "output_type": "display_data",
          "data": {
            "text/plain": [
              "<Figure size 640x480 with 1 Axes>"
            ],
            "image/png": "[encoded data removed]"
          },
          "metadata": {}
        }
      ]
    },
    {
      "cell_type": "code",
      "source": [
        "df"
      ],
      "metadata": {
        "colab": {
          "base_uri": "https://localhost:8080/",
          "height": 424
        },
        "id": "YiS-OAZFBxBQ",
        "outputId": "8ef63564-f25f-403e-c83c-37ce3a2e6cb8"
      },
      "execution_count": 11,
      "outputs": [
        {
          "output_type": "execute_result",
          "data": {
            "text/plain": [
              "     Age  EstimatedSalary  Purchased\n",
              "0     19            19000          0\n",
              "1     35            20000          0\n",
              "2     26            43000          0\n",
              "3     27            57000          0\n",
              "4     19            76000          0\n",
              "..   ...              ...        ...\n",
              "395   46            41000          1\n",
              "396   51            23000          1\n",
              "397   50            20000          1\n",
              "398   36            33000          0\n",
              "399   49            36000          1\n",
              "\n",
              "[400 rows x 3 columns]"
            ],
            "text/html": [
              "\n",
              "\n",
              "  <div id=\"df-9dfdcbb8-f032-44b9-b20f-2717afb86230\">\n",
              "    <div class=\"colab-df-container\">\n",
              "      <div>\n",
              "<style scoped>\n",
              "    .dataframe tbody tr th:only-of-type {\n",
              "        vertical-align: middle;\n",
              "    }\n",
              "\n",
              "    .dataframe tbody tr th {\n",
              "        vertical-align: top;\n",
              "    }\n",
              "\n",
              "    .dataframe thead th {\n",
              "        text-align: right;\n",
              "    }\n",
              "</style>\n",
              "<table border=\"1\" class=\"dataframe\">\n",
              "  <thead>\n",
              "    <tr style=\"text-align: right;\">\n",
              "      <th></th>\n",
              "      <th>Age</th>\n",
              "      <th>EstimatedSalary</th>\n",
              "      <th>Purchased</th>\n",
              "    </tr>\n",
              "  </thead>\n",
              "  <tbody>\n",
              "    <tr>\n",
              "      <th>0</th>\n",
              "      <td>19</td>\n",
              "      <td>19000</td>\n",
              "      <td>0</td>\n",
              "    </tr>\n",
              "    <tr>\n",
              "      <th>1</th>\n",
              "      <td>35</td>\n",
              "      <td>20000</td>\n",
              "      <td>0</td>\n",
              "    </tr>\n",
              "    <tr>\n",
              "      <th>2</th>\n",
              "      <td>26</td>\n",
              "      <td>43000</td>\n",
              "      <td>0</td>\n",
              "    </tr>\n",
              "    <tr>\n",
              "      <th>3</th>\n",
              "      <td>27</td>\n",
              "      <td>57000</td>\n",
              "      <td>0</td>\n",
              "    </tr>\n",
              "    <tr>\n",
              "      <th>4</th>\n",
              "      <td>19</td>\n",
              "      <td>76000</td>\n",
              "      <td>0</td>\n",
              "    </tr>\n",
              "    <tr>\n",
              "      <th>...</th>\n",
              "      <td>...</td>\n",
              "      <td>...</td>\n",
              "      <td>...</td>\n",
              "    </tr>\n",
              "    <tr>\n",
              "      <th>395</th>\n",
              "      <td>46</td>\n",
              "      <td>41000</td>\n",
              "      <td>1</td>\n",
              "    </tr>\n",
              "    <tr>\n",
              "      <th>396</th>\n",
              "      <td>51</td>\n",
              "      <td>23000</td>\n",
              "      <td>1</td>\n",
              "    </tr>\n",
              "    <tr>\n",
              "      <th>397</th>\n",
              "      <td>50</td>\n",
              "      <td>20000</td>\n",
              "      <td>1</td>\n",
              "    </tr>\n",
              "    <tr>\n",
              "      <th>398</th>\n",
              "      <td>36</td>\n",
              "      <td>33000</td>\n",
              "      <td>0</td>\n",
              "    </tr>\n",
              "    <tr>\n",
              "      <th>399</th>\n",
              "      <td>49</td>\n",
              "      <td>36000</td>\n",
              "      <td>1</td>\n",
              "    </tr>\n",
              "  </tbody>\n",
              "</table>\n",
              "<p>400 rows × 3 columns</p>\n",
              "</div>\n",
              "      <button class=\"colab-df-convert\" onclick=\"convertToInteractive('df-9dfdcbb8-f032-44b9-b20f-2717afb86230')\"\n",
              "              title=\"Convert this dataframe to an interactive table.\"\n",
              "              style=\"display:none;\">\n",
              "\n",
              "  <svg xmlns=\"http://www.w3.org/2000/svg\" height=\"24px\"viewBox=\"0 0 24 24\"\n",
              "       width=\"24px\">\n",
              "    <path d=\"M0 0h24v24H0V0z\" fill=\"none\"/>\n",
              "    <path d=\"M18.56 5.44l.94 2.06.94-2.06 2.06-.94-2.06-.94-.94-2.06-.94 2.06-2.06.94zm-11 1L8.5 8.5l.94-2.06 2.06-.94-2.06-.94L8.5 2.5l-.94 2.06-2.06.94zm10 10l.94 2.06.94-2.06 2.06-.94-2.06-.94-.94-2.06-.94 2.06-2.06.94z\"/><path d=\"M17.41 7.96l-1.37-1.37c-.4-.4-.92-.59-1.43-.59-.52 0-1.04.2-1.43.59L10.3 9.45l-7.72 7.72c-.78.78-.78 2.05 0 2.83L4 21.41c.39.39.9.59 1.41.59.51 0 1.02-.2 1.41-.59l7.78-7.78 2.81-2.81c.8-.78.8-2.07 0-2.86zM5.41 20L4 18.59l7.72-7.72 1.47 1.35L5.41 20z\"/>\n",
              "  </svg>\n",
              "      </button>\n",
              "\n",
              "\n",
              "\n",
              "    <div id=\"df-544a64cb-1fb6-4b1f-832a-9323d421338d\">\n",
              "      <button class=\"colab-df-quickchart\" onclick=\"quickchart('df-544a64cb-1fb6-4b1f-832a-9323d421338d')\"\n",
              "              title=\"Suggest charts.\"\n",
              "              style=\"display:none;\">\n",
              "\n",
              "<svg xmlns=\"http://www.w3.org/2000/svg\" height=\"24px\"viewBox=\"0 0 24 24\"\n",
              "     width=\"24px\">\n",
              "    <g>\n",
              "        <path d=\"M19 3H5c-1.1 0-2 .9-2 2v14c0 1.1.9 2 2 2h14c1.1 0 2-.9 2-2V5c0-1.1-.9-2-2-2zM9 17H7v-7h2v7zm4 0h-2V7h2v10zm4 0h-2v-4h2v4z\"/>\n",
              "    </g>\n",
              "</svg>\n",
              "      </button>\n",
              "    </div>\n",
              "\n",
              "<style>\n",
              "  .colab-df-quickchart {\n",
              "    background-color: #E8F0FE;\n",
              "    border: none;\n",
              "    border-radius: 50%;\n",
              "    cursor: pointer;\n",
              "    display: none;\n",
              "    fill: #1967D2;\n",
              "    height: 32px;\n",
              "    padding: 0 0 0 0;\n",
              "    width: 32px;\n",
              "  }\n",
              "\n",
              "  .colab-df-quickchart:hover {\n",
              "    background-color: #E2EBFA;\n",
              "    box-shadow: 0px 1px 2px rgba(60, 64, 67, 0.3), 0px 1px 3px 1px rgba(60, 64, 67, 0.15);\n",
              "    fill: #174EA6;\n",
              "  }\n",
              "\n",
              "  [theme=dark] .colab-df-quickchart {\n",
              "    background-color: #3B4455;\n",
              "    fill: #D2E3FC;\n",
              "  }\n",
              "\n",
              "  [theme=dark] .colab-df-quickchart:hover {\n",
              "    background-color: #434B5C;\n",
              "    box-shadow: 0px 1px 3px 1px rgba(0, 0, 0, 0.15);\n",
              "    filter: drop-shadow(0px 1px 2px rgba(0, 0, 0, 0.3));\n",
              "    fill: #FFFFFF;\n",
              "  }\n",
              "</style>\n",
              "\n",
              "    <script>\n",
              "      async function quickchart(key) {\n",
              "        const containerElement = document.querySelector('#' + key);\n",
              "        const charts = await google.colab.kernel.invokeFunction(\n",
              "            'suggestCharts', [key], {});\n",
              "      }\n",
              "    </script>\n",
              "\n",
              "      <script>\n",
              "\n",
              "function displayQuickchartButton(domScope) {\n",
              "  let quickchartButtonEl =\n",
              "    domScope.querySelector('#df-544a64cb-1fb6-4b1f-832a-9323d421338d button.colab-df-quickchart');\n",
              "  quickchartButtonEl.style.display =\n",
              "    google.colab.kernel.accessAllowed ? 'block' : 'none';\n",
              "}\n",
              "\n",
              "        displayQuickchartButton(document);\n",
              "      </script>\n",
              "      <style>\n",
              "    .colab-df-container {\n",
              "      display:flex;\n",
              "      flex-wrap:wrap;\n",
              "      gap: 12px;\n",
              "    }\n",
              "\n",
              "    .colab-df-convert {\n",
              "      background-color: #E8F0FE;\n",
              "      border: none;\n",
              "      border-radius: 50%;\n",
              "      cursor: pointer;\n",
              "      display: none;\n",
              "      fill: #1967D2;\n",
              "      height: 32px;\n",
              "      padding: 0 0 0 0;\n",
              "      width: 32px;\n",
              "    }\n",
              "\n",
              "    .colab-df-convert:hover {\n",
              "      background-color: #E2EBFA;\n",
              "      box-shadow: 0px 1px 2px rgba(60, 64, 67, 0.3), 0px 1px 3px 1px rgba(60, 64, 67, 0.15);\n",
              "      fill: #174EA6;\n",
              "    }\n",
              "\n",
              "    [theme=dark] .colab-df-convert {\n",
              "      background-color: #3B4455;\n",
              "      fill: #D2E3FC;\n",
              "    }\n",
              "\n",
              "    [theme=dark] .colab-df-convert:hover {\n",
              "      background-color: #434B5C;\n",
              "      box-shadow: 0px 1px 3px 1px rgba(0, 0, 0, 0.15);\n",
              "      filter: drop-shadow(0px 1px 2px rgba(0, 0, 0, 0.3));\n",
              "      fill: #FFFFFF;\n",
              "    }\n",
              "  </style>\n",
              "\n",
              "      <script>\n",
              "        const buttonEl =\n",
              "          document.querySelector('#df-9dfdcbb8-f032-44b9-b20f-2717afb86230 button.colab-df-convert');\n",
              "        buttonEl.style.display =\n",
              "          google.colab.kernel.accessAllowed ? 'block' : 'none';\n",
              "\n",
              "        async function convertToInteractive(key) {\n",
              "          const element = document.querySelector('#df-9dfdcbb8-f032-44b9-b20f-2717afb86230');\n",
              "          const dataTable =\n",
              "            await google.colab.kernel.invokeFunction('convertToInteractive',\n",
              "                                                     [key], {});\n",
              "          if (!dataTable) return;\n",
              "\n",
              "          const docLinkHtml = 'Like what you see? Visit the ' +\n",
              "            '<a target=\"_blank\" href=https://colab.research.google.com/notebooks/data_table.ipynb>data table notebook</a>'\n",
              "            + ' to learn more about interactive tables.';\n",
              "          element.innerHTML = '';\n",
              "          dataTable['output_type'] = 'display_data';\n",
              "          await google.colab.output.renderOutput(dataTable, element);\n",
              "          const docLink = document.createElement('div');\n",
              "          docLink.innerHTML = docLinkHtml;\n",
              "          element.appendChild(docLink);\n",
              "        }\n",
              "      </script>\n",
              "    </div>\n",
              "  </div>\n"
            ]
          },
          "metadata": {},
          "execution_count": 11
        }
      ]
    },
    {
      "cell_type": "code",
      "source": [
        "X = df.iloc[:,:-1].values\n",
        "y = df.iloc[:,-1].values"
      ],
      "metadata": {
        "id": "cV0k6TtxDVBR"
      },
      "execution_count": 12,
      "outputs": []
    },
    {
      "cell_type": "code",
      "source": [
        "X"
      ],
      "metadata": {
        "colab": {
          "base_uri": "https://localhost:8080/"
        },
        "id": "fNtJ6Si9DfwR",
        "outputId": "23268330-eddd-4d6c-9d0a-335393cda725"
      },
      "execution_count": 13,
      "outputs": [
        {
          "output_type": "execute_result",
          "data": {
            "text/plain": [
              "array([[    19,  19000],\n",
              "       [    35,  20000],\n",
              "       [    26,  43000],\n",
              "       [    27,  57000],\n",
              "       [    19,  76000],\n",
              "       [    27,  58000],\n",
              "       [    27,  84000],\n",
              "       [    32, 150000],\n",
              "       [    25,  33000],\n",
              "       [    35,  65000],\n",
              "       [    26,  80000],\n",
              "       [    26,  52000],\n",
              "       [    20,  86000],\n",
              "       [    32,  18000],\n",
              "       [    18,  82000],\n",
              "       [    29,  80000],\n",
              "       [    47,  25000],\n",
              "       [    45,  26000],\n",
              "       [    46,  28000],\n",
              "       [    48,  29000],\n",
              "       [    45,  22000],\n",
              "       [    47,  49000],\n",
              "       [    48,  41000],\n",
              "       [    45,  22000],\n",
              "       [    46,  23000],\n",
              "       [    47,  20000],\n",
              "       [    49,  28000],\n",
              "       [    47,  30000],\n",
              "       [    29,  43000],\n",
              "       [    31,  18000],\n",
              "       [    31,  74000],\n",
              "       [    27, 137000],\n",
              "       [    21,  16000],\n",
              "       [    28,  44000],\n",
              "       [    27,  90000],\n",
              "       [    35,  27000],\n",
              "       [    33,  28000],\n",
              "       [    30,  49000],\n",
              "       [    26,  72000],\n",
              "       [    27,  31000],\n",
              "       [    27,  17000],\n",
              "       [    33,  51000],\n",
              "       [    35, 108000],\n",
              "       [    30,  15000],\n",
              "       [    28,  84000],\n",
              "       [    23,  20000],\n",
              "       [    25,  79000],\n",
              "       [    27,  54000],\n",
              "       [    30, 135000],\n",
              "       [    31,  89000],\n",
              "       [    24,  32000],\n",
              "       [    18,  44000],\n",
              "       [    29,  83000],\n",
              "       [    35,  23000],\n",
              "       [    27,  58000],\n",
              "       [    24,  55000],\n",
              "       [    23,  48000],\n",
              "       [    28,  79000],\n",
              "       [    22,  18000],\n",
              "       [    32, 117000],\n",
              "       [    27,  20000],\n",
              "       [    25,  87000],\n",
              "       [    23,  66000],\n",
              "       [    32, 120000],\n",
              "       [    59,  83000],\n",
              "       [    24,  58000],\n",
              "       [    24,  19000],\n",
              "       [    23,  82000],\n",
              "       [    22,  63000],\n",
              "       [    31,  68000],\n",
              "       [    25,  80000],\n",
              "       [    24,  27000],\n",
              "       [    20,  23000],\n",
              "       [    33, 113000],\n",
              "       [    32,  18000],\n",
              "       [    34, 112000],\n",
              "       [    18,  52000],\n",
              "       [    22,  27000],\n",
              "       [    28,  87000],\n",
              "       [    26,  17000],\n",
              "       [    30,  80000],\n",
              "       [    39,  42000],\n",
              "       [    20,  49000],\n",
              "       [    35,  88000],\n",
              "       [    30,  62000],\n",
              "       [    31, 118000],\n",
              "       [    24,  55000],\n",
              "       [    28,  85000],\n",
              "       [    26,  81000],\n",
              "       [    35,  50000],\n",
              "       [    22,  81000],\n",
              "       [    30, 116000],\n",
              "       [    26,  15000],\n",
              "       [    29,  28000],\n",
              "       [    29,  83000],\n",
              "       [    35,  44000],\n",
              "       [    35,  25000],\n",
              "       [    28, 123000],\n",
              "       [    35,  73000],\n",
              "       [    28,  37000],\n",
              "       [    27,  88000],\n",
              "       [    28,  59000],\n",
              "       [    32,  86000],\n",
              "       [    33, 149000],\n",
              "       [    19,  21000],\n",
              "       [    21,  72000],\n",
              "       [    26,  35000],\n",
              "       [    27,  89000],\n",
              "       [    26,  86000],\n",
              "       [    38,  80000],\n",
              "       [    39,  71000],\n",
              "       [    37,  71000],\n",
              "       [    38,  61000],\n",
              "       [    37,  55000],\n",
              "       [    42,  80000],\n",
              "       [    40,  57000],\n",
              "       [    35,  75000],\n",
              "       [    36,  52000],\n",
              "       [    40,  59000],\n",
              "       [    41,  59000],\n",
              "       [    36,  75000],\n",
              "       [    37,  72000],\n",
              "       [    40,  75000],\n",
              "       [    35,  53000],\n",
              "       [    41,  51000],\n",
              "       [    39,  61000],\n",
              "       [    42,  65000],\n",
              "       [    26,  32000],\n",
              "       [    30,  17000],\n",
              "       [    26,  84000],\n",
              "       [    31,  58000],\n",
              "       [    33,  31000],\n",
              "       [    30,  87000],\n",
              "       [    21,  68000],\n",
              "       [    28,  55000],\n",
              "       [    23,  63000],\n",
              "       [    20,  82000],\n",
              "       [    30, 107000],\n",
              "       [    28,  59000],\n",
              "       [    19,  25000],\n",
              "       [    19,  85000],\n",
              "       [    18,  68000],\n",
              "       [    35,  59000],\n",
              "       [    30,  89000],\n",
              "       [    34,  25000],\n",
              "       [    24,  89000],\n",
              "       [    27,  96000],\n",
              "       [    41,  30000],\n",
              "       [    29,  61000],\n",
              "       [    20,  74000],\n",
              "       [    26,  15000],\n",
              "       [    41,  45000],\n",
              "       [    31,  76000],\n",
              "       [    36,  50000],\n",
              "       [    40,  47000],\n",
              "       [    31,  15000],\n",
              "       [    46,  59000],\n",
              "       [    29,  75000],\n",
              "       [    26,  30000],\n",
              "       [    32, 135000],\n",
              "       [    32, 100000],\n",
              "       [    25,  90000],\n",
              "       [    37,  33000],\n",
              "       [    35,  38000],\n",
              "       [    33,  69000],\n",
              "       [    18,  86000],\n",
              "       [    22,  55000],\n",
              "       [    35,  71000],\n",
              "       [    29, 148000],\n",
              "       [    29,  47000],\n",
              "       [    21,  88000],\n",
              "       [    34, 115000],\n",
              "       [    26, 118000],\n",
              "       [    34,  43000],\n",
              "       [    34,  72000],\n",
              "       [    23,  28000],\n",
              "       [    35,  47000],\n",
              "       [    25,  22000],\n",
              "       [    24,  23000],\n",
              "       [    31,  34000],\n",
              "       [    26,  16000],\n",
              "       [    31,  71000],\n",
              "       [    32, 117000],\n",
              "       [    33,  43000],\n",
              "       [    33,  60000],\n",
              "       [    31,  66000],\n",
              "       [    20,  82000],\n",
              "       [    33,  41000],\n",
              "       [    35,  72000],\n",
              "       [    28,  32000],\n",
              "       [    24,  84000],\n",
              "       [    19,  26000],\n",
              "       [    29,  43000],\n",
              "       [    19,  70000],\n",
              "       [    28,  89000],\n",
              "       [    34,  43000],\n",
              "       [    30,  79000],\n",
              "       [    20,  36000],\n",
              "       [    26,  80000],\n",
              "       [    35,  22000],\n",
              "       [    35,  39000],\n",
              "       [    49,  74000],\n",
              "       [    39, 134000],\n",
              "       [    41,  71000],\n",
              "       [    58, 101000],\n",
              "       [    47,  47000],\n",
              "       [    55, 130000],\n",
              "       [    52, 114000],\n",
              "       [    40, 142000],\n",
              "       [    46,  22000],\n",
              "       [    48,  96000],\n",
              "       [    52, 150000],\n",
              "       [    59,  42000],\n",
              "       [    35,  58000],\n",
              "       [    47,  43000],\n",
              "       [    60, 108000],\n",
              "       [    49,  65000],\n",
              "       [    40,  78000],\n",
              "       [    46,  96000],\n",
              "       [    59, 143000],\n",
              "       [    41,  80000],\n",
              "       [    35,  91000],\n",
              "       [    37, 144000],\n",
              "       [    60, 102000],\n",
              "       [    35,  60000],\n",
              "       [    37,  53000],\n",
              "       [    36, 126000],\n",
              "       [    56, 133000],\n",
              "       [    40,  72000],\n",
              "       [    42,  80000],\n",
              "       [    35, 147000],\n",
              "       [    39,  42000],\n",
              "       [    40, 107000],\n",
              "       [    49,  86000],\n",
              "       [    38, 112000],\n",
              "       [    46,  79000],\n",
              "       [    40,  57000],\n",
              "       [    37,  80000],\n",
              "       [    46,  82000],\n",
              "       [    53, 143000],\n",
              "       [    42, 149000],\n",
              "       [    38,  59000],\n",
              "       [    50,  88000],\n",
              "       [    56, 104000],\n",
              "       [    41,  72000],\n",
              "       [    51, 146000],\n",
              "       [    35,  50000],\n",
              "       [    57, 122000],\n",
              "       [    41,  52000],\n",
              "       [    35,  97000],\n",
              "       [    44,  39000],\n",
              "       [    37,  52000],\n",
              "       [    48, 134000],\n",
              "       [    37, 146000],\n",
              "       [    50,  44000],\n",
              "       [    52,  90000],\n",
              "       [    41,  72000],\n",
              "       [    40,  57000],\n",
              "       [    58,  95000],\n",
              "       [    45, 131000],\n",
              "       [    35,  77000],\n",
              "       [    36, 144000],\n",
              "       [    55, 125000],\n",
              "       [    35,  72000],\n",
              "       [    48,  90000],\n",
              "       [    42, 108000],\n",
              "       [    40,  75000],\n",
              "       [    37,  74000],\n",
              "       [    47, 144000],\n",
              "       [    40,  61000],\n",
              "       [    43, 133000],\n",
              "       [    59,  76000],\n",
              "       [    60,  42000],\n",
              "       [    39, 106000],\n",
              "       [    57,  26000],\n",
              "       [    57,  74000],\n",
              "       [    38,  71000],\n",
              "       [    49,  88000],\n",
              "       [    52,  38000],\n",
              "       [    50,  36000],\n",
              "       [    59,  88000],\n",
              "       [    35,  61000],\n",
              "       [    37,  70000],\n",
              "       [    52,  21000],\n",
              "       [    48, 141000],\n",
              "       [    37,  93000],\n",
              "       [    37,  62000],\n",
              "       [    48, 138000],\n",
              "       [    41,  79000],\n",
              "       [    37,  78000],\n",
              "       [    39, 134000],\n",
              "       [    49,  89000],\n",
              "       [    55,  39000],\n",
              "       [    37,  77000],\n",
              "       [    35,  57000],\n",
              "       [    36,  63000],\n",
              "       [    42,  73000],\n",
              "       [    43, 112000],\n",
              "       [    45,  79000],\n",
              "       [    46, 117000],\n",
              "       [    58,  38000],\n",
              "       [    48,  74000],\n",
              "       [    37, 137000],\n",
              "       [    37,  79000],\n",
              "       [    40,  60000],\n",
              "       [    42,  54000],\n",
              "       [    51, 134000],\n",
              "       [    47, 113000],\n",
              "       [    36, 125000],\n",
              "       [    38,  50000],\n",
              "       [    42,  70000],\n",
              "       [    39,  96000],\n",
              "       [    38,  50000],\n",
              "       [    49, 141000],\n",
              "       [    39,  79000],\n",
              "       [    39,  75000],\n",
              "       [    54, 104000],\n",
              "       [    35,  55000],\n",
              "       [    45,  32000],\n",
              "       [    36,  60000],\n",
              "       [    52, 138000],\n",
              "       [    53,  82000],\n",
              "       [    41,  52000],\n",
              "       [    48,  30000],\n",
              "       [    48, 131000],\n",
              "       [    41,  60000],\n",
              "       [    41,  72000],\n",
              "       [    42,  75000],\n",
              "       [    36, 118000],\n",
              "       [    47, 107000],\n",
              "       [    38,  51000],\n",
              "       [    48, 119000],\n",
              "       [    42,  65000],\n",
              "       [    40,  65000],\n",
              "       [    57,  60000],\n",
              "       [    36,  54000],\n",
              "       [    58, 144000],\n",
              "       [    35,  79000],\n",
              "       [    38,  55000],\n",
              "       [    39, 122000],\n",
              "       [    53, 104000],\n",
              "       [    35,  75000],\n",
              "       [    38,  65000],\n",
              "       [    47,  51000],\n",
              "       [    47, 105000],\n",
              "       [    41,  63000],\n",
              "       [    53,  72000],\n",
              "       [    54, 108000],\n",
              "       [    39,  77000],\n",
              "       [    38,  61000],\n",
              "       [    38, 113000],\n",
              "       [    37,  75000],\n",
              "       [    42,  90000],\n",
              "       [    37,  57000],\n",
              "       [    36,  99000],\n",
              "       [    60,  34000],\n",
              "       [    54,  70000],\n",
              "       [    41,  72000],\n",
              "       [    40,  71000],\n",
              "       [    42,  54000],\n",
              "       [    43, 129000],\n",
              "       [    53,  34000],\n",
              "       [    47,  50000],\n",
              "       [    42,  79000],\n",
              "       [    42, 104000],\n",
              "       [    59,  29000],\n",
              "       [    58,  47000],\n",
              "       [    46,  88000],\n",
              "       [    38,  71000],\n",
              "       [    54,  26000],\n",
              "       [    60,  46000],\n",
              "       [    60,  83000],\n",
              "       [    39,  73000],\n",
              "       [    59, 130000],\n",
              "       [    37,  80000],\n",
              "       [    46,  32000],\n",
              "       [    46,  74000],\n",
              "       [    42,  53000],\n",
              "       [    41,  87000],\n",
              "       [    58,  23000],\n",
              "       [    42,  64000],\n",
              "       [    48,  33000],\n",
              "       [    44, 139000],\n",
              "       [    49,  28000],\n",
              "       [    57,  33000],\n",
              "       [    56,  60000],\n",
              "       [    49,  39000],\n",
              "       [    39,  71000],\n",
              "       [    47,  34000],\n",
              "       [    48,  35000],\n",
              "       [    48,  33000],\n",
              "       [    47,  23000],\n",
              "       [    45,  45000],\n",
              "       [    60,  42000],\n",
              "       [    39,  59000],\n",
              "       [    46,  41000],\n",
              "       [    51,  23000],\n",
              "       [    50,  20000],\n",
              "       [    36,  33000],\n",
              "       [    49,  36000]])"
            ]
          },
          "metadata": {},
          "execution_count": 13
        }
      ]
    },
    {
      "cell_type": "code",
      "source": [
        "y"
      ],
      "metadata": {
        "colab": {
          "base_uri": "https://localhost:8080/"
        },
        "id": "C15S1bxgDgGA",
        "outputId": "bda46f43-495b-4576-9784-eb3ed5a7095f"
      },
      "execution_count": 14,
      "outputs": [
        {
          "output_type": "execute_result",
          "data": {
            "text/plain": [
              "array([0, 0, 0, 0, 0, 0, 0, 1, 0, 0, 0, 0, 0, 0, 0, 0, 1, 1, 1, 1, 1, 1,\n",
              "       1, 1, 1, 1, 1, 1, 0, 0, 0, 1, 0, 0, 0, 0, 0, 0, 0, 0, 0, 0, 0, 0,\n",
              "       0, 0, 0, 0, 1, 0, 0, 0, 0, 0, 0, 0, 0, 0, 0, 0, 0, 0, 0, 1, 0, 0,\n",
              "       0, 0, 0, 0, 0, 0, 0, 0, 0, 1, 0, 0, 0, 0, 0, 0, 0, 0, 0, 1, 0, 0,\n",
              "       0, 0, 0, 0, 0, 0, 0, 0, 0, 1, 0, 0, 0, 0, 0, 1, 0, 0, 0, 0, 0, 0,\n",
              "       0, 0, 0, 0, 0, 0, 0, 0, 0, 0, 0, 0, 0, 0, 0, 0, 0, 0, 0, 0, 0, 0,\n",
              "       0, 0, 0, 0, 0, 1, 0, 0, 0, 0, 0, 0, 0, 0, 1, 0, 0, 0, 0, 0, 0, 0,\n",
              "       0, 0, 0, 0, 0, 1, 1, 0, 0, 0, 0, 0, 0, 0, 1, 0, 0, 0, 0, 0, 0, 0,\n",
              "       0, 0, 0, 0, 0, 0, 1, 0, 0, 0, 0, 0, 0, 0, 0, 0, 0, 0, 0, 0, 0, 0,\n",
              "       0, 0, 0, 0, 1, 0, 1, 0, 1, 0, 1, 0, 1, 1, 0, 0, 0, 1, 0, 0, 0, 1,\n",
              "       0, 1, 1, 1, 0, 0, 1, 1, 0, 1, 1, 0, 1, 1, 0, 1, 0, 0, 0, 1, 1, 0,\n",
              "       1, 1, 0, 1, 0, 1, 0, 1, 0, 0, 1, 1, 0, 1, 0, 0, 1, 1, 0, 1, 1, 0,\n",
              "       1, 1, 0, 0, 1, 0, 0, 1, 1, 1, 1, 1, 0, 1, 1, 1, 1, 0, 1, 1, 0, 1,\n",
              "       0, 1, 0, 1, 1, 1, 1, 0, 0, 0, 1, 1, 0, 1, 1, 1, 1, 1, 0, 0, 0, 1,\n",
              "       1, 0, 0, 1, 0, 1, 0, 1, 1, 0, 1, 0, 1, 1, 0, 1, 1, 0, 0, 0, 1, 1,\n",
              "       0, 1, 0, 0, 1, 0, 1, 0, 0, 1, 1, 0, 0, 1, 1, 0, 1, 1, 0, 0, 1, 0,\n",
              "       1, 0, 1, 1, 1, 0, 1, 0, 1, 1, 1, 0, 1, 1, 1, 1, 0, 1, 1, 1, 0, 1,\n",
              "       0, 1, 0, 0, 1, 1, 0, 1, 1, 1, 1, 1, 1, 0, 1, 1, 1, 1, 1, 1, 0, 1,\n",
              "       1, 1, 0, 1])"
            ]
          },
          "metadata": {},
          "execution_count": 14
        }
      ]
    },
    {
      "cell_type": "code",
      "source": [
        "from sklearn.model_selection import train_test_split\n",
        "X_train,X_test,y_train,y_test = train_test_split(X,y,test_size=0.25,random_state=123)"
      ],
      "metadata": {
        "id": "B3N57T06DgZg"
      },
      "execution_count": 15,
      "outputs": []
    },
    {
      "cell_type": "code",
      "source": [
        "X_train"
      ],
      "metadata": {
        "colab": {
          "base_uri": "https://localhost:8080/"
        },
        "id": "hbe9Np2fDuAo",
        "outputId": "38f13992-a896-4470-96b0-6efecfa84e44"
      },
      "execution_count": 16,
      "outputs": [
        {
          "output_type": "execute_result",
          "data": {
            "text/plain": [
              "array([[    21,  88000],\n",
              "       [    43, 112000],\n",
              "       [    29,  61000],\n",
              "       [    34,  25000],\n",
              "       [    20,  86000],\n",
              "       [    60,  46000],\n",
              "       [    35,  75000],\n",
              "       [    24,  55000],\n",
              "       [    31,  74000],\n",
              "       [    46, 117000],\n",
              "       [    47,  49000],\n",
              "       [    36,  75000],\n",
              "       [    32, 100000],\n",
              "       [    35,  59000],\n",
              "       [    58,  23000],\n",
              "       [    29,  28000],\n",
              "       [    35,  77000],\n",
              "       [    35,  72000],\n",
              "       [    48, 141000],\n",
              "       [    28,  32000],\n",
              "       [    25,  22000],\n",
              "       [    21,  72000],\n",
              "       [    27,  58000],\n",
              "       [    41,  79000],\n",
              "       [    50,  36000],\n",
              "       [    48,  29000],\n",
              "       [    31,  18000],\n",
              "       [    28,  87000],\n",
              "       [    54,  70000],\n",
              "       [    28,  55000],\n",
              "       [    30,  79000],\n",
              "       [    54,  26000],\n",
              "       [    24,  27000],\n",
              "       [    29,  83000],\n",
              "       [    39, 106000],\n",
              "       [    49,  39000],\n",
              "       [    35,  27000],\n",
              "       [    30,  17000],\n",
              "       [    32,  18000],\n",
              "       [    35,  23000],\n",
              "       [    48,  41000],\n",
              "       [    48, 131000],\n",
              "       [    37,  93000],\n",
              "       [    58,  38000],\n",
              "       [    22,  81000],\n",
              "       [    39,  75000],\n",
              "       [    37,  75000],\n",
              "       [    51,  23000],\n",
              "       [    40,  65000],\n",
              "       [    36,  33000],\n",
              "       [    23,  28000],\n",
              "       [    19,  76000],\n",
              "       [    32, 135000],\n",
              "       [    46,  88000],\n",
              "       [    31,  71000],\n",
              "       [    30,  89000],\n",
              "       [    56,  60000],\n",
              "       [    31,  76000],\n",
              "       [    30,  80000],\n",
              "       [    36,  52000],\n",
              "       [    46,  59000],\n",
              "       [    35,  50000],\n",
              "       [    49,  74000],\n",
              "       [    47, 113000],\n",
              "       [    19,  21000],\n",
              "       [    25,  87000],\n",
              "       [    26,  86000],\n",
              "       [    26,  32000],\n",
              "       [    39,  42000],\n",
              "       [    60,  42000],\n",
              "       [    50,  88000],\n",
              "       [    28,  84000],\n",
              "       [    33,  69000],\n",
              "       [    49, 141000],\n",
              "       [    35,  50000],\n",
              "       [    54, 104000],\n",
              "       [    37,  80000],\n",
              "       [    42,  90000],\n",
              "       [    35,  97000],\n",
              "       [    45,  79000],\n",
              "       [    22,  55000],\n",
              "       [    35,  71000],\n",
              "       [    47,  34000],\n",
              "       [    32, 150000],\n",
              "       [    35,  61000],\n",
              "       [    40,  57000],\n",
              "       [    45,  32000],\n",
              "       [    40,  72000],\n",
              "       [    38,  71000],\n",
              "       [    20,  82000],\n",
              "       [    41,  63000],\n",
              "       [    35,  72000],\n",
              "       [    40,  57000],\n",
              "       [    24,  89000],\n",
              "       [    38,  71000],\n",
              "       [    36, 126000],\n",
              "       [    35,  91000],\n",
              "       [    31,  89000],\n",
              "       [    30,  49000],\n",
              "       [    27,  90000],\n",
              "       [    38,  51000],\n",
              "       [    45,  22000],\n",
              "       [    58, 101000],\n",
              "       [    48,  33000],\n",
              "       [    42,  80000],\n",
              "       [    26,  80000],\n",
              "       [    24,  19000],\n",
              "       [    29,  43000],\n",
              "       [    52, 114000],\n",
              "       [    48,  35000],\n",
              "       [    41,  51000],\n",
              "       [    46,  96000],\n",
              "       [    25,  90000],\n",
              "       [    28,  89000],\n",
              "       [    30, 107000],\n",
              "       [    55,  39000],\n",
              "       [    60, 102000],\n",
              "       [    38,  61000],\n",
              "       [    31,  68000],\n",
              "       [    30,  87000],\n",
              "       [    27,  88000],\n",
              "       [    36, 125000],\n",
              "       [    42,  70000],\n",
              "       [    52, 138000],\n",
              "       [    49,  36000],\n",
              "       [    46,  79000],\n",
              "       [    31, 118000],\n",
              "       [    41,  72000],\n",
              "       [    48,  74000],\n",
              "       [    40,  75000],\n",
              "       [    39,  71000],\n",
              "       [    36,  54000],\n",
              "       [    53,  82000],\n",
              "       [    47, 107000],\n",
              "       [    41,  45000],\n",
              "       [    33,  41000],\n",
              "       [    42,  79000],\n",
              "       [    40,  75000],\n",
              "       [    37,  77000],\n",
              "       [    33,  31000],\n",
              "       [    28,  59000],\n",
              "       [    41,  71000],\n",
              "       [    26,  15000],\n",
              "       [    38,  55000],\n",
              "       [    35,  55000],\n",
              "       [    34,  43000],\n",
              "       [    23,  66000],\n",
              "       [    46,  22000],\n",
              "       [    49,  28000],\n",
              "       [    58, 144000],\n",
              "       [    32, 117000],\n",
              "       [    34,  72000],\n",
              "       [    59, 143000],\n",
              "       [    60,  34000],\n",
              "       [    35,  38000],\n",
              "       [    31,  66000],\n",
              "       [    23,  20000],\n",
              "       [    47, 105000],\n",
              "       [    31,  58000],\n",
              "       [    24,  32000],\n",
              "       [    28, 123000],\n",
              "       [    20,  36000],\n",
              "       [    60, 108000],\n",
              "       [    46,  82000],\n",
              "       [    37,  78000],\n",
              "       [    39,  59000],\n",
              "       [    54, 108000],\n",
              "       [    32, 120000],\n",
              "       [    37,  70000],\n",
              "       [    29,  47000],\n",
              "       [    57, 122000],\n",
              "       [    40,  57000],\n",
              "       [    37,  52000],\n",
              "       [    40,  61000],\n",
              "       [    36,  99000],\n",
              "       [    47,  23000],\n",
              "       [    36,  50000],\n",
              "       [    42,  54000],\n",
              "       [    27,  17000],\n",
              "       [    51, 134000],\n",
              "       [    39,  73000],\n",
              "       [    24,  58000],\n",
              "       [    55, 130000],\n",
              "       [    25,  33000],\n",
              "       [    22,  27000],\n",
              "       [    22,  18000],\n",
              "       [    44,  39000],\n",
              "       [    41,  59000],\n",
              "       [    18,  68000],\n",
              "       [    26,  81000],\n",
              "       [    42, 104000],\n",
              "       [    50,  44000],\n",
              "       [    27,  20000],\n",
              "       [    41,  72000],\n",
              "       [    47,  51000],\n",
              "       [    25,  79000],\n",
              "       [    24,  55000],\n",
              "       [    38,  80000],\n",
              "       [    21,  68000],\n",
              "       [    47,  25000],\n",
              "       [    19,  70000],\n",
              "       [    47,  50000],\n",
              "       [    35,  75000],\n",
              "       [    35,  57000],\n",
              "       [    47,  30000],\n",
              "       [    19,  85000],\n",
              "       [    26,  80000],\n",
              "       [    18,  82000],\n",
              "       [    28,  85000],\n",
              "       [    42, 108000],\n",
              "       [    55, 125000],\n",
              "       [    37, 144000],\n",
              "       [    56, 104000],\n",
              "       [    45, 131000],\n",
              "       [    36,  60000],\n",
              "       [    33, 149000],\n",
              "       [    20,  74000],\n",
              "       [    19,  25000],\n",
              "       [    23,  82000],\n",
              "       [    27,  57000],\n",
              "       [    23,  48000],\n",
              "       [    40,  60000],\n",
              "       [    49,  86000],\n",
              "       [    18,  44000],\n",
              "       [    35,  20000],\n",
              "       [    46,  28000],\n",
              "       [    47, 144000],\n",
              "       [    59, 130000],\n",
              "       [    38,  50000],\n",
              "       [    47,  20000],\n",
              "       [    33,  43000],\n",
              "       [    20,  82000],\n",
              "       [    30,  15000],\n",
              "       [    26,  84000],\n",
              "       [    41,  72000],\n",
              "       [    52,  90000],\n",
              "       [    43, 133000],\n",
              "       [    46,  32000],\n",
              "       [    40,  47000],\n",
              "       [    25,  80000],\n",
              "       [    43, 129000],\n",
              "       [    26,  30000],\n",
              "       [    42,  53000],\n",
              "       [    59,  76000],\n",
              "       [    27,  96000],\n",
              "       [    47,  47000],\n",
              "       [    52,  38000],\n",
              "       [    39,  79000],\n",
              "       [    48, 119000],\n",
              "       [    59,  83000],\n",
              "       [    41,  60000],\n",
              "       [    45,  45000],\n",
              "       [    29, 148000],\n",
              "       [    18,  52000],\n",
              "       [    39, 134000],\n",
              "       [    38, 113000],\n",
              "       [    40,  59000],\n",
              "       [    35,  58000],\n",
              "       [    37,  57000],\n",
              "       [    40,  71000],\n",
              "       [    26,  16000],\n",
              "       [    39,  77000],\n",
              "       [    28,  37000],\n",
              "       [    53,  34000],\n",
              "       [    23,  63000],\n",
              "       [    35,  47000],\n",
              "       [    57,  33000],\n",
              "       [    30,  62000],\n",
              "       [    50,  20000],\n",
              "       [    27,  31000],\n",
              "       [    53, 104000],\n",
              "       [    26,  43000],\n",
              "       [    39,  96000],\n",
              "       [    42,  54000],\n",
              "       [    22,  63000],\n",
              "       [    40, 142000],\n",
              "       [    39,  71000],\n",
              "       [    37, 146000],\n",
              "       [    57,  60000],\n",
              "       [    39, 122000],\n",
              "       [    37,  71000],\n",
              "       [    35,  60000],\n",
              "       [    21,  16000],\n",
              "       [    33, 113000],\n",
              "       [    27,  54000],\n",
              "       [    42,  65000],\n",
              "       [    37,  55000],\n",
              "       [    35,  25000],\n",
              "       [    37,  53000],\n",
              "       [    47,  43000],\n",
              "       [    28,  79000],\n",
              "       [    35,  53000],\n",
              "       [    26,  35000],\n",
              "       [    35,  88000],\n",
              "       [    45,  26000],\n",
              "       [    35, 147000],\n",
              "       [    35,  73000],\n",
              "       [    41,  52000],\n",
              "       [    44, 139000],\n",
              "       [    59,  29000]])"
            ]
          },
          "metadata": {},
          "execution_count": 16
        }
      ]
    },
    {
      "cell_type": "markdown",
      "source": [
        "## Feature Scaling"
      ],
      "metadata": {
        "id": "i6NaMsx2J7lm"
      }
    },
    {
      "cell_type": "code",
      "source": [
        "from sklearn.preprocessing import StandardScaler\n",
        "\n",
        "sc = StandardScaler()\n",
        "X_train_scaled = sc.fit_transform(X_train)\n",
        "X_test_scaled = sc.transform(X_test)"
      ],
      "metadata": {
        "id": "nG3ny_cJJ2Iz"
      },
      "execution_count": 17,
      "outputs": []
    },
    {
      "cell_type": "code",
      "source": [
        "X_train_scaled"
      ],
      "metadata": {
        "colab": {
          "base_uri": "https://localhost:8080/"
        },
        "id": "yk_G6wKIKgkc",
        "outputId": "b4771a90-8a96-4def-8f33-16108cc28c5d"
      },
      "execution_count": 18,
      "outputs": [
        {
          "output_type": "execute_result",
          "data": {
            "text/plain": [
              "array([[-1.55823061e+00,  5.73372484e-01],\n",
              "       [ 5.33779565e-01,  1.29801385e+00],\n",
              "       [-7.97499635e-01, -2.41849057e-01],\n",
              "       [-3.22042778e-01, -1.32881111e+00],\n",
              "       [-1.65332198e+00,  5.12985703e-01],\n",
              "       [ 2.15033288e+00, -6.94749913e-01],\n",
              "       [-2.26951407e-01,  1.80858408e-01],\n",
              "       [-1.27295649e+00, -4.23009399e-01],\n",
              "       [-6.07316892e-01,  1.50665018e-01],\n",
              "       [ 8.19053679e-01,  1.44898081e+00],\n",
              "       [ 9.14145051e-01, -6.04169742e-01],\n",
              "       [-1.31860035e-01,  1.80858408e-01],\n",
              "       [-5.12225521e-01,  9.35693168e-01],\n",
              "       [-2.26951407e-01, -3.02235838e-01],\n",
              "       [ 1.96015014e+00, -1.38919789e+00],\n",
              "       [-7.97499635e-01, -1.23823094e+00],\n",
              "       [-2.26951407e-01,  2.41245189e-01],\n",
              "       [-2.26951407e-01,  9.02782373e-02],\n",
              "       [ 1.00923642e+00,  2.17362217e+00],\n",
              "       [-8.92591007e-01, -1.11745738e+00],\n",
              "       [-1.17786512e+00, -1.41939128e+00],\n",
              "       [-1.55823061e+00,  9.02782373e-02],\n",
              "       [-9.87682378e-01, -3.32429228e-01],\n",
              "       [ 3.43596822e-01,  3.01631970e-01],\n",
              "       [ 1.19941917e+00, -9.96683817e-01],\n",
              "       [ 1.00923642e+00, -1.20803755e+00],\n",
              "       [-6.07316892e-01, -1.54016484e+00],\n",
              "       [-8.92591007e-01,  5.43179093e-01],\n",
              "       [ 1.57978465e+00,  2.98914565e-02],\n",
              "       [-8.92591007e-01, -4.23009399e-01],\n",
              "       [-7.02408264e-01,  3.01631970e-01],\n",
              "       [ 1.57978465e+00, -1.29861772e+00],\n",
              "       [-1.27295649e+00, -1.26842433e+00],\n",
              "       [-7.97499635e-01,  4.22405532e-01],\n",
              "       [ 1.53414079e-01,  1.11685351e+00],\n",
              "       [ 1.10432779e+00, -9.06103646e-01],\n",
              "       [-2.26951407e-01, -1.26842433e+00],\n",
              "       [-7.02408264e-01, -1.57035823e+00],\n",
              "       [-5.12225521e-01, -1.54016484e+00],\n",
              "       [-2.26951407e-01, -1.38919789e+00],\n",
              "       [ 1.00923642e+00, -8.45716865e-01],\n",
              "       [ 1.00923642e+00,  1.87168827e+00],\n",
              "       [-3.67686636e-02,  7.24339436e-01],\n",
              "       [ 1.96015014e+00, -9.36297036e-01],\n",
              "       [-1.46313924e+00,  3.62018751e-01],\n",
              "       [ 1.53414079e-01,  1.80858408e-01],\n",
              "       [-3.67686636e-02,  1.80858408e-01],\n",
              "       [ 1.29451054e+00, -1.38919789e+00],\n",
              "       [ 2.48505451e-01, -1.21075495e-01],\n",
              "       [-1.31860035e-01, -1.08726399e+00],\n",
              "       [-1.36804786e+00, -1.23823094e+00],\n",
              "       [-1.74841335e+00,  2.11051799e-01],\n",
              "       [-5.12225521e-01,  1.99246183e+00],\n",
              "       [ 8.19053679e-01,  5.73372484e-01],\n",
              "       [-6.07316892e-01,  6.00848469e-02],\n",
              "       [-7.02408264e-01,  6.03565874e-01],\n",
              "       [ 1.76996739e+00, -2.72042447e-01],\n",
              "       [-6.07316892e-01,  2.11051799e-01],\n",
              "       [-7.02408264e-01,  3.31825360e-01],\n",
              "       [-1.31860035e-01, -5.13589571e-01],\n",
              "       [ 8.19053679e-01, -3.02235838e-01],\n",
              "       [-2.26951407e-01, -5.73976351e-01],\n",
              "       [ 1.10432779e+00,  1.50665018e-01],\n",
              "       [ 9.14145051e-01,  1.32820724e+00],\n",
              "       [-1.74841335e+00, -1.44958467e+00],\n",
              "       [-1.17786512e+00,  5.43179093e-01],\n",
              "       [-1.08277375e+00,  5.12985703e-01],\n",
              "       [-1.08277375e+00, -1.11745738e+00],\n",
              "       [ 1.53414079e-01, -8.15523475e-01],\n",
              "       [ 2.15033288e+00, -8.15523475e-01],\n",
              "       [ 1.19941917e+00,  5.73372484e-01],\n",
              "       [-8.92591007e-01,  4.52598922e-01],\n",
              "       [-4.17134149e-01, -3.01933904e-04],\n",
              "       [ 1.10432779e+00,  2.17362217e+00],\n",
              "       [-2.26951407e-01, -5.73976351e-01],\n",
              "       [ 1.57978465e+00,  1.05646673e+00],\n",
              "       [-3.67686636e-02,  3.31825360e-01],\n",
              "       [ 4.38688194e-01,  6.33759264e-01],\n",
              "       [-2.26951407e-01,  8.45112997e-01],\n",
              "       [ 7.23962308e-01,  3.01631970e-01],\n",
              "       [-1.46313924e+00, -4.23009399e-01],\n",
              "       [-2.26951407e-01,  6.00848469e-02],\n",
              "       [ 9.14145051e-01, -1.05707060e+00],\n",
              "       [-5.12225521e-01,  2.44536269e+00],\n",
              "       [-2.26951407e-01, -2.41849057e-01],\n",
              "       [ 2.48505451e-01, -3.62622619e-01],\n",
              "       [ 7.23962308e-01, -1.11745738e+00],\n",
              "       [ 2.48505451e-01,  9.02782373e-02],\n",
              "       [ 5.83227078e-02,  6.00848469e-02],\n",
              "       [-1.65332198e+00,  3.92212141e-01],\n",
              "       [ 3.43596822e-01, -1.81462276e-01],\n",
              "       [-2.26951407e-01,  9.02782373e-02],\n",
              "       [ 2.48505451e-01, -3.62622619e-01],\n",
              "       [-1.27295649e+00,  6.03565874e-01],\n",
              "       [ 5.83227078e-02,  6.00848469e-02],\n",
              "       [-1.31860035e-01,  1.72072132e+00],\n",
              "       [-2.26951407e-01,  6.63952655e-01],\n",
              "       [-6.07316892e-01,  6.03565874e-01],\n",
              "       [-7.02408264e-01, -6.04169742e-01],\n",
              "       [-9.87682378e-01,  6.33759264e-01],\n",
              "       [ 5.83227078e-02, -5.43782961e-01],\n",
              "       [ 7.23962308e-01, -1.41939128e+00],\n",
              "       [ 1.96015014e+00,  9.65886559e-01],\n",
              "       [ 1.00923642e+00, -1.08726399e+00],\n",
              "       [ 4.38688194e-01,  3.31825360e-01],\n",
              "       [-1.08277375e+00,  3.31825360e-01],\n",
              "       [-1.27295649e+00, -1.50997145e+00],\n",
              "       [-7.97499635e-01, -7.85330084e-01],\n",
              "       [ 1.38960191e+00,  1.35840063e+00],\n",
              "       [ 1.00923642e+00, -1.02687721e+00],\n",
              "       [ 3.43596822e-01, -5.43782961e-01],\n",
              "       [ 8.19053679e-01,  8.14919607e-01],\n",
              "       [-1.17786512e+00,  6.33759264e-01],\n",
              "       [-8.92591007e-01,  6.03565874e-01],\n",
              "       [-7.02408264e-01,  1.14704690e+00],\n",
              "       [ 1.67487602e+00, -9.06103646e-01],\n",
              "       [ 2.15033288e+00,  9.96079949e-01],\n",
              "       [ 5.83227078e-02, -2.41849057e-01],\n",
              "       [-6.07316892e-01, -3.04953243e-02],\n",
              "       [-7.02408264e-01,  5.43179093e-01],\n",
              "       [-9.87682378e-01,  5.73372484e-01],\n",
              "       [-1.31860035e-01,  1.69052793e+00],\n",
              "       [ 4.38688194e-01,  2.98914565e-02],\n",
              "       [ 1.38960191e+00,  2.08304200e+00],\n",
              "       [ 1.10432779e+00, -9.96683817e-01],\n",
              "       [ 8.19053679e-01,  3.01631970e-01],\n",
              "       [-6.07316892e-01,  1.47917420e+00],\n",
              "       [ 3.43596822e-01,  9.02782373e-02],\n",
              "       [ 1.00923642e+00,  1.50665018e-01],\n",
              "       [ 2.48505451e-01,  1.80858408e-01],\n",
              "       [ 1.53414079e-01,  6.00848469e-02],\n",
              "       [-1.31860035e-01, -4.53202790e-01],\n",
              "       [ 1.48469328e+00,  3.92212141e-01],\n",
              "       [ 9.14145051e-01,  1.14704690e+00],\n",
              "       [ 3.43596822e-01, -7.24943303e-01],\n",
              "       [-4.17134149e-01, -8.45716865e-01],\n",
              "       [ 4.38688194e-01,  3.01631970e-01],\n",
              "       [ 2.48505451e-01,  1.80858408e-01],\n",
              "       [-3.67686636e-02,  2.41245189e-01],\n",
              "       [-4.17134149e-01, -1.14765077e+00],\n",
              "       [-8.92591007e-01, -3.02235838e-01],\n",
              "       [ 3.43596822e-01,  6.00848469e-02],\n",
              "       [-1.08277375e+00, -1.63074502e+00],\n",
              "       [ 5.83227078e-02, -4.23009399e-01],\n",
              "       [-2.26951407e-01, -4.23009399e-01],\n",
              "       [-3.22042778e-01, -7.85330084e-01],\n",
              "       [-1.36804786e+00, -9.08821051e-02],\n",
              "       [ 8.19053679e-01, -1.41939128e+00],\n",
              "       [ 1.10432779e+00, -1.23823094e+00],\n",
              "       [ 1.96015014e+00,  2.26420235e+00],\n",
              "       [-5.12225521e-01,  1.44898081e+00],\n",
              "       [-3.22042778e-01,  9.02782373e-02],\n",
              "       [ 2.05524151e+00,  2.23400896e+00],\n",
              "       [ 2.15033288e+00, -1.05707060e+00],\n",
              "       [-2.26951407e-01, -9.36297036e-01],\n",
              "       [-6.07316892e-01, -9.08821051e-02],\n",
              "       [-1.36804786e+00, -1.47977806e+00],\n",
              "       [ 9.14145051e-01,  1.08666012e+00],\n",
              "       [-6.07316892e-01, -3.32429228e-01],\n",
              "       [-1.27295649e+00, -1.11745738e+00],\n",
              "       [-8.92591007e-01,  1.63014115e+00],\n",
              "       [-1.65332198e+00, -9.96683817e-01],\n",
              "       [ 2.15033288e+00,  1.17724029e+00],\n",
              "       [ 8.19053679e-01,  3.92212141e-01],\n",
              "       [-3.67686636e-02,  2.71438580e-01],\n",
              "       [ 1.53414079e-01, -3.02235838e-01],\n",
              "       [ 1.57978465e+00,  1.17724029e+00],\n",
              "       [-5.12225521e-01,  1.53956098e+00],\n",
              "       [-3.67686636e-02,  2.98914565e-02],\n",
              "       [-7.97499635e-01, -6.64556523e-01],\n",
              "       [ 1.86505877e+00,  1.59994776e+00],\n",
              "       [ 2.48505451e-01, -3.62622619e-01],\n",
              "       [-3.67686636e-02, -5.13589571e-01],\n",
              "       [ 2.48505451e-01, -2.41849057e-01],\n",
              "       [-1.31860035e-01,  9.05499778e-01],\n",
              "       [ 9.14145051e-01, -1.38919789e+00],\n",
              "       [-1.31860035e-01, -5.73976351e-01],\n",
              "       [ 4.38688194e-01, -4.53202790e-01],\n",
              "       [-9.87682378e-01, -1.57035823e+00],\n",
              "       [ 1.29451054e+00,  1.96226844e+00],\n",
              "       [ 1.53414079e-01,  1.20471628e-01],\n",
              "       [-1.27295649e+00, -3.32429228e-01],\n",
              "       [ 1.67487602e+00,  1.84149488e+00],\n",
              "       [-1.17786512e+00, -1.08726399e+00],\n",
              "       [-1.46313924e+00, -1.26842433e+00],\n",
              "       [-1.46313924e+00, -1.54016484e+00],\n",
              "       [ 6.28870937e-01, -9.06103646e-01],\n",
              "       [ 3.43596822e-01, -3.02235838e-01],\n",
              "       [-1.84350472e+00, -3.04953243e-02],\n",
              "       [-1.08277375e+00,  3.62018751e-01],\n",
              "       [ 4.38688194e-01,  1.05646673e+00],\n",
              "       [ 1.19941917e+00, -7.55136694e-01],\n",
              "       [-9.87682378e-01, -1.47977806e+00],\n",
              "       [ 3.43596822e-01,  9.02782373e-02],\n",
              "       [ 9.14145051e-01, -5.43782961e-01],\n",
              "       [-1.17786512e+00,  3.01631970e-01],\n",
              "       [-1.27295649e+00, -4.23009399e-01],\n",
              "       [ 5.83227078e-02,  3.31825360e-01],\n",
              "       [-1.55823061e+00, -3.04953243e-02],\n",
              "       [ 9.14145051e-01, -1.32881111e+00],\n",
              "       [-1.74841335e+00,  2.98914565e-02],\n",
              "       [ 9.14145051e-01, -5.73976351e-01],\n",
              "       [-2.26951407e-01,  1.80858408e-01],\n",
              "       [-2.26951407e-01, -3.62622619e-01],\n",
              "       [ 9.14145051e-01, -1.17784416e+00],\n",
              "       [-1.74841335e+00,  4.82792312e-01],\n",
              "       [-1.08277375e+00,  3.31825360e-01],\n",
              "       [-1.84350472e+00,  3.92212141e-01],\n",
              "       [-8.92591007e-01,  4.82792312e-01],\n",
              "       [ 4.38688194e-01,  1.17724029e+00],\n",
              "       [ 1.67487602e+00,  1.69052793e+00],\n",
              "       [-3.67686636e-02,  2.26420235e+00],\n",
              "       [ 1.76996739e+00,  1.05646673e+00],\n",
              "       [ 7.23962308e-01,  1.87168827e+00],\n",
              "       [-1.31860035e-01, -2.72042447e-01],\n",
              "       [-4.17134149e-01,  2.41516930e+00],\n",
              "       [-1.65332198e+00,  1.50665018e-01],\n",
              "       [-1.74841335e+00, -1.32881111e+00],\n",
              "       [-1.36804786e+00,  3.92212141e-01],\n",
              "       [-9.87682378e-01, -3.62622619e-01],\n",
              "       [-1.36804786e+00, -6.34363132e-01],\n",
              "       [ 2.48505451e-01, -2.72042447e-01],\n",
              "       [ 1.10432779e+00,  5.12985703e-01],\n",
              "       [-1.84350472e+00, -7.55136694e-01],\n",
              "       [-2.26951407e-01, -1.47977806e+00],\n",
              "       [ 8.19053679e-01, -1.23823094e+00],\n",
              "       [ 9.14145051e-01,  2.26420235e+00],\n",
              "       [ 2.05524151e+00,  1.84149488e+00],\n",
              "       [ 5.83227078e-02, -5.73976351e-01],\n",
              "       [ 9.14145051e-01, -1.47977806e+00],\n",
              "       [-4.17134149e-01, -7.85330084e-01],\n",
              "       [-1.65332198e+00,  3.92212141e-01],\n",
              "       [-7.02408264e-01, -1.63074502e+00],\n",
              "       [-1.08277375e+00,  4.52598922e-01],\n",
              "       [ 3.43596822e-01,  9.02782373e-02],\n",
              "       [ 1.38960191e+00,  6.33759264e-01],\n",
              "       [ 5.33779565e-01,  1.93207505e+00],\n",
              "       [ 8.19053679e-01, -1.11745738e+00],\n",
              "       [ 2.48505451e-01, -6.64556523e-01],\n",
              "       [-1.17786512e+00,  3.31825360e-01],\n",
              "       [ 5.33779565e-01,  1.81130149e+00],\n",
              "       [-1.08277375e+00, -1.17784416e+00],\n",
              "       [ 4.38688194e-01, -4.83396180e-01],\n",
              "       [ 2.05524151e+00,  2.11051799e-01],\n",
              "       [-9.87682378e-01,  8.14919607e-01],\n",
              "       [ 9.14145051e-01, -6.64556523e-01],\n",
              "       [ 1.38960191e+00, -9.36297036e-01],\n",
              "       [ 1.53414079e-01,  3.01631970e-01],\n",
              "       [ 1.00923642e+00,  1.50936759e+00],\n",
              "       [ 2.05524151e+00,  4.22405532e-01],\n",
              "       [ 3.43596822e-01, -2.72042447e-01],\n",
              "       [ 7.23962308e-01, -7.24943303e-01],\n",
              "       [-7.97499635e-01,  2.38497591e+00],\n",
              "       [-1.84350472e+00, -5.13589571e-01],\n",
              "       [ 1.53414079e-01,  1.96226844e+00],\n",
              "       [ 5.83227078e-02,  1.32820724e+00],\n",
              "       [ 2.48505451e-01, -3.02235838e-01],\n",
              "       [-2.26951407e-01, -3.32429228e-01],\n",
              "       [-3.67686636e-02, -3.62622619e-01],\n",
              "       [ 2.48505451e-01,  6.00848469e-02],\n",
              "       [-1.08277375e+00, -1.60055162e+00],\n",
              "       [ 1.53414079e-01,  2.41245189e-01],\n",
              "       [-8.92591007e-01, -9.66490427e-01],\n",
              "       [ 1.48469328e+00, -1.05707060e+00],\n",
              "       [-1.36804786e+00, -1.81462276e-01],\n",
              "       [-2.26951407e-01, -6.64556523e-01],\n",
              "       [ 1.86505877e+00, -1.08726399e+00],\n",
              "       [-7.02408264e-01, -2.11655667e-01],\n",
              "       [ 1.19941917e+00, -1.47977806e+00],\n",
              "       [-9.87682378e-01, -1.14765077e+00],\n",
              "       [ 1.48469328e+00,  1.05646673e+00],\n",
              "       [-1.08277375e+00, -7.85330084e-01],\n",
              "       [ 1.53414079e-01,  8.14919607e-01],\n",
              "       [ 4.38688194e-01, -4.53202790e-01],\n",
              "       [-1.46313924e+00, -1.81462276e-01],\n",
              "       [ 2.48505451e-01,  2.20381557e+00],\n",
              "       [ 1.53414079e-01,  6.00848469e-02],\n",
              "       [-3.67686636e-02,  2.32458913e+00],\n",
              "       [ 1.86505877e+00, -2.72042447e-01],\n",
              "       [ 1.53414079e-01,  1.59994776e+00],\n",
              "       [-3.67686636e-02,  6.00848469e-02],\n",
              "       [-2.26951407e-01, -2.72042447e-01],\n",
              "       [-1.55823061e+00, -1.60055162e+00],\n",
              "       [-4.17134149e-01,  1.32820724e+00],\n",
              "       [-9.87682378e-01, -4.53202790e-01],\n",
              "       [ 4.38688194e-01, -1.21075495e-01],\n",
              "       [-3.67686636e-02, -4.23009399e-01],\n",
              "       [-2.26951407e-01, -1.32881111e+00],\n",
              "       [-3.67686636e-02, -4.83396180e-01],\n",
              "       [ 9.14145051e-01, -7.85330084e-01],\n",
              "       [-8.92591007e-01,  3.01631970e-01],\n",
              "       [-2.26951407e-01, -4.83396180e-01],\n",
              "       [-1.08277375e+00, -1.02687721e+00],\n",
              "       [-2.26951407e-01,  5.73372484e-01],\n",
              "       [ 7.23962308e-01, -1.29861772e+00],\n",
              "       [-2.26951407e-01,  2.35478252e+00],\n",
              "       [-2.26951407e-01,  1.20471628e-01],\n",
              "       [ 3.43596822e-01, -5.13589571e-01],\n",
              "       [ 6.28870937e-01,  2.11323539e+00],\n",
              "       [ 2.05524151e+00, -1.20803755e+00]])"
            ]
          },
          "metadata": {},
          "execution_count": 18
        }
      ]
    },
    {
      "cell_type": "code",
      "source": [
        "from sklearn.linear_model import LogisticRegression\n",
        "lr = LogisticRegression()\n",
        "lr.fit(X_train_scaled,y_train)"
      ],
      "metadata": {
        "colab": {
          "base_uri": "https://localhost:8080/",
          "height": 75
        },
        "id": "YZpnczwHKiaT",
        "outputId": "b56d9b98-f6bb-437c-8a4f-65017383bff3"
      },
      "execution_count": 19,
      "outputs": [
        {
          "output_type": "execute_result",
          "data": {
            "text/plain": [
              "LogisticRegression()"
            ],
            "text/html": [
              "<style>#sk-container-id-1 {color: black;background-color: white;}#sk-container-id-1 pre{padding: 0;}#sk-container-id-1 div.sk-toggleable {background-color: white;}#sk-container-id-1 label.sk-toggleable__label {cursor: pointer;display: block;width: 100%;margin-bottom: 0;padding: 0.3em;box-sizing: border-box;text-align: center;}#sk-container-id-1 label.sk-toggleable__label-arrow:before {content: \"▸\";float: left;margin-right: 0.25em;color: #696969;}#sk-container-id-1 label.sk-toggleable__label-arrow:hover:before {color: black;}#sk-container-id-1 div.sk-estimator:hover label.sk-toggleable__label-arrow:before {color: black;}#sk-container-id-1 div.sk-toggleable__content {max-height: 0;max-width: 0;overflow: hidden;text-align: left;background-color: #f0f8ff;}#sk-container-id-1 div.sk-toggleable__content pre {margin: 0.2em;color: black;border-radius: 0.25em;background-color: #f0f8ff;}#sk-container-id-1 input.sk-toggleable__control:checked~div.sk-toggleable__content {max-height: 200px;max-width: 100%;overflow: auto;}#sk-container-id-1 input.sk-toggleable__control:checked~label.sk-toggleable__label-arrow:before {content: \"▾\";}#sk-container-id-1 div.sk-estimator input.sk-toggleable__control:checked~label.sk-toggleable__label {background-color: #d4ebff;}#sk-container-id-1 div.sk-label input.sk-toggleable__control:checked~label.sk-toggleable__label {background-color: #d4ebff;}#sk-container-id-1 input.sk-hidden--visually {border: 0;clip: rect(1px 1px 1px 1px);clip: rect(1px, 1px, 1px, 1px);height: 1px;margin: -1px;overflow: hidden;padding: 0;position: absolute;width: 1px;}#sk-container-id-1 div.sk-estimator {font-family: monospace;background-color: #f0f8ff;border: 1px dotted black;border-radius: 0.25em;box-sizing: border-box;margin-bottom: 0.5em;}#sk-container-id-1 div.sk-estimator:hover {background-color: #d4ebff;}#sk-container-id-1 div.sk-parallel-item::after {content: \"\";width: 100%;border-bottom: 1px solid gray;flex-grow: 1;}#sk-container-id-1 div.sk-label:hover label.sk-toggleable__label {background-color: #d4ebff;}#sk-container-id-1 div.sk-serial::before {content: \"\";position: absolute;border-left: 1px solid gray;box-sizing: border-box;top: 0;bottom: 0;left: 50%;z-index: 0;}#sk-container-id-1 div.sk-serial {display: flex;flex-direction: column;align-items: center;background-color: white;padding-right: 0.2em;padding-left: 0.2em;position: relative;}#sk-container-id-1 div.sk-item {position: relative;z-index: 1;}#sk-container-id-1 div.sk-parallel {display: flex;align-items: stretch;justify-content: center;background-color: white;position: relative;}#sk-container-id-1 div.sk-item::before, #sk-container-id-1 div.sk-parallel-item::before {content: \"\";position: absolute;border-left: 1px solid gray;box-sizing: border-box;top: 0;bottom: 0;left: 50%;z-index: -1;}#sk-container-id-1 div.sk-parallel-item {display: flex;flex-direction: column;z-index: 1;position: relative;background-color: white;}#sk-container-id-1 div.sk-parallel-item:first-child::after {align-self: flex-end;width: 50%;}#sk-container-id-1 div.sk-parallel-item:last-child::after {align-self: flex-start;width: 50%;}#sk-container-id-1 div.sk-parallel-item:only-child::after {width: 0;}#sk-container-id-1 div.sk-dashed-wrapped {border: 1px dashed gray;margin: 0 0.4em 0.5em 0.4em;box-sizing: border-box;padding-bottom: 0.4em;background-color: white;}#sk-container-id-1 div.sk-label label {font-family: monospace;font-weight: bold;display: inline-block;line-height: 1.2em;}#sk-container-id-1 div.sk-label-container {text-align: center;}#sk-container-id-1 div.sk-container {/* jupyter's `normalize.less` sets `[hidden] { display: none; }` but bootstrap.min.css set `[hidden] { display: none !important; }` so we also need the `!important` here to be able to override the default hidden behavior on the sphinx rendered scikit-learn.org. See: https://github.com/scikit-learn/scikit-learn/issues/21755 */display: inline-block !important;position: relative;}#sk-container-id-1 div.sk-text-repr-fallback {display: none;}</style><div id=\"sk-container-id-1\" class=\"sk-top-container\"><div class=\"sk-text-repr-fallback\"><pre>LogisticRegression()</pre><b>In a Jupyter environment, please rerun this cell to show the HTML representation or trust the notebook. <br />On GitHub, the HTML representation is unable to render, please try loading this page with nbviewer.org.</b></div><div class=\"sk-container\" hidden><div class=\"sk-item\"><div class=\"sk-estimator sk-toggleable\"><input class=\"sk-toggleable__control sk-hidden--visually\" id=\"sk-estimator-id-1\" type=\"checkbox\" checked><label for=\"sk-estimator-id-1\" class=\"sk-toggleable__label sk-toggleable__label-arrow\">LogisticRegression</label><div class=\"sk-toggleable__content\"><pre>LogisticRegression()</pre></div></div></div></div></div>"
            ]
          },
          "metadata": {},
          "execution_count": 19
        }
      ]
    },
    {
      "cell_type": "code",
      "source": [
        "y_pred = lr.predict(X_test_scaled)\n",
        "y_pred"
      ],
      "metadata": {
        "colab": {
          "base_uri": "https://localhost:8080/"
        },
        "id": "WSZvY6FDKtVt",
        "outputId": "f961cfb6-ee9d-48ce-b69c-be7a7ad42350"
      },
      "execution_count": 20,
      "outputs": [
        {
          "output_type": "execute_result",
          "data": {
            "text/plain": [
              "array([1, 0, 0, 0, 0, 0, 0, 1, 1, 0, 0, 0, 1, 0, 0, 1, 0, 0, 0, 0, 0, 0,\n",
              "       0, 0, 0, 0, 0, 1, 0, 1, 0, 0, 1, 0, 0, 1, 0, 0, 0, 0, 0, 0, 0, 0,\n",
              "       1, 0, 0, 1, 0, 0, 1, 0, 1, 1, 1, 0, 0, 1, 0, 0, 0, 0, 0, 1, 0, 1,\n",
              "       0, 1, 0, 0, 0, 1, 0, 0, 1, 0, 1, 0, 1, 1, 0, 1, 0, 1, 0, 1, 0, 1,\n",
              "       0, 0, 1, 1, 1, 1, 0, 1, 1, 0, 0, 0])"
            ]
          },
          "metadata": {},
          "execution_count": 20
        }
      ]
    },
    {
      "cell_type": "code",
      "source": [
        "lr.predict(sc.transform([[30,87000]]))"
      ],
      "metadata": {
        "colab": {
          "base_uri": "https://localhost:8080/"
        },
        "id": "nfai869HK_Gk",
        "outputId": "5b9f27ed-db26-4799-8a50-e6fe997d060d"
      },
      "execution_count": 21,
      "outputs": [
        {
          "output_type": "execute_result",
          "data": {
            "text/plain": [
              "array([0])"
            ]
          },
          "metadata": {},
          "execution_count": 21
        }
      ]
    },
    {
      "cell_type": "code",
      "source": [
        "np.concatenate((y_pred.reshape(len(y_pred),1),y_test.reshape(len(y_test),1)),1)"
      ],
      "metadata": {
        "colab": {
          "base_uri": "https://localhost:8080/"
        },
        "id": "1ngDQK1FMt1z",
        "outputId": "60cd2303-9162-4f4c-8d96-232b038ce12e"
      },
      "execution_count": 22,
      "outputs": [
        {
          "output_type": "execute_result",
          "data": {
            "text/plain": [
              "array([[1, 0],\n",
              "       [0, 0],\n",
              "       [0, 1],\n",
              "       [0, 0],\n",
              "       [0, 0],\n",
              "       [0, 0],\n",
              "       [0, 0],\n",
              "       [1, 1],\n",
              "       [1, 1],\n",
              "       [0, 0],\n",
              "       [0, 0],\n",
              "       [0, 0],\n",
              "       [1, 0],\n",
              "       [0, 0],\n",
              "       [0, 0],\n",
              "       [1, 1],\n",
              "       [0, 0],\n",
              "       [0, 0],\n",
              "       [0, 0],\n",
              "       [0, 0],\n",
              "       [0, 0],\n",
              "       [0, 0],\n",
              "       [0, 0],\n",
              "       [0, 0],\n",
              "       [0, 0],\n",
              "       [0, 1],\n",
              "       [0, 0],\n",
              "       [1, 1],\n",
              "       [0, 0],\n",
              "       [1, 0],\n",
              "       [0, 0],\n",
              "       [0, 0],\n",
              "       [1, 1],\n",
              "       [0, 0],\n",
              "       [0, 0],\n",
              "       [1, 1],\n",
              "       [0, 0],\n",
              "       [0, 0],\n",
              "       [0, 1],\n",
              "       [0, 1],\n",
              "       [0, 0],\n",
              "       [0, 0],\n",
              "       [0, 0],\n",
              "       [0, 0],\n",
              "       [1, 1],\n",
              "       [0, 0],\n",
              "       [0, 0],\n",
              "       [1, 1],\n",
              "       [0, 1],\n",
              "       [0, 0],\n",
              "       [1, 1],\n",
              "       [0, 0],\n",
              "       [1, 1],\n",
              "       [1, 1],\n",
              "       [1, 1],\n",
              "       [0, 1],\n",
              "       [0, 0],\n",
              "       [1, 1],\n",
              "       [0, 0],\n",
              "       [0, 0],\n",
              "       [0, 1],\n",
              "       [0, 1],\n",
              "       [0, 0],\n",
              "       [1, 1],\n",
              "       [0, 1],\n",
              "       [1, 1],\n",
              "       [0, 0],\n",
              "       [1, 1],\n",
              "       [0, 0],\n",
              "       [0, 0],\n",
              "       [0, 0],\n",
              "       [1, 1],\n",
              "       [0, 0],\n",
              "       [0, 0],\n",
              "       [1, 1],\n",
              "       [0, 0],\n",
              "       [1, 1],\n",
              "       [0, 1],\n",
              "       [1, 0],\n",
              "       [1, 1],\n",
              "       [0, 0],\n",
              "       [1, 1],\n",
              "       [0, 0],\n",
              "       [1, 1],\n",
              "       [0, 0],\n",
              "       [1, 0],\n",
              "       [0, 0],\n",
              "       [1, 1],\n",
              "       [0, 0],\n",
              "       [0, 0],\n",
              "       [1, 0],\n",
              "       [1, 1],\n",
              "       [1, 0],\n",
              "       [1, 1],\n",
              "       [0, 0],\n",
              "       [1, 1],\n",
              "       [1, 1],\n",
              "       [0, 0],\n",
              "       [0, 0],\n",
              "       [0, 0]])"
            ]
          },
          "metadata": {},
          "execution_count": 22
        }
      ]
    },
    {
      "cell_type": "markdown",
      "source": [
        "## Confusion Matrix"
      ],
      "metadata": {
        "id": "jW3iFpU1L0EB"
      }
    },
    {
      "cell_type": "code",
      "source": [
        "from sklearn.metrics import confusion_matrix\n",
        "cm = confusion_matrix(y_test,y_pred)\n",
        "cm"
      ],
      "metadata": {
        "colab": {
          "base_uri": "https://localhost:8080/"
        },
        "id": "1Yk0CP-cLrUz",
        "outputId": "8406efc8-6116-4a44-86fa-5949b7e595e6"
      },
      "execution_count": 23,
      "outputs": [
        {
          "output_type": "execute_result",
          "data": {
            "text/plain": [
              "array([[56,  7],\n",
              "       [10, 27]])"
            ]
          },
          "metadata": {},
          "execution_count": 23
        }
      ]
    },
    {
      "cell_type": "code",
      "source": [
        "lr.score(X_test_scaled,y_test)"
      ],
      "metadata": {
        "colab": {
          "base_uri": "https://localhost:8080/"
        },
        "id": "ghSrSBn8MLUR",
        "outputId": "9eb406ab-c055-404a-bfd8-a50c0d5e33f0"
      },
      "execution_count": 24,
      "outputs": [
        {
          "output_type": "execute_result",
          "data": {
            "text/plain": [
              "0.83"
            ]
          },
          "metadata": {},
          "execution_count": 24
        }
      ]
    },
    {
      "cell_type": "code",
      "source": [
        "from sklearn.metrics import accuracy_score\n",
        "accuracy_score(y_test,y_pred)"
      ],
      "metadata": {
        "colab": {
          "base_uri": "https://localhost:8080/"
        },
        "id": "U9cxJQ9ONUnI",
        "outputId": "927dbbb5-7fc6-454a-8a70-7269dc4f4a80"
      },
      "execution_count": 25,
      "outputs": [
        {
          "output_type": "execute_result",
          "data": {
            "text/plain": [
              "0.83"
            ]
          },
          "metadata": {},
          "execution_count": 25
        }
      ]
    },
    {
      "cell_type": "markdown",
      "source": [
        "## Visualization"
      ],
      "metadata": {
        "id": "nHUtSq5DTp3T"
      }
    },
    {
      "cell_type": "code",
      "source": [
        "from matplotlib.colors import ListedColormap\n",
        "X_set, y_set = sc.inverse_transform(X_train_scaled), y_train\n",
        "X1, X2 = np.meshgrid(np.arange(start = X_set[:, 0].min() - 10, stop = X_set[:, 0].max() + 10, step = 0.25),\n",
        "                     np.arange(start = X_set[:, 1].min() - 1000, stop = X_set[:, 1].max() + 1000, step = 0.25))\n",
        "plt.contourf(X1, X2, lr.predict(sc.transform(np.array([X1.ravel(), X2.ravel()]).T)).reshape(X1.shape),\n",
        "             alpha = 0.75, cmap = ListedColormap(('red', 'green')))\n",
        "plt.xlim(X1.min(), X1.max())\n",
        "plt.ylim(X2.min(), X2.max())\n",
        "for i, j in enumerate(np.unique(y_set)):\n",
        "    plt.scatter(X_set[y_set == j, 0], X_set[y_set == j, 1], c = ListedColormap(('red', 'green'))(i), label = j)\n",
        "plt.title('Logistic Regression (Training set)')\n",
        "plt.xlabel('Age')\n",
        "plt.ylabel('Estimated Salary')\n",
        "plt.legend()\n",
        "plt.show()"
      ],
      "metadata": {
        "colab": {
          "base_uri": "https://localhost:8080/",
          "height": 527
        },
        "id": "e7Y934MgTiOs",
        "outputId": "c582769f-11f7-4942-cd23-8136cf9f1e8b"
      },
      "execution_count": 27,
      "outputs": [
        {
          "output_type": "stream",
          "name": "stderr",
          "text": [
            "<ipython-input-27-2e6cf0bda5ef>:10: UserWarning: *c* argument looks like a single numeric RGB or RGBA sequence, which should be avoided as value-mapping will have precedence in case its length matches with *x* & *y*.  Please use the *color* keyword-argument or provide a 2D array with a single row if you intend to specify the same RGB or RGBA value for all points.\n",
            "  plt.scatter(X_set[y_set == j, 0], X_set[y_set == j, 1], c = ListedColormap(('red', 'green'))(i), label = j)\n"
          ]
        },
        {
          "output_type": "display_data",
          "data": {
            "text/plain": [
              "<Figure size 640x480 with 1 Axes>"
            ],
            "image/png": "[encoded data removed]"
          },
          "metadata": {}
        }
      ]
    },
    {
      "cell_type": "code",
      "source": [
        "from matplotlib.colors import ListedColormap\n",
        "X_set, y_set = sc.inverse_transform(X_test_scaled), y_test\n",
        "X1, X2 = np.meshgrid(np.arange(start = X_set[:, 0].min() - 10, stop = X_set[:, 0].max() + 10, step = 0.25),\n",
        "                     np.arange(start = X_set[:, 1].min() - 1000, stop = X_set[:, 1].max() + 1000, step = 0.25))\n",
        "plt.contourf(X1, X2, lr.predict(sc.transform(np.array([X1.ravel(), X2.ravel()]).T)).reshape(X1.shape),\n",
        "             alpha = 0.75, cmap = ListedColormap(('red', 'green')))\n",
        "plt.xlim(X1.min(), X1.max())\n",
        "plt.ylim(X2.min(), X2.max())\n",
        "for i, j in enumerate(np.unique(y_set)):\n",
        "    plt.scatter(X_set[y_set == j, 0], X_set[y_set == j, 1], c = ListedColormap(('red', 'green'))(i), label = j)\n",
        "plt.title('Logistic Regression (Training set)')\n",
        "plt.xlabel('Age')\n",
        "plt.ylabel('Estimated Salary')\n",
        "plt.legend()\n",
        "plt.show()"
      ],
      "metadata": {
        "colab": {
          "base_uri": "https://localhost:8080/",
          "height": 527
        },
        "id": "-BC8ph-FU3eF",
        "outputId": "4bc6357c-0915-4e4f-851a-7cc14c9bc2e7"
      },
      "execution_count": 28,
      "outputs": [
        {
          "output_type": "stream",
          "name": "stderr",
          "text": [
            "<ipython-input-28-a9bf27035982>:10: UserWarning: *c* argument looks like a single numeric RGB or RGBA sequence, which should be avoided as value-mapping will have precedence in case its length matches with *x* & *y*.  Please use the *color* keyword-argument or provide a 2D array with a single row if you intend to specify the same RGB or RGBA value for all points.\n",
            "  plt.scatter(X_set[y_set == j, 0], X_set[y_set == j, 1], c = ListedColormap(('red', 'green'))(i), label = j)\n"
          ]
        },
        {
          "output_type": "display_data",
          "data": {
            "text/plain": [
              "<Figure size 640x480 with 1 Axes>"
            ],
            "image/png": "[encoded data removed]"
          },
          "metadata": {}
        }
      ]
    },
    {
      "cell_type": "markdown",
      "source": [
        "## Excercise for tumor dataset"
      ],
      "metadata": {
        "id": "P-LfZPqSYcO5"
      }
    },
    {
      "cell_type": "code",
      "source": [
        "!ls -ltr /content/drive/MyDrive/ML_A_Z/Part_3_Classification/Section_14_Logistic_Regression/Python/breast_cancer.csv"
      ],
      "metadata": {
        "colab": {
          "base_uri": "https://localhost:8080/"
        },
        "id": "h3CyU-BkYvvg",
        "outputId": "880c5258-b195-45a2-952a-eddf3e4e21fd"
      },
      "execution_count": 30,
      "outputs": [
        {
          "output_type": "stream",
          "name": "stdout",
          "text": [
            "-rw------- 1 root root 19635 Feb 22  2018 /content/drive/MyDrive/ML_A_Z/Part_3_Classification/Section_14_Logistic_Regression/Python/breast_cancer.csv\n"
          ]
        }
      ]
    },
    {
      "cell_type": "code",
      "source": [
        "tumor_df =pd.read_csv('/content/drive/MyDrive/ML_A_Z/Part_3_Classification/Section_14_Logistic_Regression/Python/breast_cancer.csv')\n",
        "tumor_df.head()"
      ],
      "metadata": {
        "colab": {
          "base_uri": "https://localhost:8080/",
          "height": 206
        },
        "id": "arNgsrCaVTz-",
        "outputId": "f230c566-5b94-4801-e359-1b8125bbdfb9"
      },
      "execution_count": 31,
      "outputs": [
        {
          "output_type": "execute_result",
          "data": {
            "text/plain": [
              "   Sample code number  Clump Thickness  Uniformity of Cell Size  \\\n",
              "0             1000025                5                        1   \n",
              "1             1002945                5                        4   \n",
              "2             1015425                3                        1   \n",
              "3             1016277                6                        8   \n",
              "4             1017023                4                        1   \n",
              "\n",
              "   Uniformity of Cell Shape  Marginal Adhesion  Single Epithelial Cell Size  \\\n",
              "0                         1                  1                            2   \n",
              "1                         4                  5                            7   \n",
              "2                         1                  1                            2   \n",
              "3                         8                  1                            3   \n",
              "4                         1                  3                            2   \n",
              "\n",
              "   Bare Nuclei  Bland Chromatin  Normal Nucleoli  Mitoses  Class  \n",
              "0            1                3                1        1      2  \n",
              "1           10                3                2        1      2  \n",
              "2            2                3                1        1      2  \n",
              "3            4                3                7        1      2  \n",
              "4            1                3                1        1      2  "
            ],
            "text/html": [
              "\n",
              "\n",
              "  <div id=\"df-53b9eec4-3ab5-4213-8029-e525516ea270\">\n",
              "    <div class=\"colab-df-container\">\n",
              "      <div>\n",
              "<style scoped>\n",
              "    .dataframe tbody tr th:only-of-type {\n",
              "        vertical-align: middle;\n",
              "    }\n",
              "\n",
              "    .dataframe tbody tr th {\n",
              "        vertical-align: top;\n",
              "    }\n",
              "\n",
              "    .dataframe thead th {\n",
              "        text-align: right;\n",
              "    }\n",
              "</style>\n",
              "<table border=\"1\" class=\"dataframe\">\n",
              "  <thead>\n",
              "    <tr style=\"text-align: right;\">\n",
              "      <th></th>\n",
              "      <th>Sample code number</th>\n",
              "      <th>Clump Thickness</th>\n",
              "      <th>Uniformity of Cell Size</th>\n",
              "      <th>Uniformity of Cell Shape</th>\n",
              "      <th>Marginal Adhesion</th>\n",
              "      <th>Single Epithelial Cell Size</th>\n",
              "      <th>Bare Nuclei</th>\n",
              "      <th>Bland Chromatin</th>\n",
              "      <th>Normal Nucleoli</th>\n",
              "      <th>Mitoses</th>\n",
              "      <th>Class</th>\n",
              "    </tr>\n",
              "  </thead>\n",
              "  <tbody>\n",
              "    <tr>\n",
              "      <th>0</th>\n",
              "      <td>1000025</td>\n",
              "      <td>5</td>\n",
              "      <td>1</td>\n",
              "      <td>1</td>\n",
              "      <td>1</td>\n",
              "      <td>2</td>\n",
              "      <td>1</td>\n",
              "      <td>3</td>\n",
              "      <td>1</td>\n",
              "      <td>1</td>\n",
              "      <td>2</td>\n",
              "    </tr>\n",
              "    <tr>\n",
              "      <th>1</th>\n",
              "      <td>1002945</td>\n",
              "      <td>5</td>\n",
              "      <td>4</td>\n",
              "      <td>4</td>\n",
              "      <td>5</td>\n",
              "      <td>7</td>\n",
              "      <td>10</td>\n",
              "      <td>3</td>\n",
              "      <td>2</td>\n",
              "      <td>1</td>\n",
              "      <td>2</td>\n",
              "    </tr>\n",
              "    <tr>\n",
              "      <th>2</th>\n",
              "      <td>1015425</td>\n",
              "      <td>3</td>\n",
              "      <td>1</td>\n",
              "      <td>1</td>\n",
              "      <td>1</td>\n",
              "      <td>2</td>\n",
              "      <td>2</td>\n",
              "      <td>3</td>\n",
              "      <td>1</td>\n",
              "      <td>1</td>\n",
              "      <td>2</td>\n",
              "    </tr>\n",
              "    <tr>\n",
              "      <th>3</th>\n",
              "      <td>1016277</td>\n",
              "      <td>6</td>\n",
              "      <td>8</td>\n",
              "      <td>8</td>\n",
              "      <td>1</td>\n",
              "      <td>3</td>\n",
              "      <td>4</td>\n",
              "      <td>3</td>\n",
              "      <td>7</td>\n",
              "      <td>1</td>\n",
              "      <td>2</td>\n",
              "    </tr>\n",
              "    <tr>\n",
              "      <th>4</th>\n",
              "      <td>1017023</td>\n",
              "      <td>4</td>\n",
              "      <td>1</td>\n",
              "      <td>1</td>\n",
              "      <td>3</td>\n",
              "      <td>2</td>\n",
              "      <td>1</td>\n",
              "      <td>3</td>\n",
              "      <td>1</td>\n",
              "      <td>1</td>\n",
              "      <td>2</td>\n",
              "    </tr>\n",
              "  </tbody>\n",
              "</table>\n",
              "</div>\n",
              "      <button class=\"colab-df-convert\" onclick=\"convertToInteractive('df-53b9eec4-3ab5-4213-8029-e525516ea270')\"\n",
              "              title=\"Convert this dataframe to an interactive table.\"\n",
              "              style=\"display:none;\">\n",
              "\n",
              "  <svg xmlns=\"http://www.w3.org/2000/svg\" height=\"24px\"viewBox=\"0 0 24 24\"\n",
              "       width=\"24px\">\n",
              "    <path d=\"M0 0h24v24H0V0z\" fill=\"none\"/>\n",
              "    <path d=\"M18.56 5.44l.94 2.06.94-2.06 2.06-.94-2.06-.94-.94-2.06-.94 2.06-2.06.94zm-11 1L8.5 8.5l.94-2.06 2.06-.94-2.06-.94L8.5 2.5l-.94 2.06-2.06.94zm10 10l.94 2.06.94-2.06 2.06-.94-2.06-.94-.94-2.06-.94 2.06-2.06.94z\"/><path d=\"M17.41 7.96l-1.37-1.37c-.4-.4-.92-.59-1.43-.59-.52 0-1.04.2-1.43.59L10.3 9.45l-7.72 7.72c-.78.78-.78 2.05 0 2.83L4 21.41c.39.39.9.59 1.41.59.51 0 1.02-.2 1.41-.59l7.78-7.78 2.81-2.81c.8-.78.8-2.07 0-2.86zM5.41 20L4 18.59l7.72-7.72 1.47 1.35L5.41 20z\"/>\n",
              "  </svg>\n",
              "      </button>\n",
              "\n",
              "\n",
              "\n",
              "    <div id=\"df-9c86d94f-635b-45f6-8d68-86b774d22ebc\">\n",
              "      <button class=\"colab-df-quickchart\" onclick=\"quickchart('df-9c86d94f-635b-45f6-8d68-86b774d22ebc')\"\n",
              "              title=\"Suggest charts.\"\n",
              "              style=\"display:none;\">\n",
              "\n",
              "<svg xmlns=\"http://www.w3.org/2000/svg\" height=\"24px\"viewBox=\"0 0 24 24\"\n",
              "     width=\"24px\">\n",
              "    <g>\n",
              "        <path d=\"M19 3H5c-1.1 0-2 .9-2 2v14c0 1.1.9 2 2 2h14c1.1 0 2-.9 2-2V5c0-1.1-.9-2-2-2zM9 17H7v-7h2v7zm4 0h-2V7h2v10zm4 0h-2v-4h2v4z\"/>\n",
              "    </g>\n",
              "</svg>\n",
              "      </button>\n",
              "    </div>\n",
              "\n",
              "<style>\n",
              "  .colab-df-quickchart {\n",
              "    background-color: #E8F0FE;\n",
              "    border: none;\n",
              "    border-radius: 50%;\n",
              "    cursor: pointer;\n",
              "    display: none;\n",
              "    fill: #1967D2;\n",
              "    height: 32px;\n",
              "    padding: 0 0 0 0;\n",
              "    width: 32px;\n",
              "  }\n",
              "\n",
              "  .colab-df-quickchart:hover {\n",
              "    background-color: #E2EBFA;\n",
              "    box-shadow: 0px 1px 2px rgba(60, 64, 67, 0.3), 0px 1px 3px 1px rgba(60, 64, 67, 0.15);\n",
              "    fill: #174EA6;\n",
              "  }\n",
              "\n",
              "  [theme=dark] .colab-df-quickchart {\n",
              "    background-color: #3B4455;\n",
              "    fill: #D2E3FC;\n",
              "  }\n",
              "\n",
              "  [theme=dark] .colab-df-quickchart:hover {\n",
              "    background-color: #434B5C;\n",
              "    box-shadow: 0px 1px 3px 1px rgba(0, 0, 0, 0.15);\n",
              "    filter: drop-shadow(0px 1px 2px rgba(0, 0, 0, 0.3));\n",
              "    fill: #FFFFFF;\n",
              "  }\n",
              "</style>\n",
              "\n",
              "    <script>\n",
              "      async function quickchart(key) {\n",
              "        const containerElement = document.querySelector('#' + key);\n",
              "        const charts = await google.colab.kernel.invokeFunction(\n",
              "            'suggestCharts', [key], {});\n",
              "      }\n",
              "    </script>\n",
              "\n",
              "      <script>\n",
              "\n",
              "function displayQuickchartButton(domScope) {\n",
              "  let quickchartButtonEl =\n",
              "    domScope.querySelector('#df-9c86d94f-635b-45f6-8d68-86b774d22ebc button.colab-df-quickchart');\n",
              "  quickchartButtonEl.style.display =\n",
              "    google.colab.kernel.accessAllowed ? 'block' : 'none';\n",
              "}\n",
              "\n",
              "        displayQuickchartButton(document);\n",
              "      </script>\n",
              "      <style>\n",
              "    .colab-df-container {\n",
              "      display:flex;\n",
              "      flex-wrap:wrap;\n",
              "      gap: 12px;\n",
              "    }\n",
              "\n",
              "    .colab-df-convert {\n",
              "      background-color: #E8F0FE;\n",
              "      border: none;\n",
              "      border-radius: 50%;\n",
              "      cursor: pointer;\n",
              "      display: none;\n",
              "      fill: #1967D2;\n",
              "      height: 32px;\n",
              "      padding: 0 0 0 0;\n",
              "      width: 32px;\n",
              "    }\n",
              "\n",
              "    .colab-df-convert:hover {\n",
              "      background-color: #E2EBFA;\n",
              "      box-shadow: 0px 1px 2px rgba(60, 64, 67, 0.3), 0px 1px 3px 1px rgba(60, 64, 67, 0.15);\n",
              "      fill: #174EA6;\n",
              "    }\n",
              "\n",
              "    [theme=dark] .colab-df-convert {\n",
              "      background-color: #3B4455;\n",
              "      fill: #D2E3FC;\n",
              "    }\n",
              "\n",
              "    [theme=dark] .colab-df-convert:hover {\n",
              "      background-color: #434B5C;\n",
              "      box-shadow: 0px 1px 3px 1px rgba(0, 0, 0, 0.15);\n",
              "      filter: drop-shadow(0px 1px 2px rgba(0, 0, 0, 0.3));\n",
              "      fill: #FFFFFF;\n",
              "    }\n",
              "  </style>\n",
              "\n",
              "      <script>\n",
              "        const buttonEl =\n",
              "          document.querySelector('#df-53b9eec4-3ab5-4213-8029-e525516ea270 button.colab-df-convert');\n",
              "        buttonEl.style.display =\n",
              "          google.colab.kernel.accessAllowed ? 'block' : 'none';\n",
              "\n",
              "        async function convertToInteractive(key) {\n",
              "          const element = document.querySelector('#df-53b9eec4-3ab5-4213-8029-e525516ea270');\n",
              "          const dataTable =\n",
              "            await google.colab.kernel.invokeFunction('convertToInteractive',\n",
              "                                                     [key], {});\n",
              "          if (!dataTable) return;\n",
              "\n",
              "          const docLinkHtml = 'Like what you see? Visit the ' +\n",
              "            '<a target=\"_blank\" href=https://colab.research.google.com/notebooks/data_table.ipynb>data table notebook</a>'\n",
              "            + ' to learn more about interactive tables.';\n",
              "          element.innerHTML = '';\n",
              "          dataTable['output_type'] = 'display_data';\n",
              "          await google.colab.output.renderOutput(dataTable, element);\n",
              "          const docLink = document.createElement('div');\n",
              "          docLink.innerHTML = docLinkHtml;\n",
              "          element.appendChild(docLink);\n",
              "        }\n",
              "      </script>\n",
              "    </div>\n",
              "  </div>\n"
            ]
          },
          "metadata": {},
          "execution_count": 31
        }
      ]
    },
    {
      "cell_type": "code",
      "source": [
        "tumor_df.Class.value_counts().plot(kind='barh')"
      ],
      "metadata": {
        "colab": {
          "base_uri": "https://localhost:8080/",
          "height": 447
        },
        "id": "Cswi3JooaNb9",
        "outputId": "2915775c-8569-49d8-91bd-43125ea85619"
      },
      "execution_count": 45,
      "outputs": [
        {
          "output_type": "execute_result",
          "data": {
            "text/plain": [
              "<Axes: >"
            ]
          },
          "metadata": {},
          "execution_count": 45
        },
        {
          "output_type": "display_data",
          "data": {
            "text/plain": [
              "<Figure size 640x480 with 1 Axes>"
            ],
            "image/png": "[encoded data removed]"
          },
          "metadata": {}
        }
      ]
    },
    {
      "cell_type": "code",
      "source": [
        "tumor_df.shape"
      ],
      "metadata": {
        "colab": {
          "base_uri": "https://localhost:8080/"
        },
        "id": "if_hN6EDY2cp",
        "outputId": "14a096a6-2328-45eb-93ef-4ca16f313b7c"
      },
      "execution_count": 32,
      "outputs": [
        {
          "output_type": "execute_result",
          "data": {
            "text/plain": [
              "(683, 11)"
            ]
          },
          "metadata": {},
          "execution_count": 32
        }
      ]
    },
    {
      "cell_type": "code",
      "source": [
        "tumor_df.isnull().sum()"
      ],
      "metadata": {
        "colab": {
          "base_uri": "https://localhost:8080/"
        },
        "id": "49kOkisJY4zn",
        "outputId": "90eb763f-14fa-4775-d7e2-ca62120d2886"
      },
      "execution_count": 33,
      "outputs": [
        {
          "output_type": "execute_result",
          "data": {
            "text/plain": [
              "Sample code number             0\n",
              "Clump Thickness                0\n",
              "Uniformity of Cell Size        0\n",
              "Uniformity of Cell Shape       0\n",
              "Marginal Adhesion              0\n",
              "Single Epithelial Cell Size    0\n",
              "Bare Nuclei                    0\n",
              "Bland Chromatin                0\n",
              "Normal Nucleoli                0\n",
              "Mitoses                        0\n",
              "Class                          0\n",
              "dtype: int64"
            ]
          },
          "metadata": {},
          "execution_count": 33
        }
      ]
    },
    {
      "cell_type": "code",
      "source": [
        "X = tumor_df.iloc[:,1:-1].values\n",
        "y = tumor_df.iloc[:,-1].values"
      ],
      "metadata": {
        "id": "JfkI3zErY82Y"
      },
      "execution_count": 34,
      "outputs": []
    },
    {
      "cell_type": "code",
      "source": [
        "X_train,X_test,y_train,y_test = train_test_split(X,y,test_size=0.2,random_state=123)"
      ],
      "metadata": {
        "id": "9I6e6RrzZJa9"
      },
      "execution_count": 35,
      "outputs": []
    },
    {
      "cell_type": "code",
      "source": [
        "X_train.shape"
      ],
      "metadata": {
        "colab": {
          "base_uri": "https://localhost:8080/"
        },
        "id": "FfjFmcCQZR1b",
        "outputId": "58470a31-4b66-4b19-abd6-34ac10d21604"
      },
      "execution_count": 36,
      "outputs": [
        {
          "output_type": "execute_result",
          "data": {
            "text/plain": [
              "(546, 9)"
            ]
          },
          "metadata": {},
          "execution_count": 36
        }
      ]
    },
    {
      "cell_type": "code",
      "source": [
        "X_test.shape"
      ],
      "metadata": {
        "colab": {
          "base_uri": "https://localhost:8080/"
        },
        "id": "ALcp03UmZTtx",
        "outputId": "d57f1a62-ce1c-478b-c88a-6cef54b0c1c5"
      },
      "execution_count": 37,
      "outputs": [
        {
          "output_type": "execute_result",
          "data": {
            "text/plain": [
              "(137, 9)"
            ]
          },
          "metadata": {},
          "execution_count": 37
        }
      ]
    },
    {
      "cell_type": "code",
      "source": [
        "classifier = LogisticRegression()\n",
        "classifier.fit(X_train,y_train)"
      ],
      "metadata": {
        "colab": {
          "base_uri": "https://localhost:8080/",
          "height": 75
        },
        "id": "VJ-fa8ExZWwd",
        "outputId": "d99ccd65-17c9-4d93-f9e5-fe7f1c3bac95"
      },
      "execution_count": 38,
      "outputs": [
        {
          "output_type": "execute_result",
          "data": {
            "text/plain": [
              "LogisticRegression()"
            ],
            "text/html": [
              "<style>#sk-container-id-2 {color: black;background-color: white;}#sk-container-id-2 pre{padding: 0;}#sk-container-id-2 div.sk-toggleable {background-color: white;}#sk-container-id-2 label.sk-toggleable__label {cursor: pointer;display: block;width: 100%;margin-bottom: 0;padding: 0.3em;box-sizing: border-box;text-align: center;}#sk-container-id-2 label.sk-toggleable__label-arrow:before {content: \"▸\";float: left;margin-right: 0.25em;color: #696969;}#sk-container-id-2 label.sk-toggleable__label-arrow:hover:before {color: black;}#sk-container-id-2 div.sk-estimator:hover label.sk-toggleable__label-arrow:before {color: black;}#sk-container-id-2 div.sk-toggleable__content {max-height: 0;max-width: 0;overflow: hidden;text-align: left;background-color: #f0f8ff;}#sk-container-id-2 div.sk-toggleable__content pre {margin: 0.2em;color: black;border-radius: 0.25em;background-color: #f0f8ff;}#sk-container-id-2 input.sk-toggleable__control:checked~div.sk-toggleable__content {max-height: 200px;max-width: 100%;overflow: auto;}#sk-container-id-2 input.sk-toggleable__control:checked~label.sk-toggleable__label-arrow:before {content: \"▾\";}#sk-container-id-2 div.sk-estimator input.sk-toggleable__control:checked~label.sk-toggleable__label {background-color: #d4ebff;}#sk-container-id-2 div.sk-label input.sk-toggleable__control:checked~label.sk-toggleable__label {background-color: #d4ebff;}#sk-container-id-2 input.sk-hidden--visually {border: 0;clip: rect(1px 1px 1px 1px);clip: rect(1px, 1px, 1px, 1px);height: 1px;margin: -1px;overflow: hidden;padding: 0;position: absolute;width: 1px;}#sk-container-id-2 div.sk-estimator {font-family: monospace;background-color: #f0f8ff;border: 1px dotted black;border-radius: 0.25em;box-sizing: border-box;margin-bottom: 0.5em;}#sk-container-id-2 div.sk-estimator:hover {background-color: #d4ebff;}#sk-container-id-2 div.sk-parallel-item::after {content: \"\";width: 100%;border-bottom: 1px solid gray;flex-grow: 1;}#sk-container-id-2 div.sk-label:hover label.sk-toggleable__label {background-color: #d4ebff;}#sk-container-id-2 div.sk-serial::before {content: \"\";position: absolute;border-left: 1px solid gray;box-sizing: border-box;top: 0;bottom: 0;left: 50%;z-index: 0;}#sk-container-id-2 div.sk-serial {display: flex;flex-direction: column;align-items: center;background-color: white;padding-right: 0.2em;padding-left: 0.2em;position: relative;}#sk-container-id-2 div.sk-item {position: relative;z-index: 1;}#sk-container-id-2 div.sk-parallel {display: flex;align-items: stretch;justify-content: center;background-color: white;position: relative;}#sk-container-id-2 div.sk-item::before, #sk-container-id-2 div.sk-parallel-item::before {content: \"\";position: absolute;border-left: 1px solid gray;box-sizing: border-box;top: 0;bottom: 0;left: 50%;z-index: -1;}#sk-container-id-2 div.sk-parallel-item {display: flex;flex-direction: column;z-index: 1;position: relative;background-color: white;}#sk-container-id-2 div.sk-parallel-item:first-child::after {align-self: flex-end;width: 50%;}#sk-container-id-2 div.sk-parallel-item:last-child::after {align-self: flex-start;width: 50%;}#sk-container-id-2 div.sk-parallel-item:only-child::after {width: 0;}#sk-container-id-2 div.sk-dashed-wrapped {border: 1px dashed gray;margin: 0 0.4em 0.5em 0.4em;box-sizing: border-box;padding-bottom: 0.4em;background-color: white;}#sk-container-id-2 div.sk-label label {font-family: monospace;font-weight: bold;display: inline-block;line-height: 1.2em;}#sk-container-id-2 div.sk-label-container {text-align: center;}#sk-container-id-2 div.sk-container {/* jupyter's `normalize.less` sets `[hidden] { display: none; }` but bootstrap.min.css set `[hidden] { display: none !important; }` so we also need the `!important` here to be able to override the default hidden behavior on the sphinx rendered scikit-learn.org. See: https://github.com/scikit-learn/scikit-learn/issues/21755 */display: inline-block !important;position: relative;}#sk-container-id-2 div.sk-text-repr-fallback {display: none;}</style><div id=\"sk-container-id-2\" class=\"sk-top-container\"><div class=\"sk-text-repr-fallback\"><pre>LogisticRegression()</pre><b>In a Jupyter environment, please rerun this cell to show the HTML representation or trust the notebook. <br />On GitHub, the HTML representation is unable to render, please try loading this page with nbviewer.org.</b></div><div class=\"sk-container\" hidden><div class=\"sk-item\"><div class=\"sk-estimator sk-toggleable\"><input class=\"sk-toggleable__control sk-hidden--visually\" id=\"sk-estimator-id-2\" type=\"checkbox\" checked><label for=\"sk-estimator-id-2\" class=\"sk-toggleable__label sk-toggleable__label-arrow\">LogisticRegression</label><div class=\"sk-toggleable__content\"><pre>LogisticRegression()</pre></div></div></div></div></div>"
            ]
          },
          "metadata": {},
          "execution_count": 38
        }
      ]
    },
    {
      "cell_type": "code",
      "source": [
        "classifier.score(X_test,y_test)"
      ],
      "metadata": {
        "colab": {
          "base_uri": "https://localhost:8080/"
        },
        "id": "RG5MK47dZyg5",
        "outputId": "2439369f-bcf5-44be-fdb7-26196cc52670"
      },
      "execution_count": 39,
      "outputs": [
        {
          "output_type": "execute_result",
          "data": {
            "text/plain": [
              "0.9854014598540146"
            ]
          },
          "metadata": {},
          "execution_count": 39
        }
      ]
    },
    {
      "cell_type": "code",
      "source": [
        "y_pred = classifier.predict(X_test)"
      ],
      "metadata": {
        "id": "V_SAOe9jZ1BZ"
      },
      "execution_count": 40,
      "outputs": []
    },
    {
      "cell_type": "code",
      "source": [
        "np.concatenate((y_pred.reshape(len(y_pred),1),y_test.reshape(len(y_test),1)),1)"
      ],
      "metadata": {
        "colab": {
          "base_uri": "https://localhost:8080/"
        },
        "id": "vwnJwEe9Z_0X",
        "outputId": "024f77af-92ac-4a4a-ec46-9bc65b1a20ae"
      },
      "execution_count": 41,
      "outputs": [
        {
          "output_type": "execute_result",
          "data": {
            "text/plain": [
              "array([[2, 2],\n",
              "       [2, 2],\n",
              "       [2, 2],\n",
              "       [2, 2],\n",
              "       [2, 2],\n",
              "       [2, 2],\n",
              "       [2, 2],\n",
              "       [2, 2],\n",
              "       [4, 4],\n",
              "       [2, 2],\n",
              "       [2, 2],\n",
              "       [2, 2],\n",
              "       [2, 2],\n",
              "       [2, 2],\n",
              "       [4, 2],\n",
              "       [2, 2],\n",
              "       [2, 2],\n",
              "       [2, 2],\n",
              "       [2, 2],\n",
              "       [4, 4],\n",
              "       [4, 4],\n",
              "       [2, 2],\n",
              "       [4, 4],\n",
              "       [2, 2],\n",
              "       [2, 2],\n",
              "       [2, 2],\n",
              "       [2, 2],\n",
              "       [2, 2],\n",
              "       [4, 4],\n",
              "       [2, 2],\n",
              "       [2, 2],\n",
              "       [4, 4],\n",
              "       [4, 4],\n",
              "       [2, 2],\n",
              "       [2, 2],\n",
              "       [2, 2],\n",
              "       [2, 2],\n",
              "       [2, 2],\n",
              "       [2, 2],\n",
              "       [2, 2],\n",
              "       [2, 2],\n",
              "       [4, 4],\n",
              "       [2, 2],\n",
              "       [2, 2],\n",
              "       [2, 2],\n",
              "       [4, 4],\n",
              "       [2, 2],\n",
              "       [2, 2],\n",
              "       [4, 4],\n",
              "       [4, 4],\n",
              "       [2, 2],\n",
              "       [4, 4],\n",
              "       [2, 2],\n",
              "       [4, 4],\n",
              "       [2, 2],\n",
              "       [2, 2],\n",
              "       [2, 2],\n",
              "       [2, 2],\n",
              "       [2, 2],\n",
              "       [4, 4],\n",
              "       [2, 2],\n",
              "       [2, 2],\n",
              "       [2, 2],\n",
              "       [4, 4],\n",
              "       [4, 4],\n",
              "       [2, 2],\n",
              "       [4, 4],\n",
              "       [2, 2],\n",
              "       [4, 4],\n",
              "       [2, 2],\n",
              "       [2, 2],\n",
              "       [4, 4],\n",
              "       [4, 4],\n",
              "       [4, 4],\n",
              "       [2, 2],\n",
              "       [2, 2],\n",
              "       [2, 2],\n",
              "       [2, 2],\n",
              "       [2, 2],\n",
              "       [4, 4],\n",
              "       [2, 2],\n",
              "       [2, 2],\n",
              "       [4, 4],\n",
              "       [2, 2],\n",
              "       [4, 4],\n",
              "       [4, 4],\n",
              "       [2, 2],\n",
              "       [4, 4],\n",
              "       [2, 2],\n",
              "       [4, 4],\n",
              "       [2, 2],\n",
              "       [2, 2],\n",
              "       [4, 4],\n",
              "       [4, 4],\n",
              "       [4, 4],\n",
              "       [2, 2],\n",
              "       [4, 4],\n",
              "       [2, 2],\n",
              "       [2, 2],\n",
              "       [2, 2],\n",
              "       [2, 2],\n",
              "       [2, 2],\n",
              "       [4, 4],\n",
              "       [4, 4],\n",
              "       [2, 2],\n",
              "       [4, 4],\n",
              "       [2, 2],\n",
              "       [4, 4],\n",
              "       [2, 2],\n",
              "       [4, 4],\n",
              "       [2, 2],\n",
              "       [2, 2],\n",
              "       [4, 4],\n",
              "       [2, 2],\n",
              "       [2, 2],\n",
              "       [4, 4],\n",
              "       [4, 4],\n",
              "       [2, 2],\n",
              "       [2, 2],\n",
              "       [2, 2],\n",
              "       [2, 2],\n",
              "       [2, 2],\n",
              "       [4, 4],\n",
              "       [2, 2],\n",
              "       [4, 2],\n",
              "       [4, 4],\n",
              "       [2, 2],\n",
              "       [2, 2],\n",
              "       [4, 4],\n",
              "       [4, 4],\n",
              "       [2, 2],\n",
              "       [2, 2],\n",
              "       [4, 4],\n",
              "       [4, 4],\n",
              "       [2, 2],\n",
              "       [4, 4],\n",
              "       [4, 4]])"
            ]
          },
          "metadata": {},
          "execution_count": 41
        }
      ]
    },
    {
      "cell_type": "code",
      "source": [
        "from sklearn.metrics import confusion_matrix\n",
        "confusion_matrix(y_test,y_pred)"
      ],
      "metadata": {
        "colab": {
          "base_uri": "https://localhost:8080/"
        },
        "id": "0QsqX8VEaJno",
        "outputId": "a8423396-30f9-4376-abf3-d5106985d9fd"
      },
      "execution_count": 46,
      "outputs": [
        {
          "output_type": "execute_result",
          "data": {
            "text/plain": [
              "array([[88,  2],\n",
              "       [ 0, 47]])"
            ]
          },
          "metadata": {},
          "execution_count": 46
        }
      ]
    },
    {
      "cell_type": "code",
      "source": [
        "from sklearn.model_selection import cross_val_score\n",
        "\n",
        "accuracies = cross_val_score(estimator = classifier, X = X_train, y = y_train, cv = 10)\n",
        "print(f'Accuracy : {accuracies.mean()*100}')\n",
        "print(f'Accuracy STD DEV : {accuracies.std()*100}')"
      ],
      "metadata": {
        "colab": {
          "base_uri": "https://localhost:8080/"
        },
        "id": "qsiGbRPzaisA",
        "outputId": "4580c61e-7e40-41f2-aaa2-8e4357c9a001"
      },
      "execution_count": 52,
      "outputs": [
        {
          "output_type": "stream",
          "name": "stdout",
          "text": [
            "Accuracy : 96.15488215488215\n",
            "Accuracy STD DEV : 2.2505993488032896\n"
          ]
        }
      ]
    },
    {
      "cell_type": "code",
      "source": [],
      "metadata": {
        "id": "wc3fucsfayKp"
      },
      "execution_count": null,
      "outputs": []
    }
  ]
}