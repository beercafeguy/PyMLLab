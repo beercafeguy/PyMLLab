{
  "nbformat": 4,
  "nbformat_minor": 0,
  "metadata": {
    "colab": {
      "provenance": [],
      "authorship_tag": "ABX9TyPWAYrfG6gh29DRbFU3rnQ7",
      "include_colab_link": true
    },
    "kernelspec": {
      "name": "python3",
      "display_name": "Python 3"
    },
    "language_info": {
      "name": "python"
    }
  },
  "cells": [
    {
      "cell_type": "markdown",
      "metadata": {
        "id": "view-in-github",
        "colab_type": "text"
      },
      "source": [
        "<a href=\"https://colab.research.google.com/github/beercafeguy/PyMLLab/blob/master/10_Feb_AssQ.ipynb\" target=\"_parent\"><img src=\"https://colab.research.google.com/assets/colab-badge.svg\" alt=\"Open In Colab\"/></a>"
      ]
    },
    {
      "cell_type": "markdown",
      "source": [
        "**Q1.** Which function is used to open a file? What are the different modes of opening a file? Explain each mode\n",
        "of file opening."
      ],
      "metadata": {
        "id": "RKvbJkx1n1Ka"
      }
    },
    {
      "cell_type": "markdown",
      "source": [
        "**Ans:**\n",
        "\n",
        "open() function is used to open a file. Below are the modes for opening a file.\n",
        "\n",
        "\n",
        "1.   Read Only (r) : Opening the file only for reading. This is the default option with open method.\n",
        "2.   Read and Write (r+) : Open the file for both reading and writing.\n",
        "3.   Write Only (w) : Open the file only for writing. If file already has some data, that will be overwritten. This will also create a file if it does not exist.\n",
        "4.   Write and Read (w+) : You can read a s well as write the file. The difference against r+ is that r+ does not create or truncate the file.\n",
        "5.   Append Only(a) : Open file for writing but in append only mode\n",
        "6.   Append and Read(a+) : Append as well as read. here the handle of the file is positioned at the end.\n",
        "\n",
        "**Note:**\n",
        "These modes are for text files only. In case of binary, we need to ad b at the end like 'rb', 'rb+'\n",
        "\n",
        "\n",
        "\n",
        "\n",
        "\n"
      ],
      "metadata": {
        "id": "pzOWAA49n5V-"
      }
    },
    {
      "cell_type": "code",
      "execution_count": null,
      "metadata": {
        "id": "xS3V3GNSnvL_"
      },
      "outputs": [],
      "source": []
    },
    {
      "cell_type": "markdown",
      "source": [],
      "metadata": {
        "id": "5HjPGDBrn0hv"
      }
    }
  ]
}