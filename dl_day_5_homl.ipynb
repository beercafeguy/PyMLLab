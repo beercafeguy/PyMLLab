{
  "nbformat": 4,
  "nbformat_minor": 0,
  "metadata": {
    "colab": {
      "provenance": [],
      "authorship_tag": "ABX9TyNS0CH+Lghi+ZAoDYCYtHXL",
      "include_colab_link": true
    },
    "kernelspec": {
      "name": "python3",
      "display_name": "Python 3"
    },
    "language_info": {
      "name": "python"
    }
  },
  "cells": [
    {
      "cell_type": "markdown",
      "metadata": {
        "id": "view-in-github",
        "colab_type": "text"
      },
      "source": [
        "<a href=\"https://colab.research.google.com/github/beercafeguy/PyMLLab/blob/master/dl_day_5_homl.ipynb\" target=\"_parent\"><img src=\"https://colab.research.google.com/assets/colab-badge.svg\" alt=\"Open In Colab\"/></a>"
      ]
    },
    {
      "cell_type": "code",
      "execution_count": null,
      "metadata": {
        "id": "CZYCjEP6UPlg"
      },
      "outputs": [],
      "source": [
        "# l1 and l2 regularization\n",
        "\n",
        "\n",
        "import tensorflow as tf\n",
        "from tensorflow import keras"
      ]
    },
    {
      "cell_type": "code",
      "source": [
        "layer = keras.layers.Dense(\n",
        "    100, # number of nodes\n",
        "    activation = \"relu\",\n",
        "    kernel_initializer = \"he_normal\",kernel_regularizer = keras.regularizers.l2(0.01)\n",
        ")"
      ],
      "metadata": {
        "id": "nkb39-ZKUjf0"
      },
      "execution_count": null,
      "outputs": []
    },
    {
      "cell_type": "code",
      "source": [
        "from functools import partial\n",
        "\n",
        "\n",
        "RegularizedDense = partial(\n",
        "    keras.layers.Dense,\n",
        "    activation = \"elu\",\n",
        "    kernel_initializer = \"he_normal\",\n",
        "    kernel_regularizer = keras.regularizers.l2(0.01)\n",
        ")\n",
        "\n",
        "\n",
        "model = keras.models.Sequential(\n",
        "    [\n",
        "        keras.layers.Flatten(input_shape = [28,28]),\n",
        "        RegularizedDense(300),\n",
        "        RegularizedDense(100),\n",
        "        RegularizedDense(10, activation = \"softmax\", kernel_initializer = \"glorot_uniform\")\n",
        "    ]\n",
        ")"
      ],
      "metadata": {
        "id": "7HBrwseNU29d"
      },
      "execution_count": null,
      "outputs": []
    },
    {
      "cell_type": "code",
      "source": [
        "model.summary()"
      ],
      "metadata": {
        "colab": {
          "base_uri": "https://localhost:8080/"
        },
        "id": "ed4Za-oBVpSK",
        "outputId": "f13b06a7-c90d-437a-ae80-2f43957e894e"
      },
      "execution_count": null,
      "outputs": [
        {
          "output_type": "stream",
          "name": "stdout",
          "text": [
            "Model: \"sequential\"\n",
            "_________________________________________________________________\n",
            " Layer (type)                Output Shape              Param #   \n",
            "=================================================================\n",
            " flatten_1 (Flatten)         (None, 784)               0         \n",
            "                                                                 \n",
            " dense_5 (Dense)             (None, 300)               235500    \n",
            "                                                                 \n",
            " dense_6 (Dense)             (None, 100)               30100     \n",
            "                                                                 \n",
            " dense_7 (Dense)             (None, 10)                1010      \n",
            "                                                                 \n",
            "=================================================================\n",
            "Total params: 266610 (1.02 MB)\n",
            "Trainable params: 266610 (1.02 MB)\n",
            "Non-trainable params: 0 (0.00 Byte)\n",
            "_________________________________________________________________\n"
          ]
        }
      ]
    },
    {
      "cell_type": "markdown",
      "source": [
        "# Dropout"
      ],
      "metadata": {
        "id": "OEG56Np7Vzaf"
      }
    },
    {
      "cell_type": "code",
      "source": [
        "model  = keras.models.Sequential(\n",
        "    [\n",
        "        keras.layers.Flatten(input_shape = [28,28]),\n",
        "        keras.layers.Dropout(rate=0.2),\n",
        "        keras.layers.Dense(300, activation = \"relu\", kernel_initializer = \"he_normal\"),\n",
        "        keras.layers.Dropout(rate=0.2),\n",
        "        keras.layers.Dense(100, activation = \"relu\", kernel_initializer = \"he_normal\"),\n",
        "        keras.layers.Dropout(rate=0.2),\n",
        "        keras.layers.Dense(10, activation=\"softmax\"),\n",
        "    ]\n",
        ")"
      ],
      "metadata": {
        "id": "Ev-9-QwXVwwD"
      },
      "execution_count": null,
      "outputs": []
    },
    {
      "cell_type": "code",
      "source": [
        "model.summary()"
      ],
      "metadata": {
        "colab": {
          "base_uri": "https://localhost:8080/"
        },
        "id": "UaYKvQrcXR0L",
        "outputId": "ff55618a-445b-448c-fb0f-8f10f3a774a9"
      },
      "execution_count": null,
      "outputs": [
        {
          "output_type": "stream",
          "name": "stdout",
          "text": [
            "Model: \"sequential_1\"\n",
            "_________________________________________________________________\n",
            " Layer (type)                Output Shape              Param #   \n",
            "=================================================================\n",
            " flatten_2 (Flatten)         (None, 784)               0         \n",
            "                                                                 \n",
            " dropout (Dropout)           (None, 784)               0         \n",
            "                                                                 \n",
            " dense_8 (Dense)             (None, 300)               235500    \n",
            "                                                                 \n",
            " dropout_1 (Dropout)         (None, 300)               0         \n",
            "                                                                 \n",
            " dense_9 (Dense)             (None, 100)               30100     \n",
            "                                                                 \n",
            " dropout_2 (Dropout)         (None, 100)               0         \n",
            "                                                                 \n",
            " dense_10 (Dense)            (None, 10)                1010      \n",
            "                                                                 \n",
            "=================================================================\n",
            "Total params: 266610 (1.02 MB)\n",
            "Trainable params: 266610 (1.02 MB)\n",
            "Non-trainable params: 0 (0.00 Byte)\n",
            "_________________________________________________________________\n"
          ]
        }
      ]
    },
    {
      "cell_type": "code",
      "source": [],
      "metadata": {
        "id": "jT0yUWrQXTLB"
      },
      "execution_count": null,
      "outputs": []
    }
  ]
}