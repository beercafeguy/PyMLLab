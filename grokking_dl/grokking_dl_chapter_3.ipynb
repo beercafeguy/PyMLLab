{
  "nbformat": 4,
  "nbformat_minor": 0,
  "metadata": {
    "colab": {
      "provenance": [],
      "authorship_tag": "ABX9TyOrIzvwJ+Dact2GHvFpscYQ",
      "include_colab_link": true
    },
    "kernelspec": {
      "name": "python3",
      "display_name": "Python 3"
    },
    "language_info": {
      "name": "python"
    }
  },
  "cells": [
    {
      "cell_type": "markdown",
      "metadata": {
        "id": "view-in-github",
        "colab_type": "text"
      },
      "source": [
        "<a href=\"https://colab.research.google.com/github/beercafeguy/PyMLLab/blob/master/grokking_dl/grokking_dl_chapter_3.ipynb\" target=\"_parent\"><img src=\"https://colab.research.google.com/assets/colab-badge.svg\" alt=\"Open In Colab\"/></a>"
      ]
    },
    {
      "cell_type": "code",
      "execution_count": 1,
      "metadata": {
        "id": "c3yVe7WabWCD"
      },
      "outputs": [],
      "source": [
        "weight = 0.1\n",
        "\n",
        "def neural_network(input, weight):\n",
        "  prediction = input * weight\n",
        "  return prediction"
      ]
    },
    {
      "cell_type": "code",
      "source": [
        "number_of_toes = [8.5,9.5,10,9]\n",
        "\n",
        "input = number_of_toes[0]\n",
        "\n",
        "pred = neural_network(input,weight)\n",
        "\n",
        "print(pred)"
      ],
      "metadata": {
        "colab": {
          "base_uri": "https://localhost:8080/"
        },
        "id": "YI2b2PmkbhoA",
        "outputId": "68ce9d3b-5860-47ef-d705-df46daddde93"
      },
      "execution_count": 2,
      "outputs": [
        {
          "output_type": "stream",
          "name": "stdout",
          "text": [
            "0.8500000000000001\n"
          ]
        }
      ]
    },
    {
      "cell_type": "code",
      "source": [
        "# multiple input neural network"
      ],
      "metadata": {
        "id": "fg5R0h4ObvvN"
      },
      "execution_count": 3,
      "outputs": []
    },
    {
      "cell_type": "code",
      "source": [
        "\n",
        "# This is a weighted sum (dot product)\n",
        "def w_sum(x,w):\n",
        "  assert(len(x) == len(w))\n",
        "  return sum([a*b for a,b in zip(x,w)]) # W_transpose * X"
      ],
      "metadata": {
        "id": "jymiVLhrdNbx"
      },
      "execution_count": 9,
      "outputs": []
    },
    {
      "cell_type": "markdown",
      "source": [
        "![picture](https://drive.google.com/file/d/1bH_pll6Y0ZRujdoeNdxug9-bfxSX8I-e/view?usp=drive_link)"
      ],
      "metadata": {
        "id": "39_cCfTSfPpX"
      }
    },
    {
      "cell_type": "code",
      "source": [
        "weights = [0.1,0.2,0]\n",
        "\n",
        "def neural_network(input,weights):\n",
        "  pred = w_sum(input,weights)\n",
        "  return pred"
      ],
      "metadata": {
        "id": "OM8-qWhAc8D0"
      },
      "execution_count": 10,
      "outputs": []
    },
    {
      "cell_type": "code",
      "source": [
        "toes = [8.5, 9.5, 9.9, 9.0]\n",
        "wlrec = [0.65, 0.8, 0.8, 0.9]\n",
        "nfans = [1.2, 1.3, 0.5, 1.0]"
      ],
      "metadata": {
        "id": "I6s3BK21dG-r"
      },
      "execution_count": 11,
      "outputs": []
    },
    {
      "cell_type": "code",
      "source": [
        "\n",
        "input_1 = [toes[0],wlrec[0],nfans[0]]\n",
        "\n",
        "pred = neural_network(input_1,weights)\n",
        "print(pred)"
      ],
      "metadata": {
        "colab": {
          "base_uri": "https://localhost:8080/"
        },
        "id": "Q_zIcMBGdXnb",
        "outputId": "253ef5d0-9ad4-48a7-81be-43e21477c1f9"
      },
      "execution_count": 12,
      "outputs": [
        {
          "output_type": "stream",
          "name": "stdout",
          "text": [
            "0.9800000000000001\n"
          ]
        }
      ]
    },
    {
      "cell_type": "code",
      "source": [
        "from statistics import mean\n",
        "\n",
        "def elementwise_multiplication(vec_a,vec_b):\n",
        "  return [a*b for a,b in zip(vec_a,vec_b)]\n",
        "\n",
        "\n",
        "def elementwise_addition(vec_a,vec_b):\n",
        "  return [a+b for a,b in zip(vec_a,vec_b)]\n",
        "def vector_sum(vec_a):\n",
        "  return sum(vec_a)\n",
        "\n",
        "def vector_average(vec_a):\n",
        "  return mean(vec_a)"
      ],
      "metadata": {
        "id": "dfMDfYjwdipP"
      },
      "execution_count": 14,
      "outputs": []
    },
    {
      "cell_type": "code",
      "source": [
        "vector_average([1,2,3])"
      ],
      "metadata": {
        "colab": {
          "base_uri": "https://localhost:8080/"
        },
        "id": "BoooNZKugXVo",
        "outputId": "77605c2d-6a85-4cc1-b23b-dce16c523926"
      },
      "execution_count": 15,
      "outputs": [
        {
          "output_type": "execute_result",
          "data": {
            "text/plain": [
              "2"
            ]
          },
          "metadata": {},
          "execution_count": 15
        }
      ]
    },
    {
      "cell_type": "code",
      "source": [
        "def w_sum(x,w):\n",
        "  assert(len(x) == len(w))\n",
        "  return vector_sum(elementwise_multiplication(x,w))"
      ],
      "metadata": {
        "id": "ZNCIhKx7gdK5"
      },
      "execution_count": 16,
      "outputs": []
    },
    {
      "cell_type": "code",
      "source": [
        "pred = neural_network(input_1,weights)\n",
        "print(pred)"
      ],
      "metadata": {
        "colab": {
          "base_uri": "https://localhost:8080/"
        },
        "id": "3WDlNAm-glLt",
        "outputId": "953c4a9e-9cd7-4b16-b43e-c3e57599064a"
      },
      "execution_count": 17,
      "outputs": [
        {
          "output_type": "stream",
          "name": "stdout",
          "text": [
            "0.9800000000000001\n"
          ]
        }
      ]
    },
    {
      "cell_type": "markdown",
      "source": [
        "### **implement the same logic in numpy**"
      ],
      "metadata": {
        "id": "xt6qDPymm6EE"
      }
    },
    {
      "cell_type": "code",
      "source": [
        "import numpy as np"
      ],
      "metadata": {
        "id": "tG243sdQmU0H"
      },
      "execution_count": 19,
      "outputs": []
    },
    {
      "cell_type": "code",
      "source": [
        "weights = np.array([0.1,0.2,0])\n",
        "\n",
        "def neural_network(input,weights):\n",
        "  pred = input.dot(weights)\n",
        "  return pred"
      ],
      "metadata": {
        "id": "_BVScFFOmV9k"
      },
      "execution_count": 20,
      "outputs": []
    },
    {
      "cell_type": "code",
      "source": [
        "toes = np.array([8.5, 9.5, 9.9, 9.0])\n",
        "wlrec = np.array([0.65, 0.8, 0.8, 0.9])\n",
        "nfans = np.array([1.2, 1.3, 0.5, 1.0])\n",
        "\n",
        "input = np.array([toes[0],wlrec[0],nfans[0]])\n",
        "\n",
        "pred = neural_network(input, weights)\n",
        "print(pred)"
      ],
      "metadata": {
        "colab": {
          "base_uri": "https://localhost:8080/"
        },
        "id": "P2lVl2E9mlRU",
        "outputId": "7144ecf5-fab1-4e70-98f2-44a2688b393f"
      },
      "execution_count": 22,
      "outputs": [
        {
          "output_type": "stream",
          "name": "stdout",
          "text": [
            "0.9800000000000001\n"
          ]
        }
      ]
    },
    {
      "cell_type": "code",
      "source": [],
      "metadata": {
        "id": "vRaynhgMm0Fd"
      },
      "execution_count": null,
      "outputs": []
    }
  ]
}